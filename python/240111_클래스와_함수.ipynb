{
  "nbformat": 4,
  "nbformat_minor": 0,
  "metadata": {
    "colab": {
      "provenance": [],
      "collapsed_sections": [
        "vJ6Pt5Q4Ngbx",
        "DwzAraM2MjGT",
        "v995x4adP--t"
      ]
    },
    "kernelspec": {
      "name": "python3",
      "display_name": "Python 3"
    },
    "language_info": {
      "name": "python"
    }
  },
  "cells": [
    {
      "cell_type": "markdown",
      "source": [
        "# 함수의 이름은 변수다"
      ],
      "metadata": {
        "id": "AbtXOMVlCmjK"
      }
    },
    {
      "cell_type": "code",
      "execution_count": null,
      "metadata": {
        "id": "ZLjzbb-l4sBJ"
      },
      "outputs": [],
      "source": [
        "def hello():\n",
        "    '''\n",
        "    DocString\n",
        "    주석은 여기 답니다.\n",
        "    나중에 help로 함수 검색하면 이 설명문이 뜨게 됨\n",
        "    '''\n",
        "    pass"
      ]
    },
    {
      "cell_type": "code",
      "source": [
        "print(type(hello)) # 함수도 class다"
      ],
      "metadata": {
        "colab": {
          "base_uri": "https://localhost:8080/"
        },
        "id": "2r4olI6W5rvT",
        "outputId": "b5da2e7e-cd4f-4f02-a003-64829458bac5"
      },
      "execution_count": null,
      "outputs": [
        {
          "output_type": "stream",
          "name": "stdout",
          "text": [
            "<class 'function'>\n"
          ]
        }
      ]
    },
    {
      "cell_type": "code",
      "source": [
        "a = 10\n",
        "# a는 int의 인스턴스\n",
        "# hello도 클래스의 인스턴스"
      ],
      "metadata": {
        "id": "cKFG13Vi5vUI"
      },
      "execution_count": null,
      "outputs": []
    },
    {
      "cell_type": "code",
      "source": [
        "print('hello orm') # print는 built-in function"
      ],
      "metadata": {
        "colab": {
          "base_uri": "https://localhost:8080/"
        },
        "id": "-S6C_Q1U6IDg",
        "outputId": "454eb90f-d3e4-42a3-8f63-cf2bad111cee"
      },
      "execution_count": null,
      "outputs": [
        {
          "output_type": "stream",
          "name": "stdout",
          "text": [
            "hello orm\n"
          ]
        }
      ]
    },
    {
      "cell_type": "code",
      "source": [
        "l = [print, print, print]\n",
        "l[2]('hello orm')"
      ],
      "metadata": {
        "colab": {
          "base_uri": "https://localhost:8080/"
        },
        "id": "TUqFLhGR6eUx",
        "outputId": "6f6f5225-4e9d-46ec-c4fc-e40a14731218"
      },
      "execution_count": null,
      "outputs": [
        {
          "output_type": "stream",
          "name": "stdout",
          "text": [
            "hello orm\n"
          ]
        }
      ]
    },
    {
      "cell_type": "code",
      "source": [
        "hojun = print\n",
        "hojun('hello world')"
      ],
      "metadata": {
        "colab": {
          "base_uri": "https://localhost:8080/"
        },
        "id": "wYvbOssf6jCI",
        "outputId": "19ccb952-49dd-400a-e1af-028f9992571d"
      },
      "execution_count": null,
      "outputs": [
        {
          "output_type": "stream",
          "name": "stdout",
          "text": [
            "hello world\n"
          ]
        }
      ]
    },
    {
      "cell_type": "code",
      "source": [
        "id(hojun), id(print)"
      ],
      "metadata": {
        "colab": {
          "base_uri": "https://localhost:8080/"
        },
        "id": "MUxVbXzY9KgG",
        "outputId": "40bb0223-5f8d-4608-d4be-e7fd9444a93b"
      },
      "execution_count": null,
      "outputs": [
        {
          "output_type": "execute_result",
          "data": {
            "text/plain": [
              "(134410537375024, 134410537375024)"
            ]
          },
          "metadata": {},
          "execution_count": 9
        }
      ]
    },
    {
      "cell_type": "markdown",
      "source": [
        "```\n",
        "hojun -> print -> 함수\n",
        "이 아니라\n",
        "hojun -> 함수 <- print\n",
        "로 서로 같은 값을 가리키는 형태가 되는것.\n",
        "```"
      ],
      "metadata": {
        "id": "sTR-TWY97ICX"
      }
    },
    {
      "cell_type": "markdown",
      "source": [
        "# lambda의 응용"
      ],
      "metadata": {
        "id": "72pC68qUCqAf"
      }
    },
    {
      "cell_type": "markdown",
      "source": [
        "## Top3 - 1 map에서 사용!"
      ],
      "metadata": {
        "id": "k_4UqzncIYOT"
      }
    },
    {
      "cell_type": "code",
      "source": [
        "add = lambda x, y: x + y"
      ],
      "metadata": {
        "id": "9q-rfvX56nVt"
      },
      "execution_count": null,
      "outputs": []
    },
    {
      "cell_type": "markdown",
      "source": [
        "- 코드가 이해가 안된다 -> 이해하려고 노력하는 것 보다는\n",
        "- 예제를 30개정도 만들어보는것을 권합니다.\n",
        "- lambda 어려우면? 30개 만들어보세요.\n",
        "- **lambda + 3항 연산자** 많이 사용합니다.\n"
      ],
      "metadata": {
        "id": "BDeeYGyL8FQw"
      }
    },
    {
      "cell_type": "code",
      "source": [
        "# 람다 + 3항연산자 많이 사용하니까 익숙해지자~\n",
        "x = 10\n",
        "y = True if x % 2 == 0 else False\n",
        "\n",
        "y"
      ],
      "metadata": {
        "colab": {
          "base_uri": "https://localhost:8080/"
        },
        "id": "LMCKrXS_9Vqv",
        "outputId": "f43b604c-2a5b-468e-95c9-06d39e350749"
      },
      "execution_count": null,
      "outputs": [
        {
          "output_type": "execute_result",
          "data": {
            "text/plain": [
              "True"
            ]
          },
          "metadata": {},
          "execution_count": 12
        }
      ]
    },
    {
      "cell_type": "code",
      "source": [
        "def 제곱(x):\n",
        "    return x ** 2\n",
        "\n",
        "list(map(제곱, [1, 2, 3, 4]))"
      ],
      "metadata": {
        "colab": {
          "base_uri": "https://localhost:8080/"
        },
        "id": "rF_Kjt_g9jlH",
        "outputId": "97d15db0-f20b-43d7-8ea3-78547a15d518"
      },
      "execution_count": null,
      "outputs": [
        {
          "output_type": "execute_result",
          "data": {
            "text/plain": [
              "[1, 4, 9, 16]"
            ]
          },
          "metadata": {},
          "execution_count": 13
        }
      ]
    },
    {
      "cell_type": "code",
      "source": [
        "list(map(lambda x: x**2, [1, 2, 3, 4]))"
      ],
      "metadata": {
        "colab": {
          "base_uri": "https://localhost:8080/"
        },
        "id": "BXTcpEFO9z0H",
        "outputId": "f8f7854f-6000-4f78-a41d-391be623f0e3"
      },
      "execution_count": null,
      "outputs": [
        {
          "output_type": "execute_result",
          "data": {
            "text/plain": [
              "[1, 4, 9, 16]"
            ]
          },
          "metadata": {},
          "execution_count": 14
        }
      ]
    },
    {
      "cell_type": "markdown",
      "source": [
        "- lambda와 함수 둘 다 실무에서 사용한다.\n",
        "- 재사용 하지 않을것이면 lambda를 사용!\n",
        "- lambda를 좀 더 많이 사용하긴 한다.\n",
        "- 수식이 복잡해지면 재사용과 별개로 lambda를 사용하면 가독성이 떨어진다.  \n",
        " -> 이럴때에는 함수로 빼기도 합니다."
      ],
      "metadata": {
        "id": "Bcmm0WnX-AQ_"
      }
    },
    {
      "cell_type": "code",
      "source": [
        "# 마스킹, (= 필터)\n",
        "list(map(lambda x: True if x % 2 == 0 else False, [1, 2, 3, 4]))"
      ],
      "metadata": {
        "colab": {
          "base_uri": "https://localhost:8080/"
        },
        "id": "vPI72ieJ-jVn",
        "outputId": "678da925-dbc1-4641-ebd0-7863b3db32cf"
      },
      "execution_count": null,
      "outputs": [
        {
          "output_type": "execute_result",
          "data": {
            "text/plain": [
              "[False, True, False, True]"
            ]
          },
          "metadata": {},
          "execution_count": 15
        }
      ]
    },
    {
      "cell_type": "code",
      "source": [
        "# 알고리즘 문제에서\n",
        "# 얼마나 효율적인지만 봐주시고, 이해는 못하셔도 괜찮습니다.\n",
        "# 복습 X\n",
        "\n",
        "# [True, False, False, False, True]\n",
        "# 점과 점, 선과 선 사이의 길이 구할때\n",
        "# * - - - *\n",
        "# 에라토스테네스의 체(마스킹이 얼마나 유용한지 알 수 있죠.)"
      ],
      "metadata": {
        "id": "6gaJ1Spf_KFC"
      },
      "execution_count": null,
      "outputs": []
    },
    {
      "cell_type": "code",
      "source": [
        "# 이해하지 않으셔도 됩니다.\n",
        "# 복습 X\n",
        "# 지금은 얼마나 마스킹한 값이 효율적인지를 말씀드리기 위한 코드일 뿐입니다.\n",
        "# 30이 소수이냐?\n",
        "\n",
        "for i in range(2, 31):\n",
        "    if 101 % i == 0:\n",
        "        print('소수아님!')\n",
        "        break\n",
        "else: # else 대신 then으로 하자라는 논의가 활발했습니다. => 그러나 else가 이겼습니다.\n",
        "    print('소수임')"
      ],
      "metadata": {
        "colab": {
          "base_uri": "https://localhost:8080/"
        },
        "id": "3k4md75bF6_-",
        "outputId": "2780d2c0-f6f8-42bd-da7f-28a19d29ddf2"
      },
      "execution_count": null,
      "outputs": [
        {
          "output_type": "stream",
          "name": "stdout",
          "text": [
            "소수임\n"
          ]
        }
      ]
    },
    {
      "cell_type": "markdown",
      "source": [
        "## Top3 - 2 filter에서 사용!"
      ],
      "metadata": {
        "id": "CngcrsRIIiYy"
      }
    },
    {
      "cell_type": "code",
      "source": [
        "# filter는 True인것만 출력\n",
        "list(filter(lambda x: x % 2 == 0, range(100)))"
      ],
      "metadata": {
        "id": "5i0-U3KnFa_d"
      },
      "execution_count": null,
      "outputs": []
    },
    {
      "cell_type": "code",
      "source": [
        "list(filter(lambda x: x > 50 and x < 80, range(100)))"
      ],
      "metadata": {
        "colab": {
          "base_uri": "https://localhost:8080/"
        },
        "id": "9NCieN-fGb8y",
        "outputId": "809d80a3-b4e9-4993-c1b0-f9de35189c33"
      },
      "execution_count": null,
      "outputs": [
        {
          "output_type": "execute_result",
          "data": {
            "text/plain": [
              "[51,\n",
              " 52,\n",
              " 53,\n",
              " 54,\n",
              " 55,\n",
              " 56,\n",
              " 57,\n",
              " 58,\n",
              " 59,\n",
              " 60,\n",
              " 61,\n",
              " 62,\n",
              " 63,\n",
              " 64,\n",
              " 65,\n",
              " 66,\n",
              " 67,\n",
              " 68,\n",
              " 69,\n",
              " 70,\n",
              " 71,\n",
              " 72,\n",
              " 73,\n",
              " 74,\n",
              " 75,\n",
              " 76,\n",
              " 77,\n",
              " 78,\n",
              " 79]"
            ]
          },
          "metadata": {},
          "execution_count": 19
        }
      ]
    },
    {
      "cell_type": "code",
      "source": [
        "list(filter(lambda x: True if x % 3 == 0 or x % 5 == 0 else False, range(100)))"
      ],
      "metadata": {
        "id": "iqPO2SMpGg8Y"
      },
      "execution_count": null,
      "outputs": []
    },
    {
      "cell_type": "code",
      "source": [
        "# list(filter(lambda x: x % 2 == 0, range(100)))\n",
        "list(filter(lambda x: x % 2, range(100))) # 홀수만?!\n",
        "\n",
        "# [0, 1, 2, 3, 4, 5, 6, 7, 8, 9]\n",
        "# x == 0일때 => lambda x: x % 2 => 0 => False로 평가!\n",
        "# x == 1일때 => lambda x: x % 2 => 1 => True로 평가!\n",
        "# x == 2일때 => lambda x: x % 2 => 0\n",
        "# x == 3일때 => lambda x: x % 2 => 1\n",
        "# x == 4일때 => lambda x: x % 2 => 0\n",
        "# x == 5일때 => lambda x: x % 2 => 1\n",
        "# x == 6일때 => lambda x: x % 2 => 0"
      ],
      "metadata": {
        "id": "fvOmrXRoG4EO"
      },
      "execution_count": null,
      "outputs": []
    },
    {
      "cell_type": "markdown",
      "source": [
        "와 사람들 머리 겁나 좋다 ㅋㅋㅋㅋ  \n",
        "filter는 True만 반환해주니까 나머지가 1인것(홀수)만 출력됨."
      ],
      "metadata": {
        "id": "k9KmRIzHH7fI"
      }
    },
    {
      "cell_type": "code",
      "source": [
        "test = lambda i:i % 2 == 0\n",
        "[test(i) for i in range(10)]"
      ],
      "metadata": {
        "colab": {
          "base_uri": "https://localhost:8080/"
        },
        "id": "yHwdo4U9KsXX",
        "outputId": "49c7af34-cae8-405e-e5cf-bc3729cf9cf3"
      },
      "execution_count": null,
      "outputs": [
        {
          "output_type": "execute_result",
          "data": {
            "text/plain": [
              "[True, False, True, False, True, False, True, False, True, False]"
            ]
          },
          "metadata": {},
          "execution_count": 26
        }
      ]
    },
    {
      "cell_type": "markdown",
      "source": [
        "## Top3 - 3 sorted에서 사용!"
      ],
      "metadata": {
        "id": "DS_0DMkGH9ex"
      }
    },
    {
      "cell_type": "code",
      "source": [
        "l = [10, 20, 5, 4, 22, 32, 5, 9, 11]\n",
        "l.sort() # sort를 자주 사용하진 않습니다. 원본을 변경시키기 때문.\n",
        "l"
      ],
      "metadata": {
        "colab": {
          "base_uri": "https://localhost:8080/"
        },
        "id": "mMgSOCUhIn3K",
        "outputId": "bfe084c2-8908-4f9e-f3ce-ae35b07c7190"
      },
      "execution_count": null,
      "outputs": [
        {
          "output_type": "execute_result",
          "data": {
            "text/plain": [
              "[4, 5, 5, 9, 10, 11, 20, 22, 32]"
            ]
          },
          "metadata": {},
          "execution_count": 23
        }
      ]
    },
    {
      "cell_type": "code",
      "source": [
        "l = [10, 20, 5, 4, 22, 32, 5, 9, 11]\n",
        "sorted(l) # sorted의 return값이 정렬된 값!\n",
        "l # l은 그대로입니다! 그래서 많이 사용함"
      ],
      "metadata": {
        "colab": {
          "base_uri": "https://localhost:8080/"
        },
        "id": "lJd059l5Ivjc",
        "outputId": "f1d6d878-ec76-4d25-db3e-4e3389c837f3"
      },
      "execution_count": null,
      "outputs": [
        {
          "output_type": "execute_result",
          "data": {
            "text/plain": [
              "[10, 20, 5, 4, 22, 32, 5, 9, 11]"
            ]
          },
          "metadata": {},
          "execution_count": 25
        }
      ]
    },
    {
      "cell_type": "code",
      "source": [
        "sorted() # key, reverse 옵션을 정말 정말 많이 사용합니다!\n",
        "# 알고리즘 문제에서 단골 문제이고, sorted 문제는 1문제는 거의 출제된다고 보면 된다.\n",
        "# 최댓값, 최솟값\n",
        "# https://codingdojang.com/scode/408?answer_mode=hide 이것도 최솟값!\n",
        "# https://school.programmers.co.kr/learn/courses/30/lessons/120835 이것도 정렬 문제입니다!"
      ],
      "metadata": {
        "id": "h3Dc3q2oQcHo"
      },
      "execution_count": null,
      "outputs": []
    },
    {
      "cell_type": "code",
      "source": [
        "# 아래와 같은 형식으로 반별 점수가 주어진다고 하겠습니다.\n",
        "\n",
        "반별점수 = [\n",
        "    ['이름', '국어', '영어', '수학'],\n",
        "    ['이름', '국어', '영어', '수학'],\n",
        "    ['이름', '국어', '영어', '수학'],\n",
        "    ['이름', '국어', '영어', '수학'],\n",
        "]"
      ],
      "metadata": {
        "id": "SGoUi_IbQgoR"
      },
      "execution_count": null,
      "outputs": []
    },
    {
      "cell_type": "code",
      "source": [
        "반별점수 = [\n",
        "    ['홍길동', 30, 55, 22],\n",
        "    ['홍춘향', 55, 60, 73],\n",
        "    ['이철수', 32, 65, 68],\n",
        "    ['이호준', 92, 11, 95],\n",
        "]"
      ],
      "metadata": {
        "id": "G621IsbrQkPk"
      },
      "execution_count": null,
      "outputs": []
    },
    {
      "cell_type": "code",
      "source": [
        "sorted(반별점수) # 값이나 0번째 값 기준으로 정렬합니다."
      ],
      "metadata": {
        "colab": {
          "base_uri": "https://localhost:8080/"
        },
        "id": "fmtV6K8gQl6B",
        "outputId": "522b17cb-7a2a-423d-de1c-cc2833ed41b4"
      },
      "execution_count": null,
      "outputs": [
        {
          "output_type": "execute_result",
          "data": {
            "text/plain": [
              "[['이철수', 32, 65, 68],\n",
              " ['이호준', 92, 11, 95],\n",
              " ['홍길동', 30, 55, 22],\n",
              " ['홍춘향', 55, 60, 73]]"
            ]
          },
          "metadata": {},
          "execution_count": 36
        }
      ]
    },
    {
      "cell_type": "code",
      "source": [
        "def 함수(x): # ['이철수', 32, 65, 68]\n",
        "    return x[3] # 68\n",
        "\n",
        "sorted(반별점수, key=함수) # 가장 중요한 것은 이 key함수의 return 값대로 정렬한다는 것입니다!"
      ],
      "metadata": {
        "id": "qkPfAVDhQoje"
      },
      "execution_count": null,
      "outputs": []
    },
    {
      "cell_type": "code",
      "source": [
        "# [['이철수', 32, 65, 68] => 68,\n",
        "#  ['이호준', 92, 11, 95] => 95,\n",
        "#  ['홍길동', 30, 55, 22] => 22, # 맨 앞으로 보내야겠네?\n",
        "#  ['홍춘향', 55, 60, 73] => 73]"
      ],
      "metadata": {
        "id": "83ocXuNtQrQZ"
      },
      "execution_count": null,
      "outputs": []
    },
    {
      "cell_type": "code",
      "source": [
        "# def 함수(x):\n",
        "#     return x[3]\n",
        "\n",
        "sorted(반별점수, key=lambda x: x[3]) # 가장 중요한 것은 이 key함수의 return 값대로 정렬한다는 것입니다!"
      ],
      "metadata": {
        "id": "3VhTJV-eQtwz"
      },
      "execution_count": null,
      "outputs": []
    },
    {
      "cell_type": "code",
      "source": [
        "반별점수2 = [\n",
        "    [\"짱구\", 30, 55, 22],\n",
        "    [\"맹구\", 55, 60, 73],\n",
        "    [\"철수\", 32, 65, 68],\n",
        "    [\"유리\", 92, 11, 95],\n",
        "]\n",
        "\n",
        "sorted(반별점수) # 짱구, 맹구, 철수, 유리 => ㄱ, ㄴ, ㄷ, ㄹ, ㅁ, ㅂ 순으로 정렬합니다.\n",
        "# 만약에 한글로 정렬을 하셨을 경우 https://jjeong.tistory.com/696 유니코드표 순서대로 정렬합니다."
      ],
      "metadata": {
        "id": "YJ0gH8ZhQvzq"
      },
      "execution_count": null,
      "outputs": []
    },
    {
      "cell_type": "code",
      "source": [
        "# 문제: 영어 점수대로 출력해주세요!\n",
        "# 정답:\n",
        "sorted(반별점수, key = lambda x: x[2])"
      ],
      "metadata": {
        "colab": {
          "base_uri": "https://localhost:8080/"
        },
        "id": "ORfulvhpQ6FU",
        "outputId": "972e1727-a2dc-4ecf-d2be-7de4449976a3"
      },
      "execution_count": null,
      "outputs": [
        {
          "output_type": "execute_result",
          "data": {
            "text/plain": [
              "[['이호준', 92, 11, 95],\n",
              " ['홍길동', 30, 55, 22],\n",
              " ['홍춘향', 55, 60, 73],\n",
              " ['이철수', 32, 65, 68]]"
            ]
          },
          "metadata": {},
          "execution_count": 32
        }
      ]
    },
    {
      "cell_type": "code",
      "source": [
        "# 문제: 국, 영, 수 평균 점수대로 출력해주세요!\n",
        "# 정답:\n",
        "# 나눌 필요 없다.\n",
        "sorted(반별점수, key = lambda x: x[1] + x[2] + x[3])\n",
        "# 높은 순서대로 정렬(내림차순)\n",
        "sorted(반별점수, key = lambda x: x[1] + x[2] + x[3], reverse=True)"
      ],
      "metadata": {
        "colab": {
          "base_uri": "https://localhost:8080/"
        },
        "id": "VZTbtuTvREII",
        "outputId": "399686e6-373a-4f88-bb81-64535b775f17"
      },
      "execution_count": null,
      "outputs": [
        {
          "output_type": "execute_result",
          "data": {
            "text/plain": [
              "[['이호준', 92, 11, 95],\n",
              " ['홍춘향', 55, 60, 73],\n",
              " ['이철수', 32, 65, 68],\n",
              " ['홍길동', 30, 55, 22]]"
            ]
          },
          "metadata": {},
          "execution_count": 38
        }
      ]
    },
    {
      "cell_type": "code",
      "source": [
        "# 문제가 살짝 어려워집니다.\n",
        "# 동점자인 경우 수학점수를 우선순위로 두겠습니다\n",
        "반별점수 = [\n",
        "    ['홍길동', 50, 50, 50],\n",
        "    ['이철수', 45, 50, 55],\n",
        "    ['홍춘향', 60, 35, 75],\n",
        "    ['이호준', 92, 11, 95],\n",
        "]"
      ],
      "metadata": {
        "id": "SqM2PA5YRlUO"
      },
      "execution_count": null,
      "outputs": []
    },
    {
      "cell_type": "code",
      "source": [
        "sorted(반별점수, key = lambda x: (x[1] + x[2] + x[3], x[3]), reverse=True)"
      ],
      "metadata": {
        "colab": {
          "base_uri": "https://localhost:8080/"
        },
        "id": "Z7xAJE5qS6zV",
        "outputId": "6149fbf0-d5b0-4c93-ceef-e10e19893a20"
      },
      "execution_count": null,
      "outputs": [
        {
          "output_type": "execute_result",
          "data": {
            "text/plain": [
              "[['이호준', 92, 11, 95],\n",
              " ['홍춘향', 60, 35, 75],\n",
              " ['이철수', 45, 50, 55],\n",
              " ['홍길동', 50, 50, 50]]"
            ]
          },
          "metadata": {},
          "execution_count": 44
        }
      ]
    },
    {
      "cell_type": "markdown",
      "source": [
        "튜플로 (평균, 수학값)을 x로 주었다."
      ],
      "metadata": {
        "id": "xOzw9X6mTfCY"
      }
    },
    {
      "cell_type": "code",
      "source": [
        "# 질의응답\n",
        "# 만약에 평균도 같고 수학 점수도 같은 경우 이름 가나다순으로 정렬하고 싶다면 어떤 방법\n",
        "sorted(반별점수, key=lambda x: (x[1] + x[2] + x[3], x[3], x[0]), reverse=True)"
      ],
      "metadata": {
        "id": "iPCNYaE1TbIm"
      },
      "execution_count": null,
      "outputs": []
    },
    {
      "cell_type": "code",
      "source": [
        "우편번호 = [\n",
        "    {\n",
        "        '주소': '경기도 용인시',\n",
        "        '우편번호': 321\n",
        "    },\n",
        "    {\n",
        "        '주소': '경기도 수원시',\n",
        "        '우편번호': 355\n",
        "    },\n",
        "    {\n",
        "        '주소': '제주특별자치도 제주시',\n",
        "        '우편번호': 333\n",
        "    }\n",
        "]\n",
        "\n",
        "# sorted(우편번호) #error, 비교를 할 수 없다!?\n",
        "sorted(우편번호, key=lambda x: x['우편번호'])\n",
        "\n",
        "# 우편번호 = [\n",
        "#     {\n",
        "#         '주소': '경기도 용인시',\n",
        "#         '우편번호': 321\n",
        "#     }, => 321\n",
        "#     {\n",
        "#         '주소': '경기도 수원시',\n",
        "#         '우편번호': 355\n",
        "#     }, => 355\n",
        "#     {\n",
        "#         '주소': '제주특별자치도 제주시',\n",
        "#         '우편번호': 333\n",
        "#     } => 333\n",
        "# ]"
      ],
      "metadata": {
        "colab": {
          "base_uri": "https://localhost:8080/"
        },
        "id": "4punzgewUFvK",
        "outputId": "c88c1b81-fdf9-4796-dee9-59a3f729e6c6"
      },
      "execution_count": null,
      "outputs": [
        {
          "output_type": "execute_result",
          "data": {
            "text/plain": [
              "[{'주소': '경기도 용인시', '우편번호': 321},\n",
              " {'주소': '제주특별자치도 제주시', '우편번호': 333},\n",
              " {'주소': '경기도 수원시', '우편번호': 355}]"
            ]
          },
          "metadata": {},
          "execution_count": 45
        }
      ]
    },
    {
      "cell_type": "code",
      "source": [
        "# 다음 입사문제(14년도)\n",
        "# 직선에 있는 점의 좌표입니다.\n",
        "# 점과 점 사이가 가장 짧은 점의 쌍을 출력하세요.\n",
        "\n",
        "s = [1, 3, 4, 8, 13, 17, 20]\n",
        "# 출력: (3, 4)\n",
        "\n",
        "s[1:]"
      ],
      "metadata": {
        "colab": {
          "base_uri": "https://localhost:8080/"
        },
        "id": "uCWUXojeVAWx",
        "outputId": "880c7274-fe4d-43b2-cd48-ae700dc891e7"
      },
      "execution_count": null,
      "outputs": [
        {
          "output_type": "execute_result",
          "data": {
            "text/plain": [
              "[3, 4, 8, 13, 17, 20]"
            ]
          },
          "metadata": {},
          "execution_count": 53
        }
      ]
    },
    {
      "cell_type": "code",
      "source": [
        "x = list(zip(s, s[1:]))"
      ],
      "metadata": {
        "id": "oSyVAGnpWFyL"
      },
      "execution_count": null,
      "outputs": []
    },
    {
      "cell_type": "code",
      "source": [
        "sorted(x, key = lambda x: x[1] - x[0])"
      ],
      "metadata": {
        "colab": {
          "base_uri": "https://localhost:8080/"
        },
        "id": "VZPwGXrCYJgs",
        "outputId": "452467c2-795c-4ca3-8c96-60265a9bc309"
      },
      "execution_count": null,
      "outputs": [
        {
          "output_type": "execute_result",
          "data": {
            "text/plain": [
              "[(3, 4), (1, 3), (17, 20), (4, 8), (13, 17), (8, 13)]"
            ]
          },
          "metadata": {},
          "execution_count": 56
        }
      ]
    },
    {
      "cell_type": "code",
      "source": [
        "# 복습 x\n",
        "# 호준 강사님이 자주 쓰는 코드!\n",
        "# keep만 해두세요\n",
        "# 이해가 되시는 분들만 이해해주세요.\n",
        "list(zip('hello', 'world'))"
      ],
      "metadata": {
        "colab": {
          "base_uri": "https://localhost:8080/"
        },
        "id": "QiLOC6vmWJ3_",
        "outputId": "268705dc-d87d-426a-a51d-4367f690d387"
      },
      "execution_count": null,
      "outputs": [
        {
          "output_type": "execute_result",
          "data": {
            "text/plain": [
              "[('h', 'w'), ('e', 'o'), ('l', 'r'), ('l', 'l'), ('o', 'd')]"
            ]
          },
          "metadata": {},
          "execution_count": 48
        }
      ]
    },
    {
      "cell_type": "code",
      "source": [
        "# 복습 x\n",
        "# 이건 제가 자주사용하는 코드 x\n",
        "list(enumerate(zip('hello', 'world')))"
      ],
      "metadata": {
        "colab": {
          "base_uri": "https://localhost:8080/"
        },
        "id": "TgfnNgtCWbVb",
        "outputId": "e99ac444-7a5a-444d-e766-870181d83499"
      },
      "execution_count": null,
      "outputs": [
        {
          "output_type": "execute_result",
          "data": {
            "text/plain": [
              "[(0, ('h', 'w')),\n",
              " (1, ('e', 'o')),\n",
              " (2, ('l', 'r')),\n",
              " (3, ('l', 'l')),\n",
              " (4, ('o', 'd'))]"
            ]
          },
          "metadata": {},
          "execution_count": 49
        }
      ]
    },
    {
      "cell_type": "code",
      "source": [
        "# 복습 x\n",
        "# 제너레이터를 만듭니다.(이게 자주 쓰는 방법)\n",
        "# 문법이 너무 어려움... 제 욕심이었습니다.\n",
        "# 제가 자주 사용하는 코드를 보여드리기 위함이었습니다.\n",
        "\n",
        "# 제너레이터는 심화과정에서 다시 하겠습니다.\n",
        "def gen():\n",
        "    i = 1\n",
        "    while True:\n",
        "        yield i\n",
        "        i += 1\n",
        "\n",
        "list(zip(gen(), 'hello', 'world'))"
      ],
      "metadata": {
        "colab": {
          "base_uri": "https://localhost:8080/"
        },
        "id": "b7KIHMNoWtms",
        "outputId": "58e97246-cd5a-4062-b6ac-e37c8e301e4d"
      },
      "execution_count": null,
      "outputs": [
        {
          "output_type": "execute_result",
          "data": {
            "text/plain": [
              "[(1, 'h', 'w'), (2, 'e', 'o'), (3, 'l', 'r'), (4, 'l', 'l'), (5, 'o', 'd')]"
            ]
          },
          "metadata": {},
          "execution_count": 57
        }
      ]
    },
    {
      "cell_type": "markdown",
      "source": [
        "# built-in function중에 하지 않은 것"
      ],
      "metadata": {
        "id": "U7INxWCQXDDf"
      }
    },
    {
      "cell_type": "markdown",
      "source": [
        "![image.png](data:image/png;base64,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)"
      ],
      "metadata": {
        "id": "wvB8-mCPZoh7"
      }
    },
    {
      "cell_type": "code",
      "source": [
        "chr(65) # 별표 0.1개"
      ],
      "metadata": {
        "colab": {
          "base_uri": "https://localhost:8080/",
          "height": 36
        },
        "id": "G23guEM6ZAS1",
        "outputId": "147827d9-65d4-4cde-f0a2-8abff1a087a3"
      },
      "execution_count": null,
      "outputs": [
        {
          "output_type": "execute_result",
          "data": {
            "text/plain": [
              "'A'"
            ],
            "application/vnd.google.colaboratory.intrinsic+json": {
              "type": "string"
            }
          },
          "metadata": {},
          "execution_count": 58
        }
      ]
    },
    {
      "cell_type": "code",
      "source": [
        "ord('A') # 별표 0.1개\n",
        "# 41인데 왜 65지?\n",
        "# 16진법 4 * 16^1 + 1 * 16^0 == 64 + 1 == 65"
      ],
      "metadata": {
        "colab": {
          "base_uri": "https://localhost:8080/"
        },
        "id": "p41tHq7VZ1jW",
        "outputId": "39fa7325-f4ca-4b49-c403-09d67516e12e"
      },
      "execution_count": null,
      "outputs": [
        {
          "output_type": "execute_result",
          "data": {
            "text/plain": [
              "65"
            ]
          },
          "metadata": {},
          "execution_count": 59
        }
      ]
    },
    {
      "cell_type": "code",
      "source": [
        "print(max([10, 20, 30]))\n",
        "print(min([10, 20, 30]))"
      ],
      "metadata": {
        "colab": {
          "base_uri": "https://localhost:8080/"
        },
        "id": "pyIBlZ33aCW-",
        "outputId": "8ec0ef8f-85f0-4754-e3a8-2728406e4b51"
      },
      "execution_count": null,
      "outputs": [
        {
          "output_type": "stream",
          "name": "stdout",
          "text": [
            "30\n",
            "10\n"
          ]
        }
      ]
    },
    {
      "cell_type": "code",
      "source": [
        "sum([10, 20, 30])\n",
        "sum([10, 20, 30], 100)\n",
        "sum([[1, 2, 3], [4, 5, 6]], [])"
      ],
      "metadata": {
        "colab": {
          "base_uri": "https://localhost:8080/"
        },
        "id": "O16ilqshaMWk",
        "outputId": "3f20b10a-6b42-41f3-f1b0-faf931fa1a6a"
      },
      "execution_count": null,
      "outputs": [
        {
          "output_type": "execute_result",
          "data": {
            "text/plain": [
              "[1, 2, 3, 4, 5, 6]"
            ]
          },
          "metadata": {},
          "execution_count": 61
        }
      ]
    },
    {
      "cell_type": "code",
      "source": [
        "sum([[1, 2, 3], [4, 5, 6]], [])\n",
        "\n",
        "# [] + [1, 2, 3] == [1, 2, 3]\n",
        "# [1, 2, 3] + [4, 5, 6] == [1, 2, 3, 4, 5, 6]"
      ],
      "metadata": {
        "colab": {
          "base_uri": "https://localhost:8080/"
        },
        "id": "XK5FKU8cab4m",
        "outputId": "a0e7e70f-163d-4452-f46d-5610bec8f7c5"
      },
      "execution_count": null,
      "outputs": [
        {
          "output_type": "execute_result",
          "data": {
            "text/plain": [
              "[1, 2, 3, 4, 5, 6]"
            ]
          },
          "metadata": {},
          "execution_count": 62
        }
      ]
    },
    {
      "cell_type": "code",
      "source": [
        "# 어디까지 이해하고 어디까지 암기해야할까?\n",
        "# 책 => 이런 내용이 안나옵니다. 실무에서 빈도가 많은지에 대해 나오지 않습니다.\n",
        "\n",
        "# 암기해야 할 것을 암기하고, 버릴 것은 버리면서 부지런히 가시면\n",
        "# 충분히 4~5개월 안에 여러분이 원하시는 수준으로 올라가실 수 있습니다."
      ],
      "metadata": {
        "id": "RxVaFt0ceLgM"
      },
      "execution_count": null,
      "outputs": []
    },
    {
      "cell_type": "code",
      "source": [
        "# 다른 값이 출력될 수도 있다는 것을 기억해야 합니다.\n",
        "a = 10\n",
        "print(a) # a.__str__\n",
        "a # a.__repr__\n",
        "repr(a)"
      ],
      "metadata": {
        "colab": {
          "base_uri": "https://localhost:8080/",
          "height": 53
        },
        "id": "u3bZO3FXeXxX",
        "outputId": "7ea96dbb-f18a-4678-cd73-3a7b17563982"
      },
      "execution_count": null,
      "outputs": [
        {
          "output_type": "stream",
          "name": "stdout",
          "text": [
            "10\n"
          ]
        },
        {
          "output_type": "execute_result",
          "data": {
            "text/plain": [
              "'10'"
            ],
            "application/vnd.google.colaboratory.intrinsic+json": {
              "type": "string"
            }
          },
          "metadata": {},
          "execution_count": 64
        }
      ]
    },
    {
      "cell_type": "code",
      "source": [
        "# 실제 Django에서 사용하는 코드\n",
        "\n",
        "class Notice:\n",
        "    '''\n",
        "    게시물 클래스\n",
        "    '''\n",
        "    def __init__(self, title, contents):\n",
        "        self.title = title\n",
        "        self.contents = contents\n",
        "\n",
        "    def __str__(self):\n",
        "        return self.title\n",
        "\n",
        "    def __repr__(self):\n",
        "        '''\n",
        "        repr이라는 값은 원래 정해져 있는 이름임.\n",
        "        강사님이 만드신게 아님.\n",
        "        '''\n",
        "        return f'{self.title}, {self.contents}'\n",
        "\n",
        "    def __len__(self):\n",
        "        '''\n",
        "        이것도 원래 있는 값\n",
        "        '''\n",
        "        return len(self.title + self.contents)\n",
        "\n",
        "게시물1 = Notice('파이썬 이렇게 어려운줄 몰랐다!', '내가 알던 파이썬이 아니야')\n",
        "게시물2 = Notice('Django는 이렇게 재밌을줄 몰랐다!', '파이썬을 잘 못해서 내가 할 수 있을까 생각이 들었는데...')"
      ],
      "metadata": {
        "id": "gpIPF-BCe9E-"
      },
      "execution_count": null,
      "outputs": []
    },
    {
      "cell_type": "code",
      "source": [
        "# print(게시물1) # 로그로 출력할 때\n",
        "# 게시물1\n",
        "repr(게시물1) # 그 자료형을 대표하는 문자열 취급"
      ],
      "metadata": {
        "colab": {
          "base_uri": "https://localhost:8080/",
          "height": 36
        },
        "id": "UEwLxrvDgLn2",
        "outputId": "385fecc2-f3d1-46f1-c638-485ff946d097"
      },
      "execution_count": null,
      "outputs": [
        {
          "output_type": "execute_result",
          "data": {
            "text/plain": [
              "'파이썬 이렇게 어려운줄 몰랐다!, 내가 알던 파이썬이 아니야'"
            ],
            "application/vnd.google.colaboratory.intrinsic+json": {
              "type": "string"
            }
          },
          "metadata": {},
          "execution_count": 69
        }
      ]
    },
    {
      "cell_type": "markdown",
      "source": [
        "- 현업에서 3.6 이상을 사용한다면 참 다행인겁니다.\n",
        "- 예를 들어 서비스를 만든지 조금 오래된 '요기요'등 다른 기업들은  \n",
        "Django를 2.x, 1.x 사용... 서비스가 너무 거대해져서 마이그레이션 힘듦.\n",
        "- 실무에 가셨을 때 2.x 버전도 어느정도는 알고 있으셔야 합니다.\n",
        "- match같은 문법은 아직 사용하지 못합니다. 한 2~3년 뒤에는 사용할 수 있을겁니다^^"
      ],
      "metadata": {
        "id": "NKOFRwYthT3n"
      }
    },
    {
      "cell_type": "markdown",
      "source": [
        "---"
      ],
      "metadata": {
        "id": "ADIVhZB2kvlW"
      }
    },
    {
      "cell_type": "code",
      "source": [
        "type(range(10)) # range라는 타입"
      ],
      "metadata": {
        "colab": {
          "base_uri": "https://localhost:8080/"
        },
        "id": "Kzvwy2oAgYmJ",
        "outputId": "a398d3bb-4847-488f-d3aa-2d72e5994652"
      },
      "execution_count": null,
      "outputs": [
        {
          "output_type": "execute_result",
          "data": {
            "text/plain": [
              "range"
            ]
          },
          "metadata": {},
          "execution_count": 71
        }
      ]
    },
    {
      "cell_type": "markdown",
      "source": [
        "```\n",
        "# 2.x\n",
        "range(10) => [0, 1, 2, 3, 4, 5, 6, 7, 8, 9]\n",
        "type(range(10)) => <type 'list'>\n",
        "```"
      ],
      "metadata": {
        "id": "XndBtZ-lg9Wa"
      }
    },
    {
      "cell_type": "markdown",
      "source": [
        "```\n",
        "# 문제: range(10000000) => 메모리를 10000000 갯수만큼 한번에 생성을 해야 합니다.\n",
        "# 이것을 개선하자는 얘기가 끊임없이 나왔습니다.\n",
        "# 2.x에서 나온 것이 xrange()입니다. 3.x range의 모티브. 이것은 특이하게 현재값과 다음값만을 가짐.\n",
        "# 메모리 공간은 2칸(실제로는 더 잡아먹습니다)이 돼서 효율적이게 바뀐것입니다.\n",
        "```\n",
        "```\n",
        "# 3.x에서 range(10000000)\n",
        "# class range로 바뀌게 된 것입니다.\n",
        "for i in range(1000): # 1000개의 메모리를 할당하는 것이 아님\n",
        "    pass\n",
        "```"
      ],
      "metadata": {
        "id": "8Sk6sQvtiPfO"
      }
    },
    {
      "cell_type": "code",
      "source": [
        "list(range(1000)) # 메모리에 큰 부하를 준다!!\n",
        "sum(range(1000))\n",
        "sum(list(range(1000)))"
      ],
      "metadata": {
        "id": "8wbQWlBJi8Qp"
      },
      "execution_count": null,
      "outputs": []
    },
    {
      "cell_type": "markdown",
      "source": [
        "---"
      ],
      "metadata": {
        "id": "zb2zlAWxktLv"
      }
    },
    {
      "cell_type": "code",
      "source": [
        "values = ['A', 'B', 'C', 'D']\n",
        "print(list(enumerate(values)))\n",
        "print(list(enumerate(values, 1)))\n",
        "# 시작값 넣는 것 많이 사용합니다. 기억해두세요."
      ],
      "metadata": {
        "colab": {
          "base_uri": "https://localhost:8080/"
        },
        "id": "dQGMD_DykpvL",
        "outputId": "d1d26f3a-93cf-4d79-b4e4-10307a73add5"
      },
      "execution_count": null,
      "outputs": [
        {
          "output_type": "stream",
          "name": "stdout",
          "text": [
            "[(0, 'A'), (1, 'B'), (2, 'C'), (3, 'D')]\n",
            "[(1, 'A'), (2, 'B'), (3, 'C'), (4, 'D')]\n"
          ]
        }
      ]
    },
    {
      "cell_type": "markdown",
      "source": [
        "Q: 왜 sorted만 자료형으로 주나요? revered나 map, fillter는 모두 메모리 주소를 가리키는데?!  \n",
        "A: (추후에 심화 과정에서 강의) 메모리의 효율성 때문입니다.\n",
        "  \n",
        "sorted만 비효율을 감수하고 사용자가 보기 편한 자료형으로 반환합니다."
      ],
      "metadata": {
        "id": "8oK1HJtIkqbK"
      }
    },
    {
      "cell_type": "markdown",
      "source": [
        "# match\n",
        "- 3.10버전에서 나온 문법이기 때문에 현업에서 거의 사용 불가...\n",
        "- 예를 들어 속도가 매우 빨라야 하는 프로젝트를 여러분이 하게 되었습니다. 그렇다면 python 최신 버전을 사용할텐데, 그러면 match 문법을 사용할 수는 있습니다. 다만 권고하기가 어렵습니다. match 문법이 동료들이 익숙하지 않기 때문입니다.\n",
        "- 2024년에는 중요도가 별 0.5개 정도 되고,\n",
        "- 정착되는 시기인 2, 3년 후에는 별 3~4개 정도로 올라갈 것으로 보임!"
      ],
      "metadata": {
        "id": "ChC5Vn3Rk9um"
      }
    },
    {
      "cell_type": "markdown",
      "source": [
        "```\n",
        "# 강사님이 반대하는 이유\n",
        "# 타 언어에 비해서 불편한 점\n",
        "# 요일 = 4\n",
        "# match 요일:\n",
        "#     case 0:\n",
        "#         print('일요일')\n",
        "#     case 1:\n",
        "#         print('월요일')\n",
        "#     case 2:\n",
        "#         print('화요일')\n",
        "#     case 3: # 다른 언어에서는 이 문법이 가용합니다.\n",
        "#     case 4:\n",
        "#         print('목요일')\n",
        "#     case 5:\n",
        "#         print('금요일')\n",
        "#     case 6:\n",
        "#         print('토요일')\n",
        "```"
      ],
      "metadata": {
        "id": "5RyM0M_3mF2a"
      }
    },
    {
      "cell_type": "code",
      "source": [
        "요일 = 100\n",
        "match 요일:\n",
        "    case 0:\n",
        "        print('일요일')\n",
        "    case 1:\n",
        "        print('월요일')\n",
        "    case 2:\n",
        "        print('화요일')\n",
        "    case 3:\n",
        "        print('수요일')\n",
        "    case 4:\n",
        "        print('목요일')\n",
        "    case 5:\n",
        "        print('금요일')\n",
        "    case 6:\n",
        "        print('토요일')\n",
        "    case _:\n",
        "        print('요일없음!')"
      ],
      "metadata": {
        "colab": {
          "base_uri": "https://localhost:8080/"
        },
        "id": "PsHYOEOIoRBl",
        "outputId": "78ada77d-6e22-4d6c-f60d-501929c46776"
      },
      "execution_count": null,
      "outputs": [
        {
          "output_type": "stream",
          "name": "stdout",
          "text": [
            "요일없음!\n"
          ]
        }
      ]
    },
    {
      "cell_type": "code",
      "source": [
        "text = '1'\n",
        "match text:\n",
        "    case '1' | '2':\n",
        "        print('1, 2')\n",
        "    case _:\n",
        "        print('No Match')"
      ],
      "metadata": {
        "colab": {
          "base_uri": "https://localhost:8080/"
        },
        "id": "FpjWjZTQodxn",
        "outputId": "87d23167-b8cc-415d-94ca-b39953112dd4"
      },
      "execution_count": null,
      "outputs": [
        {
          "output_type": "stream",
          "name": "stdout",
          "text": [
            "1, 2\n"
          ]
        }
      ]
    },
    {
      "cell_type": "markdown",
      "source": [
        "오히려 이런⬆️ 코드보다 아래 코드를 더 많이 만나게 되실겁니다."
      ],
      "metadata": {
        "id": "QzS7ZjtQomDc"
      }
    },
    {
      "cell_type": "code",
      "source": [
        "def 요일반환(요일):\n",
        "    return {\n",
        "        0: '일요일',\n",
        "        1: '월요일',\n",
        "        2: '화요일',\n",
        "        3: '수요일',\n",
        "    }.get(요일, '요일없음')\n",
        "\n",
        "요일반환(2)"
      ],
      "metadata": {
        "colab": {
          "base_uri": "https://localhost:8080/",
          "height": 36
        },
        "id": "SXRfOU7aoqx0",
        "outputId": "dc5a6ad3-1d56-464c-d754-3f64bd6ec4bd"
      },
      "execution_count": null,
      "outputs": [
        {
          "output_type": "execute_result",
          "data": {
            "text/plain": [
              "'화요일'"
            ],
            "application/vnd.google.colaboratory.intrinsic+json": {
              "type": "string"
            }
          },
          "metadata": {},
          "execution_count": 77
        }
      ]
    },
    {
      "cell_type": "markdown",
      "source": [
        "메모리 효율도 똑같다!"
      ],
      "metadata": {
        "id": "vikoaVlcpFDh"
      }
    },
    {
      "cell_type": "markdown",
      "source": [
        "# Class\n",
        "\n",
        "- class 이론을 책 여러권 + ChatGPT + 유투브를 보시는 것 보다는\n",
        "- 여러개를 **만들어보세요!**\n",
        "    - ChatGPT에게 여러개의 클래스를 추천받고, ChatGPT에게 짜달라고 해서 그것을 타이핑 해보시는 것도 많은 도움이 될겁니다.\n",
        "- 결론: 많은 것을 만들어보셔야 합니다."
      ],
      "metadata": {
        "id": "vTc_fqc_pN5U"
      }
    },
    {
      "cell_type": "markdown",
      "source": [
        "**`class 클래스이름 => 인스턴스`**\n",
        "- class Post => 게시물1, 게시물2, 게시물3...\n",
        "- class Dot => 점1, 점2, 점3...\n",
        "- class Matrix => 행렬1, 행렬2, 행렬3...\n",
        "- class User => 유저1, 유저2, 유저3...\n",
        "- class Cart(장바구니) => cart1, cart2, cart3...\n",
        "- class Comment(댓글) => 댓글1, 댓글2, 댓글3...\n",
        "- class Character => Licat(주인공), Lion(빌런), Mob1(몬스터)\n",
        "- class Product => 상품1, 상품2, 상품3...\n",
        "- class Class_ => 강의1, 강의2, 강의3...\n",
        "- class Teacher => 강사1, 강사2, 강사3..."
      ],
      "metadata": {
        "id": "_o_JG6Hz8JN2"
      }
    },
    {
      "cell_type": "code",
      "source": [
        "# 0번: 기초 상식\n",
        "# 0.0 __init__ 매직메서드는 없어도 되나요?\n",
        "# 실제로 이런 코드를 짜실 일이 생깁니다.\n",
        "class 우편번호:\n",
        "    제주도 = 100\n",
        "    경기도 = 101\n",
        "    전라북도 = 102\n",
        "    전라남도 = 103\n",
        "\n",
        "우편번호.제주도\n",
        "# 왜 이걸 딕셔너리로 만들지 않고 class로 만들었나요?\n",
        "# 재사용성 + 확장성\n",
        "\n",
        "# 0.1 클래스 꼭 사용해야 하나요?\n",
        "# 일부 자료형에서는 클래스는 꼭 사용해야 합니다.\n",
        "\n",
        "# 데이터의 양(속도), 확장성, 다양성\n",
        "# 기본 클래스(list, tuple, dict(속도 개선 많이 되었음에도), set)는 매우 느립니다.\n"
      ],
      "metadata": {
        "colab": {
          "base_uri": "https://localhost:8080/"
        },
        "id": "j0-Zy41z9ae9",
        "outputId": "bf4abaa2-a9ca-47ea-d0d3-a86b0bf65274"
      },
      "execution_count": null,
      "outputs": [
        {
          "output_type": "execute_result",
          "data": {
            "text/plain": [
              "100"
            ]
          },
          "metadata": {},
          "execution_count": 1
        }
      ]
    },
    {
      "cell_type": "code",
      "source": [
        "# 아직 안배웠으니 Keep\n",
        "from datetime import datetime\n",
        "\n",
        "datetime.now()"
      ],
      "metadata": {
        "id": "FFztIdWADT0t"
      },
      "execution_count": null,
      "outputs": []
    },
    {
      "cell_type": "markdown",
      "source": [
        "## Post"
      ],
      "metadata": {
        "id": "vJ6Pt5Q4Ngbx"
      }
    },
    {
      "cell_type": "code",
      "source": [
        "# 1번\n",
        "# 클래스를 설계할 때\n",
        "# 첫 번째로 - 모든 인스턴스에서 공유해아햘 변수(클래스변수)나 메서드 설정\n",
        "# 두 번째로 - 인스턴스 고유의 영역\n",
        "# in_created_at(스네이크 표기법) - 파이썬\n",
        "# inCreatedAt(카멜 표기법) - 파이썬에서 잘 안씀.(JS에서 많이 사용)\n",
        "# InCreatedAt(파스칼 표기법) - 파이썬 클래스\n",
        "\n",
        "class Post:\n",
        "    # 인스턴스 고유의 영역\n",
        "    def __init__(\n",
        "            self,\n",
        "            in_title = '',\n",
        "            in_contents = '',\n",
        "            in_count = 0,\n",
        "            in_create_at = '',\n",
        "            in_updated_at = '',\n",
        "            in_author = ''\n",
        "            ):\n",
        "        self.title = in_title\n",
        "        self.contents = in_contents\n",
        "        self.count = in_count\n",
        "        self.create_at = in_create_at\n",
        "        self.updated_at = in_updated_at\n",
        "        self.author = in_author\n",
        "\n",
        "    # __str__과 __repr__의 값은 보통 같은 값을 부여한다.\n",
        "    # 둘이 셋트같은 느낌인듯?\n",
        "    def __str__(self):\n",
        "        return self.title\n",
        "\n",
        "    def __repr__(self):\n",
        "        return self.title\n",
        "\n",
        "    def __add__(self, next):\n",
        "        # return self.count + next.count\n",
        "        return self.title + next.title\n",
        "\n",
        "    def update(self, in_contents):\n",
        "        '''\n",
        "        in_ 실무에서 사용하는 접두사가 아닙니다!\n",
        "        여러분의 이해를 돕기 위한 변수명입니다.\n",
        "        '''\n",
        "        self.contents = in_contents\n",
        "        return '게시물 수정에 성공했습니다! 200'\n",
        "\n",
        "    # 강사님의 욕심 ㅋㅋㅋ\n",
        "    def __eq__(self, next):\n",
        "        return self.title == next.title\n",
        "\n",
        "    # def __len__(self):\n",
        "    #     pass\n",
        "\n",
        "    # def delete(self):\n",
        "    #     pass"
      ],
      "metadata": {
        "id": "Xp76aCljAqtH"
      },
      "execution_count": 17,
      "outputs": []
    },
    {
      "cell_type": "code",
      "source": [
        "게시물1 = Post(\n",
        "    '파이썬은 참 깊군요!',\n",
        "    '오늘은 파이썬 클래스를 배웠는데 넘 어렵고 신기하네요.',\n",
        "    0,\n",
        "    '2024-01-11',\n",
        "    '2024-01-11',\n",
        "    '지민경'\n",
        "            )\n",
        "게시물2 = Post(\n",
        "    '2',\n",
        "    '22',\n",
        "    0,\n",
        "    '2024-01-11',\n",
        "    '2024-01-11',\n",
        "    '지민경'\n",
        "            )\n",
        "\n",
        "print(게시물1)\n",
        "print(게시물1.title)\n",
        "print(게시물1 + 게시물2)\n",
        "# +연산이 나오면 앞(게시물 1)의 __add__가 실행된다."
      ],
      "metadata": {
        "colab": {
          "base_uri": "https://localhost:8080/"
        },
        "id": "VWB2oc4dDsPV",
        "outputId": "95d77cc5-d112-44e1-dc43-056283afd698"
      },
      "execution_count": 13,
      "outputs": [
        {
          "output_type": "stream",
          "name": "stdout",
          "text": [
            "파이썬은 참 깊군요!\n",
            "파이썬은 참 깊군요!\n",
            "파이썬은 참 깊군요!2\n"
          ]
        }
      ]
    },
    {
      "cell_type": "code",
      "source": [
        "게시물1.update('hello world!')\n",
        "게시물1.contents\n",
        "\n",
        "게시물1 == 게시물2 # 이 코드는 이제 title만 비교하는 코드가 되었음!"
      ],
      "metadata": {
        "id": "MM5Dbj02D3jw",
        "colab": {
          "base_uri": "https://localhost:8080/"
        },
        "outputId": "86baf4a8-a3e9-4646-8741-87aa114db686"
      },
      "execution_count": 19,
      "outputs": [
        {
          "output_type": "execute_result",
          "data": {
            "text/plain": [
              "False"
            ]
          },
          "metadata": {},
          "execution_count": 19
        }
      ]
    },
    {
      "cell_type": "markdown",
      "source": [
        "## Dot"
      ],
      "metadata": {
        "id": "DwzAraM2MjGT"
      }
    },
    {
      "cell_type": "code",
      "source": [
        "class Dot:\n",
        "    def __init__(self, x, y):\n",
        "        self.x = x\n",
        "        self.y = y\n",
        "\n",
        "    def __add__(self, next):\n",
        "        return (self.x + next.x, self.y + next.y)\n",
        "        # 리스트가 아닌 튜플값으로 return 하는 이유?\n",
        "        # x, y말고 다른 값이 오면 안되기 때문.\n",
        "\n",
        "    def __mul__(self, next):\n",
        "        return (self.x * next.x, self.y * next.y)\n",
        "\n",
        "    def distance(self, next):\n",
        "        dx = self.x - next.x\n",
        "        dy = self.y - next.y\n",
        "        return (dx**2 + dy**2) ** 0.5\n",
        "        # root는 **0.5 로 많이 사용합니다."
      ],
      "metadata": {
        "id": "PgSqCSs8Nj3c"
      },
      "execution_count": 20,
      "outputs": []
    },
    {
      "cell_type": "code",
      "source": [
        "dot1 = Dot(20, 10)\n",
        "dot2 = Dot(30, 5)\n",
        "\n",
        "print(dot1 + dot2)\n",
        "print(dot1 * dot2)\n",
        "print(dot1.distance(dot2))"
      ],
      "metadata": {
        "colab": {
          "base_uri": "https://localhost:8080/"
        },
        "id": "8BD6w3NzPv6h",
        "outputId": "1c0ea274-ec17-4d78-cec9-f6a15ca14712"
      },
      "execution_count": 21,
      "outputs": [
        {
          "output_type": "stream",
          "name": "stdout",
          "text": [
            "(50, 15)\n",
            "(600, 50)\n",
            "11.180339887498949\n"
          ]
        }
      ]
    },
    {
      "cell_type": "markdown",
      "source": [
        "## Character"
      ],
      "metadata": {
        "id": "v995x4adP--t"
      }
    },
    {
      "cell_type": "code",
      "source": [
        "class Character:\n",
        "    def __init__(\n",
        "            self,\n",
        "            name,\n",
        "            skill,\n",
        "            hp,\n",
        "            mp,\n",
        "            power,\n",
        "            x,\n",
        "            ):\n",
        "        self.name = name\n",
        "        self.skill = skill\n",
        "        self.hp = hp\n",
        "        self.mp = mp\n",
        "        self.power = power\n",
        "        self.x = x\n",
        "\n",
        "    def move(self):\n",
        "        self.x += 100\n",
        "\n",
        "    def attack(self, next):\n",
        "        next.hp -= self.power"
      ],
      "metadata": {
        "id": "nDxq6-d6QGaR"
      },
      "execution_count": 24,
      "outputs": []
    },
    {
      "cell_type": "code",
      "source": [
        "주인공1 = Character('licat', '질풍검', 100, 100, 10, 10)\n",
        "몹1 = Character('licat', '질풍검', 100, 100, 10, 10)\n",
        "\n",
        "주인공1.attack(몹1)\n",
        "몹1.hp"
      ],
      "metadata": {
        "colab": {
          "base_uri": "https://localhost:8080/"
        },
        "id": "WlNgA10zSGKf",
        "outputId": "2f2eba08-c1e6-4202-f0ed-3e5729734889"
      },
      "execution_count": 27,
      "outputs": [
        {
          "output_type": "execute_result",
          "data": {
            "text/plain": [
              "90"
            ]
          },
          "metadata": {},
          "execution_count": 27
        }
      ]
    }
  ]
}