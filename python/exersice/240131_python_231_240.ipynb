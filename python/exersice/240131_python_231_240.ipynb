{
  "nbformat": 4,
  "nbformat_minor": 0,
  "metadata": {
    "colab": {
      "provenance": [],
      "authorship_tag": "ABX9TyOv0s3xSDfDw0AB2OPXaQNw",
      "include_colab_link": true
    },
    "kernelspec": {
      "name": "python3",
      "display_name": "Python 3"
    },
    "language_info": {
      "name": "python"
    }
  },
  "cells": [
    {
      "cell_type": "markdown",
      "metadata": {
        "id": "view-in-github",
        "colab_type": "text"
      },
      "source": [
        "<a href=\"https://colab.research.google.com/github/jiminkyung/orm/blob/main/python/exersice/240131_python_231_240.ipynb\" target=\"_parent\"><img src=\"https://colab.research.google.com/assets/colab-badge.svg\" alt=\"Open In Colab\"/></a>"
      ]
    },
    {
      "cell_type": "markdown",
      "source": [
        "# 231\n",
        "아래 코드를 실행한 결과를 예상하라.\n",
        "```\n",
        "def n_plus_1 (n) :\n",
        "    result = n + 1\n",
        "\n",
        "n_plus_1(3)\n",
        "print (result)\n",
        "```"
      ],
      "metadata": {
        "id": "zLj9i8xenFtr"
      }
    },
    {
      "cell_type": "code",
      "source": [
        "# 에러. result는 함수 안의 변수이기 때문에.\n",
        "# return값을 따로 지정해줘야한다."
      ],
      "metadata": {
        "id": "7OBn7xX1nbqs"
      },
      "execution_count": 1,
      "outputs": []
    },
    {
      "cell_type": "markdown",
      "source": [
        "# 232\n",
        "문자열 하나를 입력받아 인터넷 주소를 반환하는 make_url 함수를 정의하라.\n",
        "```\n",
        "make_url(\"naver\")\n",
        "www.naver.com\n",
        "```"
      ],
      "metadata": {
        "id": "xJJkEPmcnor5"
      }
    },
    {
      "cell_type": "code",
      "source": [
        "def make_url(data):\n",
        "    return f\"www.{data}.com\""
      ],
      "metadata": {
        "id": "4f4WOnbuntfO"
      },
      "execution_count": 3,
      "outputs": []
    },
    {
      "cell_type": "code",
      "source": [
        "make_url(\"naver\")"
      ],
      "metadata": {
        "colab": {
          "base_uri": "https://localhost:8080/",
          "height": 36
        },
        "id": "k2dZR4qJn3yh",
        "outputId": "51b4bb41-f16d-44fe-fe57-c9424888d20c"
      },
      "execution_count": 4,
      "outputs": [
        {
          "output_type": "execute_result",
          "data": {
            "text/plain": [
              "'www.naver.com'"
            ],
            "application/vnd.google.colaboratory.intrinsic+json": {
              "type": "string"
            }
          },
          "metadata": {},
          "execution_count": 4
        }
      ]
    },
    {
      "cell_type": "markdown",
      "source": [
        "# 233\n",
        "문자열을 입력받아 각 문자들로 구성된 리스트로 반환하는 make_list 함수를 정의하라.\n",
        "```\n",
        "make_list(\"abcd\")\n",
        "['a', 'b', 'c', 'd']\n",
        "```"
      ],
      "metadata": {
        "id": "9SRHXLEpn7iP"
      }
    },
    {
      "cell_type": "code",
      "source": [
        "# 문자열을 리스트에 저장하면 자동으로 분리되지 않나?\n",
        "def make_list(string) -> list:\n",
        "    return list(string)"
      ],
      "metadata": {
        "id": "A3lc7tjzoCEr"
      },
      "execution_count": 5,
      "outputs": []
    },
    {
      "cell_type": "code",
      "source": [
        "make_list(\"abcd\")"
      ],
      "metadata": {
        "colab": {
          "base_uri": "https://localhost:8080/"
        },
        "id": "MPBLJ8qOo5Qk",
        "outputId": "1b1d3abb-a3d0-4b51-cb57-e59becdec83c"
      },
      "execution_count": 6,
      "outputs": [
        {
          "output_type": "execute_result",
          "data": {
            "text/plain": [
              "['a', 'b', 'c', 'd']"
            ]
          },
          "metadata": {},
          "execution_count": 6
        }
      ]
    },
    {
      "cell_type": "markdown",
      "source": [
        "# 234\n",
        "숫자로 구성된 하나의 리스트를 입력받아, 짝수들을 추출하여 리스트로 반환하는 pickup_even 함수를 구현하라.\n",
        "```\n",
        "pickup_even([3, 4, 5, 6, 7, 8])\n",
        "[4, 6, 8]\n",
        "```"
      ],
      "metadata": {
        "id": "w7R3tHpgo6_i"
      }
    },
    {
      "cell_type": "code",
      "source": [
        "def pickup_even(data) -> list:\n",
        "    return [num for num in data if num % 2 == 0]"
      ],
      "metadata": {
        "id": "ecwcskLto-px"
      },
      "execution_count": 7,
      "outputs": []
    },
    {
      "cell_type": "code",
      "source": [
        "pickup_even([3, 4, 5, 6, 7, 8])"
      ],
      "metadata": {
        "colab": {
          "base_uri": "https://localhost:8080/"
        },
        "id": "K9UejMqppWSI",
        "outputId": "b60df780-f460-45ea-df62-60215e8c044b"
      },
      "execution_count": 8,
      "outputs": [
        {
          "output_type": "execute_result",
          "data": {
            "text/plain": [
              "[4, 6, 8]"
            ]
          },
          "metadata": {},
          "execution_count": 8
        }
      ]
    },
    {
      "cell_type": "markdown",
      "source": [
        "# 235\n",
        "콤마가 포함된 문자열 숫자를 입력받아 정수로 변환하는 convert_int 함수를 정의하라.\n",
        "```\n",
        "convert_int(\"1,234,567\")\n",
        "1234567\n",
        "```"
      ],
      "metadata": {
        "id": "PONyMb4FpX1T"
      }
    },
    {
      "cell_type": "code",
      "source": [
        "def convert_int(data) -> int:\n",
        "    return int(data.replace(\",\",\"\"))"
      ],
      "metadata": {
        "id": "oAp3GraEpzKp"
      },
      "execution_count": 11,
      "outputs": []
    },
    {
      "cell_type": "code",
      "source": [
        "convert_int(\"1,234,567\")"
      ],
      "metadata": {
        "colab": {
          "base_uri": "https://localhost:8080/"
        },
        "id": "14y1Om8vp_ls",
        "outputId": "e80dd8a3-c223-4068-88b9-d1c1e3930f29"
      },
      "execution_count": 12,
      "outputs": [
        {
          "output_type": "execute_result",
          "data": {
            "text/plain": [
              "1234567"
            ]
          },
          "metadata": {},
          "execution_count": 12
        }
      ]
    },
    {
      "cell_type": "markdown",
      "source": [
        "# 236\n",
        "아래 코드의 실행 결과를 예측하라.\n",
        "```\n",
        "def 함수(num) :\n",
        "    return num + 4\n",
        "\n",
        "a = 함수(10)\n",
        "b = 함수(a)\n",
        "c = 함수(b)\n",
        "print(c)\n",
        "```"
      ],
      "metadata": {
        "id": "i_sViJ3vqKwV"
      }
    },
    {
      "cell_type": "code",
      "source": [
        "# a = 14\n",
        "# b = 14+4 = 18\n",
        "# c = 18+4 = 22\n",
        "# 그러므로 22 출력됨."
      ],
      "metadata": {
        "id": "ZUvXPA1BqQSo"
      },
      "execution_count": 13,
      "outputs": []
    },
    {
      "cell_type": "markdown",
      "source": [
        "# 237\n",
        "아래 코드의 실행 결과를 예측하라.\n",
        "```\n",
        "def 함수(num) :\n",
        "    return num + 4\n",
        "\n",
        "c = 함수(함수(함수(10)))\n",
        "print(c)\n",
        "```"
      ],
      "metadata": {
        "id": "EohX0EKGqbNt"
      }
    },
    {
      "cell_type": "code",
      "source": [
        "# 함수 총 3번나왔으니까 3*4 = 12\n",
        "# 10+12 = 22"
      ],
      "metadata": {
        "id": "GImSWEHVqgA5"
      },
      "execution_count": 14,
      "outputs": []
    },
    {
      "cell_type": "markdown",
      "source": [
        "# 238\n",
        "아래 코드의 실행 결과를 예측하라.\n",
        "```\n",
        "def 함수1(num) :\n",
        "    return num + 4\n",
        "\n",
        "def 함수2(num) :\n",
        "    return num * 10\n",
        "\n",
        "a = 함수1(10)\n",
        "c = 함수2(a)\n",
        "print(c)\n",
        "```"
      ],
      "metadata": {
        "id": "rpPW3BgdquCr"
      }
    },
    {
      "cell_type": "code",
      "source": [
        "# a = 14\n",
        "# c = 14*10 = 140\n",
        "# print(c)니까 140이 출력된다."
      ],
      "metadata": {
        "id": "uJR6CybdqxMB"
      },
      "execution_count": 15,
      "outputs": []
    },
    {
      "cell_type": "markdown",
      "source": [
        "# 239\n",
        "아래 코드의 실행 결과를 예측하라.\n",
        "```\n",
        "def 함수1(num) :\n",
        "    return num + 4\n",
        "\n",
        "def 함수2(num) :\n",
        "    num = num + 2\n",
        "    return 함수1(num)\n",
        "\n",
        "c = 함수2(10)\n",
        "print(c)\n",
        "```"
      ],
      "metadata": {
        "id": "DElHYiL6q_hh"
      }
    },
    {
      "cell_type": "code",
      "source": [
        "# 함수2(num)에 10을 넣었을때,\n",
        "# 10+2 = 12, 함수1(12)\n",
        "# 12+4 = 16\n",
        "# 출력되는 값은 16이다."
      ],
      "metadata": {
        "id": "nrqqc_D5rDnX"
      },
      "execution_count": 16,
      "outputs": []
    },
    {
      "cell_type": "markdown",
      "source": [
        "# 240\n",
        "아래 코드의 실행 결과를 예측하라.\n",
        "```\n",
        "def 함수0(num) :\n",
        "    return num * 2\n",
        "\n",
        "def 함수1(num) :\n",
        "    return 함수0(num + 2)\n",
        "\n",
        "def 함수2(num) :\n",
        "    num = num + 10\n",
        "    return 함수1(num)\n",
        "\n",
        "c = 함수2(2)\n",
        "print(c)\n",
        "```"
      ],
      "metadata": {
        "id": "yNfWJ8HDrTg7"
      }
    },
    {
      "cell_type": "code",
      "source": [
        "# 함수2(2) => 2+10 => 함수1(12)\n",
        "# 함수1(12) => 함수0(12+2)\n",
        "# 함수0(14) => 14 * 2 = 28\n",
        "# 출력되는 값은 28이다."
      ],
      "metadata": {
        "id": "_zLugP0urX6g"
      },
      "execution_count": 17,
      "outputs": []
    }
  ]
}