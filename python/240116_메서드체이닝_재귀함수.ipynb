{
  "nbformat": 4,
  "nbformat_minor": 0,
  "metadata": {
    "colab": {
      "provenance": [],
      "toc_visible": true,
      "authorship_tag": "ABX9TyMkoQOjKur/LbNvOgchCzs2",
      "include_colab_link": true
    },
    "kernelspec": {
      "name": "python3",
      "display_name": "Python 3"
    },
    "language_info": {
      "name": "python"
    }
  },
  "cells": [
    {
      "cell_type": "markdown",
      "metadata": {
        "id": "view-in-github",
        "colab_type": "text"
      },
      "source": [
        "<a href=\"https://colab.research.google.com/github/jiminkyung/orm/blob/main/python/240116_%EB%A9%94%EC%84%9C%EB%93%9C%EC%B2%B4%EC%9D%B4%EB%8B%9D_%EC%9E%AC%EA%B7%80%ED%95%A8%EC%88%98.ipynb\" target=\"_parent\"><img src=\"https://colab.research.google.com/assets/colab-badge.svg\" alt=\"Open In Colab\"/></a>"
      ]
    },
    {
      "cell_type": "markdown",
      "source": [
        "# 메서드 체이닝"
      ],
      "metadata": {
        "id": "FLIe4eOHpu7N"
      }
    },
    {
      "cell_type": "code",
      "source": [
        "# 매우 중요!\n",
        "# 복습 꼭 하셔야 합니다.\n",
        "\n",
        "'Hello World'.replace('Hello', 'hi').lower()\n",
        "# 그 메서드에 리턴된 값이 순차적으로 해소가 되는 방식\n",
        "\n",
        "#'hello world'.a().b().c().d()\n",
        "# 'Hello World'.split().lower() #error!!\n",
        "'Hello World'.split()[0].lower()"
      ],
      "metadata": {
        "colab": {
          "base_uri": "https://localhost:8080/",
          "height": 36
        },
        "id": "8XeYtQFEspPv",
        "outputId": "5d7fc105-190b-4e3d-dde3-dc26cc543dff"
      },
      "execution_count": null,
      "outputs": [
        {
          "output_type": "execute_result",
          "data": {
            "text/plain": [
              "'hello'"
            ],
            "application/vnd.google.colaboratory.intrinsic+json": {
              "type": "string"
            }
          },
          "metadata": {},
          "execution_count": 2
        }
      ]
    },
    {
      "cell_type": "code",
      "source": [
        "'hello world'.replace('hello', 'hi')\n",
        "'hello world'.replace('hello', 'hi').upper()\n",
        "'hello world'.replace('hello', 'hi').upper().replace('HI', 'HELLOW')\n",
        "# 'hello world'.replace('hello', 'hi').upper().append() #error"
      ],
      "metadata": {
        "colab": {
          "base_uri": "https://localhost:8080/",
          "height": 36
        },
        "id": "oaJ_JSuSuV1Y",
        "outputId": "6d0065c9-9122-405b-cbec-c28ad7df7150"
      },
      "execution_count": null,
      "outputs": [
        {
          "output_type": "execute_result",
          "data": {
            "text/plain": [
              "'HELLOW WORLD'"
            ],
            "application/vnd.google.colaboratory.intrinsic+json": {
              "type": "string"
            }
          },
          "metadata": {},
          "execution_count": 3
        }
      ]
    },
    {
      "cell_type": "markdown",
      "source": [
        "메서드 체이닝을 사용할 땐 앞의 메서드의 반환값(자료형)을 주의해야 한다!"
      ],
      "metadata": {
        "id": "WdTfY_yeuYJw"
      }
    },
    {
      "cell_type": "code",
      "source": [
        "# 문자열 쪼갤때는?\n",
        "list('Hello World')"
      ],
      "metadata": {
        "colab": {
          "base_uri": "https://localhost:8080/"
        },
        "id": "NsekIN69uhcB",
        "outputId": "b6baedfd-8e7b-4697-d9a4-e8925ce89938"
      },
      "execution_count": null,
      "outputs": [
        {
          "output_type": "execute_result",
          "data": {
            "text/plain": [
              "['H', 'e', 'l', 'l', 'o', ' ', 'W', 'o', 'r', 'l', 'd']"
            ]
          },
          "metadata": {},
          "execution_count": 4
        }
      ]
    },
    {
      "cell_type": "markdown",
      "source": [
        "메서드 체이닝을 길게 사용하기보다는, 분기문(if)같은거로 나눠주는것을 권고한다.  \n",
        "에러의 원인이 메서드체이닝인 경우가 많기 때문이다."
      ],
      "metadata": {
        "id": "lRfmkfF_vNu0"
      }
    },
    {
      "cell_type": "code",
      "source": [
        "# 클래스에 지쳤다면 잠시 내려놓아도 괜찮습니다.\n",
        "class Calculator:\n",
        "    def __init__(self, value):\n",
        "        self.value = value\n",
        "\n",
        "    def add(self, other):\n",
        "        self.value += other\n",
        "        return self\n",
        "\n",
        "    def subtract(self, other):\n",
        "        self.value -= other\n",
        "        return self\n",
        "\n",
        "    def multiply(self, other):\n",
        "        self.value *= other\n",
        "        return self\n",
        "\n",
        "    def get_value(self):\n",
        "        return self.value\n",
        "\n",
        "calc = Calculator(1)\n",
        "result = calc.add(2).subtract(1).multiply(3).get_value()\n",
        "# get_value()다음에 메서드가 오려면 int형이어야 한다.\n",
        "print(result)  # 결과: 6"
      ],
      "metadata": {
        "colab": {
          "base_uri": "https://localhost:8080/"
        },
        "id": "RI2p11vbs_eX",
        "outputId": "0dc3cf26-f143-4ec9-c127-7a55426ee3a6"
      },
      "execution_count": null,
      "outputs": [
        {
          "output_type": "stream",
          "name": "stdout",
          "text": [
            "6\n"
          ]
        }
      ]
    },
    {
      "cell_type": "code",
      "source": [
        "# int\n",
        "# float\n",
        "# complex\n",
        "a = 3\n",
        "b = 3.5\n",
        "c = 3j + 1\n",
        "\n",
        "dir(a)\n",
        "dir(b)\n",
        "dir(c)\n",
        "\n",
        "# 'imag' # 허수부\n",
        "# 'real' # 실수부"
      ],
      "metadata": {
        "id": "93QN-mQzwjvc"
      },
      "execution_count": null,
      "outputs": []
    },
    {
      "cell_type": "markdown",
      "source": [
        "int, float, complex 모두 유리수로 묶인다. 'real'과 'imag'메서드가 공통으로 들어가있음."
      ],
      "metadata": {
        "id": "olz0i3D2wmAO"
      }
    },
    {
      "cell_type": "markdown",
      "source": [
        "# 일급함수와 고차함수"
      ],
      "metadata": {
        "id": "z-P7EQv2weoU"
      }
    },
    {
      "cell_type": "markdown",
      "source": [
        "- 일급함수: 함수를 값으로 취급하는 것\n",
        "- 고차함수: 하나 이상의 함수를 인자로 받아들이거나 함수를 결과로 반환하는 함수"
      ],
      "metadata": {
        "id": "g8GmONtPwghB"
      }
    },
    {
      "cell_type": "markdown",
      "source": [
        "## 일급함수"
      ],
      "metadata": {
        "id": "TnQ8JQ24RZJm"
      }
    },
    {
      "cell_type": "code",
      "source": [
        "def greet(name):\n",
        "    return f'Hello, {name}'\n",
        "\n",
        "say_hello = greet\n",
        "print(say_hello(\"World\"))  # 출력: Hello, World"
      ],
      "metadata": {
        "colab": {
          "base_uri": "https://localhost:8080/"
        },
        "id": "OpGU2-GJw0J4",
        "outputId": "030c99d3-b54b-4aec-a152-c32160c250f3"
      },
      "execution_count": null,
      "outputs": [
        {
          "output_type": "stream",
          "name": "stdout",
          "text": [
            "Hello, World\n"
          ]
        }
      ]
    },
    {
      "cell_type": "code",
      "source": [
        "licat = print\n",
        "licat('hello world') # 출력: hello world"
      ],
      "metadata": {
        "colab": {
          "base_uri": "https://localhost:8080/"
        },
        "id": "foXNCGCmw8Ia",
        "outputId": "761f4f12-651e-4946-b049-a685e5ae0023"
      },
      "execution_count": null,
      "outputs": [
        {
          "output_type": "stream",
          "name": "stdout",
          "text": [
            "hello world\n"
          ]
        }
      ]
    },
    {
      "cell_type": "code",
      "source": [
        "l = [10, 20, 30]\n",
        "# l.append(100) 일일히 append를 쳐주는것이 귀찮다면?\n",
        "add = l.append\n",
        "add(10)\n",
        "add(20)\n",
        "# 이렇게 사용할일은 거의 없어요.\n",
        "# but 변수가 너무 길 때, 오타가 많이 생기는 변수일 때, 메서드 명이 길때.\n",
        "l"
      ],
      "metadata": {
        "colab": {
          "base_uri": "https://localhost:8080/"
        },
        "id": "EPzD1ODexA9R",
        "outputId": "2fff1d45-ce58-49e1-cdba-e48d52a40a80"
      },
      "execution_count": null,
      "outputs": [
        {
          "output_type": "execute_result",
          "data": {
            "text/plain": [
              "[10, 20, 30, 10, 20]"
            ]
          },
          "metadata": {},
          "execution_count": 10
        }
      ]
    },
    {
      "cell_type": "code",
      "source": [
        "# 위와 같은 방식의 화살표 입니다.\n",
        "a = 10\n",
        "b = a\n",
        "c = b"
      ],
      "metadata": {
        "id": "_uYEtHGJxUcC"
      },
      "execution_count": null,
      "outputs": []
    },
    {
      "cell_type": "code",
      "source": [
        "def add(x, y):\n",
        "    return x + y\n",
        "\n",
        "def subtract(x, y):\n",
        "    return x - y\n",
        "\n",
        "funcs = [add, subtract]\n",
        "print(funcs[0](2, 3))  # 출력: 5"
      ],
      "metadata": {
        "colab": {
          "base_uri": "https://localhost:8080/"
        },
        "id": "K_bY6rnRx_Q5",
        "outputId": "36c1dd35-0e41-491a-9614-3001f6674dba"
      },
      "execution_count": null,
      "outputs": [
        {
          "output_type": "stream",
          "name": "stdout",
          "text": [
            "5\n"
          ]
        }
      ]
    },
    {
      "cell_type": "code",
      "source": [
        "class Operator:\n",
        "    def add(self, x, y):\n",
        "        return x + y\n",
        "\n",
        "    def sub(self, x, y):\n",
        "        return x - y\n",
        "\n",
        "    def mul(self, x, y):\n",
        "        return x * y\n",
        "\n",
        "    def div(self, x, y):\n",
        "        return x / y\n",
        "\n",
        "    def _and(self, x, y): # and와 겹치니까 _를 붙여준다.\n",
        "        pass\n",
        "\n",
        "    def _or(self, x, y):\n",
        "        pass\n",
        "\n",
        "op = Operator()\n",
        "logical_op = {\n",
        "    'add': op.add,\n",
        "    'sub': op.sub,\n",
        "    'mul': op.mul,\n",
        "    'div': op.div,\n",
        "}\n",
        "arithmetic_op = {\n",
        "    '_and': op._and,\n",
        "    '_or': op._or,\n",
        "}\n",
        "\n",
        "print(logical_op['add'](2, 3)) # 출력: 5 # 마치 op.add(2, 3)인 것 처럼 사용할 수 있습니다.\n",
        "print(op.add(2, 3)) # 출력: 5\n",
        "\n",
        "for _, f in logical_op.items():\n",
        "    print(f(2, 3)) # 4칙연산 모두 계산"
      ],
      "metadata": {
        "colab": {
          "base_uri": "https://localhost:8080/"
        },
        "id": "qxLYdBibyHwy",
        "outputId": "dac9767f-9cb1-4ba2-e69f-9a085c03cb75"
      },
      "execution_count": null,
      "outputs": [
        {
          "output_type": "stream",
          "name": "stdout",
          "text": [
            "5\n",
            "5\n",
            "5\n",
            "-1\n",
            "6\n",
            "0.6666666666666666\n"
          ]
        }
      ]
    },
    {
      "cell_type": "code",
      "source": [
        "# 우리가 실제 코딩하는 것은 여러 클래스 또는 인스턴스의 조합으로 이뤄져 있습니다.\n",
        "# Django만 하더라도 대부분의 것들이 class로 구현되어 있습니다.\n",
        "# 인스턴스나 클래스에 직접 접근하지 않고 내가 만든 변수로 관리할 수 있습니다."
      ],
      "metadata": {
        "id": "USMdOHb9yvSy"
      },
      "execution_count": null,
      "outputs": []
    },
    {
      "cell_type": "code",
      "source": [
        "# 별표 0.5개!"
      ],
      "metadata": {
        "id": "LAfi3VNPz_vT"
      },
      "execution_count": null,
      "outputs": []
    },
    {
      "cell_type": "code",
      "source": [
        "# 별표 1개 => 데코레이터를 이해하기 위한 중요한 개념입니다.\n",
        "\n",
        "def add(a, b):\n",
        "    return a + b\n",
        "\n",
        "def say_hello(name):\n",
        "    return f'Hello, {name}'\n",
        "\n",
        "def greet(func, name):\n",
        "    return func(name)\n",
        "\n",
        "print(greet(say_hello, 'World'))  # 출력: Hello, World"
      ],
      "metadata": {
        "colab": {
          "base_uri": "https://localhost:8080/"
        },
        "id": "ZNexNKlX0A6Q",
        "outputId": "83d226ec-0949-4398-8ade-867098df99de"
      },
      "execution_count": null,
      "outputs": [
        {
          "output_type": "stream",
          "name": "stdout",
          "text": [
            "Hello, World\n"
          ]
        }
      ]
    },
    {
      "cell_type": "code",
      "source": [
        "# 별표 1개 => 데코레이터를 이해하기 위한 중요한 개념입니다.\n",
        "\n",
        "def add(a, b):\n",
        "    return a + b\n",
        "\n",
        "def say_hello(name):\n",
        "    return f'Hello, {name}'\n",
        "\n",
        "def greet(func):\n",
        "    return func # (name)을 삭제했을땐 어떻게 입력해야할까?\n",
        "\n",
        "print(greet(say_hello)('World'))  # 출력: Hello, World"
      ],
      "metadata": {
        "colab": {
          "base_uri": "https://localhost:8080/"
        },
        "id": "ymSPGCRa21S9",
        "outputId": "f20039be-a908-4bc4-c2c7-0c652f109e16"
      },
      "execution_count": 55,
      "outputs": [
        {
          "output_type": "stream",
          "name": "stdout",
          "text": [
            "Hello, World\n"
          ]
        }
      ]
    },
    {
      "cell_type": "code",
      "source": [
        "# 함수를 리턴할 수 있다! (데코레이터의 핵심 개념)\n",
        "# 중요한 개념: x라는 변수가 함수가 끝났는데도 불구하고 살아있다? => 클로저!\n",
        "# 원래 없어져야할 메모리를 누군가 참조하고 있어서 살아있는거다.\n",
        "def create_adder(x):\n",
        "    def adder(y):\n",
        "        return x + y\n",
        "    return adder\n",
        "\n",
        "add_5 = create_adder(5) # 5 + y가 반환된다.\n",
        "print(add_5(10))  # 출력: 15"
      ],
      "metadata": {
        "colab": {
          "base_uri": "https://localhost:8080/"
        },
        "id": "hrsApIYZ3uln",
        "outputId": "49558883-b568-4079-df56-594ed9da6618"
      },
      "execution_count": null,
      "outputs": [
        {
          "output_type": "stream",
          "name": "stdout",
          "text": [
            "15\n"
          ]
        }
      ]
    },
    {
      "cell_type": "markdown",
      "source": [
        "함수가 끝나면 더이상 활용되지 않는 변수는 사라진다."
      ],
      "metadata": {
        "id": "9F2BF7Nx4BsT"
      }
    },
    {
      "cell_type": "markdown",
      "source": [
        "---"
      ],
      "metadata": {
        "id": "fI5D6YLS7M9D"
      }
    },
    {
      "cell_type": "markdown",
      "source": [
        "복습할때 참고하세요! 세번째 예시(스코프 체이닝)은 무시해도 됨."
      ],
      "metadata": {
        "id": "KxnD6qcH7D35"
      }
    },
    {
      "cell_type": "code",
      "source": [
        "# 밖에서 함수 안에 있는 값을 참조하지 못합니다.\n",
        "one = 100\n",
        "def f():\n",
        "    x = one + 10\n",
        "    y = 20\n",
        "    return x + y\n",
        "\n",
        "x # error! 정의되지 않은 변수라고 나온다."
      ],
      "metadata": {
        "id": "7oT_vvqt4gg5"
      },
      "execution_count": null,
      "outputs": []
    },
    {
      "cell_type": "code",
      "source": [
        "# 안에서는 밖에 있는 값을 참조할 수 있습니다.\n",
        "one = 100\n",
        "def f():\n",
        "    x = one + 10\n",
        "    y = 20\n",
        "    return x + y\n",
        "\n",
        "f()"
      ],
      "metadata": {
        "colab": {
          "base_uri": "https://localhost:8080/"
        },
        "id": "Gs8H6b1w4rmL",
        "outputId": "d35a7b4b-d344-4550-f65f-255e831ff270"
      },
      "execution_count": null,
      "outputs": [
        {
          "output_type": "execute_result",
          "data": {
            "text/plain": [
              "130"
            ]
          },
          "metadata": {},
          "execution_count": 34
        }
      ]
    },
    {
      "cell_type": "code",
      "source": [
        "# 스코프 체이닝 <= 기억하지 않아도 된다.\n",
        "# 복습 X\n",
        "x = 100\n",
        "def one():\n",
        "    def two():\n",
        "        x = 10\n",
        "        def three():\n",
        "            print(x)\n",
        "        three()\n",
        "    two()\n",
        "\n",
        "# one() # x=10이 없으면 100이 출력됨.\n",
        "one()"
      ],
      "metadata": {
        "colab": {
          "base_uri": "https://localhost:8080/"
        },
        "id": "GfhtIP5j4y7B",
        "outputId": "b3357091-87af-478e-c307-15d3e04eca48"
      },
      "execution_count": null,
      "outputs": [
        {
          "output_type": "stream",
          "name": "stdout",
          "text": [
            "10\n"
          ]
        }
      ]
    },
    {
      "cell_type": "markdown",
      "source": [
        "## 고차함수"
      ],
      "metadata": {
        "id": "ktJ01sZQRWME"
      }
    },
    {
      "cell_type": "code",
      "source": [
        "def create_sq(x):\n",
        "    def sq(y):\n",
        "        return x ** y\n",
        "    return sq\n",
        "\n",
        "제곱2 = create_sq(2) # x를 변경 불가능하게 감추기 위한 코딩 기법\n",
        "제곱3 = create_sq(3)\n",
        "제곱4 = create_sq(4)\n",
        "\n",
        "제곱2(2), 제곱2(3), 제곱2(4)\n",
        "제곱3(2), 제곱3(3), 제곱3(4)\n",
        "제곱4(2), 제곱4(3), 제곱4(4)"
      ],
      "metadata": {
        "colab": {
          "base_uri": "https://localhost:8080/"
        },
        "id": "141XB_O65St7",
        "outputId": "98d042bb-2c62-41cf-d657-211488dcb0e3"
      },
      "execution_count": null,
      "outputs": [
        {
          "output_type": "execute_result",
          "data": {
            "text/plain": [
              "(16, 64, 256)"
            ]
          },
          "metadata": {},
          "execution_count": 36
        }
      ]
    },
    {
      "cell_type": "markdown",
      "source": [
        "# 여러개의 값 반환\n",
        "\n",
        "어렵지 않은 내용입니다."
      ],
      "metadata": {
        "id": "60cYhv4p68jW"
      }
    },
    {
      "cell_type": "code",
      "source": [
        "def add_and_subtract(x, y):\n",
        "    addition = x + y\n",
        "    subtraction = x - y\n",
        "    return addition, subtraction\n",
        "\n",
        "# 함수 호출\n",
        "result = add_and_subtract(5, 3)\n",
        "\n",
        "# 결과 출력\n",
        "print(result)  # 출력: (8, 2)\n",
        "\n",
        "# 언패킹해서 받는것도 가능하다!\n",
        "a, s = result\n",
        "s"
      ],
      "metadata": {
        "colab": {
          "base_uri": "https://localhost:8080/"
        },
        "id": "u51fah5C7UWO",
        "outputId": "bd0ac65e-ade9-436b-99ef-f29b807c14e2"
      },
      "execution_count": null,
      "outputs": [
        {
          "output_type": "stream",
          "name": "stdout",
          "text": [
            "(8, 2)\n"
          ]
        },
        {
          "output_type": "execute_result",
          "data": {
            "text/plain": [
              "2"
            ]
          },
          "metadata": {},
          "execution_count": 39
        }
      ]
    },
    {
      "cell_type": "markdown",
      "source": [
        "# 재귀함수"
      ],
      "metadata": {
        "id": "1ddSuuKY7Xt1"
      }
    },
    {
      "cell_type": "markdown",
      "source": [
        "**'내가 나를 호출'** 하는 함수"
      ],
      "metadata": {
        "id": "dqgyvMJy8GlO"
      }
    },
    {
      "cell_type": "code",
      "source": [
        "# 별표 0.3개 ==> 다만 실력이 올라가시면 별표 0.8개까진 올라갑니다.\n",
        "# 내가 나를 호출하는 함수\n",
        "# 재귀는 내가 정말 재귀에 자신있다!가 아니라면 반복문을 사용하세요.\n",
        "# 재귀를 억지로 사용하려 하지 마세요.\n",
        "# 재귀를 잘못 사용하면 비효율의 끝판왕이 됩니다."
      ],
      "metadata": {
        "id": "z19Tj9eL730Z"
      },
      "execution_count": null,
      "outputs": []
    },
    {
      "cell_type": "code",
      "source": [
        "# 이런 코드를 연습해봄으로써 재귀에 친숙해질 수 있습니다.\n",
        "# 어디다 쓰냐? => 분할 정복, 다이나믹 프로그래밍\n",
        "# f(5) => 5 * 4 * 3 * 2 * 1 == 120 == 5!\n",
        "\n",
        "def f(n):\n",
        "    if n <= 1:\n",
        "        return n\n",
        "    return n * f(n-1)\n",
        "\n",
        "f(5)"
      ],
      "metadata": {
        "colab": {
          "base_uri": "https://localhost:8080/"
        },
        "id": "qCV7nHzn8MVc",
        "outputId": "b8e3d352-7979-48b5-e8db-ec9ac0bf4246"
      },
      "execution_count": null,
      "outputs": [
        {
          "output_type": "execute_result",
          "data": {
            "text/plain": [
              "120"
            ]
          },
          "metadata": {},
          "execution_count": 41
        }
      ]
    },
    {
      "cell_type": "code",
      "source": [
        "def 숫자출력(count):\n",
        "    if count > 100:\n",
        "        return # None 반환\n",
        "    print(count)\n",
        "    return 숫자출력(count+1) #값을 1부터 반복횟수 까지의 값을 출력\n",
        "\n",
        "숫자출력(1)"
      ],
      "metadata": {
        "id": "dVAES3Iq8mEA"
      },
      "execution_count": null,
      "outputs": []
    },
    {
      "cell_type": "code",
      "source": [
        "# 권장합니다!\n",
        "for i in range(1, 101):\n",
        "    print(i)"
      ],
      "metadata": {
        "id": "LV0P2KYM9pFs"
      },
      "execution_count": null,
      "outputs": []
    },
    {
      "cell_type": "code",
      "source": [
        "# 권장합니다!!\n",
        "result = 1\n",
        "for i in range(1, 6):\n",
        "    result *= i\n",
        "result"
      ],
      "metadata": {
        "colab": {
          "base_uri": "https://localhost:8080/"
        },
        "id": "sRSSTtuO9z07",
        "outputId": "fa1b2d19-b9bb-4ebc-cd68-e157808d98fd"
      },
      "execution_count": null,
      "outputs": [
        {
          "output_type": "execute_result",
          "data": {
            "text/plain": [
              "120"
            ]
          },
          "metadata": {},
          "execution_count": 43
        }
      ]
    },
    {
      "cell_type": "code",
      "source": [
        "# 설명\n",
        "def f(n):\n",
        "    if n <= 1:\n",
        "        return n\n",
        "    return n * f(n-1)\n",
        "\n",
        "# f(5)        5 * f(4) == 5 * 24 => 120\n",
        "# f(4)        4 * f(3) == 4 * 6\n",
        "# f(3)        3 * f(2) == 3 * 2\n",
        "# f(2)        2 * f(1) == 2 * 1\n",
        "# f(1)        1"
      ],
      "metadata": {
        "id": "eK2H5NB997vl"
      },
      "execution_count": null,
      "outputs": []
    },
    {
      "cell_type": "code",
      "source": [
        "'hello'[::-1]"
      ],
      "metadata": {
        "colab": {
          "base_uri": "https://localhost:8080/",
          "height": 36
        },
        "id": "8onOZ6aV_d-p",
        "outputId": "5797b7a7-4b9f-47fc-fff4-e5c904af7d26"
      },
      "execution_count": null,
      "outputs": [
        {
          "output_type": "execute_result",
          "data": {
            "text/plain": [
              "'olleh'"
            ],
            "application/vnd.google.colaboratory.intrinsic+json": {
              "type": "string"
            }
          },
          "metadata": {},
          "execution_count": 46
        }
      ]
    },
    {
      "cell_type": "code",
      "source": [
        "s = ''\n",
        "for i in 'hello':\n",
        "    s = s + i\n",
        "\n",
        "s"
      ],
      "metadata": {
        "colab": {
          "base_uri": "https://localhost:8080/",
          "height": 36
        },
        "id": "xThTRe6q_jsJ",
        "outputId": "a0748c33-f83d-463e-9f91-c102b6767281"
      },
      "execution_count": null,
      "outputs": [
        {
          "output_type": "execute_result",
          "data": {
            "text/plain": [
              "'hello'"
            ],
            "application/vnd.google.colaboratory.intrinsic+json": {
              "type": "string"
            }
          },
          "metadata": {},
          "execution_count": 47
        }
      ]
    },
    {
      "cell_type": "code",
      "source": [
        "s = ''\n",
        "for i in 'hello':\n",
        "    s = i + s\n",
        "\n",
        "s\n",
        "\n",
        "# s = 'h' + ''\n",
        "# s = 'e' + 'h'\n",
        "# s = 'l' + 'eh'\n",
        "# s = 'l' + 'leh'\n",
        "# s = 'o' + 'lleh'\n",
        "# => 'olleh'"
      ],
      "metadata": {
        "colab": {
          "base_uri": "https://localhost:8080/",
          "height": 36
        },
        "id": "DVY6Ng-s_t-B",
        "outputId": "cbd14460-b5f1-42b1-bbaa-6404ed7d9709"
      },
      "execution_count": null,
      "outputs": [
        {
          "output_type": "execute_result",
          "data": {
            "text/plain": [
              "'olleh'"
            ],
            "application/vnd.google.colaboratory.intrinsic+json": {
              "type": "string"
            }
          },
          "metadata": {},
          "execution_count": 50
        }
      ]
    },
    {
      "cell_type": "code",
      "source": [
        "def f(s):\n",
        "    if len(s) <= 1:\n",
        "        return s\n",
        "    return s[0] + f(s[1:])\n",
        "\n",
        "f('hello')"
      ],
      "metadata": {
        "colab": {
          "base_uri": "https://localhost:8080/",
          "height": 36
        },
        "id": "8B8OqVGt_85f",
        "outputId": "f8e8afbd-54cb-4232-ee78-ee3931d8fd83"
      },
      "execution_count": null,
      "outputs": [
        {
          "output_type": "execute_result",
          "data": {
            "text/plain": [
              "'hello'"
            ],
            "application/vnd.google.colaboratory.intrinsic+json": {
              "type": "string"
            }
          },
          "metadata": {},
          "execution_count": 49
        }
      ]
    },
    {
      "cell_type": "code",
      "source": [
        "def f(s):\n",
        "    if len(s) <= 1:\n",
        "        return s\n",
        "    return f(s[1:]) + s[0]\n",
        "\n",
        "f('hello')\n",
        "\n",
        "# f('hello')      f('ello') + 'h' == 'olleh'\n",
        "# f('ello')       f('llo') + 'e' == 'olle'\n",
        "# f('llo')        f('lo') + 'l' == 'oll'\n",
        "# f('lo')         f('o') + 'l' == 'ol'\n",
        "# f('o')          'o'"
      ],
      "metadata": {
        "colab": {
          "base_uri": "https://localhost:8080/",
          "height": 36
        },
        "id": "BME4X2pYA5Ek",
        "outputId": "250919fb-a9de-4910-ac9b-a48ca51189b2"
      },
      "execution_count": null,
      "outputs": [
        {
          "output_type": "execute_result",
          "data": {
            "text/plain": [
              "'olleh'"
            ],
            "application/vnd.google.colaboratory.intrinsic+json": {
              "type": "string"
            }
          },
          "metadata": {},
          "execution_count": 53
        }
      ]
    },
    {
      "cell_type": "markdown",
      "source": [
        "재귀함수는 오늘 한번만 딱 보고 넘어가도 됩니다."
      ],
      "metadata": {
        "id": "cAkMT9CXBCwj"
      }
    },
    {
      "cell_type": "markdown",
      "source": [
        "재귀함수는 복잡한 코드에서 효율을 발휘한다. 물론 잘 사용했을때 한정이다. 만약 잘못쓰면?  \n",
        "복잡도 향상 => 무한반복에 걸려서 서비스가 멈출수도  \n",
        "재귀함수는 잘 숙달되지 않았다면 Keep하자."
      ],
      "metadata": {
        "id": "IPPD4p11CIW7"
      }
    }
  ]
}