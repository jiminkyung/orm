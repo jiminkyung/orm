{
  "nbformat": 4,
  "nbformat_minor": 0,
  "metadata": {
    "colab": {
      "provenance": []
    },
    "kernelspec": {
      "name": "python3",
      "display_name": "Python 3"
    },
    "language_info": {
      "name": "python"
    }
  },
  "cells": [
    {
      "cell_type": "markdown",
      "source": [
        "# 1번\n",
        "```\n",
        "다음 값은 어떤 값이 출력되는지 이유를 설명하세요.\n",
        "1.1 'hello' and 1\n",
        "1.2 10 or 'hello world'\n",
        "```"
      ],
      "metadata": {
        "id": "TpmA19m5c_UH"
      }
    },
    {
      "cell_type": "code",
      "source": [
        "'hello' and 1\n",
        "# 답: 1\n",
        "# A and B 일때 B까지 참이어야 True이기 때문에, B를 실행한 뒤 출력"
      ],
      "metadata": {
        "colab": {
          "base_uri": "https://localhost:8080/"
        },
        "id": "SEfNR2cbdfKr",
        "outputId": "63ec1ae9-27e5-4b40-f58b-56caaa854827"
      },
      "execution_count": 1,
      "outputs": [
        {
          "output_type": "execute_result",
          "data": {
            "text/plain": [
              "1"
            ]
          },
          "metadata": {},
          "execution_count": 1
        }
      ]
    },
    {
      "cell_type": "code",
      "source": [
        "10 or 'hello world'\n",
        "# 답: 10\n",
        "# A or B 일때 A만 참이어도 True이기 때문에, B는 실행하지 않고 A만 실행한 뒤 출력"
      ],
      "metadata": {
        "colab": {
          "base_uri": "https://localhost:8080/"
        },
        "id": "Z7_bDjCWdheY",
        "outputId": "66e04e53-01e9-4c76-8b5a-4127ba96e55a"
      },
      "execution_count": 2,
      "outputs": [
        {
          "output_type": "execute_result",
          "data": {
            "text/plain": [
              "10"
            ]
          },
          "metadata": {},
          "execution_count": 2
        }
      ]
    },
    {
      "cell_type": "markdown",
      "source": [
        "# 2번\n",
        "```\n",
        "아래 dict에 'three' key를 이용하여 '3'라는 값을 출력해주세요.\n",
        "없을 경우 애러가 나는 것이 아니라 '3'이라는 값을 출력해야 합니다.\n",
        "d = {'one': 1, 'two': 2}\n",
        "```"
      ],
      "metadata": {
        "id": "iivCMfUSfW3j"
      }
    },
    {
      "cell_type": "code",
      "source": [
        "d = {'one': 1, 'two': 2}\n",
        "d.get('three', '3')"
      ],
      "metadata": {
        "colab": {
          "base_uri": "https://localhost:8080/",
          "height": 36
        },
        "id": "zC8KAbvmfdoG",
        "outputId": "1cbb643f-99fc-4e4c-960c-559fbe88c898"
      },
      "execution_count": 3,
      "outputs": [
        {
          "output_type": "execute_result",
          "data": {
            "text/plain": [
              "'3'"
            ],
            "application/vnd.google.colaboratory.intrinsic+json": {
              "type": "string"
            }
          },
          "metadata": {},
          "execution_count": 3
        }
      ]
    },
    {
      "cell_type": "markdown",
      "source": [
        "# 3번\n",
        "```\n",
        "다음 리스트에서 100은 어떻게 꺼낼 수 있나요?\n",
        "l = [1, [10, 20], [3, [100, 200], 5]]\n",
        "```"
      ],
      "metadata": {
        "id": "QpaM6m4Zf5YY"
      }
    },
    {
      "cell_type": "code",
      "source": [
        "l = [1, [10, 20], [3, [100, 200], 5]]\n",
        "print(l[2][1][0])\n",
        "# 2번 인덱스 => 1번 인덱스 => 0번 인덱스 순으로 지정해준다."
      ],
      "metadata": {
        "colab": {
          "base_uri": "https://localhost:8080/"
        },
        "id": "9Oa5KrASgGGU",
        "outputId": "2b8526b7-fb2d-47a1-91b1-b5cd707fd580"
      },
      "execution_count": 4,
      "outputs": [
        {
          "output_type": "stream",
          "name": "stdout",
          "text": [
            "100\n"
          ]
        }
      ]
    },
    {
      "cell_type": "markdown",
      "source": [
        "# 4번\n",
        "```\n",
        "아래 숫자를 모두 더해주세요.\n",
        "l = [[1, 2], [3, 4]]\n",
        "```"
      ],
      "metadata": {
        "id": "vN1JDNn3gPzQ"
      }
    },
    {
      "cell_type": "code",
      "source": [
        "l = [[1, 2], [3, 4]]\n",
        "ll = sum(l, [])\n",
        "sum(ll)"
      ],
      "metadata": {
        "colab": {
          "base_uri": "https://localhost:8080/"
        },
        "id": "_KGIxk9IgiaZ",
        "outputId": "e1e77261-a7de-4f0c-f0ed-b402c9043d60"
      },
      "execution_count": 5,
      "outputs": [
        {
          "output_type": "execute_result",
          "data": {
            "text/plain": [
              "10"
            ]
          },
          "metadata": {},
          "execution_count": 5
        }
      ]
    },
    {
      "cell_type": "markdown",
      "source": [
        "# 5번\n",
        "```\n",
        "(난이도 있는 문제) filter를 사용하여 아래 리스트에서 짝수를 모두 더하는 코드를 작성해주세요.\n",
        "l = [1, 2, 3, 4, 5, 6, 7, 8, 9, 10]\n",
        "```"
      ],
      "metadata": {
        "id": "2tSAV9Zkj4l2"
      }
    },
    {
      "cell_type": "code",
      "source": [
        "def f(x):\n",
        "    return x % 2 == 0\n",
        "\n",
        "l = [1, 2, 3, 4, 5, 6, 7, 8, 9, 10]\n",
        "ll = list(filter(f, l))\n",
        "sum(ll)"
      ],
      "metadata": {
        "colab": {
          "base_uri": "https://localhost:8080/"
        },
        "id": "3Uwncvsoj_jJ",
        "outputId": "66dc6b0e-29ba-433c-e943-18cc206d75e6"
      },
      "execution_count": 6,
      "outputs": [
        {
          "output_type": "execute_result",
          "data": {
            "text/plain": [
              "30"
            ]
          },
          "metadata": {},
          "execution_count": 6
        }
      ]
    }
  ]
}