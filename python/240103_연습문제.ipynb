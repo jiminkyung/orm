{
  "nbformat": 4,
  "nbformat_minor": 0,
  "metadata": {
    "colab": {
      "provenance": [],
      "collapsed_sections": [
        "tlRMm0YGMiBT"
      ]
    },
    "kernelspec": {
      "name": "python3",
      "display_name": "Python 3"
    },
    "language_info": {
      "name": "python"
    }
  },
  "cells": [
    {
      "cell_type": "markdown",
      "source": [
        "# 1번 문제\n",
        "다음 변수들이 가리키고 있는 값에 화살표를 그려주세요.\n",
        "(z의 값은 무엇일까요?)"
      ],
      "metadata": {
        "id": "yoD0TfmD7dMm"
      }
    },
    {
      "cell_type": "markdown",
      "source": [
        "## 문제1\n",
        "```\n",
        "x = 100\n",
        "y = 100\n",
        "z = x\n",
        "```"
      ],
      "metadata": {
        "id": "tlRMm0YGMiBT"
      }
    },
    {
      "cell_type": "code",
      "execution_count": 3,
      "metadata": {
        "id": "anOqAoq56-WY"
      },
      "outputs": [],
      "source": [
        "# x -> 100\n",
        "# y -> 100\n",
        "# z -> x\n",
        "# z는 100"
      ]
    },
    {
      "cell_type": "markdown",
      "source": [
        "## 문제2\n",
        "```\n",
        "x = 258\n",
        "y = 258\n",
        "z = x\n",
        "```"
      ],
      "metadata": {
        "id": "IkM3ZsqW8NcF"
      }
    },
    {
      "cell_type": "code",
      "source": [
        "# x -> 258\n",
        "# y -> 258\n",
        "# z -> x\n",
        "# z는 258"
      ],
      "metadata": {
        "id": "TIPZhJ2R7Twz"
      },
      "execution_count": 4,
      "outputs": []
    },
    {
      "cell_type": "markdown",
      "source": [
        "⬆️ 문제 이해를 잘 못했습니다ㅎㅎ"
      ],
      "metadata": {
        "id": "k9Gkyk_l_nW-"
      }
    },
    {
      "cell_type": "markdown",
      "source": [
        "# 2번 문제\n",
        "\n",
        "다음 파이썬 문법 중 맞은 것을 골라주세요.(3개)\n",
        "```\n",
        "#1번\n",
        "print = 100\n",
        "\n",
        "#2번\n",
        "10 = a\n",
        "\n",
        "#3번\n",
        "k = 100\n",
        "\n",
        "#4번\n",
        "100k = 10000\n",
        "\n",
        "#5번\n",
        "a123 = 'abc'\n",
        "\n",
        "#6번\n",
        "_ = 10\n",
        "```"
      ],
      "metadata": {
        "id": "FVo8r8cfANiQ"
      }
    },
    {
      "cell_type": "code",
      "source": [
        "# 3번, 5번, 6번"
      ],
      "metadata": {
        "id": "h-otoKptAkK3"
      },
      "execution_count": 5,
      "outputs": []
    },
    {
      "cell_type": "markdown",
      "source": [
        "# 3번 문제\n",
        "\n",
        "문자를 사용자에게 입력받고, 그 문자를 2번 출력하는 프로그램을 만들어주세요. 예를 들어 ‘abc’를 입력받는다면 ‘abcabc’를 출력해야 합니다."
      ],
      "metadata": {
        "id": "hFRL8wD3FDol"
      }
    },
    {
      "cell_type": "code",
      "source": [
        "s = input(\"문자를 입력해주세요: \")\n",
        "print(s * 2)"
      ],
      "metadata": {
        "colab": {
          "base_uri": "https://localhost:8080/"
        },
        "id": "ULnSxwSsFIwf",
        "outputId": "183c4850-af6b-494b-9d68-de31623af661"
      },
      "execution_count": 6,
      "outputs": [
        {
          "output_type": "stream",
          "name": "stdout",
          "text": [
            "문자를 입력해주세요: 메렁\n",
            "메렁메렁\n"
          ]
        }
      ]
    },
    {
      "cell_type": "markdown",
      "source": [
        "# 4번 문제\n",
        "아래 변수에서 중복을 제거한 유일한 숫자를 알아내는 코드를 작성해주세요. 형변환을 통해 풀어주세요.\n",
        "`n = 1234567890123123123`"
      ],
      "metadata": {
        "id": "pRc-HEkaFSRU"
      }
    },
    {
      "cell_type": "code",
      "source": [
        "n = 1234567890123123123\n",
        "n_set = set(str(n))\n",
        "print(n_set)"
      ],
      "metadata": {
        "colab": {
          "base_uri": "https://localhost:8080/"
        },
        "id": "BFcLUr0sIOhb",
        "outputId": "e8a487f9-80c5-403a-d05e-bf3f77930dba"
      },
      "execution_count": 8,
      "outputs": [
        {
          "output_type": "stream",
          "name": "stdout",
          "text": [
            "{'6', '1', '4', '8', '7', '0', '9', '5', '2', '3'}\n"
          ]
        }
      ]
    },
    {
      "cell_type": "code",
      "source": [
        "# 정답\n",
        "n = 1234567890123123123\n",
        "len(set(str(n)))"
      ],
      "metadata": {
        "colab": {
          "base_uri": "https://localhost:8080/"
        },
        "id": "amoGfYBNOKPj",
        "outputId": "0f2f0912-06fe-47fb-9b26-36c88e7c5632"
      },
      "execution_count": 17,
      "outputs": [
        {
          "output_type": "execute_result",
          "data": {
            "text/plain": [
              "10"
            ]
          },
          "metadata": {},
          "execution_count": 17
        }
      ]
    },
    {
      "cell_type": "markdown",
      "source": [
        "# 5번 문제\n",
        "문자열 s에 마지막에 있는 문자열을 2번 더 붙이는 코드를 작성해주세요.\n",
        "```\n",
        "s = 'jun'  \n",
        "출력값: 'junnn'\n",
        "```"
      ],
      "metadata": {
        "id": "870mu5VIJLxc"
      }
    },
    {
      "cell_type": "code",
      "source": [
        "s = 'jun'\n",
        "result = s + s[-1] * 2\n",
        "print(result)"
      ],
      "metadata": {
        "colab": {
          "base_uri": "https://localhost:8080/"
        },
        "id": "0UuAOrUvJdwO",
        "outputId": "28a44d1c-ca75-478f-d8ed-e7f1992607a0"
      },
      "execution_count": 9,
      "outputs": [
        {
          "output_type": "stream",
          "name": "stdout",
          "text": [
            "junnn\n"
          ]
        }
      ]
    },
    {
      "cell_type": "markdown",
      "source": [
        "# 6번 문제\n",
        "'abcde', 숫자, 대쉬(-), 언더스코어(_)를 모두 제거해주세요. 문자열에 translate를 사용해주세요.\n",
        "```\n",
        "s = 'hello_world123'  \n",
        "출력값: 'hlloworl'\n",
        "```"
      ],
      "metadata": {
        "id": "IvJPX1heJtbk"
      }
    },
    {
      "cell_type": "code",
      "source": [
        "s = 'hello_world123'\n",
        "\n",
        "s_del = str.maketrans('abcde1234567890-_', '                 ')\n",
        "result = s.translate(s_del).replace(' ','')\n",
        "print(result)"
      ],
      "metadata": {
        "colab": {
          "base_uri": "https://localhost:8080/"
        },
        "id": "PCn6Hgh0J1Vx",
        "outputId": "ced5d714-bea7-4a1c-ffc8-acb21981180d"
      },
      "execution_count": 14,
      "outputs": [
        {
          "output_type": "stream",
          "name": "stdout",
          "text": [
            "hlloworl\n"
          ]
        }
      ]
    },
    {
      "cell_type": "code",
      "source": [
        "# 정답\n",
        "s = 'hello_world123'\n",
        "table = str.maketrans('', '', 'abcde0123456789-_')\n",
        "s.translate(table)"
      ],
      "metadata": {
        "colab": {
          "base_uri": "https://localhost:8080/",
          "height": 36
        },
        "id": "0Q9QnjypOV6B",
        "outputId": "973bbe72-de09-48e9-ee57-999af9909a5f"
      },
      "execution_count": 18,
      "outputs": [
        {
          "output_type": "execute_result",
          "data": {
            "text/plain": [
              "'hlloworl'"
            ],
            "application/vnd.google.colaboratory.intrinsic+json": {
              "type": "string"
            }
          },
          "metadata": {},
          "execution_count": 18
        }
      ]
    },
    {
      "cell_type": "markdown",
      "source": [
        "# 7번 문제\n",
        "확장자를 출력해주는 코드를 작성해주세요. 확장자는 png, jpeg, mp4 등입니다.\n",
        "```\n",
        "s = 'licat.jpeg'\n",
        "# 출력값: 'jpeg'\n",
        "\n",
        "s = 'li.cat.png'\n",
        "# 출력값: 'png'\n",
        "```"
      ],
      "metadata": {
        "id": "RE6iLuB1Kevn"
      }
    },
    {
      "cell_type": "code",
      "source": [
        "s = 'licat.jpeg'\n",
        "result = s.split(\".\")\n",
        "print(result[-1])"
      ],
      "metadata": {
        "colab": {
          "base_uri": "https://localhost:8080/"
        },
        "id": "YnokIH4zK7iu",
        "outputId": "5eb039fb-c709-45df-89f2-6cfbca3b4af7"
      },
      "execution_count": 15,
      "outputs": [
        {
          "output_type": "stream",
          "name": "stdout",
          "text": [
            "jpeg\n"
          ]
        }
      ]
    },
    {
      "cell_type": "code",
      "source": [
        "s = 'li.cat.png'\n",
        "result = s.split(\".\")\n",
        "print(result[-1])"
      ],
      "metadata": {
        "colab": {
          "base_uri": "https://localhost:8080/"
        },
        "id": "_rhGoIbPMGlM",
        "outputId": "93054349-52ae-46d6-fcb5-702a979bd0b0"
      },
      "execution_count": 16,
      "outputs": [
        {
          "output_type": "stream",
          "name": "stdout",
          "text": [
            "png\n"
          ]
        }
      ]
    }
  ]
}