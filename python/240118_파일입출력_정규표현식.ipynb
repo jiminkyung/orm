{
  "nbformat": 4,
  "nbformat_minor": 0,
  "metadata": {
    "colab": {
      "provenance": [],
      "collapsed_sections": [
        "PqSWvkpR_T4L"
      ],
      "authorship_tag": "ABX9TyMHsyS4WYaYuYUttLKmW/cl",
      "include_colab_link": true
    },
    "kernelspec": {
      "name": "python3",
      "display_name": "Python 3"
    },
    "language_info": {
      "name": "python"
    }
  },
  "cells": [
    {
      "cell_type": "markdown",
      "metadata": {
        "id": "view-in-github",
        "colab_type": "text"
      },
      "source": [
        "<a href=\"https://colab.research.google.com/github/jiminkyung/orm/blob/main/python/240118_%ED%8C%8C%EC%9D%BC%EC%9E%85%EC%B6%9C%EB%A0%A5_%EC%A0%95%EA%B7%9C%ED%91%9C%ED%98%84%EC%8B%9D.ipynb\" target=\"_parent\"><img src=\"https://colab.research.google.com/assets/colab-badge.svg\" alt=\"Open In Colab\"/></a>"
      ]
    },
    {
      "cell_type": "markdown",
      "source": [
        "## 어제(0117)연습문제 강사님 답안"
      ],
      "metadata": {
        "id": "PqSWvkpR_T4L"
      }
    },
    {
      "cell_type": "code",
      "execution_count": null,
      "metadata": {
        "id": "UTEwh9nu--m4"
      },
      "outputs": [],
      "source": [
        " # 1번 답\n",
        " # 1.1\n",
        " import time\n",
        "\n",
        " def time_decorator(func):\n",
        "     def wrapper(input_data):\n",
        "         start_time = time.time()\n",
        "         result = func(input_data)\n",
        "         end_time = time.time()\n",
        "         print(f\"함수가 {end_time - start_time} 초가 걸렸습니다.\")\n",
        "         return result\n",
        "     return wrapper\n",
        "\n",
        "@time_decorator\n",
        "def f(data):\n",
        "    s = 0\n",
        "    for i in range(data+1):\n",
        "        s += i\n",
        "    return s\n",
        "\n",
        "f(100)"
      ]
    },
    {
      "cell_type": "code",
      "source": [
        " # 1번 답\n",
        " # 1.2\n",
        " import time\n",
        "\n",
        " def time_decorator(func):\n",
        "     def wrapper():\n",
        "         start_time = time.time()\n",
        "         result = func()\n",
        "         end_time = time.time()\n",
        "         print(f\"함수가 {end_time - start_time} 초가 걸렸습니다.\")\n",
        "         return result\n",
        "     return wrapper\n",
        "\n",
        "@time_decorator\n",
        "def f():\n",
        "    s = 0\n",
        "    for i in range(101):\n",
        "        s += i\n",
        "    return s\n",
        "\n",
        "f()"
      ],
      "metadata": {
        "id": "wLbKh5f__GZX"
      },
      "execution_count": null,
      "outputs": []
    },
    {
      "cell_type": "code",
      "source": [
        "# 2번 답\n",
        "\n",
        "def gen():\n",
        "    for i in range(0, 101, 2):\n",
        "        yield i\n",
        "    return\n",
        "\n",
        "# for i in gen():\n",
        "#     print(i)\n",
        "\n",
        "list(zip('hello world', gen()))"
      ],
      "metadata": {
        "id": "vkQxv6Sh_MkJ"
      },
      "execution_count": null,
      "outputs": []
    },
    {
      "cell_type": "code",
      "source": [
        "# 3번 답\n",
        "# 예외처리 문제: 사용자로부터 두 개의 숫자를 입력받아 나눗셈을 수행하는 함수를 작성하세요.\n",
        "# 이 때 0으로 나눌 때에는 예외처리를 해주세요.\n",
        "\n",
        "def divide(x, y):\n",
        "    try:\n",
        "        return x / y\n",
        "    except:\n",
        "        return 0\n",
        "\n",
        "divide(1, 0)"
      ],
      "metadata": {
        "id": "Uqhbli2I_PMh"
      },
      "execution_count": null,
      "outputs": []
    },
    {
      "cell_type": "markdown",
      "source": [
        "# 파이썬 버전별 변동사항"
      ],
      "metadata": {
        "id": "Wv5yliP3_yg0"
      }
    },
    {
      "cell_type": "markdown",
      "source": [
        "* Python 3.5: async await\n",
        "* Python 3.6: Dict에 순서, f-string, 타입힌트\n",
        "* Python 3.7: dataclasses\n",
        "* Python 3.8: 왈러스 연산자(:=)\n",
        "* Python 3.9: 딕셔너리 결합 연산자(|)\n",
        "* Python 3.10: match"
      ],
      "metadata": {
        "id": "3LNC3BDCl5oM"
      }
    },
    {
      "cell_type": "code",
      "source": [
        "# id, name, email이 각각 3번씩 반복\n",
        "# -> 이러한 현상을  보일러 플레이트(boiler-plate)라 함\n",
        "# -> print를 해도 필드값이 보이지 않아 불편\n",
        "class User:\n",
        "    def __init__(self, id, name, email):\n",
        "        self.id = id\n",
        "        self.name = name\n",
        "        self.email = email"
      ],
      "metadata": {
        "id": "-aK6k86D_z5S"
      },
      "execution_count": null,
      "outputs": []
    },
    {
      "cell_type": "code",
      "source": [
        "# 실무에서 사용하시는 분 아무도 못봤습니다.\n",
        "# 그래서 복습X\n",
        "# 정말 좋은 기능인데....\n",
        "\n",
        "from dataclasses import dataclass\n",
        "\n",
        "@dataclass\n",
        "class User:\n",
        "    id: int\n",
        "    name: str\n",
        "    email : str\n",
        "\n",
        "user = User(123, 'hojun', 'hojun@gmail')\n",
        "user"
      ],
      "metadata": {
        "colab": {
          "base_uri": "https://localhost:8080/"
        },
        "id": "fHU3hVrCATB-",
        "outputId": "37c480fc-2347-4a59-e0fd-5671d98c01e8"
      },
      "execution_count": 42,
      "outputs": [
        {
          "output_type": "execute_result",
          "data": {
            "text/plain": [
              "User(id=123, name='hojun', email='hojun@gmail')"
            ]
          },
          "metadata": {},
          "execution_count": 42
        }
      ]
    },
    {
      "cell_type": "code",
      "source": [
        "x = {\"key1\": \"value1\"}\n",
        "y = {\"key2\": \"value2\"}\n",
        "z = x | y\n",
        "z"
      ],
      "metadata": {
        "colab": {
          "base_uri": "https://localhost:8080/"
        },
        "id": "sZGlgXo9mGKw",
        "outputId": "f8a73dac-5acd-4934-901e-5d0565ac3732"
      },
      "execution_count": 43,
      "outputs": [
        {
          "output_type": "execute_result",
          "data": {
            "text/plain": [
              "{'key1': 'value1', 'key2': 'value2'}"
            ]
          },
          "metadata": {},
          "execution_count": 43
        }
      ]
    },
    {
      "cell_type": "markdown",
      "source": [
        "# 파일 입출력"
      ],
      "metadata": {
        "id": "-DLRO3zdAbHE"
      }
    },
    {
      "cell_type": "code",
      "source": [
        "# open(파일이름, 파일모드)\n",
        "f = open('python.txt', 'w') # 파일모드 : r, w, a, r+,\n",
        "f.close()"
      ],
      "metadata": {
        "id": "JlZaIMRtAYbR"
      },
      "execution_count": null,
      "outputs": []
    },
    {
      "cell_type": "code",
      "source": [
        "# 파일은 열었으면 꼭 닫으셔야 합니다.\n",
        "# 닫지 않으면 메모리가 살아있습니다!\n",
        "f = open('python.txt', 'w') # 파일모드 : r, w, a, r+,\n",
        "f.write('hello world')\n",
        "f.close()"
      ],
      "metadata": {
        "id": "7vy192ORA68B"
      },
      "execution_count": null,
      "outputs": []
    },
    {
      "cell_type": "markdown",
      "source": [
        "`close()`를 까먹는 경우가 많아서 밑의 방식을 선호한다.  \n",
        "따로 닫아줄 필요가 없는 코드다."
      ],
      "metadata": {
        "id": "x6NXB0DUBIYF"
      }
    },
    {
      "cell_type": "code",
      "source": [
        "with open('test.txt', 'w') as f:\n",
        "    f.write('hello world!')"
      ],
      "metadata": {
        "id": "PoSzs_RlBMb1"
      },
      "execution_count": null,
      "outputs": []
    },
    {
      "cell_type": "code",
      "source": [
        "db_data = [\n",
        "  {\n",
        "    \"_id\": \"7f5440ab-7e2f-4a42-Be13-89987fa65b32\",\n",
        "    \"index\": \"1\",\n",
        "    \"name\": \"등윤상\",\n",
        "    \"email\": \"user-qe89s09@ut.io\",\n",
        "    \"phone\": \"010-3542-7711\",\n",
        "    \"country\": \"키리바시\",\n",
        "    \"address\": \"방학로 74-9\",\n",
        "    \"job\": \"일러스트레이터\"\n",
        "  },\n",
        "  {\n",
        "    \"_id\": \"b4f7ade0-38bb-4e6f-B94a-18af1426eb30\",\n",
        "    \"index\": \"2\",\n",
        "    \"name\": \"노동규\",\n",
        "    \"email\": \"user-nyr5mqw@ornare.com\",\n",
        "    \"phone\": \"010-9743-6320\",\n",
        "    \"country\": \"베냉\",\n",
        "    \"address\": \"남부순환로 54-6\",\n",
        "    \"job\": \"애완동물미용사\"\n",
        "  },\n",
        "  {\n",
        "    \"_id\": \"5d788255-8d5e-4f03-B446-dbac6a147e37\",\n",
        "    \"index\": \"3\",\n",
        "    \"name\": \"경진아\",\n",
        "    \"email\": \"user-n7pey4v@Etiam.biz\",\n",
        "    \"phone\": \"010-4049-8718\",\n",
        "    \"country\": \"아르메니아\",\n",
        "    \"address\": \"강남대로 87-5\",\n",
        "    \"job\": \"플로리스트\"\n",
        "  },\n",
        "  {\n",
        "    \"_id\": \"083efce4-17ed-4e9f-Ad7c-f9aa0ac6cb79\",\n",
        "    \"index\": \"4\",\n",
        "    \"name\": \"복소유\",\n",
        "    \"email\": \"user-ohaz2is@nibh.biz\",\n",
        "    \"phone\": \"010-3400-5945\",\n",
        "    \"country\": \"페루\",\n",
        "    \"address\": \"양산로 78-1\",\n",
        "    \"job\": \"응급구조사\"\n",
        "  },\n",
        "  {\n",
        "    \"_id\": \"d54ce0fa-c025-4af6-Cd9a-b9d10aa8be5a\",\n",
        "    \"index\": \"5\",\n",
        "    \"name\": \"화예빈\",\n",
        "    \"email\": \"user-mnkpdlp@vel.net\",\n",
        "    \"phone\": \"010-3120-8720\",\n",
        "    \"country\": \"허드 및 맥도널드 제도\",\n",
        "    \"address\": \"한남대로 6-2\",\n",
        "    \"job\": \"전문의사\"\n",
        "  }\n",
        "]"
      ],
      "metadata": {
        "id": "3325g5AMBSn6"
      },
      "execution_count": 1,
      "outputs": []
    },
    {
      "cell_type": "code",
      "source": [
        "# 미션 1\n",
        "# 각각의 회원 이름_info.txt로 각각 정보 정리\n",
        "\n",
        "# 미션 2\n",
        "# 엑셀로 각각 정보 정리\n",
        "\n",
        "# 미션 3\n",
        "# html로 table로 정리하기 => table 클릭하면 정렬되게 하기(JS를 배우셨으면 했을텐데ㅜㅜ 나중에 해보세요.)"
      ],
      "metadata": {
        "id": "r2cG9OZvBzY7"
      },
      "execution_count": 2,
      "outputs": []
    },
    {
      "cell_type": "markdown",
      "source": [
        "공식처럼 외우세요! 데이터를 뽑고싶으면 `map`!"
      ],
      "metadata": {
        "id": "yh2f0_tMGLqC"
      }
    },
    {
      "cell_type": "code",
      "source": [
        "# 미션 1\n",
        "# 각각의 회원 이름_info.txt로 각각 정보 정리\n",
        "list(map(lambda x: x['name'], db_data))\n",
        "\n",
        "for i, name in enumerate(map(lambda x: x['name'], db_data)):\n",
        "    with open(f'{name}_info.txt', 'w') as f:\n",
        "        f.write(str(db_data[i]))"
      ],
      "metadata": {
        "id": "PsxaT3X1Dcu3"
      },
      "execution_count": 4,
      "outputs": []
    },
    {
      "cell_type": "code",
      "source": [
        "# 미션 2\n",
        "# 엑셀로 각각 정보 정리\n",
        "# \"_id\": \"d54ce0fa-c025-4af6-Cd9a-b9d10aa8be5a\",\n",
        "# \"index\": \"5\",\n",
        "# \"name\": \"화예빈\",\n",
        "# \"email\": \"user-mnkpdlp@vel.net\",\n",
        "# \"phone\": \"010-3120-8720\",\n",
        "# \"country\": \"허드 및 맥도널드 제도\",\n",
        "# \"address\": \"한남대로 6-2\",\n",
        "# \"job\": \"전문의사\"\n",
        "with open('data.csv', 'w') as f:\n",
        "    s = '아이디,인덱스,이름,이메일,휴대폰,나라,주소,직업\\n'\n",
        "    for i in db_data:\n",
        "        s += f'{i[\"_id\"]},{i[\"index\"]},{i[\"name\"]},{i[\"email\"]},{i[\"phone\"]},{i[\"country\"]},{i[\"address\"]},{i[\"job\"]}\\n'\n",
        "    f.write(s)"
      ],
      "metadata": {
        "id": "GpFwXdj-Gvg0"
      },
      "execution_count": 5,
      "outputs": []
    },
    {
      "cell_type": "code",
      "source": [
        "# 부록\n",
        "# 엑셀라이터\n",
        "# 복습 X\n",
        "\n",
        "# 대량으로 파일 정리할때 유용합니다 ㅎㅎ"
      ],
      "metadata": {
        "id": "EpOjnjcjJFn-"
      },
      "execution_count": 6,
      "outputs": []
    },
    {
      "cell_type": "code",
      "source": [
        "!pip install xlsxwriter"
      ],
      "metadata": {
        "colab": {
          "base_uri": "https://localhost:8080/"
        },
        "id": "S25oLfxYJQKH",
        "outputId": "8dfad187-88c9-40cf-d1d7-91a348c21c59"
      },
      "execution_count": 8,
      "outputs": [
        {
          "output_type": "stream",
          "name": "stdout",
          "text": [
            "Collecting xlsxwriter\n",
            "  Downloading XlsxWriter-3.1.9-py3-none-any.whl (154 kB)\n",
            "\u001b[?25l     \u001b[90m━━━━━━━━━━━━━━━━━━━━━━━━━━━━━━━━━━━━━━━━\u001b[0m \u001b[32m0.0/154.8 kB\u001b[0m \u001b[31m?\u001b[0m eta \u001b[36m-:--:--\u001b[0m\r\u001b[2K     \u001b[91m━━━━━━━━━━━━━━━━━━\u001b[0m\u001b[91m╸\u001b[0m\u001b[90m━━━━━━━━━━━━━━━━━━━━━\u001b[0m \u001b[32m71.7/154.8 kB\u001b[0m \u001b[31m2.0 MB/s\u001b[0m eta \u001b[36m0:00:01\u001b[0m\r\u001b[2K     \u001b[90m━━━━━━━━━━━━━━━━━━━━━━━━━━━━━━━━━━━━━━━━\u001b[0m \u001b[32m154.8/154.8 kB\u001b[0m \u001b[31m3.0 MB/s\u001b[0m eta \u001b[36m0:00:00\u001b[0m\n",
            "\u001b[?25hInstalling collected packages: xlsxwriter\n",
            "Successfully installed xlsxwriter-3.1.9\n"
          ]
        }
      ]
    },
    {
      "cell_type": "code",
      "source": [
        "# request나 bs4은 기본 모듈이 아닌데 colab에 깔려 있는 것입니다.\n",
        "# 데스크톱에서 깔려있는지 확인하시지 않고 실행시키면 모듈이 없다고 나옵니다."
      ],
      "metadata": {
        "id": "ZV9NP8A3JTp6"
      },
      "execution_count": 9,
      "outputs": []
    },
    {
      "cell_type": "code",
      "source": [
        "# 워크북(엑셀파일 1개입니다.)\n",
        "# 워크시트(sheet이라고 아래 여러개의 sheet를 만들 수 있습니다.)\n",
        "# 셀(네모 칸 하나)"
      ],
      "metadata": {
        "id": "AZiWN9ADJqSC"
      },
      "execution_count": 10,
      "outputs": []
    },
    {
      "cell_type": "code",
      "source": [
        "import xlsxwriter\n",
        "\n",
        "workbook = xlsxwriter.Workbook('hello.xlsx')\n",
        "worksheet = workbook.add_worksheet('test')\n",
        "\n",
        "worksheet.write('A1', 'A')\n",
        "worksheet.write('B1', 'B')\n",
        "worksheet.write('C1', 'C')\n",
        "worksheet.write('A2', 'D')\n",
        "worksheet.write('B2', 'E')\n",
        "worksheet.write('C2', 'F')\n",
        "\n",
        "worksheet.write(2, 0, 'hello')\n",
        "worksheet.write(2, 1, 'world')\n",
        "worksheet.write(2, 2, 'jimmy')\n",
        "\n",
        "workbook.close()"
      ],
      "metadata": {
        "id": "YzeSTA8wKPCc"
      },
      "execution_count": 13,
      "outputs": []
    },
    {
      "cell_type": "code",
      "source": [
        "import xlsxwriter\n",
        "\n",
        "workbook = xlsxwriter.Workbook('hello.xlsx')\n",
        "worksheet = workbook.add_worksheet('test')\n",
        "\n",
        "철수 = [10, 20, 30]\n",
        "영희 = [40, 50, 60]\n",
        "\n",
        "worksheet.write('A1', '국')\n",
        "worksheet.write('B1', '영')\n",
        "worksheet.write('C1', '수')\n",
        "worksheet.write('A2', 철수[0])\n",
        "worksheet.write('B2', 철수[1])\n",
        "worksheet.write('C2', 철수[2])\n",
        "worksheet.write('A3', 영희[0])\n",
        "worksheet.write('B3', 영희[1])\n",
        "worksheet.write('C3', 영희[2])\n",
        "\n",
        "for i in zip('ABC', 철수, 영희):\n",
        "    worksheet.write(f'{i[0]}4', i[1] + i[2])\n",
        "\n",
        "# D1에 평균 텍스트 삽입\n",
        "worksheet.write('D1', '평균')\n",
        "# 수식 삽입\n",
        "worksheet.write('D2', '=SUM(A2:C2)/3')\n",
        "worksheet.write('D3', '=SUM(A3:C3)/3')\n",
        "\n",
        "workbook.close()"
      ],
      "metadata": {
        "id": "-wJKjIIOK4gi"
      },
      "execution_count": 16,
      "outputs": []
    },
    {
      "cell_type": "code",
      "source": [
        "for i in zip('ABC', 철수, 영희):\n",
        "    print(f'{i[0]}4', i[1] + i[2])"
      ],
      "metadata": {
        "colab": {
          "base_uri": "https://localhost:8080/"
        },
        "id": "oxdJlhZ5MyaV",
        "outputId": "16717c55-5624-489f-8591-9ab37140ec85"
      },
      "execution_count": 15,
      "outputs": [
        {
          "output_type": "stream",
          "name": "stdout",
          "text": [
            "A4 50\n",
            "B4 70\n",
            "C4 90\n"
          ]
        }
      ]
    },
    {
      "cell_type": "code",
      "source": [
        "# 크롤링\n",
        "# 웹크롤링 -> 엑셀\n",
        "# 한글파일 크롤링 -> 엑셀\n",
        "# PDF 크롤링 -> 엑셀\n",
        "\n",
        "# 파일 형식 변환\n",
        "# CSV => xlsx\n",
        "# JSON => xlsx\n",
        "\n",
        "# 매크로\n",
        "# 매크로 작동 로직 => 엑셀"
      ],
      "metadata": {
        "id": "boeZobYAMy-D"
      },
      "execution_count": 17,
      "outputs": []
    },
    {
      "cell_type": "code",
      "source": [
        "# 미션 3\n",
        "# html로 table로 정리하기\n",
        "db_data"
      ],
      "metadata": {
        "colab": {
          "base_uri": "https://localhost:8080/"
        },
        "id": "Oro6bdMbOgXt",
        "outputId": "d6c435d5-66d9-4ee4-97e8-11b652d824c8"
      },
      "execution_count": 18,
      "outputs": [
        {
          "output_type": "execute_result",
          "data": {
            "text/plain": [
              "[{'_id': '7f5440ab-7e2f-4a42-Be13-89987fa65b32',\n",
              "  'index': '1',\n",
              "  'name': '등윤상',\n",
              "  'email': 'user-qe89s09@ut.io',\n",
              "  'phone': '010-3542-7711',\n",
              "  'country': '키리바시',\n",
              "  'address': '방학로 74-9',\n",
              "  'job': '일러스트레이터'},\n",
              " {'_id': 'b4f7ade0-38bb-4e6f-B94a-18af1426eb30',\n",
              "  'index': '2',\n",
              "  'name': '노동규',\n",
              "  'email': 'user-nyr5mqw@ornare.com',\n",
              "  'phone': '010-9743-6320',\n",
              "  'country': '베냉',\n",
              "  'address': '남부순환로 54-6',\n",
              "  'job': '애완동물미용사'},\n",
              " {'_id': '5d788255-8d5e-4f03-B446-dbac6a147e37',\n",
              "  'index': '3',\n",
              "  'name': '경진아',\n",
              "  'email': 'user-n7pey4v@Etiam.biz',\n",
              "  'phone': '010-4049-8718',\n",
              "  'country': '아르메니아',\n",
              "  'address': '강남대로 87-5',\n",
              "  'job': '플로리스트'},\n",
              " {'_id': '083efce4-17ed-4e9f-Ad7c-f9aa0ac6cb79',\n",
              "  'index': '4',\n",
              "  'name': '복소유',\n",
              "  'email': 'user-ohaz2is@nibh.biz',\n",
              "  'phone': '010-3400-5945',\n",
              "  'country': '페루',\n",
              "  'address': '양산로 78-1',\n",
              "  'job': '응급구조사'},\n",
              " {'_id': 'd54ce0fa-c025-4af6-Cd9a-b9d10aa8be5a',\n",
              "  'index': '5',\n",
              "  'name': '화예빈',\n",
              "  'email': 'user-mnkpdlp@vel.net',\n",
              "  'phone': '010-3120-8720',\n",
              "  'country': '허드 및 맥도널드 제도',\n",
              "  'address': '한남대로 6-2',\n",
              "  'job': '전문의사'}]"
            ]
          },
          "metadata": {},
          "execution_count": 18
        }
      ]
    },
    {
      "cell_type": "code",
      "source": [
        "s = '''\n",
        "<style>\n",
        "    table {\n",
        "        border-collapse: collapse;\n",
        "        width: 100%;\n",
        "        border: 1px solid black;\n",
        "    }\n",
        "    tr, td, th {\n",
        "        border: 1px solid black;\n",
        "    }\n",
        "</style>\n",
        "<table>\n",
        "    <tr>\n",
        "        <th>아이디</th>\n",
        "        <th>인덱스</th>\n",
        "        <th>이름</th>\n",
        "        <th>이메일</th>\n",
        "        <th>휴대폰</th>\n",
        "        <th>나라</th>\n",
        "        <th>주소</th>\n",
        "        <th>직업</th>\n",
        "    </tr>\n",
        "'''\n",
        "\n",
        "for item in db_data:\n",
        "    s += f'''\n",
        "        <tr>\n",
        "                <td>{item[\"_id\"]}</td>\n",
        "                <td>{item[\"index\"]}</td>\n",
        "                <td>{item[\"name\"]}</td>\n",
        "                <td>{item[\"email\"]}</td>\n",
        "                <td>{item[\"phone\"]}</td>\n",
        "                <td>{item[\"country\"]}</td>\n",
        "                <td>{item[\"address\"]}</td>\n",
        "                <td>{item[\"job\"]}</td>\n",
        "        </tr>\n",
        "        '''\n",
        "\n",
        "s += '</table>'\n",
        "\n",
        "with open('test.html', 'w') as f:\n",
        "    f.write(s)"
      ],
      "metadata": {
        "id": "0KZgI3BAOmUc"
      },
      "execution_count": 19,
      "outputs": []
    },
    {
      "cell_type": "code",
      "source": [
        "f = open('test.html', 'r')\n",
        "while True:\n",
        "    line = f.readline()\n",
        "    if not line:\n",
        "        break\n",
        "    print(line, end='')\n",
        "f.close()"
      ],
      "metadata": {
        "colab": {
          "base_uri": "https://localhost:8080/"
        },
        "id": "zJfDjwzwWit1",
        "outputId": "8715d6de-6c22-4c28-91ba-ff861d3de1e9"
      },
      "execution_count": 24,
      "outputs": [
        {
          "output_type": "stream",
          "name": "stdout",
          "text": [
            "\n",
            "<style>\n",
            "    table {\n",
            "        border-collapse: collapse;\n",
            "        width: 100%;\n",
            "        border: 1px solid black;\n",
            "    }\n",
            "    tr, td, th {\n",
            "        border: 1px solid black;\n",
            "    }\n",
            "</style>\n",
            "<table>\n",
            "    <tr>\n",
            "        <th>아이디</th>\n",
            "        <th>인덱스</th>\n",
            "        <th>이름</th>\n",
            "        <th>이메일</th>\n",
            "        <th>휴대폰</th>\n",
            "        <th>나라</th>\n",
            "        <th>주소</th>\n",
            "        <th>직업</th>\n",
            "    </tr>\n",
            "\n",
            "        <tr>\n",
            "                <td>7f5440ab-7e2f-4a42-Be13-89987fa65b32</td>\n",
            "                <td>1</td>\n",
            "                <td>등윤상</td>\n",
            "                <td>user-qe89s09@ut.io</td>\n",
            "                <td>010-3542-7711</td>\n",
            "                <td>키리바시</td>\n",
            "                <td>방학로 74-9</td>\n",
            "                <td>일러스트레이터</td>\n",
            "        </tr>\n",
            "        \n",
            "        <tr>\n",
            "                <td>b4f7ade0-38bb-4e6f-B94a-18af1426eb30</td>\n",
            "                <td>2</td>\n",
            "                <td>노동규</td>\n",
            "                <td>user-nyr5mqw@ornare.com</td>\n",
            "                <td>010-9743-6320</td>\n",
            "                <td>베냉</td>\n",
            "                <td>남부순환로 54-6</td>\n",
            "                <td>애완동물미용사</td>\n",
            "        </tr>\n",
            "        \n",
            "        <tr>\n",
            "                <td>5d788255-8d5e-4f03-B446-dbac6a147e37</td>\n",
            "                <td>3</td>\n",
            "                <td>경진아</td>\n",
            "                <td>user-n7pey4v@Etiam.biz</td>\n",
            "                <td>010-4049-8718</td>\n",
            "                <td>아르메니아</td>\n",
            "                <td>강남대로 87-5</td>\n",
            "                <td>플로리스트</td>\n",
            "        </tr>\n",
            "        \n",
            "        <tr>\n",
            "                <td>083efce4-17ed-4e9f-Ad7c-f9aa0ac6cb79</td>\n",
            "                <td>4</td>\n",
            "                <td>복소유</td>\n",
            "                <td>user-ohaz2is@nibh.biz</td>\n",
            "                <td>010-3400-5945</td>\n",
            "                <td>페루</td>\n",
            "                <td>양산로 78-1</td>\n",
            "                <td>응급구조사</td>\n",
            "        </tr>\n",
            "        \n",
            "        <tr>\n",
            "                <td>d54ce0fa-c025-4af6-Cd9a-b9d10aa8be5a</td>\n",
            "                <td>5</td>\n",
            "                <td>화예빈</td>\n",
            "                <td>user-mnkpdlp@vel.net</td>\n",
            "                <td>010-3120-8720</td>\n",
            "                <td>허드 및 맥도널드 제도</td>\n",
            "                <td>한남대로 6-2</td>\n",
            "                <td>전문의사</td>\n",
            "        </tr>\n",
            "        </table>"
          ]
        }
      ]
    },
    {
      "cell_type": "code",
      "source": [
        "f = open('test.html', 'r')\n",
        "data = f.read()\n",
        "print(data)\n",
        "f.close()"
      ],
      "metadata": {
        "colab": {
          "base_uri": "https://localhost:8080/"
        },
        "id": "B4EdmwTgXYDy",
        "outputId": "a45cbee2-4390-4a2e-c9f2-8adc0729be89"
      },
      "execution_count": 23,
      "outputs": [
        {
          "output_type": "stream",
          "name": "stdout",
          "text": [
            "\n",
            "<style>\n",
            "    table {\n",
            "        border-collapse: collapse;\n",
            "        width: 100%;\n",
            "        border: 1px solid black;\n",
            "    }\n",
            "    tr, td, th {\n",
            "        border: 1px solid black;\n",
            "    }\n",
            "</style>\n",
            "<table>\n",
            "    <tr>\n",
            "        <th>아이디</th>\n",
            "        <th>인덱스</th>\n",
            "        <th>이름</th>\n",
            "        <th>이메일</th>\n",
            "        <th>휴대폰</th>\n",
            "        <th>나라</th>\n",
            "        <th>주소</th>\n",
            "        <th>직업</th>\n",
            "    </tr>\n",
            "\n",
            "        <tr>\n",
            "                <td>7f5440ab-7e2f-4a42-Be13-89987fa65b32</td>\n",
            "                <td>1</td>\n",
            "                <td>등윤상</td>\n",
            "                <td>user-qe89s09@ut.io</td>\n",
            "                <td>010-3542-7711</td>\n",
            "                <td>키리바시</td>\n",
            "                <td>방학로 74-9</td>\n",
            "                <td>일러스트레이터</td>\n",
            "        </tr>\n",
            "        \n",
            "        <tr>\n",
            "                <td>b4f7ade0-38bb-4e6f-B94a-18af1426eb30</td>\n",
            "                <td>2</td>\n",
            "                <td>노동규</td>\n",
            "                <td>user-nyr5mqw@ornare.com</td>\n",
            "                <td>010-9743-6320</td>\n",
            "                <td>베냉</td>\n",
            "                <td>남부순환로 54-6</td>\n",
            "                <td>애완동물미용사</td>\n",
            "        </tr>\n",
            "        \n",
            "        <tr>\n",
            "                <td>5d788255-8d5e-4f03-B446-dbac6a147e37</td>\n",
            "                <td>3</td>\n",
            "                <td>경진아</td>\n",
            "                <td>user-n7pey4v@Etiam.biz</td>\n",
            "                <td>010-4049-8718</td>\n",
            "                <td>아르메니아</td>\n",
            "                <td>강남대로 87-5</td>\n",
            "                <td>플로리스트</td>\n",
            "        </tr>\n",
            "        \n",
            "        <tr>\n",
            "                <td>083efce4-17ed-4e9f-Ad7c-f9aa0ac6cb79</td>\n",
            "                <td>4</td>\n",
            "                <td>복소유</td>\n",
            "                <td>user-ohaz2is@nibh.biz</td>\n",
            "                <td>010-3400-5945</td>\n",
            "                <td>페루</td>\n",
            "                <td>양산로 78-1</td>\n",
            "                <td>응급구조사</td>\n",
            "        </tr>\n",
            "        \n",
            "        <tr>\n",
            "                <td>d54ce0fa-c025-4af6-Cd9a-b9d10aa8be5a</td>\n",
            "                <td>5</td>\n",
            "                <td>화예빈</td>\n",
            "                <td>user-mnkpdlp@vel.net</td>\n",
            "                <td>010-3120-8720</td>\n",
            "                <td>허드 및 맥도널드 제도</td>\n",
            "                <td>한남대로 6-2</td>\n",
            "                <td>전문의사</td>\n",
            "        </tr>\n",
            "        </table>\n"
          ]
        }
      ]
    },
    {
      "cell_type": "code",
      "source": [
        "f = open('test.html', 'a')\n",
        "s = '<p>hello world!</p>'\n",
        "f.write(s)\n",
        "f.close()"
      ],
      "metadata": {
        "id": "bWiwKWECa8Q0"
      },
      "execution_count": null,
      "outputs": []
    },
    {
      "cell_type": "code",
      "source": [
        "# 1. 제가 권하는 복습 방법: algo문제 푸는 것(프로그래머스(Lv0), 100pyalgo(Lv0~2))\n",
        "# 2. 이론을 복습하길 원하는 분: 인프런 영상 드린 파이썬 부트캠프 (타이핑 치지 않고 1번, 타이핑 치고 1번)"
      ],
      "metadata": {
        "id": "GgAtLdpNU-Z8"
      },
      "execution_count": 25,
      "outputs": []
    },
    {
      "cell_type": "markdown",
      "source": [
        "# 비트연산"
      ],
      "metadata": {
        "id": "-KqpkB-aYEtU"
      }
    },
    {
      "cell_type": "code",
      "source": [
        "# 실무에서 비트연산을 하는 경우가 거~~~의 없습니다.\n",
        "# 알고리즘 테스트에서 CS지식 정도를 테스트 하는 용도로 간혹 출제가 됩니다.\n",
        "# 진법: 수학 기초 상식\n",
        "\n",
        "# 10진법\n",
        "# 1542 == 1 * (10**3) + 5 * (10**2) + 4 * (10**1) + 2 * (10**0)\n",
        "# 0123456789 10\n",
        "\n",
        "# 16진법\n",
        "# 1542 == 1 * (16**3) + 5 * (16**2) + 4 * (16**1) + 2 * (16**0)\n",
        "# 0123456789abcdef 10\n",
        "\n",
        "# 8진법\n",
        "# 1542 == 1 * (8**3) + 5 * (8**2) + 4 * (8**1) + 2 * (8**0)\n",
        "# 01234567 10\n",
        "\n",
        "# 01 10"
      ],
      "metadata": {
        "id": "elnjOB15YGgX"
      },
      "execution_count": 26,
      "outputs": []
    },
    {
      "cell_type": "code",
      "source": [
        "# 진법 변환 팁\n",
        "# 10진 == 2진\n",
        "# 1 == 1\n",
        "# 2 == 10\n",
        "# 4 == 100\n",
        "# 8 == 1000\n",
        "# 16 == 10000\n",
        "\n",
        "# 9는? 8 + 1 => 1000 + 1 => 1001\n",
        "# 15는? 16 - 1 => 10000 - 1 => 1111"
      ],
      "metadata": {
        "id": "jvMoXecJaKzn"
      },
      "execution_count": 27,
      "outputs": []
    },
    {
      "cell_type": "code",
      "source": [
        "# 3 & 9 (AND 연산)\n",
        "\n",
        "# 0011\n",
        "# 1001\n",
        "# ----\n",
        "# 0001"
      ],
      "metadata": {
        "id": "AncwVIKjaMlu"
      },
      "execution_count": 28,
      "outputs": []
    },
    {
      "cell_type": "code",
      "source": [
        "# 3 | 9 (OR 연산)\n",
        "\n",
        "# 0011\n",
        "# 1001\n",
        "# ----\n",
        "# 1011 => 11"
      ],
      "metadata": {
        "id": "E7EZ0vDaaYej"
      },
      "execution_count": 29,
      "outputs": []
    },
    {
      "cell_type": "code",
      "source": [
        "3 | 9"
      ],
      "metadata": {
        "colab": {
          "base_uri": "https://localhost:8080/"
        },
        "id": "XszFCGRqawv2",
        "outputId": "7375d185-402c-4ecc-9681-0c70842c1666"
      },
      "execution_count": 30,
      "outputs": [
        {
          "output_type": "execute_result",
          "data": {
            "text/plain": [
              "11"
            ]
          },
          "metadata": {},
          "execution_count": 30
        }
      ]
    },
    {
      "cell_type": "markdown",
      "source": [
        "나머지 `xor, not, shift`연산은 잘 안나온다."
      ],
      "metadata": {
        "id": "k8csvG8BazV6"
      }
    },
    {
      "cell_type": "code",
      "source": [
        "# 복습 XXX\n",
        "# 8개의 비트(bit)를 숫자로 사용할 수 있습니다.\n",
        "# 8개 비트 사용하면 1개를 부호 비트\n",
        "00000000\n",
        "00000001 == 1\n",
        "11111110 == -1\n",
        "11111111 + 1 => 00000000(우리가 원하는 값)"
      ],
      "metadata": {
        "id": "6cOa9mMUeLVx"
      },
      "execution_count": null,
      "outputs": []
    },
    {
      "cell_type": "markdown",
      "source": [
        "## 카카오 코딩테스트 문제!\n",
        "https://school.programmers.co.kr/learn/courses/30/lessons/17681?language=python3"
      ],
      "metadata": {
        "id": "OzzHDm4xa9El"
      }
    },
    {
      "cell_type": "code",
      "source": [
        "# 매개변수\t값\n",
        "# n\t5\n",
        "# arr1\t[9, 20, 28, 18, 11]\n",
        "# arr2\t[30, 1, 21, 17, 28]\n",
        "# 출력\t[\"#####\",\"# # #\", \"### #\", \"# ##\", \"#####\"]"
      ],
      "metadata": {
        "id": "wIgBJU9ReAkv"
      },
      "execution_count": 32,
      "outputs": []
    },
    {
      "cell_type": "code",
      "source": [
        "9 | 30\n",
        "bin(9 | 30)\n",
        "bin(9 | 30)[2:]\n",
        "bin(9 | 30)[2:].replace('1', '#').replace('0', ' ')\n",
        "\n",
        "arr1 = [9, 20, 28, 18, 11]\n",
        "arr2 = [30, 1, 21, 17, 28]\n",
        "\n",
        "for i, j in zip(arr1, arr2):\n",
        "    print(bin(i | j)[2:].replace('1', '#').replace('0', ' '))"
      ],
      "metadata": {
        "colab": {
          "base_uri": "https://localhost:8080/"
        },
        "id": "-n4pV-VBePvi",
        "outputId": "95f998d8-1eb9-4064-c6e3-06062873d9ac"
      },
      "execution_count": 33,
      "outputs": [
        {
          "output_type": "stream",
          "name": "stdout",
          "text": [
            "#####\n",
            "# # #\n",
            "### #\n",
            "#  ##\n",
            "#####\n"
          ]
        }
      ]
    },
    {
      "cell_type": "code",
      "source": [
        "bin(31) # 2진법 변환 '0b11111'\n",
        "oct(31) # 8진법 변환 '0o37'\n",
        "hex(31) # 16진법 변환 '0x1f'\n",
        "# 다 str값으로 반환된다.\n",
        "\n",
        "int('0b11111', 2) # 2진수를 10진수로 변환\n",
        "int('11111', 2) # 2진수를 10진수로 변환"
      ],
      "metadata": {
        "colab": {
          "base_uri": "https://localhost:8080/"
        },
        "id": "PLkvLpyFhFHZ",
        "outputId": "d0f7e560-c3c3-46c6-bd14-3f4ccfb819a1"
      },
      "execution_count": 35,
      "outputs": [
        {
          "output_type": "execute_result",
          "data": {
            "text/plain": [
              "31"
            ]
          },
          "metadata": {},
          "execution_count": 35
        }
      ]
    },
    {
      "cell_type": "markdown",
      "source": [
        "# f-sting 용법"
      ],
      "metadata": {
        "id": "8TZHTamYjDgH"
      }
    },
    {
      "cell_type": "code",
      "source": [
        "# print에 들어가는 문자열 만들기\n",
        "\n",
        "name = '지민경'; age = 15\n",
        "\n",
        "# 처음에 나왔던 % 용법 (이젠 잘 안쓴다)\n",
        "'제 이름은 %s이고 제 나이는 %d입니다.'%(name, age)\n",
        "# 그 다음에 나온게 format 용법\n",
        "'제 이름은 {}이고 제 나이는 {}입니다.'.format(name, age)\n",
        "# f-string 문법\n",
        "f'제 이름은 {name}이고 제 나이는 {age}입니다.'"
      ],
      "metadata": {
        "colab": {
          "base_uri": "https://localhost:8080/",
          "height": 36
        },
        "id": "0_EVf5pth27J",
        "outputId": "24eb162b-a1fa-442e-fd36-8d5dd00215d2"
      },
      "execution_count": 37,
      "outputs": [
        {
          "output_type": "execute_result",
          "data": {
            "text/plain": [
              "'제 이름은 지민경이고 제 나이는 15입니다.'"
            ],
            "application/vnd.google.colaboratory.intrinsic+json": {
              "type": "string"
            }
          },
          "metadata": {},
          "execution_count": 37
        }
      ]
    },
    {
      "cell_type": "markdown",
      "source": [
        "`format`과 `f-string` 두 개만 알아두어도 된다."
      ],
      "metadata": {
        "id": "j3f2UETRgrHM"
      }
    },
    {
      "cell_type": "markdown",
      "source": [
        "`{}`안에서 다 해결하려고 하지 말자. 이왕이면 밖으로 빼는게 낫다. 가독성을 해친다.  \n",
        "의도 파악도 어렵다."
      ],
      "metadata": {
        "id": "51Qsyb6sjkr-"
      }
    },
    {
      "cell_type": "code",
      "source": [
        "삼 = '짝'*3\n",
        "칠 = '짝'*7\n",
        "print('삼삼칠 박수 :  {0}!!! {0}!!! {1}!!! '.format(삼,칠))\n",
        "print(f'삼삼칠 박수 :  {삼}!!! {삼}!!! {칠}!!! ')"
      ],
      "metadata": {
        "colab": {
          "base_uri": "https://localhost:8080/"
        },
        "id": "O9UmD9I-jRRs",
        "outputId": "2acaac88-472a-4f39-9b64-0b7ff2403dfb"
      },
      "execution_count": 38,
      "outputs": [
        {
          "output_type": "stream",
          "name": "stdout",
          "text": [
            "삼삼칠 박수 :  짝짝짝!!! 짝짝짝!!! 짝짝짝짝짝짝짝!!! \n",
            "삼삼칠 박수 :  짝짝짝!!! 짝짝짝!!! 짝짝짝짝짝짝짝!!! \n"
          ]
        }
      ]
    },
    {
      "cell_type": "code",
      "source": [
        "print(f'삼삼칠 박수 :  {삼*2}!!! {삼}!!! {칠}!!! ')\n",
        "# {}안에서 연산하는 것은 가독성을 해칠 우려가 있습니다."
      ],
      "metadata": {
        "colab": {
          "base_uri": "https://localhost:8080/"
        },
        "id": "oeC5T4y1jsdw",
        "outputId": "bc977e89-1d8e-45de-a373-4fa4623774d5"
      },
      "execution_count": 40,
      "outputs": [
        {
          "output_type": "stream",
          "name": "stdout",
          "text": [
            "삼삼칠 박수 :  짝짝짝짝짝짝!!! 짝짝짝!!! 짝짝짝짝짝짝짝!!! \n"
          ]
        }
      ]
    },
    {
      "cell_type": "code",
      "source": [
        "one_length = 5.343123123\n",
        "\n",
        "print(f'{one_length} 입니다.')\n",
        "print(f'{one_length:.1f} 입니다.')\n",
        "print('{0:.2f}'.format(one_length))\n",
        "print('{:.2f}'.format(one_length))"
      ],
      "metadata": {
        "colab": {
          "base_uri": "https://localhost:8080/"
        },
        "id": "KMvuPdHtj90v",
        "outputId": "09c075fb-2b28-4971-8811-488a24e881c4"
      },
      "execution_count": 42,
      "outputs": [
        {
          "output_type": "stream",
          "name": "stdout",
          "text": [
            "5.343123123 입니다.\n",
            "5.3 입니다.\n",
            "5.34\n",
            "5.34\n"
          ]
        }
      ]
    },
    {
      "cell_type": "markdown",
      "source": [
        "**format 정렬중에 가운데정렬`(^)`은 정말 많이 사용한다!**"
      ],
      "metadata": {
        "id": "L1ErveTTkUhY"
      }
    },
    {
      "cell_type": "code",
      "source": [
        "# log 출력할 때 가운데 정렬은 많이 사용합니다.\n",
        "# 복습은 가운데 정렬만 외워주세요.\n",
        "age = 100\n",
        "print('당신의 나이는 [{:^15}]세'.format(22))\n",
        "print(f'당신의 나이는 [{age:^15}]세')"
      ],
      "metadata": {
        "colab": {
          "base_uri": "https://localhost:8080/"
        },
        "id": "dN8c40CEks53",
        "outputId": "7f1bdabf-a5ed-4474-bd02-1d88fad88f9e"
      },
      "execution_count": 34,
      "outputs": [
        {
          "output_type": "stream",
          "name": "stdout",
          "text": [
            "당신의 나이는 [      22       ]세\n",
            "당신의 나이는 [      100      ]세\n"
          ]
        }
      ]
    },
    {
      "cell_type": "code",
      "source": [
        "print(f'당신의 나이는 [{age:<15}]세')\n",
        "print(f'당신의 나이는 [{age:>15}]세')\n",
        "print(f'당신의 나이는 [{age:=^15}]세')\n",
        "print(f'당신의 나이는 [{age:#^15}]세')\n",
        "print(f'###########{age}###########')\n",
        "# 이런식으로 하셔도 되니 부담되시면 잠시 우선순위는 뒤로 밀어두셔도 괜찮습니다."
      ],
      "metadata": {
        "colab": {
          "base_uri": "https://localhost:8080/"
        },
        "id": "WuoolaIJk3j-",
        "outputId": "a4d0090a-4e3d-4336-e290-80a33daa1d6a"
      },
      "execution_count": 35,
      "outputs": [
        {
          "output_type": "stream",
          "name": "stdout",
          "text": [
            "당신의 나이는 [100            ]세\n",
            "당신의 나이는 [            100]세\n",
            "당신의 나이는 [======100======]세\n",
            "당신의 나이는 [######100######]세\n",
            "###########100###########\n"
          ]
        }
      ]
    },
    {
      "cell_type": "code",
      "source": [
        "# 중괄호 3개는 1년에 5번정도 만나는 것 같습니다.\n",
        "# 잘 모르시면 이걸 해결하는 것이 참 힘듭니다.\n",
        "\n",
        "age = 10\n",
        "\n",
        "print(f'My set is {{1, 2, 3}}.')    # 출력: My set is {1, 2, 3}.\n",
        "print(f'My set is {{age*2}}.')      # 출력: My set is {age*2}.\n",
        "print(f'My set is {{{age*2}}}.')    # 출력: My set is {20}."
      ],
      "metadata": {
        "colab": {
          "base_uri": "https://localhost:8080/"
        },
        "id": "9afo2vuklJa0",
        "outputId": "4b52ce1e-73ed-483f-ac5b-945e6c180488"
      },
      "execution_count": 46,
      "outputs": [
        {
          "output_type": "stream",
          "name": "stdout",
          "text": [
            "My set is {1, 2, 3}.\n",
            "My set is {age*2}.\n",
            "My set is {20}.\n"
          ]
        }
      ]
    },
    {
      "cell_type": "markdown",
      "source": [
        "# 컴프리헨션 (가볍게 실습)"
      ],
      "metadata": {
        "id": "UOEXCzBemdBS"
      }
    },
    {
      "cell_type": "code",
      "source": [
        "l = []\n",
        "for i in range(2, 10):\n",
        "    for j in range(1, 10):\n",
        "        l.append(f\"{i}X{j}={i*j}\")\n",
        "\n",
        "l"
      ],
      "metadata": {
        "id": "vBfqt7EnmfeD"
      },
      "execution_count": null,
      "outputs": []
    },
    {
      "cell_type": "code",
      "source": [
        "[f\"{i}X{j}={i*j}\" for i in range(2, 10) for j in range(1, 10)]"
      ],
      "metadata": {
        "id": "2hA0g56wmte4"
      },
      "execution_count": null,
      "outputs": []
    },
    {
      "cell_type": "markdown",
      "source": [
        "이것도 인정을 해주긴 한다. 하지만 삼중으로 넘어가면 X.  \n",
        "저 코드도 차라리 첫번째처럼 쓰는게 낫다.  \n",
        "단, 빠른 속도가 필요하다면 컴프리헨션 사용!"
      ],
      "metadata": {
        "id": "xsFxsQUXm4lj"
      }
    },
    {
      "cell_type": "markdown",
      "source": [
        "# 비동기와 코루틴\n",
        "코루틴은 따로 복습 X"
      ],
      "metadata": {
        "id": "mH5ZUYBknEiJ"
      }
    },
    {
      "cell_type": "code",
      "source": [
        "!pip install nest_asyncio"
      ],
      "metadata": {
        "colab": {
          "base_uri": "https://localhost:8080/"
        },
        "id": "psXZlg3bnH5T",
        "outputId": "272b72f7-309f-4d60-f0aa-dab9f577370d"
      },
      "execution_count": 48,
      "outputs": [
        {
          "output_type": "stream",
          "name": "stdout",
          "text": [
            "Requirement already satisfied: nest_asyncio in /usr/local/lib/python3.10/dist-packages (1.5.8)\n"
          ]
        }
      ]
    },
    {
      "cell_type": "code",
      "source": [
        "import nest_asyncio\n",
        "\n",
        "nest_asyncio.apply()"
      ],
      "metadata": {
        "id": "NzbH1ZugothI"
      },
      "execution_count": 49,
      "outputs": []
    },
    {
      "cell_type": "code",
      "source": [
        "import time\n",
        "\n",
        "def job(number):\n",
        "    print(f\"Job {number} started\")\n",
        "    time.sleep(1)  # 매우 오래 걸리는 작업, 일반 sleep은 CPU를 쉬게 합니다.\n",
        "    print(f\"Job {number} completed\")\n",
        "\n",
        "job(1)\n",
        "job(2)\n",
        "job(3)"
      ],
      "metadata": {
        "colab": {
          "base_uri": "https://localhost:8080/"
        },
        "id": "rRMIUSKUowqm",
        "outputId": "732f9bc7-574c-4cb4-afed-7a31462eddb6"
      },
      "execution_count": 50,
      "outputs": [
        {
          "output_type": "stream",
          "name": "stdout",
          "text": [
            "Job 1 started\n",
            "Job 1 completed\n",
            "Job 2 started\n",
            "Job 2 completed\n",
            "Job 3 started\n",
            "Job 3 completed\n"
          ]
        }
      ]
    },
    {
      "cell_type": "code",
      "source": [
        "# colab에서 작동하는 코드\n",
        "# 기본 base는 colab에서 작동하지 않습니다.\n",
        "import asyncio\n",
        "\n",
        "async def job(number):\n",
        "    print(f\"Job {number} started\")\n",
        "    await asyncio.sleep(1) # 매우 오래 걸리는 작업, asyncio.sleep은 비동기 처리를 할 수 있도록 합니다.(다른 작업이 가능합니다.)\n",
        "    print(f\"Job {number} completed\")\n",
        "\n",
        "async def main():\n",
        "    await asyncio.gather(job(1), job(2), job(3)) # await asyncio.wait([job(1), job(2), job(3)])\n",
        "\n",
        "asyncio.run(main())\n",
        "print('hello world')"
      ],
      "metadata": {
        "colab": {
          "base_uri": "https://localhost:8080/"
        },
        "id": "AYnJJCNbpYtr",
        "outputId": "999d8b89-d07f-4797-ff89-c8d2366a7008"
      },
      "execution_count": 51,
      "outputs": [
        {
          "output_type": "stream",
          "name": "stdout",
          "text": [
            "Job 1 started\n",
            "Job 2 started\n",
            "Job 3 started\n",
            "Job 1 completed\n",
            "Job 2 completed\n",
            "Job 3 completed\n",
            "hello world\n"
          ]
        }
      ]
    },
    {
      "cell_type": "code",
      "source": [
        "async def job():\n",
        "    print('job')\n",
        "\n",
        "print(job) # <function job at 0x7fc8cb38ef80>\n",
        "job() # <coroutine object job at 0x7fc8cb32bc30>, print('job')이 실행되진 않습니다!"
      ],
      "metadata": {
        "colab": {
          "base_uri": "https://localhost:8080/"
        },
        "id": "7hAGl3WZpcVS",
        "outputId": "0ee0cd2b-d870-45a2-cc1a-b6cd33b3dd35"
      },
      "execution_count": 52,
      "outputs": [
        {
          "output_type": "stream",
          "name": "stdout",
          "text": [
            "<function job at 0x7ee43411d2d0>\n"
          ]
        },
        {
          "output_type": "execute_result",
          "data": {
            "text/plain": [
              "<coroutine object job at 0x7ee43412c890>"
            ]
          },
          "metadata": {},
          "execution_count": 52
        }
      ]
    },
    {
      "cell_type": "code",
      "source": [
        "async def job():\n",
        "    print('job')\n",
        "\n",
        "async def main():\n",
        "    return await job()\n",
        "\n",
        "print(main) # <coroutine object main at 0x7fc8cb22bf40>\n",
        "print(await main()) # None"
      ],
      "metadata": {
        "colab": {
          "base_uri": "https://localhost:8080/"
        },
        "id": "J1Z9EU8Tr5Bc",
        "outputId": "0cfd3650-e019-450f-c608-f0f6f71ab8d6"
      },
      "execution_count": 53,
      "outputs": [
        {
          "output_type": "stream",
          "name": "stdout",
          "text": [
            "<function main at 0x7ee43411fac0>\n",
            "job\n",
            "None\n"
          ]
        }
      ]
    },
    {
      "cell_type": "markdown",
      "source": [
        "코루틴을 실행하는 함수는 따로 있다.  \n",
        "`async run`을 해줘야 함."
      ],
      "metadata": {
        "id": "leAerlBhr7RA"
      }
    },
    {
      "cell_type": "code",
      "source": [
        "async def job():\n",
        "    print('job')\n",
        "\n",
        "async def main():\n",
        "    return await job()\n",
        "\n",
        "print(main) # <coroutine object main at 0x7fc8cb22bf40>\n",
        "asyncio.run(main()) # job출력"
      ],
      "metadata": {
        "colab": {
          "base_uri": "https://localhost:8080/"
        },
        "id": "WV-M9998sBfY",
        "outputId": "89870871-c9d4-409f-a25a-14581d315160"
      },
      "execution_count": 54,
      "outputs": [
        {
          "output_type": "stream",
          "name": "stdout",
          "text": [
            "<function main at 0x7ee43411ca60>\n",
            "job\n"
          ]
        }
      ]
    },
    {
      "cell_type": "markdown",
      "source": [
        "# 정규표현식\n",
        "- 별 2개 + @\n",
        "- 유효성 검증(validator), 문자열 처리, 코딩테스트(거의 1문제는 필수)에 쓰인다.\n",
        "- 다른 언어에서도 사용할 수 있습니다.\n",
        "- 테스트) https://regexr.com/5nvc2"
      ],
      "metadata": {
        "id": "Fh5lWCsR86U4"
      }
    },
    {
      "cell_type": "code",
      "source": [
        "# 택일 많이쓰임 []"
      ],
      "metadata": {
        "id": "dElLTIt29K5N"
      },
      "execution_count": 2,
      "outputs": []
    },
    {
      "cell_type": "code",
      "source": [
        "# https://regexr.com/5nvc2\n",
        "# 1번 일반 문자열 패턴\n",
        "# hello world\n",
        "# Hello\n",
        "# ^hello\n",
        "# hello$\n",
        "# ^hello$\n",
        "# .\n",
        "# .....\n",
        "# h[eao]llo\n",
        "# .[eao]llo\n",
        "# ^h[eao]llo$\n",
        "# h[a-zA-Z0-9]llo\n",
        "# h[a-zA-Z]llo\n",
        "# 010-[0-9][0-9][0-9][0-9]-[0-9][0-9][0-9][0-9]\n",
        "# 010.[0-9][0-9][0-9][0-9].[0-9][0-9][0-9][0-9]\n",
        "# 010[- .][0-9][0-9][0-9][0-9][- .][0-9][0-9][0-9][0-9]\n",
        "# [^a-zA-Z0-9]: 나머지 문자열을 찾음 # ^는 대괄호 안에서는 '부정'\n",
        "# _* : 앞에 있는 문자가 0개 ~ N개\n",
        "# _+ : 앞에 있는 문자가 1개 ~ N개\n",
        "# _? : 앞에 있는 문자가 0개 ~ 1개\n",
        "# 010[- .]?[0-9][0-9][0-9][0-9][- .]?[0-9][0-9][0-9][0-9]\n",
        "\n",
        "# {3} : 3개\n",
        "# {3,} : 3개 이상\n",
        "# {1,3} : 1개 ~ 3개\n",
        "# 010[- .]?[0-9]{4}[- .]?[0-9]{4}\n",
        "\n",
        "# _* : 앞에 있는 문자가 0개 ~ N개 ({0,})\n",
        "# _+ : 앞에 있는 문자가 1개 ~ N개({1,})\n",
        "# _? : 앞에 있는 문자가 0개 ~ 1개 ({0,1})\n",
        "\n",
        "# /[0-9]{3}[-.* ][0-9]{4}[-.* ][0-9]{4}/gm\n",
        "\n",
        "# 전화번호\n",
        "# /[0-9a-zA-Z]{2,3}[-.* ][0-9]{3,4}[-.* ][0-9]{4}/gm\n",
        "# /[0-9]{2,3}[-.* ][0-9]{3,4}[-.* ][0-9]{4}/gm\n",
        "\n",
        "# 이메일\n",
        "# /[0-9a-zA-Z]+@[0-9a-zA-Z]+.[a-zA-Z]+/gm\n",
        "# ^[a-zA-Z0-9+-_.]+@[a-zA-Z0-9-]+\\.[a-zA-Z0-9-.]+$\n",
        "# .....@----....\n",
        "\n",
        "\n",
        "# /\\w/gm : 워드 # 많이 사용\n",
        "# /\\w{5} /gm : 5개의 글자와 스페이스 하나\n",
        "# /\\W/gm : not 워드 # 많이 사용\n",
        "# /\\d/gm : 숫자 # 많이 사용\n",
        "# /\\D/gm : not 숫자\n",
        "# /\\s/gm : 스페이스\n",
        "# /\\S/gm : not 스페이스\n",
        "\n",
        "# ^\\d{3}[- .]?\\d{3,4}[- .]?\\d{4}$\n",
        "\n",
        "# /\\[.*]/gm : 대괄호([]) 안에 감싸여진 문자열\n",
        "# /\\(.*\\)/gm : 소괄호 안에 감싸여진 문자열\n",
        "# /\\\\.*\\//gm : 이미 사용되고 있는 특수문자로 감싸여진 문자열\n",
        "# /-.*-/gm : 이스케이프 문자를 사용할 필요가 없는 경우\n",
        "# /\\^\\^/gm : 이스케이프 문자가 필요한 경우\n",
        "# /:\\)/gm : 이스케이프 문자가 필요한 경우\n",
        "\n",
        "# \\[.*]\n",
        "# \\[.*\\], \\[.*\\]"
      ],
      "metadata": {
        "id": "D07-lA1OBaDa"
      },
      "execution_count": 3,
      "outputs": []
    },
    {
      "cell_type": "code",
      "source": [
        "# 사용되는 패턴\n",
        "# 1\n",
        "p = re.compile(r'([0-9]|10)([SDT])([\\*\\#]?)')\n",
        "p.findall('1S2D*3T')\n",
        "\n",
        "# 2\n",
        "re.findall(r'([0-9]|10)([SDT])([\\*\\#]?)', '1S2D*3T')\n",
        "\n",
        "# 자주 사용하는 메서드\n",
        "sub() : 매치된 부분을 치환 (str에 replace와 같은 역활) # 가장 많이 사용.\n",
        "findall() : 매치된 부분 모두 리스트 반환"
      ],
      "metadata": {
        "id": "AnHKu31-Jvno"
      },
      "execution_count": null,
      "outputs": []
    },
    {
      "cell_type": "markdown",
      "source": [
        "## findall\n",
        "https://school.programmers.co.kr/learn/courses/30/lessons/17682"
      ],
      "metadata": {
        "id": "T5JSEbsBbr0R"
      }
    },
    {
      "cell_type": "code",
      "source": [
        "# https://school.programmers.co.kr/learn/courses/30/lessons/17682\n",
        "# 1S // 2D* // 3T\n",
        "# 스타상, 아차상은 빼고 진행\n",
        "\n",
        "l = []\n",
        "for i in '1S2D*3T':\n",
        "    if i.isdigit():\n",
        "        l.append(int(i))\n",
        "    elif i == 'S':\n",
        "        l[-1] = l[-1] ** 1\n",
        "    elif i == 'D':\n",
        "        l[-1] = l[-1] ** 2\n",
        "    elif i == 'T':\n",
        "        l[-1] = l[-1] ** 3\n",
        "\n",
        "print(l)\n",
        "sum(l)"
      ],
      "metadata": {
        "colab": {
          "base_uri": "https://localhost:8080/"
        },
        "id": "wG8b4X7pJ-dt",
        "outputId": "d5b3068f-ef86-4c36-ce51-6f215f32e75e"
      },
      "execution_count": 9,
      "outputs": [
        {
          "output_type": "stream",
          "name": "stdout",
          "text": [
            "[1, 4, 27]\n"
          ]
        },
        {
          "output_type": "execute_result",
          "data": {
            "text/plain": [
              "32"
            ]
          },
          "metadata": {},
          "execution_count": 9
        }
      ]
    },
    {
      "cell_type": "code",
      "source": [
        "# 각 얻을수 있는 점수는 0~10점이다. (함정)\n",
        "\n",
        "l = []\n",
        "for i in '1S2D*10T':\n",
        "    if i.isdigit():\n",
        "        l.append(int(i))\n",
        "    elif i == 'S':\n",
        "        l[-1] = l[-1] ** 1\n",
        "    elif i == 'D':\n",
        "        l[-1] = l[-1] ** 2\n",
        "    elif i == 'T':\n",
        "        l[-1] = l[-1] ** 3\n",
        "\n",
        "print(l)\n",
        "sum(l)"
      ],
      "metadata": {
        "colab": {
          "base_uri": "https://localhost:8080/"
        },
        "id": "vzZvuRhELepw",
        "outputId": "2944e2b2-862e-420e-8ff7-e52dc0264340"
      },
      "execution_count": 13,
      "outputs": [
        {
          "output_type": "stream",
          "name": "stdout",
          "text": [
            "[1, 4, 1, 0]\n"
          ]
        },
        {
          "output_type": "execute_result",
          "data": {
            "text/plain": [
              "6"
            ]
          },
          "metadata": {},
          "execution_count": 13
        }
      ]
    },
    {
      "cell_type": "code",
      "source": [
        "import re\n",
        "\n",
        "print(list(re.findall(r'([0-9]|10)([SDT])([\\*\\#]?)', '1S2D*3T')))\n",
        "print(list(re.findall(r'([0-9]|10)([SDT])([\\*\\#]?)', '1S10D*10T')))"
      ],
      "metadata": {
        "colab": {
          "base_uri": "https://localhost:8080/"
        },
        "id": "pOP-iDUuMrSb",
        "outputId": "0a5ad5e1-1220-41d9-e0c9-ea7aa15eed21"
      },
      "execution_count": 36,
      "outputs": [
        {
          "output_type": "stream",
          "name": "stdout",
          "text": [
            "[('1', 'S', ''), ('2', 'D', '*'), ('3', 'T', '')]\n",
            "[('1', 'S', ''), ('10', 'D', '*'), ('10', 'T', '')]\n"
          ]
        }
      ]
    },
    {
      "cell_type": "code",
      "source": [
        "d = {\n",
        "    'S': 1,\n",
        "    'D': 2,\n",
        "    'T': 3\n",
        "}\n",
        "\n",
        "for 점수, 승수, 상 in re.findall(r'([0-9]|10)([SDT])([\\*\\#]?)', '1S2D*3T'):\n",
        "    print(int(점수) ** d[승수])"
      ],
      "metadata": {
        "colab": {
          "base_uri": "https://localhost:8080/"
        },
        "id": "1mSLGY32NTkb",
        "outputId": "28be65ef-3140-4b91-b1c3-d89f43377530"
      },
      "execution_count": 12,
      "outputs": [
        {
          "output_type": "stream",
          "name": "stdout",
          "text": [
            "1\n",
            "4\n",
            "27\n"
          ]
        }
      ]
    },
    {
      "cell_type": "code",
      "source": [
        "# 파이알고 문제 https://pyalgo.co.kr/?page=2#\n",
        "re.findall(r'([0-9]|10)([SDT])([\\*\\#]?)', '1S2D*3T')"
      ],
      "metadata": {
        "id": "nxhyGz98Ocok"
      },
      "execution_count": null,
      "outputs": []
    },
    {
      "cell_type": "markdown",
      "source": [
        "## sub\n",
        "https://school.programmers.co.kr/learn/courses/30/lessons/120849"
      ],
      "metadata": {
        "id": "QH5Y-5jLP_Q8"
      }
    },
    {
      "cell_type": "code",
      "source": [
        "\"nice to meet you\".replace('a', '').replace('e', '').replace('i', '').replace('o', '').replace('u', '')"
      ],
      "metadata": {
        "colab": {
          "base_uri": "https://localhost:8080/",
          "height": 36
        },
        "id": "uzPhfu4IcKgE",
        "outputId": "e5db9c88-1667-4e91-df41-f4165c477a92"
      },
      "execution_count": 37,
      "outputs": [
        {
          "output_type": "execute_result",
          "data": {
            "text/plain": [
              "'nc t mt y'"
            ],
            "application/vnd.google.colaboratory.intrinsic+json": {
              "type": "string"
            }
          },
          "metadata": {},
          "execution_count": 37
        }
      ]
    },
    {
      "cell_type": "code",
      "source": [
        "# 복습 X\n",
        "# https://school.programmers.co.kr/learn/courses/30/lessons/120849\n",
        "# dir(\"nice to meet you\")\n",
        "s = \"nice to meet you\"\n",
        "ch = s.maketrans(\"aeiou\", \"!!!!!\");\n",
        "\n",
        "print(s.translate(ch));"
      ],
      "metadata": {
        "colab": {
          "base_uri": "https://localhost:8080/"
        },
        "id": "_i8qIdhKQJ1w",
        "outputId": "b9158445-ab9a-4a7f-9416-0c6662ed0273"
      },
      "execution_count": 14,
      "outputs": [
        {
          "output_type": "stream",
          "name": "stdout",
          "text": [
            "n!c! t! m!!t y!!\n"
          ]
        }
      ]
    },
    {
      "cell_type": "code",
      "source": [
        "def solution(my_string):\n",
        "    return my_string.replace('a', '').replace('e', '').replace('i', '').replace('o', '').replace('u', '')\n",
        "\n",
        "def solution(my_string):\n",
        "    string = 'aeiou'\n",
        "    for i in string:\n",
        "        my_string = my_string.replace(i, '')\n",
        "    return my_string"
      ],
      "metadata": {
        "id": "Z870eOb3Qm-4"
      },
      "execution_count": 15,
      "outputs": []
    },
    {
      "cell_type": "code",
      "source": [
        "import re\n",
        "\n",
        "def solution(my_string):\n",
        "    return re.sub(r\"[aeiou]\", \"\", my_string)"
      ],
      "metadata": {
        "id": "eur54i2UQ1cI"
      },
      "execution_count": 16,
      "outputs": []
    },
    {
      "cell_type": "code",
      "source": [
        "# 문제: 아래 문자열에서 모든 문자를 제거하고 숫자만 모두 더해주세요.\n",
        "'hello1928ljwlie123slie21e1j3'"
      ],
      "metadata": {
        "colab": {
          "base_uri": "https://localhost:8080/",
          "height": 36
        },
        "id": "dk3D59O3Q3fp",
        "outputId": "82894321-ec88-4579-93dc-3b4c93418484"
      },
      "execution_count": 17,
      "outputs": [
        {
          "output_type": "execute_result",
          "data": {
            "text/plain": [
              "'hello1928ljwlie123slie21e1j3'"
            ],
            "application/vnd.google.colaboratory.intrinsic+json": {
              "type": "string"
            }
          },
          "metadata": {},
          "execution_count": 17
        }
      ]
    },
    {
      "cell_type": "code",
      "source": [
        "def solution(my_string):\n",
        "    return re.sub(r\"[a-zA-Z]\", \"\", my_string)\n",
        "\n",
        "solution('hello1928ljwlie123slie21e1j3')"
      ],
      "metadata": {
        "colab": {
          "base_uri": "https://localhost:8080/",
          "height": 36
        },
        "id": "s7WlHsnwRXp8",
        "outputId": "1ef00f88-3da9-4874-e146-3aaca01a97b9"
      },
      "execution_count": 18,
      "outputs": [
        {
          "output_type": "execute_result",
          "data": {
            "text/plain": [
              "'19281232113'"
            ],
            "application/vnd.google.colaboratory.intrinsic+json": {
              "type": "string"
            }
          },
          "metadata": {},
          "execution_count": 18
        }
      ]
    },
    {
      "cell_type": "code",
      "source": [
        "# 복습 X\n",
        "# 솎아낸 숫자를 모두 더해보자.\n",
        "\n",
        "def solution(my_string):\n",
        "    return sum(map(int, list(re.sub(r\"[a-zA-Z]\", \"\", my_string))))\n",
        "\n",
        "solution('hello1928ljwlie123slie21e1j3')"
      ],
      "metadata": {
        "colab": {
          "base_uri": "https://localhost:8080/"
        },
        "id": "DWivhmbgRe3A",
        "outputId": "71e3b57c-2da1-4b4d-fcb0-0b4a0ae6cb44"
      },
      "execution_count": 20,
      "outputs": [
        {
          "output_type": "execute_result",
          "data": {
            "text/plain": [
              "33"
            ]
          },
          "metadata": {},
          "execution_count": 20
        }
      ]
    },
    {
      "cell_type": "code",
      "source": [
        "list(re.findall(r'[0-9]', 'hello1928ljwlie123slie21e1j3'))\n",
        "list(re.findall(r'[0-9]+', 'hello1928ljwlie123slie21e1j3'))\n",
        "# 첫번째는 숫자 하나씩 반환,\n",
        "# 두번째는 묶어서 반환해준다."
      ],
      "metadata": {
        "colab": {
          "base_uri": "https://localhost:8080/"
        },
        "id": "KlB6OvpTSC0R",
        "outputId": "cd913092-2682-4dd0-95d8-012b5ee3be4c"
      },
      "execution_count": 25,
      "outputs": [
        {
          "output_type": "execute_result",
          "data": {
            "text/plain": [
              "['1928', '123', '21', '1', '3']"
            ]
          },
          "metadata": {},
          "execution_count": 25
        }
      ]
    },
    {
      "cell_type": "code",
      "source": [
        "import re\n",
        "\n",
        "my_string = \"aAb1B2cC34oOp\"\n",
        "re.sub('[^1-9]', '', my_string)"
      ],
      "metadata": {
        "colab": {
          "base_uri": "https://localhost:8080/",
          "height": 36
        },
        "id": "rGGh2v-cSYhl",
        "outputId": "7e6116b8-a69c-4772-94c5-1e426d9a4ced"
      },
      "execution_count": 26,
      "outputs": [
        {
          "output_type": "execute_result",
          "data": {
            "text/plain": [
              "'1234'"
            ],
            "application/vnd.google.colaboratory.intrinsic+json": {
              "type": "string"
            }
          },
          "metadata": {},
          "execution_count": 26
        }
      ]
    },
    {
      "cell_type": "code",
      "source": [
        "import re\n",
        "\n",
        "my_string = \"aAb1B2cC34oOp\"\n",
        "re.sub('\\d', '', my_string)"
      ],
      "metadata": {
        "colab": {
          "base_uri": "https://localhost:8080/",
          "height": 36
        },
        "id": "p05m7xrlUJa6",
        "outputId": "fac3fe62-ef8e-4af3-bfde-d30170305d54"
      },
      "execution_count": 27,
      "outputs": [
        {
          "output_type": "execute_result",
          "data": {
            "text/plain": [
              "'aAbBcCoOp'"
            ],
            "application/vnd.google.colaboratory.intrinsic+json": {
              "type": "string"
            }
          },
          "metadata": {},
          "execution_count": 27
        }
      ]
    },
    {
      "cell_type": "markdown",
      "source": [
        "sub() 중고급 강좌 부분은 너무 어렵고 딱히 쓸모가 있는것도 아니라서 pass한다고 하심."
      ],
      "metadata": {
        "id": "6cmUXMCjUKtE"
      }
    },
    {
      "cell_type": "code",
      "source": [
        "# 복습 X\n",
        "# 중고급 부분입니다!\n",
        "print(re.sub(r'([0-9]{3})-([0-9]{4})-([0-9]{4})', r'\\1!\\2!\\3', '010-5000-3000'))\n",
        "print(re.sub(r'([0-9]{3})-([0-9]{4})-([0-9]{4})', r'\\1/\\2/\\3', '010-5000-3000'))\n",
        "print(re.sub(r'([0-9]{3})-([0-9]{4})-([0-9]{4})', r'[\\1][\\2][\\3]', '010-5000-3000'))\n",
        "print(re.sub(r'([0-9]{3})-([0-9]{4})-([0-9]{4})', r'[\\1]-[\\2]-[\\3]', '010-5000-3000'))\n",
        "print(re.sub(r'([0-9]{3})-([0-9]{4})-([0-9]{4})', r'지역번호: \\1 전화번호: \\2\\3', '010-5000-3000'))"
      ],
      "metadata": {
        "colab": {
          "base_uri": "https://localhost:8080/"
        },
        "id": "6AnnvpuzUYX2",
        "outputId": "08f19f1b-4aa0-4dff-f029-63cbb51a4f43"
      },
      "execution_count": 28,
      "outputs": [
        {
          "output_type": "stream",
          "name": "stdout",
          "text": [
            "010!5000!3000\n",
            "010/5000/3000\n",
            "[010][5000][3000]\n",
            "[010]-[5000]-[3000]\n",
            "지역번호: 010 전화번호: 50003000\n"
          ]
        }
      ]
    },
    {
      "cell_type": "code",
      "source": [
        "# 복습 XXX\n",
        "# 시니어 때에는 이런 문법을 사용하실 일이 종종 생깁니다.\n",
        "import re\n",
        "\n",
        "print(re.sub(r'(?P<one>[0-9]{3})-(?P<two>[0-9]{4})-(?P<three>[0-9]{4})', r'\\g<one>!!\\g<two>!!\\g<three>', '010-5000-3000'))"
      ],
      "metadata": {
        "colab": {
          "base_uri": "https://localhost:8080/"
        },
        "id": "sMgyzvfyVAX9",
        "outputId": "fe0c281f-b92c-44f9-89ae-92d09d243397"
      },
      "execution_count": 29,
      "outputs": [
        {
          "output_type": "stream",
          "name": "stdout",
          "text": [
            "010!!5000!!3000\n"
          ]
        }
      ]
    },
    {
      "cell_type": "code",
      "source": [
        "import re\n",
        "\n",
        "text = '''# This is a h1\n",
        "## This is a h2\n",
        "### This is a h3\n",
        "\n",
        "**This is bold text**\n",
        "'''\n",
        "\n",
        "def markdown_to_html(markdown):\n",
        "    html = re.sub(r'### (.*)', r'<h3>\\1<h3>', markdown)\n",
        "    html = re.sub(r'## (.*)', r'<h2>\\1<h2>', html)\n",
        "    html = re.sub(r'# (.*)', r'<h1>\\1</h1>', html)\n",
        "    html = re.sub(r'\\*\\*(.*)\\*\\*', r'<strong>\\1</strong>', html)\n",
        "    return html\n",
        "\n",
        "print(markdown_to_html(text))"
      ],
      "metadata": {
        "colab": {
          "base_uri": "https://localhost:8080/"
        },
        "id": "pRhh18KGYcb5",
        "outputId": "656e2aa7-1647-43a0-dc8b-f66e6ecbdcf3"
      },
      "execution_count": 39,
      "outputs": [
        {
          "output_type": "stream",
          "name": "stdout",
          "text": [
            "<h1>This is a h1</h1>\n",
            "<h2>This is a h2<h2>\n",
            "<h3>This is a h3<h3>\n",
            "\n",
            "<strong>This is bold text</strong>\n",
            "\n"
          ]
        }
      ]
    },
    {
      "cell_type": "code",
      "source": [
        "import re\n",
        "\n",
        "text='''# hello1\n",
        "## hello1.1\n",
        "hello world\n",
        "# hello2\n",
        "## hello2.1\n",
        "hello world\n",
        "# hello3\n",
        "## hello3.1\n",
        "hello world\n",
        "'''\n",
        "\n",
        "# p = re.compile('^# (.*)', re.MULTILINE)\n",
        "# text = p.sub(r'\\1', text)\n",
        "text = re.sub(r'^# (.*)', r'\\1', text, flags=re.M)\n",
        "text = re.sub(r'^## (.*)', r'\\1', text, flags=re.M)\n",
        "text"
      ],
      "metadata": {
        "colab": {
          "base_uri": "https://localhost:8080/",
          "height": 36
        },
        "id": "sbcXQuzrZtFh",
        "outputId": "90eb9bed-5507-4004-9161-475f3a3d0283"
      },
      "execution_count": 40,
      "outputs": [
        {
          "output_type": "execute_result",
          "data": {
            "text/plain": [
              "'hello1\\nhello1.1\\nhello world\\nhello2\\nhello2.1\\nhello world\\nhello3\\nhello3.1\\nhello world\\n'"
            ],
            "application/vnd.google.colaboratory.intrinsic+json": {
              "type": "string"
            }
          },
          "metadata": {},
          "execution_count": 40
        }
      ]
    },
    {
      "cell_type": "code",
      "source": [],
      "metadata": {
        "id": "YL5FMefjcsa0"
      },
      "execution_count": null,
      "outputs": []
    }
  ]
}