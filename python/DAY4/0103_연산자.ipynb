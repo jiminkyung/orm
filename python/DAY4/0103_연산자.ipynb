{
  "nbformat": 4,
  "nbformat_minor": 0,
  "metadata": {
    "colab": {
      "provenance": []
    },
    "kernelspec": {
      "name": "python3",
      "display_name": "Python 3"
    },
    "language_info": {
      "name": "python"
    }
  },
  "cells": [
    {
      "cell_type": "markdown",
      "source": [
        "# 1. 산술연산자\n",
        "- 덧셈 `+`\n",
        "- 뺄셈 `-`\n",
        "- 곱셈 `*`\n",
        "- 나눗셈 `/`, `//`\n",
        "- 나머지 `%`\n",
        "- 제곱 `**`"
      ],
      "metadata": {
        "id": "fXdVabry9znQ"
      }
    },
    {
      "cell_type": "markdown",
      "source": [
        "- 서로 다른 자료형끼리의 덧셈은 불가능.  \n",
        "(ex: int + str)\n",
        "- 리스트 + 튜플 처럼 문자열끼리의 덧셈은 가능하다.\n",
        "- set은 덧셈은 안되지만 뺄셈은 가능."
      ],
      "metadata": {
        "id": "NKnrtcsj8vE-"
      }
    },
    {
      "cell_type": "code",
      "source": [
        "# 1.1 나누기\n",
        "\n",
        "a = 10\n",
        "b = 2\n",
        "print(a / b)  # 무조건 float값으로 반환됨\n",
        "print(a // b)  # int값으로 반환됨 # 내림연산"
      ],
      "metadata": {
        "colab": {
          "base_uri": "https://localhost:8080/"
        },
        "id": "ML3qE5l89Nhw",
        "outputId": "89027091-f12d-46f9-a077-7a63926bb472"
      },
      "execution_count": 7,
      "outputs": [
        {
          "output_type": "stream",
          "name": "stdout",
          "text": [
            "5.0\n",
            "5\n"
          ]
        }
      ]
    },
    {
      "cell_type": "code",
      "source": [
        "a = 10\n",
        "b = 3\n",
        "divide = a / b\n",
        "# 소수점 둘째자리까지 표현하고 싶을때\n",
        "print(f'{a} ÷ {b} = {divide:.2f}')  # 결과: 10 ÷ 3 = 3.33"
      ],
      "metadata": {
        "colab": {
          "base_uri": "https://localhost:8080/"
        },
        "id": "rS5o8HgR-VGG",
        "outputId": "d3d357bc-2f67-41e3-96e4-e3365c8178da"
      },
      "execution_count": 4,
      "outputs": [
        {
          "output_type": "stream",
          "name": "stdout",
          "text": [
            "10 ÷ 3 = 3.33\n"
          ]
        }
      ]
    },
    {
      "cell_type": "code",
      "source": [
        "print(divide)"
      ],
      "metadata": {
        "colab": {
          "base_uri": "https://localhost:8080/"
        },
        "id": "Dr29H4Yq-mzS",
        "outputId": "19f1d2dc-20a7-4ab8-f6a5-6ddc4a48aeaf"
      },
      "execution_count": 5,
      "outputs": [
        {
          "output_type": "stream",
          "name": "stdout",
          "text": [
            "3.3333333333333335\n"
          ]
        }
      ]
    },
    {
      "cell_type": "code",
      "source": [
        "# 1.2 나머지\n",
        "\n",
        "print(10 / 3)  # 소수 몫\n",
        "print(10 // 3)  # 정수 몫\n",
        "print(10 % 3)  # 나머지"
      ],
      "metadata": {
        "colab": {
          "base_uri": "https://localhost:8080/"
        },
        "id": "QotiOAG_-5iq",
        "outputId": "7570b9d0-aba1-40d9-90d3-e71669e1ca16"
      },
      "execution_count": 8,
      "outputs": [
        {
          "output_type": "stream",
          "name": "stdout",
          "text": [
            "3.3333333333333335\n",
            "3\n",
            "1\n"
          ]
        }
      ]
    },
    {
      "cell_type": "markdown",
      "source": [
        "알고리즘 문제에서 나머지 `%` 문제 많이 나온다고 하심~!"
      ],
      "metadata": {
        "id": "0b_elBgw_a6r"
      }
    },
    {
      "cell_type": "code",
      "source": [
        "# 1.3 제곱\n",
        "\n",
        "# 음수를 제곱해도 답이 음수로 반환됨.\n",
        "print(-2 ** 2)\n",
        "# (괄호)로 묶어줘야함\n",
        "print((-2) ** 2)"
      ],
      "metadata": {
        "colab": {
          "base_uri": "https://localhost:8080/"
        },
        "id": "sinSILRDAUfh",
        "outputId": "4201e99c-f024-4adc-c878-b4adf67aef40"
      },
      "execution_count": 11,
      "outputs": [
        {
          "output_type": "stream",
          "name": "stdout",
          "text": [
            "-4\n",
            "4\n"
          ]
        }
      ]
    },
    {
      "cell_type": "markdown",
      "source": [
        "**파이썬은 후위 전/연산자가 없다...!**"
      ],
      "metadata": {
        "id": "vRmHJrh5BIvz"
      }
    },
    {
      "cell_type": "markdown",
      "source": [
        "# 2. 비교연산자\n",
        "- 같음 `==`\n",
        "- 같지않음 `!=`\n",
        "- 작음 `<`, 큼 `>`\n",
        "- 같거나 작음 `<=`, 같거나 큼 `>=`"
      ],
      "metadata": {
        "id": "lQzn992JBcw-"
      }
    },
    {
      "cell_type": "markdown",
      "source": [
        "숫자뿐만 아니라 문자열, 리스트, 튜플 등등도 비교할 수 있다. 유니코드 값으로 비교함."
      ],
      "metadata": {
        "id": "h0XHSbqTDR6g"
      }
    },
    {
      "cell_type": "code",
      "source": [
        "# 연속적인 비교\n",
        "\n",
        "x = 10\n",
        "print(5 < x < 15)"
      ],
      "metadata": {
        "colab": {
          "base_uri": "https://localhost:8080/"
        },
        "id": "e6K_CHsMDd0z",
        "outputId": "5963fb1a-66d8-4a91-ea1a-da681b586679"
      },
      "execution_count": 14,
      "outputs": [
        {
          "output_type": "stream",
          "name": "stdout",
          "text": [
            "True\n"
          ]
        }
      ]
    },
    {
      "cell_type": "markdown",
      "source": [
        "리스트는 맨 앞자리로 비교.  \n",
        "같은 시퀀스형 자료형이라도 타입이 다르면 비교할 수 없다.  \n",
        "ex) `[1, 2, 3] > (4, 5, 6)`"
      ],
      "metadata": {
        "id": "mXqXB-2QDsWV"
      }
    },
    {
      "cell_type": "code",
      "source": [
        "# 부동소숫점의 비교\n",
        "\n",
        "import math\n",
        "\n",
        "result = 0.1 + 0.2\n",
        "print(result)"
      ],
      "metadata": {
        "colab": {
          "base_uri": "https://localhost:8080/"
        },
        "id": "bNQil2EzEFX7",
        "outputId": "dc7bc179-9666-44e4-9a88-b030fcd9cf34"
      },
      "execution_count": 17,
      "outputs": [
        {
          "output_type": "stream",
          "name": "stdout",
          "text": [
            "0.30000000000000004\n"
          ]
        }
      ]
    },
    {
      "cell_type": "code",
      "source": [
        "print(result == 0.3)              # False\n",
        "print(math.isclose(result, 0.3))  # True\n",
        "print(math.isclose(result, 0.29)) # False\n",
        "print(math.isclose(result, 0.31)) # False\n",
        "print(math.isclose(result, 0.30000001)) # False"
      ],
      "metadata": {
        "colab": {
          "base_uri": "https://localhost:8080/"
        },
        "id": "3NwU33dLEJI7",
        "outputId": "901c4854-640e-431c-f404-23325999dfcb"
      },
      "execution_count": 18,
      "outputs": [
        {
          "output_type": "stream",
          "name": "stdout",
          "text": [
            "False\n",
            "True\n",
            "False\n",
            "False\n",
            "False\n"
          ]
        }
      ]
    }
  ]
}