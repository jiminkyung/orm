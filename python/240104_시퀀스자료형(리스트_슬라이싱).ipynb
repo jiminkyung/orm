{
  "nbformat": 4,
  "nbformat_minor": 0,
  "metadata": {
    "colab": {
      "provenance": [],
      "collapsed_sections": [
        "MKklQIQr4esU",
        "cAtIoy4z9esG"
      ]
    },
    "kernelspec": {
      "name": "python3",
      "display_name": "Python 3"
    },
    "language_info": {
      "name": "python"
    }
  },
  "cells": [
    {
      "cell_type": "markdown",
      "source": [
        "# 1. 시퀀스 자료형"
      ],
      "metadata": {
        "id": "MKklQIQr4esU"
      }
    },
    {
      "cell_type": "code",
      "source": [
        "# 1.1 인덱싱\n",
        "          #01234\n",
        "    #  (-) 54321\n",
        "example = 'abcde'\n",
        "print(example[0]) # 출력: a\n",
        "print(example[2]) # 출력: c\n",
        "print(example[-1]) # 출력: e"
      ],
      "metadata": {
        "colab": {
          "base_uri": "https://localhost:8080/"
        },
        "id": "f_rNh9gC7ON8",
        "outputId": "7b3ad70f-3d14-431c-9e9a-ec3e26343364"
      },
      "execution_count": null,
      "outputs": [
        {
          "output_type": "stream",
          "name": "stdout",
          "text": [
            "a\n",
            "c\n",
            "e\n"
          ]
        }
      ]
    },
    {
      "cell_type": "code",
      "source": [
        "# 1.2 슬라이싱\n",
        "\n",
        "example = 'abcde'\n",
        "print(example[1:3]) # 출력: bc\n",
        "print(example[-4:-2])\n",
        "print(range(10)[3]) # 출력: 3\n",
        "print(range(100)[::5]) # 출력: range(0, 100, 5)"
      ],
      "metadata": {
        "colab": {
          "base_uri": "https://localhost:8080/"
        },
        "id": "bAWUBb_U7QhG",
        "outputId": "7eed754e-7f9f-4f8b-e42c-9520aaff5c0b"
      },
      "execution_count": null,
      "outputs": [
        {
          "output_type": "stream",
          "name": "stdout",
          "text": [
            "bc\n",
            "bc\n",
            "3\n",
            "range(0, 100, 5)\n"
          ]
        }
      ]
    },
    {
      "cell_type": "code",
      "source": [
        "# 1.3 특정항목 포함 여부\n",
        "\n",
        "example = 'abcde'\n",
        "print('a' in example) # 출력: True\n",
        "print('z' in example) # 출력: False"
      ],
      "metadata": {
        "colab": {
          "base_uri": "https://localhost:8080/"
        },
        "id": "0h3KR-NC7uvu",
        "outputId": "8b342afa-f2a5-41a5-c221-5e49aa6ae866"
      },
      "execution_count": null,
      "outputs": [
        {
          "output_type": "stream",
          "name": "stdout",
          "text": [
            "True\n",
            "False\n"
          ]
        }
      ]
    },
    {
      "cell_type": "code",
      "source": [
        "# 1.4 연결 & 반복\n",
        "\n",
        "example1 = 'abcde'\n",
        "example2 = 'f'\n",
        "print(example1 + example2) # 출력: abcdef\n",
        "print(example2 * 3)        # 출력: fff"
      ],
      "metadata": {
        "colab": {
          "base_uri": "https://localhost:8080/"
        },
        "id": "m8u07h8g8M7y",
        "outputId": "da65ba05-cb47-45fa-cee7-e05ae8aefec1"
      },
      "execution_count": null,
      "outputs": [
        {
          "output_type": "stream",
          "name": "stdout",
          "text": [
            "abcdef\n",
            "fff\n"
          ]
        }
      ]
    },
    {
      "cell_type": "code",
      "source": [
        "# 내장함수를 사용!\n",
        "\n",
        "example = 'abcde'\n",
        "print(len(example))  # 출력: 5\n",
        "print(min(example))  # 출력: a\n",
        "print(max(example))  # 출력: e"
      ],
      "metadata": {
        "colab": {
          "base_uri": "https://localhost:8080/"
        },
        "id": "w6505hRl9Hwj",
        "outputId": "bb7954ca-52bf-4419-fda0-1055fe1abe12"
      },
      "execution_count": null,
      "outputs": [
        {
          "output_type": "stream",
          "name": "stdout",
          "text": [
            "5\n",
            "a\n",
            "e\n"
          ]
        }
      ]
    },
    {
      "cell_type": "markdown",
      "source": [
        "# 2. 패킹과 언패킹\n",
        "**중요한 부분**이지만 헷갈리기 때문에 잘 봐두자."
      ],
      "metadata": {
        "id": "cAtIoy4z9esG"
      }
    },
    {
      "cell_type": "code",
      "source": [
        "# 2.1 튜플 패킹\n",
        "\n",
        "packed_tuple = 1, 2, 3, 4\n",
        "print(packed_tuple)  # 출력: (1, 2, 3, 4)\n",
        "type(packed_tuple)"
      ],
      "metadata": {
        "colab": {
          "base_uri": "https://localhost:8080/"
        },
        "id": "az6Pgat_9xwu",
        "outputId": "28a4723a-9062-4c3d-d101-8b3a559d27fa"
      },
      "execution_count": null,
      "outputs": [
        {
          "output_type": "stream",
          "name": "stdout",
          "text": [
            "(1, 2, 3, 4)\n"
          ]
        },
        {
          "output_type": "execute_result",
          "data": {
            "text/plain": [
              "tuple"
            ]
          },
          "metadata": {},
          "execution_count": 16
        }
      ]
    },
    {
      "cell_type": "code",
      "source": [
        "# 2.2 언패킹\n",
        "\n",
        "# 튜플 패킹\n",
        "packed_tuple = 1, 2, 3, 4\n",
        "print(packed_tuple)\n",
        "\n",
        "# 튜플 언패킹\n",
        "a, b, c, d = packed_tuple\n",
        "print(a)  # 출력: 1\n",
        "print(b)  # 출력: 2"
      ],
      "metadata": {
        "colab": {
          "base_uri": "https://localhost:8080/"
        },
        "id": "En7JcEHJ-GFZ",
        "outputId": "1a4baf97-0e49-4fe2-bc27-72b5351f3bd1"
      },
      "execution_count": null,
      "outputs": [
        {
          "output_type": "stream",
          "name": "stdout",
          "text": [
            "(1, 2, 3, 4)\n",
            "1\n",
            "2\n"
          ]
        }
      ]
    },
    {
      "cell_type": "code",
      "source": [
        "# 다양한 패킹 / 언패킹\n",
        "# range는 0부터 n-1까지 숫자를 생성하는 함수\n",
        "\n",
        "a, b, c = range(3)  # 0, 1, 2\n",
        "print(range(3))\n",
        "print(a, b, c)"
      ],
      "metadata": {
        "colab": {
          "base_uri": "https://localhost:8080/"
        },
        "id": "RhBetTpv-qaP",
        "outputId": "1e0f5045-397c-4325-b5b3-48ba6441adc0"
      },
      "execution_count": null,
      "outputs": [
        {
          "output_type": "stream",
          "name": "stdout",
          "text": [
            "range(0, 3)\n",
            "0 1 2\n"
          ]
        }
      ]
    },
    {
      "cell_type": "code",
      "source": [
        "a, b, c, d, e = 'hello'\n",
        "print(a, b, c, d, e)"
      ],
      "metadata": {
        "colab": {
          "base_uri": "https://localhost:8080/"
        },
        "id": "RG9lCqLN_Vxa",
        "outputId": "c2bfa4d9-21a4-4128-8902-bd8c9e4a1d22"
      },
      "execution_count": null,
      "outputs": [
        {
          "output_type": "stream",
          "name": "stdout",
          "text": [
            "h e l l o\n"
          ]
        }
      ]
    },
    {
      "cell_type": "code",
      "source": [
        "a, b = [10, 20]\n",
        "print(a, b)\n",
        "print(a + b)"
      ],
      "metadata": {
        "colab": {
          "base_uri": "https://localhost:8080/"
        },
        "id": "bs7XXGGL_t00",
        "outputId": "58914518-91db-4536-f76b-67b605b1b94a"
      },
      "execution_count": null,
      "outputs": [
        {
          "output_type": "stream",
          "name": "stdout",
          "text": [
            "10 20\n",
            "30\n"
          ]
        }
      ]
    },
    {
      "cell_type": "markdown",
      "source": [
        "언패킹은 시퀀스 자료형이라면 다 활용할 수 있다!"
      ],
      "metadata": {
        "id": "3tznm3Rb_0jR"
      }
    },
    {
      "cell_type": "code",
      "source": [
        "total_sum = 0\n",
        "\n",
        "for i in range(5):\n",
        "  total_sum += i\n",
        "  print(total_sum)\n",
        "\n",
        "print(total_sum)"
      ],
      "metadata": {
        "colab": {
          "base_uri": "https://localhost:8080/"
        },
        "id": "KEsXO8VF_5iL",
        "outputId": "e2dc77d9-5d78-425b-8775-178cf9c71036"
      },
      "execution_count": null,
      "outputs": [
        {
          "output_type": "stream",
          "name": "stdout",
          "text": [
            "0\n",
            "1\n",
            "3\n",
            "6\n",
            "10\n",
            "10\n"
          ]
        }
      ]
    },
    {
      "cell_type": "code",
      "source": [
        "# 별표 * 를 이용한 언패킹\n",
        "\n",
        "first, *middle, last = [1, 2, 3, 4, 5]\n",
        "\n",
        "print(first)\n",
        "print(middle)\n",
        "print(last)"
      ],
      "metadata": {
        "colab": {
          "base_uri": "https://localhost:8080/"
        },
        "id": "9J25NH0EAaxs",
        "outputId": "391bebfd-8a76-4615-852c-af6cc0af5b4b"
      },
      "execution_count": null,
      "outputs": [
        {
          "output_type": "stream",
          "name": "stdout",
          "text": [
            "1\n",
            "[2, 3, 4]\n",
            "5\n"
          ]
        }
      ]
    },
    {
      "cell_type": "code",
      "source": [
        "first, *middle = [1, 2, 3, 4, 5]\n",
        "\n",
        "print(first)\n",
        "print(middle)"
      ],
      "metadata": {
        "colab": {
          "base_uri": "https://localhost:8080/"
        },
        "id": "sWGWMd4sA0cn",
        "outputId": "bc3ce199-1103-488b-c1a5-f27d5a530e29"
      },
      "execution_count": null,
      "outputs": [
        {
          "output_type": "stream",
          "name": "stdout",
          "text": [
            "1\n",
            "[2, 3, 4, 5]\n"
          ]
        }
      ]
    },
    {
      "cell_type": "code",
      "source": [
        "*middle, first = [1, 2, 3, 4, 5]\n",
        "\n",
        "print(first)\n",
        "print(middle)"
      ],
      "metadata": {
        "colab": {
          "base_uri": "https://localhost:8080/"
        },
        "id": "HQXKaXvWBBd6",
        "outputId": "a18f88d6-b784-45fc-f2b7-13af3c7a247c"
      },
      "execution_count": null,
      "outputs": [
        {
          "output_type": "stream",
          "name": "stdout",
          "text": [
            "5\n",
            "[1, 2, 3, 4]\n"
          ]
        }
      ]
    },
    {
      "cell_type": "markdown",
      "source": [
        "# 3. 리스트"
      ],
      "metadata": {
        "id": "TjuautMJE1AH"
      }
    },
    {
      "cell_type": "code",
      "source": [
        "# 리스트의 장점: 여러가지 자료형을 넣을 수 있다.\n",
        "\n",
        "z = [1, 'apple', 2.5, ['a', 'b'], (1, 2), True]\n",
        "print(z)\n",
        "print(z[0])\n",
        "print(z[1])\n",
        "print(z[2])\n",
        "print(z[3])\n",
        "print(z[4])\n",
        "print(int(z[5]))"
      ],
      "metadata": {
        "colab": {
          "base_uri": "https://localhost:8080/"
        },
        "id": "j4xMqHJ5E3Cd",
        "outputId": "8e7c9aa9-0fca-4b7e-96b5-de462e03f319"
      },
      "execution_count": null,
      "outputs": [
        {
          "output_type": "stream",
          "name": "stdout",
          "text": [
            "[1, 'apple', 2.5, ['a', 'b'], (1, 2), True]\n",
            "1\n",
            "apple\n",
            "2.5\n",
            "['a', 'b']\n",
            "(1, 2)\n",
            "1\n"
          ]
        }
      ]
    },
    {
      "cell_type": "code",
      "source": [
        "# 이렇게 적는것도 가능\n",
        "z = [\n",
        "\t\t1,\n",
        "\t\t'apple',\n",
        "\t\t2.5,\n",
        "\t\t['a', 'b'],\n",
        "\t\t(1, 2)\n",
        "]\n",
        "print(z[0])"
      ],
      "metadata": {
        "colab": {
          "base_uri": "https://localhost:8080/"
        },
        "id": "yLyuaXLHFjdf",
        "outputId": "93faefeb-37bd-4ff1-bce4-55faee9f84f0"
      },
      "execution_count": null,
      "outputs": [
        {
          "output_type": "stream",
          "name": "stdout",
          "text": [
            "1\n"
          ]
        }
      ]
    },
    {
      "cell_type": "code",
      "source": [
        "# 3.1 리스트 값 수정\n",
        "\n",
        "a = [1, 2, 3, 4, 5]\n",
        "a[0] = 10000\n",
        "a[1] = [1, 2]\n",
        "print(a)"
      ],
      "metadata": {
        "colab": {
          "base_uri": "https://localhost:8080/"
        },
        "id": "8SUXCfBFF7Ix",
        "outputId": "8b2a8294-8006-4628-86f3-301976e28f07"
      },
      "execution_count": null,
      "outputs": [
        {
          "output_type": "stream",
          "name": "stdout",
          "text": [
            "[10000, [1, 2], 3, 4, 5]\n"
          ]
        }
      ]
    },
    {
      "cell_type": "markdown",
      "source": [
        "문자열은 변경 할 수 없다."
      ],
      "metadata": {
        "id": "uetR9BsbG7cn"
      }
    },
    {
      "cell_type": "code",
      "source": [
        "# 문자열은 변경 불가능~\n",
        "s = 'licat'\n",
        "print(s[0])\n",
        "s[0] = 'k'  # 오류 발생"
      ],
      "metadata": {
        "id": "GOWNGvWlHSPa"
      },
      "execution_count": null,
      "outputs": []
    },
    {
      "cell_type": "code",
      "source": [
        "ss = s.replace(\"l\", \"k\")\n",
        "print(ss)"
      ],
      "metadata": {
        "colab": {
          "base_uri": "https://localhost:8080/"
        },
        "id": "WBOTeZFRHdXc",
        "outputId": "29d0f78f-8b5e-4fba-d829-a196555f6340"
      },
      "execution_count": null,
      "outputs": [
        {
          "output_type": "stream",
          "name": "stdout",
          "text": [
            "kicat\n"
          ]
        }
      ]
    },
    {
      "cell_type": "code",
      "source": [
        "# 3.2 리스트 안에 리스트\n",
        "\n",
        "b = [[10, 20, 30], [1, 2, 3]]\n",
        "print(b[1][2]) # 출력: 3"
      ],
      "metadata": {
        "colab": {
          "base_uri": "https://localhost:8080/"
        },
        "id": "GpCutClcHmZy",
        "outputId": "22de929b-c36d-463e-951e-a743e266222a"
      },
      "execution_count": null,
      "outputs": [
        {
          "output_type": "stream",
          "name": "stdout",
          "text": [
            "3\n"
          ]
        }
      ]
    },
    {
      "cell_type": "markdown",
      "source": [
        "다차원 리스트는 헷갈리기 때문에 주의해야한다옹."
      ],
      "metadata": {
        "id": "uwd9fw9bIHtu"
      }
    },
    {
      "cell_type": "code",
      "source": [
        "# 리스트의 덧셈\n",
        "\n",
        "a = [1, 2, 3]; b = [4, 5, 6]\n",
        "print(a + b)"
      ],
      "metadata": {
        "colab": {
          "base_uri": "https://localhost:8080/"
        },
        "id": "sKTaZ4QGIko1",
        "outputId": "5037623b-c52a-4c47-baaf-412b642868e5"
      },
      "execution_count": null,
      "outputs": [
        {
          "output_type": "stream",
          "name": "stdout",
          "text": [
            "[1, 2, 3, 4, 5, 6]\n"
          ]
        }
      ]
    },
    {
      "cell_type": "code",
      "source": [
        "import numpy as np\n",
        "\n",
        "l = [1, 2, 3]\n",
        "l = np.array(l)\n",
        "print(l)\n",
        "print(l * 3)\n",
        "print(l + l)\n",
        "\n",
        "print(type(l))"
      ],
      "metadata": {
        "colab": {
          "base_uri": "https://localhost:8080/"
        },
        "id": "YvhKL6DtJT6p",
        "outputId": "8a79c5d6-f98f-437f-c4b9-593e6433fb93"
      },
      "execution_count": null,
      "outputs": [
        {
          "output_type": "stream",
          "name": "stdout",
          "text": [
            "[1 2 3]\n",
            "[3 6 9]\n",
            "[2 4 6]\n",
            "<class 'numpy.ndarray'>\n"
          ]
        }
      ]
    },
    {
      "cell_type": "code",
      "source": [
        "# numpy 없이 실행하면?\n",
        "l = [1, 2, 3]\n",
        "\n",
        "print(l)\n",
        "print(l * 3)\n",
        "print(l + l)\n",
        "\n",
        "print(type(l))"
      ],
      "metadata": {
        "colab": {
          "base_uri": "https://localhost:8080/"
        },
        "id": "UvIKcqfrJiRL",
        "outputId": "e6d508c0-a819-464f-a574-dd80631ccb0f"
      },
      "execution_count": null,
      "outputs": [
        {
          "output_type": "stream",
          "name": "stdout",
          "text": [
            "[1, 2, 3]\n",
            "[1, 2, 3, 1, 2, 3, 1, 2, 3]\n",
            "[1, 2, 3, 1, 2, 3]\n",
            "<class 'list'>\n"
          ]
        }
      ]
    },
    {
      "cell_type": "markdown",
      "source": [
        "---"
      ],
      "metadata": {
        "id": "0AkcxZveK5-L"
      }
    },
    {
      "cell_type": "code",
      "source": [
        "# 슬라이싱 실습!\n",
        "\n",
        "l = [1, 2, 3, 4, 5]\n",
        "print(l[:])     # 출력: [1, 2, 3, 4, 5]\n",
        "print(l[::-1])  # 출력: [5, 4, 3, 2, 1]\n",
        "print(l[::2])   # 출력: [1, 3, 5]\n",
        "print(l[0:4][::-1]) # 출력: [4, 3, 2, 1]"
      ],
      "metadata": {
        "colab": {
          "base_uri": "https://localhost:8080/"
        },
        "id": "9BeYH5c0JpxP",
        "outputId": "a8f8e921-b3d7-4d16-bd7f-590fc520520d"
      },
      "execution_count": null,
      "outputs": [
        {
          "output_type": "stream",
          "name": "stdout",
          "text": [
            "[1, 2, 3, 4, 5]\n",
            "[5, 4, 3, 2, 1]\n",
            "[1, 3, 5]\n",
            "[4, 3, 2, 1]\n"
          ]
        }
      ]
    },
    {
      "cell_type": "markdown",
      "source": [
        "데이터가 크다. 내가 원하는대로 데이터를 추출하고 싶다!\n",
        "1. 샘풀링 -> 1억개 데이터 -> 천개 -> 리스트 슬라이싱, 메서드 -> 1억개 데이터에 적용"
      ],
      "metadata": {
        "id": "FPfkj6vBK8Dp"
      }
    },
    {
      "cell_type": "code",
      "source": [
        "# 슬라이싱은 범위를 벗어나도\n",
        "# 에러가 발생하지 않는다\n",
        "\n",
        "l = [1, 2, 3, 4, 5]\n",
        "print(l[10:20]) # 출력: []"
      ],
      "metadata": {
        "colab": {
          "base_uri": "https://localhost:8080/"
        },
        "id": "LWOYjbeoLtcM",
        "outputId": "f6a2c314-a81d-4e6c-d361-e2114e797e81"
      },
      "execution_count": null,
      "outputs": [
        {
          "output_type": "stream",
          "name": "stdout",
          "text": [
            "[]\n"
          ]
        }
      ]
    }
  ]
}