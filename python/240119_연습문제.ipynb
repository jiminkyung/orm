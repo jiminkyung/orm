{
  "nbformat": 4,
  "nbformat_minor": 0,
  "metadata": {
    "colab": {
      "provenance": [],
      "collapsed_sections": [
        "nj_2nSvresvv"
      ],
      "authorship_tag": "ABX9TyMrRtyU3SLPr7CVlEwrcXYw",
      "include_colab_link": true
    },
    "kernelspec": {
      "name": "python3",
      "display_name": "Python 3"
    },
    "language_info": {
      "name": "python"
    }
  },
  "cells": [
    {
      "cell_type": "markdown",
      "metadata": {
        "id": "view-in-github",
        "colab_type": "text"
      },
      "source": [
        "<a href=\"https://colab.research.google.com/github/jiminkyung/orm/blob/main/python/240119_%EC%97%B0%EC%8A%B5%EB%AC%B8%EC%A0%9C.ipynb\" target=\"_parent\"><img src=\"https://colab.research.google.com/assets/colab-badge.svg\" alt=\"Open In Colab\"/></a>"
      ]
    },
    {
      "cell_type": "markdown",
      "source": [
        "파이알고 연습문제 풀이"
      ],
      "metadata": {
        "id": "PsmNxpxEegBc"
      }
    },
    {
      "cell_type": "markdown",
      "source": [
        "## 링크 잘못들어감\n",
        "https://100.pyalgo.co.kr/?page=23"
      ],
      "metadata": {
        "id": "nj_2nSvresvv"
      }
    },
    {
      "cell_type": "code",
      "source": [
        "data = ([[1, 3, 5], [7, 9, 11], [13, 15, 17]], 7)\n",
        "data2 = ([[2, 4, 6], [8, 10, 12], [14, 16, 18]], 13)\n",
        "\n",
        "def solution(data):\n",
        "    array = data[0]\n",
        "    target = data[1]\n",
        "    result = 0\n",
        "    for i in array:\n",
        "        if target in i:\n",
        "            result += 1\n",
        "    return (True if result % 2 == 1 else False)\n",
        "\n",
        "print(solution(data))\n",
        "print(solution(data2))"
      ],
      "metadata": {
        "colab": {
          "base_uri": "https://localhost:8080/"
        },
        "id": "9ybV5MjWewqR",
        "outputId": "3e2de2cb-57ac-42e4-dae0-154dff68bce9"
      },
      "execution_count": 11,
      "outputs": [
        {
          "output_type": "stream",
          "name": "stdout",
          "text": [
            "True\n",
            "False\n"
          ]
        }
      ]
    },
    {
      "cell_type": "markdown",
      "source": [
        "# 1번: 게임 밸런스 조절\n",
        "https://100.pyalgo.co.kr/?page=10"
      ],
      "metadata": {
        "id": "inW8RI65fztq"
      }
    },
    {
      "cell_type": "code",
      "source": [
        "data = [['Licat', 98, 92, 85, 97], ['Mura', 95, 32, 51, 30], ['Binky', 98, 98, 51, 32]]\n",
        "data2 = [['Gray', 98, 92, 85, 97], ['Gom', 98, 30, 21, 60], ['Allosa', 98, 90, 99, 98]]\n",
        "\n",
        "def solution(data):\n",
        "    result = []\n",
        "    characters = [i[0] for i in data if sum(i[1:]) >= 350]\n",
        "    return sorted(characters) # 기본 키값이 0\n",
        "\n",
        "print(solution(data))\n",
        "print(solution(data2))"
      ],
      "metadata": {
        "colab": {
          "base_uri": "https://localhost:8080/"
        },
        "id": "XxzVq9GDhgfK",
        "outputId": "6d4af05e-55f8-4be6-d4fa-1499969e658a"
      },
      "execution_count": 44,
      "outputs": [
        {
          "output_type": "stream",
          "name": "stdout",
          "text": [
            "['Licat']\n",
            "['Allosa', 'Gray']\n"
          ]
        }
      ]
    },
    {
      "cell_type": "markdown",
      "source": [
        "# 2번: 우편 번호 정렬\n",
        "https://100.pyalgo.co.kr/?page=12"
      ],
      "metadata": {
        "id": "HQ7mUdcRjmjd"
      }
    },
    {
      "cell_type": "code",
      "source": [
        "data = [['제주시 A동 한라산길 61', '제주시 B동 백록담길 63', '제주시 C동 사라봉길 31'], {'A동': 63007, 'B동': 63010, 'C동': 63002}]\n",
        "\n",
        "def solution2(data):\n",
        "    address, zipcode = data\n",
        "    result = sorted(address, key = lambda x: zipcode[x.split()[1]])\n",
        "    return result\n",
        "\n",
        "solution2(data)"
      ],
      "metadata": {
        "colab": {
          "base_uri": "https://localhost:8080/"
        },
        "id": "JuFmhWPYj0BC",
        "outputId": "8395364b-a34f-4d74-8b36-151cec840f22"
      },
      "execution_count": 45,
      "outputs": [
        {
          "output_type": "execute_result",
          "data": {
            "text/plain": [
              "['제주시 C동 사라봉길 31', '제주시 A동 한라산길 61', '제주시 B동 백록담길 63']"
            ]
          },
          "metadata": {},
          "execution_count": 45
        }
      ]
    },
    {
      "cell_type": "markdown",
      "source": [
        "# 3번: 도서관 책 연도별 정렬\n",
        "https://100.pyalgo.co.kr/?page=13"
      ],
      "metadata": {
        "id": "Vw9bd4b2uhJk"
      }
    },
    {
      "cell_type": "code",
      "source": [
        "data = [['Moby Dick', 'To Kill a Mockingbird', '1984'], {'Moby Dick': 1851, 'To Kill a Mockingbird': 1960, '1984': 1949}]\n",
        "\n",
        "def solution3(data):\n",
        "    name, year = data\n",
        "    result = sorted(name, key=lambda x: year[x])\n",
        "    return result\n",
        "\n",
        "solution3(data)"
      ],
      "metadata": {
        "colab": {
          "base_uri": "https://localhost:8080/"
        },
        "id": "2Avkjp9o5i36",
        "outputId": "758c0180-1b74-4770-a6df-9735eac3e86a"
      },
      "execution_count": 46,
      "outputs": [
        {
          "output_type": "execute_result",
          "data": {
            "text/plain": [
              "['Moby Dick', '1984', 'To Kill a Mockingbird']"
            ]
          },
          "metadata": {},
          "execution_count": 46
        }
      ]
    },
    {
      "cell_type": "code",
      "source": [
        "tmp = [\"apple\", \"banana\", \"cocaine\"]\n",
        "tmp2 = {\"apple\":2, \"banana\":1, \"cocaine\":3}\n",
        "sorted(tmp, key=lambda x: tmp2[x])"
      ],
      "metadata": {
        "colab": {
          "base_uri": "https://localhost:8080/"
        },
        "id": "Ad-5N6598nP0",
        "outputId": "6f199924-5e66-455c-89d1-17a3bf515143"
      },
      "execution_count": 35,
      "outputs": [
        {
          "output_type": "execute_result",
          "data": {
            "text/plain": [
              "['banana', 'apple', 'cocaine']"
            ]
          },
          "metadata": {},
          "execution_count": 35
        }
      ]
    }
  ]
}