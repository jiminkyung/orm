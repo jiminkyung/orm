{
  "nbformat": 4,
  "nbformat_minor": 0,
  "metadata": {
    "colab": {
      "provenance": [],
      "collapsed_sections": [
        "M_JtinczzcuH",
        "fp_gUw-xzznZ",
        "RSUPzzJ8E7zO",
        "oFiEw1Z5NGrQ",
        "BBAM_rINRhCH",
        "t8oDDFnUUIn0",
        "Rzq4Zkw7UK9G",
        "1nIbNNRgY2Yx",
        "jU57svvwfPDb",
        "_Ysxz_18fwh6",
        "T84ZzsQ14_sh",
        "dkm3uD1DC8T9",
        "kPqdJz5dHrNR"
      ],
      "toc_visible": true,
      "authorship_tag": "ABX9TyMQ12Y1z/6HrgrQXqZ2PDzK",
      "include_colab_link": true
    },
    "kernelspec": {
      "name": "python3",
      "display_name": "Python 3"
    },
    "language_info": {
      "name": "python"
    }
  },
  "cells": [
    {
      "cell_type": "markdown",
      "metadata": {
        "id": "view-in-github",
        "colab_type": "text"
      },
      "source": [
        "<a href=\"https://colab.research.google.com/github/jiminkyung/orm/blob/main/python/240117_%ED%81%B4%EB%A1%9C%EC%A0%80_%EC%98%88%EC%99%B8%EC%B2%98%EB%A6%AC.ipynb\" target=\"_parent\"><img src=\"https://colab.research.google.com/assets/colab-badge.svg\" alt=\"Open In Colab\"/></a>"
      ]
    },
    {
      "cell_type": "markdown",
      "source": [
        "# 어제 과제와 연관된 실습"
      ],
      "metadata": {
        "id": "M_JtinczzcuH"
      }
    },
    {
      "cell_type": "code",
      "source": [
        "class Calc:\n",
        "    pass\n",
        "\n",
        "add = Calc()\n",
        "add\n",
        "\n",
        "# 더할 수 있는 함수의 기능이 지금 Calc에 없습니다.\n",
        "\n",
        "# add.oper(인스턴스 변수) / lambda x...(인스턴스 함수)\n",
        "add.oper = lambda x, y: x + y\n",
        "add.oper(10, 20)"
      ],
      "metadata": {
        "colab": {
          "base_uri": "https://localhost:8080/"
        },
        "id": "o5jp1dfpy5Yo",
        "outputId": "44ee410c-eaa0-43ef-9a27-7ecb2c5a2727"
      },
      "execution_count": 7,
      "outputs": [
        {
          "output_type": "execute_result",
          "data": {
            "text/plain": [
              "30"
            ]
          },
          "metadata": {},
          "execution_count": 7
        }
      ]
    },
    {
      "cell_type": "markdown",
      "source": [
        "# 클로저"
      ],
      "metadata": {
        "id": "fp_gUw-xzznZ"
      }
    },
    {
      "cell_type": "markdown",
      "source": [
        "- 클로징 되어야 하는 변수에 접근하는것  \n",
        "=> 변수를 살아있게(유지) 할 수 있다."
      ],
      "metadata": {
        "id": "y5eFEnvq0SZL"
      }
    },
    {
      "cell_type": "code",
      "source": [
        "def outer_function(x):\n",
        "    def inner_function(y):\n",
        "        return x + y\n",
        "    return inner_function\n",
        "\n",
        "inner = outer_function(100)\n",
        "inner(200) # inner 입장에서 100을 변경할 수 있는 방법이 없습니다."
      ],
      "metadata": {
        "colab": {
          "base_uri": "https://localhost:8080/"
        },
        "id": "xSOVifTl0qu1",
        "outputId": "2485b028-28f2-4723-eb29-e42cd70d6597"
      },
      "execution_count": 8,
      "outputs": [
        {
          "output_type": "execute_result",
          "data": {
            "text/plain": [
              "300"
            ]
          },
          "metadata": {},
          "execution_count": 8
        }
      ]
    },
    {
      "cell_type": "markdown",
      "source": [
        "할당함수는 먼저 선언이 되어있어야 한다."
      ],
      "metadata": {
        "id": "bfdwt-g22L_E"
      }
    },
    {
      "cell_type": "code",
      "source": [
        "def make_counter():\n",
        "    count = 0\n",
        "\n",
        "    def counter():\n",
        "        nonlocal count # 밖에있는 count를 가져오겠다.\n",
        "        count += 1\n",
        "        return count\n",
        "\n",
        "    return counter\n",
        "\n",
        "counter_a = make_counter()\n",
        "print(counter_a())  # 1\n",
        "print(counter_a())  # 2"
      ],
      "metadata": {
        "colab": {
          "base_uri": "https://localhost:8080/"
        },
        "id": "A5Gz7O3H11QB",
        "outputId": "c8dda82b-9863-4301-c765-df234058b439"
      },
      "execution_count": 9,
      "outputs": [
        {
          "output_type": "stream",
          "name": "stdout",
          "text": [
            "1\n",
            "2\n"
          ]
        }
      ]
    },
    {
      "cell_type": "code",
      "source": [
        "# 에러 1\n",
        "def make_counter():\n",
        "    count = 0\n",
        "\n",
        "    def counter():\n",
        "        count += 1 # error 왜냐하면 지역변수 내에 count가 없기 때문.\n",
        "        return count\n",
        "\n",
        "    return counter\n",
        "\n",
        "counter_a = make_counter()\n",
        "print(counter_a())  # 1\n",
        "print(counter_a())  # 2"
      ],
      "metadata": {
        "id": "UFfDg9uH165H"
      },
      "execution_count": null,
      "outputs": []
    },
    {
      "cell_type": "code",
      "source": [
        "# 에러 2\n",
        "def make_counter():\n",
        "    count = 0\n",
        "\n",
        "    def counter():\n",
        "        global count # error 왜냐하면 글로벌(전역 영역에) count가 없다.\n",
        "        count += 1\n",
        "        return count\n",
        "\n",
        "    return counter\n",
        "\n",
        "counter_a = make_counter()\n",
        "print(counter_a())  # 1\n",
        "print(counter_a())  # 2"
      ],
      "metadata": {
        "id": "iZTlpR6L2gbn"
      },
      "execution_count": null,
      "outputs": []
    },
    {
      "cell_type": "code",
      "source": [
        "def make_counter():\n",
        "    count = 0\n",
        "\n",
        "    def counter():\n",
        "        nonlocal count\n",
        "        count += 1\n",
        "        return count\n",
        "\n",
        "    return counter\n",
        "\n",
        "counter_a = make_counter()\n",
        "print(counter_a())  # 1\n",
        "print(counter_a())  # 2\n",
        "print(counter_a())  # 3\n",
        "\n",
        "# 이렇게 함으로 순서는 항상 상승된다는 보장할 수 있습니다.\n",
        "# DB에서 게시물 번호"
      ],
      "metadata": {
        "colab": {
          "base_uri": "https://localhost:8080/"
        },
        "id": "T23et09R2mF8",
        "outputId": "7712465b-61be-4b96-e1eb-8f8c39df33a8"
      },
      "execution_count": 10,
      "outputs": [
        {
          "output_type": "stream",
          "name": "stdout",
          "text": [
            "1\n",
            "2\n",
            "3\n"
          ]
        }
      ]
    },
    {
      "cell_type": "markdown",
      "source": [
        "위의 코드는 실제로 아래와 같다."
      ],
      "metadata": {
        "id": "EYYK0S7p3p_8"
      }
    },
    {
      "cell_type": "code",
      "source": [
        "count = 0\n",
        "def counter():\n",
        "    global count\n",
        "    count += 1\n",
        "    return count\n",
        "\n",
        "counter_a = counter\n",
        "print(counter_a())  # 1\n",
        "# count = 0\n",
        "print(counter_a())  # 2\n",
        "print(counter_a())  # 3\n",
        "\n",
        "# 이렇게 함으로 순서는 항상 상승된다는 보장할 수 있습니다.\n",
        "# DB에서 게시물 번호"
      ],
      "metadata": {
        "colab": {
          "base_uri": "https://localhost:8080/"
        },
        "id": "0nxkl7hj3sni",
        "outputId": "0484b6bf-93b6-4611-9536-fe4dbf46df91"
      },
      "execution_count": 14,
      "outputs": [
        {
          "output_type": "stream",
          "name": "stdout",
          "text": [
            "1\n",
            "2\n",
            "3\n"
          ]
        }
      ]
    },
    {
      "cell_type": "code",
      "source": [
        "def calc(oper, original):\n",
        "    def add(x, y):\n",
        "        return original + x + y\n",
        "    def sub(x, y):\n",
        "        return original - x - y\n",
        "    if oper == 'add':\n",
        "        return add\n",
        "    if oper == 'sub':\n",
        "        return sub\n",
        "\n",
        "add = calc('add', 1000)\n",
        "add(10, 20) # add의 입장에서 1000을 바꿀 수 없다!\n",
        "\n",
        "sub = calc('sub', 100)\n",
        "sub(10, 20) # sub에 입장에서 100을 바꿀 수 없다!"
      ],
      "metadata": {
        "colab": {
          "base_uri": "https://localhost:8080/"
        },
        "id": "smTLVJKH4YSa",
        "outputId": "295f5a92-46a8-4c5e-84fb-503a0e45dbce"
      },
      "execution_count": 18,
      "outputs": [
        {
          "output_type": "execute_result",
          "data": {
            "text/plain": [
              "70"
            ]
          },
          "metadata": {},
          "execution_count": 18
        }
      ]
    },
    {
      "cell_type": "code",
      "source": [
        "# 어떠한 변수를 보호하기 위한 용도로는 잘 사용하지 않습니다.\n",
        "def 은행(원금):\n",
        "    def 입금(입금금액):\n",
        "        return 원금 + 입금금액\n",
        "    return 입금\n",
        "\n",
        "이호준통장_입금함수 = 은행(1000) # 1000만원을 초기에 입금\n",
        "이호준통장_입금함수(100)\n",
        "이호준통장_입금함수(-1100)\n",
        "# 문제점1: 입금 금액에 커스텀 인스턴스를 넣어서 __add__를 추가할 수 있나요?\n",
        "# 문제점2: 출금은 안되나요?"
      ],
      "metadata": {
        "colab": {
          "base_uri": "https://localhost:8080/"
        },
        "id": "P-IPw9hl8T_K",
        "outputId": "410f23b5-d0b1-40f0-af3c-97fefe5f01de"
      },
      "execution_count": 22,
      "outputs": [
        {
          "output_type": "execute_result",
          "data": {
            "text/plain": [
              "-100"
            ]
          },
          "metadata": {},
          "execution_count": 22
        }
      ]
    },
    {
      "cell_type": "code",
      "source": [
        "# 요즘 은행에서 이런 시큐어 코딩 문제로 문제가 발생되는 경우는 극히 드뭅니다.\n",
        "# 거래소 같은 경우가 이런 사건이 많아요.\n",
        "\n",
        "# 이더리움 <- 음수가 없습니다. 양수만 있습니다.\n",
        "# 0원 -1원 => 옛날 차 계기판(반시계방향으로 돌면) => 나올 수 있는 최댓값 => 은행 통장 잔고 전체\n",
        "# 마이너스 연산을 허락하지 않았는데 어떻게 마이너스 연산을 한 것일까요?\n",
        "# => 따로 커스텀 인스턴스를 만들어서ㅋㅋ 해커가ㅋㅋ 개똑똑~"
      ],
      "metadata": {
        "id": "o3ngGJ8p9CXi"
      },
      "execution_count": 23,
      "outputs": []
    },
    {
      "cell_type": "markdown",
      "source": [
        "# 데코레이터 - 별표 1개\n",
        "\n",
        "- 함수 또는 메서드를 꾸며주는 함수"
      ],
      "metadata": {
        "id": "5hga8jzP3Mw_"
      }
    },
    {
      "cell_type": "code",
      "source": [
        "def login(function):\n",
        "    '''\n",
        "    로그인을 확인하는 로직\n",
        "    '''\n",
        "    pass\n",
        "\n",
        "@login\n",
        "def 게시판읽기():\n",
        "    pass"
      ],
      "metadata": {
        "id": "qWQOITJY3Qeh"
      },
      "execution_count": 24,
      "outputs": []
    },
    {
      "cell_type": "code",
      "source": [
        "def 동작시간체크(function):\n",
        "    '''\n",
        "    동작 시간을 체크하는 로직\n",
        "    '''\n",
        "    pass\n",
        "\n",
        "@동작시간체크\n",
        "def f():\n",
        "    pass"
      ],
      "metadata": {
        "id": "zk-TCSQ-_aa4"
      },
      "execution_count": 25,
      "outputs": []
    },
    {
      "cell_type": "code",
      "source": [
        "def log(function):\n",
        "    '''\n",
        "    DB에 접속 기록을 쌓는 로직\n",
        "    '''\n",
        "    pass\n",
        "\n",
        "@log\n",
        "def f():\n",
        "    pass"
      ],
      "metadata": {
        "id": "x8BbZq3N_ghB"
      },
      "execution_count": 26,
      "outputs": []
    },
    {
      "cell_type": "code",
      "source": [
        "# 왜 데코레이터가 필요한가요? 그냥 아래와 같이 하면 안되나?\n",
        "# 분명한 목적성, 가독성, 명료!\n",
        "\n",
        "def login(function):\n",
        "    '''\n",
        "    로그인을 확인하는 로직\n",
        "    '''\n",
        "    pass\n",
        "\n",
        "def 게시판읽기():\n",
        "    login()\n",
        "    # 이렇게 해도 로그인을 확인하는 로직이 들어가는데?! 굳이?\n",
        "    # 새로운 문법을 만들면서까지 사용해야 하나요?\n",
        "    pass"
      ],
      "metadata": {
        "id": "2ESm68R8_xmF"
      },
      "execution_count": 29,
      "outputs": []
    },
    {
      "cell_type": "markdown",
      "source": [
        "파선아실: 파라미터는 선언할때, 아규먼트는 실행할때"
      ],
      "metadata": {
        "id": "iP02l3u6Aws9"
      }
    },
    {
      "cell_type": "code",
      "source": [
        "# 데코레이터는 함수가 호출되었을 때 실제 실행되는 함수입니다.\n",
        "# 데코레이터의 return 함수가 실행되는 것입니다.\n",
        "\n",
        "def simple_decorator(function):\n",
        "    def wrapper():\n",
        "        print(\"전\")\n",
        "        function()\n",
        "        print(\"후\")\n",
        "    return wrapper\n",
        "\n",
        "@simple_decorator\n",
        "def hello(): # hello가 위의 function으로 들어간다.\n",
        "    print(\"Hello, World!\")\n",
        "\n",
        "hello() # 데코레이터가 없는 상태에서는 simple_decorator(hello)() 와 같습니다."
      ],
      "metadata": {
        "colab": {
          "base_uri": "https://localhost:8080/"
        },
        "id": "YLScOcSsARE4",
        "outputId": "d8710ded-ad0f-4b2c-bd7e-c4001e4e5310"
      },
      "execution_count": 33,
      "outputs": [
        {
          "output_type": "stream",
          "name": "stdout",
          "text": [
            "전\n",
            "Hello, World!\n",
            "후\n"
          ]
        }
      ]
    },
    {
      "cell_type": "markdown",
      "source": [
        "- hello를 호출하면 hello를 호출하는게 아니다!\n",
        "- simple_decorator에 hello를 아규먼트로 전달해서 실행시키는것이다.\n",
        "- 위의 function()을 주석 처리하면 \"HelloWorld\"는 실행되지 않는다."
      ],
      "metadata": {
        "id": "znxtfNoBCiFV"
      }
    },
    {
      "cell_type": "code",
      "source": [
        "def simple_decorator(function):\n",
        "    def wrapper():\n",
        "        print(\"전\")\n",
        "        # function()\n",
        "        print(\"후\")\n",
        "    return wrapper\n",
        "\n",
        "@simple_decorator\n",
        "def hello():\n",
        "    print(\"Hello, World!\")\n",
        "hello()"
      ],
      "metadata": {
        "colab": {
          "base_uri": "https://localhost:8080/"
        },
        "id": "QUAMUjU4AWWV",
        "outputId": "20c57aad-3286-4758-c5e8-4e45293bb700"
      },
      "execution_count": 34,
      "outputs": [
        {
          "output_type": "stream",
          "name": "stdout",
          "text": [
            "전\n",
            "후\n"
          ]
        }
      ]
    },
    {
      "cell_type": "markdown",
      "source": [
        "`function()`을 주석 처리하니 wrapper부분만 실행되었다.  \n",
        "`hello()`자체가 실행되는것이 아님을 알 수 있다."
      ],
      "metadata": {
        "id": "-deYeYpmC1f-"
      }
    },
    {
      "cell_type": "code",
      "source": [
        "# 따라서 아래와 같다.\n",
        "def hello():\n",
        "    print(\"Hello, World!\")\n",
        "\n",
        "print(\"전\")\n",
        "hello()\n",
        "print(\"후\")"
      ],
      "metadata": {
        "colab": {
          "base_uri": "https://localhost:8080/"
        },
        "id": "122SHQsNCqGk",
        "outputId": "96ef79dd-fb8d-485b-dc59-ac764bfbdcab"
      },
      "execution_count": 35,
      "outputs": [
        {
          "output_type": "stream",
          "name": "stdout",
          "text": [
            "전\n",
            "Hello, World!\n",
            "후\n"
          ]
        }
      ]
    },
    {
      "cell_type": "code",
      "source": [
        "# 데코레이터 한 것과 똑같은 기능\n",
        "def simple_decorator(function):\n",
        "    def wrapper():\n",
        "        print(\"전\")\n",
        "        function()\n",
        "        print(\"후\")\n",
        "    return wrapper\n",
        "\n",
        "def hello():\n",
        "    print(\"Hello, World!\")\n",
        "\n",
        "w = simple_decorator(hello)\n",
        "w()"
      ],
      "metadata": {
        "colab": {
          "base_uri": "https://localhost:8080/"
        },
        "id": "NbX_o-J9Cz4r",
        "outputId": "a6caf6c9-cc08-4891-b7ae-bcaa23e905a0"
      },
      "execution_count": 37,
      "outputs": [
        {
          "output_type": "stream",
          "name": "stdout",
          "text": [
            "전\n",
            "Hello, World!\n",
            "후\n"
          ]
        }
      ]
    },
    {
      "cell_type": "markdown",
      "source": [
        "이거(데코레이터) 면접질문으로 많이 나옵니다.  \n",
        "파이썬에선 많이 있는 상황은 아니지만, 언어를 얼마나 이해했는가의 척도로 이런 질문을 던지는 경우가 많다."
      ],
      "metadata": {
        "id": "yv8TMaX1DE1U"
      }
    },
    {
      "cell_type": "code",
      "source": [
        "def simple_decorator(function):\n",
        "    def wrapper():\n",
        "        print(\"전\")\n",
        "        function()\n",
        "        print(\"후\")\n",
        "    return wrapper\n",
        "\n",
        "def hello():\n",
        "    print(\"Hello, World!\")\n",
        "\n",
        "simple_decorator(hello)()"
      ],
      "metadata": {
        "colab": {
          "base_uri": "https://localhost:8080/"
        },
        "id": "N7nU00vNDVkk",
        "outputId": "5087430b-5c9e-44ec-8564-ad3f31ccba67"
      },
      "execution_count": 38,
      "outputs": [
        {
          "output_type": "stream",
          "name": "stdout",
          "text": [
            "전\n",
            "Hello, World!\n",
            "후\n"
          ]
        }
      ]
    },
    {
      "cell_type": "markdown",
      "source": [
        "중첩 데코레이터 이런건 가독성도 엄청 떨어지고, 유지보수성도 떨어진다.  \n",
        "실무에서 보는 경우는 거의 없다.  \n",
        "매개변수가 있는 데코레이터까지만 주의깊게 보자~"
      ],
      "metadata": {
        "id": "PKz8L6PHDYPg"
      }
    },
    {
      "cell_type": "code",
      "source": [
        "def simple_decorator(function):\n",
        "    def wrapper(a, b): # point 1\n",
        "        print('전')\n",
        "        result = function(a, b) # point 2\n",
        "        print(result)\n",
        "        print('후')\n",
        "        return result\n",
        "    return wrapper\n",
        "\n",
        "@simple_decorator\n",
        "def hello(a, b):\n",
        "    return a + b\n",
        "\n",
        "hello(10, 20)\n",
        "# => simple_decorator(hello)(10, 20)\n",
        "# => wrapper(10, 20)"
      ],
      "metadata": {
        "colab": {
          "base_uri": "https://localhost:8080/"
        },
        "id": "hjU4J0BnDmUy",
        "outputId": "2f6e682f-58d0-43b6-9b21-dd0dc9e50150"
      },
      "execution_count": 41,
      "outputs": [
        {
          "output_type": "stream",
          "name": "stdout",
          "text": [
            "전\n",
            "30\n",
            "후\n"
          ]
        },
        {
          "output_type": "execute_result",
          "data": {
            "text/plain": [
              "30"
            ]
          },
          "metadata": {},
          "execution_count": 41
        }
      ]
    },
    {
      "cell_type": "markdown",
      "source": [
        "wrapper의 매개변수와 hello의 매개변수의 개수는 같아야 한다!  \n",
        "-> **필수는 아니다.** 하지만 혼란이 가중된다."
      ],
      "metadata": {
        "id": "X7XY_AjIEQUc"
      }
    },
    {
      "cell_type": "code",
      "source": [
        "# 이렇게 코딩하면 혼란이 가중되어 권하지 않습니다.\n",
        "# 실무에서 이렇게 코딩하는 것은 한 번도 본적이 없습니다.\n",
        "\n",
        "def simple_decorator(function):\n",
        "    def wrapper(a, b): # point 1\n",
        "        print('전')\n",
        "        result = function(a) # point 2\n",
        "        print(result)\n",
        "        print('후')\n",
        "        return result\n",
        "    return wrapper\n",
        "\n",
        "@simple_decorator\n",
        "def hello(a):\n",
        "    return a ** 2\n",
        "\n",
        "hello(10, 20)"
      ],
      "metadata": {
        "colab": {
          "base_uri": "https://localhost:8080/"
        },
        "id": "2LdugVGwEk1Q",
        "outputId": "35f67d41-8a47-43a9-d3ed-31b57d0064c0"
      },
      "execution_count": 44,
      "outputs": [
        {
          "output_type": "stream",
          "name": "stdout",
          "text": [
            "전\n",
            "100\n",
            "후\n"
          ]
        },
        {
          "output_type": "execute_result",
          "data": {
            "text/plain": [
              "100"
            ]
          },
          "metadata": {},
          "execution_count": 44
        }
      ]
    },
    {
      "cell_type": "markdown",
      "source": [
        "## 강사님이 사용하시는 데코레이터"
      ],
      "metadata": {
        "id": "RSUPzzJ8E7zO"
      }
    },
    {
      "cell_type": "code",
      "source": [
        "# 제가 사용하는 데코레이터\n",
        "# step0 : 필요성에 대한 인식\n",
        "\n",
        "sum([1, 2, '3', 4, 5, '6']) # error! 그런데 저는 이게 되게 하고 싶어요!"
      ],
      "metadata": {
        "id": "XWVzkQkeXWMP"
      },
      "execution_count": null,
      "outputs": []
    },
    {
      "cell_type": "code",
      "source": [
        "l = [1, 2, '3', 4, 5, '6']\n",
        "sum(map(int, l)) #이렇게 하면 되는 것 아닌가요?"
      ],
      "metadata": {
        "id": "Mibra6K0XUCx"
      },
      "execution_count": null,
      "outputs": []
    },
    {
      "cell_type": "code",
      "source": [
        "l = [1, 2, '3hello', 4, 5, 'l6l']\n",
        "sum(map(int, l)) #.............."
      ],
      "metadata": {
        "id": "D4DnOU3dXaiF"
      },
      "execution_count": null,
      "outputs": []
    },
    {
      "cell_type": "code",
      "source": [
        "l = [1, 2, '3hello', 4, 5, 'l6l']\n",
        "\n",
        "@p # 이것이 함수 전이나 후에 무언가를 작업해줄 수 있는 데코레이터 이기 때문에!\n",
        "sum(l)"
      ],
      "metadata": {
        "id": "hTlNEv0PXcdC"
      },
      "execution_count": null,
      "outputs": []
    },
    {
      "cell_type": "markdown",
      "source": [
        "처음부터 잘 동작하는 데코레이터를 만들긴 쉽지 않아요~! 스텝별로 고"
      ],
      "metadata": {
        "id": "dsO4YryEGkj8"
      }
    },
    {
      "cell_type": "code",
      "source": [
        "# step1: 골격을 만듭니다\n",
        "\n",
        "def data_pre(function):\n",
        "    def wrapper():\n",
        "        return None\n",
        "    return wrapper\n",
        "\n",
        "@data_pre\n",
        "def mean(l):\n",
        "    return sum(l) / len(l)\n",
        "\n",
        "mean([1, 2, '3', 4, 5, '6'])) # data_pre(mean)()"
      ],
      "metadata": {
        "id": "IuCiEUUQGJSO"
      },
      "execution_count": null,
      "outputs": []
    },
    {
      "cell_type": "code",
      "source": [
        "# step2: 파라미터를 설정합니다.\n",
        "# 얻어가야할 포인트(데코레이터와는 관련은 없습니다): map은 __len__가 없어서 len()가 안됩니다.\n",
        "# 포인트2: list 형변환은 부담이 있는 연산이니 주의를 해주세요.\n",
        "\n",
        "def data_pre(function):\n",
        "    def wrapper(iter_obj):\n",
        "        return function(list(map(int, iter_obj)))\n",
        "    return wrapper\n",
        "\n",
        "@data_pre\n",
        "def mean(l):\n",
        "    return sum(l) / len(l)\n",
        "\n",
        "mean([1, 2, '3', 4, 5, '6'])\n",
        "# data_pre(mean)(iter_obj)\n",
        "# iter_obj에 [1, 2, '3', 4, 5, '6']\n",
        "\n",
        "# 이 3.5는 실제 mean 반환값인가요? 실제로는 wrapper의 반환값입니다!"
      ],
      "metadata": {
        "colab": {
          "base_uri": "https://localhost:8080/"
        },
        "id": "aYqkkDjgGvvo",
        "outputId": "8a14e950-83fa-4818-ea99-aaddff360fb8"
      },
      "execution_count": 47,
      "outputs": [
        {
          "output_type": "execute_result",
          "data": {
            "text/plain": [
              "3.5"
            ]
          },
          "metadata": {},
          "execution_count": 47
        }
      ]
    },
    {
      "cell_type": "markdown",
      "source": [
        "`isinstance`도 많이 쓰인다."
      ],
      "metadata": {
        "id": "7l5txMAOLkc1"
      }
    },
    {
      "cell_type": "code",
      "source": [
        "isinstance('hello', str)"
      ],
      "metadata": {
        "colab": {
          "base_uri": "https://localhost:8080/"
        },
        "id": "6xtCftvMLnKN",
        "outputId": "f9a70444-05ed-4f1f-deab-05c601444554"
      },
      "execution_count": 49,
      "outputs": [
        {
          "output_type": "execute_result",
          "data": {
            "text/plain": [
              "True"
            ]
          },
          "metadata": {},
          "execution_count": 49
        }
      ]
    },
    {
      "cell_type": "code",
      "source": [
        "isinstance(10, str)\n"
      ],
      "metadata": {
        "colab": {
          "base_uri": "https://localhost:8080/"
        },
        "id": "RR4VyAd1Lrex",
        "outputId": "3ec2e4d8-20db-4d65-e79f-f8aa859d4054"
      },
      "execution_count": 50,
      "outputs": [
        {
          "output_type": "execute_result",
          "data": {
            "text/plain": [
              "False"
            ]
          },
          "metadata": {},
          "execution_count": 50
        }
      ]
    },
    {
      "cell_type": "code",
      "source": [
        "# 복습 X\n",
        "# 좀 더 정교한 작업이 필요할 때\n",
        "\n",
        "# 이렇게 표현하면 가독성이 떨어짐. 정규표현식을 쓰는게 낫다.\n",
        "# 정규표현식 배우면 엄청 간단해집니다.\n",
        "# 정규표현식 => re.sub(r'[a-zA-Z]+', '')\n",
        "def data_pre(function):\n",
        "    def wrapper(iter_obj):\n",
        "        l = []\n",
        "        for i in iter_obj:\n",
        "            if isinstance(i, str):\n",
        "                s = ''\n",
        "                for j in i:\n",
        "                    if j.isdigit():\n",
        "                        s += j\n",
        "                l.append(int(s))\n",
        "            else:\n",
        "                l.append(i)\n",
        "        print(l)\n",
        "        return function(list(map(int, l)))\n",
        "    return wrapper\n",
        "\n",
        "@data_pre\n",
        "def mean(l):\n",
        "    return sum(l) / len(l)\n",
        "\n",
        "mean([1, 2, '|3|', 4, 5, 'abc6def'])"
      ],
      "metadata": {
        "id": "mbMEvi5nKBPf"
      },
      "execution_count": null,
      "outputs": []
    },
    {
      "cell_type": "markdown",
      "source": [
        "데코레이터는 캐싱, 인증, 전처리, 로깅, 모니터링 등 다양한 상황에서 활용될 수 있습니다."
      ],
      "metadata": {
        "id": "n73GmNRYMnsQ"
      }
    },
    {
      "cell_type": "code",
      "source": [
        "# step0와 step1을 함께 한 겁니다.\n",
        "data = [-1, 2, 3, 4, -5]\n",
        "# sum을 할 것인데?! 모두다 절대값을 취하는 데커레이터를 만들어 사용하도록 할게요.\n",
        "# 데코레이터 == 데커레이터. 둘 다 많이 쓴다.\n",
        "def all_abs(f):\n",
        "    def wrapper():\n",
        "        return\n",
        "    return wrapper\n",
        "\n",
        "@all_abs\n",
        "def _sum():\n",
        "    return sum(l)\n",
        "\n",
        "_sum(data)"
      ],
      "metadata": {
        "id": "AvFzEW0mPB8w"
      },
      "execution_count": null,
      "outputs": []
    },
    {
      "cell_type": "code",
      "source": [
        "# step2\n",
        "data = [-1, 2, 3, 4, -5]\n",
        "\n",
        "def all_abs(f):\n",
        "    def wrapper(iter_obj): # 보통은 파라미터 이름을 똑같이 주는데, 헷갈리니까 다르게 줘볼게요.\n",
        "        return f([abs(i) for i in iter_obj])\n",
        "    return wrapper\n",
        "\n",
        "@all_abs\n",
        "def _sum(l):\n",
        "    return sum(l)\n",
        "\n",
        "_sum(data)"
      ],
      "metadata": {
        "colab": {
          "base_uri": "https://localhost:8080/"
        },
        "id": "gR3ZWFIsOGyO",
        "outputId": "9601eed7-5d2e-41db-c454-031878165cef"
      },
      "execution_count": 57,
      "outputs": [
        {
          "output_type": "execute_result",
          "data": {
            "text/plain": [
              "15"
            ]
          },
          "metadata": {},
          "execution_count": 57
        }
      ]
    },
    {
      "cell_type": "markdown",
      "source": [
        "# lambda"
      ],
      "metadata": {
        "id": "oFiEw1Z5NGrQ"
      }
    },
    {
      "cell_type": "code",
      "source": [
        "square = lambda x: x*x\n",
        "print(square(5)) # 출력: 25"
      ],
      "metadata": {
        "colab": {
          "base_uri": "https://localhost:8080/"
        },
        "id": "xxwCn3k6NJEo",
        "outputId": "f0c0be7e-33bd-46fa-93a3-d47faa4c4e3b"
      },
      "execution_count": 52,
      "outputs": [
        {
          "output_type": "stream",
          "name": "stdout",
          "text": [
            "25\n"
          ]
        }
      ]
    },
    {
      "cell_type": "code",
      "source": [
        "# 복습 X\n",
        "# 진짜 복습하지마세여\n",
        "# 실험적 코드로 실무에서 못보는 코드입니다. 람다로 구현한 클로저입니다.\n",
        "l = lambda x : lambda x: x ** 2\n",
        "a = l(2)\n",
        "b = l(3)\n",
        "print(a(2))\n",
        "print(a(3))\n",
        "print(b(2))\n",
        "print(b(3))"
      ],
      "metadata": {
        "colab": {
          "base_uri": "https://localhost:8080/"
        },
        "id": "pzM_sZ-MNSCJ",
        "outputId": "cd40d49f-a7dd-4f15-9261-166088108c2b"
      },
      "execution_count": 68,
      "outputs": [
        {
          "output_type": "stream",
          "name": "stdout",
          "text": [
            "4\n",
            "9\n",
            "4\n",
            "9\n"
          ]
        }
      ]
    },
    {
      "cell_type": "code",
      "source": [
        "numbers = [1, 2, 3, 4, 5]\n",
        "print(list(filter(lambda x: x > 3, numbers)))  # 출력: [4, 5]\n",
        "\n",
        "\n",
        "# 재사용 여부에 따라 lambda를 사용할지 def 사용할지 판단하시면 됩니다.\n",
        "def f(x):\n",
        "    return x > 3\n",
        "numbers = [1, 2, 3, 4, 5]\n",
        "print(list(filter(f, numbers)))  # 출력: [4, 5]"
      ],
      "metadata": {
        "colab": {
          "base_uri": "https://localhost:8080/"
        },
        "id": "DwU7XTonPuCw",
        "outputId": "b72ffd8e-1aca-4a9f-93ac-fc9461e392a7"
      },
      "execution_count": 69,
      "outputs": [
        {
          "output_type": "stream",
          "name": "stdout",
          "text": [
            "[4, 5]\n",
            "[4, 5]\n"
          ]
        }
      ]
    },
    {
      "cell_type": "markdown",
      "source": [
        "# args, kwargs\n",
        "\n",
        "- (많이 보게 되실겁니다!)\n",
        "- 아규먼츠, 키워드 아규먼츠\n",
        "- `*` 한개는 튜플, 리스트를 패킹/언패킹할때,\n",
        "- `**` 두개는 딕셔너리를 패킹/언패킹할때\n",
        "- 변수명은 꼭 args, kwargs로 사용하지 않아도 되지만, 관습이니 따라주세요."
      ],
      "metadata": {
        "id": "BBAM_rINRhCH"
      }
    },
    {
      "cell_type": "markdown",
      "source": [
        "활용법을 외워주시는게 빠릅니다!"
      ],
      "metadata": {
        "id": "UyPL4dVvRwLt"
      }
    },
    {
      "cell_type": "markdown",
      "source": [
        "## *args"
      ],
      "metadata": {
        "id": "t8oDDFnUUIn0"
      }
    },
    {
      "cell_type": "code",
      "source": [
        "# 패킹인가요 언패킹인가요?\n",
        "# *가 패킹에 쓰였습니다.\n",
        "def print_args(*args):\n",
        "    print(args) # 출력: (100, True, 'Licat')\n",
        "\n",
        "print_args(100, True, 'Licat')"
      ],
      "metadata": {
        "colab": {
          "base_uri": "https://localhost:8080/"
        },
        "id": "tlX2w6EgShzZ",
        "outputId": "c4b4b2aa-95f4-4c66-c104-e1fee8a3befd"
      },
      "execution_count": 71,
      "outputs": [
        {
          "output_type": "stream",
          "name": "stdout",
          "text": [
            "(100, True, 'Licat')\n"
          ]
        }
      ]
    },
    {
      "cell_type": "code",
      "source": [
        "# 에러납니다!\n",
        "def print_args(args):\n",
        "    print(args) # 출력: (100, True, 'Licat')\n",
        "\n",
        "print_args(100, True, 'Licat')"
      ],
      "metadata": {
        "id": "DqXbjsH2Sktc"
      },
      "execution_count": null,
      "outputs": []
    },
    {
      "cell_type": "code",
      "source": [
        "def print_args(a, b, *args):\n",
        "    print(args) # 출력: ('Licat', 'hello', 10)\n",
        "\n",
        "print_args(100, True, 'Licat', 'hello', 10)"
      ],
      "metadata": {
        "colab": {
          "base_uri": "https://localhost:8080/"
        },
        "id": "ocT2ZkIWTA1-",
        "outputId": "2e00961f-6b99-41a1-f415-ab774d03c053"
      },
      "execution_count": 73,
      "outputs": [
        {
          "output_type": "stream",
          "name": "stdout",
          "text": [
            "('Licat', 'hello', 10)\n"
          ]
        }
      ]
    },
    {
      "cell_type": "markdown",
      "source": [
        "`(*args, a, b)`로 하면 에러남."
      ],
      "metadata": {
        "id": "RdCxIf0WTKcq"
      }
    },
    {
      "cell_type": "code",
      "source": [
        "# 패킹하는 파라미터가 먼저나오면 뒤에있는 일반 파라미터는 사용하시면 안됩니다.\n",
        "def print_args(*args, a, b):\n",
        "    print(args) # 출력: ('Licat', 'hello', 10)\n",
        "\n",
        "print_args(100, True, 'Licat', 'hello', 10)"
      ],
      "metadata": {
        "id": "D-jWoQ0RTDa0"
      },
      "execution_count": null,
      "outputs": []
    },
    {
      "cell_type": "code",
      "source": [
        "# 아래처럼 사용되는 경우가 많으니 아래 것만 기억해주셔도 괜찮습니다.\n",
        "# 패킹\n",
        "def func(*args):\n",
        "    print(args)\n",
        "\n",
        "func(10, 20, 30)\n",
        "# 10, 20, 30 => *args => (10, 20, 30)"
      ],
      "metadata": {
        "colab": {
          "base_uri": "https://localhost:8080/"
        },
        "id": "E4magClPTgqa",
        "outputId": "593514bd-a262-4996-a849-490d78610669"
      },
      "execution_count": 76,
      "outputs": [
        {
          "output_type": "stream",
          "name": "stdout",
          "text": [
            "(10, 20, 30)\n"
          ]
        }
      ]
    },
    {
      "cell_type": "code",
      "source": [
        "# 언패킹\n",
        "# 아래와 같은 코드가 실무에서 자주 보는 코드는 아닙니다!\n",
        "def func(a, b, c):\n",
        "    print(a, b, c)\n",
        "\n",
        "args = (10, 20, 30)\n",
        "func(*args) # *를 안해주면 error!\n",
        "# 10, 20, 30 => *args => (10, 20, 30)"
      ],
      "metadata": {
        "colab": {
          "base_uri": "https://localhost:8080/"
        },
        "id": "HJKEEXAoTl9d",
        "outputId": "d1fef488-f3a3-4a80-e819-306bb47759ff"
      },
      "execution_count": 75,
      "outputs": [
        {
          "output_type": "stream",
          "name": "stdout",
          "text": [
            "10 20 30\n"
          ]
        }
      ]
    },
    {
      "cell_type": "markdown",
      "source": [
        "## **kwargs"
      ],
      "metadata": {
        "id": "Rzq4Zkw7UK9G"
      }
    },
    {
      "cell_type": "code",
      "source": [
        "def print_kwargs(a, **kwargs):\n",
        "    print(a)\n",
        "    print(kwargs)\n",
        "\n",
        "print_kwargs(100, name='Licat', age='10')"
      ],
      "metadata": {
        "colab": {
          "base_uri": "https://localhost:8080/"
        },
        "id": "bFM2YWncUMvU",
        "outputId": "6dbe37dc-24ee-4951-c744-af16452cc9c4"
      },
      "execution_count": 77,
      "outputs": [
        {
          "output_type": "stream",
          "name": "stdout",
          "text": [
            "100\n",
            "{'name': 'Licat', 'age': '10'}\n"
          ]
        }
      ]
    },
    {
      "cell_type": "code",
      "source": [
        "def f(a, b, c, d, e):\n",
        "    print(a, b, c, d, e)\n",
        "\n",
        "f(1, 2, 3, 4, 5)"
      ],
      "metadata": {
        "colab": {
          "base_uri": "https://localhost:8080/"
        },
        "id": "x1IeMr1qUXat",
        "outputId": "682d3bad-9b51-4b8c-dfed-8eb500d7facc"
      },
      "execution_count": 79,
      "outputs": [
        {
          "output_type": "stream",
          "name": "stdout",
          "text": [
            "1 2 3 4 5\n"
          ]
        }
      ]
    },
    {
      "cell_type": "code",
      "source": [
        "def f(a, b, c, d, e):\n",
        "    print(a, b, c, d, e)\n",
        "\n",
        "f(1, 2, e=3, d=4, c=5) # 실무에서 이렇게 사용하는 경우 극히 드뭅니다.\n",
        "# 이렇게 보장해주는 언어가 별로 없어요.\n",
        "# error를 내거나 무조건 순서대로 넣어버림ㅜㅜ 친절한 파이썬"
      ],
      "metadata": {
        "colab": {
          "base_uri": "https://localhost:8080/"
        },
        "id": "Q9nOcmJPUQns",
        "outputId": "4fcbae7b-89bb-4923-d1e3-900f65c0d3a5"
      },
      "execution_count": 81,
      "outputs": [
        {
          "output_type": "stream",
          "name": "stdout",
          "text": [
            "1 2 5 4 3\n"
          ]
        }
      ]
    },
    {
      "cell_type": "code",
      "source": [
        "def f(*args, **kwargs): # 가변적으로 parameter를 받고 싶을 때 이 형태를 많이 사용합니다.\n",
        "    print(args)\n",
        "    print(kwargs)\n",
        "\n",
        "f(1, 2, e=3, d=4, c=5)"
      ],
      "metadata": {
        "colab": {
          "base_uri": "https://localhost:8080/"
        },
        "id": "3IdrccmqUi4C",
        "outputId": "c1c3d635-6146-4c3f-bb65-f53f17104f3a"
      },
      "execution_count": 86,
      "outputs": [
        {
          "output_type": "stream",
          "name": "stdout",
          "text": [
            "(1, 2)\n",
            "{'e': 3, 'd': 4, 'c': 5}\n"
          ]
        }
      ]
    },
    {
      "cell_type": "markdown",
      "source": [
        "---\n",
        "아래의 코드들은 실무에서 많이 못보는 코드.\n",
        "복습 X"
      ],
      "metadata": {
        "id": "VnUlmdZYY4bL"
      }
    },
    {
      "cell_type": "code",
      "source": [
        "# 복습 X. 원리만 알기 위해서 돌려봄.\n",
        "def print_args_kwargs(*args, **kwargs):\n",
        "    print('args:', args)\n",
        "    print('kwargs:', kwargs)\n",
        "\n",
        "inputlist = [100, True, 'leehojun']\n",
        "inputdic = {'score':100, 'name':'leehojun', 'age':'10'}\n",
        "print_args_kwargs(*inputlist)\n",
        "print('--------')\n",
        "print_args_kwargs(**inputdic)\n",
        "print('--------')\n",
        "print_args_kwargs(*inputlist, **inputdic)"
      ],
      "metadata": {
        "colab": {
          "base_uri": "https://localhost:8080/"
        },
        "id": "NxLTrgEKYAJ7",
        "outputId": "251ad387-51f8-4c8c-c758-495ed323de7f"
      },
      "execution_count": 87,
      "outputs": [
        {
          "output_type": "stream",
          "name": "stdout",
          "text": [
            "args: (100, True, 'leehojun')\n",
            "kwargs: {}\n",
            "--------\n",
            "args: ()\n",
            "kwargs: {'score': 100, 'name': 'leehojun', 'age': '10'}\n",
            "--------\n",
            "args: (100, True, 'leehojun')\n",
            "kwargs: {'score': 100, 'name': 'leehojun', 'age': '10'}\n"
          ]
        }
      ]
    },
    {
      "cell_type": "code",
      "source": [
        "# 복습 X\n",
        "# 마찬가지로 사용할 일이 많지 않음.\n",
        "one, two, *three = 1, 2, 3, 4, 5\n",
        "print(one, two, three)"
      ],
      "metadata": {
        "colab": {
          "base_uri": "https://localhost:8080/"
        },
        "id": "n6dK96Z-YaEf",
        "outputId": "84d55cab-d806-43f6-8295-0971da30d178"
      },
      "execution_count": 92,
      "outputs": [
        {
          "output_type": "stream",
          "name": "stdout",
          "text": [
            "1 2 [3, 4, 5]\n"
          ]
        }
      ]
    },
    {
      "cell_type": "code",
      "source": [
        "# 복습 X\n",
        "a, b, c = range(3)\n",
        "a"
      ],
      "metadata": {
        "colab": {
          "base_uri": "https://localhost:8080/"
        },
        "id": "6aA3-wJvYubK",
        "outputId": "1125996a-86d9-46e1-d71a-bb5b77bf25a5"
      },
      "execution_count": 93,
      "outputs": [
        {
          "output_type": "execute_result",
          "data": {
            "text/plain": [
              "0"
            ]
          },
          "metadata": {},
          "execution_count": 93
        }
      ]
    },
    {
      "cell_type": "code",
      "source": [
        "# 복습 X\n",
        "a, b, *c = 'hello world'\n",
        "c"
      ],
      "metadata": {
        "colab": {
          "base_uri": "https://localhost:8080/"
        },
        "id": "TIIons7HYz8X",
        "outputId": "cbe4ca76-3f29-4d04-e9d4-320abc2da789"
      },
      "execution_count": 94,
      "outputs": [
        {
          "output_type": "execute_result",
          "data": {
            "text/plain": [
              "['l', 'l', 'o', ' ', 'w', 'o', 'r', 'l', 'd']"
            ]
          },
          "metadata": {},
          "execution_count": 94
        }
      ]
    },
    {
      "cell_type": "markdown",
      "source": [
        "# 이터레이터와 제너레이터\n",
        "\n",
        "- 이터레이터란, 값을 차례대로 꺼낼 수 있는 객체\n",
        "- 제너레이터는 이터레이터를 만드는 함수로, `yield`키워드를 사용하여 만듭니다.\n",
        "---\n",
        "- 시퀀스형 자료형이란?\n",
        "    - index가 있고 indexing, slicing이 가능한 자료형\n",
        "\n",
        "- dict는 이터레이터인가요? **Yes**\n",
        "```\n",
        "for i in {'one': 1, 'two': 2}:\n",
        "    print(i)\n",
        "list(map(lambda x: x[0], {'one': 1, 'two': 2}))\n",
        "```\n",
        "- dict는 시퀀스형 자료형인가요? **No**"
      ],
      "metadata": {
        "id": "1nIbNNRgY2Yx"
      }
    },
    {
      "cell_type": "code",
      "source": [
        "# 이터레이터란, 값을 차례대로 꺼낼 수 있는 객체\n",
        "# 시퀀스형 자료형이란 index가 있고 indexing, slicing이 가능한 자료형\n",
        "# 제너레이터는 이터레이터를 만드는 함수\n",
        "\n",
        "# dict는 이터레이터인가요? Yes\n",
        "for i in {'one': 1, 'two': 2}:\n",
        "    print(i)\n",
        "\n",
        "list(map(lambda x:x[0], {'one': 1, 'two': 2}))\n",
        "\n",
        "# dict는 시퀀스형 자료형인가요? No\n",
        "# {'one': 1, 'two': 2}[2:] # error"
      ],
      "metadata": {
        "colab": {
          "base_uri": "https://localhost:8080/"
        },
        "id": "BNOar21GZDc6",
        "outputId": "195e1224-f63b-4012-dac5-dbdff390a433"
      },
      "execution_count": 95,
      "outputs": [
        {
          "output_type": "stream",
          "name": "stdout",
          "text": [
            "one\n",
            "two\n"
          ]
        },
        {
          "output_type": "execute_result",
          "data": {
            "text/plain": [
              "['o', 't']"
            ]
          },
          "metadata": {},
          "execution_count": 95
        }
      ]
    },
    {
      "cell_type": "markdown",
      "source": [
        "이터레이터 클래스를 생성할때는 반드시 `__init__`과 `__next__` 매직 메서드를 선언해야 합니다!"
      ],
      "metadata": {
        "id": "qYxc1hfraDtL"
      }
    },
    {
      "cell_type": "code",
      "source": [
        "class MyIterator:\n",
        "    def __init__(self, stop):\n",
        "        self.current_value = 0  # 현재 값\n",
        "        self.stop = stop  # 순회를 멈출 값\n",
        "\n",
        "    def __iter__(self):\n",
        "        return self\n",
        "\n",
        "    def __next__(self):\n",
        "        if self.current_value >= self.stop:\n",
        "            raise StopIteration\n",
        "        result = self.current_value\n",
        "        self.current_value += 1\n",
        "        return result\n",
        "\n",
        "x = iter(MyIterator(5)) # for문의 시작\n",
        "print(next(x))\n",
        "print(next(x))\n",
        "print(next(x))\n",
        "print(next(x))\n",
        "print(next(x))\n",
        "# print(next(x)) # for문이 멈춤"
      ],
      "metadata": {
        "colab": {
          "base_uri": "https://localhost:8080/"
        },
        "id": "sg16neEZaNla",
        "outputId": "ab69df6b-fac0-4958-8159-eec61e37656d"
      },
      "execution_count": 97,
      "outputs": [
        {
          "output_type": "stream",
          "name": "stdout",
          "text": [
            "0\n",
            "1\n",
            "2\n",
            "3\n",
            "4\n"
          ]
        }
      ]
    },
    {
      "cell_type": "markdown",
      "source": [
        "이거 기억해야 된다! 재순회는 `sorted`말고 안된다는것."
      ],
      "metadata": {
        "id": "GkQHHzqQbjT5"
      }
    },
    {
      "cell_type": "code",
      "source": [
        "x = zip('hello', 'world')\n",
        "\n",
        "for i in x:\n",
        "    print(i)\n",
        "\n",
        "for i in x:\n",
        "    print(i)"
      ],
      "metadata": {
        "colab": {
          "base_uri": "https://localhost:8080/"
        },
        "id": "fH6ZBoWQax2H",
        "outputId": "fba4c1c9-a8c7-489b-c7eb-6e2fab6b273e"
      },
      "execution_count": 98,
      "outputs": [
        {
          "output_type": "stream",
          "name": "stdout",
          "text": [
            "('h', 'w')\n",
            "('e', 'o')\n",
            "('l', 'r')\n",
            "('l', 'l')\n",
            "('o', 'd')\n"
          ]
        }
      ]
    },
    {
      "cell_type": "code",
      "source": [
        "# 제너레이터는 이터레이터를 생성해주는 함수로, yield 키워드를 사용하여 만듭니다.\n",
        "def my_generator():\n",
        "    x = 10\n",
        "    yield x\n",
        "    x = 20\n",
        "    yield x\n",
        "    x = 30\n",
        "    yield x\n",
        "    # return # 이거 넣으면 30까지만 나온다.\n",
        "    x = 40\n",
        "    yield x\n",
        "\n",
        "for i in my_generator():\n",
        "    print(i)"
      ],
      "metadata": {
        "colab": {
          "base_uri": "https://localhost:8080/"
        },
        "id": "ef0J66xpboqB",
        "outputId": "57222587-459f-46db-b213-609d81ddab82"
      },
      "execution_count": 99,
      "outputs": [
        {
          "output_type": "stream",
          "name": "stdout",
          "text": [
            "10\n",
            "20\n",
            "30\n",
            "40\n"
          ]
        }
      ]
    },
    {
      "cell_type": "code",
      "source": [
        "def my_generator():\n",
        "    x = 10\n",
        "    yield x\n",
        "    x = 20\n",
        "    yield x\n",
        "    x = 30\n",
        "    yield x\n",
        "    x = 40\n",
        "    yield x\n",
        "\n",
        "list(zip('hello', my_generator()))"
      ],
      "metadata": {
        "colab": {
          "base_uri": "https://localhost:8080/"
        },
        "id": "2yhidUk6cU37",
        "outputId": "d736c1bd-987a-4d67-cd5c-acb915ea5c18"
      },
      "execution_count": 100,
      "outputs": [
        {
          "output_type": "execute_result",
          "data": {
            "text/plain": [
              "[('h', 10), ('e', 20), ('l', 30), ('l', 40)]"
            ]
          },
          "metadata": {},
          "execution_count": 100
        }
      ]
    },
    {
      "cell_type": "code",
      "source": [
        "def my_generator():\n",
        "    x = 0\n",
        "    while True:\n",
        "        yield x\n",
        "        x += 2\n",
        "\n",
        "list(zip('hello', my_generator()))"
      ],
      "metadata": {
        "colab": {
          "base_uri": "https://localhost:8080/"
        },
        "id": "kI6f1XTlcgvO",
        "outputId": "0228239e-5e03-4437-8aa0-466e051233e0"
      },
      "execution_count": 102,
      "outputs": [
        {
          "output_type": "execute_result",
          "data": {
            "text/plain": [
              "[('h', 0), ('e', 2), ('l', 4), ('l', 6), ('o', 8)]"
            ]
          },
          "metadata": {},
          "execution_count": 102
        }
      ]
    },
    {
      "cell_type": "markdown",
      "source": [
        "yield x이므로 처음에 0을 반환해준다, 그리고나서 다음 실행은 yield 다음부터 시작한다. 그동안 while~yield문은 대기 상태인데, 메모리를 잡아먹지 않기 때문에(공회전같은 상태 X) 제너레이터는 많은 곳에서 권장하는 문법이다."
      ],
      "metadata": {
        "id": "EDVdxI33dDYR"
      }
    },
    {
      "cell_type": "code",
      "source": [
        "# 예시2\n",
        "def my_generator():\n",
        "    x = 0\n",
        "    while True:\n",
        "        if x == 0:\n",
        "            yield '짝'\n",
        "            x += 1\n",
        "        else:\n",
        "            yield '홀'\n",
        "            x == 0\n",
        "\n",
        "list(zip([0, 1, 2, 3, 4, 5, 6], my_generator()))"
      ],
      "metadata": {
        "colab": {
          "base_uri": "https://localhost:8080/"
        },
        "id": "CfmcXsQ_dx-1",
        "outputId": "bc411dfd-fcc1-4688-9e1b-c973bd63d073"
      },
      "execution_count": 103,
      "outputs": [
        {
          "output_type": "execute_result",
          "data": {
            "text/plain": [
              "[(0, '짝'), (1, '홀'), (2, '홀'), (3, '홀'), (4, '홀'), (5, '홀'), (6, '홀')]"
            ]
          },
          "metadata": {},
          "execution_count": 103
        }
      ]
    },
    {
      "cell_type": "code",
      "source": [
        "# 예시2 (바다코끼리 문법) # 어려우면 위에꺼 사용하셔도 무방합니다!\n",
        "def my_generator():\n",
        "    l = ['짝', '홀']\n",
        "    while True:\n",
        "        yield l[t := False] # := 이 문법은 시중에 어떤 책도 언급하지 않습니다. 왈러스 연산자(3.8버전)\n",
        "        yield l[t := True]\n",
        "\n",
        "list(zip([0, 1, 2, 3, 4, 5, 6], my_generator()))"
      ],
      "metadata": {
        "colab": {
          "base_uri": "https://localhost:8080/"
        },
        "id": "KsrE2JqoeHgg",
        "outputId": "c181811a-b053-4df0-95e6-56f9b89e881c"
      },
      "execution_count": 105,
      "outputs": [
        {
          "output_type": "execute_result",
          "data": {
            "text/plain": [
              "[(0, '짝'), (1, '홀'), (2, '짝'), (3, '홀'), (4, '짝'), (5, '홀'), (6, '짝')]"
            ]
          },
          "metadata": {},
          "execution_count": 105
        }
      ]
    },
    {
      "cell_type": "code",
      "source": [
        "x = 10\n",
        "while x := x-1:\n",
        "    print(x)\n",
        "# x가 0이 할당됐을때 멈춘다!\n",
        "# 왈러스 연산자는 아직 자리잡지 못했음. 많이 사용되지 않는다."
      ],
      "metadata": {
        "colab": {
          "base_uri": "https://localhost:8080/"
        },
        "id": "KwGLW3F8ed5G",
        "outputId": "4df368c6-9405-4f29-cd4a-ca07cced15ea"
      },
      "execution_count": 107,
      "outputs": [
        {
          "output_type": "stream",
          "name": "stdout",
          "text": [
            "9\n",
            "8\n",
            "7\n",
            "6\n",
            "5\n",
            "4\n",
            "3\n",
            "2\n",
            "1\n"
          ]
        }
      ]
    },
    {
      "cell_type": "code",
      "source": [
        "l = [10, 20, 30]\n",
        "while l:\n",
        "    print(l.pop())\n",
        "# 리스트가 비어있을때 멈춤. 이건 많이 사용한다."
      ],
      "metadata": {
        "colab": {
          "base_uri": "https://localhost:8080/"
        },
        "id": "a_iH5MoYfB7d",
        "outputId": "2eec8ab4-a7c8-45b1-bae3-dc1d6c68deff"
      },
      "execution_count": 109,
      "outputs": [
        {
          "output_type": "stream",
          "name": "stdout",
          "text": [
            "30\n",
            "20\n",
            "10\n"
          ]
        }
      ]
    },
    {
      "cell_type": "markdown",
      "source": [
        "# nonlocal\n",
        "\n",
        "- nonlocal은 파이썬의 키워드 중 하나로, 중첩 함수 내부에서 바깥 함수의 변수를 참조할 수 있게 합니다.\n",
        "- nonlocal은 주로 클로저에서 변수의 값을 변경하고자 할 때 사용합니다.\n",
        "- 거의 보실 일 없습니다.(그냥 참고 삼아서만 알아두세요.)"
      ],
      "metadata": {
        "id": "jU57svvwfPDb"
      }
    },
    {
      "cell_type": "code",
      "source": [
        "# 아 이 예제 tutor에서 돌려봐야겠다... 헷갈린다."
      ],
      "metadata": {
        "id": "l8NXs371gwQc"
      },
      "execution_count": 113,
      "outputs": []
    },
    {
      "cell_type": "code",
      "source": [
        "# nonlocal은 파이썬의 키워드 중 하나로, 중첩 함수 내부에서 바깥 함수의 변수를 참조할 수 있게 합니다.\n",
        "# nonlocal은 주로 클로저(closure)에서 변수의 값을 변경하고자 할 때 사용합니다.\n",
        "\n",
        "# nonlocal\n",
        "a = 10\n",
        "def f():\n",
        "    a = 100\n",
        "    print(f'f a: {a}')\n",
        "    def ff():\n",
        "        a = 1000\n",
        "        print(f'ff a: {a}')\n",
        "        def fff():\n",
        "            nonlocal a # global a로 변경해보세요.\n",
        "            a = 100\n",
        "            print(f'fff a: {a}')\n",
        "        fff()\n",
        "        print(f'ff a: {a}')\n",
        "    ff()\n",
        "f()\n",
        "print(f'global a: {a}')"
      ],
      "metadata": {
        "colab": {
          "base_uri": "https://localhost:8080/"
        },
        "id": "vDw__e5tfZa-",
        "outputId": "483e9f1f-9f37-4504-d78b-8a12a2afa9b3"
      },
      "execution_count": 115,
      "outputs": [
        {
          "output_type": "stream",
          "name": "stdout",
          "text": [
            "f a: 100\n",
            "ff a: 1000\n",
            "fff a: 100\n",
            "ff a: 100\n",
            "global a: 10\n"
          ]
        }
      ]
    },
    {
      "cell_type": "markdown",
      "source": [
        "# 모듈 (별표 4개)"
      ],
      "metadata": {
        "id": "_Ysxz_18fwh6"
      }
    },
    {
      "cell_type": "code",
      "source": [
        "# 모듈이란 클래스나 함수, 변수를 다른 파일(.py)에 작성하여\n",
        "# 다른 파이썬 코드에서 재사용할 수 있도록 한 것입니다.\n",
        "# 1번 스탭 : info.py를 생성\n",
        "# name = 'leehojun'\n",
        "# age = 10\n",
        "\n",
        "# def hello():\n",
        "#     print('안녕하세요 저는 이호준입니다.')"
      ],
      "metadata": {
        "id": "FWfsEB1biTsP"
      },
      "execution_count": 121,
      "outputs": []
    },
    {
      "cell_type": "code",
      "source": [
        "import info # info.py를 가져오겠다!\n",
        "\n",
        "print(info.name)\n",
        "print(info.age)\n",
        "info.hello()"
      ],
      "metadata": {
        "colab": {
          "base_uri": "https://localhost:8080/"
        },
        "id": "jhnnlHrMhGn2",
        "outputId": "916bf84a-e83d-4a7b-c597-578dd19305af"
      },
      "execution_count": 119,
      "outputs": [
        {
          "output_type": "stream",
          "name": "stdout",
          "text": [
            "leehojun\n",
            "10\n",
            "안녕하세요 저는 이호준입니다.\n"
          ]
        }
      ]
    },
    {
      "cell_type": "code",
      "source": [
        "import info as q# info라는 이름 대신 q\n",
        "\n",
        "print(q.name)\n",
        "print(q.age)\n",
        "q.hello()"
      ],
      "metadata": {
        "colab": {
          "base_uri": "https://localhost:8080/"
        },
        "id": "mT-lUv1fh-eB",
        "outputId": "7d7d3b7e-3807-4bc0-d4c2-3a20b2949771"
      },
      "execution_count": 120,
      "outputs": [
        {
          "output_type": "stream",
          "name": "stdout",
          "text": [
            "leehojun\n",
            "10\n",
            "안녕하세요 저는 이호준입니다.\n"
          ]
        }
      ]
    },
    {
      "cell_type": "code",
      "source": [
        "# 정말 많이 사용하는 코드\n",
        "# 관습처럼 사용합니다.\n",
        "import pandas as pd\n",
        "import numpy as np"
      ],
      "metadata": {
        "id": "_2xim1gaiRKm"
      },
      "execution_count": 122,
      "outputs": []
    },
    {
      "cell_type": "code",
      "source": [
        "# a > b > c > infotest.py 파일이 있을 경우\n",
        "# name = 'hojun'만 infotest.py에 있습니다.\n",
        "\n",
        "import a.b.c.infotest as q\n",
        "\n",
        "q.name"
      ],
      "metadata": {
        "colab": {
          "base_uri": "https://localhost:8080/",
          "height": 36
        },
        "id": "2CJM0ckPz0TE",
        "outputId": "7676bc82-f5e5-4536-e983-cbf5bd12d91e"
      },
      "execution_count": 123,
      "outputs": [
        {
          "output_type": "execute_result",
          "data": {
            "text/plain": [
              "'hojun'"
            ],
            "application/vnd.google.colaboratory.intrinsic+json": {
              "type": "string"
            }
          },
          "metadata": {},
          "execution_count": 123
        }
      ]
    },
    {
      "cell_type": "markdown",
      "source": [
        "질문: 모듈 = 라이브러리 인가요?\n",
        "> 그렇게 보셔도 됩니다. 다만 `모듈, 라이브러리 != 프레임워크` 임을 주의하셔야 합니다."
      ],
      "metadata": {
        "id": "d_jaTTO90Gj_"
      }
    },
    {
      "cell_type": "code",
      "source": [
        "import sys\n",
        "\n",
        "sys.path # 모듈을 읽어오는 경로\n",
        "sys.modules # 기본적으로 읽어온 모듈들"
      ],
      "metadata": {
        "id": "iC94InKB09YO"
      },
      "execution_count": null,
      "outputs": []
    },
    {
      "cell_type": "code",
      "source": [
        "from info import name, age, hello\n",
        "\n",
        "print(name)"
      ],
      "metadata": {
        "colab": {
          "base_uri": "https://localhost:8080/"
        },
        "id": "gR-5e1mq2Dcy",
        "outputId": "5c9369fc-c6e0-479f-80d8-8f7f4d16e405"
      },
      "execution_count": 125,
      "outputs": [
        {
          "output_type": "stream",
          "name": "stdout",
          "text": [
            "leehojun\n"
          ]
        }
      ]
    },
    {
      "cell_type": "code",
      "source": [
        "# 2개의 방식이 있는데 어떤 방식이 좋을까요? => 상황에 맞게 쓰시면 됩니다.\n",
        "# 어떤게 더 좋다는 표현은 옳지 않습니다. 정답은 없습니다.\n",
        "\n",
        "# 1번\n",
        "from info import name, age, hello\n",
        "\n",
        "print(name)"
      ],
      "metadata": {
        "id": "uoXCR4sz2_VD"
      },
      "execution_count": null,
      "outputs": []
    },
    {
      "cell_type": "code",
      "source": [
        "# 2번\n",
        "# 여러 모듈을 포함해야 하는 실무에서는 2번이 선호됩니다.\n",
        "import info\n",
        "\n",
        "info.name\n",
        "info.age\n",
        "info.hello()"
      ],
      "metadata": {
        "id": "Z-jc_rKC2K2T"
      },
      "execution_count": null,
      "outputs": []
    },
    {
      "cell_type": "code",
      "source": [
        "# 문제가 있는 코드\n",
        "# 뒤에 로드 된 것이 덮어 씁니다.\n",
        "# 이런 경우는 아주 극히 드물지만 일어나는 일입니다.\n",
        "\n",
        "from info import name, age, hello\n",
        "from infotwo import name, age, hello\n",
        "\n",
        "print(name)\n",
        "hello()"
      ],
      "metadata": {
        "colab": {
          "base_uri": "https://localhost:8080/"
        },
        "id": "QOj9jDwV2kIm",
        "outputId": "d0233e36-32a2-46c2-aef4-357565ecf10d"
      },
      "execution_count": 130,
      "outputs": [
        {
          "output_type": "stream",
          "name": "stdout",
          "text": [
            "gildong\n",
            "안녕하세요 저는 고길동입니다.\n"
          ]
        }
      ]
    },
    {
      "cell_type": "code",
      "source": [
        "# 카카오/구글 login이나 엑셀 로드, 문자를 보내거나\n",
        "# 모듈로 나와 있습니다. 여러분들이 직접 코드를 짜기 전 라이브러리가 있는지 확인해주세요.\n",
        "# 라이브러리, 프레임워크, 서드파티가 정말 잘 되어 있습니다.\n",
        "\n",
        "# 라이브러리: 여러분들 코드에 라이브러리가 섞여 들어가는 코드, 예를 들어 크롤링에 request, bs4\n",
        "# 프레임워크: 설계 도면이 정해져 있어서 이 설계 도면대로 코딩을 해야 하는 경우. 레고 설계 도면처럼 완성품의 설계도면이 존재합니다.\n",
        "# 서드파티: 프레임워크에 붙는 코드. 예를 들어 Django 서드파티라고 하면 Django 로그인, DRF, Django-cors..."
      ],
      "metadata": {
        "id": "KSYP-E7M23P7"
      },
      "execution_count": 132,
      "outputs": []
    },
    {
      "cell_type": "markdown",
      "source": [
        "`.`은 현재폴더를 가리킵니다."
      ],
      "metadata": {
        "id": "WohIVZ-f49QA"
      }
    },
    {
      "cell_type": "code",
      "source": [
        "# from .info import name # 현재폴더(기본폴더)의 info를 가리키는것\n",
        "\n",
        "# name"
      ],
      "metadata": {
        "id": "e8r_bVVR4jSb"
      },
      "execution_count": 133,
      "outputs": []
    },
    {
      "cell_type": "markdown",
      "source": [
        "## 자주 사용되는 모듈"
      ],
      "metadata": {
        "id": "T84ZzsQ14_sh"
      }
    },
    {
      "cell_type": "code",
      "source": [
        "import os\n",
        "\n",
        "# Django 3.x에서 os모듈이 빠졌습니다.\n",
        "# os모듈 대신 Path(from pathlib import Path)라는 모듈이 들어왔습니다.\n",
        "# 이유 => os모듈은 너무 강력합니다.\n",
        "# os모듈의 경로지정 방식이 리눅스에 친숙한 방식임. 윈도우에서 에러날때가 있음.\n",
        "\n",
        "os.mkdir('licat') # licat이란 폴더 생성, 삭제는 os.rmdir()\n",
        "os.getcwd() # 현재 경로 반환\n",
        "os.open('a.txt', os.O_CREAT | os.O_WRONLY) # 파일 생성(os.O_CREAT: 필요한 경우 파일을 생성, os.O_WRONLY: 파일을 쓰기 전용 모드로 연다.)\n",
        "os.rename('a.txt', 'b.txt') # a.txt파일을 b.txt파일로 변경\n",
        "os.remove('b.txt')"
      ],
      "metadata": {
        "id": "aZk7z1b_5PVf"
      },
      "execution_count": null,
      "outputs": []
    },
    {
      "cell_type": "code",
      "source": [
        "import math\n",
        "\n",
        "math.pi"
      ],
      "metadata": {
        "colab": {
          "base_uri": "https://localhost:8080/"
        },
        "id": "sB-2u1QB6eWa",
        "outputId": "1f18ee58-f34f-4762-87d5-4adb8d130e46"
      },
      "execution_count": 134,
      "outputs": [
        {
          "output_type": "execute_result",
          "data": {
            "text/plain": [
              "3.141592653589793"
            ]
          },
          "metadata": {},
          "execution_count": 134
        }
      ]
    },
    {
      "cell_type": "code",
      "source": [
        "# datetime은 해봤으니까 실행하지 않고 넘어갑니다~!\n",
        "import datetime\n",
        "\n",
        "s = datetime.datetime(2023, 9, 19, 14, 10)\n",
        "print(s)\n",
        "print(s.year, s.month, s.day, s.hour, s.minute)\n",
        "\n",
        "s = datetime.datetime(2023, 9, 18, 14, 10)\n",
        "print(s.weekday()) # 월요일0, 화요일1, 수요일2 ... 일요일6\n",
        "\n",
        "today = datetime.date.today()\n",
        "days = datetime.timedelta(days=100)\n",
        "today + days # 100일 후 시간\n",
        "\n",
        "graduation_date = datetime.date(2023, 12, 29)\n",
        "today = datetime.date.today()\n",
        "\n",
        "print(graduation_date - today) # 졸업까지 남은 일자"
      ],
      "metadata": {
        "id": "anz5Zb1V6g5o"
      },
      "execution_count": null,
      "outputs": []
    },
    {
      "cell_type": "code",
      "source": [
        "# json 정말 많이 쓰임. 중요함.\n",
        "import json\n",
        "\n",
        "d = {\n",
        "    'one': 1,\n",
        "    'two': 2,\n",
        "    'three': 3\n",
        "}\n",
        "\n",
        "s = json.dumps(d)\n",
        "print(type(s)) # str\n",
        "d = json.loads(s)\n",
        "print(type(d)) # dict"
      ],
      "metadata": {
        "id": "nTkXj5Yp6oUp"
      },
      "execution_count": null,
      "outputs": []
    },
    {
      "cell_type": "code",
      "source": [
        "# json 사용 예시\n",
        "[{...}]\n",
        "# point1: 앞에다 변수명을 쓰진 않습니다.\n",
        "# point2: json은 쌍 따옴표여야 합니다! \"\"\n",
        "# point3: dict key와 콜론은 붙여쓰고 콜론과 value는 한 칸 띄어씁니다.\n",
        "    # \"확진자수\": 5607\n",
        "# point4: 주의! True는 안됩니다. true여야 합니다."
      ],
      "metadata": {
        "id": "IbXx4eX26zQW"
      },
      "execution_count": null,
      "outputs": []
    },
    {
      "cell_type": "code",
      "source": [
        "# (point4)주의! True는 안됩니다. true여야 합니다.\n",
        "[{\n",
        "    \"지역이름\": \"서울\", # point2 json은 쌍 따옴표여야 합니다!\n",
        "    \"확진자수\": 5607, # point3 dict key와 콜론은 붙여쓰고 콜론과 value는 한 칸 띄어씁니다.\n",
        "    \"격리해제수\": 5050,\n",
        "    \"사망자수\": 66,\n",
        "    \"십만명당발생율\": 57.61,\n",
        "    \"지역별확진자비율\": 22.53\n",
        "}]"
      ],
      "metadata": {
        "id": "ZWnZb6Zs8c7K"
      },
      "execution_count": null,
      "outputs": []
    },
    {
      "cell_type": "code",
      "source": [
        "data = [\n",
        "  {\n",
        "    \"_id\": \"044829e8-9d9c-43be-C881-afc426ec9134\",\n",
        "    \"index\": \"1\",\n",
        "    \"name\": \"용기준\",\n",
        "    \"email\": \"user-7jxpy5y@Sit.com\",\n",
        "    \"phone\": \"010-4407-4333\",\n",
        "    \"country\": \"네덜란드\",\n",
        "    \"address\": \"양재로 76-6\",\n",
        "    \"job\": \"검사\"\n",
        "  },\n",
        "  {\n",
        "    \"_id\": \"f01326f2-d4d0-4700-C0e3-f84ece54b6cb\",\n",
        "    \"index\": \"2\",\n",
        "    \"name\": \"인규리\",\n",
        "    \"email\": \"user-l8rhtqf@egestas.net\",\n",
        "    \"phone\": \"010-4126-2990\",\n",
        "    \"country\": \"중국\",\n",
        "    \"address\": \"성동로 22-7\",\n",
        "    \"job\": \"간호사\"\n",
        "  },\n",
        "  {\n",
        "    \"_id\": \"b931ea6e-b4cd-4b52-C3e6-22e9779cff1e\",\n",
        "    \"index\": \"3\",\n",
        "    \"name\": \"단인성\",\n",
        "    \"email\": \"user-no8losf@auctor.org\",\n",
        "    \"phone\": \"010-2785-3415\",\n",
        "    \"country\": \"콜롬비아\",\n",
        "    \"address\": \"서소문로 50-7\",\n",
        "    \"job\": \"작가\"\n",
        "  },\n",
        "  {\n",
        "    \"_id\": \"4fa8b9e8-8679-43dc-Affe-0757d1436d72\",\n",
        "    \"index\": \"4\",\n",
        "    \"name\": \"기민율\",\n",
        "    \"email\": \"user-gu3mdf0@scelerisque.com\",\n",
        "    \"phone\": \"010-5350-2880\",\n",
        "    \"country\": \"라이베리아\",\n",
        "    \"address\": \"사직로 13-1\",\n",
        "    \"job\": \"에너지공학기술자\"\n",
        "  },\n",
        "  {\n",
        "    \"_id\": \"f774242b-2eec-4c89-C65a-b625d2e72de2\",\n",
        "    \"index\": \"5\",\n",
        "    \"name\": \"음애린\",\n",
        "    \"email\": \"user-edxbg9z@maximus.co.kr\",\n",
        "    \"phone\": \"010-8408-4024\",\n",
        "    \"country\": \"코모로\",\n",
        "    \"address\": \"뚝섬로 59-6\",\n",
        "    \"job\": \"약사 및 한약사\"\n",
        "  }\n",
        "]\n",
        "\n",
        "data[0]"
      ],
      "metadata": {
        "colab": {
          "base_uri": "https://localhost:8080/"
        },
        "id": "2TStyIfW8nPt",
        "outputId": "e947e89c-77e5-43af-8324-a8ea682bc36d"
      },
      "execution_count": 137,
      "outputs": [
        {
          "output_type": "execute_result",
          "data": {
            "text/plain": [
              "{'_id': '044829e8-9d9c-43be-C881-afc426ec9134',\n",
              " 'index': '1',\n",
              " 'name': '용기준',\n",
              " 'email': 'user-7jxpy5y@Sit.com',\n",
              " 'phone': '010-4407-4333',\n",
              " 'country': '네덜란드',\n",
              " 'address': '양재로 76-6',\n",
              " 'job': '검사'}"
            ]
          },
          "metadata": {},
          "execution_count": 137
        }
      ]
    },
    {
      "cell_type": "code",
      "source": [
        "import json\n",
        "\n",
        "json.dumps(data)\n",
        "# 유니코드로 인코딩 됨. 나중에 복호화 가능."
      ],
      "metadata": {
        "colab": {
          "base_uri": "https://localhost:8080/",
          "height": 175
        },
        "id": "B4mJ-Dnb87tA",
        "outputId": "505416dd-e0e8-45ae-b486-184bc45ac41c"
      },
      "execution_count": 139,
      "outputs": [
        {
          "output_type": "execute_result",
          "data": {
            "text/plain": [
              "'[{\"_id\": \"044829e8-9d9c-43be-C881-afc426ec9134\", \"index\": \"1\", \"name\": \"\\\\uc6a9\\\\uae30\\\\uc900\", \"email\": \"user-7jxpy5y@Sit.com\", \"phone\": \"010-4407-4333\", \"country\": \"\\\\ub124\\\\ub35c\\\\ub780\\\\ub4dc\", \"address\": \"\\\\uc591\\\\uc7ac\\\\ub85c 76-6\", \"job\": \"\\\\uac80\\\\uc0ac\"}, {\"_id\": \"f01326f2-d4d0-4700-C0e3-f84ece54b6cb\", \"index\": \"2\", \"name\": \"\\\\uc778\\\\uaddc\\\\ub9ac\", \"email\": \"user-l8rhtqf@egestas.net\", \"phone\": \"010-4126-2990\", \"country\": \"\\\\uc911\\\\uad6d\", \"address\": \"\\\\uc131\\\\ub3d9\\\\ub85c 22-7\", \"job\": \"\\\\uac04\\\\ud638\\\\uc0ac\"}, {\"_id\": \"b931ea6e-b4cd-4b52-C3e6-22e9779cff1e\", \"index\": \"3\", \"name\": \"\\\\ub2e8\\\\uc778\\\\uc131\", \"email\": \"user-no8losf@auctor.org\", \"phone\": \"010-2785-3415\", \"country\": \"\\\\ucf5c\\\\ub86c\\\\ube44\\\\uc544\", \"address\": \"\\\\uc11c\\\\uc18c\\\\ubb38\\\\ub85c 50-7\", \"job\": \"\\\\uc791\\\\uac00\"}, {\"_id\": \"4fa8b9e8-8679-43dc-Affe-0757d1436d72\", \"index\": \"4\", \"name\": \"\\\\uae30\\\\ubbfc\\\\uc728\", \"email\": \"user-gu3mdf0@scelerisque.com\", \"phone\": \"010-5350-2880\", \"country\": \"\\\\ub77c\\\\uc774\\\\ubca0\\\\ub9ac\\\\uc544\", \"address\": \"\\\\uc0ac\\\\uc9c1\\\\ub85c 13-1\", \"job\": \"\\\\uc5d0\\\\ub108\\\\uc9c0\\\\uacf5\\\\ud559\\\\uae30\\\\uc220\\\\uc790\"}, {\"_id\": \"f774242b-2eec-4c89-C65a-b625d2e72de2\", \"index\": \"5\", \"name\": \"\\\\uc74c\\\\uc560\\\\ub9b0\", \"email\": \"user-edxbg9z@maximus.co.kr\", \"phone\": \"010-8408-4024\", \"country\": \"\\\\ucf54\\\\ubaa8\\\\ub85c\", \"address\": \"\\\\ub69d\\\\uc12c\\\\ub85c 59-6\", \"job\": \"\\\\uc57d\\\\uc0ac \\\\ubc0f \\\\ud55c\\\\uc57d\\\\uc0ac\"}]'"
            ],
            "application/vnd.google.colaboratory.intrinsic+json": {
              "type": "string"
            }
          },
          "metadata": {},
          "execution_count": 139
        }
      ]
    },
    {
      "cell_type": "code",
      "source": [
        "# 참고로 기억 안해도 된다. 어차피 수업 할 예정이다.\n",
        "s = json.dumps(data)\n",
        "d = json.loads(s)\n",
        "print(d)\n",
        "\n",
        "# Python 자료형 => String 자료형 (직렬화) # s\n",
        "# String 자료형 => Python 자료형 (역직렬화) # d"
      ],
      "metadata": {
        "colab": {
          "base_uri": "https://localhost:8080/"
        },
        "id": "ac_BOqpJ9OxL",
        "outputId": "6070f7f2-5fe5-4792-84b0-6bde9aecf848"
      },
      "execution_count": 140,
      "outputs": [
        {
          "output_type": "stream",
          "name": "stdout",
          "text": [
            "[{'_id': '044829e8-9d9c-43be-C881-afc426ec9134', 'index': '1', 'name': '용기준', 'email': 'user-7jxpy5y@Sit.com', 'phone': '010-4407-4333', 'country': '네덜란드', 'address': '양재로 76-6', 'job': '검사'}, {'_id': 'f01326f2-d4d0-4700-C0e3-f84ece54b6cb', 'index': '2', 'name': '인규리', 'email': 'user-l8rhtqf@egestas.net', 'phone': '010-4126-2990', 'country': '중국', 'address': '성동로 22-7', 'job': '간호사'}, {'_id': 'b931ea6e-b4cd-4b52-C3e6-22e9779cff1e', 'index': '3', 'name': '단인성', 'email': 'user-no8losf@auctor.org', 'phone': '010-2785-3415', 'country': '콜롬비아', 'address': '서소문로 50-7', 'job': '작가'}, {'_id': '4fa8b9e8-8679-43dc-Affe-0757d1436d72', 'index': '4', 'name': '기민율', 'email': 'user-gu3mdf0@scelerisque.com', 'phone': '010-5350-2880', 'country': '라이베리아', 'address': '사직로 13-1', 'job': '에너지공학기술자'}, {'_id': 'f774242b-2eec-4c89-C65a-b625d2e72de2', 'index': '5', 'name': '음애린', 'email': 'user-edxbg9z@maximus.co.kr', 'phone': '010-8408-4024', 'country': '코모로', 'address': '뚝섬로 59-6', 'job': '약사 및 한약사'}]\n"
          ]
        }
      ]
    },
    {
      "cell_type": "code",
      "source": [
        "import collections\n",
        "# 이것도 정말 많이 사용한다. # 유튜브 제주코딩베이스캠프에 요약영상 있음!\n",
        "# 알고리즘 문제에서 많이 사용.\n",
        "# deque문제: 페이지 교체 알고리즘, 회전초밥 문제\n",
        "\n",
        "d = collections.deque([1, 2, 3, 4])\n",
        "d.rotate(1) # 1번 오른쪽으로 쉬프트 합니다. 숫자를 2로 바꾸어 비교해보세요.\n",
        "d # 출력: deque([4, 1, 2, 3])\n",
        "\n",
        "c = collections.Counter('hello world')\n",
        "c # 출력: Counter({'h': 1, 'e': 1, 'l': 3, 'o': 2, ' ': 1, 'w': 1, 'r': 1, 'd': 1})\n",
        "c.most_common()\n",
        "# 출력:\n",
        "'''\n",
        "[('l', 3),\n",
        " ('o', 2),\n",
        " ('h', 1),\n",
        " ('e', 1),\n",
        " (' ', 1),\n",
        " ('w', 1),\n",
        " ('r', 1),\n",
        " ('d', 1)]\n",
        "'''"
      ],
      "metadata": {
        "id": "bYb-knFF9oLu"
      },
      "execution_count": null,
      "outputs": []
    },
    {
      "cell_type": "markdown",
      "source": [
        "collections는 하루 이틀 정도는 사용해봐야 한다."
      ],
      "metadata": {
        "id": "AX8qNCesByme"
      }
    },
    {
      "cell_type": "code",
      "source": [
        "import requests\n",
        "from bs4 import BeautifulSoup\n",
        "# 정말 다양한 분야에서 사용이 됩니다. 테스토 용도로도 사용하고, 패킷 조작 등\n",
        "# 통신에 관련된 것에 폭넓게 사용됩니다.\n",
        "\n",
        "paullab_url = 'https://paullab.co.kr/bookservice/'\n",
        "response = requests.get(paullab_url)\n",
        "response.encoding = 'utf-8'\n",
        "html = response.text\n",
        "\n",
        "soup = BeautifulSoup(html, 'html.parser')\n",
        "\n",
        "bookservices = soup.select('.col-lg-6 > h2') # col-lg-6 클래스 안의 h2 태그 탐색\n",
        "for no, book in enumerate(bookservices, 1):\n",
        "    print(no, book.text)"
      ],
      "metadata": {
        "id": "PLmPws_kCjIM"
      },
      "execution_count": null,
      "outputs": []
    },
    {
      "cell_type": "markdown",
      "source": [
        "# 분위기 환기 (크롤링)"
      ],
      "metadata": {
        "id": "dkm3uD1DC8T9"
      }
    },
    {
      "cell_type": "code",
      "source": [
        "import requests\n",
        "from bs4 import BeautifulSoup\n",
        "\n",
        "paullab_url = 'https://paullab.co.kr/bookservice/'\n",
        "response = requests.get(paullab_url)\n",
        "response.encoding = 'utf-8'\n",
        "html = response.text\n",
        "\n",
        "soup = BeautifulSoup(html, 'html.parser')\n",
        "\n",
        "bookservices = soup.select('.col-lg-6 > h2') # col-lg-6 클래스 안의 h2 태그 탐색\n",
        "for no, book in enumerate(bookservices, 1):\n",
        "    print(no, book.text)"
      ],
      "metadata": {
        "colab": {
          "base_uri": "https://localhost:8080/"
        },
        "id": "b-4WyF_HC94X",
        "outputId": "d5f89f1d-d89a-47b6-9d67-74a12c080334"
      },
      "execution_count": 147,
      "outputs": [
        {
          "output_type": "stream",
          "name": "stdout",
          "text": [
            "1 메모혁신 Notion(노션) 활용 가이드\n",
            "2 이력서 작성 가이드\n",
            "3 제주코딩베이스캠프 Code Festival: Python 100제 1부\n",
            "4 튜토리얼로 배우는 HTML&CSS\n",
            "5 코딩도장 튜토리얼로 배우는 Python 1편 object\n",
            "6 코딩도장 튜토리얼로 배우는 python 2편 제어문\n",
            "7 코딩도장 튜토리얼로 배우는 Python 문제풀이\n",
            "8 타노스의 건틀릿 알고리즘 With Python\n",
            "9 xlsxwriter 튜토리얼로 배우는 Python 엑셀 프로그래밍\n",
            "10 러플 튜토리얼로 배우는 Python\n",
            "11 인공지능을 활용한 업무자동화 With Google Developers Group JEJU\n"
          ]
        }
      ]
    },
    {
      "cell_type": "code",
      "source": [
        "# 이 데이터를 DB에도 넣을 수 있고(import sqlite3)\n",
        "# 파일로도 생성할 수 있는데, 여러 형식의 파일로 생성해보며 여러분들과 얘기 나눠보도록 하겠습니다.\n",
        "import requests\n",
        "from bs4 import BeautifulSoup\n",
        "\n",
        "paullab_url = 'https://paullab.co.kr/bookservice/'\n",
        "response = requests.get(paullab_url)\n",
        "response.encoding = 'utf-8'\n",
        "html = response.text\n",
        "\n",
        "soup = BeautifulSoup(html, 'html.parser')"
      ],
      "metadata": {
        "id": "BzPYuDc0DAwH"
      },
      "execution_count": 148,
      "outputs": []
    },
    {
      "cell_type": "code",
      "source": [
        "s = ''\n",
        "bookservices = soup.select('.col-lg-6 > h2') # col-lg-6 클래스 안의 h2 태그 탐색\n",
        "for no, book in enumerate(bookservices, 1):\n",
        "    s += f'<h2>{no}. {book.text}</h2>'\n",
        "\n",
        "with open('test.html', 'w') as f:\n",
        "    f.write(s)"
      ],
      "metadata": {
        "id": "6AtcGajTFUWt"
      },
      "execution_count": 149,
      "outputs": []
    },
    {
      "cell_type": "code",
      "source": [
        "# html로 뽑기\n",
        "s = ''\n",
        "bookservices = soup.select('.col-lg-6 > h2') # col-lg-6 클래스 안의 h2 태그 탐색\n",
        "bookcover = soup.select('.book_cover')\n",
        "\n",
        "for no, book in enumerate(zip(bookservices, bookcover), 1):\n",
        "    s += f'<h2>{no}. {book[0].text}</h2><img width=\"100px\" src=\"https://paullab.co.kr/bookservice/{book[1][\"src\"]}\"/>'\n",
        "\n",
        "with open('test1.html', 'w') as f:\n",
        "    f.write(s)"
      ],
      "metadata": {
        "id": "642TmWgzFYzf"
      },
      "execution_count": 150,
      "outputs": []
    },
    {
      "cell_type": "code",
      "source": [
        "# csv로 뽑기\n",
        "s = ''\n",
        "bookservices = soup.select('.col-lg-6 > h2') # col-lg-6 클래스 안의 h2 태그 탐색\n",
        "bookcover = soup.select('.book_cover')\n",
        "\n",
        "for no, book in enumerate(zip(bookservices, bookcover), 1):\n",
        "    s += f'{no}, {book[0].text}, \"https://paullab.co.kr/bookservice/{book[1][\"src\"]}\"\\n'\n",
        "\n",
        "with open('test1.csv', 'w') as f:\n",
        "    f.write(s)"
      ],
      "metadata": {
        "id": "oN3SdpwkFsc8"
      },
      "execution_count": 152,
      "outputs": []
    },
    {
      "cell_type": "code",
      "source": [
        "# json로 뽑기\n",
        "# 따옴표가 붙지 않았는데 \\` 또는 \\\"로 각각 표기해주어야 합니다.\n",
        "s = '['\n",
        "bookservices = soup.select('.col-lg-6 > h2') # col-lg-6 클래스 안의 h2 태그 탐색\n",
        "bookcover = soup.select('.book_cover')\n",
        "\n",
        "for no, book in enumerate(zip(bookservices, bookcover), 1):\n",
        "    s += f'{{number: {no}, bookname: {book[0].text}}},'\n",
        "# 중괄호가 두개 있어야 중괄호를 표현할 수 있다.\n",
        "s = s[:-1] + ']'\n",
        "s\n",
        "\n",
        "with open('test1.json', 'w') as f:\n",
        "    f.write(s)"
      ],
      "metadata": {
        "id": "R0nBxRNkF_1m"
      },
      "execution_count": null,
      "outputs": []
    },
    {
      "cell_type": "markdown",
      "source": [
        "# 예외처리와 오류관리"
      ],
      "metadata": {
        "id": "kPqdJz5dHrNR"
      }
    },
    {
      "cell_type": "markdown",
      "source": [
        "- 에러가 나면 오답노트처럼 정리를 해두자.\n",
        "- 성장에 도움이 된다!"
      ],
      "metadata": {
        "id": "jTeHWXoCIXhp"
      }
    },
    {
      "cell_type": "markdown",
      "source": [
        "제로나누기에러(zero-division error) 기억해두세요!  \n",
        "일부러 사용한다. 에러가 났을때 시스템에 얼마나 영향이 가는지 테스트하기 위해."
      ],
      "metadata": {
        "id": "LTvnUtNxHtqS"
      }
    },
    {
      "cell_type": "markdown",
      "source": [
        "에러를 잡으려고 try를 엄청 많이 사용하는 경우가 있는데, 이러면 찾기 힘들어진다.  \n",
        "차라리 에러가 나게 놔두는게 찾기 쉽다."
      ],
      "metadata": {
        "id": "1-cmMwOYIPKY"
      }
    },
    {
      "cell_type": "code",
      "source": [
        "print('hello')\n",
        "try:\n",
        "    s = 1/0\n",
        "    print(s)\n",
        "except:\n",
        "    print('error가 발생되었습니다!')\n",
        "print('world')"
      ],
      "metadata": {
        "colab": {
          "base_uri": "https://localhost:8080/"
        },
        "id": "mzmI_Gn-I4vd",
        "outputId": "0a1fea80-3c68-48c4-c1ea-844fa0972210"
      },
      "execution_count": 153,
      "outputs": [
        {
          "output_type": "stream",
          "name": "stdout",
          "text": [
            "hello\n",
            "error가 발생되었습니다!\n",
            "world\n"
          ]
        }
      ]
    },
    {
      "cell_type": "code",
      "source": [
        "try:\n",
        "    # s = 1/0\n",
        "    l = []\n",
        "    l.appnd(10)\n",
        "    print(s)\n",
        "except ZeroDivisionError:\n",
        "    print('0으로 나누어졌습니다!')\n",
        "except AttributeError:\n",
        "    print('메서드 없어요!')"
      ],
      "metadata": {
        "colab": {
          "base_uri": "https://localhost:8080/"
        },
        "id": "v3oaP804JSX2",
        "outputId": "6e349e80-96df-479f-8525-ce2d36ceb3c6"
      },
      "execution_count": 154,
      "outputs": [
        {
          "output_type": "stream",
          "name": "stdout",
          "text": [
            "메서드 없어요!\n"
          ]
        }
      ]
    },
    {
      "cell_type": "markdown",
      "source": [
        "무슨 에러가 발생할지 모르기 때문에 첫번째 방식을 더 사용한다."
      ],
      "metadata": {
        "id": "xtPIZGx7Jf1-"
      }
    },
    {
      "cell_type": "code",
      "source": [
        "try:\n",
        "    s = 1/1 # 0에서 1로 값을 바꾸었습니다.\n",
        "    print(s)\n",
        "    l = [1, 2, 3]\n",
        "    print(l[3])\n",
        "except ZeroDivisionError:\n",
        "    print('0으로 나누어졌습니다!')\n",
        "except:\n",
        "    print('오류가 났습니다!')"
      ],
      "metadata": {
        "colab": {
          "base_uri": "https://localhost:8080/"
        },
        "id": "H9T9sblEJlTh",
        "outputId": "cbdaf325-d73a-4779-a435-fee4ce3df1c6"
      },
      "execution_count": 155,
      "outputs": [
        {
          "output_type": "stream",
          "name": "stdout",
          "text": [
            "1.0\n",
            "오류가 났습니다!\n"
          ]
        }
      ]
    },
    {
      "cell_type": "markdown",
      "source": [
        "- **`try + except`**를 가장 많이 사용한다.\n",
        "- finally, else 등등... 잘 안쓴다. 다 쓰면 가독성이 너무 떨어진다."
      ],
      "metadata": {
        "id": "ZAHgdK-BJpKZ"
      }
    },
    {
      "cell_type": "code",
      "source": [
        "~게시물 5개 쓰는 코드~\n",
        "\n",
        "assert 게시물.count() == 5, '에러 메시지 1'\n",
        "# Django에서 이런식으로 많이 사용한다."
      ],
      "metadata": {
        "id": "rtzqGB8KJ0Bm"
      },
      "execution_count": null,
      "outputs": []
    },
    {
      "cell_type": "code",
      "source": [
        "raise ValueError"
      ],
      "metadata": {
        "colab": {
          "base_uri": "https://localhost:8080/",
          "height": 178
        },
        "id": "65ZxZL7JKhY6",
        "outputId": "c54c976c-9418-4aa3-cb7b-7f9c76ebdc5e"
      },
      "execution_count": 158,
      "outputs": [
        {
          "output_type": "error",
          "ename": "ValueError",
          "evalue": "",
          "traceback": [
            "\u001b[0;31m---------------------------------------------------------------------------\u001b[0m",
            "\u001b[0;31mValueError\u001b[0m                                Traceback (most recent call last)",
            "\u001b[0;32m<ipython-input-158-e4c8e09828d5>\u001b[0m in \u001b[0;36m<cell line: 1>\u001b[0;34m()\u001b[0m\n\u001b[0;32m----> 1\u001b[0;31m \u001b[0;32mraise\u001b[0m \u001b[0mValueError\u001b[0m\u001b[0;34m\u001b[0m\u001b[0;34m\u001b[0m\u001b[0m\n\u001b[0m",
            "\u001b[0;31mValueError\u001b[0m: "
          ]
        }
      ]
    },
    {
      "cell_type": "code",
      "source": [
        "raise ValueError(\"코드를 잘 만들어주세요~\")"
      ],
      "metadata": {
        "colab": {
          "base_uri": "https://localhost:8080/",
          "height": 178
        },
        "id": "Rlb8yi1ZKlor",
        "outputId": "913923ad-9ec3-42b9-a28c-57abbb7cef03"
      },
      "execution_count": 157,
      "outputs": [
        {
          "output_type": "error",
          "ename": "ValueError",
          "evalue": "코드를 잘 만들어주세요~",
          "traceback": [
            "\u001b[0;31m---------------------------------------------------------------------------\u001b[0m",
            "\u001b[0;31mValueError\u001b[0m                                Traceback (most recent call last)",
            "\u001b[0;32m<ipython-input-157-668dde767d9b>\u001b[0m in \u001b[0;36m<cell line: 1>\u001b[0;34m()\u001b[0m\n\u001b[0;32m----> 1\u001b[0;31m \u001b[0;32mraise\u001b[0m \u001b[0mValueError\u001b[0m\u001b[0;34m(\u001b[0m\u001b[0;34m\"코드를 잘 만들어주세요~\"\u001b[0m\u001b[0;34m)\u001b[0m\u001b[0;34m\u001b[0m\u001b[0;34m\u001b[0m\u001b[0m\n\u001b[0m",
            "\u001b[0;31mValueError\u001b[0m: 코드를 잘 만들어주세요~"
          ]
        }
      ]
    },
    {
      "cell_type": "markdown",
      "source": [
        "커스텀 에러를 만들 수도 있다."
      ],
      "metadata": {
        "id": "zthAA5j6KqDn"
      }
    },
    {
      "cell_type": "code",
      "source": [
        "class Licat(Exception):\n",
        "    def __init__(self):\n",
        "        super().__init__('입력된 값이 leehojun이 아닙니다.')\n",
        "\n",
        "raise Licat"
      ],
      "metadata": {
        "colab": {
          "base_uri": "https://localhost:8080/",
          "height": 212
        },
        "id": "U_moo9EGK0H-",
        "outputId": "37a0299d-6c79-479e-bc02-92255d5e6037"
      },
      "execution_count": 159,
      "outputs": [
        {
          "output_type": "error",
          "ename": "Licat",
          "evalue": "입력된 값이 leehojun이 아닙니다.",
          "traceback": [
            "\u001b[0;31m---------------------------------------------------------------------------\u001b[0m",
            "\u001b[0;31mLicat\u001b[0m                                     Traceback (most recent call last)",
            "\u001b[0;32m<ipython-input-159-3ccee2073dff>\u001b[0m in \u001b[0;36m<cell line: 5>\u001b[0;34m()\u001b[0m\n\u001b[1;32m      3\u001b[0m         \u001b[0msuper\u001b[0m\u001b[0;34m(\u001b[0m\u001b[0;34m)\u001b[0m\u001b[0;34m.\u001b[0m\u001b[0m__init__\u001b[0m\u001b[0;34m(\u001b[0m\u001b[0;34m'입력된 값이 leehojun이 아닙니다.'\u001b[0m\u001b[0;34m)\u001b[0m\u001b[0;34m\u001b[0m\u001b[0;34m\u001b[0m\u001b[0m\n\u001b[1;32m      4\u001b[0m \u001b[0;34m\u001b[0m\u001b[0m\n\u001b[0;32m----> 5\u001b[0;31m \u001b[0;32mraise\u001b[0m \u001b[0mLicat\u001b[0m\u001b[0;34m\u001b[0m\u001b[0;34m\u001b[0m\u001b[0m\n\u001b[0m",
            "\u001b[0;31mLicat\u001b[0m: 입력된 값이 leehojun이 아닙니다."
          ]
        }
      ]
    },
    {
      "cell_type": "code",
      "source": [
        "# https://world.weniv.co.kr/ 에서 사용하고 있는 여러 에러 중 하나\n",
        "class OutOfWorld(Exception):\n",
        "    \"\"\"\n",
        "    밖으로 나갔을 때 출력하는 애러\n",
        "    \"\"\"\n",
        "\n",
        "    def __init__(self):\n",
        "        print(\"error.OutOfWorld: out of world\", type=\"error\")\n",
        "        super().__init__(\"out of world\")"
      ],
      "metadata": {
        "id": "XxrF0HMmK3Gm"
      },
      "execution_count": null,
      "outputs": []
    },
    {
      "cell_type": "markdown",
      "source": [
        "`Exception`으로 받아서 커스텀 에러를 만들수있다는것만 기억하자."
      ],
      "metadata": {
        "id": "POzfA7OALlXC"
      }
    }
  ]
}