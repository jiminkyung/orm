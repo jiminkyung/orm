{
  "nbformat": 4,
  "nbformat_minor": 0,
  "metadata": {
    "colab": {
      "provenance": [],
      "collapsed_sections": [
        "ZTG8a4jzxy7r"
      ]
    },
    "kernelspec": {
      "name": "python3",
      "display_name": "Python 3"
    },
    "language_info": {
      "name": "python"
    }
  },
  "cells": [
    {
      "cell_type": "markdown",
      "source": [
        "# 1. While문"
      ],
      "metadata": {
        "id": "7B8FbgXtyQki"
      }
    },
    {
      "cell_type": "code",
      "execution_count": null,
      "metadata": {
        "colab": {
          "base_uri": "https://localhost:8080/"
        },
        "id": "-VNO_T6JxWQi",
        "outputId": "b62585f4-9e5a-4026-c99f-d636d19b6d13"
      },
      "outputs": [
        {
          "output_type": "stream",
          "name": "stdout",
          "text": [
            ">pwd\n",
            "/content\n",
            ">ls\n",
            "['.config', 'sample_data']\n",
            ">exit\n",
            "안녕히가세요.\n"
          ]
        }
      ],
      "source": [
        "import os\n",
        "\n",
        "while True:\n",
        "    userinput = input('>')\n",
        "    if userinput == 'pwd':\n",
        "        # print('현재 위치 출력')\n",
        "        # print('\\\\'.join(__file__.split('\\\\')[:-1]))\n",
        "        print(os.getcwd())\n",
        "    elif userinput == 'dir' or userinput == 'ls':\n",
        "        # print('현재 폴더에 폴더와 파일명 출력')\n",
        "        print(os.listdir(os.getcwd()))\n",
        "    elif userinput == 'exit':\n",
        "        print('안녕히가세요.')\n",
        "        break"
      ]
    },
    {
      "cell_type": "markdown",
      "source": [
        "```\n",
        "Step1 : a -> 1 지정\n",
        "\n",
        "Step2 : while (a = 1) < 10 -> True -> while반복문 실행\n",
        "\n",
        "Step3 : print(a) -> a=1 -> 1이 출력\n",
        "\n",
        "Step4 : a += 1 -> a -> 2\n",
        "```"
      ],
      "metadata": {
        "id": "BMpt9cdP9nZV"
      }
    },
    {
      "cell_type": "markdown",
      "source": [
        "## 1.1 중첩 While문"
      ],
      "metadata": {
        "id": "Q8QnFLKo8uY3"
      }
    },
    {
      "cell_type": "code",
      "source": [
        "i = 2\n",
        "while i < 10 :\n",
        "    j = 1\n",
        "    while j < 10:\n",
        "        print(f'{i} X {j} = {i * j}')\n",
        "        j += 1\n",
        "    i += 1"
      ],
      "metadata": {
        "colab": {
          "base_uri": "https://localhost:8080/"
        },
        "id": "7YEUT_LG8xNF",
        "outputId": "529a6cfe-64f8-4cca-8e34-f6c65b654a2a"
      },
      "execution_count": null,
      "outputs": [
        {
          "output_type": "stream",
          "name": "stdout",
          "text": [
            "2 X 1 = 2\n",
            "2 X 2 = 4\n",
            "2 X 3 = 6\n",
            "2 X 4 = 8\n",
            "2 X 5 = 10\n",
            "2 X 6 = 12\n",
            "2 X 7 = 14\n",
            "2 X 8 = 16\n",
            "2 X 9 = 18\n",
            "3 X 1 = 3\n",
            "3 X 2 = 6\n",
            "3 X 3 = 9\n",
            "3 X 4 = 12\n",
            "3 X 5 = 15\n",
            "3 X 6 = 18\n",
            "3 X 7 = 21\n",
            "3 X 8 = 24\n",
            "3 X 9 = 27\n",
            "4 X 1 = 4\n",
            "4 X 2 = 8\n",
            "4 X 3 = 12\n",
            "4 X 4 = 16\n",
            "4 X 5 = 20\n",
            "4 X 6 = 24\n",
            "4 X 7 = 28\n",
            "4 X 8 = 32\n",
            "4 X 9 = 36\n",
            "5 X 1 = 5\n",
            "5 X 2 = 10\n",
            "5 X 3 = 15\n",
            "5 X 4 = 20\n",
            "5 X 5 = 25\n",
            "5 X 6 = 30\n",
            "5 X 7 = 35\n",
            "5 X 8 = 40\n",
            "5 X 9 = 45\n",
            "6 X 1 = 6\n",
            "6 X 2 = 12\n",
            "6 X 3 = 18\n",
            "6 X 4 = 24\n",
            "6 X 5 = 30\n",
            "6 X 6 = 36\n",
            "6 X 7 = 42\n",
            "6 X 8 = 48\n",
            "6 X 9 = 54\n",
            "7 X 1 = 7\n",
            "7 X 2 = 14\n",
            "7 X 3 = 21\n",
            "7 X 4 = 28\n",
            "7 X 5 = 35\n",
            "7 X 6 = 42\n",
            "7 X 7 = 49\n",
            "7 X 8 = 56\n",
            "7 X 9 = 63\n",
            "8 X 1 = 8\n",
            "8 X 2 = 16\n",
            "8 X 3 = 24\n",
            "8 X 4 = 32\n",
            "8 X 5 = 40\n",
            "8 X 6 = 48\n",
            "8 X 7 = 56\n",
            "8 X 8 = 64\n",
            "8 X 9 = 72\n",
            "9 X 1 = 9\n",
            "9 X 2 = 18\n",
            "9 X 3 = 27\n",
            "9 X 4 = 36\n",
            "9 X 5 = 45\n",
            "9 X 6 = 54\n",
            "9 X 7 = 63\n",
            "9 X 8 = 72\n",
            "9 X 9 = 81\n"
          ]
        }
      ]
    },
    {
      "cell_type": "markdown",
      "source": [
        "# 2. Break / Continue / Pass"
      ],
      "metadata": {
        "id": "ZTG8a4jzxy7r"
      }
    },
    {
      "cell_type": "markdown",
      "source": [
        "- `break`: 반복문을 즉시 종료  \n",
        " **※주의: 바로 위의 반복문(for나 while)만 탈출한다.**"
      ],
      "metadata": {
        "id": "Q0bZWFxkzwmE"
      }
    },
    {
      "cell_type": "code",
      "source": [
        "for i in range(10):\n",
        "    if i == 5: # 만약에 i가 5면 정지시켜라!\n",
        "        break  # 0부터 5까지만 출력하고 나머지는 출력하지 않겠다.\n",
        "        # break도 코드블록처럼 4칸 띄워서 입력해야함!\n",
        "    print(i)"
      ],
      "metadata": {
        "colab": {
          "base_uri": "https://localhost:8080/"
        },
        "id": "YVqNC4jgyXnz",
        "outputId": "f7f5b8d6-bb5c-4f34-fd9e-b0c45eb75c5d"
      },
      "execution_count": null,
      "outputs": [
        {
          "output_type": "stream",
          "name": "stdout",
          "text": [
            "0\n",
            "1\n",
            "2\n",
            "3\n",
            "4\n"
          ]
        }
      ]
    },
    {
      "cell_type": "code",
      "source": [
        "# 어제 만들어봤었던 스무고개 숫자 프로그램. break를 추가하면 편하다.\n",
        "import random\n",
        "\n",
        "answer = random.randint(1, 1000)\n",
        "while True:\n",
        "    userinput = int(input('숫자를 입력해주세요.'))\n",
        "    if userinput > answer:\n",
        "        print('Down')\n",
        "\n",
        "    elif userinput < answer:\n",
        "        print('Up')\n",
        "    else:\n",
        "        print('축하합니다! 맞추셨어요!')\n",
        "        break"
      ],
      "metadata": {
        "id": "y6TPmqkF15tq"
      },
      "execution_count": null,
      "outputs": []
    },
    {
      "cell_type": "markdown",
      "source": [
        "- `continue`: 반복문의 나머지 부분을 건너뛰고, 다음 반복문으로 이동"
      ],
      "metadata": {
        "id": "etqnWGVlzT6z"
      }
    },
    {
      "cell_type": "code",
      "source": [
        "#\n",
        "for i in range(10): # 0~9까지\n",
        "    if i % 2 == 0:  # 짝수인 경우에 하단 코드블럭을 실행\n",
        "        continue    # 짝수인 경우에 실행한 구문이 continue -> 짝수일때 -> 다시 반복문 다음순서로 이동!\n",
        "    print(i)        # for문안에 if문 실행된 후에 차례대로 print(i)\n",
        "\n",
        "#\n",
        "for i in range(10): # 0~9까지\n",
        "    if i % 2 == 0:  # 짝수인 경우에 하단 코드블럭을 실행\n",
        "        print(i)    # 짝수인 경우에 출력!"
      ],
      "metadata": {
        "id": "N-q3WFXW1C0j"
      },
      "execution_count": null,
      "outputs": []
    },
    {
      "cell_type": "markdown",
      "source": [
        "- `pass`: **아무런 동작을 하지 않고** 다음 코드을 실행한다."
      ],
      "metadata": {
        "id": "O6BdveK6-vZc"
      }
    },
    {
      "cell_type": "markdown",
      "source": [
        "모든 반복문 한번에 탈출하기"
      ],
      "metadata": {
        "id": "cBq5rNnuARbW"
      }
    },
    {
      "cell_type": "code",
      "source": [
        "switch = 0\n",
        "for i in range(5): # 0부터 4까지\n",
        "    if switch == 1: # switch가 1인 경우에만 실행. 아직 0이니까 넘어감.\n",
        "        break # j가 0~2까지 반복한 뒤 3이 됐을 때, switch가 1이 되었으니 True. 프로그램 빠져나감.\n",
        "    for j in range(5): # 0부터 4까지\n",
        "        if j == 3: # j가 3인 경우에만 실행. 0~2까지는 맨 밑 문장 실행.\n",
        "            switch = 1 # 3이 됐을 경우에 switch값을 1로 할당한뒤 맨 처음 반복문으로.\n",
        "            break\n",
        "        print(f'{i}, {j}')"
      ],
      "metadata": {
        "colab": {
          "base_uri": "https://localhost:8080/"
        },
        "id": "Bzh2k1_CAXOM",
        "outputId": "14bf8b5c-9c50-417d-98f6-9efd2c8c99ca"
      },
      "execution_count": null,
      "outputs": [
        {
          "output_type": "stream",
          "name": "stdout",
          "text": [
            "0, 0\n",
            "0, 1\n",
            "0, 2\n"
          ]
        }
      ]
    },
    {
      "cell_type": "code",
      "source": [
        "# https://peps.python.org/pep-3136/\n",
        "\n",
        "try:\n",
        "    for i in range(2, 10):\n",
        "        for j in range(1, 10):\n",
        "            if j == 3:\n",
        "                raise StopIteration\n",
        "            print(f'{i} X {j} = {i*j}')\n",
        "except StopIteration:\n",
        "    print(\"Done\")"
      ],
      "metadata": {
        "colab": {
          "base_uri": "https://localhost:8080/"
        },
        "id": "poIg0M9BAXoX",
        "outputId": "7ebbffe6-72df-4fe8-accd-96df402891b9"
      },
      "execution_count": null,
      "outputs": [
        {
          "output_type": "stream",
          "name": "stdout",
          "text": [
            "2 X 1 = 2\n",
            "2 X 2 = 4\n",
            "Done\n"
          ]
        }
      ]
    },
    {
      "cell_type": "markdown",
      "source": [
        "# 3. 반복문 else\n",
        "- `if`문 뿐만 아니라 `while, for`문에서도 `else`문을 사용할 수 있다!\n",
        "- `'그렇지않으면~'`보다는 **`'그런 다음'`**의 의미가 더 강하다.\n",
        "- `break`문 없이 **' 정상 종료 '**되었을 때 실행된다."
      ],
      "metadata": {
        "id": "oybY-NafAZze"
      }
    },
    {
      "cell_type": "code",
      "source": [
        "for i in range(100):\n",
        "    print(f'{i} 물고기를 잡았습니다.')\n",
        "    if i == 5:\n",
        "        print('만선입니다. 물고기를 다 잡았습니다.')\n",
        "        break\n",
        "else:\n",
        "    print('아직 여유가 좀 있지만, 물고기가 더 없는 것 같으니 이정도로 만족하고 돌아갑시다.')\n",
        "print('수고하셨습니다.')"
      ],
      "metadata": {
        "colab": {
          "base_uri": "https://localhost:8080/"
        },
        "id": "-xQcn6KDBxki",
        "outputId": "3bc64564-5d7c-4e66-9969-08f90b4e2b69"
      },
      "execution_count": null,
      "outputs": [
        {
          "output_type": "stream",
          "name": "stdout",
          "text": [
            "0 물고기를 잡았습니다.\n",
            "1 물고기를 잡았습니다.\n",
            "2 물고기를 잡았습니다.\n",
            "3 물고기를 잡았습니다.\n",
            "4 물고기를 잡았습니다.\n",
            "5 물고기를 잡았습니다.\n",
            "만선입니다. 물고기를 다 잡았습니다.\n",
            "수고하셨습니다.\n"
          ]
        }
      ]
    },
    {
      "cell_type": "markdown",
      "source": [
        "위처럼 `break`문을 만나서 종료되었을 경우엔 `else`문이 실행되지 않는다."
      ],
      "metadata": {
        "id": "pxvnPXAaDvY4"
      }
    },
    {
      "cell_type": "code",
      "source": [
        "for i in range(5): # 0~4이기 때문에 아래 if문이 실행되지 않고 종료된다.\n",
        "    print(f'{i} 물고기를 잡았습니다.')\n",
        "    if i == 5:\n",
        "        print('만선입니다. 물고기를 다 잡았습니다.')\n",
        "        break\n",
        "else:\n",
        "    print('아직 여유가 좀 있지만, 물고기가 더 없는 것 같으니 이정도로 만족하고 돌아갑시다.')\n",
        "print('수고하셨습니다.')"
      ],
      "metadata": {
        "colab": {
          "base_uri": "https://localhost:8080/"
        },
        "id": "qmLYy5byDkCC",
        "outputId": "93e935bf-47a7-4fad-96de-59d552f2a4ae"
      },
      "execution_count": null,
      "outputs": [
        {
          "output_type": "stream",
          "name": "stdout",
          "text": [
            "0 물고기를 잡았습니다.\n",
            "1 물고기를 잡았습니다.\n",
            "2 물고기를 잡았습니다.\n",
            "3 물고기를 잡았습니다.\n",
            "4 물고기를 잡았습니다.\n",
            "아직 여유가 좀 있지만, 물고기가 더 없는 것 같으니 이정도로 만족하고 돌아갑시다.\n",
            "수고하셨습니다.\n"
          ]
        }
      ]
    },
    {
      "cell_type": "markdown",
      "source": [
        "`for`문의 범위가 `0~4`였고 `break`문은 `5`일때 실행되기 때문에,  \n",
        "`for`문이 정상 종료된다. 따라서 `else`문 실행됨."
      ],
      "metadata": {
        "id": "Or9LlwpFDqJi"
      }
    },
    {
      "cell_type": "markdown",
      "source": [
        "# 프로그램 1: 할일 목록 프로그램 만들기\n",
        "\n",
        "목표: 함수, 조건문, 반복문을 최대한 사용하기!"
      ],
      "metadata": {
        "id": "ktaBaqBBEDvA"
      }
    },
    {
      "cell_type": "markdown",
      "source": [
        "```\n",
        "Step 1: 할 일 목록 초기화 및 표시 함수\n",
        "목표: 사용자의 할 일 목록을 관리합니다.\n",
        "내용:\n",
        "할 일 목록을 저장할 리스트를 초기화합니다.\n",
        "할 일 목록을 표시하는 함수를 정의합니다.\n",
        "\n",
        "Step 2: 할 일 추가 및 삭제 기능\n",
        "목표: 할 일을 추가하고 삭제하는 기능을 구현합니다.\n",
        "내용:\n",
        "할 일을 추가하는 함수를 정의합니다.\n",
        "할 일을 삭제하는 함수를 정의합니다.\n",
        "\n",
        "Step 3: 사용자 입력 처리\n",
        "목표: 사용자 입력에 따라 프로그램이 반응하도록 합니다.\n",
        "내용:\n",
        "사용자로부터 입력을 받아 추가, 삭제, 표시 기능을 수행합니다.\n",
        "```"
      ],
      "metadata": {
        "id": "HnD-Ho5wHEIe"
      }
    },
    {
      "cell_type": "code",
      "source": [
        "# 할일 초기화\n",
        "my_list = []\n",
        "\n",
        "# 할일 목록 표시 함수\n",
        "def todo_list():\n",
        "    for lst in enumerate(my_list, start=1):\n",
        "        print(lst)\n",
        "    print()\n",
        "    opt_todo()\n",
        "\n",
        "# 할일 추가 함수\n",
        "def add_todo():\n",
        "    todo = input(\"할 일을 입력해줘요: \")\n",
        "    print()\n",
        "    my_list.append(todo)\n",
        "    opt_todo()\n",
        "\n",
        "# 할 일 삭제\n",
        "def del_todo():\n",
        "    todo = input(\"어떤 할 일을 삭제하시겠어요?: \")\n",
        "    if todo in my_list:\n",
        "        my_list.remove(todo)\n",
        "        print(\"삭제되었습니다.\\n\")\n",
        "    elif not todo.isalpha():\n",
        "        if int(todo) > len(my_list):\n",
        "            print(\"없는 번호입니다!\\n\")\n",
        "            opt_todo()\n",
        "        else:\n",
        "            del my_list[int(todo)-1]\n",
        "            print(\"삭제되었습니다.\\n\")\n",
        "    else:\n",
        "        print(\"없는 항목입니다!\\n\")\n",
        "    opt_todo()\n",
        "\n",
        "# 사용자 입력처리\n",
        "def opt_todo():\n",
        "    print(\"[1]할 일 추가 [2]할 일 삭제 [3]목록 확인 [4]나가기\")\n",
        "    selected = input(\"무엇을 하시려고요?: \")\n",
        "\n",
        "    if  (selected not in [\"1\", \"2\", \"3\", \"4\"]) or (not selected.isdigit()):\n",
        "        print(\"다시 입력하십쇼.\\n\")\n",
        "        opt_todo()\n",
        "    else:\n",
        "        num = int(selected)\n",
        "\n",
        "    if num == 1:\n",
        "        add_todo()\n",
        "    elif num == 2:\n",
        "        del_todo()\n",
        "    elif num == 3:\n",
        "        todo_list()\n",
        "    else:\n",
        "        print(\"Bye Bye\")\n",
        "\n",
        "# 실행\n",
        "opt_todo()"
      ],
      "metadata": {
        "colab": {
          "base_uri": "https://localhost:8080/"
        },
        "id": "p3PSfwMWLa3M",
        "outputId": "9918c0b2-f64f-456b-cb5a-1050195b3f72"
      },
      "execution_count": 27,
      "outputs": [
        {
          "output_type": "stream",
          "name": "stdout",
          "text": [
            "[1]할 일 추가 [2]할 일 삭제 [3]목록 확인 [4]나가기\n",
            "무엇을 하시려고요?: 1\n",
            "할 일을 입력해줘요: 코랩 정리\n",
            "\n",
            "[1]할 일 추가 [2]할 일 삭제 [3]목록 확인 [4]나가기\n",
            "무엇을 하시려고요?: 1\n",
            "할 일을 입력해줘요: 티스토리 정리\n",
            "\n",
            "[1]할 일 추가 [2]할 일 삭제 [3]목록 확인 [4]나가기\n",
            "무엇을 하시려고요?: 1\n",
            "할 일을 입력해줘요: 귤껍질 치우기\n",
            "\n",
            "[1]할 일 추가 [2]할 일 삭제 [3]목록 확인 [4]나가기\n",
            "무엇을 하시려고요?: 3\n",
            "(1, '코랩 정리')\n",
            "(2, '티스토리 정리')\n",
            "(3, '귤껍질 치우기')\n",
            "\n",
            "[1]할 일 추가 [2]할 일 삭제 [3]목록 확인 [4]나가기\n",
            "무엇을 하시려고요?: 2\n",
            "어떤 할 일을 삭제하시겠어요?: 1\n",
            "삭제되었습니다.\n",
            "\n",
            "[1]할 일 추가 [2]할 일 삭제 [3]목록 확인 [4]나가기\n",
            "무엇을 하시려고요?: 3\n",
            "(1, '티스토리 정리')\n",
            "(2, '귤껍질 치우기')\n",
            "\n",
            "[1]할 일 추가 [2]할 일 삭제 [3]목록 확인 [4]나가기\n",
            "무엇을 하시려고요?: 4\n",
            "Bye Bye\n"
          ]
        }
      ]
    },
    {
      "cell_type": "markdown",
      "source": [
        "## 강사님 답안"
      ],
      "metadata": {
        "id": "cipQsYvfvjyY"
      }
    },
    {
      "cell_type": "code",
      "source": [
        "# 할 일 목록을 저장할 리스트\n",
        "todo_list = []\n",
        "\n",
        "# 할 일 목록을 표시하는 함수\n",
        "def display_todo_list():\n",
        "    print(\"현재 할 일 목록:\")\n",
        "    for task in todo_list:  # todo_list에 있는 모든 할 일을 순회\n",
        "        print(\"- \" + task)  # 각 할 일 앞에 '-'를 붙여서 출력\n",
        "\n",
        "# 할 일을 추가하는 함수\n",
        "def add_task(task):\n",
        "    todo_list.append(task)  # 리스트에 새 할 일 추가\n",
        "    print(f\"'{task}'가 할 일 목록에 추가되었습니다.\")\n",
        "\n",
        "# 할 일을 제거하는 함수\n",
        "def remove_task(task):\n",
        "    if task in todo_list:  # 할 일이 목록에 있는지 확인\n",
        "        todo_list.remove(task)  # 목록에서 할 일 제거\n",
        "        print(f\"'{task}'가 할 일 목록에서 제거되었습니다.\")\n",
        "    else:\n",
        "        print(f\"할 일 목록에 '{task}'가 없습니다.\")\n",
        "\n",
        "# 메인 루프\n",
        "while True:\n",
        "    print(\"\\n[1] 할 일 추가 [2] 할 일 삭제 [3] 목록 표시 [4] 종료\")\n",
        "    choice = input(\"선택: \")  # 사용자 입력 받기\n",
        "\n",
        "    if choice == '1':  # 할 일 추가\n",
        "        task = input(\"추가할 할 일: \")\n",
        "        add_task(task)\n",
        "    elif choice == '2':  # 할 일 삭제\n",
        "        task = input(\"삭제할 할 일: \")\n",
        "        remove_task(task)\n",
        "    elif choice == '3':  # 할 일 목록 표시\n",
        "        display_todo_list()\n",
        "    elif choice == '4':  # 프로그램 종료\n",
        "        print(\"프로그램을 종료합니다.\")\n",
        "        break  # while 루프 종료\n",
        "    else:\n",
        "        print(\"잘못된 선택입니다. 다시 입력하세요.\")"
      ],
      "metadata": {
        "id": "d61FCbC2H75I"
      },
      "execution_count": null,
      "outputs": []
    }
  ]
}