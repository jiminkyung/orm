{
  "nbformat": 4,
  "nbformat_minor": 0,
  "metadata": {
    "colab": {
      "provenance": []
    },
    "kernelspec": {
      "name": "python3",
      "display_name": "Python 3"
    },
    "language_info": {
      "name": "python"
    }
  },
  "cells": [
    {
      "cell_type": "markdown",
      "source": [
        "# 1. 주석"
      ],
      "metadata": {
        "id": "_5YrtJFdCrGx"
      }
    },
    {
      "cell_type": "markdown",
      "source": [
        "## 1.1 한줄 주석\n",
        "\n",
        "한 줄 주석은 # 기호로 시작한다."
      ],
      "metadata": {
        "id": "kF6tauiSDhbA"
      }
    },
    {
      "cell_type": "code",
      "source": [
        "# 주석입니다.(특이사항, 전체적인 것들, 업데이트 내용)-위에 적는 주석\n",
        "print('Hello, World 1!') # 이것도 주석입니다.(해당 코드의 설명)-옆에 적는 주석\n",
        "# print('Hello, World 2!') # 코드의 에러 / 향후 수정! / 임시 주석!"
      ],
      "metadata": {
        "colab": {
          "base_uri": "https://localhost:8080/"
        },
        "id": "b8BG7jCEDlVk",
        "outputId": "0760748d-0bb9-4b17-c713-22f1615b8258"
      },
      "execution_count": null,
      "outputs": [
        {
          "output_type": "stream",
          "name": "stdout",
          "text": [
            "Hello, World 1!\n"
          ]
        }
      ]
    },
    {
      "cell_type": "markdown",
      "source": [
        "## 1.2 여러 줄 주석\n",
        "\n",
        "`'''`는 여러 줄 주석에 사용한다. 주의할 점은 `'''`로 앞뒤를 감싸주어야 한다는 것."
      ],
      "metadata": {
        "id": "giAZF0iGExmL"
      }
    },
    {
      "cell_type": "code",
      "source": [
        "'''\n",
        "print('Hello, World 1!')\n",
        "print('Hello, World 2!')\n",
        "print('Hello, World 3!')\n",
        "'''"
      ],
      "metadata": {
        "colab": {
          "base_uri": "https://localhost:8080/",
          "height": 53
        },
        "id": "zb4xj9xwD388",
        "outputId": "8ddb62bc-bebe-483a-cfaf-13e24cfa4b75"
      },
      "execution_count": null,
      "outputs": [
        {
          "output_type": "execute_result",
          "data": {
            "text/plain": [
              "\"\\nprint('Hello, World 1!')\\nprint('Hello, World 2!')\\nprint('Hello, World 3!')\\n\""
            ],
            "application/vnd.google.colaboratory.intrinsic+json": {
              "type": "string"
            }
          },
          "metadata": {},
          "execution_count": 5
        }
      ]
    },
    {
      "cell_type": "code",
      "source": [
        "'''\n",
        "print('Hello, World 1!')\n",
        "print('Hello, World 2!')\n",
        "print('Hello, World 3!')\n",
        "'''\n",
        "print('Hello, World 4!') # 실제 코드가 있을 경우에는 정상적으로 나옴."
      ],
      "metadata": {
        "colab": {
          "base_uri": "https://localhost:8080/"
        },
        "id": "0rxQqKOrFfSF",
        "outputId": "eb291c90-94a1-403f-b032-b9095cc27f5f"
      },
      "execution_count": null,
      "outputs": [
        {
          "output_type": "stream",
          "name": "stdout",
          "text": [
            "Hello, World 4!\n"
          ]
        }
      ]
    },
    {
      "cell_type": "markdown",
      "source": [
        "해당 코드를 설명하는 경우엔 # 을 사용하는것을 권장함."
      ],
      "metadata": {
        "id": "nH0EHHAjFrQs"
      }
    }
  ]
}