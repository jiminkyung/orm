{
  "nbformat": 4,
  "nbformat_minor": 0,
  "metadata": {
    "colab": {
      "provenance": []
    },
    "kernelspec": {
      "name": "python3",
      "display_name": "Python 3"
    },
    "language_info": {
      "name": "python"
    }
  },
  "cells": [
    {
      "cell_type": "code",
      "execution_count": 1,
      "metadata": {
        "colab": {
          "base_uri": "https://localhost:8080/"
        },
        "id": "ltQfr0pF70Ea",
        "outputId": "41c811a7-ebc2-482e-8ee2-1ce8ffd3db75"
      },
      "outputs": [
        {
          "output_type": "stream",
          "name": "stdout",
          "text": [
            "Hello world!\n"
          ]
        }
      ],
      "source": [
        "print(\"Hello world!\")"
      ]
    },
    {
      "cell_type": "markdown",
      "source": [
        "# 1. 구글 코랩 기초 사용법\n",
        "(무조건 한 칸 띄어야 한다고 함)\n",
        "\n",
        "1. (필수) Ctrl + Enter: 해당 셀 실행\n",
        "2. (필수) Alt + Enter: 해당 셀 실행+코드 블록 하단 추가\n",
        "3. Ctrl + M A: 셀 위에 삽입\n",
        "4. Ctrl + M B: 셀 아래에 삽입\n",
        "5. Ctrl + ![image.png](data:image/png;base64,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)M D: 셀 삭제\n",
        "6. Ctrl + M Y: 코드 셀로 변경\n",
        "7. Ctrl + M M: 마크다운 셀로 변경\n",
        "8. Ctrl + M Z: 실행 취소"
      ],
      "metadata": {
        "id": "K2IqU47o9Jv0"
      }
    },
    {
      "cell_type": "code",
      "source": [
        "print(\"Hello\")"
      ],
      "metadata": {
        "colab": {
          "base_uri": "https://localhost:8080/"
        },
        "id": "e7Zba28b9h0B",
        "outputId": "ec26cc4a-a841-4869-fd04-4a8ca87f5572"
      },
      "execution_count": 2,
      "outputs": [
        {
          "output_type": "stream",
          "name": "stdout",
          "text": [
            "Hello\n"
          ]
        }
      ]
    },
    {
      "cell_type": "code",
      "source": [
        "print('메롱')"
      ],
      "metadata": {
        "colab": {
          "base_uri": "https://localhost:8080/"
        },
        "id": "rvRGdfEk-fmw",
        "outputId": "6316e838-513b-4ee3-d89c-5a0e1c58b398"
      },
      "execution_count": 3,
      "outputs": [
        {
          "output_type": "stream",
          "name": "stdout",
          "text": [
            "메롱\n"
          ]
        }
      ]
    },
    {
      "cell_type": "code",
      "source": [
        "print('Ctrl')"
      ],
      "metadata": {
        "colab": {
          "base_uri": "https://localhost:8080/"
        },
        "id": "zch3PyHB_CPd",
        "outputId": "eb87fa38-b584-41b4-8cf0-224d01af3895"
      },
      "execution_count": 4,
      "outputs": [
        {
          "output_type": "stream",
          "name": "stdout",
          "text": [
            "Ctrl\n"
          ]
        }
      ]
    },
    {
      "cell_type": "code",
      "source": [
        "print('Alt')"
      ],
      "metadata": {
        "colab": {
          "base_uri": "https://localhost:8080/"
        },
        "id": "iUhRZvve_GpB",
        "outputId": "a2b4c54f-010f-456d-b8d5-1f182439471c"
      },
      "execution_count": 5,
      "outputs": [
        {
          "output_type": "stream",
          "name": "stdout",
          "text": [
            "Alt\n"
          ]
        }
      ]
    },
    {
      "cell_type": "markdown",
      "source": [
        "# 2. 단축키 설명\n",
        "***자주 쓰는 예시 필요***\n",
        "1. Ctrl + Alt + 화살표위아래: 동시수정\n",
        "2. (자주) Ctrl + D : 같은 단어 찾아 동시 수정\n",
        "3. Ctrl + Shift + L : 동일 단어를 전체로 찾아 동시 수정\n",
        "4. Alt + Shift + 화살표위아래 : 해당내용을 위나 아래 복사해서 붙여넣기\n",
        "5. Alt + 화살표위아래 : 해당 내용을 위나 아래로 보내기\n",
        "6. (자주) Ctrl + Alt + 화살표위아래 : 위아래 동시 수정\n",
        "7. (자주) Home, End : 문장의 양 끝\n",
        "8. (필수) Ctrl + / : 주석\n",
        "9. (필수) Shift + Del : 한 줄 지우기\n",
        "10. (필수) Tab, Ctrl + ] : 들여쓰기\n",
        "11. (필수) Shift + Tab, Ctrl + [ : 내어쓰기"
      ],
      "metadata": {
        "id": "Cj676L-p_j0W"
      }
    },
    {
      "cell_type": "code",
      "source": [
        "# 데이터셋 불러오기\n",
        "import pandas as pd\n",
        "data = pd.read_csv(\"example_dataset.csv\")\n",
        "\n",
        "# 각 컬럼에 대한 평균 계산\n",
        "mean_age_years = data['age_years'].mean()\n",
        "mean_height_cm = data['height_cm'].mean()\n",
        "mean_weight_kg = data['weight_kg'].mean()\n",
        "\n",
        "print(\"Average Age in Years:\", mean_age_years)\n",
        "print(\"Average Height in cm:\", mean_height_cm)\n",
        "print(\"Average Weight in kg:\", mean_weight_kg)"
      ],
      "metadata": {
        "id": "eIJWnMH2Fvxo"
      },
      "execution_count": null,
      "outputs": []
    },
    {
      "cell_type": "markdown",
      "source": [
        "# 3.마크다운\n",
        "## 3.1 헤더\n",
        "### 3.1.1 사용법\n",
        "제목을 입력하는 기능"
      ],
      "metadata": {
        "id": "fqkxWb0MHM5D"
      }
    },
    {
      "cell_type": "markdown",
      "source": [
        "## 3.2 강조\n",
        "강조\n",
        "*강조*\n",
        "**강조**"
      ],
      "metadata": {
        "id": "osGuJG1vJ26e"
      }
    },
    {
      "cell_type": "markdown",
      "source": [
        "## 3.3 목록(Lists)\n",
        "\n",
        "1. 순서 1번\n",
        "2. 순서 2번\n",
        "3. 순서 3번\n",
        "\n",
        "- 순서 없는 것 1\n",
        "- 순서 없는 것 2\n",
        "- 순서 없는 것 3"
      ],
      "metadata": {
        "id": "fJw7yxDKKxP3"
      }
    },
    {
      "cell_type": "markdown",
      "source": [
        "## 3.4 링크\n",
        "\n",
        "* 사용법: [텍스트](URL) 형식을 사용하여 하이퍼링크를 삽입합니다.\n",
        "* [Pyalgo](https://pyalgo.co.kr/)"
      ],
      "metadata": {
        "id": "mOzKibXmLRN2"
      }
    },
    {
      "cell_type": "markdown",
      "source": [
        "## 3.5 이미지\n",
        "\n",
        "* 사용법: ![대체 텍스트](이미지 URL)\n",
        "* [개구리](https://media.blenderartists.org/uploads/default/original/4X/5/c/6/5c62502b0e0130e66794cf3d122f9f5866414acf.jpeg)"
      ],
      "metadata": {
        "id": "J7LWW4WgMG27"
      }
    },
    {
      "cell_type": "markdown",
      "source": [
        "## 3.6 코드\n",
        "\n",
        "* 인라인 코드: `를 사용하여 텍스트 내에 코드를 삽입한다.\n",
        "* 코드 블록: 여러 줄의 코드를 나타낼 때는 **```**를 사용하여 코드 블록을 생성한다.\n",
        "* `print(\"Hello World\")` -> print(\"Hello World\")\n",
        "* ```print(\"Hi\")\n",
        "print(\"I'm good\")```\n",
        "(한 줄 띄우기(\\n)는 안되는 모양...)"
      ],
      "metadata": {
        "id": "JhaQkPoMNBzT"
      }
    },
    {
      "cell_type": "markdown",
      "source": [
        "## 3.7 기타\n",
        "\n",
        "* 취소선 ~~취소선~~\n",
        "* 인용문\n",
        "> 인용문 1입니다.\n",
        ">> 인용문 1.1입니다.\n",
        "---\n",
        "* 구분선\n",
        "---"
      ],
      "metadata": {
        "id": "WQ6jgaN7NcrP"
      }
    }
  ]
}