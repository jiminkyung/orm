{
  "nbformat": 4,
  "nbformat_minor": 0,
  "metadata": {
    "colab": {
      "provenance": [],
      "collapsed_sections": [
        "1pqjn4l1LSzd",
        "atrkX1oAMTdz",
        "4U08w-VKMMq3",
        "0MnO47fzNhvy"
      ]
    },
    "kernelspec": {
      "name": "python3",
      "display_name": "Python 3"
    },
    "language_info": {
      "name": "python"
    }
  },
  "cells": [
    {
      "cell_type": "markdown",
      "source": [
        "# 1. 입력함수 Input"
      ],
      "metadata": {
        "id": "1pqjn4l1LSzd"
      }
    },
    {
      "cell_type": "markdown",
      "source": [
        "## 1.1 input 실습"
      ],
      "metadata": {
        "id": "atrkX1oAMTdz"
      }
    },
    {
      "cell_type": "code",
      "source": [
        "input('입력해주세요')"
      ],
      "metadata": {
        "colab": {
          "base_uri": "https://localhost:8080/",
          "height": 53
        },
        "id": "NmK_kZpAL3e4",
        "outputId": "39bf529c-395e-4950-cd03-e0458f786c96"
      },
      "execution_count": 1,
      "outputs": [
        {
          "name": "stdout",
          "output_type": "stream",
          "text": [
            "입력해주세요hello world\n"
          ]
        },
        {
          "output_type": "execute_result",
          "data": {
            "text/plain": [
              "'hello world'"
            ],
            "application/vnd.google.colaboratory.intrinsic+json": {
              "type": "string"
            }
          },
          "metadata": {},
          "execution_count": 1
        }
      ]
    },
    {
      "cell_type": "code",
      "source": [
        "input('입력해주세요') # 이상한 값이 나올수있음"
      ],
      "metadata": {
        "colab": {
          "base_uri": "https://localhost:8080/",
          "height": 53
        },
        "id": "boktqvsSL5jc",
        "outputId": "9ae369ac-a6e2-4725-c0ec-63f64bd1af86"
      },
      "execution_count": 2,
      "outputs": [
        {
          "name": "stdout",
          "output_type": "stream",
          "text": [
            "입력해주세요10\n"
          ]
        },
        {
          "output_type": "execute_result",
          "data": {
            "text/plain": [
              "'10'"
            ],
            "application/vnd.google.colaboratory.intrinsic+json": {
              "type": "string"
            }
          },
          "metadata": {},
          "execution_count": 2
        }
      ]
    },
    {
      "cell_type": "code",
      "source": [
        "int(input('입력해주세요'))"
      ],
      "metadata": {
        "colab": {
          "base_uri": "https://localhost:8080/"
        },
        "id": "nzl9iY7mMDVT",
        "outputId": "15a59e1d-86f9-406d-8ede-7b1e25bedde5"
      },
      "execution_count": 3,
      "outputs": [
        {
          "name": "stdout",
          "output_type": "stream",
          "text": [
            "입력해주세요10\n"
          ]
        },
        {
          "output_type": "execute_result",
          "data": {
            "text/plain": [
              "10"
            ]
          },
          "metadata": {},
          "execution_count": 3
        }
      ]
    },
    {
      "cell_type": "markdown",
      "source": [
        "[2]는 문자형, [3]은 정수형으로 입력값을 받은 상태이다."
      ],
      "metadata": {
        "id": "ICMtodHKMFgm"
      }
    },
    {
      "cell_type": "markdown",
      "source": [
        "## 1.2 input 실습 - 2\n",
        "\n",
        "input으로 받은 값을 변수에 할당"
      ],
      "metadata": {
        "id": "4U08w-VKMMq3"
      }
    },
    {
      "cell_type": "code",
      "source": [
        "name = input('이름을 입력해주세요')"
      ],
      "metadata": {
        "colab": {
          "base_uri": "https://localhost:8080/"
        },
        "id": "UTz02G-5Mdui",
        "outputId": "00f00b77-195d-4b59-bf55-484bd79b8429"
      },
      "execution_count": 4,
      "outputs": [
        {
          "name": "stdout",
          "output_type": "stream",
          "text": [
            "이름을 입력해주세요지민경\n"
          ]
        }
      ]
    },
    {
      "cell_type": "code",
      "source": [
        "print('Hello,' + name + '!')"
      ],
      "metadata": {
        "colab": {
          "base_uri": "https://localhost:8080/"
        },
        "id": "pMTeZ7ByMhKf",
        "outputId": "7f927b2a-14cf-4932-972c-b35af09511f6"
      },
      "execution_count": 5,
      "outputs": [
        {
          "output_type": "stream",
          "name": "stdout",
          "text": [
            "Hello,지민경!\n"
          ]
        }
      ]
    },
    {
      "cell_type": "code",
      "source": [
        "# input을 활용한 덧셈 - 문자열인 경우\n",
        "a = input('첫번째 숫자를 입력해주세요')\n",
        "b = input('두번째 숫자를 입력해주세요')\n",
        "\n",
        "print('a + b =' , a+b, ' 입니다.')"
      ],
      "metadata": {
        "colab": {
          "base_uri": "https://localhost:8080/"
        },
        "id": "HKrl5q7pMtMo",
        "outputId": "8ec0b6b2-b687-474c-ca22-cf64897667ae"
      },
      "execution_count": 6,
      "outputs": [
        {
          "output_type": "stream",
          "name": "stdout",
          "text": [
            "첫번째 숫자를 입력해주세요2\n",
            "두번째 숫자를 입력해주세요5\n",
            "a + b = 25  입니다.\n"
          ]
        }
      ]
    },
    {
      "cell_type": "code",
      "source": [
        "# input을 활용한 덧셈 - 숫자열인 경우\n",
        "a = int(input('첫번째 숫자를 입력해주세요'))\n",
        "b = int(input('두번째 숫자를 입력해주세요'))\n",
        "\n",
        "print('a + b =' , a+b, ' 입니다.')"
      ],
      "metadata": {
        "colab": {
          "base_uri": "https://localhost:8080/"
        },
        "id": "QJMRASmJNNTw",
        "outputId": "3c839431-04ec-44f6-af1c-a1e5d78b4fa9"
      },
      "execution_count": 7,
      "outputs": [
        {
          "output_type": "stream",
          "name": "stdout",
          "text": [
            "첫번째 숫자를 입력해주세요2\n",
            "두번째 숫자를 입력해주세요5\n",
            "a + b = 7  입니다.\n"
          ]
        }
      ]
    },
    {
      "cell_type": "markdown",
      "source": [
        "# 2. 출력함수 Print"
      ],
      "metadata": {
        "id": "0MnO47fzNhvy"
      }
    },
    {
      "cell_type": "markdown",
      "source": [
        "간단하다. `print('내용')`로 표현할 수 있다.  \n",
        "But Colab은 마지막 문장을 자동으로 출력해주는 기능이 있다."
      ],
      "metadata": {
        "id": "3LrLBtI5Oaif"
      }
    },
    {
      "cell_type": "code",
      "source": [
        "# 1. 여러줄 출력\n",
        "'Hi'\n",
        "'Hi'"
      ],
      "metadata": {
        "colab": {
          "base_uri": "https://localhost:8080/",
          "height": 36
        },
        "id": "HtAlQFZ7PZ5y",
        "outputId": "cf0924f5-6fca-42eb-e437-a3087d9b30d0"
      },
      "execution_count": 8,
      "outputs": [
        {
          "output_type": "execute_result",
          "data": {
            "text/plain": [
              "'Hi'"
            ],
            "application/vnd.google.colaboratory.intrinsic+json": {
              "type": "string"
            }
          },
          "metadata": {},
          "execution_count": 8
        }
      ]
    },
    {
      "cell_type": "code",
      "source": [
        "# 2. 여러값 출력\n",
        "\n",
        "print('Hello', 'world', '!')"
      ],
      "metadata": {
        "colab": {
          "base_uri": "https://localhost:8080/"
        },
        "id": "JmYAyQSjPcoj",
        "outputId": "4bbf588b-6aa0-4e6b-8278-a56e72b6dd8c"
      },
      "execution_count": 9,
      "outputs": [
        {
          "output_type": "stream",
          "name": "stdout",
          "text": [
            "Hello world !\n"
          ]
        }
      ]
    },
    {
      "cell_type": "code",
      "source": [
        "# 3. sep 구분자 / end 구분자\n",
        "\n",
        "print('hello', 'world', '~', sep = '*', end = '!!!')"
      ],
      "metadata": {
        "colab": {
          "base_uri": "https://localhost:8080/"
        },
        "id": "6266iSYwPzYH",
        "outputId": "bbd9cb95-49d5-4add-d67a-f860821674ad"
      },
      "execution_count": 12,
      "outputs": [
        {
          "output_type": "stream",
          "name": "stdout",
          "text": [
            "hello*world*~!!!"
          ]
        }
      ]
    },
    {
      "cell_type": "code",
      "source": [
        "# 4. f-string\n",
        "\n",
        "name = 'Rachel'\n",
        "age = 25\n",
        "print(f'제 이름은 {name}, 제 나이는 {age}입니다.')"
      ],
      "metadata": {
        "colab": {
          "base_uri": "https://localhost:8080/"
        },
        "id": "Qxx3ecD1QC4u",
        "outputId": "ae4423ac-5908-4437-f884-6577bab24567"
      },
      "execution_count": 13,
      "outputs": [
        {
          "output_type": "stream",
          "name": "stdout",
          "text": [
            "제 이름은 Rachel, 제 나이는 25입니다.\n"
          ]
        }
      ]
    },
    {
      "cell_type": "code",
      "source": [
        "# 4.1 f-string에서 f가 없을때\n",
        "\n",
        "name = 'Rachel'\n",
        "age = 25\n",
        "print('제 이름은 {name}, 제 나이는 {age}입니다.')"
      ],
      "metadata": {
        "colab": {
          "base_uri": "https://localhost:8080/"
        },
        "id": "3swA83g0RrB0",
        "outputId": "50848026-d2c8-4df1-f805-bdf1629bbed2"
      },
      "execution_count": 14,
      "outputs": [
        {
          "output_type": "stream",
          "name": "stdout",
          "text": [
            "제 이름은 {name}, 제 나이는 {age}입니다.\n"
          ]
        }
      ]
    },
    {
      "cell_type": "code",
      "source": [
        "# 4.2 f-string에서 {}가 없을때\n",
        "\n",
        "name = 'Rachel'\n",
        "age = 25\n",
        "print('제 이름은 name, 제 나이는 age입니다.')"
      ],
      "metadata": {
        "colab": {
          "base_uri": "https://localhost:8080/"
        },
        "id": "Vvuc3H1iRxWW",
        "outputId": "b30b7a0a-7ca7-47e7-cf19-3c6b054f6c01"
      },
      "execution_count": 15,
      "outputs": [
        {
          "output_type": "stream",
          "name": "stdout",
          "text": [
            "제 이름은 name, 제 나이는 age입니다.\n"
          ]
        }
      ]
    },
    {
      "cell_type": "code",
      "source": [
        "# 4.3 예시\n",
        "name = input('이름을 입력해주세요: ')\n",
        "age = int(input('나이를 입력해주세요: '))\n",
        "\n",
        "print(f'제 이름은 {name}, 제 나이는 {age} 입니다.')"
      ],
      "metadata": {
        "colab": {
          "base_uri": "https://localhost:8080/"
        },
        "id": "wpi8PXpXR4F6",
        "outputId": "e953bd2b-bd78-443f-a0fb-0582b6116726"
      },
      "execution_count": 16,
      "outputs": [
        {
          "output_type": "stream",
          "name": "stdout",
          "text": [
            "이름을 입력해주세요: 지민경\n",
            "나이를 입력해주세요: 13\n",
            "제 이름은 지민경, 제 나이는 13 입니다.\n"
          ]
        }
      ]
    },
    {
      "cell_type": "code",
      "source": [
        "# 5. None\n",
        "\n",
        "a = None\n",
        "a"
      ],
      "metadata": {
        "id": "ZFVAZ8EJSM93"
      },
      "execution_count": 17,
      "outputs": []
    },
    {
      "cell_type": "code",
      "source": [
        "print(a) # print를 잘 쓰자~"
      ],
      "metadata": {
        "colab": {
          "base_uri": "https://localhost:8080/"
        },
        "id": "_OetxBvqUFMf",
        "outputId": "3d83e5b1-48f2-48fd-ed63-d54588dc892a"
      },
      "execution_count": 18,
      "outputs": [
        {
          "output_type": "stream",
          "name": "stdout",
          "text": [
            "None\n"
          ]
        }
      ]
    }
  ]
}