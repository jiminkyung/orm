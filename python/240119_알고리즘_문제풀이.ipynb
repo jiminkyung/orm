{
  "nbformat": 4,
  "nbformat_minor": 0,
  "metadata": {
    "colab": {
      "provenance": [],
      "collapsed_sections": [
        "rk1cGda8SDae",
        "6Xqy9tj5yL1f"
      ],
      "authorship_tag": "ABX9TyOgkFVF8RE4HD7raW6mKas3",
      "include_colab_link": true
    },
    "kernelspec": {
      "name": "python3",
      "display_name": "Python 3"
    },
    "language_info": {
      "name": "python"
    }
  },
  "cells": [
    {
      "cell_type": "markdown",
      "metadata": {
        "id": "view-in-github",
        "colab_type": "text"
      },
      "source": [
        "<a href=\"https://colab.research.google.com/github/jiminkyung/orm/blob/main/python/240119_%EC%95%8C%EA%B3%A0%EB%A6%AC%EC%A6%98_%EB%AC%B8%EC%A0%9C%ED%92%80%EC%9D%B4.ipynb\" target=\"_parent\"><img src=\"https://colab.research.google.com/assets/colab-badge.svg\" alt=\"Open In Colab\"/></a>"
      ]
    },
    {
      "cell_type": "markdown",
      "source": [
        "### 어제(18일) 연습문제 강사님 답안"
      ],
      "metadata": {
        "id": "UIq1uRYGD4qZ"
      }
    },
    {
      "cell_type": "code",
      "source": [
        "# 풀이 1\n",
        "def solution(url):\n",
        "    return url.split('@')[0] + '@weniv.co.kr'\n",
        "\n",
        "solution('user@weniv.co.kr')"
      ],
      "metadata": {
        "id": "Gv-VFjl5E29s"
      },
      "execution_count": null,
      "outputs": []
    },
    {
      "cell_type": "markdown",
      "source": [
        "원래 문제 의도는 `user`에 각 이메일 아이디를 넣어 출력해주는거였다 ㅎㅎ"
      ],
      "metadata": {
        "id": "HFDATaEwFWNi"
      }
    },
    {
      "cell_type": "code",
      "source": [
        "# 변경된 문제의 해답 (원래 의도)\n",
        "import re\n",
        "\n",
        "def chagedomain(url):\n",
        "    return url.split('@')[0] + '@weniv.co.kr'\n",
        "\n",
        "# 콤마는 의도적으로 넣지 않은 것입니다.\n",
        "findpattern = re.findall(r\"[A-Za-z0-9._%+-]+@[A-Za-z0-9.-]+\\.[A-Z|a-z]{2,}\",\n",
        "                         \"저의 이메일 주소는 kim123@gmail.com입니다.\"\n",
        "                         \"친구의 이메일 주소는 lee456@gmail.com입니다.\")\n",
        "\n",
        "for url in findpattern:\n",
        "    print(chagedomain(url))"
      ],
      "metadata": {
        "colab": {
          "base_uri": "https://localhost:8080/"
        },
        "id": "neF7sYhwGmrf",
        "outputId": "7bd7e48c-0f3c-48fb-ef9c-e87adfc67431"
      },
      "execution_count": 1,
      "outputs": [
        {
          "output_type": "stream",
          "name": "stdout",
          "text": [
            "kim123@weniv.co.kr\n",
            "lee456@weniv.co.kr\n"
          ]
        }
      ]
    },
    {
      "cell_type": "code",
      "source": [
        "# 출제 했던 문제의 해답\n",
        "my_string = \"저의 이메일 주소는 kim123@gmail.com입니다. 친구의 이메일 주소는 lee456@gmail.com입니다.\"\n",
        "re.sub(r\"[A-Za-z0-9._%+-]+@[A-Za-z0-9.-]+\\.[A-Z|a-z]{2,}\", \"user@weniv.co.kr\", my_string)\n",
        "\n",
        "# 변경된 문제의 해답\n",
        "my_string = \"저의 이메일 주소는 kim123@gmail.com입니다. 친구의 이메일 주소는 lee456@gmail.com입니다.\"\n",
        "re.sub(r\"@[A-Za-z0-9.-]+\\.[A-Z|a-z]{2,}\", \"@weniv.co.kr\", my_string)"
      ],
      "metadata": {
        "id": "N40-KWHGGwSs"
      },
      "execution_count": null,
      "outputs": []
    },
    {
      "cell_type": "code",
      "source": [
        "import re # import와 코드는 보통 2칸\n",
        "\n",
        "\n",
        "def hello():\n",
        "    print('world')"
      ],
      "metadata": {
        "id": "kQeDN58lHeDU"
      },
      "execution_count": null,
      "outputs": []
    },
    {
      "cell_type": "markdown",
      "source": [
        "따옴표 세개`'''`앞에 f-string 쓸 수 있다;;  \n",
        "`f'''안녕'''`"
      ],
      "metadata": {
        "id": "cKsCjpmFJnG0"
      }
    },
    {
      "cell_type": "markdown",
      "source": [
        "# 기본 역량 문제풀이 20문제(프로그래머스 10 + pyalgo 10)"
      ],
      "metadata": {
        "id": "cdVnT8ryJtMj"
      }
    },
    {
      "cell_type": "code",
      "source": [
        "# 코딩 인터뷰 완전분석\n",
        "# 듣기\n",
        "# 예제\n",
        "# 무식하게 풀기\n",
        "# 최적화\n",
        "# 검토하기\n",
        "# 구현하기\n",
        "# 테스트"
      ],
      "metadata": {
        "id": "cmDgmb9LL3Gg"
      },
      "execution_count": 2,
      "outputs": []
    },
    {
      "cell_type": "markdown",
      "source": [
        "## 1번: 짝수/홀수 구하기\n",
        "https://school.programmers.co.kr/learn/courses/30/lessons/120824"
      ],
      "metadata": {
        "id": "rk1cGda8SDae"
      }
    },
    {
      "cell_type": "code",
      "source": [
        "def solution(data):\n",
        "    홀수 = [i % 2 != 0 for i in data]\n",
        "    짝수 = [i % 2 == 0 for i in data]\n",
        "    print(홀수, 짝수)\n",
        "    return data\n",
        "\n",
        "solution([1, 2, 3, 4, 5])"
      ],
      "metadata": {
        "colab": {
          "base_uri": "https://localhost:8080/"
        },
        "id": "iXN1Rd0dMXuZ",
        "outputId": "479055ce-e443-466b-d078-4e7f7d0e7268"
      },
      "execution_count": 3,
      "outputs": [
        {
          "output_type": "stream",
          "name": "stdout",
          "text": [
            "[True, False, True, False, True] [False, True, False, True, False]\n"
          ]
        },
        {
          "output_type": "execute_result",
          "data": {
            "text/plain": [
              "[1, 2, 3, 4, 5]"
            ]
          },
          "metadata": {},
          "execution_count": 3
        }
      ]
    },
    {
      "cell_type": "code",
      "source": [
        "# 홀수, 짝수 갯수 구해주기 => 마스킹!!!\n",
        "\n",
        "def solution(data):\n",
        "    홀수 = [i % 2 != 0 for i in data]\n",
        "    짝수 = [i % 2 == 0 for i in data]\n",
        "    return [sum(짝수), sum(홀수)]\n",
        "\n",
        "solution([1, 2, 3, 4, 5])"
      ],
      "metadata": {
        "colab": {
          "base_uri": "https://localhost:8080/"
        },
        "id": "6-QZb1nEMlXY",
        "outputId": "25fa99ea-5453-4ab2-d306-bdf60164329e"
      },
      "execution_count": 5,
      "outputs": [
        {
          "output_type": "execute_result",
          "data": {
            "text/plain": [
              "[2, 3]"
            ]
          },
          "metadata": {},
          "execution_count": 5
        }
      ]
    },
    {
      "cell_type": "code",
      "source": [
        "# 가장 쉬운 풀이\n",
        "def solution(data):\n",
        "    count = 0\n",
        "    for i in data:\n",
        "        if i % 2 == 0:\n",
        "            count += 1\n",
        "    return [count, len(data)-count]\n",
        "# 정답 제출할땐 solution() 빼줌"
      ],
      "metadata": {
        "id": "gj0CcXzYPwXL"
      },
      "execution_count": 7,
      "outputs": []
    },
    {
      "cell_type": "code",
      "source": [
        "# 간지나는 코드 ㄷㄷ\n",
        "def solution(num_list):\n",
        "    answer = [0, 0]\n",
        "    for i in num_list:\n",
        "        answer[i % 2] += 1\n",
        "    return answer"
      ],
      "metadata": {
        "id": "Us1GYchdQRjk"
      },
      "execution_count": 8,
      "outputs": []
    },
    {
      "cell_type": "code",
      "source": [
        "# 좋은 풀이는 아닙니다.\n",
        "# data의 가변 최대치를 봅니다.\n",
        "def solution(data):\n",
        "    짝수 = [i % 2 == 0 for i in data]\n",
        "    return [sum(짝수), len(data) - sum(짝수)] # sum이 순회합니다."
      ],
      "metadata": {
        "id": "6gIbWUktRlCw"
      },
      "execution_count": 9,
      "outputs": []
    },
    {
      "cell_type": "code",
      "source": [
        "def solution(data):\n",
        "    짝수 = [i % 2 == 0 for i in data]\n",
        "    갯수 = sum(짝수)\n",
        "    return [갯수, len(data) - 갯수]\n",
        "    # 몇초간의 성능 차이 중요함"
      ],
      "metadata": {
        "id": "3-blVySTRlqo"
      },
      "execution_count": 10,
      "outputs": []
    },
    {
      "cell_type": "markdown",
      "source": [
        "## 2번: 머쓱이보다 키큰사람\n",
        "https://school.programmers.co.kr/learn/courses/30/lessons/120585"
      ],
      "metadata": {
        "id": "KlymGL-yR8S1"
      }
    },
    {
      "cell_type": "code",
      "source": [
        "# 이렇게 언패킹 해서 사용할 수 있는 것들은 언패킹 해주세요.\n",
        "# 가독성이 좋아집니다!\n",
        "def solution(data):\n",
        "    array, height = data\n",
        "    pass\n",
        "\n",
        "solution([[149, 180, 192, 170], 167])"
      ],
      "metadata": {
        "id": "Ixuo6_VSSNtN"
      },
      "execution_count": 11,
      "outputs": []
    },
    {
      "cell_type": "code",
      "source": [
        "# 정답이지만 가독성이 떨어진다. filter를 사용해보자.\n",
        "def solution(array, height):\n",
        "    count = 0\n",
        "    for i in array:\n",
        "        if i > height:\n",
        "            count += 1\n",
        "    return count\n",
        "\n",
        "solution([149, 180, 192, 170], 167)"
      ],
      "metadata": {
        "colab": {
          "base_uri": "https://localhost:8080/"
        },
        "id": "7xqnB2YwTMLU",
        "outputId": "fa26bf11-5f22-4e55-e79b-7904ae0aa501"
      },
      "execution_count": 13,
      "outputs": [
        {
          "output_type": "execute_result",
          "data": {
            "text/plain": [
              "3"
            ]
          },
          "metadata": {},
          "execution_count": 13
        }
      ]
    },
    {
      "cell_type": "code",
      "source": [
        "def solution(array, height):\n",
        "    print(list(filter(lambda x: x > height, array)))\n",
        "    return\n",
        "\n",
        "solution([149, 180, 192, 170], 167)"
      ],
      "metadata": {
        "colab": {
          "base_uri": "https://localhost:8080/"
        },
        "id": "7F2_R5oFTaSd",
        "outputId": "28f411ba-bb01-46b6-ca80-0af5f5a5bd44"
      },
      "execution_count": 14,
      "outputs": [
        {
          "output_type": "stream",
          "name": "stdout",
          "text": [
            "[180, 192, 170]\n"
          ]
        }
      ]
    },
    {
      "cell_type": "code",
      "source": [
        "# 이렇게 하고싶겠지만, filter는 len가 없다! => list를 추가해줘야함\n",
        "\n",
        "def solution(array, height):\n",
        "    # return len(filter(lambda x: x > height, array)) # error\n",
        "    return len(list(filter(lambda x:x>height, array)))\n",
        "\n",
        "solution([149, 180, 192, 170], 167)\n",
        "\n",
        "# 왜? filter에는 len가 없나요?\n",
        "# filter는 순회 돌기 전까지 실행이 되지 않은 함수\n",
        "# for와 같이 순회를 돌아야 그때서야 각 원소별로 접근해서\n",
        "# 주문만 하고 아직 제조되지 않은 커피\n",
        "# 커피를 달라고 소리쳐야(순회/형변환) 그때야 제조가 됩니다."
      ],
      "metadata": {
        "colab": {
          "base_uri": "https://localhost:8080/"
        },
        "id": "EslaGE67T1Wh",
        "outputId": "e37fb2fc-642f-414f-f3f3-55c022e21288"
      },
      "execution_count": 19,
      "outputs": [
        {
          "output_type": "execute_result",
          "data": {
            "text/plain": [
              "3"
            ]
          },
          "metadata": {},
          "execution_count": 19
        }
      ]
    },
    {
      "cell_type": "code",
      "source": [
        "def solution(array, height):\n",
        "    return sum(map(lambda x: x> height, array))\n",
        "\n",
        "solution([149, 180, 192, 170], 167)\n",
        "# list 형변환보다 sum이 좀 더 부하가 덜 합니다."
      ],
      "metadata": {
        "colab": {
          "base_uri": "https://localhost:8080/"
        },
        "id": "2chMjJ2bULe-",
        "outputId": "25d5a007-50a8-420c-be12-03c265a76786"
      },
      "execution_count": 20,
      "outputs": [
        {
          "output_type": "execute_result",
          "data": {
            "text/plain": [
              "3"
            ]
          },
          "metadata": {},
          "execution_count": 20
        }
      ]
    },
    {
      "cell_type": "code",
      "source": [
        "# 리스트 컴프리헨션 사용\n",
        "# n번 돌아야하는 순회인건 같음\n",
        "\n",
        "# 리스트 컴프리헨션 쓰는것보다 map이나 filter를 쓰는게\n",
        "# 나중에 읽기엔 가독성이 더 좋다~!\n",
        "\n",
        "def solution(array, height):\n",
        "    return sum([i > height for i in array])\n",
        "\n",
        "solution([149, 180, 192, 170], 167)"
      ],
      "metadata": {
        "colab": {
          "base_uri": "https://localhost:8080/"
        },
        "id": "_Ka04vYbVAx0",
        "outputId": "19e85565-2711-472b-8ef5-b62f0d11b6fc"
      },
      "execution_count": 21,
      "outputs": [
        {
          "output_type": "execute_result",
          "data": {
            "text/plain": [
              "3"
            ]
          },
          "metadata": {},
          "execution_count": 21
        }
      ]
    },
    {
      "cell_type": "code",
      "source": [
        "def solution(array, height):\n",
        "    return sum(i > height for i in array)\n",
        "\n",
        "solution([149, 180, 192, 170], 167)"
      ],
      "metadata": {
        "colab": {
          "base_uri": "https://localhost:8080/"
        },
        "id": "ykvl64OzVb6f",
        "outputId": "e7884735-a7ca-4cfd-d40b-c4042286b80f"
      },
      "execution_count": 22,
      "outputs": [
        {
          "output_type": "execute_result",
          "data": {
            "text/plain": [
              "3"
            ]
          },
          "metadata": {},
          "execution_count": 22
        }
      ]
    },
    {
      "cell_type": "markdown",
      "source": [
        "## 3번: 숨어있는 숫자의 덧셈\n",
        "https://school.programmers.co.kr/learn/courses/30/lessons/120851"
      ],
      "metadata": {
        "id": "7Tyg3BU5VgxE"
      }
    },
    {
      "cell_type": "code",
      "source": [
        "# 오답, 그러나 이렇게도 많이 사용합니다.\n",
        "def solution(my_string):\n",
        "    count = 0\n",
        "    for i in my_string:\n",
        "        if i.isdigit():\n",
        "            count += 1\n",
        "\n",
        "solution(\"aAb1B2cC34oOp\")"
      ],
      "metadata": {
        "id": "iDB8om21WuPi"
      },
      "execution_count": null,
      "outputs": []
    },
    {
      "cell_type": "code",
      "source": [
        "def solution(my_string):\n",
        "    result = 0\n",
        "    for i in my_string:\n",
        "        if i.isdigit():\n",
        "            result += int(i)\n",
        "\n",
        "    return result\n",
        "\n",
        "solution(\"aAb1B2cC34oOp\")"
      ],
      "metadata": {
        "colab": {
          "base_uri": "https://localhost:8080/"
        },
        "id": "RZ2wXzCdV8yV",
        "outputId": "09cc635d-4e05-4a4a-9509-8b7aa9584f11"
      },
      "execution_count": 24,
      "outputs": [
        {
          "output_type": "execute_result",
          "data": {
            "text/plain": [
              "10"
            ]
          },
          "metadata": {},
          "execution_count": 24
        }
      ]
    },
    {
      "cell_type": "code",
      "source": [
        "# 효율적이진 않지만, 문법 복습차원에서\n",
        "def solution(my_string):\n",
        "    return list(filter(lambda x: x.isdigit(), list(my_string)))\n",
        "\n",
        "solution(\"aAb1B2cC34oOp\")"
      ],
      "metadata": {
        "colab": {
          "base_uri": "https://localhost:8080/"
        },
        "id": "JnQTIYTfWwNJ",
        "outputId": "9c043466-988c-4326-d0bd-5208693f92a7"
      },
      "execution_count": 26,
      "outputs": [
        {
          "output_type": "execute_result",
          "data": {
            "text/plain": [
              "['1', '2', '3', '4']"
            ]
          },
          "metadata": {},
          "execution_count": 26
        }
      ]
    },
    {
      "cell_type": "code",
      "source": [
        "def solution(my_string):\n",
        "    return list(filter(str.isdigit, list(my_string)))\n",
        "    # str에 isdigit으로 바로 뽑을수도 있다.\n",
        "\n",
        "solution(\"aAb1B2cC34oOp\")"
      ],
      "metadata": {
        "colab": {
          "base_uri": "https://localhost:8080/"
        },
        "id": "RE1vq8W4XKLV",
        "outputId": "944b3051-b639-47be-f7d0-d89c5263f326"
      },
      "execution_count": 28,
      "outputs": [
        {
          "output_type": "execute_result",
          "data": {
            "text/plain": [
              "['1', '2', '3', '4']"
            ]
          },
          "metadata": {},
          "execution_count": 28
        }
      ]
    },
    {
      "cell_type": "code",
      "source": [
        "def solution(my_string):\n",
        "    return list(filter(str.isdigit, my_string))\n",
        "    # 굳이 list로 형변환해주지 않아도 된다.\n",
        "\n",
        "solution(\"aAb1B2cC34oOp\")"
      ],
      "metadata": {
        "colab": {
          "base_uri": "https://localhost:8080/"
        },
        "id": "RPETTSAxXSek",
        "outputId": "f5c682e8-e02f-4a7a-ef7a-d1b09b5ff107"
      },
      "execution_count": 31,
      "outputs": [
        {
          "output_type": "execute_result",
          "data": {
            "text/plain": [
              "['1', '2', '3', '4']"
            ]
          },
          "metadata": {},
          "execution_count": 31
        }
      ]
    },
    {
      "cell_type": "code",
      "source": [
        "# isdigit에 ()가 있고 없고의 차이는 무엇인가요?\n",
        "# str.isdigit은 string 클래스에서 제공해주고 있는 함수다.\n",
        "# isdigit()과는 다르다. 직접 전달해준다.\n",
        "def 함수(x):\n",
        "    return x.isdigit()\n",
        "\n",
        "def solution(my_string):\n",
        "    return list(filter(함수, my_string))\n",
        "\n",
        "solution(\"aAb1B2cC34oOp\")"
      ],
      "metadata": {
        "colab": {
          "base_uri": "https://localhost:8080/"
        },
        "id": "Zjnctt-PXf-B",
        "outputId": "64fae5fc-21bc-4acf-e64a-cc57f2ac565d"
      },
      "execution_count": 32,
      "outputs": [
        {
          "output_type": "execute_result",
          "data": {
            "text/plain": [
              "['1', '2', '3', '4']"
            ]
          },
          "metadata": {},
          "execution_count": 32
        }
      ]
    },
    {
      "cell_type": "code",
      "source": [
        "# 효율적이진 않지만, 문법 복습차원에서\n",
        "def solution(my_string):\n",
        "    return sum(map(int,(filter(str.isdigit, my_string))))\n",
        "\n",
        "solution(\"aAb1B2cC34oOp\")"
      ],
      "metadata": {
        "colab": {
          "base_uri": "https://localhost:8080/"
        },
        "id": "_9kGgqzhYVNo",
        "outputId": "e00321db-9d09-4ad5-8219-ff04f2907952"
      },
      "execution_count": 33,
      "outputs": [
        {
          "output_type": "execute_result",
          "data": {
            "text/plain": [
              "10"
            ]
          },
          "metadata": {},
          "execution_count": 33
        }
      ]
    },
    {
      "cell_type": "code",
      "source": [
        "# 효율적이진 않지만, 문법 복습차원에서\n",
        "# 어쨌든 한번에 했죠?\n",
        "def solution(my_string):\n",
        "    return sum(map(lambda x: int(x) if x.isdigit() else False, my_string))\n",
        "\n",
        "solution(\"aAb1B2cC34oOp\")"
      ],
      "metadata": {
        "colab": {
          "base_uri": "https://localhost:8080/"
        },
        "id": "Ipuw85TtYpND",
        "outputId": "8fd07bf1-4db3-4a5e-bfca-4504049af0e3"
      },
      "execution_count": 34,
      "outputs": [
        {
          "output_type": "execute_result",
          "data": {
            "text/plain": [
              "10"
            ]
          },
          "metadata": {},
          "execution_count": 34
        }
      ]
    },
    {
      "cell_type": "code",
      "source": [
        "# r은 raw 날것의 라는 뜻이 있어요.\n",
        "# 실무에서 자주쓰는 용어입니다. raw != low(이 용어는 자주 사용하지 않습니다.)\n",
        "# raw data를 전달해줘 => 가공하지 않은 순수 데이터를 달라는 얘기입니다.\n",
        "\n",
        "r'hello\\nworld' # \\n 이스케이프 문자입니다.\n",
        "print('r없을때', 'hello\\nworld')\n",
        "print('r있을때', r'hello\\nworld')\n",
        "# 왜요? 정규표현식에서 이스케이프 문자를 많이 사용하니까요!"
      ],
      "metadata": {
        "colab": {
          "base_uri": "https://localhost:8080/"
        },
        "id": "4nHKh7y8ZYvV",
        "outputId": "fd0f504e-03ad-41a1-c23e-5d4078ae03e6"
      },
      "execution_count": 38,
      "outputs": [
        {
          "output_type": "stream",
          "name": "stdout",
          "text": [
            "r없을때 hello\n",
            "world\n",
            "r있을때 hello\\nworld\n"
          ]
        }
      ]
    },
    {
      "cell_type": "code",
      "source": [
        "import re\n",
        "\n",
        "re.findall(r'[0-9]', \"aAb1B2cC34oOp\")"
      ],
      "metadata": {
        "colab": {
          "base_uri": "https://localhost:8080/"
        },
        "id": "izmtxlrpZKi8",
        "outputId": "9afad025-b173-4b63-ddad-aafc669b18b5"
      },
      "execution_count": 39,
      "outputs": [
        {
          "output_type": "execute_result",
          "data": {
            "text/plain": [
              "['1', '2', '3', '4']"
            ]
          },
          "metadata": {},
          "execution_count": 39
        }
      ]
    },
    {
      "cell_type": "markdown",
      "source": [
        "코딩 == 악기연습  \n",
        "이론공부만 하지 말고 훈련을 많이 하자 ㅎㅎ"
      ],
      "metadata": {
        "id": "B9jDxtdaceoT"
      }
    },
    {
      "cell_type": "code",
      "source": [
        "import re\n",
        "\n",
        "\n",
        "def solution(s):\n",
        "    return sum(map(int, re.findall(r'[0-9]', s)))\n",
        "\n",
        "solution(\"aAb1B2cC34oOp\")"
      ],
      "metadata": {
        "colab": {
          "base_uri": "https://localhost:8080/"
        },
        "id": "B_VUG9wpdPDp",
        "outputId": "b33a0d70-219d-4826-9638-74f2f68143ba"
      },
      "execution_count": 40,
      "outputs": [
        {
          "output_type": "execute_result",
          "data": {
            "text/plain": [
              "10"
            ]
          },
          "metadata": {},
          "execution_count": 40
        }
      ]
    },
    {
      "cell_type": "code",
      "source": [
        "import re\n",
        "\n",
        "\n",
        "def solution(s):\n",
        "    return sum(map(int, (re.sub(r'[a-zA-Z]','',s))))\n",
        "\n",
        "solution(\"aAb1B2cC34oOp\")"
      ],
      "metadata": {
        "colab": {
          "base_uri": "https://localhost:8080/"
        },
        "id": "zWAEl310dmGu",
        "outputId": "00924a12-da5d-44d2-f30a-69a3a2b5de2a"
      },
      "execution_count": 43,
      "outputs": [
        {
          "output_type": "execute_result",
          "data": {
            "text/plain": [
              "10"
            ]
          },
          "metadata": {},
          "execution_count": 43
        }
      ]
    },
    {
      "cell_type": "markdown",
      "source": [
        "## 4번: 암호 해독\n",
        "https://school.programmers.co.kr/learn/courses/30/lessons/120892"
      ],
      "metadata": {
        "id": "2yMv03BBd-dV"
      }
    },
    {
      "cell_type": "code",
      "source": [
        "def solution(cipher, code):\n",
        "    return cipher[code-1::code]\n",
        "\n",
        "solution(\"dfjardstddetckdaccccdegk\", 4)"
      ],
      "metadata": {
        "colab": {
          "base_uri": "https://localhost:8080/",
          "height": 36
        },
        "id": "bR2LApOceiz2",
        "outputId": "34900cd5-7279-4db5-f167-d3682b17f46e"
      },
      "execution_count": 44,
      "outputs": [
        {
          "output_type": "execute_result",
          "data": {
            "text/plain": [
              "'attack'"
            ],
            "application/vnd.google.colaboratory.intrinsic+json": {
              "type": "string"
            }
          },
          "metadata": {},
          "execution_count": 44
        }
      ]
    },
    {
      "cell_type": "code",
      "source": [
        "def solution(cipher, code):\n",
        "    count = 1\n",
        "    for i in cipher:\n",
        "        if count == code:\n",
        "            print(i)\n",
        "            count = 0\n",
        "        count += 1\n",
        "\n",
        "solution(\"dfjardstddetckdaccccdegk\", 4)"
      ],
      "metadata": {
        "colab": {
          "base_uri": "https://localhost:8080/"
        },
        "id": "5Y9X28AMfJSc",
        "outputId": "0667ba25-faa0-4c27-941b-93abf29bf847"
      },
      "execution_count": 45,
      "outputs": [
        {
          "output_type": "stream",
          "name": "stdout",
          "text": [
            "a\n",
            "t\n",
            "t\n",
            "a\n",
            "c\n",
            "k\n"
          ]
        }
      ]
    },
    {
      "cell_type": "code",
      "source": [
        "def solution(cipher, code):\n",
        "    count = 1\n",
        "    for i, j in enumerate(cipher, 1):\n",
        "        if i % code == 0:\n",
        "            print(j)\n",
        "\n",
        "solution(\"dfjardstddetckdaccccdegk\", 4)"
      ],
      "metadata": {
        "colab": {
          "base_uri": "https://localhost:8080/"
        },
        "id": "JFpiSsJXf6x8",
        "outputId": "9f2e30f7-f8e0-452b-8fda-deb55486c453"
      },
      "execution_count": 46,
      "outputs": [
        {
          "output_type": "stream",
          "name": "stdout",
          "text": [
            "a\n",
            "t\n",
            "t\n",
            "a\n",
            "c\n",
            "k\n"
          ]
        }
      ]
    },
    {
      "cell_type": "code",
      "source": [
        "# 3 7 11 15\n",
        "# 머리아픈 코드\n",
        "# 이런 풀이는 권하지 않습니다.\n",
        "def solution(cipher, code):\n",
        "    result = ''\n",
        "    for i in range(1, len(cipher) // code + 1):\n",
        "        result += cipher[i * code - 1]\n",
        "    return result\n",
        "\n",
        "solution(\"dfjardstddetckdaccccdegk\", 4)"
      ],
      "metadata": {
        "colab": {
          "base_uri": "https://localhost:8080/",
          "height": 36
        },
        "id": "pfI7B3L8g1AT",
        "outputId": "6538d429-b732-4d75-e1d6-4bda17214a88"
      },
      "execution_count": 50,
      "outputs": [
        {
          "output_type": "execute_result",
          "data": {
            "text/plain": [
              "'attack'"
            ],
            "application/vnd.google.colaboratory.intrinsic+json": {
              "type": "string"
            }
          },
          "metadata": {},
          "execution_count": 50
        }
      ]
    },
    {
      "cell_type": "code",
      "source": [
        "s = 0\n",
        "for i in range(1, 101):\n",
        "    s += i\n",
        "print(s)\n",
        "\n",
        "# 이건 그냥 수학적인 지식을 자랑하는...\n",
        "# 별로입니다.\n",
        "n = 100\n",
        "s = n * (n + 1) // 2\n",
        "print(s)"
      ],
      "metadata": {
        "colab": {
          "base_uri": "https://localhost:8080/"
        },
        "id": "srm8jDtshjPg",
        "outputId": "97a62f52-e2a8-42b0-e06e-8245c478980e"
      },
      "execution_count": 52,
      "outputs": [
        {
          "output_type": "stream",
          "name": "stdout",
          "text": [
            "5050\n",
            "5050\n"
          ]
        }
      ]
    },
    {
      "cell_type": "markdown",
      "source": [
        "## 5번: 369게임\n",
        "https://school.programmers.co.kr/learn/courses/30/lessons/120891"
      ],
      "metadata": {
        "id": "kuS-hIf7iZD0"
      }
    },
    {
      "cell_type": "code",
      "source": [
        "def solution(order):\n",
        "    order = str(order)\n",
        "    return order.count('3') + order.count('6') + order.count('9')\n",
        "\n",
        "solution('29423')"
      ],
      "metadata": {
        "colab": {
          "base_uri": "https://localhost:8080/"
        },
        "id": "Lanx1i2fjHNm",
        "outputId": "aa6dc25f-ef00-4c6c-df8f-a3789a0290d8"
      },
      "execution_count": 55,
      "outputs": [
        {
          "output_type": "execute_result",
          "data": {
            "text/plain": [
              "2"
            ]
          },
          "metadata": {},
          "execution_count": 55
        }
      ]
    },
    {
      "cell_type": "code",
      "source": [
        "import re\n",
        "\n",
        "def solution(order):\n",
        "    order = str(order)\n",
        "    return len(list(re.findall(r'[369]', order)))"
      ],
      "metadata": {
        "id": "EMRoJl3Ajhuu"
      },
      "execution_count": 56,
      "outputs": []
    },
    {
      "cell_type": "markdown",
      "source": [
        "## 6번: 중복문자 제거\n",
        "https://school.programmers.co.kr/learn/courses/30/lessons/120888"
      ],
      "metadata": {
        "id": "SLOdUglbkDxz"
      }
    },
    {
      "cell_type": "code",
      "source": [
        "set(\"people\") # 중복 제거 완료, 그러나 순서를 보장하지 않음!"
      ],
      "metadata": {
        "colab": {
          "base_uri": "https://localhost:8080/"
        },
        "id": "en9-F9G6kifQ",
        "outputId": "bf840136-c050-4793-993c-d56067ab5623"
      },
      "execution_count": 57,
      "outputs": [
        {
          "output_type": "execute_result",
          "data": {
            "text/plain": [
              "{'e', 'l', 'o', 'p'}"
            ]
          },
          "metadata": {},
          "execution_count": 57
        }
      ]
    },
    {
      "cell_type": "code",
      "source": [
        "def solution(s):\n",
        "    answer = ''\n",
        "    for i in s:\n",
        "        if i not in answer:\n",
        "            answer += i\n",
        "    return answer\n",
        "\n",
        "solution('people')"
      ],
      "metadata": {
        "colab": {
          "base_uri": "https://localhost:8080/",
          "height": 36
        },
        "id": "5NeTThD0k7Wr",
        "outputId": "5b9913ec-754d-4fbb-e703-5f25f807445a"
      },
      "execution_count": 60,
      "outputs": [
        {
          "output_type": "execute_result",
          "data": {
            "text/plain": [
              "'peol'"
            ],
            "application/vnd.google.colaboratory.intrinsic+json": {
              "type": "string"
            }
          },
          "metadata": {},
          "execution_count": 60
        }
      ]
    },
    {
      "cell_type": "code",
      "source": [
        "# 참 멋진 풀이지만 주니어에겐 어렵다\n",
        "# 딕셔너리는 키의 중복이 안된다는 점을 이용! dict는 3.6부터 순서를 보장한다.\n",
        "def solution(my_string):\n",
        "    return ''.join(dict.fromkeys(my_string))\n",
        "\n",
        "solution('people')"
      ],
      "metadata": {
        "colab": {
          "base_uri": "https://localhost:8080/",
          "height": 36
        },
        "id": "8ovOjrJililr",
        "outputId": "959c5aeb-05b9-4b21-d288-9ea94017f44b"
      },
      "execution_count": 61,
      "outputs": [
        {
          "output_type": "execute_result",
          "data": {
            "text/plain": [
              "'peol'"
            ],
            "application/vnd.google.colaboratory.intrinsic+json": {
              "type": "string"
            }
          },
          "metadata": {},
          "execution_count": 61
        }
      ]
    },
    {
      "cell_type": "markdown",
      "source": [
        "## 7번: A로 B 만들기\n",
        "https://school.programmers.co.kr/learn/courses/30/lessons/120886"
      ],
      "metadata": {
        "id": "s2m2l-BWmMFq"
      }
    },
    {
      "cell_type": "code",
      "source": [
        "import re\n",
        "\n",
        "def solution(before, after):\n",
        "    for i in before:\n",
        "        if i in before and i\n",
        "    print(s)\n",
        "\n",
        "solution(\"apple\", \"aplle\")"
      ],
      "metadata": {
        "colab": {
          "base_uri": "https://localhost:8080/"
        },
        "id": "6WNsa5zPnB6q",
        "outputId": "28b64d91-f6fb-4c2a-b28b-15571806f244"
      },
      "execution_count": 70,
      "outputs": [
        {
          "output_type": "stream",
          "name": "stdout",
          "text": [
            "['a', 'p', 'p', 'l', 'e']\n"
          ]
        }
      ]
    },
    {
      "cell_type": "code",
      "source": [
        "# 간단한 답안~... 난 못풀었다.\n",
        "def solution(before, after):\n",
        "    if len(before) != len(after): # 예외 처리는 앞에서 반드시 해주어야 합니다. 특히나 요소가 없거나 길이가 0인경우.\n",
        "        return 0\n",
        "    return 1 if sorted(before) == sorted(after) else 0\n",
        "\n",
        "solution(\"apple\", \"aplle\")"
      ],
      "metadata": {
        "colab": {
          "base_uri": "https://localhost:8080/"
        },
        "id": "UdVOJUj7rXPq",
        "outputId": "82c718fc-69ff-4056-f59b-76f693860660"
      },
      "execution_count": 74,
      "outputs": [
        {
          "output_type": "execute_result",
          "data": {
            "text/plain": [
              "0"
            ]
          },
          "metadata": {},
          "execution_count": 74
        }
      ]
    },
    {
      "cell_type": "code",
      "source": [
        "# 안배운거니까 Keep\n",
        "import collections\n",
        "\n",
        "# collections.Counter(\"olleh\") == collections.Counter(\"hello\")\n",
        "# collections.Counter(\"olleh\") == collections.Counter(\"hhhhhhhhhello\")\n",
        "collections.Counter(\"olleh\")"
      ],
      "metadata": {
        "colab": {
          "base_uri": "https://localhost:8080/"
        },
        "id": "gTiaoz5EvKKr",
        "outputId": "13274361-3418-4f22-af65-c5f774e1c2ee"
      },
      "execution_count": 78,
      "outputs": [
        {
          "output_type": "execute_result",
          "data": {
            "text/plain": [
              "Counter({'o': 1, 'l': 2, 'e': 1, 'h': 1})"
            ]
          },
          "metadata": {},
          "execution_count": 78
        }
      ]
    },
    {
      "cell_type": "code",
      "source": [
        "collections.Counter(\"olleh\") == collections.Counter(\"hhhhhhhhhello\")"
      ],
      "metadata": {
        "colab": {
          "base_uri": "https://localhost:8080/"
        },
        "id": "U6eWuxijwh7v",
        "outputId": "ce73b3a1-2f82-43f6-996e-4d65ba62dab7"
      },
      "execution_count": 79,
      "outputs": [
        {
          "output_type": "execute_result",
          "data": {
            "text/plain": [
              "False"
            ]
          },
          "metadata": {},
          "execution_count": 79
        }
      ]
    },
    {
      "cell_type": "markdown",
      "source": [
        "`collections` 알아두면 엄청 편함"
      ],
      "metadata": {
        "id": "cKd776a9wjkL"
      }
    },
    {
      "cell_type": "code",
      "source": [
        "def solution(before, after):\n",
        "    a = list(after)\n",
        "    for i in before:\n",
        "        if i in a:\n",
        "            a.remove(i)\n",
        "        else:\n",
        "            return 0\n",
        "    if a: # 이 if문 없어도 통과 되지만 찝찝하니까 놔두자.\n",
        "        return 0\n",
        "    return 1\n",
        "\n",
        "solution(\"olleh\", \"hello\")"
      ],
      "metadata": {
        "colab": {
          "base_uri": "https://localhost:8080/"
        },
        "id": "S--IV_sLwQXF",
        "outputId": "91a63845-9a3c-473e-84e7-63a56c60ade9"
      },
      "execution_count": 80,
      "outputs": [
        {
          "output_type": "execute_result",
          "data": {
            "text/plain": [
              "1"
            ]
          },
          "metadata": {},
          "execution_count": 80
        }
      ]
    },
    {
      "cell_type": "code",
      "source": [
        "# 회문\n",
        "\n",
        "# 'hello' => 'elloh' => 'llohe'\n",
        "# 'hello' => 'ohell' => 'lohel'\n",
        "# collections.deque를 사용해서 풀면 쉽게 풀립니다.\n",
        "\n",
        "# 더 쉬운방법은 그냥 더해버리기.\n",
        "# 문제1 'hello'를 앞뒤로 이동시켜 'llohe'를 만들 수 있나요?\n",
        "# 'hellohello'\n",
        "\n",
        "# 문제2 몇칸 이동했나요?\n",
        "# 'hellohello'.index('llohe')"
      ],
      "metadata": {
        "id": "YgCOQOYhxXS3"
      },
      "execution_count": 82,
      "outputs": []
    },
    {
      "cell_type": "markdown",
      "source": [
        "## 8번: 저주의 숫자 3 (좋은문제!)\n",
        "https://school.programmers.co.kr/learn/courses/30/lessons/120871"
      ],
      "metadata": {
        "id": "6Xqy9tj5yL1f"
      }
    },
    {
      "cell_type": "code",
      "source": [
        "# 십진수    3숫자마을\n",
        "# 1         1\n",
        "# 2         2\n",
        "# 3         4\n",
        "# 4         5\n",
        "# 5         7\n",
        "# 6         8\n",
        "# 7         10\n",
        "# 8         11\n",
        "# 9         14\n",
        "# 10        16"
      ],
      "metadata": {
        "id": "wwEeGMdty1ro"
      },
      "execution_count": 83,
      "outputs": []
    },
    {
      "cell_type": "code",
      "source": [
        "# [True, True, False]..."
      ],
      "metadata": {
        "id": "2gwgSxTC0gxx"
      },
      "execution_count": 84,
      "outputs": []
    },
    {
      "cell_type": "code",
      "source": [
        "# filter('3이 들어간 숫자 없애기', filter('3의 배수 없애기', [1, 2, 3, 4, 5, 6, 7, 8, 9, 10]))"
      ],
      "metadata": {
        "id": "lmknk_it0iVw"
      },
      "execution_count": 85,
      "outputs": []
    },
    {
      "cell_type": "code",
      "source": [
        "list(filter(lambda x: (x % 3 != 0) and ('3' not in str(x)), range(100)))[15-1]"
      ],
      "metadata": {
        "colab": {
          "base_uri": "https://localhost:8080/"
        },
        "id": "_9LXTpWW0j19",
        "outputId": "a2e55f0f-0f56-4074-d7c8-298eb4e2eb80"
      },
      "execution_count": 86,
      "outputs": [
        {
          "output_type": "execute_result",
          "data": {
            "text/plain": [
              "25"
            ]
          },
          "metadata": {},
          "execution_count": 86
        }
      ]
    },
    {
      "cell_type": "code",
      "source": [
        "# 이거 오답처리됨! 숫자를 충분히 생성해주지 못함.\n",
        "# 저주의 숫자가 100개 생성되어야 함. range(1000) 정도로 해주자.\n",
        "def solution(num):\n",
        "    return list(filter(lambda x: (x % 3 != 0) and ('3' not in str(x)), range(100)))[num-1]\n",
        "\n",
        "solution(15)"
      ],
      "metadata": {
        "colab": {
          "base_uri": "https://localhost:8080/"
        },
        "id": "MGMrTD0j0ntB",
        "outputId": "92502b9e-60b3-4077-9784-98afa5ef8a8e"
      },
      "execution_count": 91,
      "outputs": [
        {
          "output_type": "execute_result",
          "data": {
            "text/plain": [
              "25"
            ]
          },
          "metadata": {},
          "execution_count": 91
        }
      ]
    },
    {
      "cell_type": "code",
      "source": [
        "def solution(num):\n",
        "    return list(filter(lambda x: (x % 3 != 0) and ('3' not in str(x)), range(1000)))[num-1]\n",
        "\n",
        "solution(15)"
      ],
      "metadata": {
        "colab": {
          "base_uri": "https://localhost:8080/"
        },
        "id": "XQ3qBhzI0pxh",
        "outputId": "05165e02-d1b6-4abc-8f1b-b07eaeffaea6"
      },
      "execution_count": 88,
      "outputs": [
        {
          "output_type": "execute_result",
          "data": {
            "text/plain": [
              "25"
            ]
          },
          "metadata": {},
          "execution_count": 88
        }
      ]
    },
    {
      "cell_type": "code",
      "source": [
        "solution = lambda n:[i for i in range(10000) if i % 3 != 0 and '3' not in str(i)][n-1]"
      ],
      "metadata": {
        "id": "cBLeN8ZI1Xlh"
      },
      "execution_count": 90,
      "outputs": []
    },
    {
      "cell_type": "code",
      "source": [
        "def solution(num):\n",
        "    l = []\n",
        "    for i in range(1000):\n",
        "        if i % 3 != 0:\n",
        "            l.append(i)\n",
        "        elif '3' not in str(i):\n",
        "            l.append(i)\n",
        "    print(l)\n",
        "\n",
        "solution(15)"
      ],
      "metadata": {
        "colab": {
          "base_uri": "https://localhost:8080/"
        },
        "id": "D-KrzLlS1kAJ",
        "outputId": "0f33d1a3-3d1e-414b-91df-114120a7e943"
      },
      "execution_count": 93,
      "outputs": [
        {
          "output_type": "stream",
          "name": "stdout",
          "text": [
            "[0, 1, 2, 4, 5, 6, 7, 8, 9, 10, 11, 12, 13, 14, 15, 16, 17, 18, 19, 20, 21, 22, 23, 24, 25, 26, 27, 28, 29, 31, 32, 34, 35, 37, 38, 40, 41, 42, 43, 44, 45, 46, 47, 48, 49, 50, 51, 52, 53, 54, 55, 56, 57, 58, 59, 60, 61, 62, 64, 65, 66, 67, 68, 69, 70, 71, 72, 73, 74, 75, 76, 77, 78, 79, 80, 81, 82, 83, 84, 85, 86, 87, 88, 89, 90, 91, 92, 94, 95, 96, 97, 98, 99, 100, 101, 102, 103, 104, 105, 106, 107, 108, 109, 110, 111, 112, 113, 114, 115, 116, 117, 118, 119, 120, 121, 122, 124, 125, 126, 127, 128, 129, 130, 131, 133, 134, 136, 137, 139, 140, 141, 142, 143, 144, 145, 146, 147, 148, 149, 150, 151, 152, 154, 155, 156, 157, 158, 159, 160, 161, 162, 163, 164, 165, 166, 167, 168, 169, 170, 171, 172, 173, 174, 175, 176, 177, 178, 179, 180, 181, 182, 184, 185, 186, 187, 188, 189, 190, 191, 192, 193, 194, 195, 196, 197, 198, 199, 200, 201, 202, 203, 204, 205, 206, 207, 208, 209, 210, 211, 212, 214, 215, 216, 217, 218, 219, 220, 221, 222, 223, 224, 225, 226, 227, 228, 229, 230, 232, 233, 235, 236, 238, 239, 240, 241, 242, 244, 245, 246, 247, 248, 249, 250, 251, 252, 253, 254, 255, 256, 257, 258, 259, 260, 261, 262, 263, 264, 265, 266, 267, 268, 269, 270, 271, 272, 274, 275, 276, 277, 278, 279, 280, 281, 282, 283, 284, 285, 286, 287, 288, 289, 290, 291, 292, 293, 294, 295, 296, 297, 298, 299, 301, 302, 304, 305, 307, 308, 310, 311, 313, 314, 316, 317, 319, 320, 322, 323, 325, 326, 328, 329, 331, 332, 334, 335, 337, 338, 340, 341, 343, 344, 346, 347, 349, 350, 352, 353, 355, 356, 358, 359, 361, 362, 364, 365, 367, 368, 370, 371, 373, 374, 376, 377, 379, 380, 382, 383, 385, 386, 388, 389, 391, 392, 394, 395, 397, 398, 400, 401, 402, 403, 404, 405, 406, 407, 408, 409, 410, 411, 412, 413, 414, 415, 416, 417, 418, 419, 420, 421, 422, 424, 425, 426, 427, 428, 429, 430, 431, 433, 434, 436, 437, 439, 440, 441, 442, 443, 444, 445, 446, 447, 448, 449, 450, 451, 452, 454, 455, 456, 457, 458, 459, 460, 461, 462, 463, 464, 465, 466, 467, 468, 469, 470, 471, 472, 473, 474, 475, 476, 477, 478, 479, 480, 481, 482, 484, 485, 486, 487, 488, 489, 490, 491, 492, 493, 494, 495, 496, 497, 498, 499, 500, 501, 502, 503, 504, 505, 506, 507, 508, 509, 510, 511, 512, 514, 515, 516, 517, 518, 519, 520, 521, 522, 523, 524, 525, 526, 527, 528, 529, 530, 532, 533, 535, 536, 538, 539, 540, 541, 542, 544, 545, 546, 547, 548, 549, 550, 551, 552, 553, 554, 555, 556, 557, 558, 559, 560, 561, 562, 563, 564, 565, 566, 567, 568, 569, 570, 571, 572, 574, 575, 576, 577, 578, 579, 580, 581, 582, 583, 584, 585, 586, 587, 588, 589, 590, 591, 592, 593, 594, 595, 596, 597, 598, 599, 600, 601, 602, 604, 605, 606, 607, 608, 609, 610, 611, 612, 613, 614, 615, 616, 617, 618, 619, 620, 621, 622, 623, 624, 625, 626, 627, 628, 629, 631, 632, 634, 635, 637, 638, 640, 641, 642, 643, 644, 645, 646, 647, 648, 649, 650, 651, 652, 653, 654, 655, 656, 657, 658, 659, 660, 661, 662, 664, 665, 666, 667, 668, 669, 670, 671, 672, 673, 674, 675, 676, 677, 678, 679, 680, 681, 682, 683, 684, 685, 686, 687, 688, 689, 690, 691, 692, 694, 695, 696, 697, 698, 699, 700, 701, 702, 703, 704, 705, 706, 707, 708, 709, 710, 711, 712, 713, 714, 715, 716, 717, 718, 719, 720, 721, 722, 724, 725, 726, 727, 728, 729, 730, 731, 733, 734, 736, 737, 739, 740, 741, 742, 743, 744, 745, 746, 747, 748, 749, 750, 751, 752, 754, 755, 756, 757, 758, 759, 760, 761, 762, 763, 764, 765, 766, 767, 768, 769, 770, 771, 772, 773, 774, 775, 776, 777, 778, 779, 780, 781, 782, 784, 785, 786, 787, 788, 789, 790, 791, 792, 793, 794, 795, 796, 797, 798, 799, 800, 801, 802, 803, 804, 805, 806, 807, 808, 809, 810, 811, 812, 814, 815, 816, 817, 818, 819, 820, 821, 822, 823, 824, 825, 826, 827, 828, 829, 830, 832, 833, 835, 836, 838, 839, 840, 841, 842, 844, 845, 846, 847, 848, 849, 850, 851, 852, 853, 854, 855, 856, 857, 858, 859, 860, 861, 862, 863, 864, 865, 866, 867, 868, 869, 870, 871, 872, 874, 875, 876, 877, 878, 879, 880, 881, 882, 883, 884, 885, 886, 887, 888, 889, 890, 891, 892, 893, 894, 895, 896, 897, 898, 899, 900, 901, 902, 904, 905, 906, 907, 908, 909, 910, 911, 912, 913, 914, 915, 916, 917, 918, 919, 920, 921, 922, 923, 924, 925, 926, 927, 928, 929, 931, 932, 934, 935, 937, 938, 940, 941, 942, 943, 944, 945, 946, 947, 948, 949, 950, 951, 952, 953, 954, 955, 956, 957, 958, 959, 960, 961, 962, 964, 965, 966, 967, 968, 969, 970, 971, 972, 973, 974, 975, 976, 977, 978, 979, 980, 981, 982, 983, 984, 985, 986, 987, 988, 989, 990, 991, 992, 994, 995, 996, 997, 998, 999]\n"
          ]
        }
      ]
    },
    {
      "cell_type": "markdown",
      "source": [
        "## 9번: 진료 순서 정하기 (좋은문제!)\n",
        "https://school.programmers.co.kr/learn/courses/30/lessons/120835"
      ],
      "metadata": {
        "id": "UbWK0FUWH8n-"
      }
    },
    {
      "cell_type": "code",
      "source": [
        "# emergency     result\n",
        "# [3, 76, 24]   [3, 1, 2]\n",
        "\n",
        "def solution(emergency):\n",
        "    sorted_emergency = sorted(emergency, reverse=True)\n",
        "    return [sorted_emergency.index(i) + 1 for i in emergency]\n",
        "\n",
        "\n",
        "solution([3, 76, 24])"
      ],
      "metadata": {
        "colab": {
          "base_uri": "https://localhost:8080/"
        },
        "id": "dPnH_winIFo8",
        "outputId": "30c4f8e0-bfc2-4ec3-9051-cf6c60f9614b"
      },
      "execution_count": 100,
      "outputs": [
        {
          "output_type": "execute_result",
          "data": {
            "text/plain": [
              "[3, 1, 2]"
            ]
          },
          "metadata": {},
          "execution_count": 100
        }
      ]
    },
    {
      "cell_type": "code",
      "source": [
        "# 좋은 문제입니다.\n",
        "emergency = [3, 76, 24]\n",
        "\n",
        "sorted_emergency = sorted(emergency, reverse=True)\n",
        "sorted_emergency\n",
        "\n",
        "# 원하는 결과값 [3, 1, 2]\n",
        "[sorted_emergency.index(i) + 1 for i in emergency]"
      ],
      "metadata": {
        "colab": {
          "base_uri": "https://localhost:8080/"
        },
        "id": "8eZjwIfOIhS5",
        "outputId": "4db5312c-cf67-4d47-e77d-e9a77cd4f904"
      },
      "execution_count": 101,
      "outputs": [
        {
          "output_type": "execute_result",
          "data": {
            "text/plain": [
              "[3, 1, 2]"
            ]
          },
          "metadata": {},
          "execution_count": 101
        }
      ]
    },
    {
      "cell_type": "code",
      "source": [
        "# 다른 예시 (좋은방법인것같다!)\n",
        "data = ['제주', '경기', '전주']\n",
        "data2 = {\n",
        "    '제주': '064', # 그냥 064로 쓰면 진법으로 인식해서 에러가 날수도있음.\n",
        "    '경기': '031',\n",
        "    '전주': '063'\n",
        "}\n",
        "\n",
        "[data2[i] for i in data]"
      ],
      "metadata": {
        "colab": {
          "base_uri": "https://localhost:8080/"
        },
        "id": "p23Mu-BxJoj9",
        "outputId": "840de352-2ae7-4b7d-8907-af483e40a432"
      },
      "execution_count": 98,
      "outputs": [
        {
          "output_type": "execute_result",
          "data": {
            "text/plain": [
              "['064', '031', '063']"
            ]
          },
          "metadata": {},
          "execution_count": 98
        }
      ]
    },
    {
      "cell_type": "markdown",
      "source": [
        "## 10번: 가까운 수 (좋은문제!)\n",
        "https://school.programmers.co.kr/learn/courses/30/lessons/120890"
      ],
      "metadata": {
        "id": "iBf-J8syKwVZ"
      }
    },
    {
      "cell_type": "code",
      "source": [
        "# 이것도 정렬 문제다."
      ],
      "metadata": {
        "id": "IjCPt4kxLp-O"
      },
      "execution_count": 110,
      "outputs": []
    },
    {
      "cell_type": "code",
      "source": [
        "l = [3, 10, 28]\n",
        "sorted(l, key=lambda x: abs(x-20))[0]"
      ],
      "metadata": {
        "colab": {
          "base_uri": "https://localhost:8080/"
        },
        "id": "beQCctZZMjK_",
        "outputId": "7eaf9c38-d63e-4715-afe3-41613b4016db"
      },
      "execution_count": 105,
      "outputs": [
        {
          "output_type": "execute_result",
          "data": {
            "text/plain": [
              "28"
            ]
          },
          "metadata": {},
          "execution_count": 105
        }
      ]
    },
    {
      "cell_type": "code",
      "source": [
        "# 오류\n",
        "# 가까운 값이 여러개 있을 경우 더 작은값을 반환해줘야 한다.\n",
        "def solution(array, n):\n",
        "    return sorted(array, key=lambda x: abs(x-n))[0]"
      ],
      "metadata": {
        "id": "DfC8hIUfMp1p"
      },
      "execution_count": 106,
      "outputs": []
    },
    {
      "cell_type": "markdown",
      "source": [
        "array와 list는 다릅니다! 파이썬에서는 array가 없어요.  \n",
        "array를 연결리스트를 이용해서 만든게 => list  \n",
        "(위 예제의 array는 그냥 변구명임)"
      ],
      "metadata": {
        "id": "tejM1iIZM3A6"
      }
    },
    {
      "cell_type": "code",
      "source": [
        "# [3, 10, 28, 30, 12] => [17, 10, 8, 10, 8]\n",
        "# [3, 10, 28, 30, 12] => [(17, 3), (10, 10), (8, 28), (10, 30), (8, 12)]\n",
        "# 원하는 숫자: 20\n",
        "# result: 28\n",
        "\n",
        "array = [3, 10, 28, 30, 12]\n",
        "n = 20\n",
        "\n",
        "28 - 20 == 8\n",
        "12 - 20 == -8\n",
        "\n",
        "20 - 28 == -8\n",
        "20 - 12 == 8\n",
        "\n",
        "# 정답: 작은 수 반환\n",
        "sorted(array, key=lambda x:(abs(x-n), x))[0]\n",
        "\n",
        "# 더 큰 수를 반환하고 싶다면?\n",
        "sorted(array, key=lambda x:(abs(x-n), n-x))[0] # 팁, n-x이거나 x-n 2개 중에 하나입니다."
      ],
      "metadata": {
        "colab": {
          "base_uri": "https://localhost:8080/"
        },
        "id": "SUyjj3EwNVnu",
        "outputId": "9d4e002a-08f0-478a-c362-129fc19ffbde"
      },
      "execution_count": 108,
      "outputs": [
        {
          "output_type": "execute_result",
          "data": {
            "text/plain": [
              "28"
            ]
          },
          "metadata": {},
          "execution_count": 108
        }
      ]
    },
    {
      "cell_type": "code",
      "source": [
        "# 결론! 정답은 이거\n",
        "def solution(array, n):\n",
        "    return sorted(array, key=lambda x:(abs(x-n), x))[0]"
      ],
      "metadata": {
        "id": "brCjLB7NQHL1"
      },
      "execution_count": 109,
      "outputs": []
    },
    {
      "cell_type": "markdown",
      "source": [
        "## 11번: k의 개수\n",
        "https://school.programmers.co.kr/learn/courses/30/lessons/120887"
      ],
      "metadata": {
        "id": "iV-cGruwQZgt"
      }
    },
    {
      "cell_type": "code",
      "source": [
        "# i    j    k\n",
        "# 1    13    1\n",
        "\n",
        "i = 1\n",
        "j = 13\n",
        "k = 1\n",
        "\n",
        "str(list(range(i, j+1)))\n",
        "'[1, 2, 3]'.count(',') # 출력: 2\n",
        "\n",
        "str(list(range(i, j+1))).count(str(k))"
      ],
      "metadata": {
        "colab": {
          "base_uri": "https://localhost:8080/"
        },
        "id": "LrJ1sfNgQkHG",
        "outputId": "e5912a22-aa1b-4f28-d92d-15e3c570983c"
      },
      "execution_count": 113,
      "outputs": [
        {
          "output_type": "execute_result",
          "data": {
            "text/plain": [
              "6"
            ]
          },
          "metadata": {},
          "execution_count": 113
        }
      ]
    },
    {
      "cell_type": "markdown",
      "source": [
        "밑에는 `swap`꿀팁 ㅎㅎ"
      ],
      "metadata": {
        "id": "E0rG0G56UfaG"
      }
    },
    {
      "cell_type": "code",
      "source": [
        "a = 10\n",
        "b = 20\n",
        "\n",
        "# swap (다른 언어에서)\n",
        "temp = a\n",
        "a = b\n",
        "b = temp\n",
        "\n",
        "# python에서 사용하는 swap\n",
        "a = 10\n",
        "b = 20\n",
        "a, b = b, a\n",
        "a, b"
      ],
      "metadata": {
        "colab": {
          "base_uri": "https://localhost:8080/"
        },
        "id": "FA3_y2bdUSHV",
        "outputId": "a96f3c64-68ab-4c8b-fbbc-789f5d8ff1a1"
      },
      "execution_count": 115,
      "outputs": [
        {
          "output_type": "execute_result",
          "data": {
            "text/plain": [
              "(20, 10)"
            ]
          },
          "metadata": {},
          "execution_count": 115
        }
      ]
    },
    {
      "cell_type": "code",
      "source": [
        "i = 1\n",
        "j = 13\n",
        "k = 1\n",
        "\n",
        "count = 0\n",
        "for temp in range(i, j): # temp라는 변수도 사실 실무에서는 권장하지 않음.\n",
        "    count += (str(temp).count(str(k)))\n",
        "count"
      ],
      "metadata": {
        "colab": {
          "base_uri": "https://localhost:8080/"
        },
        "id": "hr5EAtAJQ5fh",
        "outputId": "a6ad8c65-c0c7-4e07-8169-ea829b6f2e91"
      },
      "execution_count": 122,
      "outputs": [
        {
          "output_type": "execute_result",
          "data": {
            "text/plain": [
              "5"
            ]
          },
          "metadata": {},
          "execution_count": 122
        }
      ]
    },
    {
      "cell_type": "code",
      "source": [
        "# 최종 답안\n",
        "def solution(i, j, k):\n",
        "    return str(list(range(i, j+1))).count(str(k))"
      ],
      "metadata": {
        "id": "IgGPSR0PUMzu"
      },
      "execution_count": 123,
      "outputs": []
    },
    {
      "cell_type": "markdown",
      "source": [
        "## 겹치는 선분의 길이 문제는 어려워서 pass"
      ],
      "metadata": {
        "id": "SwFQvYvPVGQP"
      }
    },
    {
      "cell_type": "markdown",
      "source": [
        "# 강사님 직접 출제 문제"
      ],
      "metadata": {
        "id": "6C5ebOh5WCF8"
      }
    },
    {
      "cell_type": "code",
      "source": [
        "# 각 선분이 있는 곳에 총 길이 합을 구하라\n",
        "# [[0, 5], [3, 5], [7, 10]]\n",
        "\n",
        "선 = [False] * 10\n",
        "선"
      ],
      "metadata": {
        "colab": {
          "base_uri": "https://localhost:8080/"
        },
        "id": "uQofG-dDWVze",
        "outputId": "e591efca-bc67-4459-e3e5-6b5511103acd"
      },
      "execution_count": 126,
      "outputs": [
        {
          "output_type": "execute_result",
          "data": {
            "text/plain": [
              "[False, False, False, False, False, False, False, False, False, False]"
            ]
          },
          "metadata": {},
          "execution_count": 126
        }
      ]
    },
    {
      "cell_type": "code",
      "source": [
        "for i in range(0, 5):\n",
        "    선[i] = True\n",
        "선"
      ],
      "metadata": {
        "colab": {
          "base_uri": "https://localhost:8080/"
        },
        "id": "ebFAhw5XW6cj",
        "outputId": "8ca989e5-59f1-4211-98b2-2cc98f824815"
      },
      "execution_count": 127,
      "outputs": [
        {
          "output_type": "execute_result",
          "data": {
            "text/plain": [
              "[True, True, True, True, True, False, False, False, False, False]"
            ]
          },
          "metadata": {},
          "execution_count": 127
        }
      ]
    },
    {
      "cell_type": "code",
      "source": [
        "for i in range(3, 5):\n",
        "    선[i] = True"
      ],
      "metadata": {
        "id": "j6XSebV3XFUA"
      },
      "execution_count": 128,
      "outputs": []
    },
    {
      "cell_type": "code",
      "source": [
        "for i in range(7, 10):\n",
        "    선[i] = True"
      ],
      "metadata": {
        "id": "zRiPky2SXS3N"
      },
      "execution_count": 129,
      "outputs": []
    },
    {
      "cell_type": "code",
      "source": [
        "sum(선)"
      ],
      "metadata": {
        "colab": {
          "base_uri": "https://localhost:8080/"
        },
        "id": "ylVu-mbwXW7Z",
        "outputId": "9c515cb8-9909-4a8c-d2bd-ce013effb89f"
      },
      "execution_count": 130,
      "outputs": [
        {
          "output_type": "execute_result",
          "data": {
            "text/plain": [
              "8"
            ]
          },
          "metadata": {},
          "execution_count": 130
        }
      ]
    },
    {
      "cell_type": "code",
      "source": [
        "# 에라토스테네스의 체 => 소수판별 => 이것을 알고리즘 문제로 내는 것은 저는 반대\n",
        "소수 = [True] * 120\n",
        "소수[0] = 소수[1] = False\n",
        "\n",
        "for i in range(4, 120, 2):\n",
        "    소수[i] = False\n",
        "\n",
        "for i in range(6, 120, 3):\n",
        "    소수[i] = False\n",
        "\n",
        "# 4는 2의 배수에 속하기 때문에 할 필요가 없습니다.\n",
        "# 그래서 언제까지?\n",
        "# 11 ** 2 <= 120 이기 때문에"
      ],
      "metadata": {
        "id": "1jCEr_3tXYFD"
      },
      "execution_count": 142,
      "outputs": []
    },
    {
      "cell_type": "markdown",
      "source": [
        "링크: https://nahwasa.com/entry/%EC%97%90%EB%9D%BC%ED%86%A0%EC%8A%A4%ED%85%8C%EB%84%A4%EC%8A%A4%EC%9D%98-%EC%B2%B4-%ED%98%B9%EC%9D%80-%EC%86%8C%EC%88%98%ED%8C%90%EC%A0%95-%EC%8B%9C-%EC%A0%9C%EA%B3%B1%EA%B7%BC-%EA%B9%8C%EC%A7%80%EB%A7%8C-%ED%99%95%EC%9D%B8%ED%95%98%EB%A9%B4-%EB%90%98%EB%8A%94-%EC%9D%B4%EC%9C%A0"
      ],
      "metadata": {
        "id": "c9F6nbakY4_R"
      }
    },
    {
      "cell_type": "code",
      "source": [
        "# 소수라는게 다 확정이 되고 나면,\n",
        "for 소수, 판별 in enumerate(소수):\n",
        "    if 판별:\n",
        "        print(소수)"
      ],
      "metadata": {
        "colab": {
          "base_uri": "https://localhost:8080/"
        },
        "id": "a6ZHB2FAaGha",
        "outputId": "526fb9f8-f809-4ba1-f885-e6d668604bcf"
      },
      "execution_count": 143,
      "outputs": [
        {
          "output_type": "stream",
          "name": "stdout",
          "text": [
            "2\n",
            "3\n",
            "5\n",
            "7\n",
            "11\n",
            "13\n",
            "17\n",
            "19\n",
            "23\n",
            "25\n",
            "29\n",
            "31\n",
            "35\n",
            "37\n",
            "41\n",
            "43\n",
            "47\n",
            "49\n",
            "53\n",
            "55\n",
            "59\n",
            "61\n",
            "65\n",
            "67\n",
            "71\n",
            "73\n",
            "77\n",
            "79\n",
            "83\n",
            "85\n",
            "89\n",
            "91\n",
            "95\n",
            "97\n",
            "101\n",
            "103\n",
            "107\n",
            "109\n",
            "113\n",
            "115\n",
            "119\n"
          ]
        }
      ]
    },
    {
      "cell_type": "markdown",
      "source": [
        "# 파이알고 문제\n",
        "https://100.pyalgo.co.kr/?page=23"
      ],
      "metadata": {
        "id": "MoZ3hv0rbPDY"
      }
    },
    {
      "cell_type": "code",
      "source": [
        "# 행렬의 연산과 같은 것은 np를 사용하시면 쉽고 빠르게 풀 수 있습니다.\n",
        "import numpy as np\n",
        "\n",
        "x = np.array([1, 2, 3])\n",
        "x * 2"
      ],
      "metadata": {
        "colab": {
          "base_uri": "https://localhost:8080/"
        },
        "id": "eynOFMjccD0o",
        "outputId": "8548abc0-fe92-4952-cbcc-6a9f8612f018"
      },
      "execution_count": 144,
      "outputs": [
        {
          "output_type": "execute_result",
          "data": {
            "text/plain": [
              "array([2, 4, 6])"
            ]
          },
          "metadata": {},
          "execution_count": 144
        }
      ]
    },
    {
      "cell_type": "code",
      "source": [
        "# 정말 많이 씁니다!\n",
        "s = [[1, 3, 5], [7, 9, 11], [13, 15, 17]]\n",
        "s = np.array(s)\n",
        "행, 렬 = np.where(s == 7)\n",
        "행"
      ],
      "metadata": {
        "colab": {
          "base_uri": "https://localhost:8080/"
        },
        "id": "Xhm3oJwLcM9q",
        "outputId": "9610fd85-4f82-4c4b-a6dc-5ed01735c0a3"
      },
      "execution_count": 147,
      "outputs": [
        {
          "output_type": "execute_result",
          "data": {
            "text/plain": [
              "array([1])"
            ]
          },
          "metadata": {},
          "execution_count": 147
        }
      ]
    },
    {
      "cell_type": "code",
      "source": [
        "# 지뢰찾기\n",
        "x = [[0, 1, 0, 0],\n",
        "     [0, 1, 0, 0],\n",
        "     [0, 0, 0, 1]]\n",
        "\n",
        "x = np.array(x)\n",
        "np.where(x == 1)"
      ],
      "metadata": {
        "colab": {
          "base_uri": "https://localhost:8080/"
        },
        "id": "cv-SPAATciPD",
        "outputId": "b414ac36-c8e0-4aca-fb45-5fc0deedcaee"
      },
      "execution_count": 152,
      "outputs": [
        {
          "output_type": "execute_result",
          "data": {
            "text/plain": [
              "(array([0, 1, 2]), array([1, 1, 3]))"
            ]
          },
          "metadata": {},
          "execution_count": 152
        }
      ]
    },
    {
      "cell_type": "code",
      "source": [
        "x = [[0, 1, 0, 0],\n",
        "     [0, 1, 0, 0],\n",
        "     [0, 0, 0, 1]]\n",
        "\n",
        "s = 0\n",
        "for i in x:\n",
        "    s += i.count(1)\n",
        "\n",
        "s"
      ],
      "metadata": {
        "colab": {
          "base_uri": "https://localhost:8080/"
        },
        "id": "Z-LgYCvXdGwt",
        "outputId": "c41e4622-e107-440b-9cdf-ee322a0a8e46"
      },
      "execution_count": 151,
      "outputs": [
        {
          "output_type": "execute_result",
          "data": {
            "text/plain": [
              "3"
            ]
          },
          "metadata": {},
          "execution_count": 151
        }
      ]
    },
    {
      "cell_type": "code",
      "source": [
        "# True, False로 반환받기\n",
        "\n",
        "x = [[0, 1, 0, 0],\n",
        "     [0, 1, 0, 0],\n",
        "     [0, 0, 0, 1]]\n",
        "\n",
        "x = np.array(x)\n",
        "x == 1"
      ],
      "metadata": {
        "colab": {
          "base_uri": "https://localhost:8080/"
        },
        "id": "5THMJ1y7djyI",
        "outputId": "98f473e3-69c3-4290-ad4d-f03ed3a03630"
      },
      "execution_count": 155,
      "outputs": [
        {
          "output_type": "execute_result",
          "data": {
            "text/plain": [
              "array([[False,  True, False, False],\n",
              "       [False,  True, False, False],\n",
              "       [False, False, False,  True]])"
            ]
          },
          "metadata": {},
          "execution_count": 155
        }
      ]
    },
    {
      "cell_type": "code",
      "source": [
        "x = [[0, 5, 2, 0],\n",
        "     [0, 7, 0, 6],\n",
        "     [0, 1, 3, 5]]\n",
        "\n",
        "x = np.array(x)\n",
        "x > 3"
      ],
      "metadata": {
        "colab": {
          "base_uri": "https://localhost:8080/"
        },
        "id": "gvyS89dKd_PP",
        "outputId": "86f12a67-b0a3-4327-b4a0-34e3991031f0"
      },
      "execution_count": 156,
      "outputs": [
        {
          "output_type": "execute_result",
          "data": {
            "text/plain": [
              "array([[False,  True, False, False],\n",
              "       [False,  True, False,  True],\n",
              "       [False, False, False,  True]])"
            ]
          },
          "metadata": {},
          "execution_count": 156
        }
      ]
    }
  ]
}