{
  "nbformat": 4,
  "nbformat_minor": 0,
  "metadata": {
    "colab": {
      "provenance": []
    },
    "kernelspec": {
      "name": "python3",
      "display_name": "Python 3"
    },
    "language_info": {
      "name": "python"
    }
  },
  "cells": [
    {
      "cell_type": "markdown",
      "source": [
        "# 1. for문"
      ],
      "metadata": {
        "id": "_6-WiQLaEtxI"
      }
    },
    {
      "cell_type": "markdown",
      "source": [
        "## 1.1 기본적인 for문 사용"
      ],
      "metadata": {
        "id": "qYztnSTTCO4w"
      }
    },
    {
      "cell_type": "markdown",
      "source": [
        "<반복문의 기본 구조>\n",
        "```\n",
        "for 변수명 in 순회_가능한_객체 :\n",
        "    pass # 수행할_문장\n",
        "```"
      ],
      "metadata": {
        "id": "sU65QrhDEzlg"
      }
    },
    {
      "cell_type": "code",
      "source": [
        "# 함수\n",
        "def 함수명():\n",
        "    pass"
      ],
      "metadata": {
        "id": "y4t0ZzEsE7Bj"
      },
      "execution_count": null,
      "outputs": []
    },
    {
      "cell_type": "code",
      "source": [
        "# 조건문\n",
        "if 조건:\n",
        "    pass"
      ],
      "metadata": {
        "id": "a8CwoSdRFB_7"
      },
      "execution_count": null,
      "outputs": []
    },
    {
      "cell_type": "code",
      "source": [
        "# 반복문\n",
        "for 변수명 in 순회_가능한_객체:\n",
        "    pass"
      ],
      "metadata": {
        "id": "12-MEDHpFEjs"
      },
      "execution_count": null,
      "outputs": []
    },
    {
      "cell_type": "code",
      "source": [
        "# 반복문 기초 - 문자열\n",
        "# 1. 'hello'를 순서대로 하나씩 꺼내서\n",
        "# 2. x에 하나씩 넣은 다음에\n",
        "# 3. 하나씩 for문 아래 코드블럭을 수행한다.\n",
        "# 4. 그리고 순서가 마쳐지면 -> 다음 시퀀스(순서)로 넘어가서 똑같은 작업 수행\n",
        "\n",
        "for x in 'hello': # 순회 가능한 객체가 -> 문자열 / 리스트 / 등등\n",
        "    print(f'현재 값은 {x}입니다.')"
      ],
      "metadata": {
        "colab": {
          "base_uri": "https://localhost:8080/"
        },
        "id": "rpuq7CuNFKQc",
        "outputId": "351d8d22-5d61-4204-e160-cdc5d9fbf567"
      },
      "execution_count": 2,
      "outputs": [
        {
          "output_type": "stream",
          "name": "stdout",
          "text": [
            "현재 값은 h입니다.\n",
            "현재 값은 e입니다.\n",
            "현재 값은 l입니다.\n",
            "현재 값은 l입니다.\n",
            "현재 값은 o입니다.\n"
          ]
        }
      ]
    },
    {
      "cell_type": "code",
      "source": [
        "# 튜플\n",
        "for x in (1, 2, 3, 4, 5):\n",
        "    print(f'현재 값은 {x}입니다.')\n",
        "# 리스트\n",
        "for x in [1, 2, 3, 4, 5]:\n",
        "    print(f'현재 값은 {x}입니다.')"
      ],
      "metadata": {
        "colab": {
          "base_uri": "https://localhost:8080/"
        },
        "id": "MZbnHdl3F_fV",
        "outputId": "983b5be7-caed-4564-c6eb-a91ade6b72ec"
      },
      "execution_count": 4,
      "outputs": [
        {
          "output_type": "stream",
          "name": "stdout",
          "text": [
            "현재 값은 1입니다.\n",
            "현재 값은 2입니다.\n",
            "현재 값은 3입니다.\n",
            "현재 값은 4입니다.\n",
            "현재 값은 5입니다.\n",
            "현재 값은 1입니다.\n",
            "현재 값은 2입니다.\n",
            "현재 값은 3입니다.\n",
            "현재 값은 4입니다.\n",
            "현재 값은 5입니다.\n"
          ]
        }
      ]
    },
    {
      "cell_type": "code",
      "source": [
        "# range()\n",
        "for x in range(1, 6):\n",
        "    print(f'현재 값은 {x}')"
      ],
      "metadata": {
        "colab": {
          "base_uri": "https://localhost:8080/"
        },
        "id": "Z_vevk4uGtj1",
        "outputId": "2436a581-8a41-4dbb-9426-04e106bc04d8"
      },
      "execution_count": 5,
      "outputs": [
        {
          "output_type": "stream",
          "name": "stdout",
          "text": [
            "현재 값은 1\n",
            "현재 값은 2\n",
            "현재 값은 3\n",
            "현재 값은 4\n",
            "현재 값은 5\n"
          ]
        }
      ]
    },
    {
      "cell_type": "markdown",
      "source": [
        "for문은 시퀀스의 개수대로 반복이 된다!"
      ],
      "metadata": {
        "id": "_k_Lp8TiHPld"
      }
    },
    {
      "cell_type": "code",
      "source": [
        "# len()을 사용하여 개수 구하기\n",
        "len([1, 2, 3, 4, 5])\n",
        "len(range(1, 6))"
      ],
      "metadata": {
        "colab": {
          "base_uri": "https://localhost:8080/"
        },
        "id": "p9QneR3cG_5y",
        "outputId": "5e5d9f1a-ba59-4ea7-9466-08e4c8ef538f"
      },
      "execution_count": 8,
      "outputs": [
        {
          "output_type": "execute_result",
          "data": {
            "text/plain": [
              "5"
            ]
          },
          "metadata": {},
          "execution_count": 8
        }
      ]
    },
    {
      "cell_type": "code",
      "source": [
        "# 문자열 자료형을 범위로 가져왔을때\n",
        "\n",
        "s = 'hello orm'\n",
        "for i in s:\n",
        "    print(i)"
      ],
      "metadata": {
        "colab": {
          "base_uri": "https://localhost:8080/"
        },
        "id": "le8q-PnPHL9l",
        "outputId": "8e1a489d-a8e6-4523-9153-b503454de6ad"
      },
      "execution_count": 9,
      "outputs": [
        {
          "output_type": "stream",
          "name": "stdout",
          "text": [
            "h\n",
            "e\n",
            "l\n",
            "l\n",
            "o\n",
            " \n",
            "o\n",
            "r\n",
            "m\n"
          ]
        }
      ]
    },
    {
      "cell_type": "code",
      "source": [
        "# 문자열 + 숫자\n",
        "s = '123'\n",
        "result = 0\n",
        "for i in s: # s에 대하여 반복\n",
        "    result += int(i) # s의 첫번째값부터 int로 변환하고 result에 더해줌\n",
        "print(result)"
      ],
      "metadata": {
        "colab": {
          "base_uri": "https://localhost:8080/"
        },
        "id": "va74fatwHORA",
        "outputId": "08716e71-be61-46fa-9595-a419ea26d75f"
      },
      "execution_count": 11,
      "outputs": [
        {
          "output_type": "stream",
          "name": "stdout",
          "text": [
            "6\n"
          ]
        }
      ]
    },
    {
      "cell_type": "markdown",
      "source": [
        "딕셔너리는 별다른 값을 설정하지 않으면 key값이 나오게 된다."
      ],
      "metadata": {
        "id": "7BC_dl9QIAE7"
      }
    },
    {
      "cell_type": "code",
      "source": [
        "# 딕셔너리 자료형\n",
        "단어_사전 = {\n",
        "    '하나' : 'one',\n",
        "    '둘' : 'two',\n",
        "    '셋' : 'three',\n",
        "}\n",
        "\n",
        "for i in 단어_사전:\n",
        "    print(i)"
      ],
      "metadata": {
        "colab": {
          "base_uri": "https://localhost:8080/"
        },
        "id": "Qn9sSYRkHoJi",
        "outputId": "870f36dc-06dd-4a18-c9e3-4a4e36822dee"
      },
      "execution_count": 13,
      "outputs": [
        {
          "output_type": "stream",
          "name": "stdout",
          "text": [
            "하나\n",
            "둘\n",
            "셋\n"
          ]
        }
      ]
    },
    {
      "cell_type": "code",
      "source": [
        "# 같이 나오게 하는 방법\n",
        "\n",
        "for i in 단어_사전.items():\n",
        "    print(i)"
      ],
      "metadata": {
        "colab": {
          "base_uri": "https://localhost:8080/"
        },
        "id": "xRD7M4_bH-yX",
        "outputId": "d05237cc-4188-4bf9-98fc-dd69047742f6"
      },
      "execution_count": 17,
      "outputs": [
        {
          "output_type": "stream",
          "name": "stdout",
          "text": [
            "('하나', 'one')\n",
            "('둘', 'two')\n",
            "('셋', 'three')\n"
          ]
        }
      ]
    },
    {
      "cell_type": "code",
      "source": [
        "# 짝수의 합 더하기!\n",
        "\n",
        "result = 0 # 초기값 설정해주기(전역변수)\n",
        "# 리스트라면 비어있는 리스트라도 만들어야 한다!\n",
        "# 비어있는 자료형도 자료형이다. None도 자료형이다.\n",
        "\n",
        "for i in range(1, 101): # 1에서 100까지\n",
        "    if i % 2 == 0: # 2로 나눴을때의 나머지가 0(짝수)이면\n",
        "        result += i # 해당 수를 result에 더하고 result값으로 설정.\n",
        "print(result)"
      ],
      "metadata": {
        "colab": {
          "base_uri": "https://localhost:8080/"
        },
        "id": "_D2R7KmjILBA",
        "outputId": "0f94e5e2-dcf8-4531-bc34-99650514a5a9"
      },
      "execution_count": 21,
      "outputs": [
        {
          "output_type": "stream",
          "name": "stdout",
          "text": [
            "2550\n"
          ]
        }
      ]
    },
    {
      "cell_type": "code",
      "source": [
        "result = 0\n",
        "for i in range(0, 101, 2):\n",
        "    result += i\n",
        "print(i)"
      ],
      "metadata": {
        "colab": {
          "base_uri": "https://localhost:8080/"
        },
        "id": "dfuBB9hSMTHk",
        "outputId": "003bb9c9-2546-4385-8c43-5ef0c568adfa"
      },
      "execution_count": 23,
      "outputs": [
        {
          "output_type": "stream",
          "name": "stdout",
          "text": [
            "100\n"
          ]
        }
      ]
    },
    {
      "cell_type": "markdown",
      "source": [
        "## 1.2 중첩 for문 (중첩 반복문)"
      ],
      "metadata": {
        "id": "f0m2dlmRNv9G"
      }
    },
    {
      "cell_type": "code",
      "source": [
        "# code1\n",
        "for i in [[1, 2], [10, 20], [100, 200]]:\n",
        "    print(i)"
      ],
      "metadata": {
        "colab": {
          "base_uri": "https://localhost:8080/"
        },
        "id": "HMhaZ8joNzXF",
        "outputId": "bdfce7cd-58f8-4a26-c440-97bc219dc0a2"
      },
      "execution_count": 24,
      "outputs": [
        {
          "output_type": "stream",
          "name": "stdout",
          "text": [
            "[1, 2]\n",
            "[10, 20]\n",
            "[100, 200]\n"
          ]
        }
      ]
    },
    {
      "cell_type": "code",
      "source": [
        "# code2\n",
        "for j in [1, 2]:\n",
        "    print(j)"
      ],
      "metadata": {
        "colab": {
          "base_uri": "https://localhost:8080/"
        },
        "id": "Nf7AoGa5N43c",
        "outputId": "1091bfb6-c87b-4a62-cff4-515ece0e2e4d"
      },
      "execution_count": 25,
      "outputs": [
        {
          "output_type": "stream",
          "name": "stdout",
          "text": [
            "1\n",
            "2\n"
          ]
        }
      ]
    },
    {
      "cell_type": "code",
      "source": [
        "# 1. 방금처럼 구조를 정한다.\n",
        "# 2. 최소한의 반복문만 수행해본다.\n",
        "# 3. 각 반복문을 print()해본다."
      ],
      "metadata": {
        "id": "DHHNnDYUOYnd"
      },
      "execution_count": null,
      "outputs": []
    },
    {
      "cell_type": "code",
      "source": [
        "# 1. i = [1, 2]\n",
        "# 2. print(i) -> [1, 2]\n",
        "# 3. [1, 2] -> [1]\n",
        "# 4. print(j) -> 1이 출력"
      ],
      "metadata": {
        "id": "azg_5yX0QbOa"
      },
      "execution_count": null,
      "outputs": []
    },
    {
      "cell_type": "code",
      "source": [
        "for i in [[1, 2], [10, 20], [100, 200]]:\n",
        "    print(i)\n",
        "    for j in i:\n",
        "        print(j)"
      ],
      "metadata": {
        "colab": {
          "base_uri": "https://localhost:8080/"
        },
        "id": "fkgD8PGbOVTq",
        "outputId": "5ec26273-1863-442d-b467-cf18e4e8ba76"
      },
      "execution_count": 28,
      "outputs": [
        {
          "output_type": "stream",
          "name": "stdout",
          "text": [
            "[1, 2]\n",
            "1\n",
            "2\n",
            "[10, 20]\n",
            "10\n",
            "20\n",
            "[100, 200]\n",
            "100\n",
            "200\n"
          ]
        }
      ]
    },
    {
      "cell_type": "code",
      "source": [
        "for i in range(2, 10): # 2부터 9까지\n",
        "    print(f'---{i}단---') # 2단~9단\n",
        "    for j in range(1, 10): # 각 단마다 1부터 9까지 곱하기\n",
        "        print(f'{i} x {j} = {i*j}') # 단 x (1~9)까지 출력하고, 다음 단으로 넘어간다."
      ],
      "metadata": {
        "colab": {
          "base_uri": "https://localhost:8080/"
        },
        "id": "oZxnqSRrQsEy",
        "outputId": "a417b345-8a7f-431e-ed76-44ab7a4efea8"
      },
      "execution_count": 31,
      "outputs": [
        {
          "output_type": "stream",
          "name": "stdout",
          "text": [
            "---2단---\n",
            "2 x 1 = 2\n",
            "2 x 2 = 4\n",
            "2 x 3 = 6\n",
            "2 x 4 = 8\n",
            "2 x 5 = 10\n",
            "2 x 6 = 12\n",
            "2 x 7 = 14\n",
            "2 x 8 = 16\n",
            "2 x 9 = 18\n",
            "---3단---\n",
            "3 x 1 = 3\n",
            "3 x 2 = 6\n",
            "3 x 3 = 9\n",
            "3 x 4 = 12\n",
            "3 x 5 = 15\n",
            "3 x 6 = 18\n",
            "3 x 7 = 21\n",
            "3 x 8 = 24\n",
            "3 x 9 = 27\n",
            "---4단---\n",
            "4 x 1 = 4\n",
            "4 x 2 = 8\n",
            "4 x 3 = 12\n",
            "4 x 4 = 16\n",
            "4 x 5 = 20\n",
            "4 x 6 = 24\n",
            "4 x 7 = 28\n",
            "4 x 8 = 32\n",
            "4 x 9 = 36\n",
            "---5단---\n",
            "5 x 1 = 5\n",
            "5 x 2 = 10\n",
            "5 x 3 = 15\n",
            "5 x 4 = 20\n",
            "5 x 5 = 25\n",
            "5 x 6 = 30\n",
            "5 x 7 = 35\n",
            "5 x 8 = 40\n",
            "5 x 9 = 45\n",
            "---6단---\n",
            "6 x 1 = 6\n",
            "6 x 2 = 12\n",
            "6 x 3 = 18\n",
            "6 x 4 = 24\n",
            "6 x 5 = 30\n",
            "6 x 6 = 36\n",
            "6 x 7 = 42\n",
            "6 x 8 = 48\n",
            "6 x 9 = 54\n",
            "---7단---\n",
            "7 x 1 = 7\n",
            "7 x 2 = 14\n",
            "7 x 3 = 21\n",
            "7 x 4 = 28\n",
            "7 x 5 = 35\n",
            "7 x 6 = 42\n",
            "7 x 7 = 49\n",
            "7 x 8 = 56\n",
            "7 x 9 = 63\n",
            "---8단---\n",
            "8 x 1 = 8\n",
            "8 x 2 = 16\n",
            "8 x 3 = 24\n",
            "8 x 4 = 32\n",
            "8 x 5 = 40\n",
            "8 x 6 = 48\n",
            "8 x 7 = 56\n",
            "8 x 8 = 64\n",
            "8 x 9 = 72\n",
            "---9단---\n",
            "9 x 1 = 9\n",
            "9 x 2 = 18\n",
            "9 x 3 = 27\n",
            "9 x 4 = 36\n",
            "9 x 5 = 45\n",
            "9 x 6 = 54\n",
            "9 x 7 = 63\n",
            "9 x 8 = 72\n",
            "9 x 9 = 81\n"
          ]
        }
      ]
    },
    {
      "cell_type": "markdown",
      "source": [
        "## 1.3 컴프리헨션"
      ],
      "metadata": {
        "id": "RiBumXwjQ9td"
      }
    },
    {
      "cell_type": "markdown",
      "source": [
        "### 1.3.1 리스트 컴프리헨션"
      ],
      "metadata": {
        "id": "4Phjz1XQSwNJ"
      }
    },
    {
      "cell_type": "code",
      "source": [
        "# 기존 반복문\n",
        "x = []\n",
        "\n",
        "for i in range(1, 10): # 1~9까지\n",
        "    x.append(i)\n",
        "\n",
        "print(x)"
      ],
      "metadata": {
        "colab": {
          "base_uri": "https://localhost:8080/"
        },
        "id": "WM6df2eKR5k2",
        "outputId": "fb01e104-db1f-43a4-f627-5940e26457ce"
      },
      "execution_count": 32,
      "outputs": [
        {
          "output_type": "stream",
          "name": "stdout",
          "text": [
            "[1, 2, 3, 4, 5, 6, 7, 8, 9]\n"
          ]
        }
      ]
    },
    {
      "cell_type": "code",
      "source": [
        "# 리스트 컴프리헨션\n",
        "\n",
        "# step1: list 안에 for문을 가져온다.\n",
        "# for문 시작하는 조건을 가져오고 리스트로 묶는다.\n",
        "[for i in range(1, 10)]\n",
        "\n",
        "# step2: append 항목을 앞으로 가져온다.\n",
        "# 여기서는 i -> 자동으로 append\n",
        "a = [i for i in range(1, 10)] # 출력: [1,2,3,4,5,6,7,8,9]\n",
        "b = [i*2 for i in range(1, 10)] # 출력: [2,4,6,8,10,12,14,16,18]"
      ],
      "metadata": {
        "id": "v2l5BmNyS2La"
      },
      "execution_count": null,
      "outputs": []
    },
    {
      "cell_type": "code",
      "source": [
        "a = [i for i in range(1, 10)]\n",
        "b = [i*2 for i in range(1, 10)]\n",
        "print(a, b)"
      ],
      "metadata": {
        "colab": {
          "base_uri": "https://localhost:8080/"
        },
        "id": "Cs9ewfb5S5qq",
        "outputId": "0dc29f6e-0823-48c2-aa0d-3689b987d540"
      },
      "execution_count": 35,
      "outputs": [
        {
          "output_type": "stream",
          "name": "stdout",
          "text": [
            "[1, 2, 3, 4, 5, 6, 7, 8, 9] [2, 4, 6, 8, 10, 12, 14, 16, 18]\n"
          ]
        }
      ]
    },
    {
      "cell_type": "markdown",
      "source": [
        "이러한 컴프리헨션 문법은 간결함을 증대시킬 뿐만 아니라, 기존 for문으로 append하는 것보다 속도가 빠르다."
      ],
      "metadata": {
        "id": "TAuNw4zCTFCe"
      }
    },
    {
      "cell_type": "code",
      "source": [
        "# 리스트 컴프리헨션 + 조건문\n",
        "# 1부터 9까지 짝수만 뽑아보기\n",
        "l = [i for i in range(1, 10) if i % 2 == 0]\n",
        "print(l)"
      ],
      "metadata": {
        "colab": {
          "base_uri": "https://localhost:8080/"
        },
        "id": "D-a4IjyFUbYi",
        "outputId": "1d06a12e-cdf2-47dc-caf1-a9b08d89e5fb"
      },
      "execution_count": 40,
      "outputs": [
        {
          "output_type": "stream",
          "name": "stdout",
          "text": [
            "[2, 4, 6, 8]\n"
          ]
        }
      ]
    },
    {
      "cell_type": "code",
      "source": [
        "# 활용\n",
        "# 1\n",
        "result = []\n",
        "nums = [1, 2, 3, 4, 5]\n",
        "for x in nums:\n",
        "    if x > 3:\n",
        "        if x % 2 == 0:\n",
        "            result.append(f'{x}는 3보다 큰 짝수')\n",
        "        else:\n",
        "            result.append(f'{x}는 3보다 큰 홀수')\n",
        "print(result)\n",
        "\n",
        "# 2\n",
        "nums = [1, 2, 3, 4, 5, 6]\n",
        "result = [x for x in nums if x % 2 == 0 if x % 3 == 0]\n",
        "result # 출력: [6]\n",
        "\n",
        "# 3 (2와 같음)\n",
        "nums = [1, 2, 3, 4, 5, 6]\n",
        "result = [x for x in nums if x % 2 == 0 and x % 3 == 0]\n",
        "result # 출력: [6]"
      ],
      "metadata": {
        "id": "dnAoXU4LUlZ0"
      },
      "execution_count": null,
      "outputs": []
    },
    {
      "cell_type": "code",
      "source": [
        "# 구구단\n",
        "# 리스트 컴프리헨션: 중첩된 반복문\n",
        "c = [f'{i} × {j} = {i*j}' for i in range(2, 10) for j in range(1, 10)]\n",
        "\n",
        "# 리스트 컴프리헨션: 중첩된 컴프리헨션\n",
        "cc = [[f'{i} × {j} = {i*j}' for j in range(1, 10)] for i in range(2, 10)]\n",
        "\n",
        "# 전통적인 방법\n",
        "c_list = []\n",
        "for i in range(2, 10):\n",
        "    for j in range(1, 10):\n",
        "        c_list.append(f'{i} × {j} = {i*j}')"
      ],
      "metadata": {
        "id": "CU8E_ZzYVUFW"
      },
      "execution_count": 1,
      "outputs": []
    },
    {
      "cell_type": "markdown",
      "source": [
        "다만 이러한 컴프리헨션 문법의 중첩은 코드의 가독성을 떨어트리므로 주의해 사용해주세요.  \n",
        "보통 회사 컨벤션(회사의 코딩 규칙)에서는 3개 이상의 컴프리헨션 중첩을 하지 않기를 권합니다."
      ],
      "metadata": {
        "id": "jWSUdsvrn9Zt"
      }
    },
    {
      "cell_type": "code",
      "source": [
        "def sumthingFunction(i):\n",
        "    if i % 100 ==0: # 조건문 100으로 나눴을때 나머지가 0이 되는것\n",
        "        return i    # 조건에 일치하면 i를 리턴, 않으면 0을 리턴하는데,\n",
        "    else:\n",
        "        return 0\n",
        "\n",
        "l = [100, 200, 300, 101, 202, 303]\n",
        "# l(리스트)에 있는 값들을 하나씩 꺼내서, 함수에 태워보고, 조건에 맞는 값 출력\n",
        "l = [sumthingFunction(i) for i in l]\n",
        "l # 출력: [100, 200, 300, 0, 0, 0]"
      ],
      "metadata": {
        "colab": {
          "base_uri": "https://localhost:8080/"
        },
        "id": "T-AHZoZoo8YJ",
        "outputId": "81f0a4c0-94c2-46e1-e3f9-ff8858d7c2c3"
      },
      "execution_count": 2,
      "outputs": [
        {
          "output_type": "execute_result",
          "data": {
            "text/plain": [
              "[100, 200, 300, 0, 0, 0]"
            ]
          },
          "metadata": {},
          "execution_count": 2
        }
      ]
    },
    {
      "cell_type": "code",
      "source": [
        "l2 = [(lambda x : x * x)(x) for x in l]\n",
        "print(l2)"
      ],
      "metadata": {
        "colab": {
          "base_uri": "https://localhost:8080/"
        },
        "id": "sFIUY4i9puwc",
        "outputId": "838868d9-abb5-4d86-bd78-08f6afe1e1d7"
      },
      "execution_count": 4,
      "outputs": [
        {
          "output_type": "stream",
          "name": "stdout",
          "text": [
            "[10000, 40000, 90000, 0, 0, 0]\n"
          ]
        }
      ]
    },
    {
      "cell_type": "markdown",
      "source": [
        "### 1.3.2 딕셔너리 컴프리헨션"
      ],
      "metadata": {
        "id": "GNOY6Ce2qSx4"
      }
    },
    {
      "cell_type": "code",
      "source": [
        "# 전통적인 방법\n",
        "d = {}\n",
        "for i in range(5):\n",
        "    d[i] = i ** 2\n",
        "print(d)\n",
        "\n",
        "# 딕셔너리 컴프리헨션 사용\n",
        "dd = {i : i ** 2 for i in range(5)}\n",
        "print(dd)"
      ],
      "metadata": {
        "colab": {
          "base_uri": "https://localhost:8080/"
        },
        "id": "Sqf7794EqtXa",
        "outputId": "9b91bda7-ac15-451b-c157-c91d1a2aceeb"
      },
      "execution_count": 7,
      "outputs": [
        {
          "output_type": "stream",
          "name": "stdout",
          "text": [
            "{0: 0, 1: 1, 2: 4, 3: 9, 4: 16}\n",
            "{0: 0, 1: 1, 2: 4, 3: 9, 4: 16}\n"
          ]
        }
      ]
    },
    {
      "cell_type": "markdown",
      "source": [
        "## 1.4 복합 자료형 순회"
      ],
      "metadata": {
        "id": "iCXEavG7r9TV"
      }
    },
    {
      "cell_type": "code",
      "source": [
        "# 복합 순회형 자료 for문\n",
        "\n",
        "# 언패킹을 이용함\n",
        "for i, j, k in ['abc', 'def', 'ghi']:\n",
        "    print(i, j, k)"
      ],
      "metadata": {
        "colab": {
          "base_uri": "https://localhost:8080/"
        },
        "id": "oS8j-kj5q5R7",
        "outputId": "81a2db76-16fb-459e-b38b-272b30a8e1eb"
      },
      "execution_count": 8,
      "outputs": [
        {
          "output_type": "stream",
          "name": "stdout",
          "text": [
            "a b c\n",
            "d e f\n",
            "g h i\n"
          ]
        }
      ]
    },
    {
      "cell_type": "code",
      "source": [
        "skill = [\n",
        "        ('고기잡이', 100),\n",
        "        ('고기팔기', 120),\n",
        "        ('낚시', 5),\n",
        "        ('통발', 5),\n",
        "        ('큰그물', 5)\n",
        "]\n",
        "\n",
        "for i, j in skill:\n",
        "    print(i, j)"
      ],
      "metadata": {
        "colab": {
          "base_uri": "https://localhost:8080/"
        },
        "id": "vrYxG538r7A8",
        "outputId": "6f8eb825-a161-41a3-d211-82e7cb36145b"
      },
      "execution_count": 9,
      "outputs": [
        {
          "output_type": "stream",
          "name": "stdout",
          "text": [
            "고기잡이 100\n",
            "고기팔기 120\n",
            "낚시 5\n",
            "통발 5\n",
            "큰그물 5\n"
          ]
        }
      ]
    },
    {
      "cell_type": "code",
      "source": [
        "# 하나만 리스트여도 쌍이면 상관없이 잘 돌아감\n",
        "skill = [\n",
        "        ('고기잡이', 100, 'SS'),\n",
        "        ('고기팔기', 120, 'SSS'),\n",
        "        ('낚시', 5, 'C'),\n",
        "        ('통발', 5, 'C'),\n",
        "        ('큰그물', 5, 'C')\n",
        "]\n",
        "\n",
        "for skillName, skillLevel, skillGrade in skill:\n",
        "    print(skillName, skillLevel, skillGrade)"
      ],
      "metadata": {
        "colab": {
          "base_uri": "https://localhost:8080/"
        },
        "id": "_7FvqoEfskow",
        "outputId": "5a29684c-cb73-4448-98dc-45d704a85f37"
      },
      "execution_count": 12,
      "outputs": [
        {
          "output_type": "stream",
          "name": "stdout",
          "text": [
            "고기잡이 100 SS\n",
            "고기팔기 120 SSS\n",
            "낚시 5 C\n",
            "통발 5 C\n",
            "큰그물 5 C\n"
          ]
        }
      ]
    },
    {
      "cell_type": "markdown",
      "source": [
        "## 1.5 enumerate를 이용한 순회\n",
        "\n",
        "enumerate는 순서를 매길 때 사용합니다.    \n",
        "enumerate는 별도의 변수를 선언하지 않고 이것이 가능하게 해줍니다.  \n",
        "`enumerate(순회 가능한 객체, 인덱스의 시작값)`"
      ],
      "metadata": {
        "id": "sDHwIKANs0cj"
      }
    },
    {
      "cell_type": "code",
      "source": [
        "# enumerate 활용\n",
        "\n",
        "영화누적관객수 = ['레미제라블', '뷰티인사이트', '매트릭스', '인셉션', '어거스트 러쉬']\n",
        "for i in enumerate(영화누적관객수):\n",
        "    print(i)"
      ],
      "metadata": {
        "colab": {
          "base_uri": "https://localhost:8080/"
        },
        "id": "lZc7Kd-DtkHs",
        "outputId": "649be9ec-0d1d-42ab-e529-ab300c5aab3f"
      },
      "execution_count": 13,
      "outputs": [
        {
          "output_type": "stream",
          "name": "stdout",
          "text": [
            "(0, '레미제라블')\n",
            "(1, '뷰티인사이트')\n",
            "(2, '매트릭스')\n",
            "(3, '인셉션')\n",
            "(4, '어거스트 러쉬')\n"
          ]
        }
      ]
    },
    {
      "cell_type": "code",
      "source": [
        "for i, j in enumerate(영화누적관객수, 1):\n",
        "    print(f'누적관객수 {i}위! {j}!')\n",
        "    # i에는 index값 j에는 영화제목"
      ],
      "metadata": {
        "colab": {
          "base_uri": "https://localhost:8080/"
        },
        "id": "6BrQYD3Zt7uQ",
        "outputId": "f1db0b83-2cba-44a2-b17f-8bce70353b8d"
      },
      "execution_count": 14,
      "outputs": [
        {
          "output_type": "stream",
          "name": "stdout",
          "text": [
            "누적관객수 1위! 레미제라블!\n",
            "누적관객수 2위! 뷰티인사이트!\n",
            "누적관객수 3위! 매트릭스!\n",
            "누적관객수 4위! 인셉션!\n",
            "누적관객수 5위! 어거스트 러쉬!\n"
          ]
        }
      ]
    },
    {
      "cell_type": "markdown",
      "source": [
        "# 2. While문\n",
        "```\n",
        "while 구문:\n",
        "    pass # 수행할 문장\n",
        "```"
      ],
      "metadata": {
        "id": "QZYlNM5tvOxk"
      }
    },
    {
      "cell_type": "code",
      "source": [
        "# while문 기초\n",
        "a = 1\n",
        "while a < 10: # 조건이 만족할때까지\n",
        "    print(a)\n",
        "    a += 1\n",
        "\n",
        "# for문이었다면?\n",
        "for i in range(1, 10): # 범위가 끝날때까지\n",
        "    print(i)"
      ],
      "metadata": {
        "colab": {
          "base_uri": "https://localhost:8080/"
        },
        "id": "ulif78s_wM4R",
        "outputId": "d72bdaba-907f-4a2b-8501-1523fb72054e"
      },
      "execution_count": 20,
      "outputs": [
        {
          "output_type": "stream",
          "name": "stdout",
          "text": [
            "1\n",
            "2\n",
            "3\n",
            "4\n",
            "5\n",
            "6\n",
            "7\n",
            "8\n",
            "9\n"
          ]
        }
      ]
    },
    {
      "cell_type": "markdown",
      "source": [
        "# 프로그램 1: 스무고개 숫자맞추기\n",
        "\n",
        "- input을 활용해서 숫자를 입력 받으세요!\n",
        "- 20번 안에 숫자를 맞춰야하는 게임"
      ],
      "metadata": {
        "id": "J-oVsDGr0Z8U"
      }
    },
    {
      "cell_type": "code",
      "source": [
        "# 우리가 입력할 값\n",
        "nums = int(input(\"숫자를 입력해주세요(1에서 100사이): \"))"
      ],
      "metadata": {
        "colab": {
          "base_uri": "https://localhost:8080/"
        },
        "id": "K6xw5hif0kba",
        "outputId": "9b81066c-4cce-4be7-a4b9-058f2629b592"
      },
      "execution_count": 25,
      "outputs": [
        {
          "name": "stdout",
          "output_type": "stream",
          "text": [
            "숫자를 입력해주세요(1에서 100사이): 36\n"
          ]
        }
      ]
    },
    {
      "cell_type": "code",
      "source": [
        "# 우리가 맞춰야할 숫자!\n",
        "import random\n",
        "\n",
        "secret_num = random.randrange(1, 101)"
      ],
      "metadata": {
        "id": "mwM9u2rH09QK"
      },
      "execution_count": 28,
      "outputs": []
    },
    {
      "cell_type": "code",
      "source": [
        "# 정답을 위한 Step 1\n",
        "# if문을 사용해서 같으면 정답, 틀리는 틀렸습니다. 라고 출력해보기!"
      ],
      "metadata": {
        "id": "BhOf-yfd1fRj"
      },
      "execution_count": 29,
      "outputs": []
    },
    {
      "cell_type": "code",
      "source": [
        "if secret_num == nums:\n",
        "    print(\"정답!\")\n",
        "else:\n",
        "    print(\"틀렸습니다.\")"
      ],
      "metadata": {
        "colab": {
          "base_uri": "https://localhost:8080/"
        },
        "id": "vzcpRUdu1m73",
        "outputId": "9b5a5c31-e463-4246-d5f1-77c689a66203"
      },
      "execution_count": 30,
      "outputs": [
        {
          "output_type": "stream",
          "name": "stdout",
          "text": [
            "틀렸습니다.\n"
          ]
        }
      ]
    },
    {
      "cell_type": "code",
      "source": [
        "# step 1을 구현했는데...\n",
        "# 최대 100번까지 맞춰야한다.\n",
        "# input을 계속 입력해야한다.\n",
        "# 힌트가 없다.\n",
        "\n",
        "# Step 2 -> 20번을 반복하는 기능을 구현! for문"
      ],
      "metadata": {
        "id": "zIo7-EQt2HwB"
      },
      "execution_count": 31,
      "outputs": []
    },
    {
      "cell_type": "code",
      "source": [
        "secret_num = random.randrange(1, 101) # 고정값!\n",
        "\n",
        "# Step 2.1 반복할 값을 지정한다.\n",
        "for i in range(20):\n",
        "    # Step 2.2 input값을 받는다.\n",
        "    nums = int(input(\"숫자를 입력하세요(1부터 100까지): \"))\n",
        "\n",
        "    if nums == secret_num:\n",
        "        print(\"정답!\")\n",
        "    else:\n",
        "        print(\"틀렸습니다.\")\n",
        "# 계속 틀리다가 맞추면 정답! 출력 하긴한다. 20번을 무조건 반복한다."
      ],
      "metadata": {
        "id": "GAL9PDNT27_f"
      },
      "execution_count": null,
      "outputs": []
    },
    {
      "cell_type": "code",
      "source": [
        "# Step 3. 왜 틀렸는데?! Up/down 힌트를 주면 좋을것 같다.\n",
        "for i in range(20):\n",
        "    nums = int(input(\"숫자를 입력하세요(1부터 100까지): \"))\n",
        "\n",
        "    if nums == secret_num:\n",
        "        print(\"정답!\")\n",
        "    elif nums > secret_num:\n",
        "        print(\"DOWN\")\n",
        "    else:\n",
        "        print(\"UP\")\n",
        "\n",
        "# 계속 틀리다가 맞추면 정답! 출력 하긴한다. 20번을 무조건 반복한다.\n",
        "# up & down 최대한 if / elif / else"
      ],
      "metadata": {
        "id": "sfeQO6wo3CJ2"
      },
      "execution_count": null,
      "outputs": []
    },
    {
      "cell_type": "code",
      "source": [
        "# Step 4. 정답을 맞췄는데 어떻게 끝내는거임~\n",
        "for i in range(20):\n",
        "    nums = int(input(\"숫자를 입력하세요(1부터 100까지): \"))\n",
        "\n",
        "    if nums == secret_num:\n",
        "        print(\"정답!\")\n",
        "        break # 빠져나가게 하는 구문\n",
        "    elif nums > secret_num:\n",
        "        print(\"DOWN\")\n",
        "    else:\n",
        "        print(\"UP\")"
      ],
      "metadata": {
        "id": "YwpxemQl5ZLe"
      },
      "execution_count": null,
      "outputs": []
    },
    {
      "cell_type": "code",
      "source": [
        "# Step 5. 기능 추가해보기(아직안함)\n",
        "for i in range(20):\n",
        "    nums = int(input(\"숫자를 입력하세요(1부터 100까지): \"))\n",
        "\n",
        "    if nums == secret_num:\n",
        "        print(\"정답!\")\n",
        "        break # 빠져나가게 하는 구문\n",
        "    elif nums > secret_num:\n",
        "        print(\"DOWN\")\n",
        "    else:\n",
        "        print(\"UP\")"
      ],
      "metadata": {
        "id": "cAm-Kg8c7KUE"
      },
      "execution_count": null,
      "outputs": []
    },
    {
      "cell_type": "markdown",
      "source": [
        "# 프로그램 2: 가위바위보"
      ],
      "metadata": {
        "id": "7twu_i3e7a9h"
      }
    },
    {
      "cell_type": "code",
      "source": [
        "# Step 1: 우리가 낼 가위, 바위 보를 입력 받는다\n",
        "# Step 2: 컴퓨터가 낼 가위, 바위, 보를 입력 받는다.\n",
        "\n",
        "rsp = [\"가위\", \"바위\", \"보\"]\n",
        "user_choice = input(\"안내면 진다(가위,바위,보 중에 입력): \")\n",
        "computer_choice = random.choice(rsp)\n",
        "print(f\"컴퓨터는 {computer_choice}를 냈다!\")\n",
        "\n",
        "if user_choice == computer_choice:\n",
        "    print(\"비겼다!\")\n",
        "elif (user_choice == \"가위\" and computer_choice == \"바위\") \\\n",
        "    or (user_choice == \"바위\" and computer_choice == \"보\") \\\n",
        "    or (user_choice == \"보\" and computer_choice == \"가위\"):\n",
        "    print(\"당신은 졌어요.\")\n",
        "else:\n",
        "    print(\"이겼다~!\")"
      ],
      "metadata": {
        "colab": {
          "base_uri": "https://localhost:8080/"
        },
        "id": "iFBiT9Zg7eki",
        "outputId": "15c5bb5e-0343-4dae-b205-e3bbd2b5b7ce"
      },
      "execution_count": 38,
      "outputs": [
        {
          "output_type": "stream",
          "name": "stdout",
          "text": [
            "안내면 진다(가위,바위,보 중에 입력): 바위\n",
            "컴퓨터는 보를 냈다!\n",
            "당신은 졌어요.\n"
          ]
        }
      ]
    },
    {
      "cell_type": "markdown",
      "source": [
        "1. 필수적인것을 먼저 구현하자\n",
        "2. 추가 기능은 그 다음에!"
      ],
      "metadata": {
        "id": "m_0SM4mQ9qvK"
      }
    },
    {
      "cell_type": "code",
      "source": [
        "# 최지석님 코드인데 깔끔하다\n",
        "rcp_case = {\"가위\": [\"가위\", \"바위\", \"보\"], \"바위\": [\"바위\", \"보\", \"가위\"], \"보\": [\"보\", \"가위\", \"바위\"]}\n",
        "while True:\n",
        "  opponent_rcp = random.choice(rcp_case.keys())\n",
        "  my_rcp = input()\n",
        "  if rcp_case[opponent_rcp].index(my_rcp) == 0:\n",
        "    print(\"비겼습니다\")\n",
        "  elif rcp_case[opponent_rcp].index(my_rcp) == 1:\n",
        "    print('이겼습니다')\n",
        "  elif rcp_case[opponent_rcp].index(my_rcp) == 2:\n",
        "    print('졌습니다')\n",
        "  else:\n",
        "    break"
      ],
      "metadata": {
        "id": "DxDE7q1s-YKo"
      },
      "execution_count": null,
      "outputs": []
    }
  ]
}