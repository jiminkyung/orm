{
  "nbformat": 4,
  "nbformat_minor": 0,
  "metadata": {
    "colab": {
      "provenance": []
    },
    "kernelspec": {
      "name": "python3",
      "display_name": "Python 3"
    },
    "language_info": {
      "name": "python"
    }
  },
  "cells": [
    {
      "cell_type": "markdown",
      "source": [
        "# 1. 조건문"
      ],
      "metadata": {
        "id": "p2O_IMbPoBk6"
      }
    },
    {
      "cell_type": "code",
      "source": [
        "# 1.1 if문의 기본 구조\n",
        "\n",
        "# if 다음에 조건이 참인 경우에만 코드블록이 실행된다.\n",
        "x = 2 # 비교할 대상\n",
        "\n",
        "if x > 1: # 비교 식 -> 비교식이 참일 경우에 print('True')가 실행된다.\n",
        "    print('True') # 출력: True"
      ],
      "metadata": {
        "colab": {
          "base_uri": "https://localhost:8080/"
        },
        "id": "DFak19H-pNu7",
        "outputId": "58c5464d-169a-464f-f747-474e43589092"
      },
      "execution_count": 1,
      "outputs": [
        {
          "output_type": "stream",
          "name": "stdout",
          "text": [
            "True\n"
          ]
        }
      ]
    },
    {
      "cell_type": "code",
      "source": [
        "# x = 2일때\n",
        "# x = 1일때\n",
        "# x = 0일때\n",
        "\n",
        "x = 1 # 비교할 대상\n",
        "\n",
        "if x > 1:\n",
        "    print('True')\n",
        "\n",
        "# 참이 아닐 경우에는 조건식이 실행되지 않는다."
      ],
      "metadata": {
        "id": "hdx8NMjLplqn"
      },
      "execution_count": 3,
      "outputs": []
    },
    {
      "cell_type": "code",
      "source": [
        "# if가 True일때\n",
        "# 결국 x = 2 일때 if x > 1은 => True\n",
        "if True:\n",
        "    print('True') # 출력: True"
      ],
      "metadata": {
        "colab": {
          "base_uri": "https://localhost:8080/"
        },
        "id": "mIVqG1iYpvaY",
        "outputId": "a8d39992-2202-4655-e94a-5b51d03e0ed7"
      },
      "execution_count": 5,
      "outputs": [
        {
          "output_type": "stream",
          "name": "stdout",
          "text": [
            "True\n"
          ]
        }
      ]
    },
    {
      "cell_type": "markdown",
      "source": [
        "`if 정수`일 경우, 정수값은 `0`이 아니기만 하면 `True`값으로 인식된다."
      ],
      "metadata": {
        "id": "utoZt2Y0rZEj"
      }
    },
    {
      "cell_type": "code",
      "source": [
        "# if문 안의 코드블럭과 바깥의 코드블럭\n",
        "\n",
        "if -1: # 정수를 바꿔서도 실습해보세요\n",
        "    print('hello')\n",
        "print('end')"
      ],
      "metadata": {
        "colab": {
          "base_uri": "https://localhost:8080/"
        },
        "id": "NfaepuFeqO2P",
        "outputId": "7173d3da-261e-4b57-bbfb-125c87c52ffe"
      },
      "execution_count": 6,
      "outputs": [
        {
          "output_type": "stream",
          "name": "stdout",
          "text": [
            "hello\n",
            "end\n"
          ]
        }
      ]
    },
    {
      "cell_type": "markdown",
      "source": [
        "`\"\"`와 같이 `공백없는 문자열`은 `False`"
      ],
      "metadata": {
        "id": "vfiVa9eWromk"
      }
    },
    {
      "cell_type": "code",
      "source": [
        "# 공백이 있는 문자열\n",
        "if ' ':\n",
        "    print('hello')\n",
        "print('end')\n",
        "\n",
        "# 공백이 없는 문자열\n",
        "if '':\n",
        "    print('hello')\n",
        "print('end')"
      ],
      "metadata": {
        "colab": {
          "base_uri": "https://localhost:8080/"
        },
        "id": "-MY1yRFerPOE",
        "outputId": "6b68ed5e-f9bf-4e72-e949-cf58d70cb506"
      },
      "execution_count": 7,
      "outputs": [
        {
          "output_type": "stream",
          "name": "stdout",
          "text": [
            "hello\n",
            "end\n",
            "end\n"
          ]
        }
      ]
    },
    {
      "cell_type": "code",
      "source": [
        "# None은 어떻게 처리될까?\n",
        "\n",
        "if None: # None은 False로 처리됩니다.\n",
        "    print('hello')\n",
        "print('end')\n",
        "\n",
        "if not None:\n",
        "    print('hello')\n",
        "print('end')"
      ],
      "metadata": {
        "colab": {
          "base_uri": "https://localhost:8080/"
        },
        "id": "8VNh6L9frn4J",
        "outputId": "b0ff7c81-938a-4562-a2cc-f627918a1a81"
      },
      "execution_count": 9,
      "outputs": [
        {
          "output_type": "stream",
          "name": "stdout",
          "text": [
            "end\n",
            "hello\n",
            "end\n"
          ]
        }
      ]
    },
    {
      "cell_type": "markdown",
      "source": [
        "if문 안에는 함수 호출, 루프, 추가적인 if문등 어떠한 문장도 올 수 있다."
      ],
      "metadata": {
        "id": "PoH8lbDksJh4"
      }
    },
    {
      "cell_type": "code",
      "source": [
        "# 단락평가\n",
        "\n",
        "# 성능에 영향을 끼칩니다!\n",
        "def f():\n",
        "    return True # True가 무조건 반환되는 함수\n",
        "\n",
        "def ff():\n",
        "    x = 100 / 0 # error\n",
        "    return \"hello\" # 실행되지 않았으면 하는 함수\n",
        "\n",
        "# f()가 True이기 때문에 ff()는 판단(실행)해보지 않는다.\n",
        "# ff() or f()였다면 두번을 판단해야 한다.\n",
        "if f() or ff():\n",
        "    print(\"hello\") # 출력: hello"
      ],
      "metadata": {
        "id": "qZZ762M7xZwW",
        "colab": {
          "base_uri": "https://localhost:8080/"
        },
        "outputId": "6cbced32-5ef6-469a-b89e-f9a23636cfad"
      },
      "execution_count": 12,
      "outputs": [
        {
          "output_type": "stream",
          "name": "stdout",
          "text": [
            "hello\n"
          ]
        }
      ]
    },
    {
      "cell_type": "markdown",
      "source": [
        "**삼항 연산자**  \n",
        "\n",
        "삼항 연산자는 if-else 구문을 한 줄로 간단하게 표현할 수 있는 방법을 제공합니다.  \n",
        "이 연산자는 `X if 조건 else Y`와 같은 형태로 사용됩니다.  \n",
        "여기서 ‘조건’이 참이면 X가 평가되고, 거짓이면 Y가 평가됩니다.  \n",
        "(가독성을 높여주지만, 복잡한 코드에서는 되려 더 낮출수도 있음)"
      ],
      "metadata": {
        "id": "RmR-_MxMx1TT"
      }
    },
    {
      "cell_type": "code",
      "source": [
        "# 삼항 연산자\n",
        "\n",
        "x = 5\n",
        "y = 10\n",
        "# 맞았을때 조건 / if / 조건 / else / 틀렸을때 조건\n",
        "result = 'x가 더 큽니다' if x > y else 'y와 같거나 y가 더 큽니다.'\n",
        "print(result) # 출력: 'y와 같거나 y가 더 큽니다.'"
      ],
      "metadata": {
        "colab": {
          "base_uri": "https://localhost:8080/"
        },
        "id": "sPN4zikHzJam",
        "outputId": "f8d091dd-96c4-4afd-b646-b0d19e222acc"
      },
      "execution_count": 14,
      "outputs": [
        {
          "output_type": "stream",
          "name": "stdout",
          "text": [
            "y와 같거나 y가 더 큽니다.\n"
          ]
        }
      ]
    },
    {
      "cell_type": "markdown",
      "source": [
        "---"
      ],
      "metadata": {
        "id": "cl8WVEPO1No0"
      }
    },
    {
      "cell_type": "markdown",
      "source": [
        "**람다 함수**  \n",
        "\n",
        "- 익명함수 - 한줄로 표현 / 임시 함수 만들때 사용\n"
      ],
      "metadata": {
        "id": "_A4MTK7i0azO"
      }
    },
    {
      "cell_type": "code",
      "source": [
        "# 예시) 두 숫자를 더하는 간단한 람다함수 만들기\n",
        "\n",
        "# def sum(x, y):\n",
        "#     z = x + y\n",
        "#     return z\n",
        "# sum(5, 3)\n",
        "\n",
        "add = lambda x, y : x + y\n",
        "print(add(5, 3))"
      ],
      "metadata": {
        "colab": {
          "base_uri": "https://localhost:8080/"
        },
        "id": "UDCKZf_t0IiJ",
        "outputId": "8bb0a630-a282-4659-cb25-7c85e1a65665"
      },
      "execution_count": 16,
      "outputs": [
        {
          "output_type": "stream",
          "name": "stdout",
          "text": [
            "8\n"
          ]
        }
      ]
    },
    {
      "cell_type": "code",
      "source": [
        "# 홀짝!\n",
        "my_function = lambda x: 'Even' if x % 2 == 0 else 'Odd'"
      ],
      "metadata": {
        "id": "ak03JvKezovh"
      },
      "execution_count": 17,
      "outputs": []
    },
    {
      "cell_type": "markdown",
      "source": [
        "---"
      ],
      "metadata": {
        "id": "K95nFGY60y02"
      }
    },
    {
      "cell_type": "markdown",
      "source": [
        "# 2. if, elif, else와 중첩 조건문"
      ],
      "metadata": {
        "id": "JOOSb6VM1MHc"
      }
    },
    {
      "cell_type": "markdown",
      "source": [
        "## 2.1 elif, else"
      ],
      "metadata": {
        "id": "CphtHRNSBFkG"
      }
    },
    {
      "cell_type": "code",
      "source": [
        "# if, else문의 기본구조\n",
        "if 조건문: # 조건문을 확인해서 만약 '참'이면 if문 다음에 문장들은 수행한다.\n",
        "    pass\n",
        "    # 수행할 문장 1 - 참일 경우에는 수행할 문장 1이 실행\n",
        "else: # if문의 조건이 거짓이면 else문이 실행된다. else에는 조건문을 따로 적지 않는다.\n",
        "    pass\n",
        "    # 수행할 문장 2 - if의 조건문이 거짓일 경우 else에 있는 수행할문장2가 실행"
      ],
      "metadata": {
        "id": "mB7ztXMs2IL3"
      },
      "execution_count": null,
      "outputs": []
    },
    {
      "cell_type": "code",
      "source": [
        "# if문이 1개만 있을때는 거짓일때 아무것도 출력이 되지 않게!\n",
        "\n",
        "x = 3\n",
        "y = 1\n",
        "\n",
        "if x > y:\n",
        "    print('첫번째 값이 더 큽니다.')\n",
        "else:\n",
        "    print('두번째 값이 더 크거나 같습니다.')"
      ],
      "metadata": {
        "colab": {
          "base_uri": "https://localhost:8080/"
        },
        "id": "R5SjJgaR2h3s",
        "outputId": "f71510f7-58b7-4612-ae36-383d49a07c95"
      },
      "execution_count": 19,
      "outputs": [
        {
          "output_type": "stream",
          "name": "stdout",
          "text": [
            "첫번째 값이 더 큽니다.\n"
          ]
        }
      ]
    },
    {
      "cell_type": "code",
      "source": [
        "# if, elif, else문의 기본구조\n",
        "# 조건이 늘어나면 elif만 추가하면 된다. if else는 그대로!\n",
        "# elif에는 조건식이 필요하다. 단 다른 조건과 겹치지 않게! (조건을 나누는 중요함)\n",
        "\n",
        "if 조건문: # 조건문을 확인해서 만약 '참'이면 if문 다음의 문장들은 수행합니다.\n",
        "    # 수행할 문장 1\n",
        "    pass\n",
        "elif 추가조건: # if문의 조건이 '참'이 아닐때, elif문의 조건문이 참이라면 수행\n",
        "    # 수행할 문장 2\n",
        "    pass\n",
        "else: # 위 모든 if, elif문의 조건이 '참'이 아니라면 수행\n",
        "    # 수행할 문장 3\n",
        "    pass"
      ],
      "metadata": {
        "id": "HNuTdnaf3GBH"
      },
      "execution_count": null,
      "outputs": []
    },
    {
      "cell_type": "code",
      "source": [
        "score = int(input(\"성적을 입력하세요 (0~100): \"))\n",
        "\n",
        "# 비교 등호 주의!\n",
        "# 잘못된 예) if - 90점 이상 / elif - 90점 이하\n",
        "\n",
        "if score >= 90: # 90점 이상일때\n",
        "    print('A')\n",
        "elif 90 > score >= 80: # 90점 미만 80점 이상일때\n",
        "    print('B')\n",
        "elif 80 > score >= 70: # 80점 미만 70점 이상일때\n",
        "    print('C')\n",
        "elif 70 > score >= 60: # 70점 미만 60점 이상일때\n",
        "    print('D')\n",
        "else:\n",
        "    print('F')\n",
        "\n",
        "# 테스트를 다양하게 각 케이스(조건) 테스트를 수행해봐야 한다!\n",
        "#"
      ],
      "metadata": {
        "colab": {
          "base_uri": "https://localhost:8080/"
        },
        "id": "9lBbISSJ30Ey",
        "outputId": "bf2f4c59-6ab5-423a-ad52-f0d10b167033"
      },
      "execution_count": 20,
      "outputs": [
        {
          "output_type": "stream",
          "name": "stdout",
          "text": [
            "성적을 입력하세요 (0~100): 100\n",
            "A\n"
          ]
        }
      ]
    },
    {
      "cell_type": "code",
      "source": [
        "# Step 1: 성적입력 프로그램 - 기본\n",
        "score = int(input(\"성적을 입력하세요 (0~100): \"))"
      ],
      "metadata": {
        "colab": {
          "base_uri": "https://localhost:8080/"
        },
        "id": "956V_sVz4zFy",
        "outputId": "55e947aa-8eaa-4a2f-fff3-f713e032bd38"
      },
      "execution_count": 21,
      "outputs": [
        {
          "name": "stdout",
          "output_type": "stream",
          "text": [
            "성적을 입력하세요 (0~100): 120\n"
          ]
        }
      ]
    },
    {
      "cell_type": "code",
      "source": [
        "# Step 2: 기본 성적 처리 - A학점\n",
        "if score >= 90:\n",
        "    print('A')"
      ],
      "metadata": {
        "id": "YIbNDc285HQ3"
      },
      "execution_count": null,
      "outputs": []
    },
    {
      "cell_type": "code",
      "source": [
        "# Step 3: 90점이 아닐때\n",
        "if score >= 90:\n",
        "    print('A')\n",
        "else:\n",
        "    print('89점 이하입니다.')"
      ],
      "metadata": {
        "id": "aNZYEZLi5Ql4"
      },
      "execution_count": null,
      "outputs": []
    },
    {
      "cell_type": "code",
      "source": [
        "# Step 4:"
      ],
      "metadata": {
        "id": "BOQ4c0Tz5ZzP"
      },
      "execution_count": null,
      "outputs": []
    },
    {
      "cell_type": "code",
      "source": [
        "score = 81\n",
        "money = 0\n",
        "\n",
        "if score >= 90:\n",
        "    money += 1000000\n",
        "elif score >= 80:\n",
        "    money += 100000\n",
        "elif score >= 70:\n",
        "    money += 10000\n",
        "elif score >= 60:\n",
        "    money += 1000\n",
        "else:\n",
        "    money = 0\n",
        "print(money) # 출력: 100000"
      ],
      "metadata": {
        "id": "B0UcrNJE6QNN"
      },
      "execution_count": null,
      "outputs": []
    },
    {
      "cell_type": "markdown",
      "source": [
        "## 2.2 중첩 if"
      ],
      "metadata": {
        "id": "OpUbQ6pkBKc-"
      }
    },
    {
      "cell_type": "code",
      "source": [
        "# if를 중첩해서 사용하기\n",
        "movie = {\n",
        "    '영화': '레미제라블',\n",
        "    '장르': '드라마',\n",
        "    '서비스': '디즈니',\n",
        "    '비용': 15000,\n",
        "    '평점': 4.9\n",
        "}\n",
        "\n",
        "# 딕셔너리에 대한 값 비교!\n",
        "if movie['장르'] == '드라마':\n",
        "    if movie['서비스'] == '디즈니' or movie['서비스'] == '넷플릭스':\n",
        "        if movie['평점'] >= 4.5:\n",
        "            if movie['비용'] <= 20000:\n",
        "                print('영화시청') # 출력: 영화시청"
      ],
      "metadata": {
        "colab": {
          "base_uri": "https://localhost:8080/"
        },
        "id": "HsmADuV4BM1D",
        "outputId": "0f517a0c-2b16-4bdb-f1e8-7b66b7fa5dc2"
      },
      "execution_count": 23,
      "outputs": [
        {
          "output_type": "stream",
          "name": "stdout",
          "text": [
            "영화시청\n"
          ]
        }
      ]
    },
    {
      "cell_type": "code",
      "source": [
        "# and/or을 사용해서 쓸 수도 있음.\n",
        "if movie['장르'] == 'SF'\n",
        "    and (movie['서비스'] == '디즈니' or movie['서비스'] == '넷플릭스')\n",
        "    and movie['평점'] >= 4.5\n",
        "    and movie['비용'] <= 20000:\n",
        "    print('영화시청') # 출력: 영화시청"
      ],
      "metadata": {
        "id": "EuXbLOX6BP1E"
      },
      "execution_count": null,
      "outputs": []
    },
    {
      "cell_type": "markdown",
      "source": [
        "if랑 and를 같이 쓸 때에는 동일한 라인에서 사용해야 한다."
      ],
      "metadata": {
        "id": "3ZnvVvfiDBFX"
      }
    },
    {
      "cell_type": "code",
      "source": [
        "# elif 사용해서 만들기!\n",
        "\n",
        "if movie['장르'] == 'SF':\n",
        "    if movie['서비스'] == '디즈니' or movie['서비스'] == '넷플릭스':\n",
        "        if movie['평점'] >= 4.5 and movie['비용'] <= 20000:\n",
        "            print('영화시청')\n",
        "    else:\n",
        "        print(movie['서비스'] + ' 구독하기!') # 출력: 왓챠 구독하기!"
      ],
      "metadata": {
        "id": "n3UOLCDGDTR9"
      },
      "execution_count": 25,
      "outputs": []
    }
  ]
}