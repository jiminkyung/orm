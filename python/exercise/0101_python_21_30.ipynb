{
  "nbformat": 4,
  "nbformat_minor": 0,
  "metadata": {
    "colab": {
      "provenance": []
    },
    "kernelspec": {
      "name": "python3",
      "display_name": "Python 3"
    },
    "language_info": {
      "name": "python"
    }
  },
  "cells": [
    {
      "cell_type": "markdown",
      "source": [
        "1. letters가 바인딩하는 문자열에서 첫번째와 세번째 문자를 출력하세요.  \n",
        "`letter = 'python'`"
      ],
      "metadata": {
        "id": "GT9VS1ArpRt7"
      }
    },
    {
      "cell_type": "code",
      "source": [
        "letter = \"python\"\n",
        "print(letter[0], letter[2])"
      ],
      "metadata": {
        "colab": {
          "base_uri": "https://localhost:8080/"
        },
        "id": "c-PG9tGyrAck",
        "outputId": "3e5cbc0e-8061-4091-c504-d3841d964bc6"
      },
      "execution_count": 1,
      "outputs": [
        {
          "output_type": "stream",
          "name": "stdout",
          "text": [
            "p t\n"
          ]
        }
      ]
    },
    {
      "cell_type": "markdown",
      "source": [
        "2. 자동차 번호가 다음과 같을 때 뒤에 4자리만 출력하세요.  \n",
        "`license_plate = \"24가 2210\"` 실행 예: `2210`"
      ],
      "metadata": {
        "id": "eing0Frdpk7A"
      }
    },
    {
      "cell_type": "code",
      "source": [
        "license_plate = \"24가 2210\"\n",
        "print(license_plate[4:])"
      ],
      "metadata": {
        "colab": {
          "base_uri": "https://localhost:8080/"
        },
        "id": "-yMg4DwDrKAE",
        "outputId": "0d87b0c4-8d75-4069-b62c-1b255e72eaa0"
      },
      "execution_count": 2,
      "outputs": [
        {
          "output_type": "stream",
          "name": "stdout",
          "text": [
            "2210\n"
          ]
        }
      ]
    },
    {
      "cell_type": "code",
      "source": [
        "# 답은\n",
        "print(license_plate[-4:])"
      ],
      "metadata": {
        "colab": {
          "base_uri": "https://localhost:8080/"
        },
        "id": "CxmSL43eralg",
        "outputId": "abdc7076-aa4b-487c-e43a-4c9bfb9c0d74"
      },
      "execution_count": 3,
      "outputs": [
        {
          "output_type": "stream",
          "name": "stdout",
          "text": [
            "2210\n"
          ]
        }
      ]
    },
    {
      "cell_type": "markdown",
      "source": [
        "3. 아래의 문자열에서 '홀' 만 출력하세요.  \n",
        "`string = \"홀짝홀짝홀짝\"`"
      ],
      "metadata": {
        "id": "7Jd2zQHQpp7y"
      }
    },
    {
      "cell_type": "code",
      "source": [
        "string = \"홀짝홀짝홀짝\"\n",
        "print(string[::2]) # [시작인덱스:끝인덱스:오프셋]"
      ],
      "metadata": {
        "colab": {
          "base_uri": "https://localhost:8080/"
        },
        "id": "dQODiicerJSN",
        "outputId": "38e6ee48-8ab4-4434-d454-776c66d77512"
      },
      "execution_count": 4,
      "outputs": [
        {
          "output_type": "stream",
          "name": "stdout",
          "text": [
            "홀홀홀\n"
          ]
        }
      ]
    },
    {
      "cell_type": "markdown",
      "source": [
        "4. 문자열을 거꾸로 뒤집어 출력하세요.  \n",
        "`string = \"PYTHON\"`"
      ],
      "metadata": {
        "id": "iLkJOmLqpqHx"
      }
    },
    {
      "cell_type": "code",
      "source": [
        "string = \"PYTHON\"\n",
        "print(string[::-1])"
      ],
      "metadata": {
        "colab": {
          "base_uri": "https://localhost:8080/"
        },
        "id": "MEbG_9Xbr216",
        "outputId": "18d2f823-779e-4720-95d6-5f457c101639"
      },
      "execution_count": 5,
      "outputs": [
        {
          "output_type": "stream",
          "name": "stdout",
          "text": [
            "NOHTYP\n"
          ]
        }
      ]
    },
    {
      "cell_type": "markdown",
      "source": [
        "5. 아래의 전화번호에서 하이푼 ('-')을 제거하고 출력하세요.  \n",
        "`phone_number = \"010-1111-2222\"`"
      ],
      "metadata": {
        "id": "wMFc4aWRprFC"
      }
    },
    {
      "cell_type": "code",
      "source": [
        "phone_number = \"010-1111-2222\"\n",
        "print(phone_number.replace(\"-\", \"\"))"
      ],
      "metadata": {
        "colab": {
          "base_uri": "https://localhost:8080/"
        },
        "id": "lGJ8UpEEsAZY",
        "outputId": "916e0a2c-1378-404d-8a26-9bf82308d77c"
      },
      "execution_count": 6,
      "outputs": [
        {
          "output_type": "stream",
          "name": "stdout",
          "text": [
            "01011112222\n"
          ]
        }
      ]
    },
    {
      "cell_type": "code",
      "source": [
        "# 답은 중간에 띄어쓰기가 있었어야 했음\n",
        "print(phone_number.replace(\"-\", \" \"))"
      ],
      "metadata": {
        "colab": {
          "base_uri": "https://localhost:8080/"
        },
        "id": "32YGl-evsTu5",
        "outputId": "e0b62b02-5626-44fe-d8fa-c635d06669a2"
      },
      "execution_count": 7,
      "outputs": [
        {
          "output_type": "stream",
          "name": "stdout",
          "text": [
            "010 1111 2222\n"
          ]
        }
      ]
    },
    {
      "cell_type": "markdown",
      "source": [
        "6. 25번 문제의 전화번호를 아래와 같이 모두 붙여 출력하세요.  \n",
        "실행 예: `01011112222`"
      ],
      "metadata": {
        "id": "csJuYoOOprU8"
      }
    },
    {
      "cell_type": "code",
      "source": [
        "# 위에"
      ],
      "metadata": {
        "id": "Bvoy_5uusbr2"
      },
      "execution_count": 8,
      "outputs": []
    },
    {
      "cell_type": "markdown",
      "source": [
        "7. url 에 저장된 웹 페이지 주소에서 도메인을 출력하세요.  \n",
        "`url = \"http://sharebook.kr\"` 실행 예: `kr`"
      ],
      "metadata": {
        "id": "6RDLSermprcr"
      }
    },
    {
      "cell_type": "code",
      "source": [
        "url = \"http://sharebook.kr\"\n",
        "print(url[-2:])"
      ],
      "metadata": {
        "colab": {
          "base_uri": "https://localhost:8080/"
        },
        "id": "SaZ8t7jxsgqL",
        "outputId": "c282fbd8-bf7a-4a53-cc2d-9efc11b73ac1"
      },
      "execution_count": 9,
      "outputs": [
        {
          "output_type": "stream",
          "name": "stdout",
          "text": [
            "kr\n"
          ]
        }
      ]
    },
    {
      "cell_type": "code",
      "source": [
        "# 답은\n",
        "url_split = url.split('.') # .을 기준으로 분리\n",
        "print(url_split[-1]) # 마지막만 인덱싱"
      ],
      "metadata": {
        "colab": {
          "base_uri": "https://localhost:8080/"
        },
        "id": "7Bpgbepjsq_l",
        "outputId": "fdd864b2-d908-4846-9bcc-569520bee072"
      },
      "execution_count": 10,
      "outputs": [
        {
          "output_type": "stream",
          "name": "stdout",
          "text": [
            "kr\n"
          ]
        }
      ]
    },
    {
      "cell_type": "markdown",
      "source": [
        "8. 아래 코드의 실행 결과를 예상해보세요.\n",
        "```\n",
        "lang = 'python'\n",
        "lang[0] = 'P'\n",
        "print(lang)\n",
        "```"
      ],
      "metadata": {
        "id": "PuaFw9o6prkC"
      }
    },
    {
      "cell_type": "code",
      "source": [
        "# 'Python'이겠지\n",
        "lang = 'python'\n",
        "lang[0] = 'P'\n",
        "print(lang)"
      ],
      "metadata": {
        "colab": {
          "base_uri": "https://localhost:8080/",
          "height": 230
        },
        "id": "ZnPpbPIUsqJW",
        "outputId": "a0721af2-a025-4324-b021-16a687e01f8b"
      },
      "execution_count": 12,
      "outputs": [
        {
          "output_type": "error",
          "ename": "TypeError",
          "evalue": "ignored",
          "traceback": [
            "\u001b[0;31m---------------------------------------------------------------------------\u001b[0m",
            "\u001b[0;31mTypeError\u001b[0m                                 Traceback (most recent call last)",
            "\u001b[0;32m<ipython-input-12-ca9b0b13280c>\u001b[0m in \u001b[0;36m<cell line: 3>\u001b[0;34m()\u001b[0m\n\u001b[1;32m      1\u001b[0m \u001b[0;31m# 'Python'이겠지\u001b[0m\u001b[0;34m\u001b[0m\u001b[0;34m\u001b[0m\u001b[0m\n\u001b[1;32m      2\u001b[0m \u001b[0mlang\u001b[0m \u001b[0;34m=\u001b[0m \u001b[0;34m'python'\u001b[0m\u001b[0;34m\u001b[0m\u001b[0;34m\u001b[0m\u001b[0m\n\u001b[0;32m----> 3\u001b[0;31m \u001b[0mlang\u001b[0m\u001b[0;34m[\u001b[0m\u001b[0;36m0\u001b[0m\u001b[0;34m]\u001b[0m \u001b[0;34m=\u001b[0m \u001b[0;34m'P'\u001b[0m\u001b[0;34m\u001b[0m\u001b[0;34m\u001b[0m\u001b[0m\n\u001b[0m\u001b[1;32m      4\u001b[0m \u001b[0mprint\u001b[0m\u001b[0;34m(\u001b[0m\u001b[0mlang\u001b[0m\u001b[0;34m)\u001b[0m\u001b[0;34m\u001b[0m\u001b[0;34m\u001b[0m\u001b[0m\n",
            "\u001b[0;31mTypeError\u001b[0m: 'str' object does not support item assignment"
          ]
        }
      ]
    },
    {
      "cell_type": "code",
      "source": [
        "# 문자열은 수정할 수 없다..."
      ],
      "metadata": {
        "id": "TJq4120VtJXb"
      },
      "execution_count": 13,
      "outputs": []
    },
    {
      "cell_type": "markdown",
      "source": [
        "9.아래 문자열에서 소문자 'a'를 대문자 'A'로 변경하세요.  \n",
        "`string = 'abcdfe2a354a32a'`"
      ],
      "metadata": {
        "id": "d_etPEmqprp8"
      }
    },
    {
      "cell_type": "code",
      "source": [
        "string = 'abcdfe2a354a32a'\n",
        "print(string.replace(\"a\", \"A\"))"
      ],
      "metadata": {
        "colab": {
          "base_uri": "https://localhost:8080/"
        },
        "id": "DGMSBgqxtP3t",
        "outputId": "43b36621-81ba-430f-f623-88c7ac304683"
      },
      "execution_count": 14,
      "outputs": [
        {
          "output_type": "stream",
          "name": "stdout",
          "text": [
            "Abcdfe2A354A32A\n"
          ]
        }
      ]
    },
    {
      "cell_type": "markdown",
      "source": [
        "10. 아래 코드의 실행 결과를 예상해보세요.\n",
        "```\n",
        "string = 'abcd'\n",
        "string.replace('b', 'B')\n",
        "print(string)\n",
        "```"
      ],
      "metadata": {
        "id": "bO19Xt_JprwA"
      }
    },
    {
      "cell_type": "code",
      "source": [
        "# 'aBcd'일것임\n",
        "string = 'abcd'\n",
        "string.replace('b', 'B')\n",
        "print(string)"
      ],
      "metadata": {
        "colab": {
          "base_uri": "https://localhost:8080/"
        },
        "id": "fN7Q0PuOtaDO",
        "outputId": "583c0ec5-e817-48f2-b62c-00653f07027b"
      },
      "execution_count": 15,
      "outputs": [
        {
          "output_type": "stream",
          "name": "stdout",
          "text": [
            "abcd\n"
          ]
        }
      ]
    },
    {
      "cell_type": "code",
      "source": [
        "# `abcd`가 그대로 출력됩니다.\n",
        "# 왜냐하면 문자열은 변경할 수 없는 자료형이기 때문입니다.\n",
        "# replace 메서드를 사용하면 원본은 그대로 둔채로 변경된 새로운 문자열 객체를 리턴해줍니다."
      ],
      "metadata": {
        "id": "cgUVrhw-thY_"
      },
      "execution_count": 16,
      "outputs": []
    }
  ]
}