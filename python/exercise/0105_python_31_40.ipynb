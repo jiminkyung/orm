{
  "nbformat": 4,
  "nbformat_minor": 0,
  "metadata": {
    "colab": {
      "provenance": []
    },
    "kernelspec": {
      "name": "python3",
      "display_name": "Python 3"
    },
    "language_info": {
      "name": "python"
    }
  },
  "cells": [
    {
      "cell_type": "markdown",
      "source": [
        "# 31번\n",
        "```\n",
        "문자열 합치기\n",
        "아래 코드의 실행 결과를 예상해보세요.\n",
        "\n",
        ">> a = \"3\"\n",
        ">> b = \"4\"\n",
        ">> print(a + b)\n",
        "```"
      ],
      "metadata": {
        "id": "mZGIQNuK39LT"
      }
    },
    {
      "cell_type": "code",
      "source": [
        "# 예상 답안: \"34\"\n",
        "# 문자열 + 문자열이기 때문에 단순히 이어붙이는 형식으로 출력된다."
      ],
      "metadata": {
        "id": "dwAyo4-94Pf4"
      },
      "execution_count": null,
      "outputs": []
    },
    {
      "cell_type": "markdown",
      "source": [
        "# 32번\n",
        "```\n",
        "문자열 곱하기\n",
        "아래 코드의 실행 결과를 예상해보세요.\n",
        "\n",
        ">> print(\"Hi\" * 3)\n",
        "```"
      ],
      "metadata": {
        "id": "2wYOHCer4gNk"
      }
    },
    {
      "cell_type": "code",
      "source": [
        "# 예상 답안: HiHiHi"
      ],
      "metadata": {
        "id": "aveGGdnD4kNC"
      },
      "execution_count": null,
      "outputs": []
    },
    {
      "cell_type": "markdown",
      "source": [
        "# 33번\n",
        "```\n",
        "화면에 '-'를 80개 출력하세요.\n",
        "\n",
        "실행 예:\n",
        "--------------------------------------------------------------------------------\n",
        "```"
      ],
      "metadata": {
        "id": "VV2tuEj24pIG"
      }
    },
    {
      "cell_type": "code",
      "source": [
        "print(\"-\" * 80)"
      ],
      "metadata": {
        "colab": {
          "base_uri": "https://localhost:8080/"
        },
        "id": "0-eOcyPg4v9u",
        "outputId": "e85c1fe6-bfed-42a3-d439-6115e6dd21b1"
      },
      "execution_count": null,
      "outputs": [
        {
          "output_type": "stream",
          "name": "stdout",
          "text": [
            "--------------------------------------------------------------------------------\n"
          ]
        }
      ]
    },
    {
      "cell_type": "markdown",
      "source": [
        "# 34번\n",
        "```\n",
        "변수에 다음과 같은 문자열이 바인딩되어 있습니다.\n",
        "\n",
        ">>> t1 = 'python'\n",
        ">>> t2 = 'java'\n",
        "변수에 문자열 더하기와 문자열 곱하기를 사용해서 아래와 같이 출력해보세요.\n",
        "\n",
        "실행 예:\n",
        "python java python java python java python java\n",
        "```"
      ],
      "metadata": {
        "id": "24jLEFGn4yX9"
      }
    },
    {
      "cell_type": "code",
      "source": [
        "t1 = \"python\"\n",
        "t2 = \"java\"\n",
        "result = t1 + \" \" + t2 + \" \"\n",
        "print(result * 4)"
      ],
      "metadata": {
        "colab": {
          "base_uri": "https://localhost:8080/"
        },
        "id": "hF_mQsbq43Jo",
        "outputId": "0f046f77-5dec-4ff8-9e78-911eeff4f5e9"
      },
      "execution_count": null,
      "outputs": [
        {
          "output_type": "stream",
          "name": "stdout",
          "text": [
            "python java python java python java python java \n"
          ]
        }
      ]
    },
    {
      "cell_type": "markdown",
      "source": [
        "# 35번, 36번, 37번\n",
        "```\n",
        "변수에 다음과 같이 문자열과 정수가 바인딩되어 있을 때 % formatting을 사용해서 다음과 같이 출력해보세요.\n",
        "\n",
        "name1 = \"김민수\"\n",
        "age1 = 10\n",
        "name2 = \"이철희\"\n",
        "age2 = 13\n",
        "이름: 김민수 나이: 10\n",
        "이름: 이철희 나이: 13\n",
        "```"
      ],
      "metadata": {
        "id": "kmLyKCEi4_Rb"
      }
    },
    {
      "cell_type": "code",
      "source": [
        "name1 = \"김민수\"\n",
        "age1 = 10\n",
        "name2 = \"이철희\"\n",
        "age2 = 13"
      ],
      "metadata": {
        "id": "IJIVEI5C5eTq"
      },
      "execution_count": null,
      "outputs": []
    },
    {
      "cell_type": "code",
      "source": [
        "# 기억 잘 안남\n",
        "print(\"이름: %s 나이: %d\" % (name1, age1))\n",
        "print(\"이름: %s 나이: %d\" % (name2, age2))"
      ],
      "metadata": {
        "colab": {
          "base_uri": "https://localhost:8080/"
        },
        "id": "ae4TDG_b5gU2",
        "outputId": "e59d9181-cdb5-4275-845c-bfaf00ec5f42"
      },
      "execution_count": null,
      "outputs": [
        {
          "output_type": "stream",
          "name": "stdout",
          "text": [
            "이름: 김민수 나이: 10\n",
            "이름: 이철희 나이: 13\n"
          ]
        }
      ]
    },
    {
      "cell_type": "markdown",
      "source": [
        "36번  \n",
        "문자열의 format( ) 메서드를 사용해서 035번 문제를 다시 풀어보세요.\n"
      ],
      "metadata": {
        "id": "TYlQzvlN6CFp"
      }
    },
    {
      "cell_type": "code",
      "source": [
        "print(\"이름: {} 나이: {}\".format(name1, age1))\n",
        "print(\"이름: {} 나이: {}\".format(name2, age2))"
      ],
      "metadata": {
        "colab": {
          "base_uri": "https://localhost:8080/"
        },
        "id": "PAqx7Opd6G9F",
        "outputId": "dba42d97-798b-4090-f44d-6358a487556c"
      },
      "execution_count": null,
      "outputs": [
        {
          "output_type": "stream",
          "name": "stdout",
          "text": [
            "이름: 김민수 나이: 10\n",
            "이름: 이철희 나이: 13\n"
          ]
        }
      ]
    },
    {
      "cell_type": "markdown",
      "source": [
        "37번  \n",
        "파이썬 3.6부터 지원하는 f-string을 사용해서 035번 문제를 다시 풀어보세요."
      ],
      "metadata": {
        "id": "NzjTlY5a6Scc"
      }
    },
    {
      "cell_type": "code",
      "source": [
        "print(f\"이름: {name1} 나이: {age1}\")\n",
        "print(f\"이름: {name2} 나이: {age2}\")"
      ],
      "metadata": {
        "colab": {
          "base_uri": "https://localhost:8080/"
        },
        "id": "CP20jrnZ6VSL",
        "outputId": "2bbdf1ae-4462-4e19-8e8f-2b58222ac4a9"
      },
      "execution_count": null,
      "outputs": [
        {
          "output_type": "stream",
          "name": "stdout",
          "text": [
            "이름: 김민수 나이: 10\n",
            "이름: 이철희 나이: 13\n"
          ]
        }
      ]
    },
    {
      "cell_type": "markdown",
      "source": [
        "# 38번\n",
        "```\n",
        "삼성전자의 상장주식수가 다음과 같습니다. 컴마를 제거한 후 이를 정수 타입으로 변환해보세요.\n",
        "\n",
        "상장주식수 = \"5,969,782,550\"\n",
        "```"
      ],
      "metadata": {
        "id": "Oruuonsd6dOw"
      }
    },
    {
      "cell_type": "code",
      "source": [
        "상장주식수 = \"5,969,782,550\"\n",
        "print(int(상장주식수.replace(\",\", \"\")))\n",
        "print(type(int(상장주식수.replace(\",\", \"\"))))"
      ],
      "metadata": {
        "colab": {
          "base_uri": "https://localhost:8080/"
        },
        "id": "C7WKVjhR6hNf",
        "outputId": "d0bfc9d5-375d-454e-c358-13fef414966c"
      },
      "execution_count": null,
      "outputs": [
        {
          "output_type": "stream",
          "name": "stdout",
          "text": [
            "5969782550\n",
            "<class 'int'>\n"
          ]
        }
      ]
    },
    {
      "cell_type": "markdown",
      "source": [
        "# 39번\n",
        "```\n",
        "다음과 같은 문자열에서 '2020/03'만 출력하세요.\n",
        "\n",
        "분기 = \"2020/03(E) (IFRS연결)\"\n",
        "```"
      ],
      "metadata": {
        "id": "xtxlORbv6rOB"
      }
    },
    {
      "cell_type": "code",
      "source": [
        "분기 = \"2020/03(E) (IFRS연결)\"\n",
        "분기[:7]"
      ],
      "metadata": {
        "colab": {
          "base_uri": "https://localhost:8080/",
          "height": 36
        },
        "id": "sIiOH1C269tK",
        "outputId": "274a23a2-d7f0-4bf0-d3f4-7fc445931c61"
      },
      "execution_count": null,
      "outputs": [
        {
          "output_type": "execute_result",
          "data": {
            "text/plain": [
              "'2020/03'"
            ],
            "application/vnd.google.colaboratory.intrinsic+json": {
              "type": "string"
            }
          },
          "metadata": {},
          "execution_count": 17
        }
      ]
    },
    {
      "cell_type": "markdown",
      "source": [
        "# 40번\n",
        "```\n",
        "문자열의 좌우의 공백이 있을 때 이를 제거해보세요.\n",
        "\n",
        "data = \"   삼성전자    \"\n",
        "```"
      ],
      "metadata": {
        "id": "oHqRZ5F87DTx"
      }
    },
    {
      "cell_type": "code",
      "source": [
        "data = \"   삼성전자    \"\n",
        "data.strip()"
      ],
      "metadata": {
        "id": "ZdZizr9n7ILU",
        "outputId": "e70bb905-28bf-47f5-cc00-8ea22cd4c531",
        "colab": {
          "base_uri": "https://localhost:8080/",
          "height": 36
        }
      },
      "execution_count": null,
      "outputs": [
        {
          "output_type": "execute_result",
          "data": {
            "text/plain": [
              "'삼성전자'"
            ],
            "application/vnd.google.colaboratory.intrinsic+json": {
              "type": "string"
            }
          },
          "metadata": {},
          "execution_count": 18
        }
      ]
    }
  ]
}