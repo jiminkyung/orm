{
  "nbformat": 4,
  "nbformat_minor": 0,
  "metadata": {
    "colab": {
      "provenance": [],
      "authorship_tag": "ABX9TyOz9g50iBIZR1XhnWlhEPhn",
      "include_colab_link": true
    },
    "kernelspec": {
      "name": "python3",
      "display_name": "Python 3"
    },
    "language_info": {
      "name": "python"
    }
  },
  "cells": [
    {
      "cell_type": "markdown",
      "metadata": {
        "id": "view-in-github",
        "colab_type": "text"
      },
      "source": [
        "<a href=\"https://colab.research.google.com/github/jiminkyung/orm/blob/main/python/exercise/240121_python_131_160.ipynb\" target=\"_parent\"><img src=\"https://colab.research.google.com/assets/colab-badge.svg\" alt=\"Open In Colab\"/></a>"
      ]
    },
    {
      "cell_type": "markdown",
      "source": [
        "# 131\n",
        "for문의 실행결과를 예측하라.\n",
        "```\n",
        "과일 = [\"사과\", \"귤\", \"수박\"]\n",
        "for 변수 in 과일:\n",
        "    print(변수)\n",
        "```"
      ],
      "metadata": {
        "id": "1YP2w4oimV9T"
      }
    },
    {
      "cell_type": "code",
      "source": [
        "# \"사과\"\n",
        "# \"귤\"\n",
        "# \"수박\""
      ],
      "metadata": {
        "id": "0oXJyrYBmoaE"
      },
      "execution_count": 1,
      "outputs": []
    },
    {
      "cell_type": "markdown",
      "source": [
        "# 132\n",
        "for문의 실행결과를 예측하라.\n",
        "```\n",
        "과일 = [\"사과\", \"귤\", \"수박\"]\n",
        "for 변수 in 과일:\n",
        "  print(\"#####\")\n",
        "```"
      ],
      "metadata": {
        "id": "0dWeI6m3mu5q"
      }
    },
    {
      "cell_type": "code",
      "source": [
        "# 변수의 갯수가 총 3개이므로 print문안의 문자열이 3번 출력된다."
      ],
      "metadata": {
        "id": "wuh5J9rqmztz"
      },
      "execution_count": 2,
      "outputs": []
    },
    {
      "cell_type": "markdown",
      "source": [
        "# 133\n",
        "다음 for 문과 동일한 기능을 수행하는 코드를 작성하세요.\n",
        "```\n",
        "for 변수 in [\"A\", \"B\", \"C\"]:\n",
        "  print(변수)\n",
        "```"
      ],
      "metadata": {
        "id": "9w7fE_uVm7F2"
      }
    },
    {
      "cell_type": "code",
      "source": [
        "a, b, c = [\"A\", \"B\", \"C\"]\n",
        "print(a)\n",
        "print(b)\n",
        "print(c)"
      ],
      "metadata": {
        "colab": {
          "base_uri": "https://localhost:8080/"
        },
        "id": "ieoCuIzlnAes",
        "outputId": "2d18d244-0e52-45f2-aafb-3e722315c4e4"
      },
      "execution_count": 4,
      "outputs": [
        {
          "output_type": "stream",
          "name": "stdout",
          "text": [
            "A\n",
            "B\n",
            "C\n"
          ]
        }
      ]
    },
    {
      "cell_type": "markdown",
      "source": [
        "# 134\n",
        "for문을 풀어서 동일한 동작을하는 코드를 작성하라.\n",
        "```\n",
        "for 변수 in [\"A\", \"B\", \"C\"]:\n",
        "  print(\"출력:\", 변수)\n",
        "```"
      ],
      "metadata": {
        "id": "NtWA-YK0ndiR"
      }
    },
    {
      "cell_type": "code",
      "source": [
        "print(\"출력: \", \"A\")\n",
        "print(\"출력: \", \"B\")\n",
        "print(\"출력: \", \"C\")"
      ],
      "metadata": {
        "colab": {
          "base_uri": "https://localhost:8080/"
        },
        "id": "C-T-pg35nxLf",
        "outputId": "d9c82ee2-e9a2-4374-c5f3-c83c3ba429b2"
      },
      "execution_count": 5,
      "outputs": [
        {
          "output_type": "stream",
          "name": "stdout",
          "text": [
            "출력:  A\n",
            "출력:  B\n",
            "출력:  C\n"
          ]
        }
      ]
    },
    {
      "cell_type": "markdown",
      "source": [
        "# 135\n",
        "for문을 풀어서 동일한 동작을 하는 코드를 작성하라.\n",
        "```\n",
        "for 변수 in [\"A\", \"B\", \"C\"]:\n",
        "  b = 변수.lower()\n",
        "  print(\"변환:\", b)\n",
        "```"
      ],
      "metadata": {
        "id": "tjxGi0Uan31d"
      }
    },
    {
      "cell_type": "code",
      "source": [
        "print(\"변환: \", \"A\".lower())\n",
        "print(\"변환: \", \"B\".lower())\n",
        "print(\"변환: \", \"B\".lower())"
      ],
      "metadata": {
        "colab": {
          "base_uri": "https://localhost:8080/"
        },
        "id": "UXXiQBreoFMw",
        "outputId": "590e1526-9de9-4a9e-b1dd-f9cdef90651c"
      },
      "execution_count": 6,
      "outputs": [
        {
          "output_type": "stream",
          "name": "stdout",
          "text": [
            "변환:  a\n",
            "변환:  b\n",
            "변환:  b\n"
          ]
        }
      ]
    },
    {
      "cell_type": "markdown",
      "source": [
        "# 136\n",
        "다음 코드를 for문으로 작성하라.\n",
        "```\n",
        "변수 = 10\n",
        "print(변수)\n",
        "변수 = 20\n",
        "print(변수)\n",
        "변수 = 30\n",
        "print(변수)\n",
        "```"
      ],
      "metadata": {
        "id": "b1059z_JoMMH"
      }
    },
    {
      "cell_type": "code",
      "source": [
        "for i in range(10, 31, 10):\n",
        "    print(i)"
      ],
      "metadata": {
        "colab": {
          "base_uri": "https://localhost:8080/"
        },
        "id": "cwvuGlEZoRxZ",
        "outputId": "fc49fc40-3f47-4ba9-9281-d2c3798cccc7"
      },
      "execution_count": 7,
      "outputs": [
        {
          "output_type": "stream",
          "name": "stdout",
          "text": [
            "10\n",
            "20\n",
            "30\n"
          ]
        }
      ]
    },
    {
      "cell_type": "markdown",
      "source": [
        "# 137\n",
        "다음 코드를 for문으로 작성하라.\n",
        "```\n",
        "print(10)\n",
        "print(20)\n",
        "print(30)\n",
        "```"
      ],
      "metadata": {
        "id": "YpTbqCj7oZAu"
      }
    },
    {
      "cell_type": "code",
      "source": [
        "# 136번과 같음."
      ],
      "metadata": {
        "id": "tGeuv1Y8ohQq"
      },
      "execution_count": 8,
      "outputs": []
    },
    {
      "cell_type": "markdown",
      "source": [
        "# 138\n",
        "다음 코드를 for문으로 작성하라.\n",
        "```\n",
        "print(10)\n",
        "print(\"-------\")\n",
        "print(20)\n",
        "print(\"-------\")\n",
        "print(30)\n",
        "print(\"-------\")\n",
        "```"
      ],
      "metadata": {
        "id": "hb3-MdeTolal"
      }
    },
    {
      "cell_type": "code",
      "source": [
        "for i in range(10, 31, 10):\n",
        "    print(i, \"-------\", sep=\"\\n\")"
      ],
      "metadata": {
        "colab": {
          "base_uri": "https://localhost:8080/"
        },
        "id": "SrGl_aSrostc",
        "outputId": "ffce835f-3bfe-406b-b1f2-7f7799fcebc2"
      },
      "execution_count": 9,
      "outputs": [
        {
          "output_type": "stream",
          "name": "stdout",
          "text": [
            "10\n",
            "-------\n",
            "20\n",
            "-------\n",
            "30\n",
            "-------\n"
          ]
        }
      ]
    },
    {
      "cell_type": "markdown",
      "source": [
        "# 139\n",
        "다음 코드를 for문으로 작성하라.\n",
        "```\n",
        "print(\"++++\")\n",
        "print(10)\n",
        "print(20)\n",
        "print(30)\n",
        "```"
      ],
      "metadata": {
        "id": "RM73g1GRo8J8"
      }
    },
    {
      "cell_type": "code",
      "source": [
        "print(\"++++\")\n",
        "for i in range(10, 31, 10):\n",
        "    print(i)"
      ],
      "metadata": {
        "colab": {
          "base_uri": "https://localhost:8080/"
        },
        "id": "iDLj4jA7pDEW",
        "outputId": "8ba748b6-50fd-409a-a1dc-48fbbabeb37c"
      },
      "execution_count": 10,
      "outputs": [
        {
          "output_type": "stream",
          "name": "stdout",
          "text": [
            "++++\n",
            "10\n",
            "20\n",
            "30\n"
          ]
        }
      ]
    },
    {
      "cell_type": "markdown",
      "source": [
        "# 140\n",
        "다음 코드를 for문으로 작성하라.\n",
        "```\n",
        "print(\"-------\")\n",
        "print(\"-------\")\n",
        "print(\"-------\")\n",
        "print(\"-------\")\n",
        "```"
      ],
      "metadata": {
        "id": "XwgvMTLYpPaW"
      }
    },
    {
      "cell_type": "code",
      "source": [
        "for i in range(4):\n",
        "    print(\"-------\")"
      ],
      "metadata": {
        "colab": {
          "base_uri": "https://localhost:8080/"
        },
        "id": "CxnxZqORpUK1",
        "outputId": "3b4ca2ac-04ca-4ff9-85d3-c43c00d6d945"
      },
      "execution_count": 11,
      "outputs": [
        {
          "output_type": "stream",
          "name": "stdout",
          "text": [
            "-------\n",
            "-------\n",
            "-------\n",
            "-------\n"
          ]
        }
      ]
    },
    {
      "cell_type": "markdown",
      "source": [
        "---"
      ],
      "metadata": {
        "id": "VC9HbvgepX8T"
      }
    },
    {
      "cell_type": "markdown",
      "source": [
        "# 141\n",
        "다음과 같이 판매가가 저장된 리스트가 있을 때 부가세가 포함된 가격을 for 문을 사용해서 화면에 출력하라. 단 부가세는 10원으로 가정한다.\n",
        "```\n",
        "리스트 = [100, 200, 300]\n",
        "110\n",
        "210\n",
        "310\n",
        "```"
      ],
      "metadata": {
        "id": "n4PVHw47pde5"
      }
    },
    {
      "cell_type": "code",
      "source": [
        "리스트 = [100, 200, 300]\n",
        "부가세 = 10\n",
        "for i in 리스트:\n",
        "    print(i + 부가세)"
      ],
      "metadata": {
        "colab": {
          "base_uri": "https://localhost:8080/"
        },
        "id": "oIwv6eZepjct",
        "outputId": "f8dd2596-e07f-4def-a747-4050b2359dc4"
      },
      "execution_count": 12,
      "outputs": [
        {
          "output_type": "stream",
          "name": "stdout",
          "text": [
            "110\n",
            "210\n",
            "310\n"
          ]
        }
      ]
    },
    {
      "cell_type": "markdown",
      "source": [
        "# 142\n",
        "for 문을 사용해서 리스트에 저장된 값을 다음과 같이 출력하라.\n",
        "```\n",
        "리스트 = [\"김밥\", \"라면\", \"튀김\"]\n",
        "오늘의 메뉴: 김밥\n",
        "오늘의 메뉴: 라면\n",
        "오늘의 메뉴: 튀김\n",
        "```"
      ],
      "metadata": {
        "id": "DUOCm4gWprVu"
      }
    },
    {
      "cell_type": "code",
      "source": [
        "리스트 = [\"김밥\", \"라면\", \"튀김\"]\n",
        "for i in 리스트:\n",
        "    print(f\"오늘의 메뉴: {i}\")"
      ],
      "metadata": {
        "colab": {
          "base_uri": "https://localhost:8080/"
        },
        "id": "P7GTgnx-pyH3",
        "outputId": "5655bab9-4685-4f4c-b0ac-f8df17ec95df"
      },
      "execution_count": 13,
      "outputs": [
        {
          "output_type": "stream",
          "name": "stdout",
          "text": [
            "오늘의 메뉴: 김밥\n",
            "오늘의 메뉴: 라면\n",
            "오늘의 메뉴: 튀김\n"
          ]
        }
      ]
    },
    {
      "cell_type": "markdown",
      "source": [
        "# 143\n",
        "리스트에 주식 종목이름이 저장돼 있다.\n",
        "```\n",
        "리스트 = [\"SK하이닉스\", \"삼성전자\", \"LG전자\"]\n",
        "```\n",
        "저장된 문자열의 길이를 다음과 같이 출력하라.\n",
        "```\n",
        "6\n",
        "4\n",
        "4\n",
        "```"
      ],
      "metadata": {
        "id": "55UhgJ2Qp37u"
      }
    },
    {
      "cell_type": "code",
      "source": [
        "리스트 = [\"SK하이닉스\", \"삼성전자\", \"LG전자\"]\n",
        "for i in 리스트:\n",
        "    print(len(i))"
      ],
      "metadata": {
        "colab": {
          "base_uri": "https://localhost:8080/"
        },
        "id": "5fRnuveeqAYo",
        "outputId": "e7e0a59b-bfe4-4e02-ee64-fdf5bf43266b"
      },
      "execution_count": 16,
      "outputs": [
        {
          "output_type": "stream",
          "name": "stdout",
          "text": [
            "6\n",
            "4\n",
            "4\n"
          ]
        }
      ]
    },
    {
      "cell_type": "markdown",
      "source": [
        "# 144\n",
        "리스트에는 동물이름이 문자열로 저장돼 있다.\n",
        "```\n",
        "리스트 = ['dog', 'cat', 'parrot']\n",
        "```\n",
        "동물 이름과 글자수를 다음과 같이 출력하라.\n",
        "```\n",
        "dog 3\n",
        "cat 3\n",
        "parrot 6\n",
        "```"
      ],
      "metadata": {
        "id": "N4PvjV2LqHsX"
      }
    },
    {
      "cell_type": "code",
      "source": [
        "리스트 = ['dog', 'cat', 'parrot']\n",
        "for i in 리스트:\n",
        "    print(i, len(i))"
      ],
      "metadata": {
        "colab": {
          "base_uri": "https://localhost:8080/"
        },
        "id": "q9qbdtbFqSAx",
        "outputId": "7898488a-603d-42ff-8101-22b260cd0841"
      },
      "execution_count": 17,
      "outputs": [
        {
          "output_type": "stream",
          "name": "stdout",
          "text": [
            "dog 3\n",
            "cat 3\n",
            "parrot 6\n"
          ]
        }
      ]
    },
    {
      "cell_type": "markdown",
      "source": [
        "# 145\n",
        "for문을 사용해서 동물 이름의 첫 글자만 출력하라."
      ],
      "metadata": {
        "id": "PrbVe3AnqXFz"
      }
    },
    {
      "cell_type": "code",
      "source": [
        "리스트 = ['dog', 'cat', 'parrot']\n",
        "for i in 리스트:\n",
        "    print(i[0])"
      ],
      "metadata": {
        "colab": {
          "base_uri": "https://localhost:8080/"
        },
        "id": "Jb-cTpthqcwl",
        "outputId": "04799a0e-6c07-4f83-a521-6a232cac7a95"
      },
      "execution_count": 18,
      "outputs": [
        {
          "output_type": "stream",
          "name": "stdout",
          "text": [
            "d\n",
            "c\n",
            "p\n"
          ]
        }
      ]
    },
    {
      "cell_type": "markdown",
      "source": [
        "# 146\n",
        "리스트에는 세 개의 숫자가 바인딩돼 있다.\n",
        "```\n",
        "리스트 = [1, 2, 3]\n",
        "```\n",
        "for문을 사용해서 다음과 같이 출력하라.\n",
        "```\n",
        "3 x 1\n",
        "3 x 2\n",
        "3 x 3\n",
        "```"
      ],
      "metadata": {
        "id": "tlXfBGC-qhoE"
      }
    },
    {
      "cell_type": "code",
      "source": [
        "리스트 = [1, 2, 3]\n",
        "for i in 리스트:\n",
        "    print(3, \"x\", i)"
      ],
      "metadata": {
        "colab": {
          "base_uri": "https://localhost:8080/"
        },
        "id": "Ohlb5IGPqwht",
        "outputId": "750abcc0-3dbf-42c4-e860-f24643fc1fa7"
      },
      "execution_count": 20,
      "outputs": [
        {
          "output_type": "stream",
          "name": "stdout",
          "text": [
            "3 x 1\n",
            "3 x 2\n",
            "3 x 3\n"
          ]
        }
      ]
    },
    {
      "cell_type": "markdown",
      "source": [
        "# 147\n",
        "for문을 사용해서 다음과 같이 출력하라.\n",
        "```\n",
        "3 x 1 = 3\n",
        "3 x 2 = 6\n",
        "3 x 3 = 9\n",
        "```"
      ],
      "metadata": {
        "id": "7MWFUOpLq50R"
      }
    },
    {
      "cell_type": "code",
      "source": [
        "리스트 = [1, 2, 3]\n",
        "for i in 리스트:\n",
        "    print(f\"3 x {i} = {3*i}\")"
      ],
      "metadata": {
        "colab": {
          "base_uri": "https://localhost:8080/"
        },
        "id": "4Br44owarIaV",
        "outputId": "f5c8f3a3-7774-41b8-969e-6323267c608c"
      },
      "execution_count": 21,
      "outputs": [
        {
          "output_type": "stream",
          "name": "stdout",
          "text": [
            "3 x 1 = 3\n",
            "3 x 2 = 6\n",
            "3 x 3 = 9\n"
          ]
        }
      ]
    },
    {
      "cell_type": "markdown",
      "source": [
        "# 148\n",
        "리스트에는 네 개의 문자열이 바인딩돼 있다.\n",
        "```\n",
        "리스트 = [\"가\", \"나\", \"다\", \"라\"]\n",
        "```\n",
        "for문을 사용해서 다음과 같이 출력하라.\n",
        "```\n",
        "나\n",
        "다\n",
        "라\n",
        "```"
      ],
      "metadata": {
        "id": "xtmD2QtirQql"
      }
    },
    {
      "cell_type": "code",
      "source": [
        "리스트 = [\"가\", \"나\", \"다\", \"라\"]\n",
        "for i in 리스트[1:]:\n",
        "    print(i)"
      ],
      "metadata": {
        "colab": {
          "base_uri": "https://localhost:8080/"
        },
        "id": "ncy82VnvrXvA",
        "outputId": "71856d6f-caf5-4fdd-ca8a-eb7f5cfc496f"
      },
      "execution_count": 22,
      "outputs": [
        {
          "output_type": "stream",
          "name": "stdout",
          "text": [
            "나\n",
            "다\n",
            "라\n"
          ]
        }
      ]
    },
    {
      "cell_type": "markdown",
      "source": [
        "# 149\n",
        "for문을 사용해서 다음과 같이 출력하라.\n",
        "```\n",
        "가\n",
        "다\n",
        "```"
      ],
      "metadata": {
        "id": "9gJqooGirg_C"
      }
    },
    {
      "cell_type": "code",
      "source": [
        "리스트 = [\"가\", \"나\", \"다\", \"라\"]\n",
        "for i in 리스트[::2]:\n",
        "    print(i)"
      ],
      "metadata": {
        "colab": {
          "base_uri": "https://localhost:8080/"
        },
        "id": "XMyiLaGUrqbW",
        "outputId": "43766350-d052-46b2-b35c-acaf4c12ce61"
      },
      "execution_count": 23,
      "outputs": [
        {
          "output_type": "stream",
          "name": "stdout",
          "text": [
            "가\n",
            "다\n"
          ]
        }
      ]
    },
    {
      "cell_type": "markdown",
      "source": [
        "# 150\n",
        "리스트에는 네 개의 문자열이 바인딩돼 있다.\n",
        "```\n",
        "리스트 = [\"가\", \"나\", \"다\", \"라\"]\n",
        "```\n",
        "for문을 사용해서 다음과 같이 출력하라.\n",
        "```\n",
        "라\n",
        "다\n",
        "나\n",
        "가\n",
        "```"
      ],
      "metadata": {
        "id": "yeeYLc1rr0Pg"
      }
    },
    {
      "cell_type": "code",
      "source": [
        "리스트 = [\"가\", \"나\", \"다\", \"라\"]\n",
        "for i in 리스트[::-1]:\n",
        "    print(i)"
      ],
      "metadata": {
        "colab": {
          "base_uri": "https://localhost:8080/"
        },
        "id": "YBqLkFGNr8Ba",
        "outputId": "2513411e-653a-40de-b848-df9d4c86593b"
      },
      "execution_count": 24,
      "outputs": [
        {
          "output_type": "stream",
          "name": "stdout",
          "text": [
            "라\n",
            "다\n",
            "나\n",
            "가\n"
          ]
        }
      ]
    },
    {
      "cell_type": "markdown",
      "source": [
        "---"
      ],
      "metadata": {
        "id": "g1dG2gxur_D3"
      }
    },
    {
      "cell_type": "markdown",
      "source": [
        "# 151\n",
        "리스트에는 네 개의 정수가 저장돼 있다.\n",
        "```\n",
        "리스트 = [3, -20, -3, 44]\n",
        "```\n",
        "for문을 사용해서 리스트의 음수를 출력하라.\n",
        "```\n",
        "-20\n",
        "-3\n",
        "```"
      ],
      "metadata": {
        "id": "A6oEImL2sEy-"
      }
    },
    {
      "cell_type": "code",
      "source": [
        "리스트 = [3, -20, -3, 44]\n",
        "for i in 리스트:\n",
        "    if i < 0:\n",
        "        print(i)"
      ],
      "metadata": {
        "colab": {
          "base_uri": "https://localhost:8080/"
        },
        "id": "I0DX-T1dsJiN",
        "outputId": "ba911822-918a-4767-de5f-fc0a754fcfee"
      },
      "execution_count": 25,
      "outputs": [
        {
          "output_type": "stream",
          "name": "stdout",
          "text": [
            "-20\n",
            "-3\n"
          ]
        }
      ]
    },
    {
      "cell_type": "markdown",
      "source": [
        "# 152\n",
        "for문을 사용해서 3의 배수만을 출력하라.\n",
        "```\n",
        "리스트 = [3, 100, 23, 44]\n",
        "3\n",
        "```"
      ],
      "metadata": {
        "id": "xtBGhadgsQnT"
      }
    },
    {
      "cell_type": "code",
      "source": [
        "리스트 = [3, 100, 23, 44]\n",
        "for i in 리스트:\n",
        "    if i % 3 == 0:\n",
        "        print(i)"
      ],
      "metadata": {
        "colab": {
          "base_uri": "https://localhost:8080/"
        },
        "id": "arjeLBizsV2e",
        "outputId": "bb8a92ae-c586-40d6-fe0f-86624c3db5fa"
      },
      "execution_count": 33,
      "outputs": [
        {
          "output_type": "stream",
          "name": "stdout",
          "text": [
            "3\n"
          ]
        }
      ]
    },
    {
      "cell_type": "markdown",
      "source": [
        "# 153\n",
        "리스트에서 20 보다 작은 3의 배수를 출력하라\n",
        "```\n",
        "리스트 = [13, 21, 12, 14, 30, 18]\n",
        "12\n",
        "18\n",
        "```"
      ],
      "metadata": {
        "id": "fFVgWcjaseum"
      }
    },
    {
      "cell_type": "code",
      "source": [
        "리스트 = [13, 21, 12, 14, 30, 18]\n",
        "for i in 리스트:\n",
        "    if i < 20 and i % 3 == 0:\n",
        "        print(i)"
      ],
      "metadata": {
        "colab": {
          "base_uri": "https://localhost:8080/"
        },
        "id": "BEPkkyFxs8W8",
        "outputId": "006c97c4-50ee-4737-8394-9c9459182116"
      },
      "execution_count": 34,
      "outputs": [
        {
          "output_type": "stream",
          "name": "stdout",
          "text": [
            "12\n",
            "18\n"
          ]
        }
      ]
    },
    {
      "cell_type": "markdown",
      "source": [
        "# 154\n",
        "리스트에서 세 글자 이상의 문자를 화면에 출력하라\n",
        "```\n",
        "리스트 = [\"I\", \"study\", \"python\", \"language\", \"!\"]\n",
        "study\n",
        "python\n",
        "language\n",
        "```"
      ],
      "metadata": {
        "id": "Gbg4LO5OtCug"
      }
    },
    {
      "cell_type": "code",
      "source": [
        "리스트 = [\"I\", \"study\", \"python\", \"language\", \"!\"]\n",
        "for i in 리스트:\n",
        "    if len(i) >= 3:\n",
        "        print(i)"
      ],
      "metadata": {
        "colab": {
          "base_uri": "https://localhost:8080/"
        },
        "id": "s1XRxm9HtJE4",
        "outputId": "e19cd9ca-265a-4eb9-fd6b-3643f2859d7f"
      },
      "execution_count": 35,
      "outputs": [
        {
          "output_type": "stream",
          "name": "stdout",
          "text": [
            "study\n",
            "python\n",
            "language\n"
          ]
        }
      ]
    },
    {
      "cell_type": "markdown",
      "source": [
        "# 155\n",
        "리스트에서 대문자만 화면에 출력하라.\n",
        "```\n",
        "리스트 = [\"A\", \"b\", \"c\", \"D\"]\n",
        "A\n",
        "D\n",
        "```"
      ],
      "metadata": {
        "id": "gabw8IY1tPJt"
      }
    },
    {
      "cell_type": "code",
      "source": [
        "리스트 = [\"A\", \"b\", \"c\", \"D\"]\n",
        "for i in 리스트:\n",
        "    if i.isupper():\n",
        "        print(i)"
      ],
      "metadata": {
        "colab": {
          "base_uri": "https://localhost:8080/"
        },
        "id": "_zIv69rCtU4-",
        "outputId": "bb424ad5-c676-4eca-852d-35b33786ddb2"
      },
      "execution_count": 36,
      "outputs": [
        {
          "output_type": "stream",
          "name": "stdout",
          "text": [
            "A\n",
            "D\n"
          ]
        }
      ]
    },
    {
      "cell_type": "markdown",
      "source": [
        "# 156\n",
        "리스트에서 소문자만 화면에 출력하라.\n",
        "```\n",
        "리스트 = [\"A\", \"b\", \"c\", \"D\"]\n",
        "b\n",
        "c\n",
        "```"
      ],
      "metadata": {
        "id": "s5ALEFsktaYW"
      }
    },
    {
      "cell_type": "code",
      "source": [
        "리스트 = [\"A\", \"b\", \"c\", \"D\"]\n",
        "for i in 리스트:\n",
        "    if i.islower():\n",
        "        print(i)"
      ],
      "metadata": {
        "colab": {
          "base_uri": "https://localhost:8080/"
        },
        "id": "_ZoYy6DntiSS",
        "outputId": "95f3b2d6-e56e-4836-d3ce-f7a81cbb2362"
      },
      "execution_count": 37,
      "outputs": [
        {
          "output_type": "stream",
          "name": "stdout",
          "text": [
            "b\n",
            "c\n"
          ]
        }
      ]
    },
    {
      "cell_type": "markdown",
      "source": [
        "# 157\n",
        "이름의 첫 글자를 대문자로 변경해서 출력하라.\n",
        "```\n",
        "리스트 = ['dog', 'cat', 'parrot']\n",
        "Dog\n",
        "Cat\n",
        "Parrot\n",
        "```"
      ],
      "metadata": {
        "id": "YjenhEbitkct"
      }
    },
    {
      "cell_type": "code",
      "source": [
        "리스트 = ['dog', 'cat', 'parrot']\n",
        "for i in 리스트:\n",
        "    print(i[0].upper() + i[1:])"
      ],
      "metadata": {
        "colab": {
          "base_uri": "https://localhost:8080/"
        },
        "id": "yiU6L-Uptoah",
        "outputId": "daf5cfe5-8064-47d2-b6a2-ab4fdaf35810"
      },
      "execution_count": 39,
      "outputs": [
        {
          "output_type": "stream",
          "name": "stdout",
          "text": [
            "Dog\n",
            "Cat\n",
            "Parrot\n"
          ]
        }
      ]
    },
    {
      "cell_type": "markdown",
      "source": [
        "# 158\n",
        "파일 이름이 저장된 리스트에서 확장자를 제거하고 파일 이름만 화면에 출력하라. (힌트: split() 메서드)\n",
        "```\n",
        "리스트 = ['hello.py', 'ex01.py', 'intro.hwp']\n",
        "hello\n",
        "ex01\n",
        "intro\n",
        "```"
      ],
      "metadata": {
        "id": "oS--lSxLt1OR"
      }
    },
    {
      "cell_type": "code",
      "source": [
        "리스트 = ['hello.py', 'ex01.py', 'intro.hwp']\n",
        "for i in 리스트:\n",
        "    print(i.split(\".\")[0])"
      ],
      "metadata": {
        "colab": {
          "base_uri": "https://localhost:8080/"
        },
        "id": "QYGEzbG5uAsu",
        "outputId": "432149b4-5c3a-46af-854b-74d5348d55d5"
      },
      "execution_count": 40,
      "outputs": [
        {
          "output_type": "stream",
          "name": "stdout",
          "text": [
            "hello\n",
            "ex01\n",
            "intro\n"
          ]
        }
      ]
    },
    {
      "cell_type": "markdown",
      "source": [
        "# 159\n",
        "파일 이름이 저장된 리스트에서 확장자가 .h인 파일 이름을 출력하라.\n",
        "```\n",
        "리스트 = ['intra.h', 'intra.c', 'define.h', 'run.py']\n",
        "intra.h\n",
        "define.h\n",
        "```"
      ],
      "metadata": {
        "id": "rihHQr_vuJU5"
      }
    },
    {
      "cell_type": "code",
      "source": [
        "리스트 = ['intra.h', 'intra.c', 'define.h', 'run.py']\n",
        "for i in 리스트:\n",
        "    if i.split(\".\")[1] == \"h\":\n",
        "        print(i)"
      ],
      "metadata": {
        "colab": {
          "base_uri": "https://localhost:8080/"
        },
        "id": "k02LTo1xuQ_O",
        "outputId": "58998cde-92bf-4c9f-a047-435e776ae792"
      },
      "execution_count": 41,
      "outputs": [
        {
          "output_type": "stream",
          "name": "stdout",
          "text": [
            "intra.h\n",
            "define.h\n"
          ]
        }
      ]
    },
    {
      "cell_type": "markdown",
      "source": [
        "# 160\n",
        "파일 이름이 저장된 리스트에서 확장자가 .h나 .c인 파일을 화면에 출력하라.\n",
        "```\n",
        "리스트 = ['intra.h', 'intra.c', 'define.h', 'run.py']\n",
        "intra.h\n",
        "intra.c\n",
        "define.h\n",
        "```"
      ],
      "metadata": {
        "id": "AP7a6nJXuZHb"
      }
    },
    {
      "cell_type": "code",
      "source": [
        "리스트 = ['intra.h', 'intra.c', 'define.h', 'run.py']\n",
        "for i in 리스트:\n",
        "    확장자 = i.split(\".\")[1]\n",
        "    if 확장자 == \"h\" or 확장자 == \"c\" :\n",
        "        print(i)"
      ],
      "metadata": {
        "colab": {
          "base_uri": "https://localhost:8080/"
        },
        "id": "V3fHht5fuhJB",
        "outputId": "1cb46732-74f0-4889-b025-79f5c0cd8648"
      },
      "execution_count": 45,
      "outputs": [
        {
          "output_type": "stream",
          "name": "stdout",
          "text": [
            "intra.h\n",
            "intra.c\n",
            "define.h\n"
          ]
        }
      ]
    }
  ]
}