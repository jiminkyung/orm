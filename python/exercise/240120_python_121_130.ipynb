{
  "nbformat": 4,
  "nbformat_minor": 0,
  "metadata": {
    "colab": {
      "provenance": [],
      "authorship_tag": "ABX9TyMC81ApxLCh9SzWxXiBB9g/",
      "include_colab_link": true
    },
    "kernelspec": {
      "name": "python3",
      "display_name": "Python 3"
    },
    "language_info": {
      "name": "python"
    }
  },
  "cells": [
    {
      "cell_type": "markdown",
      "metadata": {
        "id": "view-in-github",
        "colab_type": "text"
      },
      "source": [
        "<a href=\"https://colab.research.google.com/github/jiminkyung/orm/blob/main/python/exercise/240120_python_121_130.ipynb\" target=\"_parent\"><img src=\"https://colab.research.google.com/assets/colab-badge.svg\" alt=\"Open In Colab\"/></a>"
      ]
    },
    {
      "cell_type": "markdown",
      "source": [
        "# 121\n",
        "사용자로부터 문자 한 개를 입력 받고, 소문자일 경우 대문자로, 대문자 일 경우, 소문자로 변경해서 출력하라.\n",
        "```\n",
        ">> a\n",
        "A\n",
        "```"
      ],
      "metadata": {
        "id": "yjQwiGE5KAN0"
      }
    },
    {
      "cell_type": "code",
      "source": [
        "s = input(\"문자 1개 입력: \")\n",
        "print(s.upper() if s.islower() else s.lower())"
      ],
      "metadata": {
        "colab": {
          "base_uri": "https://localhost:8080/"
        },
        "id": "m1ZKFF4KiAIo",
        "outputId": "a66c8e52-6eea-4e9c-db64-7217f36a8723"
      },
      "execution_count": null,
      "outputs": [
        {
          "output_type": "stream",
          "name": "stdout",
          "text": [
            "문자 1개 입력: A\n",
            "a\n"
          ]
        }
      ]
    },
    {
      "cell_type": "markdown",
      "source": [
        "# 122\n",
        "점수 구간에 해당하는 학점이 아래와 같이 정의되어 있다. 사용자로부터 score를 입력받아 학점을 출력하라.\n",
        "```\n",
        "점수\t학점\n",
        "81~100\tA\n",
        "61~80\tB\n",
        "41~60\tC\n",
        "21~40\tD\n",
        "0~20\tE\n",
        "```"
      ],
      "metadata": {
        "id": "gUQZIXMbibAy"
      }
    },
    {
      "cell_type": "code",
      "source": [
        "score = int(input(\"학점을 입력하세요: \"))\n",
        "\n",
        "if 81 <= score <= 100:\n",
        "    print(\"A\")\n",
        "elif score <= 80:\n",
        "    print(\"B\")\n",
        "elif score <= 60:\n",
        "    print(\"C\")\n",
        "elif score <= 40:\n",
        "    print(\"D\")\n",
        "else:\n",
        "    print(\"E\")"
      ],
      "metadata": {
        "colab": {
          "base_uri": "https://localhost:8080/"
        },
        "id": "JC6GE7osiqED",
        "outputId": "34d7cb00-63f0-4927-8f81-532fc41f3ca7"
      },
      "execution_count": null,
      "outputs": [
        {
          "output_type": "stream",
          "name": "stdout",
          "text": [
            "학점을 입력하세요: 67\n",
            "B\n"
          ]
        }
      ]
    },
    {
      "cell_type": "markdown",
      "source": [
        "# 123\n",
        "사용자로부터 달러, 엔, 유로, 또는 위안 금액을 입력받은 후 이를 원으로 변환하는 프로그램을 작성하라. 각 통화별 환율은 다음과 같다. 사용자는 100 달러, 1000 엔, 13 유로, 100 위안과 같이 금액과 통화명 사이에 공백을 넣어 입력한다고 가정한다.\n",
        "```\n",
        "통화명\t환율\n",
        "달러\t1167\n",
        "엔\t1.096\n",
        "유로\t1268\n",
        "위안\t171\n",
        "```"
      ],
      "metadata": {
        "id": "YJQUqKpcivPP"
      }
    },
    {
      "cell_type": "code",
      "source": [
        "환율 = {\"달러\": 1167,\n",
        "        \"엔\": 1.096,\n",
        "        \"유로\": 1268,\n",
        "        \"위안\": 171}\n",
        "user = input(\"입력: \")\n",
        "num, currency = user.split()\n",
        "print(float(num) * 환율[currency], \"원\")"
      ],
      "metadata": {
        "colab": {
          "base_uri": "https://localhost:8080/"
        },
        "id": "safag00DjULV",
        "outputId": "8eae0f10-4ae1-4ef6-f766-3eedbe7c9711"
      },
      "execution_count": null,
      "outputs": [
        {
          "output_type": "stream",
          "name": "stdout",
          "text": [
            "입력: 100 달러\n",
            "116700.0 원\n"
          ]
        }
      ]
    },
    {
      "cell_type": "markdown",
      "source": [
        "# 124\n",
        "사용자로부터 세 개의 숫자를 입력 받은 후 가장 큰 숫자를 출력하라.\n",
        "```\n",
        ">> input number1: 10\n",
        ">> input number2: 9\n",
        ">> input number3: 20\n",
        "20\n",
        "```"
      ],
      "metadata": {
        "id": "m5mXpeLwjs4l"
      }
    },
    {
      "cell_type": "code",
      "source": [
        "num = []\n",
        "for i in range(1, 4):\n",
        "    num.append(input(f\"number{i}: \"))\n",
        "\n",
        "sorted(num, reverse=True)[0]"
      ],
      "metadata": {
        "colab": {
          "base_uri": "https://localhost:8080/",
          "height": 88
        },
        "id": "YbwVkyKXj5bF",
        "outputId": "90716956-9b2d-4ae7-b74e-e9d58fac35d2"
      },
      "execution_count": null,
      "outputs": [
        {
          "name": "stdout",
          "output_type": "stream",
          "text": [
            "number1: 10\n",
            "number2: 50\n",
            "number3: 20\n"
          ]
        },
        {
          "output_type": "execute_result",
          "data": {
            "text/plain": [
              "'50'"
            ],
            "application/vnd.google.colaboratory.intrinsic+json": {
              "type": "string"
            }
          },
          "metadata": {},
          "execution_count": 10
        }
      ]
    },
    {
      "cell_type": "code",
      "source": [
        "# 답안\n",
        "num1 = input(\"input number1: \")\n",
        "num2 = input(\"input number2: \")\n",
        "num3 = input(\"input number3: \")\n",
        "num1 = int(num1)\n",
        "num2 = int(num2)\n",
        "num3 = int(num3)\n",
        "\n",
        "if num1 >= num2 and num1 >= num3:\n",
        "    print(num1)\n",
        "elif num2 >= num1 and num2 >= num3:\n",
        "    print(num2)\n",
        "else:\n",
        "    print(num3)"
      ],
      "metadata": {
        "id": "kMSh66LdkcEi"
      },
      "execution_count": null,
      "outputs": []
    },
    {
      "cell_type": "markdown",
      "source": [
        "# 125\n",
        "휴대폰 번호 앞자리에 따라 통신사는 아래와 같이 구분된다. 사용자로부터 휴대전화 번호를 입력 받고, 통신사를 출력하는 프로그램을 작성하라.\n",
        "```\n",
        "번호\t통신사\n",
        "011\tSKT\n",
        "016\tKT\n",
        "019\tLGU\n",
        "010\t알수없음\n",
        "```\n",
        "```\n",
        ">> 휴대전화 번호 입력: 011-345-1922\n",
        "당신은 SKT 사용자입니다.\n",
        "```"
      ],
      "metadata": {
        "id": "1Tj7qVaJkpS5"
      }
    },
    {
      "cell_type": "code",
      "source": [
        "telecom = {\n",
        "    \"011\": \"SKT\",\n",
        "    \"016\": \"KT\",\n",
        "    \"019\": \"LGU\",\n",
        "    \"010\": \"알수없음\",\n",
        "}\n",
        "phone_number = input(\"휴대전화 번호 입력: \").split(\"-\")\n",
        "print(f\"당신은 {telecom[phone_number[0]]} 사용자입니다.\")"
      ],
      "metadata": {
        "colab": {
          "base_uri": "https://localhost:8080/"
        },
        "id": "Y9-hLJSskvyM",
        "outputId": "78f4d38c-a5b7-4e7a-d04e-e086287a0e70"
      },
      "execution_count": null,
      "outputs": [
        {
          "output_type": "stream",
          "name": "stdout",
          "text": [
            "휴대전화 번호 입력: 011-366-8433\n",
            "당신은 SKT 사용자입니다.\n"
          ]
        }
      ]
    },
    {
      "cell_type": "markdown",
      "source": [
        "# 126\n",
        "우편번호는 5자리로 구성되는데, 앞의 세자리는 구를 나타낸다. 예를들어, 강북구의 경우 010, 011, 012 세 자리로 시작한다.\n",
        "\n",
        "사용자로 부터 5자리 우편번호를 입력받고 구를 판별하라\n",
        "```\n",
        ">> 우편번호: 01400\n",
        "도봉구\n",
        "```"
      ],
      "metadata": {
        "id": "A1w1U0G9lYRc"
      }
    },
    {
      "cell_type": "code",
      "source": [
        "zipcode = input(\"우편번호: \")\n",
        "if zipcode[2] in '012':\n",
        "    print(\"강북구\")\n",
        "elif zipcode[2] in '345':\n",
        "    print(\"도봉구\")\n",
        "else:\n",
        "    print(\"노원구\")"
      ],
      "metadata": {
        "id": "6-YdmdT7ljpQ",
        "colab": {
          "base_uri": "https://localhost:8080/"
        },
        "outputId": "66a48af2-0fdd-4050-86d7-3df4ab363595"
      },
      "execution_count": 2,
      "outputs": [
        {
          "output_type": "stream",
          "name": "stdout",
          "text": [
            "우편번호: 01900\n",
            "노원구\n"
          ]
        }
      ]
    },
    {
      "cell_type": "code",
      "source": [
        "# 답안\n",
        "우편번호 = input(\"우편번호: \")\n",
        "우편번호 = 우편번호[:3]\n",
        "if 우편번호 in [\"010\", \"011\", \"012\"]:\n",
        "    print(\"강북구\")\n",
        "elif 우편번호 in [\"014\", \"015\", \"016\"]:\n",
        "    print(\"도봉구\")\n",
        "else:\n",
        "    print(\"노원구\")"
      ],
      "metadata": {
        "id": "_POhDrZAIDvS"
      },
      "execution_count": null,
      "outputs": []
    },
    {
      "cell_type": "markdown",
      "source": [
        "# 127\n",
        "주민등록번호 뒷 자리 7자리 중 첫째 자리는 성별을 나타내는데, 1, 3은 남자 2, 4는 여자를 의미한다. 사용자로부터 13자리의 주민등록번호를 입력 받은 후 성별 (남자, 여자)를 출력하는 프로그램을 작성하라.\n",
        "```\n",
        ">> 주민등록번호: 821010-1635210\n",
        "남자\n",
        "```"
      ],
      "metadata": {
        "id": "S8y9siW3IQNU"
      }
    },
    {
      "cell_type": "code",
      "source": [
        "id_code = input(\"주민등록번호: \").split(\"-\")[1]\n",
        "if id_code[0] in \"13\":\n",
        "    print(\"남자\")\n",
        "else:\n",
        "    print(\"여자\")"
      ],
      "metadata": {
        "colab": {
          "base_uri": "https://localhost:8080/"
        },
        "id": "qmavWmpoIT6N",
        "outputId": "6c727eea-6222-466d-bda8-4f836f43b7ac"
      },
      "execution_count": 5,
      "outputs": [
        {
          "output_type": "stream",
          "name": "stdout",
          "text": [
            "주민등록번호: 010101-2323223\n",
            "여자\n"
          ]
        }
      ]
    },
    {
      "cell_type": "markdown",
      "source": [
        "# 128\n",
        "주민등록번호의 뒷 자리 7자리 중 두번째와 세번째는 지역코드를 의미한다. 주민 등록 번호를 입력 받은 후 출생지가 서울인지 아닌지 판단하는 코드를 작성하라.\n",
        "```\n",
        "지역코드\t출생지\n",
        "00 ~ 08\t서울\n",
        "09 ~ 12\t부산\n",
        "```\n",
        "```\n",
        ">> 주민등록번호: 821010-1635210\n",
        "서울이 아닙니다.\n",
        "```"
      ],
      "metadata": {
        "id": "xjVD4QFOIsmu"
      }
    },
    {
      "cell_type": "code",
      "source": [
        "id_code = input(\"주민등록번호: \").split(\"-\")[1][1:3]\n",
        "if 0 <= int(id_code) <= 8:\n",
        "    print(\"서울 입니다.\")\n",
        "else:\n",
        "    print(\"서울이 아닙니다.\")"
      ],
      "metadata": {
        "colab": {
          "base_uri": "https://localhost:8080/"
        },
        "id": "kJwsKY84JYDO",
        "outputId": "f5e166de-c9bf-4138-b8bd-4a6b181eb5e9"
      },
      "execution_count": 8,
      "outputs": [
        {
          "output_type": "stream",
          "name": "stdout",
          "text": [
            "주민등록번호: 861010-1015210\n",
            "서울 입니다.\n"
          ]
        }
      ]
    },
    {
      "cell_type": "markdown",
      "source": [
        "# 129\n",
        "주민등록번호는 13자리로 구성되는데 마지막 자리수는 주민등록번호의 유효성을 체크하는데 사용된다. 먼저 앞에서부터 12자리의 숫자에 2, 3, 4, 5, 6, 7, 8, 9, 2, 3, 4, 5를 차례로 곱한 뒤 그 값을 전부 더한다. 연산 결과 값을 11로 나누면 나머지가 나오는데 11에서 나머지를 뺀 값이 주민등록번호의 마지막 번호가 된다.\n",
        "\n",
        "다음과 같이 사용자로부터 주민등록번호를 입력받은 후 주민등록번호가 유효한지를 출력하는 프로그램을 작성하라.\n",
        "```\n",
        ">> 주민등록번호: 821010-1635210\n",
        "유효하지 않은 주민등록번호입니다.\n",
        "```"
      ],
      "metadata": {
        "id": "awL8JyQbJ4GT"
      }
    },
    {
      "cell_type": "code",
      "source": [
        "# 주민등록번호에 한맺었나\n",
        "\n",
        "code1, code2 = input(\"주민등록번호: \").split(\"-\")\n",
        "code = code1 + code2[:-1]\n",
        "num = '234567892345'\n",
        "sum = 0\n",
        "for i in range(12):\n",
        "    sum += int(code[i]) * int(num[i])\n",
        "\n",
        "result = 11 - (sum % 11)\n",
        "\n",
        "if result == int(code2[-1]):\n",
        "    print(\"유효한 주민등록번호입니다.\")\n",
        "else:\n",
        "    print(\"유효하지 않은 주민등록번호입니다.\")"
      ],
      "metadata": {
        "colab": {
          "base_uri": "https://localhost:8080/"
        },
        "id": "CG5kt8VMKVbR",
        "outputId": "68740265-bff0-4a67-d41a-4958fef41409"
      },
      "execution_count": 21,
      "outputs": [
        {
          "output_type": "stream",
          "name": "stdout",
          "text": [
            "주민등록번호: 821010-1635210\n",
            "유효하지 않은 주민등록번호입니다.\n"
          ]
        }
      ]
    },
    {
      "cell_type": "code",
      "source": [
        "# 답안\n",
        "num = input(\"주민등록번호: \")\n",
        "계산1 = int(num[0]) * 2 + int(num[1]) * 3 + int(num[2]) * 4 + int(num[3]) * 5 + int(num[4]) * 6 + \\\n",
        "        int(num[5]) * 7 + int(num[7]) * 8 + int(num[8]) * 9 + int(num[9]) * 2 + int(num[10])* 3 + \\\n",
        "        int(num[11])* 4 + int(num[12]) * 5\n",
        "계산2 = 11 - (계산1 % 11)\n",
        "계산3 = str(계산2)\n",
        "\n",
        "if num[-1] == 계산3[-1]:\n",
        "    print(\"유효한 주민등록번호입니다.\")\n",
        "else:\n",
        "    print(\"유효하지 않은 주민등록번호입니다.\")\n"
      ],
      "metadata": {
        "id": "1Z_jLDt5K1dh"
      },
      "execution_count": 10,
      "outputs": []
    },
    {
      "cell_type": "markdown",
      "source": [
        "# 130\n",
        "아래 코드는 비트코인의 가격 정보를 딕셔너리로 가져오는 코드이다.\n",
        "```\n",
        "import requests\n",
        "btc = requests.get(\"https://api.bithumb.com/public/ticker/\").json()['data']\n",
        "```\n",
        "btc 딕셔너리 안에는 시가, 종가, 최고가, 최저가 등이 저장되어 있다. 최고가와 최저가의 차이를 변동폭으로 정의할 때 (시가 + 변동폭)이 최고가 보다 높을 경우 \"상승장\", 그렇지 않은 경우 \"하락장\" 문자열을 출력하라."
      ],
      "metadata": {
        "id": "ILO2PNJ8Peya"
      }
    },
    {
      "cell_type": "code",
      "source": [
        "import requests\n",
        "btc = requests.get(\"https://api.bithumb.com/public/ticker/\").json()['data']\n",
        "\n",
        "변동폭 = int(btc[\"max_price\"]) - int(btc[\"min_price\"])\n",
        "if int(btc[\"opening_price\"])+변동폭 > int(btc[\"max_price\"]):\n",
        "    print(\"상승장\")\n",
        "else:\n",
        "    print(\"하락장\")"
      ],
      "metadata": {
        "colab": {
          "base_uri": "https://localhost:8080/"
        },
        "id": "CmvMU-GoPjRX",
        "outputId": "0a7f8555-41b0-4eb2-9eec-b2e436c21a6d"
      },
      "execution_count": 23,
      "outputs": [
        {
          "output_type": "stream",
          "name": "stdout",
          "text": [
            "상승장\n"
          ]
        }
      ]
    },
    {
      "cell_type": "code",
      "source": [
        "# 답안\n",
        "import requests\n",
        "btc = requests.get(\"https://api.bithumb.com/public/ticker/\").json()['data']\n",
        "\n",
        "변동폭 = float(btc['max_price']) - float(btc['min_price'])\n",
        "시가 = float(btc['opening_price'])\n",
        "최고가 = float(btc['max_price'])\n",
        "\n",
        "if (시가+변동폭) > 최고가:\n",
        "    print(\"상승장\")\n",
        "else:\n",
        "    print(\"하락장\")"
      ],
      "metadata": {
        "colab": {
          "base_uri": "https://localhost:8080/"
        },
        "id": "KdufrvcqQTnB",
        "outputId": "db5aac02-1193-47c2-db7e-2fb4d36f810d"
      },
      "execution_count": 24,
      "outputs": [
        {
          "output_type": "stream",
          "name": "stdout",
          "text": [
            "상승장\n"
          ]
        }
      ]
    }
  ]
}