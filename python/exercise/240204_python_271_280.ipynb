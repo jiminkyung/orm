{
  "nbformat": 4,
  "nbformat_minor": 0,
  "metadata": {
    "colab": {
      "provenance": [],
      "authorship_tag": "ABX9TyMNa8J5NgRNkwgjNfMdYkGr",
      "include_colab_link": true
    },
    "kernelspec": {
      "name": "python3",
      "display_name": "Python 3"
    },
    "language_info": {
      "name": "python"
    }
  },
  "cells": [
    {
      "cell_type": "markdown",
      "metadata": {
        "id": "view-in-github",
        "colab_type": "text"
      },
      "source": [
        "<a href=\"https://colab.research.google.com/github/jiminkyung/orm/blob/main/python/exercise/240204_python_271_280.ipynb\" target=\"_parent\"><img src=\"https://colab.research.google.com/assets/colab-badge.svg\" alt=\"Open In Colab\"/></a>"
      ]
    },
    {
      "cell_type": "markdown",
      "source": [
        "# 271\n",
        "은행에 가서 계좌를 개설하면 은행이름, 예금주, 계좌번호, 잔액이 설정됩니다. Account 클래스를 생성한 후 생성자를 구현해보세요. 생성자에서는 예금주와 초기 잔액만 입력 받습니다. 은행이름은 SC은행으로 계좌번호는 3자리-2자리-6자리 형태로 랜덤하게 생성됩니다.\n",
        "```\n",
        "은행이름: SC은행\n",
        "계좌번호: 111-11-111111\n",
        "```"
      ],
      "metadata": {
        "id": "BF_5VgsJfUSI"
      }
    },
    {
      "cell_type": "code",
      "source": [
        "# 정답\n",
        "import random\n",
        "\n",
        "class Account:\n",
        "    def __init__(self, name, balance):\n",
        "        self.name = name\n",
        "        self.balance = balance\n",
        "        self.bank = \"SC은행\"\n",
        "        num1 = random.randint(0, 999)\n",
        "        num2 = random.randint(0, 99)\n",
        "        num3 = random.randint(0, 999999)\n",
        "\n",
        "        num1 = str(num1).zfill(3)      # 1 -> '1' -> '001'\n",
        "        num2 = str(num2).zfill(2)      # 1 -> '1' -> '01'\n",
        "        num3 = str(num3).zfill(6)      # 1 -> '1' -> '0000001'\n",
        "        self.account_number = num1 + '-' + num2 + '-' + num3  # 001-01-000001\n",
        "\n",
        "kim = Account(\"김갑수\", 100)\n",
        "print(kim.name)\n",
        "print(kim.balance)\n",
        "print(kim.bank)\n",
        "print(kim.account_number)"
      ],
      "metadata": {
        "colab": {
          "base_uri": "https://localhost:8080/"
        },
        "id": "5p25tuOWfdsl",
        "outputId": "c4ea9854-90a0-4970-a103-7554673bc3b0"
      },
      "execution_count": 3,
      "outputs": [
        {
          "output_type": "stream",
          "name": "stdout",
          "text": [
            "김갑수\n",
            "100\n",
            "SC은행\n",
            "099-11-393548\n"
          ]
        }
      ]
    },
    {
      "cell_type": "markdown",
      "source": [
        "# 272\n",
        "클래스 변수를 사용해서 Account 클래스로부터 생성된 계좌 객체의 개수를 저장하세요."
      ],
      "metadata": {
        "id": "d8sk5eZ9fxH4"
      }
    },
    {
      "cell_type": "code",
      "source": [
        "import random\n",
        "\n",
        "class Account():\n",
        "    count = 0\n",
        "    def __init__(self, name, balance):\n",
        "        self.name = name\n",
        "        self.balance = balance\n",
        "        self.bank = \"SC은행\"\n",
        "        num1 = random.randint(0, 999)\n",
        "        num2 = random.randint(0, 99)\n",
        "        num3 = random.randint(0, 999999)\n",
        "\n",
        "        num1 = str(num1).zfill(3)      # 1 -> '1' -> '001'\n",
        "        num2 = str(num2).zfill(2)      # 1 -> '1' -> '01'\n",
        "        num3 = str(num3).zfill(6)      # 1 -> '1' -> '0000001'\n",
        "        self.account_number = num1 + '-' + num2 + '-' + num3  # 001-01-000001\n",
        "\n",
        "        Account.count += 1"
      ],
      "metadata": {
        "id": "iYXmDIGVf8MB"
      },
      "execution_count": 5,
      "outputs": []
    },
    {
      "cell_type": "code",
      "source": [
        "kim = Account(\"김갑수\", 100)\n",
        "lee = Account(\"이미지\", 200)\n",
        "print(Account.count)"
      ],
      "metadata": {
        "colab": {
          "base_uri": "https://localhost:8080/"
        },
        "id": "PDAtLRAggFsC",
        "outputId": "1c47dfc6-a2cd-4129-fae6-06b7c1a38db5"
      },
      "execution_count": 6,
      "outputs": [
        {
          "output_type": "stream",
          "name": "stdout",
          "text": [
            "2\n"
          ]
        }
      ]
    },
    {
      "cell_type": "markdown",
      "source": [
        "# 273\n",
        "Account 클래스로부터 생성된 계좌의 개수를 출력하는 get_account_num() 메서드를 추가하세요."
      ],
      "metadata": {
        "id": "WNDCXTHxgT87"
      }
    },
    {
      "cell_type": "code",
      "source": [
        "import random\n",
        "\n",
        "class Account():\n",
        "    count = 0\n",
        "    def __init__(self, name, balance):\n",
        "        self.name = name\n",
        "        self.balance = balance\n",
        "        self.bank = \"SC은행\"\n",
        "        num1 = random.randint(0, 999)\n",
        "        num2 = random.randint(0, 99)\n",
        "        num3 = random.randint(0, 999999)\n",
        "\n",
        "        num1 = str(num1).zfill(3)      # 1 -> '1' -> '001'\n",
        "        num2 = str(num2).zfill(2)      # 1 -> '1' -> '01'\n",
        "        num3 = str(num3).zfill(6)      # 1 -> '1' -> '0000001'\n",
        "        self.account_number = num1 + '-' + num2 + '-' + num3  # 001-01-000001\n",
        "\n",
        "        Account.count += 1\n",
        "\n",
        "    def get_account_num(self):\n",
        "        return Account.count"
      ],
      "metadata": {
        "id": "Ippm5EZbgtws"
      },
      "execution_count": 7,
      "outputs": []
    },
    {
      "cell_type": "code",
      "source": [
        "kim = Account(\"김갑수\", 100)\n",
        "lee = Account(\"이미지\", 200)\n",
        "choi = Account(\"최반장\", 300)\n",
        "print(choi.get_account_num())"
      ],
      "metadata": {
        "colab": {
          "base_uri": "https://localhost:8080/"
        },
        "id": "qkghh6B0jol8",
        "outputId": "e85dfce9-fb16-43a0-9470-38136fa03e33"
      },
      "execution_count": 8,
      "outputs": [
        {
          "output_type": "stream",
          "name": "stdout",
          "text": [
            "3\n"
          ]
        }
      ]
    },
    {
      "cell_type": "code",
      "source": [
        "# 정답\n",
        "import random\n",
        "\n",
        "class Account():\n",
        "    count = 0\n",
        "    def __init__(self, name, balance):\n",
        "        self.name = name\n",
        "        self.balance = balance\n",
        "        self.bank = \"SC은행\"\n",
        "        num1 = random.randint(0, 999)\n",
        "        num2 = random.randint(0, 99)\n",
        "        num3 = random.randint(0, 999999)\n",
        "\n",
        "        num1 = str(num1).zfill(3)      # 1 -> '1' -> '001'\n",
        "        num2 = str(num2).zfill(2)      # 1 -> '1' -> '01'\n",
        "        num3 = str(num3).zfill(6)      # 1 -> '1' -> '0000001'\n",
        "        self.account_number = num1 + '-' + num2 + '-' + num3  # 001-01-000001\n",
        "\n",
        "        Account.count += 1\n",
        "\n",
        "    @classmethod\n",
        "    def get_account_num(cls):\n",
        "        print(cls.count)     # Account.count"
      ],
      "metadata": {
        "id": "ZqoyPkWIj7Z1"
      },
      "execution_count": 16,
      "outputs": []
    },
    {
      "cell_type": "code",
      "source": [
        "kim = Account(\"김갑수\", 100)\n",
        "lee = Account(\"이미지\", 200)\n",
        "choi = Account(\"최반장\", 300)\n",
        "kim.get_account_num()"
      ],
      "metadata": {
        "colab": {
          "base_uri": "https://localhost:8080/"
        },
        "id": "SbMzMVb3kP6Q",
        "outputId": "42eb1750-78c9-4293-d11c-d5570dd62fdc"
      },
      "execution_count": 17,
      "outputs": [
        {
          "output_type": "stream",
          "name": "stdout",
          "text": [
            "3\n"
          ]
        }
      ]
    },
    {
      "cell_type": "markdown",
      "source": [
        "# 274\n",
        "Account 클래스에 입금을 위한 deposit 메서드를 추가하세요. 입금은 최소 1원 이상만 가능합니다."
      ],
      "metadata": {
        "id": "LuziXYB6kU-a"
      }
    },
    {
      "cell_type": "code",
      "source": [
        "import random\n",
        "\n",
        "class Account():\n",
        "    count = 0\n",
        "    def __init__(self, name, balance):\n",
        "        self.name = name\n",
        "        self.balance = balance\n",
        "        self.bank = \"SC은행\"\n",
        "        num1 = random.randint(0, 999)\n",
        "        num2 = random.randint(0, 99)\n",
        "        num3 = random.randint(0, 999999)\n",
        "\n",
        "        num1 = str(num1).zfill(3)      # 1 -> '1' -> '001'\n",
        "        num2 = str(num2).zfill(2)      # 1 -> '1' -> '01'\n",
        "        num3 = str(num3).zfill(6)      # 1 -> '1' -> '0000001'\n",
        "        self.account_number = num1 + '-' + num2 + '-' + num3  # 001-01-000001\n",
        "\n",
        "        Account.count += 1\n",
        "\n",
        "    def deposit(self, money):\n",
        "        if money >= 1:\n",
        "            self.balance += money\n",
        "\n",
        "    @classmethod\n",
        "    def get_account_num(cls):\n",
        "        print(cls.count)     # Account.count"
      ],
      "metadata": {
        "id": "cS0N2SQHku7u"
      },
      "execution_count": 18,
      "outputs": []
    },
    {
      "cell_type": "code",
      "source": [
        "choi = Account(\"최반장\", 300)\n",
        "print(choi.balance)\n",
        "choi.deposit(300000)\n",
        "print(choi.balance)"
      ],
      "metadata": {
        "colab": {
          "base_uri": "https://localhost:8080/"
        },
        "id": "J5_W9VdTlMB9",
        "outputId": "6ee56802-9c1b-40a7-b5cd-78ed9261c21a"
      },
      "execution_count": 19,
      "outputs": [
        {
          "output_type": "stream",
          "name": "stdout",
          "text": [
            "300\n",
            "300300\n"
          ]
        }
      ]
    },
    {
      "cell_type": "markdown",
      "source": [
        "# 275\n",
        "Account 클래스에 출금을 위한 withdraw 메서드를 추가하세요. 출금은 계좌의 잔고 이상으로 출금할 수는 없습니다."
      ],
      "metadata": {
        "id": "5Z6yaiB7lXMh"
      }
    },
    {
      "cell_type": "code",
      "source": [
        "import random\n",
        "\n",
        "class Account():\n",
        "    count = 0\n",
        "    def __init__(self, name, balance):\n",
        "        self.name = name\n",
        "        self.balance = balance\n",
        "        self.bank = \"SC은행\"\n",
        "        num1 = random.randint(0, 999)\n",
        "        num2 = random.randint(0, 99)\n",
        "        num3 = random.randint(0, 999999)\n",
        "\n",
        "        num1 = str(num1).zfill(3)      # 1 -> '1' -> '001'\n",
        "        num2 = str(num2).zfill(2)      # 1 -> '1' -> '01'\n",
        "        num3 = str(num3).zfill(6)      # 1 -> '1' -> '0000001'\n",
        "        self.account_number = num1 + '-' + num2 + '-' + num3  # 001-01-000001\n",
        "\n",
        "        Account.count += 1\n",
        "\n",
        "    def deposit(self, money):\n",
        "        if money >= 1:\n",
        "            self.balance += money\n",
        "\n",
        "    def withdraw(self, money):\n",
        "        if money < self.balance:\n",
        "            self.balance -= money\n",
        "\n",
        "    @classmethod\n",
        "    def get_account_num(cls):\n",
        "        print(cls.count)     # Account.count"
      ],
      "metadata": {
        "id": "TeIa1NYFlZ9O"
      },
      "execution_count": 20,
      "outputs": []
    },
    {
      "cell_type": "code",
      "source": [
        "choi = Account(\"최반장\", 300)\n",
        "print(choi.balance)\n",
        "choi.withdraw(10)\n",
        "print(choi.balance)"
      ],
      "metadata": {
        "colab": {
          "base_uri": "https://localhost:8080/"
        },
        "id": "IzEYHMGGloRR",
        "outputId": "0efbf564-d31c-41de-83f6-fca12469931f"
      },
      "execution_count": 21,
      "outputs": [
        {
          "output_type": "stream",
          "name": "stdout",
          "text": [
            "300\n",
            "290\n"
          ]
        }
      ]
    },
    {
      "cell_type": "markdown",
      "source": [
        "# 276\n",
        "Account 인스턴스에 저장된 정보를 출력하는 display_info() 메서드를 추가하세요. 잔고는 세자리마다 쉼표를 출력하세요.\n",
        "```\n",
        "은행이름: SC은행\n",
        "예금주: 파이썬\n",
        "계좌번호: 111-11-111111\n",
        "잔고: 10,000원\n",
        "```"
      ],
      "metadata": {
        "id": "Z4NVCZoClsou"
      }
    },
    {
      "cell_type": "code",
      "source": [
        "import random\n",
        "\n",
        "class Account():\n",
        "\n",
        "    def __init__(self, name, balance):\n",
        "        self.name = name\n",
        "        self.balance = balance\n",
        "        self.bank = \"SC은행\"\n",
        "        num1 = random.randint(0, 999)\n",
        "        num2 = random.randint(0, 99)\n",
        "        num3 = random.randint(0, 999999)\n",
        "\n",
        "        num1 = str(num1).zfill(3)      # 1 -> '1' -> '001'\n",
        "        num2 = str(num2).zfill(2)      # 1 -> '1' -> '01'\n",
        "        num3 = str(num3).zfill(6)      # 1 -> '1' -> '0000001'\n",
        "        self.account_number = num1 + '-' + num2 + '-' + num3  # 001-01-000001\n",
        "\n",
        "    def display_info(self):\n",
        "        print(f\"은행이름: {self.bank}\")\n",
        "        print(f\"예금주: {self.name}\")\n",
        "        print(f\"계좌번호: {self.account_number}\")\n",
        "        print(f\"잔고: {self.balance:,}\")"
      ],
      "metadata": {
        "id": "uvIMa3EKlyZL"
      },
      "execution_count": 26,
      "outputs": []
    },
    {
      "cell_type": "code",
      "source": [
        "# 세자리마다 콤마 넣는 방법 처음 알았다..."
      ],
      "metadata": {
        "id": "5yo5LPd1myaY"
      },
      "execution_count": 27,
      "outputs": []
    },
    {
      "cell_type": "code",
      "source": [
        "choi = Account(\"최반장\", 1200000)\n",
        "choi.display_info()"
      ],
      "metadata": {
        "colab": {
          "base_uri": "https://localhost:8080/"
        },
        "id": "0lZ0On38m0Sc",
        "outputId": "f3a216f3-f6fa-499a-b5ba-78643047e18a"
      },
      "execution_count": 30,
      "outputs": [
        {
          "output_type": "stream",
          "name": "stdout",
          "text": [
            "은행이름: SC은행\n",
            "예금주: 최반장\n",
            "계좌번호: 751-37-808167\n",
            "잔고: 1,200,000\n"
          ]
        }
      ]
    },
    {
      "cell_type": "markdown",
      "source": [
        "# 277\n",
        "입금 횟수가 5회가 될 때 잔고를 기준으로 1%의 이자가 잔고에 추가되도록 코드를 변경해보세요."
      ],
      "metadata": {
        "id": "UV8oHobkm4vf"
      }
    },
    {
      "cell_type": "code",
      "source": [
        "import random\n",
        "\n",
        "class Account():\n",
        "    count = 0\n",
        "    def __init__(self, name, balance):\n",
        "        self.name = name\n",
        "        self.balance = balance\n",
        "        self.bank = \"SC은행\"\n",
        "        num1 = random.randint(0, 999)\n",
        "        num2 = random.randint(0, 99)\n",
        "        num3 = random.randint(0, 999999)\n",
        "\n",
        "        num1 = str(num1).zfill(3)      # 1 -> '1' -> '001'\n",
        "        num2 = str(num2).zfill(2)      # 1 -> '1' -> '01'\n",
        "        num3 = str(num3).zfill(6)      # 1 -> '1' -> '0000001'\n",
        "        self.account_number = num1 + '-' + num2 + '-' + num3  # 001-01-000001\n",
        "        Account.count += 1\n",
        "        self.deposit_count = 0\n",
        "\n",
        "    def deposit(self, money):\n",
        "        if money >= 1:\n",
        "            self.balance += money\n",
        "            self.deposit_count += 1\n",
        "            if self.deposit_count % 5 == 0:\n",
        "                self.balance *= 1.01\n",
        "\n",
        "    def withdraw(self, money):\n",
        "        if money < self.balance:\n",
        "            self.balance -= money\n",
        "\n",
        "    @classmethod\n",
        "    def get_account_num(cls):\n",
        "        print(cls.count)     # Account.count"
      ],
      "metadata": {
        "id": "gjYINwnqnafa"
      },
      "execution_count": 39,
      "outputs": []
    },
    {
      "cell_type": "code",
      "source": [
        "p = Account(\"파이썬\", 10000)\n",
        "p.deposit(10000)\n",
        "p.deposit(10000)\n",
        "p.deposit(10000)\n",
        "p.deposit(5000)\n",
        "p.deposit(5000)\n",
        "print(p.balance)"
      ],
      "metadata": {
        "colab": {
          "base_uri": "https://localhost:8080/"
        },
        "id": "d6lr9uecoZN7",
        "outputId": "9414437f-fc72-4b14-ba9a-dc871f358727"
      },
      "execution_count": 40,
      "outputs": [
        {
          "output_type": "stream",
          "name": "stdout",
          "text": [
            "50500.0\n"
          ]
        }
      ]
    },
    {
      "cell_type": "markdown",
      "source": [
        "# 278\n",
        "Account 클래스로부터 3개 이상 인스턴스를 생성하고 생성된 인스턴스를 리스트에 저장해보세요."
      ],
      "metadata": {
        "id": "e86gHvhJobhD"
      }
    },
    {
      "cell_type": "code",
      "source": [
        "class Account():\n",
        "    def __init__(self, name, balance):\n",
        "        self.name = name\n",
        "        self.balance = balance\n",
        "        self.bank = \"SC은행\"\n",
        "        num1 = random.randint(0, 999)\n",
        "        num2 = random.randint(0, 99)\n",
        "        num3 = random.randint(0, 999999)\n",
        "\n",
        "        num1 = str(num1).zfill(3)      # 1 -> '1' -> '001'\n",
        "        num2 = str(num2).zfill(2)      # 1 -> '1' -> '01'\n",
        "        num3 = str(num3).zfill(6)      # 1 -> '1' -> '0000001'\n",
        "        self.account_number = num1 + '-' + num2 + '-' + num3  # 001-01-000001\n",
        "\n",
        "account_lst = []\n",
        "a = Account(\"임꺽정\", 400)\n",
        "b = Account(\"임창정\", 100)\n",
        "\n",
        "account_lst.append(a)\n",
        "account_lst.append(b)\n",
        "account_lst"
      ],
      "metadata": {
        "colab": {
          "base_uri": "https://localhost:8080/"
        },
        "id": "wr86L0ojpE7O",
        "outputId": "978206bc-fb41-4004-cbf3-4a5f9b04fbdb"
      },
      "execution_count": 43,
      "outputs": [
        {
          "output_type": "execute_result",
          "data": {
            "text/plain": [
              "[<__main__.Account at 0x794c71718be0>, <__main__.Account at 0x794c7171add0>]"
            ]
          },
          "metadata": {},
          "execution_count": 43
        }
      ]
    },
    {
      "cell_type": "markdown",
      "source": [
        "# 279\n",
        "반복문을 통해 리스트에 있는 객체를 순회하면서 잔고가 100만원 이상인 고객의 정보만 출력하세요."
      ],
      "metadata": {
        "id": "IsfAxDzpphyP"
      }
    },
    {
      "cell_type": "code",
      "source": [
        "class Account():\n",
        "    def __init__(self, name, balance):\n",
        "        self.name = name\n",
        "        self.balance = balance\n",
        "        self.bank = \"SC은행\"\n",
        "        num1 = random.randint(0, 999)\n",
        "        num2 = random.randint(0, 99)\n",
        "        num3 = random.randint(0, 999999)\n",
        "\n",
        "        num1 = str(num1).zfill(3)      # 1 -> '1' -> '001'\n",
        "        num2 = str(num2).zfill(2)      # 1 -> '1' -> '01'\n",
        "        num3 = str(num3).zfill(6)      # 1 -> '1' -> '0000001'\n",
        "        self.account_number = num1 + '-' + num2 + '-' + num3  # 001-01-000001\n",
        "\n",
        "account_lst = []\n",
        "a = Account(\"임꺽정\", 4000000)\n",
        "b = Account(\"임창정\", 100000)\n",
        "c = Account(\"임채무\", 2000000)\n",
        "account_lst.append(a)\n",
        "account_lst.append(b)\n",
        "account_lst.append(c)\n",
        "\n",
        "for i in account_lst:\n",
        "    if i.balance >= 1000000:\n",
        "        print(i.name)"
      ],
      "metadata": {
        "colab": {
          "base_uri": "https://localhost:8080/"
        },
        "id": "RG4wAGwDqPTd",
        "outputId": "e3372e5c-0fa8-4706-b8b2-97153c5d4a25"
      },
      "execution_count": 44,
      "outputs": [
        {
          "output_type": "stream",
          "name": "stdout",
          "text": [
            "임꺽정\n",
            "임채무\n"
          ]
        }
      ]
    },
    {
      "cell_type": "markdown",
      "source": [
        "# 280\n",
        "입금과 출금 내역이 기록되도록 코드를 업데이트 하세요. 입금 내역과 출금 내역을 출력하는 deposit_history와 withdraw_history 메서드를 추가하세요."
      ],
      "metadata": {
        "id": "L8_MI_18quxg"
      }
    },
    {
      "cell_type": "code",
      "source": [
        "# 정답\n",
        "import random\n",
        "\n",
        "class Account():\n",
        "    count = 0\n",
        "    def __init__(self, name, balance):\n",
        "        self.name = name\n",
        "        self.balance = balance\n",
        "        self.bank = \"SC은행\"\n",
        "        num1 = random.randint(0, 999)\n",
        "        num2 = random.randint(0, 99)\n",
        "        num3 = random.randint(0, 999999)\n",
        "\n",
        "        num1 = str(num1).zfill(3)      # 1 -> '1' -> '001'\n",
        "        num2 = str(num2).zfill(2)      # 1 -> '1' -> '01'\n",
        "        num3 = str(num3).zfill(6)      # 1 -> '1' -> '0000001'\n",
        "        self.account_number = num1 + '-' + num2 + '-' + num3  # 001-01-000001\n",
        "        Account.count += 1\n",
        "        self.deposit_count = 0\n",
        "        self.deposit_log = []\n",
        "        self.withdraw_log = []\n",
        "\n",
        "    def deposit(self, money):\n",
        "        if money >= 1:\n",
        "            self.deposit_log.append(money)\n",
        "            self.balance += money\n",
        "            self.deposit_count += 1\n",
        "            if self.deposit_count % 5 == 0:\n",
        "                self.balance *= 1.01\n",
        "\n",
        "    def withdraw(self, money):\n",
        "        if money < self.balance:\n",
        "            self.withdraw_log.append(money)\n",
        "            self.balance -= money\n",
        "\n",
        "    def withdraw_history(self):\n",
        "        for money in self.withdraw_log:\n",
        "            print(money)\n",
        "\n",
        "    def deposit_history(self):\n",
        "        for money in self.deposit_log:\n",
        "            print(money)\n",
        "\n",
        "    @classmethod\n",
        "    def get_account_num(cls):\n",
        "        print(cls.count)     # Account.count"
      ],
      "metadata": {
        "id": "4GgmXNisqz9D"
      },
      "execution_count": 45,
      "outputs": []
    },
    {
      "cell_type": "code",
      "source": [
        "k = Account(\"Kim\", 1000)\n",
        "k.deposit(100)\n",
        "k.deposit(200)\n",
        "k.deposit(300)\n",
        "k.deposit_history()\n",
        "\n",
        "k.withdraw(100)\n",
        "k.withdraw(200)\n",
        "k.withdraw_history()"
      ],
      "metadata": {
        "colab": {
          "base_uri": "https://localhost:8080/"
        },
        "id": "i9AJEETkrZy2",
        "outputId": "aaaf4c9a-7d37-47d9-c1f2-4889405e7937"
      },
      "execution_count": 46,
      "outputs": [
        {
          "output_type": "stream",
          "name": "stdout",
          "text": [
            "100\n",
            "200\n",
            "300\n",
            "100\n",
            "200\n"
          ]
        }
      ]
    }
  ]
}