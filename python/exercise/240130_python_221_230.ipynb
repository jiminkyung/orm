{
  "nbformat": 4,
  "nbformat_minor": 0,
  "metadata": {
    "colab": {
      "provenance": [],
      "authorship_tag": "ABX9TyNDSTT5w2epOHbUJojNyNPt",
      "include_colab_link": true
    },
    "kernelspec": {
      "name": "python3",
      "display_name": "Python 3"
    },
    "language_info": {
      "name": "python"
    }
  },
  "cells": [
    {
      "cell_type": "markdown",
      "metadata": {
        "id": "view-in-github",
        "colab_type": "text"
      },
      "source": [
        "<a href=\"https://colab.research.google.com/github/jiminkyung/orm/blob/main/python/exercise/240130_python_221_230.ipynb\" target=\"_parent\"><img src=\"https://colab.research.google.com/assets/colab-badge.svg\" alt=\"Open In Colab\"/></a>"
      ]
    },
    {
      "cell_type": "markdown",
      "source": [
        "# 221\n",
        "입력된 문자열을 역순으로 출력하는 print_reverse 함수를 정의하라.\n",
        "```\n",
        "print_reverse(\"python\")\n",
        "nohtyp\n",
        "```"
      ],
      "metadata": {
        "id": "mlHzgwnWwXvt"
      }
    },
    {
      "cell_type": "code",
      "source": [
        "def print_reverse(data):\n",
        "    print(data[::-1])"
      ],
      "metadata": {
        "id": "-7T5Qcj9wms3"
      },
      "execution_count": 1,
      "outputs": []
    },
    {
      "cell_type": "markdown",
      "source": [
        "# 222\n",
        "성적 리스트를 입력 받아 평균을 출력하는 print_score 함수를 정의하라.\n",
        "```\n",
        "print_score ([1, 2, 3])\n",
        "2.0\n",
        "```"
      ],
      "metadata": {
        "id": "4W2XlvUewtB0"
      }
    },
    {
      "cell_type": "code",
      "source": [
        "def print_score(data):\n",
        "    print(sum(data)/len(data))"
      ],
      "metadata": {
        "id": "kwPqdS7iwyv_"
      },
      "execution_count": 2,
      "outputs": []
    },
    {
      "cell_type": "code",
      "source": [
        "print_score([1, 2, 3])"
      ],
      "metadata": {
        "colab": {
          "base_uri": "https://localhost:8080/"
        },
        "id": "V0RkqZXcw6pZ",
        "outputId": "374c9d3c-31b8-4dab-d45a-3a39edd54b16"
      },
      "execution_count": 3,
      "outputs": [
        {
          "output_type": "stream",
          "name": "stdout",
          "text": [
            "2.0\n"
          ]
        }
      ]
    },
    {
      "cell_type": "markdown",
      "source": [
        "# 223\n",
        "하나의 리스트를 입력받아 짝수만 화면에 출력하는 print_even 함수를 정의하라.\n",
        "```\n",
        "print_even ([1, 3, 2, 10, 12, 11, 15])\n",
        "2\n",
        "10\n",
        "12\n",
        "```"
      ],
      "metadata": {
        "id": "IhVCKnQsw8_D"
      }
    },
    {
      "cell_type": "code",
      "source": [
        "def print_even(data):\n",
        "    for num in data:\n",
        "        if num % 2 == 0:\n",
        "            print(num)"
      ],
      "metadata": {
        "id": "5ExWYHFOxBc3"
      },
      "execution_count": 8,
      "outputs": []
    },
    {
      "cell_type": "code",
      "source": [
        "print_even ([1, 3, 2, 10, 12, 11, 15])"
      ],
      "metadata": {
        "colab": {
          "base_uri": "https://localhost:8080/"
        },
        "id": "ByQ1GEZ3xRmj",
        "outputId": "997f44ad-877b-46a1-e5dc-0cc1db61163a"
      },
      "execution_count": 9,
      "outputs": [
        {
          "output_type": "stream",
          "name": "stdout",
          "text": [
            "2\n",
            "10\n",
            "12\n"
          ]
        }
      ]
    },
    {
      "cell_type": "markdown",
      "source": [
        "# 224\n",
        "하나의 딕셔너리를 입력받아 딕셔너리의 key 값을 화면에 출력하는 print_keys 함수를 정의하라.\n",
        "```\n",
        "print_keys ({\"이름\":\"김말똥\", \"나이\":30, \"성별\":0})\n",
        "이름\n",
        "나이\n",
        "성별\n",
        "```"
      ],
      "metadata": {
        "id": "eAEDP6-0xUoM"
      }
    },
    {
      "cell_type": "code",
      "source": [
        "def print_keys(data):\n",
        "    for i in data.keys():\n",
        "        print(i)"
      ],
      "metadata": {
        "id": "YHWTUbT6x1mR"
      },
      "execution_count": 10,
      "outputs": []
    },
    {
      "cell_type": "code",
      "source": [
        "print_keys ({\"이름\":\"김말똥\", \"나이\":30, \"성별\":0})"
      ],
      "metadata": {
        "colab": {
          "base_uri": "https://localhost:8080/"
        },
        "id": "CUhKIxfFx_2i",
        "outputId": "2c9bbcfe-9d9a-42b4-c8ab-1fae86953621"
      },
      "execution_count": 11,
      "outputs": [
        {
          "output_type": "stream",
          "name": "stdout",
          "text": [
            "이름\n",
            "나이\n",
            "성별\n"
          ]
        }
      ]
    },
    {
      "cell_type": "markdown",
      "source": [
        "# 225\n",
        "my_dict에는 날짜를 키값으로 OHLC가 리스트로 저장돼 있다.\n",
        "```\n",
        "my_dict = {\"10/26\" : [100, 130, 100, 100],\n",
        "           \"10/27\" : [10, 12, 10, 11]}\n",
        "```\n",
        "my_dict와 날짜 키값을 입력받아 OHLC 리스트를 출력하는 print_value_by_key 함수를 정의하라.\n",
        "```\n",
        "print_value_by_key  (my_dict, \"10/26\")\n",
        "[100, 130, 100, 100]\n",
        "```"
      ],
      "metadata": {
        "id": "2pAHToe1yBGU"
      }
    },
    {
      "cell_type": "code",
      "source": [
        "def print_value_by_key(data, keys):\n",
        "    print(data[keys])"
      ],
      "metadata": {
        "id": "jdoquH4AyfQP"
      },
      "execution_count": 12,
      "outputs": []
    },
    {
      "cell_type": "markdown",
      "source": [
        "# 226\n",
        "입력 문자열을 한 줄에 다섯글자씩 출력하는 print_5xn(string) 함수를 작성하라.\n",
        "```\n",
        "print_5xn(\"아이엠어보이유알어걸\")\n",
        "아이엠어보\n",
        "이유알어걸\n",
        "```"
      ],
      "metadata": {
        "id": "0Pwz0Nw5yujk"
      }
    },
    {
      "cell_type": "code",
      "source": [
        "# 정답\n",
        "def print_5xn(line):\n",
        "    chunk_num = int(len(line) / 5)\n",
        "    for x in range(chunk_num + 1) :\n",
        "        print(line[x * 5: x * 5 + 5])\n",
        "# 멀쩡한 정신일때 다시 보자...하하"
      ],
      "metadata": {
        "id": "Bqe1XGDdy1di"
      },
      "execution_count": 13,
      "outputs": []
    },
    {
      "cell_type": "markdown",
      "source": [
        "# 227\n",
        "문자열과 한줄에 출력될 글자 수를 입력을 받아 한 줄에 입력된 글자 수만큼 출력하는 print_mxn(string) 함수를 작성하라.\n",
        "```\n",
        "printmxn(\"아이엠어보이유알어걸\", 3)\n",
        "아이엠\n",
        "어보이\n",
        "유알어\n",
        "걸\n",
        "```"
      ],
      "metadata": {
        "id": "RyLN1YPdzQ5V"
      }
    },
    {
      "cell_type": "code",
      "source": [
        "def print_mxn(string, num):\n",
        "    count = int(len(string) / num)\n",
        "    for i in range(count + 1):\n",
        "        print(string[i * num: i * num + num])"
      ],
      "metadata": {
        "id": "CtH00RY0zU9r"
      },
      "execution_count": 19,
      "outputs": []
    },
    {
      "cell_type": "code",
      "source": [
        "print_mxn(\"아이엠어보이유알어걸\", 3)"
      ],
      "metadata": {
        "colab": {
          "base_uri": "https://localhost:8080/"
        },
        "id": "PPgAERQ4z2y7",
        "outputId": "a85c94d1-a666-4574-adfd-76ad16a0cb9a"
      },
      "execution_count": 20,
      "outputs": [
        {
          "output_type": "stream",
          "name": "stdout",
          "text": [
            "아이엠\n",
            "어보이\n",
            "유알어\n",
            "걸\n"
          ]
        }
      ]
    },
    {
      "cell_type": "markdown",
      "source": [
        "# 228\n",
        "연봉을 입력받아 월급을 계산하는 calc_monthly_salary(annual_salary) 함수를 정의하라. 회사는 연봉을 12개월로 나누어 분할 지급하며, 이 때 1원 미만은 버림한다.\n",
        "```\n",
        "calc_monthly_salary(12000000)\n",
        "1000000\n",
        "```"
      ],
      "metadata": {
        "id": "p1odFOJSz4JY"
      }
    },
    {
      "cell_type": "code",
      "source": [
        "def calc_monthly_salary(money):\n",
        "    print(money // 12)"
      ],
      "metadata": {
        "id": "ejqx_Bmi0MMa"
      },
      "execution_count": 21,
      "outputs": []
    },
    {
      "cell_type": "code",
      "source": [
        "calc_monthly_salary(12000000)"
      ],
      "metadata": {
        "colab": {
          "base_uri": "https://localhost:8080/"
        },
        "id": "rxVjRhUS0j8U",
        "outputId": "6f35aedf-3187-4e92-b7b8-eba6d265bb69"
      },
      "execution_count": 22,
      "outputs": [
        {
          "output_type": "stream",
          "name": "stdout",
          "text": [
            "1000000\n"
          ]
        }
      ]
    },
    {
      "cell_type": "markdown",
      "source": [
        "# 229\n",
        "아래 코드의 실행 결과를 예측하라.\n",
        "```\n",
        "def my_print (a, b) :\n",
        "    print(\"왼쪽:\", a)\n",
        "    print(\"오른쪽:\", b)\n",
        "\n",
        "my_print(a=100, b=200)\n",
        "```"
      ],
      "metadata": {
        "id": "xr40wojt0lHK"
      }
    },
    {
      "cell_type": "code",
      "source": [
        "# 왼쪽: 100\n",
        "# 오른쪽: 200"
      ],
      "metadata": {
        "id": "EFr_iWpy0q7D"
      },
      "execution_count": 23,
      "outputs": []
    },
    {
      "cell_type": "markdown",
      "source": [
        "# 230\n",
        "아래 코드의 실행 결과를 예측하라.\n",
        "```\n",
        "def my_print (a, b) :\n",
        "    print(\"왼쪽:\", a)\n",
        "    print(\"오른쪽:\", b)\n",
        "\n",
        "my_print(b=100, a=200)\n",
        "```"
      ],
      "metadata": {
        "id": "_z56zSFr0ybp"
      }
    },
    {
      "cell_type": "code",
      "source": [
        "# 229번과 같음."
      ],
      "metadata": {
        "id": "JAKk5oPA02Iv"
      },
      "execution_count": null,
      "outputs": []
    }
  ]
}