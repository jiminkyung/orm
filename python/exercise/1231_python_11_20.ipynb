{
  "nbformat": 4,
  "nbformat_minor": 0,
  "metadata": {
    "colab": {
      "provenance": []
    },
    "kernelspec": {
      "name": "python3",
      "display_name": "Python 3"
    },
    "language_info": {
      "name": "python"
    }
  },
  "cells": [
    {
      "cell_type": "markdown",
      "source": [
        "### 바인딩(Binding)?\n",
        ": 프로그램의 어떤 기본 단위가 가질 수 있는 구성요소의 구체적인 값, 성격을 확정하는 것\n"
      ],
      "metadata": {
        "id": "rqH9zdRcYMHz"
      }
    },
    {
      "cell_type": "markdown",
      "source": [
        "1. 삼성전자라는 변수로 50,000원을 바인딩해보세요. 삼성전자 주식 10주를 보유하고 있을 때 총 평가금액을 출력하세요."
      ],
      "metadata": {
        "id": "l7E9xLm0T9eH"
      }
    },
    {
      "cell_type": "code",
      "source": [
        "삼성전자 = 50000\n",
        "평가금액 = 삼성전자 * 10\n",
        "print(평가금액)"
      ],
      "metadata": {
        "colab": {
          "base_uri": "https://localhost:8080/"
        },
        "id": "JCa2FOi1V996",
        "outputId": "2b2829fd-5b09-49ba-ae06-07345455df3d"
      },
      "execution_count": 1,
      "outputs": [
        {
          "output_type": "stream",
          "name": "stdout",
          "text": [
            "500000\n"
          ]
        }
      ]
    },
    {
      "cell_type": "markdown",
      "source": [
        "2. 다음 표는 삼성전자의 일부 투자정보입니다. 변수를 사용해서 시가총액, 현재가, PER 등을 바인딩해보세요.  \n",
        "![image.png](data:image/png;base64,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)"
      ],
      "metadata": {
        "id": "jqecuvGWUGxo"
      }
    },
    {
      "cell_type": "code",
      "source": [
        "시가총액 = 298000000000000\n",
        "현재가 = 50000\n",
        "per = 15.79\n",
        "print(시가총액, type(시가총액))\n",
        "print(현재가, type(현재가))\n",
        "print(per, type(per))"
      ],
      "metadata": {
        "colab": {
          "base_uri": "https://localhost:8080/"
        },
        "id": "AMNjIWNXWOMc",
        "outputId": "d2a10d79-18c0-4785-8c04-2c42a74dc938"
      },
      "execution_count": 2,
      "outputs": [
        {
          "output_type": "stream",
          "name": "stdout",
          "text": [
            "298000000000000 <class 'int'>\n",
            "50000 <class 'int'>\n",
            "15.79 <class 'float'>\n"
          ]
        }
      ]
    },
    {
      "cell_type": "markdown",
      "source": [
        "3. 변수 s와 t에는 각각 문자열이 바인딩 되어있습니다.  \n",
        "`s = \"hello\" t = \"python\"`  \n",
        "두 변수를 이용하여 아래와 같이 출력해보세요.  \n",
        "실행 예: `hello! python`"
      ],
      "metadata": {
        "id": "14lp4IV2Uaag"
      }
    },
    {
      "cell_type": "code",
      "source": [
        "s = \"hello\"\n",
        "t = \"python\"\n",
        "print(s, t, sep=\"!\")"
      ],
      "metadata": {
        "colab": {
          "base_uri": "https://localhost:8080/"
        },
        "id": "T89k8XOGWqYJ",
        "outputId": "98e1d341-0752-408c-9743-4158641c7ff9"
      },
      "execution_count": 3,
      "outputs": [
        {
          "output_type": "stream",
          "name": "stdout",
          "text": [
            "hello!python\n"
          ]
        }
      ]
    },
    {
      "cell_type": "code",
      "source": [
        "print(s + \"!\", t) # 답"
      ],
      "metadata": {
        "colab": {
          "base_uri": "https://localhost:8080/"
        },
        "id": "MsieWNCWW4RL",
        "outputId": "de7d0831-a096-48a7-cacd-1c9e7c4f9789"
      },
      "execution_count": 4,
      "outputs": [
        {
          "output_type": "stream",
          "name": "stdout",
          "text": [
            "hello! python\n"
          ]
        }
      ]
    },
    {
      "cell_type": "markdown",
      "source": [
        "4. 아래 코드의 실행 결과를 예상해보세요.  \n",
        "2 + 2 * 3"
      ],
      "metadata": {
        "id": "LZvqNYG-U624"
      }
    },
    {
      "cell_type": "code",
      "source": [
        "# 8\n",
        "print(2 + 2 * 3)"
      ],
      "metadata": {
        "colab": {
          "base_uri": "https://localhost:8080/"
        },
        "id": "dP5uoYT4XA0J",
        "outputId": "b9f85322-f699-4fba-d9a9-9b90224cfd1d"
      },
      "execution_count": 5,
      "outputs": [
        {
          "output_type": "stream",
          "name": "stdout",
          "text": [
            "8\n"
          ]
        }
      ]
    },
    {
      "cell_type": "markdown",
      "source": [
        "5. type() 함수는 데이터 타입을 판별합니다. 변수 a에는 128 숫자가 바인딩돼 있어 type 함수가 int (정수)형임을 알려줍니다.\n",
        "```\n",
        ">> a = 128\n",
        ">> print (type(a))\n",
        "<class 'int'>\n",
        "```\n",
        "아래 변수에 바인딩된 값의 타입을 판별해보세요.  \n",
        "a = \"132\""
      ],
      "metadata": {
        "id": "F-K9qqe0VBTH"
      }
    },
    {
      "cell_type": "code",
      "source": [
        "a = \"132\"\n",
        "print(type(a))"
      ],
      "metadata": {
        "colab": {
          "base_uri": "https://localhost:8080/"
        },
        "id": "0rIwi8vnXFbC",
        "outputId": "e969b113-864c-40d4-ebb5-312db2e94ea4"
      },
      "execution_count": 6,
      "outputs": [
        {
          "output_type": "stream",
          "name": "stdout",
          "text": [
            "<class 'str'>\n"
          ]
        }
      ]
    },
    {
      "cell_type": "markdown",
      "source": [
        "6. 문자열 '720'를 정수형으로 변환해보세요.  \n",
        "`num_str = \"720\"`"
      ],
      "metadata": {
        "id": "JOyVEh0HVYj4"
      }
    },
    {
      "cell_type": "code",
      "source": [
        "num_str = \"720\"\n",
        "print(int(num_str))\n",
        "print(type(int(num_str)))"
      ],
      "metadata": {
        "colab": {
          "base_uri": "https://localhost:8080/"
        },
        "id": "HhMfU4EMXKXH",
        "outputId": "a8a911cd-ba50-4c90-82a3-c678c6e9efe6"
      },
      "execution_count": 10,
      "outputs": [
        {
          "output_type": "stream",
          "name": "stdout",
          "text": [
            "720\n",
            "<class 'int'>\n"
          ]
        }
      ]
    },
    {
      "cell_type": "markdown",
      "source": [
        "7. 정수 100을 문자열 '100'으로 변환해보세요.  \n",
        "`num = 100`"
      ],
      "metadata": {
        "id": "vcMu4PJRVeJW"
      }
    },
    {
      "cell_type": "code",
      "source": [
        "num = 100\n",
        "print(str(num), type(str(num)))"
      ],
      "metadata": {
        "colab": {
          "base_uri": "https://localhost:8080/"
        },
        "id": "s6x9R5y2XeC-",
        "outputId": "13594905-f289-4780-805d-f9a0b0800dae"
      },
      "execution_count": 11,
      "outputs": [
        {
          "output_type": "stream",
          "name": "stdout",
          "text": [
            "100 <class 'str'>\n"
          ]
        }
      ]
    },
    {
      "cell_type": "markdown",
      "source": [
        "8. 문자열 \"15.79\"를 실수(float) 타입으로 변환해보세요."
      ],
      "metadata": {
        "id": "otaFevddVrSL"
      }
    },
    {
      "cell_type": "code",
      "source": [
        "a = \"15.79\"\n",
        "print(float(a), type(float(a)))"
      ],
      "metadata": {
        "colab": {
          "base_uri": "https://localhost:8080/"
        },
        "id": "I7471mBtXkeT",
        "outputId": "2de7baec-e00c-4ab5-fe29-a95514d586e4"
      },
      "execution_count": 12,
      "outputs": [
        {
          "output_type": "stream",
          "name": "stdout",
          "text": [
            "15.79 <class 'float'>\n"
          ]
        }
      ]
    },
    {
      "cell_type": "markdown",
      "source": [
        "9. ear라는 변수가 문자열 타입의 연도를 바인딩하고 있습니다. 이를 정수로 변환한 후 최근 3년의 연도를 화면에 출력해보세요.  \n",
        "`year = \"2020\"`"
      ],
      "metadata": {
        "id": "7xGX06-DVjLb"
      }
    },
    {
      "cell_type": "code",
      "source": [
        "year = \"2020\"\n",
        "y = int(year)\n",
        "print(y + 3, y + 2, y + 1)"
      ],
      "metadata": {
        "colab": {
          "base_uri": "https://localhost:8080/"
        },
        "id": "aV1WrHcLXsz9",
        "outputId": "78c0d1f7-8b98-4b1b-a02c-6cfdf439e933"
      },
      "execution_count": 13,
      "outputs": [
        {
          "output_type": "stream",
          "name": "stdout",
          "text": [
            "2023 2022 2021\n"
          ]
        }
      ]
    },
    {
      "cell_type": "markdown",
      "source": [
        "10. 에이컨이 월 48,584원에 무이자 36개월의 조건으로 홈쇼핑에서 판매되고 있습니다. 총 금액은 계산한 후 이를 화면에 출력해보세요. (변수사용하기)"
      ],
      "metadata": {
        "id": "8hRDxrBqVxNq"
      }
    },
    {
      "cell_type": "code",
      "source": [
        "a = 48584\n",
        "total = a * 36\n",
        "print(total)"
      ],
      "metadata": {
        "colab": {
          "base_uri": "https://localhost:8080/"
        },
        "id": "NjOxG9iiV18f",
        "outputId": "6a1217f9-97e0-4300-ddb5-b4d1f8c6910f"
      },
      "execution_count": 14,
      "outputs": [
        {
          "output_type": "stream",
          "name": "stdout",
          "text": [
            "1749024\n"
          ]
        }
      ]
    }
  ]
}