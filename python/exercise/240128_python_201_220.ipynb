{
  "nbformat": 4,
  "nbformat_minor": 0,
  "metadata": {
    "colab": {
      "provenance": [],
      "authorship_tag": "ABX9TyO5ojC5/4sVolO6zIwP19qZ",
      "include_colab_link": true
    },
    "kernelspec": {
      "name": "python3",
      "display_name": "Python 3"
    },
    "language_info": {
      "name": "python"
    }
  },
  "cells": [
    {
      "cell_type": "markdown",
      "metadata": {
        "id": "view-in-github",
        "colab_type": "text"
      },
      "source": [
        "<a href=\"https://colab.research.google.com/github/jiminkyung/orm/blob/main/python/exercise/240128_python_201_220.ipynb\" target=\"_parent\"><img src=\"https://colab.research.google.com/assets/colab-badge.svg\" alt=\"Open In Colab\"/></a>"
      ]
    },
    {
      "cell_type": "markdown",
      "source": [
        "# 201\n",
        "\"비트코인\" 문자열을 화면에 출력하는 print_coin() 함수를 정의하라."
      ],
      "metadata": {
        "id": "NMJnrXHsq1jW"
      }
    },
    {
      "cell_type": "code",
      "source": [
        "def print_coin():\n",
        "    print(\"비트코인\")"
      ],
      "metadata": {
        "id": "0I94R6SorH2y"
      },
      "execution_count": 8,
      "outputs": []
    },
    {
      "cell_type": "markdown",
      "source": [
        "# 202\n",
        "201번에서 정의한 함수를 호출하라."
      ],
      "metadata": {
        "id": "V6UTaZJzrMhJ"
      }
    },
    {
      "cell_type": "code",
      "source": [
        "print_coin()"
      ],
      "metadata": {
        "colab": {
          "base_uri": "https://localhost:8080/"
        },
        "id": "w4e1ne3jrVon",
        "outputId": "3c86d795-f536-48ee-dba3-d76d4b9c8023"
      },
      "execution_count": 9,
      "outputs": [
        {
          "output_type": "stream",
          "name": "stdout",
          "text": [
            "비트코인\n"
          ]
        }
      ]
    },
    {
      "cell_type": "markdown",
      "source": [
        "# 203\n",
        "201번에서 정의한 print_coin 함수를 100번호출하라."
      ],
      "metadata": {
        "id": "xryEIy1OrXDY"
      }
    },
    {
      "cell_type": "code",
      "source": [
        "for i in range(100):\n",
        "    print_coin()"
      ],
      "metadata": {
        "id": "5wfXqdSYrdN9"
      },
      "execution_count": null,
      "outputs": []
    },
    {
      "cell_type": "code",
      "source": [
        "# def print_coin:\n",
        "#     return \"비트코인\"\n",
        "# 으로 하면 출력이 되지 않는다. 왜?"
      ],
      "metadata": {
        "id": "A_0h9qaNrlSy"
      },
      "execution_count": 11,
      "outputs": []
    },
    {
      "cell_type": "markdown",
      "source": [
        "# 204\n",
        "\"비트코인\" 문자열을 100번 화면에 출력하는 print_coins() 함수를 정의하라."
      ],
      "metadata": {
        "id": "PQ0UavOLr-4e"
      }
    },
    {
      "cell_type": "code",
      "source": [
        "def print_coin():\n",
        "    print(\"비트코인\"*100)"
      ],
      "metadata": {
        "id": "VdQLIvJEsDJy"
      },
      "execution_count": 12,
      "outputs": []
    },
    {
      "cell_type": "code",
      "source": [
        "# 정답\n",
        "def print_coins():\n",
        "    for i in range(100):\n",
        "        print(\"비트코인\")"
      ],
      "metadata": {
        "id": "SOxyzvsdsMxb"
      },
      "execution_count": 13,
      "outputs": []
    },
    {
      "cell_type": "markdown",
      "source": [
        "# 205\n",
        "아래의 에러가 발생하는 이유에 대해 설명하라.\n",
        "```\n",
        "hello()\n",
        "def hello():\n",
        "    print(\"Hi\")\n",
        "```"
      ],
      "metadata": {
        "id": "pUDLP7FPslxz"
      }
    },
    {
      "cell_type": "code",
      "source": [
        "# hello() 함수 정의 전 호출했기 때문이다."
      ],
      "metadata": {
        "id": "paS_KUoysrq_"
      },
      "execution_count": 14,
      "outputs": []
    },
    {
      "cell_type": "markdown",
      "source": [
        "# 206\n",
        "아래 코드의 실행 결과를 예측하라.\n",
        "```\n",
        "def message() :\n",
        "    print(\"A\")\n",
        "    print(\"B\")\n",
        "\n",
        "message()\n",
        "print(\"C\")\n",
        "message()\n",
        "```"
      ],
      "metadata": {
        "id": "T6nuchtfs00R"
      }
    },
    {
      "cell_type": "code",
      "source": [
        "# A B C A B 한줄씩 출력됨."
      ],
      "metadata": {
        "id": "e5FBrGu3tAL9"
      },
      "execution_count": 15,
      "outputs": []
    },
    {
      "cell_type": "markdown",
      "source": [
        "# 207\n",
        "아래 코드의 실행 결과를 예측하라. (읽기 어려운 코드의 예입니다.)\n",
        "```\n",
        "print(\"A\")\n",
        "\n",
        "def message() :\n",
        "    print(\"B\")\n",
        "\n",
        "print(\"C\")\n",
        "message()\n",
        "```"
      ],
      "metadata": {
        "id": "d5NpOxIstHZF"
      }
    },
    {
      "cell_type": "code",
      "source": [
        "# A C B 한줄씩 출력."
      ],
      "metadata": {
        "id": "LaN7h25wtMkZ"
      },
      "execution_count": 16,
      "outputs": []
    },
    {
      "cell_type": "markdown",
      "source": [
        "# 208\n",
        "아래 코드의 실행 결과를 예측하라. (읽기 어려운 코드의 예입니다.)\n",
        "```\n",
        "print(\"A\")\n",
        "def message1() :\n",
        "    print(\"B\")\n",
        "print(\"C\")\n",
        "def message2() :\n",
        "    print(\"D\")\n",
        "message1()\n",
        "print(\"E\")\n",
        "message2()\n",
        "```"
      ],
      "metadata": {
        "id": "G__lELWttQw6"
      }
    },
    {
      "cell_type": "code",
      "source": [
        "# A C B E D 한줄씩 출력."
      ],
      "metadata": {
        "id": "gbqUjmqftWei"
      },
      "execution_count": 17,
      "outputs": []
    },
    {
      "cell_type": "markdown",
      "source": [
        "# 209\n",
        "아래 코드의 실행 결과를 예측하라.\n",
        "```\n",
        "def message1():\n",
        "    print(\"A\")\n",
        "\n",
        "def message2():\n",
        "    print(\"B\")\n",
        "    message1()\n",
        "\n",
        "message2()\n",
        "```"
      ],
      "metadata": {
        "id": "79107GR-tdO7"
      }
    },
    {
      "cell_type": "code",
      "source": [
        "# B A 한줄씩 출력."
      ],
      "metadata": {
        "id": "rtpFd0vFtihb"
      },
      "execution_count": 18,
      "outputs": []
    },
    {
      "cell_type": "markdown",
      "source": [
        "# 210\n",
        "아래 코드의 실행 결과를 예측하라.\n",
        "```\n",
        "def message1():\n",
        "    print(\"A\")\n",
        "\n",
        "def message2():\n",
        "    print(\"B\")\n",
        "\n",
        "def message3():\n",
        "    for i in range (3) :\n",
        "        message2()\n",
        "        print(\"C\")\n",
        "    message1()\n",
        "\n",
        "message3()\n",
        "```"
      ],
      "metadata": {
        "id": "2rmsFDAQtm7k"
      }
    },
    {
      "cell_type": "code",
      "source": [
        "# B C B C B C A 한줄씩 출력."
      ],
      "metadata": {
        "id": "NJWXT_yDtr5B"
      },
      "execution_count": 19,
      "outputs": []
    },
    {
      "cell_type": "markdown",
      "source": [
        "---"
      ],
      "metadata": {
        "id": "yMZrw3i_t5Ku"
      }
    },
    {
      "cell_type": "markdown",
      "source": [
        "# 211\n",
        "함수의 호출 결과를 예측하라.\n",
        "```\n",
        "def 함수(문자열) :\n",
        "    print(문자열)\n",
        "\n",
        "함수(\"안녕\")\n",
        "함수(\"Hi\")\n",
        "```"
      ],
      "metadata": {
        "id": "demxDF6gt9Kl"
      }
    },
    {
      "cell_type": "code",
      "source": [
        "# 안녕 Hi 한줄씩 출력."
      ],
      "metadata": {
        "id": "5LHb3RbUuDz4"
      },
      "execution_count": 20,
      "outputs": []
    },
    {
      "cell_type": "markdown",
      "source": [
        "# 212\n",
        "함수의 호출 결과를 예측하라.\n",
        "```\n",
        "def 함수(a, b) :\n",
        "    print(a + b)\n",
        "\n",
        "함수(3, 4)\n",
        "함수(7, 8)\n",
        "```"
      ],
      "metadata": {
        "id": "Zo9CuosyuHnR"
      }
    },
    {
      "cell_type": "code",
      "source": [
        "# 7, 15 한줄씩 출력."
      ],
      "metadata": {
        "id": "8Jqo8JX0uMG1"
      },
      "execution_count": 21,
      "outputs": []
    },
    {
      "cell_type": "markdown",
      "source": [
        "# 213\n",
        "아래와 같은 에러가 발생하는 원인을 설명하라.\n",
        "```\n",
        "def 함수(문자열) :\n",
        "    print(문자열)\n",
        "함수()\n",
        "TypeError: 함수() missing 1 required positional argument: '문자열'\n",
        "```"
      ],
      "metadata": {
        "id": "fs5pE0opuUB1"
      }
    },
    {
      "cell_type": "code",
      "source": [
        "# 아규먼트 값이 없기 때문이다."
      ],
      "metadata": {
        "id": "vlx75lBMubEB"
      },
      "execution_count": 22,
      "outputs": []
    },
    {
      "cell_type": "markdown",
      "source": [
        "# 214\n",
        "아래와 같은 에러가 발생하는 원인을 설명하라.\n",
        "```\n",
        "def 함수(a, b) :\n",
        "    print(a + b)\n",
        "\n",
        "함수(\"안녕\", 3)\n",
        "TypeError: must be str, not int\n",
        "```"
      ],
      "metadata": {
        "id": "NYd8IuYzuz7A"
      }
    },
    {
      "cell_type": "code",
      "source": [
        "# str과 int는 더할 수 없다."
      ],
      "metadata": {
        "id": "EyDbKfFKu48R"
      },
      "execution_count": 23,
      "outputs": []
    },
    {
      "cell_type": "markdown",
      "source": [
        "# 215\n",
        "하나의 문자를 입력받아 문자열 끝에 \":D\" 스마일 문자열을 이어 붙여 출력하는 print_with_smile 함수를 정의하라."
      ],
      "metadata": {
        "id": "ZhxY9KwdvFUz"
      }
    },
    {
      "cell_type": "code",
      "source": [
        "def print_with_smile(sentence):\n",
        "    print(sentence + \":D\")"
      ],
      "metadata": {
        "id": "8Y-V4-PTvIJe"
      },
      "execution_count": 24,
      "outputs": []
    },
    {
      "cell_type": "markdown",
      "source": [
        "# 216\n",
        "215에서 정의한 함수를 호출하라. 파라미터는 \"안녕하세요\"로 입력하라."
      ],
      "metadata": {
        "id": "KF8ACIpWvVwQ"
      }
    },
    {
      "cell_type": "code",
      "source": [
        "print_with_smile(\"안녕하세요\")"
      ],
      "metadata": {
        "colab": {
          "base_uri": "https://localhost:8080/"
        },
        "id": "zB2KPSqfvY8a",
        "outputId": "695a27ee-2d4c-4196-e7c1-9909dbced2b7"
      },
      "execution_count": 25,
      "outputs": [
        {
          "output_type": "stream",
          "name": "stdout",
          "text": [
            "안녕하세요:D\n"
          ]
        }
      ]
    },
    {
      "cell_type": "markdown",
      "source": [
        "# 217\n",
        "현재 가격을 입력 받아 상한가 (30%)를 출력하는 print_upper_price 함수를 정의하라."
      ],
      "metadata": {
        "id": "XoZEr5FSvcS8"
      }
    },
    {
      "cell_type": "code",
      "source": [
        "def print_upper_price(price):\n",
        "    print(price * 1.3)"
      ],
      "metadata": {
        "id": "0lG0j4NYvfPP"
      },
      "execution_count": 26,
      "outputs": []
    },
    {
      "cell_type": "markdown",
      "source": [
        "# 218\n",
        "두 개의 숫자를 입력받아 두 수의 합을 출력하는 print_sum 함수를 정의하라."
      ],
      "metadata": {
        "id": "hQ4LW9opvoR-"
      }
    },
    {
      "cell_type": "code",
      "source": [
        "def print_sum(num1, num2):\n",
        "    print(num1 + num2)"
      ],
      "metadata": {
        "id": "-AOK44PyvrOq"
      },
      "execution_count": 27,
      "outputs": []
    },
    {
      "cell_type": "markdown",
      "source": [
        "# 219\n",
        "두 개의 숫자를 입력받아 합/차/곱/나눗셈을 출력하는 print_arithmetic_operation 함수를 작성하라.\n",
        "```\n",
        "print_arithmetic_operation(3, 4)\n",
        "3 + 4 = 7\n",
        "3 - 4 = -1\n",
        "3 * 4 = 12\n",
        "3 / 4 = 0.75\n",
        "```"
      ],
      "metadata": {
        "id": "q-ZkS8nlvwqV"
      }
    },
    {
      "cell_type": "code",
      "source": [
        "def print_arthmetice_operation(num1, num2):\n",
        "    print(num1 + num2)\n",
        "    print(num1 - num2)\n",
        "    print(num1 * num2)\n",
        "    print(num1 / num2)"
      ],
      "metadata": {
        "id": "G1U4WLDWv3vg"
      },
      "execution_count": 28,
      "outputs": []
    },
    {
      "cell_type": "markdown",
      "source": [
        "# 220\n",
        "세 개의 숫자를 입력받아 가장 큰수를 출력하는 print_max 함수를 정의하라. 단 if 문을 사용해서 수를 비교하라."
      ],
      "metadata": {
        "id": "0v7omp7NwC4z"
      }
    },
    {
      "cell_type": "code",
      "source": [
        "def print_max(num1, num2, num3):\n",
        "    if num1 > num2 and num1 > num3:\n",
        "        print(num1)\n",
        "    elif num2 > num1 and num2 > num3:\n",
        "        print(num2)\n",
        "    else:\n",
        "        print(num3)"
      ],
      "metadata": {
        "id": "U98iEYM1wK0C"
      },
      "execution_count": 29,
      "outputs": []
    },
    {
      "cell_type": "code",
      "source": [
        "# 정답\n",
        "def print_max(a, b, c) :\n",
        "    max_val = 0\n",
        "    if a > max_val :\n",
        "        max_val = a\n",
        "    if b > max_val :\n",
        "        max_val = b\n",
        "    if c > max_val :\n",
        "        max_val = c\n",
        "    print(max_val)"
      ],
      "metadata": {
        "id": "pcJD6D8DwtrI"
      },
      "execution_count": 30,
      "outputs": []
    }
  ]
}