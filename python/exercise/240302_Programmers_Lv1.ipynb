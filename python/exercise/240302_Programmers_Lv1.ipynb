{
  "nbformat": 4,
  "nbformat_minor": 0,
  "metadata": {
    "colab": {
      "provenance": [],
      "authorship_tag": "ABX9TyPsxF9f9umyE2h9U/qYI/a7",
      "include_colab_link": true
    },
    "kernelspec": {
      "name": "python3",
      "display_name": "Python 3"
    },
    "language_info": {
      "name": "python"
    }
  },
  "cells": [
    {
      "cell_type": "markdown",
      "metadata": {
        "id": "view-in-github",
        "colab_type": "text"
      },
      "source": [
        "<a href=\"https://colab.research.google.com/github/jiminkyung/orm/blob/main/python/exercise/240302_Programmers_Lv1.ipynb\" target=\"_parent\"><img src=\"https://colab.research.google.com/assets/colab-badge.svg\" alt=\"Open In Colab\"/></a>"
      ]
    },
    {
      "cell_type": "markdown",
      "source": [
        "## 0303"
      ],
      "metadata": {
        "id": "csuD2XMKjBNw"
      }
    },
    {
      "cell_type": "markdown",
      "source": [
        "### 달리기 경주\n",
        "```\n",
        "얀에서는 매년 달리기 경주가 열립니다. 해설진들은 선수들이 자기 바로 앞의 선수를 추월할 때 추월한 선수의 이름을 부릅니다.\n",
        "예를 들어 1등부터 3등까지 \"mumu\", \"soe\", \"poe\" 선수들이 순서대로 달리고 있을 때,\n",
        "해설진이 \"soe\"선수를 불렀다면 2등인 \"soe\" 선수가 1등인 \"mumu\" 선수를 추월했다는 것입니다.\n",
        "즉 \"soe\" 선수가 1등, \"mumu\" 선수가 2등으로 바뀝니다.\n",
        "\n",
        "선수들의 이름이 1등부터 현재 등수 순서대로 담긴 문자열 배열 players와 해설진이 부른 이름을 담은 문자열 배열 callings가 매개변수로 주어질 때,\n",
        "경주가 끝났을 때 선수들의 이름을 1등부터 등수 순서대로 배열에 담아 return 하는 solution 함수를 완성해주세요.\n",
        "```"
      ],
      "metadata": {
        "id": "WSHD4rllazxI"
      }
    },
    {
      "cell_type": "code",
      "source": [
        "def solution(players, callings):\n",
        "    for i in callings:\n",
        "        idx = players.index(i)\n",
        "        players[idx], players[idx-1] = players[idx-1], players[idx]\n",
        "    return players"
      ],
      "metadata": {
        "id": "Y3nhfLFXbKmS"
      },
      "execution_count": null,
      "outputs": []
    },
    {
      "cell_type": "code",
      "source": [
        "solution([\"mumu\", \"soe\", \"poe\", \"kai\", \"mine\"],\t[\"kai\", \"kai\", \"mine\", \"mine\"])"
      ],
      "metadata": {
        "colab": {
          "base_uri": "https://localhost:8080/"
        },
        "id": "oAX1akLScJZG",
        "outputId": "0299c9cb-ebbf-44bf-f668-d66d2ee0f74e"
      },
      "execution_count": null,
      "outputs": [
        {
          "output_type": "execute_result",
          "data": {
            "text/plain": [
              "['mumu', 'kai', 'mine', 'soe', 'poe']"
            ]
          },
          "metadata": {},
          "execution_count": 2
        }
      ]
    },
    {
      "cell_type": "code",
      "source": [
        "# 런타임 에러. -> 딕셔너리로 풀어야 통과된다고 함.\n",
        "def solution(players, callings):\n",
        "    dic = {p:i for i, p in enumerate(players)}\n",
        "    for c in callings:\n",
        "        idx = dic[c]\n",
        "        dic[c] -= 1\n",
        "        dic[players[idx-1]] += 1\n",
        "        players[idx], players[idx-1] = players[idx-1], players[idx]\n",
        "    return players"
      ],
      "metadata": {
        "id": "C7b9S3eTcLyn"
      },
      "execution_count": 17,
      "outputs": []
    },
    {
      "cell_type": "markdown",
      "source": [
        "### 추억 점수\n",
        "```\n",
        "사진들을 보며 추억에 젖어 있던 루는 사진별로 추억 점수를 매길려고 합니다. 사진 속에 나오는 인물의 그리움 점수를 모두 합산한 값이 해당 사진의 추억 점수가 됩니다.\n",
        "예를 들어 사진 속 인물의 이름이 [\"may\", \"kein\", \"kain\"]이고 각 인물의 그리움 점수가 [5점, 10점, 1점]일 때 해당 사진의 추억 점수는 16(5 + 10 + 1)점이 됩니다.\n",
        "다른 사진 속 인물의 이름이 [\"kali\", \"mari\", \"don\", \"tony\"]이고\n",
        "[\"kali\", \"mari\", \"don\"]의 그리움 점수가 각각 [11점, 1점, 55점]]이고, \"tony\"는 그리움 점수가 없을 때,\n",
        "이 사진의 추억 점수는 3명의 그리움 점수를 합한 67(11 + 1 + 55)점입니다.\n",
        "\n",
        "그리워하는 사람의 이름을 담은 문자열 배열 name, 각 사람별 그리움 점수를 담은 정수 배열 yearning,\n",
        "각 사진에 찍힌 인물의 이름을 담은 이차원 문자열 배열 photo가 매개변수로 주어질 때,\n",
        "사진들의 추억 점수를 photo에 주어진 순서대로 배열에 담아 return하는 solution 함수를 완성해주세요.\n",
        "```"
      ],
      "metadata": {
        "id": "F-qit5cjd9I3"
      }
    },
    {
      "cell_type": "code",
      "source": [
        "def solution(name, yearning, photo):\n",
        "    dic = {name[i]:yearning[i] for i in range(len(name))}\n",
        "    ret = []\n",
        "    for row in photo:\n",
        "        sum = 0\n",
        "        for col in row:\n",
        "            if col in dic:\n",
        "                sum += dic[col]\n",
        "        ret.append(sum)\n",
        "    return ret"
      ],
      "metadata": {
        "id": "WgVk9YZyn139"
      },
      "execution_count": 16,
      "outputs": []
    },
    {
      "cell_type": "code",
      "source": [
        "# 한 줄 장인\n",
        "def solution(이름, 점수, 사진):\n",
        "    return [sum(점수[이름.index(j)] for j in i if j in 이름) for i in 사진]"
      ],
      "metadata": {
        "id": "UKKJ9yPTpGDN"
      },
      "execution_count": 15,
      "outputs": []
    },
    {
      "cell_type": "markdown",
      "source": [
        "### 공원 산책"
      ],
      "metadata": {
        "id": "ArVLME5xshfx"
      }
    },
    {
      "cell_type": "code",
      "source": [
        "# 런타임 에러 + 테스트 케이스 몇개 실패 ㅎ\n",
        "def solution(park, routes):\n",
        "    H, W = len(park), len(park[0])\n",
        "    drc = {\"N\": (-1, 0), \"S\": (1, 0), \"E\": (0, 1), \"W\": (0, -1)}\n",
        "\n",
        "    for i in range(H):\n",
        "        for j in range(W):\n",
        "            if park[i][j] == \"S\":\n",
        "                x, y = i, j\n",
        "                break\n",
        "\n",
        "    for route in routes:\n",
        "        op, n = route.split()\n",
        "        dx, dy = drc[op]\n",
        "        n = int(n)\n",
        "\n",
        "        nx, ny = x + dx * n, y + dy * n\n",
        "\n",
        "        path = [park[x + dx * i][y + dy * i] for i in range(n)]\n",
        "        if 0 <= nx < H and 0 <= ny < W and \"X\" not in path:\n",
        "            x, y = nx, ny\n",
        "\n",
        "    return [x, y]\n",
        "solution([\"OSO\", \"OOO\", \"OXO\", \"OOO\"], [\"E 2\", \"S 3\", \"W 1\"])"
      ],
      "metadata": {
        "colab": {
          "base_uri": "https://localhost:8080/"
        },
        "id": "Q3F4KOihEH4i",
        "outputId": "0bdea322-c32b-4209-b9cd-a16cdec64b12"
      },
      "execution_count": 58,
      "outputs": [
        {
          "output_type": "execute_result",
          "data": {
            "text/plain": [
              "[0, 0]"
            ]
          },
          "metadata": {},
          "execution_count": 58
        }
      ]
    },
    {
      "cell_type": "markdown",
      "source": [
        "#### + 다른 코드들"
      ],
      "metadata": {
        "id": "NwKzLBGpMKNI"
      }
    },
    {
      "cell_type": "code",
      "source": [
        "# 다른사람 코드... 이건 되나? 싶어서 체크해봤는데 통과됐다.\n",
        "def solution(park, routes):\n",
        "    answer = []\n",
        "    n=len(routes)\n",
        "\n",
        "    dic={'W':0,'S':1,'E':2,'N':3}\n",
        "    dx=[-1,0,1,0]\n",
        "    dy=[0,1,0,-1]\n",
        "\n",
        "    for i in range(len(park)):\n",
        "        for j in range(len(park[0])):\n",
        "            if park[i][j]=='S':\n",
        "                a,b=i,j #a=y , b=x\n",
        "\n",
        "    for i in routes:\n",
        "        di = i[0]\n",
        "        le = int(i[2])\n",
        "        ty,tx = a,b\n",
        "        for j in range(le):\n",
        "            t1=a+dy[dic[di]]\n",
        "            t2=b+dx[dic[di]]\n",
        "            if t1>=0 and t2>=0 and t1<len(park) and t2<len(park[0]) and park[t1][t2]!='X':\n",
        "                a,b=t1,t2\n",
        "            else:\n",
        "                a,b = ty,tx\n",
        "                break\n",
        "    answer=[a,b]\n",
        "\n",
        "\n",
        "    return answer"
      ],
      "metadata": {
        "id": "hjgpurDfHjUT"
      },
      "execution_count": 59,
      "outputs": []
    },
    {
      "cell_type": "code",
      "source": [
        "# 다른분 풀이2. 클래스를 이용한 전문적인 풀이...\n",
        "class Dog:\n",
        "    def __init__(self, x, y):\n",
        "        self.x = x\n",
        "        self.y = y\n",
        "        self.g = {\"N\": (-1, 0), \"W\": (0, -1), \"E\": (0, 1), \"S\": (1, 0)}\n",
        "\n",
        "    def move(self, park, direction, distance):\n",
        "        i, j = self.g[direction]\n",
        "        x, y = self.x + (i * distance), self.y + (j * distance)\n",
        "        if x < 0 or y < 0 or x >= len(park) or y >= len(park[0]):\n",
        "            return park\n",
        "        elif \"X\" in park[x][min(self.y, y) : max(self.y, y) + 1] or \"X\" in [\n",
        "            row[y] for row in park[min(self.x, x) : max(self.x, x)]\n",
        "        ]:\n",
        "            return park\n",
        "        park[self.x][self.y] = \"O\"\n",
        "        park[x][y] = \"S\"\n",
        "        self.x = x\n",
        "        self.y = y\n",
        "        return park\n",
        "\n",
        "    @classmethod\n",
        "    def detect_start_dogs_location(self, park):\n",
        "        for i, row in enumerate(park):\n",
        "            for j, item in enumerate(row):\n",
        "                if item == \"S\":\n",
        "                    return i, j\n",
        "\n",
        "\n",
        "def solution(park, routes):\n",
        "    park = [list(row) for row in park]\n",
        "    x, y = Dog.detect_start_dogs_location(park)\n",
        "\n",
        "    dog = Dog(x, y)\n",
        "\n",
        "    for route in routes:\n",
        "        direction, distance = route.split()\n",
        "        park = dog.move(park, direction, int(distance))\n",
        "\n",
        "    return [dog.x, dog.y]"
      ],
      "metadata": {
        "id": "eCJwP6EmIijo"
      },
      "execution_count": 60,
      "outputs": []
    },
    {
      "cell_type": "code",
      "source": [
        "# 다른분 풀이 3.\n",
        "dx = {'N':-1, 'S':1, 'E':0, 'W': 0}\n",
        "dy = {'N': 0, 'S':0, 'E':1, 'W':-1}\n",
        "\n",
        "def solution(park, routes):\n",
        "    answer = []\n",
        "    x, y = -1, -1\n",
        "    N, M = len(park), len(park[0])\n",
        "    for i in range(N):\n",
        "        for j in range(M):\n",
        "            if park[i][j] == 'S':\n",
        "                x, y = i, j\n",
        "\n",
        "    for route in routes:\n",
        "        dir_, dist = route.split(' ')\n",
        "\n",
        "        isFalse = False\n",
        "        for i in range(1, int(dist) + 1):\n",
        "            nx, ny = x + dx[dir_] * i, y + dy[dir_] * i\n",
        "            if nx < 0 or ny < 0 or nx > N-1 or ny > M-1:\n",
        "                isFalse = True\n",
        "                break\n",
        "            if park[nx][ny] == 'X':\n",
        "                isFalse = True\n",
        "                break\n",
        "\n",
        "        if isFalse:\n",
        "            continue\n",
        "        nx, ny = x + dx[dir_] * int(dist), y + dy[dir_] * int(dist)\n",
        "        x, y = nx, ny\n",
        "\n",
        "    answer = [x, y]\n",
        "\n",
        "    return answer"
      ],
      "metadata": {
        "id": "Nagv74uOIlok"
      },
      "execution_count": null,
      "outputs": []
    },
    {
      "cell_type": "markdown",
      "source": [
        "### 바탕화면 정리"
      ],
      "metadata": {
        "id": "Xna7NjV0MNvF"
      }
    },
    {
      "cell_type": "code",
      "source": [
        "def solution(wallpaper):\n",
        "    lux, luy = float(\"inf\"), float(\"inf\")\n",
        "    rdx, rdy = float(\"-inf\"), float(\"-inf\")\n",
        "    ret = []\n",
        "    for i, row in enumerate(wallpaper):\n",
        "        for k, col in enumerate(row):\n",
        "            if col == \"#\":\n",
        "                lux, luy = min(lux, i), min(luy, k)\n",
        "                rdx, rdy = max(rdx, i), max(rdy, k)\n",
        "    ret.append(lux)\n",
        "    ret.append(luy)\n",
        "    ret.append(rdx+1)\n",
        "    ret.append(rdy+1)\n",
        "    return ret\n",
        "\n",
        "\n",
        "solution([\"..........\", \".....#....\", \"......##..\", \"...##.....\", \"....#.....\"])"
      ],
      "metadata": {
        "colab": {
          "base_uri": "https://localhost:8080/"
        },
        "id": "2ZZbnV2gMSoV",
        "outputId": "ff638f7c-6a35-4fb3-9c63-e0d2fe4481ad"
      },
      "execution_count": 76,
      "outputs": [
        {
          "output_type": "execute_result",
          "data": {
            "text/plain": [
              "[1, 3, 5, 8]"
            ]
          },
          "metadata": {},
          "execution_count": 76
        }
      ]
    },
    {
      "cell_type": "markdown",
      "source": [
        "### 덧칠하기"
      ],
      "metadata": {
        "id": "C2VstUNEbH6Z"
      }
    },
    {
      "cell_type": "code",
      "source": [
        "def solution(n, m, section):\n",
        "    cnt = 1\n",
        "    standard = section[0]\n",
        "    for i in section:\n",
        "        if standard + (m - 1) < i:\n",
        "            standard = i\n",
        "            cnt += 1\n",
        "    return cnt"
      ],
      "metadata": {
        "id": "sCymWbxfecI8"
      },
      "execution_count": 77,
      "outputs": []
    },
    {
      "cell_type": "code",
      "source": [
        "# 다른분 풀이\n",
        "def solution(n, m, section):\n",
        "    answer = 1\n",
        "    prev = section[0]\n",
        "    for sec in section:\n",
        "        if sec - prev >= m:\n",
        "            prev = sec\n",
        "            answer += 1\n",
        "    return answer"
      ],
      "metadata": {
        "id": "800T0cW8hubt"
      },
      "execution_count": 80,
      "outputs": []
    }
  ]
}