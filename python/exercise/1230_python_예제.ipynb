{
  "nbformat": 4,
  "nbformat_minor": 0,
  "metadata": {
    "colab": {
      "provenance": []
    },
    "kernelspec": {
      "name": "python3",
      "display_name": "Python 3"
    },
    "language_info": {
      "name": "python"
    }
  },
  "cells": [
    {
      "cell_type": "markdown",
      "source": [
        "## 파이썬 예제 10개 풀어보기"
      ],
      "metadata": {
        "id": "5XXjuIvgE4Ui"
      }
    },
    {
      "cell_type": "markdown",
      "source": [
        "1. 화면에 Hello World 문자열을 출력하세요."
      ],
      "metadata": {
        "id": "7wfPmnfnFGdT"
      }
    },
    {
      "cell_type": "code",
      "source": [
        "print('Hello World')"
      ],
      "metadata": {
        "colab": {
          "base_uri": "https://localhost:8080/"
        },
        "id": "56989_32FMkn",
        "outputId": "5d6d55fb-948e-419f-d224-47dfb41cf2f4"
      },
      "execution_count": 1,
      "outputs": [
        {
          "output_type": "stream",
          "name": "stdout",
          "text": [
            "Hello World\n"
          ]
        }
      ]
    },
    {
      "cell_type": "markdown",
      "source": [
        "2. 화면에 Mary's cosmetics을 출력하세요. (중간에 '가 있음에 주의하세요)"
      ],
      "metadata": {
        "id": "43Xezv3FFOkt"
      }
    },
    {
      "cell_type": "code",
      "source": [
        "print(\"Mary's cosmetics\") # 표현하고 싶은 문자열에 '가 있으므로 \"로 표현한다"
      ],
      "metadata": {
        "colab": {
          "base_uri": "https://localhost:8080/"
        },
        "id": "aBG1ZDQ_FU73",
        "outputId": "dba6e6d5-cc31-4b6f-a0b5-436f0363d763"
      },
      "execution_count": 2,
      "outputs": [
        {
          "output_type": "stream",
          "name": "stdout",
          "text": [
            "Mary's cosmetics\n"
          ]
        }
      ]
    },
    {
      "cell_type": "markdown",
      "source": [
        "3. 화면에 아래 문장을 출력하세요. (중간에 \"가 있음에 주의하세요.)  \n",
        "신씨가 소리질렀다. \"도둑이야\"."
      ],
      "metadata": {
        "id": "vxim5VDHFgGb"
      }
    },
    {
      "cell_type": "code",
      "source": [
        "print('신씨가 소리질렀다.\"도둑이야\"') # 반대로 \"가 있으므로 '로 문자열 생성"
      ],
      "metadata": {
        "colab": {
          "base_uri": "https://localhost:8080/"
        },
        "id": "cUEWhefuFzSo",
        "outputId": "77aa0f69-63a8-4594-bd8e-505366de5b96"
      },
      "execution_count": 3,
      "outputs": [
        {
          "output_type": "stream",
          "name": "stdout",
          "text": [
            "신씨가 소리질렀다.\"도둑이야\"\n"
          ]
        }
      ]
    },
    {
      "cell_type": "markdown",
      "source": [
        "---\n",
        "아니면 `\\`을 이용해서 그대로 출력하는 방법도 있다."
      ],
      "metadata": {
        "id": "rKdVmTXuISeK"
      }
    },
    {
      "cell_type": "code",
      "source": [
        "print('Mary\\'s cosmetics')\n",
        "print(\"신씨가 소리질렀다.\\\"도둑이야\\\"\") # \\\"나 \\'처럼 따옴표를 백슬래쉬 뒤에 붙여줌"
      ],
      "metadata": {
        "colab": {
          "base_uri": "https://localhost:8080/"
        },
        "id": "gf3PdQC3JWT_",
        "outputId": "8cad20d2-205b-4d74-ec2f-0e36c4e072b7"
      },
      "execution_count": 11,
      "outputs": [
        {
          "output_type": "stream",
          "name": "stdout",
          "text": [
            "Mary's cosmetics\n",
            "신씨가 소리질렀다.\"도둑이야\"\n"
          ]
        }
      ]
    },
    {
      "cell_type": "markdown",
      "source": [
        "4. 화면에 C:\\Windows를 출력하세요."
      ],
      "metadata": {
        "id": "htWJ_o3jF_jy"
      }
    },
    {
      "cell_type": "code",
      "source": [
        "print('C:\\Windows')"
      ],
      "metadata": {
        "colab": {
          "base_uri": "https://localhost:8080/"
        },
        "id": "STCR4aIyGDbQ",
        "outputId": "7f431ed3-4608-4cd3-d181-31a3acccfe05"
      },
      "execution_count": 4,
      "outputs": [
        {
          "output_type": "stream",
          "name": "stdout",
          "text": [
            "C:\\Windows\n"
          ]
        }
      ]
    },
    {
      "cell_type": "markdown",
      "source": [
        "5. 다음 코드를 실행해보고 \\t와 \\n의 역할을 설명해보세요.  \n",
        "print(\"안녕하세요.\\n만나서\\t\\t반갑습니다.\")"
      ],
      "metadata": {
        "id": "KtqXz9vnGGkk"
      }
    },
    {
      "cell_type": "code",
      "source": [
        "print(\"안녕하세요.\\n만나서\\t\\t반갑습니다.\") # \\n은 줄바꿈, \\t는 탭"
      ],
      "metadata": {
        "colab": {
          "base_uri": "https://localhost:8080/"
        },
        "id": "nb2BohVzGMCR",
        "outputId": "0d2b9b83-e76c-4a37-a8f4-6ad764553273"
      },
      "execution_count": 5,
      "outputs": [
        {
          "output_type": "stream",
          "name": "stdout",
          "text": [
            "안녕하세요.\n",
            "만나서\t\t반갑습니다.\n"
          ]
        }
      ]
    },
    {
      "cell_type": "markdown",
      "source": [
        "6. print 함수에 두 개의 단어를 입력한 예제입니다. 아래 코드의 출력 결과를 예상해봅시다.  \n",
        "print (\"오늘은\", \"일요일\")"
      ],
      "metadata": {
        "id": "JUn6HIlfGTQs"
      }
    },
    {
      "cell_type": "code",
      "source": [
        "print(\"오늘은\",\"일요일\") # 오늘은 과 일요일 사이에 공백 하나가 추가되며 출력됨."
      ],
      "metadata": {
        "colab": {
          "base_uri": "https://localhost:8080/"
        },
        "id": "XAheg9_9GcEW",
        "outputId": "ef753547-0477-4829-97b3-a1fb68da5b14"
      },
      "execution_count": 6,
      "outputs": [
        {
          "output_type": "stream",
          "name": "stdout",
          "text": [
            "오늘은 일요일\n"
          ]
        }
      ]
    },
    {
      "cell_type": "markdown",
      "source": [
        "7. print() 함수를 사용하여 다음과 같이 출력하세요.  \n",
        "naver;kakao;sk;samsung"
      ],
      "metadata": {
        "id": "sjtA5B_iGouo"
      }
    },
    {
      "cell_type": "code",
      "source": [
        "print('naver', 'kakao', 'samsung', sep=';')"
      ],
      "metadata": {
        "colab": {
          "base_uri": "https://localhost:8080/"
        },
        "id": "g0PKamS1GtNf",
        "outputId": "7267e335-6dba-4904-8e8e-dfa86886554b"
      },
      "execution_count": 7,
      "outputs": [
        {
          "output_type": "stream",
          "name": "stdout",
          "text": [
            "naver;kakao;samsung\n"
          ]
        }
      ]
    },
    {
      "cell_type": "markdown",
      "source": [
        "8. print() 함수를 사용하여 다음과 같이 출력하세요.  \n",
        "naver/kakao/sk/samsung"
      ],
      "metadata": {
        "id": "TmWMjJPVHYhh"
      }
    },
    {
      "cell_type": "code",
      "source": [
        "print('naver', 'kakao', 'sk', 'samsung', sep='/')"
      ],
      "metadata": {
        "colab": {
          "base_uri": "https://localhost:8080/"
        },
        "id": "AHtEH1raHhCj",
        "outputId": "ff9df2f8-a43c-4f8c-efd5-221a07137974"
      },
      "execution_count": 9,
      "outputs": [
        {
          "output_type": "stream",
          "name": "stdout",
          "text": [
            "naver/kakao/sk/samsung\n"
          ]
        }
      ]
    },
    {
      "cell_type": "markdown",
      "source": [
        "9. 다음 코드를 수정하여 줄바꿈이 없이 출력하세요. (힌트: end='') print 함수는 두 번 사용합니다.  \n",
        "세미콜론 (;)은 한줄에 여러 개의 명령을 작성하기 위해 사용합니다.  \n",
        "print(\"first\");print(\"second\")"
      ],
      "metadata": {
        "id": "L7FZi-boGyp0"
      }
    },
    {
      "cell_type": "code",
      "source": [
        "print('first', end=''); print('second')"
      ],
      "metadata": {
        "colab": {
          "base_uri": "https://localhost:8080/"
        },
        "id": "P5qzW7DNHHce",
        "outputId": "27d30d49-7d8d-4abd-dcf2-36fd41b32364"
      },
      "execution_count": 8,
      "outputs": [
        {
          "output_type": "stream",
          "name": "stdout",
          "text": [
            "firstsecond\n"
          ]
        }
      ]
    },
    {
      "cell_type": "markdown",
      "source": [
        "10. 5/3의 결과를 화면에 출력하세요."
      ],
      "metadata": {
        "id": "x027oug6HMkL"
      }
    },
    {
      "cell_type": "code",
      "source": [
        "print(5/3)"
      ],
      "metadata": {
        "colab": {
          "base_uri": "https://localhost:8080/"
        },
        "id": "p-KC5ZhpHyP0",
        "outputId": "d6219f0d-9d06-4454-bf3c-18685892c5b3"
      },
      "execution_count": 10,
      "outputs": [
        {
          "output_type": "stream",
          "name": "stdout",
          "text": [
            "1.6666666666666667\n"
          ]
        }
      ]
    }
  ]
}