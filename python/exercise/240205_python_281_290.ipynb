{
  "nbformat": 4,
  "nbformat_minor": 0,
  "metadata": {
    "colab": {
      "provenance": [],
      "authorship_tag": "ABX9TyMmFW7I0A4gb3HTLULbOSOk",
      "include_colab_link": true
    },
    "kernelspec": {
      "name": "python3",
      "display_name": "Python 3"
    },
    "language_info": {
      "name": "python"
    }
  },
  "cells": [
    {
      "cell_type": "markdown",
      "metadata": {
        "id": "view-in-github",
        "colab_type": "text"
      },
      "source": [
        "<a href=\"https://colab.research.google.com/github/jiminkyung/orm/blob/main/python/exercise/240205_python_281_290.ipynb\" target=\"_parent\"><img src=\"https://colab.research.google.com/assets/colab-badge.svg\" alt=\"Open In Colab\"/></a>"
      ]
    },
    {
      "cell_type": "markdown",
      "source": [
        "# 281\n",
        "다음 코드가 동작하도록 차 클래스를 정의하세요.\n",
        "```\n",
        ">> car = 차(2, 1000)\n",
        ">> car.바퀴\n",
        "2\n",
        ">> car.가격\n",
        "1000\n",
        "```"
      ],
      "metadata": {
        "id": "c7DcHSyGe6Lg"
      }
    },
    {
      "cell_type": "code",
      "source": [
        "class 차():\n",
        "    def __init__(self, 바퀴, 가격):\n",
        "        self.바퀴 = 바퀴\n",
        "        self.가격 = 가격\n",
        "\n",
        "\n",
        "car = 차(2, 1000)\n",
        "print(car.바퀴)\n",
        "print(car.가격)"
      ],
      "metadata": {
        "colab": {
          "base_uri": "https://localhost:8080/"
        },
        "id": "_WkQan95fDAv",
        "outputId": "2c143313-7280-4c1e-f341-2bd542fee684"
      },
      "execution_count": 12,
      "outputs": [
        {
          "output_type": "stream",
          "name": "stdout",
          "text": [
            "2\n",
            "1000\n"
          ]
        }
      ]
    },
    {
      "cell_type": "markdown",
      "source": [
        "# 282\n",
        "차 클래스를 상속받은 자전차 클래스를 정의하세요."
      ],
      "metadata": {
        "id": "6oSM6AD2fo5Q"
      }
    },
    {
      "cell_type": "code",
      "source": [
        "class 차():\n",
        "    def __init__(self, 바퀴, 가격):\n",
        "        self.바퀴 = 바퀴\n",
        "        self.가격 = 가격\n",
        "\n",
        "\n",
        "class 자천차(차):\n",
        "    pass"
      ],
      "metadata": {
        "id": "z_uT3k0wfwCE"
      },
      "execution_count": 13,
      "outputs": []
    },
    {
      "cell_type": "markdown",
      "source": [
        "# 283\n",
        "다음 코드가 동작하도록 자전차 클래스를 정의하세요. 단 자전차 클래스는 차 클래스를 상속받습니다.\n",
        "```\n",
        ">> bicycle = 자전차(2, 100)\n",
        ">> bicycle.가격\n",
        "100\n",
        "```"
      ],
      "metadata": {
        "id": "0824Kjvlf1_5"
      }
    },
    {
      "cell_type": "code",
      "source": [
        "class 차():\n",
        "    def __init__(self, 바퀴, 가격):\n",
        "        self.바퀴 = 바퀴\n",
        "        self.가격 = 가격\n",
        "\n",
        "\n",
        "class 자전차(차):\n",
        "    def __init__(self, 바퀴, 가격):\n",
        "        self.바퀴 = 바퀴\n",
        "        self.가격 = 가격\n",
        "\n",
        "\n",
        "bicycle = 자전차(2, 100)\n",
        "bicycle.가격"
      ],
      "metadata": {
        "colab": {
          "base_uri": "https://localhost:8080/"
        },
        "id": "_ZeSdP1Gf551",
        "outputId": "e9730836-6c4d-47b5-e00a-9dc983cbe9c2"
      },
      "execution_count": 14,
      "outputs": [
        {
          "output_type": "execute_result",
          "data": {
            "text/plain": [
              "100"
            ]
          },
          "metadata": {},
          "execution_count": 14
        }
      ]
    },
    {
      "cell_type": "markdown",
      "source": [
        "# 284\n",
        "다음 코드가 동작하도록 자전차 클래스를 정의하세요. 단 자전차 클래스는 차 클래스를 상속받습니다.\n",
        "```\n",
        ">> bicycle = 자전차(2, 100, \"시마노\")\n",
        ">> bicycle.구동계\n",
        "시마노\n",
        "```"
      ],
      "metadata": {
        "id": "yUdAxp2LgG3k"
      }
    },
    {
      "cell_type": "code",
      "source": [
        "class 차():\n",
        "    def __init__(self, 바퀴, 가격):\n",
        "        self.바퀴 = 바퀴\n",
        "        self.가격 = 가격\n",
        "\n",
        "\n",
        "class 자전차(차):\n",
        "    def __init__(self, 바퀴, 가격, 구동계):\n",
        "        super().__init__(바퀴, 가격)\n",
        "        self.구동계 = 구동계\n",
        "\n",
        "\n",
        "bicycle = 자전차(2, 100, \"시마노\")\n",
        "bicycle.구동계"
      ],
      "metadata": {
        "colab": {
          "base_uri": "https://localhost:8080/",
          "height": 36
        },
        "id": "3NTwj4-sgMx9",
        "outputId": "c9621581-303a-4c7b-f741-d15158225826"
      },
      "execution_count": 11,
      "outputs": [
        {
          "output_type": "execute_result",
          "data": {
            "text/plain": [
              "'시마노'"
            ],
            "application/vnd.google.colaboratory.intrinsic+json": {
              "type": "string"
            }
          },
          "metadata": {},
          "execution_count": 11
        }
      ]
    },
    {
      "cell_type": "markdown",
      "source": [
        "# 285\n",
        "다음 코드가 동작하도록 차 클래스를 상속받는 자동차 클래스를 정의하세요.\n",
        "```\n",
        ">> car = 자동차(4, 1000)\n",
        ">> car.정보()\n",
        "바퀴수 4\n",
        "가격 1000\n",
        "```"
      ],
      "metadata": {
        "id": "Q__YoE0Tghan"
      }
    },
    {
      "cell_type": "code",
      "source": [
        "class 차():\n",
        "    def __init__(self, 바퀴, 가격):\n",
        "        self.바퀴 = 바퀴\n",
        "        self.가격 = 가격\n",
        "\n",
        "\n",
        "class 자동차(차):\n",
        "    def __init__(self, 바퀴, 가격):\n",
        "        super().__init__(바퀴, 가격)\n",
        "\n",
        "    def 정보(self):\n",
        "        print(\"바퀴수\", self.바퀴)\n",
        "        print(\"가격\", self.가격)\n",
        "\n",
        "\n",
        "car = 자동차(4, 1000)\n",
        "car.정보()"
      ],
      "metadata": {
        "colab": {
          "base_uri": "https://localhost:8080/"
        },
        "id": "ldOM2qApgnVd",
        "outputId": "7043afdf-debc-4bf2-c4fc-bfdd61c41646"
      },
      "execution_count": 10,
      "outputs": [
        {
          "output_type": "stream",
          "name": "stdout",
          "text": [
            "바퀴수 4\n",
            "가격 1000\n"
          ]
        }
      ]
    },
    {
      "cell_type": "markdown",
      "source": [
        "# 286\n",
        "다음 코드가 동작하도록 차 클래스를 수정하세요.\n",
        "```\n",
        ">> bicycle = 자전차(2, 100, \"시마노\")\n",
        ">> bicycle.정보()\n",
        "바퀴수 2\n",
        "가격 100\n",
        "```"
      ],
      "metadata": {
        "id": "Txk-E2KlhESP"
      }
    },
    {
      "cell_type": "code",
      "source": [
        "# 정답\n",
        "class 차:\n",
        "    def __init__(self, 바퀴, 가격):\n",
        "        self.바퀴 = 바퀴\n",
        "        self.가격 = 가격\n",
        "\n",
        "    def 정보(self):\n",
        "        print(\"바퀴수\", self.바퀴)\n",
        "        print(\"가격\", self.가격)\n",
        "\n",
        "\n",
        "class 자전차(차):\n",
        "    def __init__(self, 바퀴, 가격, 구동계):\n",
        "        super().__init__(바퀴, 가격)\n",
        "        self.구동계 = 구동계\n",
        "\n",
        "\n",
        "bicycle = 자전차(2, 100, \"시마노\")\n",
        "bicycle.정보()"
      ],
      "metadata": {
        "colab": {
          "base_uri": "https://localhost:8080/"
        },
        "id": "aaCdAW9nhK_Q",
        "outputId": "fb0fcd8b-4004-4605-e185-4865c54d5233"
      },
      "execution_count": 15,
      "outputs": [
        {
          "output_type": "stream",
          "name": "stdout",
          "text": [
            "바퀴수 2\n",
            "가격 100\n"
          ]
        }
      ]
    },
    {
      "cell_type": "markdown",
      "source": [
        "# 287\n",
        "자전차의 정보() 메서드로 구동계 정보까지 출력하도록 수정해보세요.\n",
        "```\n",
        ">> bicycle = 자전차(2, 100, \"시마노\")\n",
        ">> bicycle.정보()\n",
        "바퀴수 2\n",
        "가격 100\n",
        "구동계 시마노\n",
        "```"
      ],
      "metadata": {
        "id": "kcyP7UXdhYcC"
      }
    },
    {
      "cell_type": "code",
      "source": [
        "class 차:\n",
        "    def __init__(self, 바퀴, 가격):\n",
        "        self.바퀴 = 바퀴\n",
        "        self.가격 = 가격\n",
        "\n",
        "\n",
        "class 자전차(차):\n",
        "    def __init__(self, 바퀴, 가격, 구동계):\n",
        "        super().__init__(바퀴, 가격)\n",
        "        self.구동계 = 구동계\n",
        "\n",
        "    def 정보(self):\n",
        "        print(\"바퀴수\", self.바퀴)\n",
        "        print(\"가격\", self.가격)\n",
        "        print(\"구동계\", self.구동계)\n",
        "\n",
        "\n",
        "bicycle = 자전차(2, 100, \"시마노\")\n",
        "bicycle.정보()"
      ],
      "metadata": {
        "colab": {
          "base_uri": "https://localhost:8080/"
        },
        "id": "sFtQSj1Chr6D",
        "outputId": "6ead555a-78c4-4b33-cee1-eaeefbb278c9"
      },
      "execution_count": 16,
      "outputs": [
        {
          "output_type": "stream",
          "name": "stdout",
          "text": [
            "바퀴수 2\n",
            "가격 100\n",
            "구동계 시마노\n"
          ]
        }
      ]
    },
    {
      "cell_type": "code",
      "source": [
        "# 정답\n",
        "class 차:\n",
        "    def __init__(self, 바퀴, 가격):\n",
        "        self.바퀴 = 바퀴\n",
        "        self.가격 = 가격\n",
        "\n",
        "    def 정보(self):\n",
        "        print(\"바퀴수\", self.바퀴)\n",
        "        print(\"가격\", self.가격)\n",
        "\n",
        "\n",
        "class 자전차(차):\n",
        "    def __init__(self, 바퀴, 가격, 구동계):\n",
        "        super().__init__(바퀴, 가격)\n",
        "        self.구동계 = 구동계\n",
        "\n",
        "    def 정보(self):\n",
        "        super().정보()\n",
        "        print(\"구동계\", self.구동계)\n",
        "\n",
        "\n",
        "bicycle = 자전차(2, 100, \"시마노\")\n",
        "bicycle.정보()"
      ],
      "metadata": {
        "colab": {
          "base_uri": "https://localhost:8080/"
        },
        "id": "naip13f0imdd",
        "outputId": "b514358a-2e7e-46b9-871d-f45a6b75fad9"
      },
      "execution_count": 18,
      "outputs": [
        {
          "output_type": "stream",
          "name": "stdout",
          "text": [
            "바퀴수 2\n",
            "가격 100\n",
            "구동계 시마노\n"
          ]
        }
      ]
    },
    {
      "cell_type": "code",
      "source": [
        "# 아예 차 클래스의 정보()를 가져와버림."
      ],
      "metadata": {
        "id": "vHXeJNfAizcm"
      },
      "execution_count": 19,
      "outputs": []
    },
    {
      "cell_type": "markdown",
      "source": [
        "# 288\n",
        "다음 코드의 실행 결과를 예상해보세요.\n",
        "```\n",
        "class 부모:\n",
        "  def 호출(self):\n",
        "    print(\"부모호출\")\n",
        "\n",
        "class 자식(부모):\n",
        "  def 호출(self):\n",
        "    print(\"자식호출\")\n",
        "```\n",
        "```\n",
        "나 = 자식()\n",
        "나.호출()\n",
        "```"
      ],
      "metadata": {
        "id": "6oxi2AbXi5oc"
      }
    },
    {
      "cell_type": "code",
      "source": [
        "# \"부모호출\", \"자식호출\" 차례대로 출력될 것 같다."
      ],
      "metadata": {
        "id": "VIWUIlqDi-Oc"
      },
      "execution_count": 20,
      "outputs": []
    },
    {
      "cell_type": "code",
      "source": [
        "class 부모:\n",
        "    def 호출(self):\n",
        "        print(\"부모호출\")\n",
        "\n",
        "class 자식(부모):\n",
        "    def 호출(self):\n",
        "        print(\"자식호출\")\n",
        "\n",
        "\n",
        "나 = 자식()\n",
        "나.호출()"
      ],
      "metadata": {
        "colab": {
          "base_uri": "https://localhost:8080/"
        },
        "id": "ZRLtpxXDjJQG",
        "outputId": "e7b484c2-0534-400e-c963-f1260617b969"
      },
      "execution_count": 21,
      "outputs": [
        {
          "output_type": "stream",
          "name": "stdout",
          "text": [
            "자식호출\n"
          ]
        }
      ]
    },
    {
      "cell_type": "code",
      "source": [
        "# 아니었다^^ 자식만 호출된다^^ => 메서드 오버라이딩"
      ],
      "metadata": {
        "id": "OKS30xJLjJ3R"
      },
      "execution_count": 22,
      "outputs": []
    },
    {
      "cell_type": "markdown",
      "source": [
        "# 289\n",
        "다음 코드의 실행 결과를 예상해보세요.\n",
        "```\n",
        "class 부모:\n",
        "  def __init__(self):\n",
        "    print(\"부모생성\")\n",
        "\n",
        "class 자식(부모):\n",
        "  def __init__(self):\n",
        "    print(\"자식생성\")\n",
        "```\n",
        "```\n",
        "나 = 자식()\n",
        "```"
      ],
      "metadata": {
        "id": "e2bIz5GOjZdX"
      }
    },
    {
      "cell_type": "code",
      "source": [
        "# __init__은 객체 생성 시 자동으로 할당되는 메서드이기 때문에\n",
        "# \"부모생성\", \"자식생성\"이 차례대로 출력될것으로 예상."
      ],
      "metadata": {
        "id": "SksxamBfjd6z"
      },
      "execution_count": 23,
      "outputs": []
    },
    {
      "cell_type": "code",
      "source": [
        "class 부모:\n",
        "  def __init__(self):\n",
        "    print(\"부모생성\")\n",
        "\n",
        "class 자식(부모):\n",
        "  def __init__(self):\n",
        "    print(\"자식생성\")\n",
        "\n",
        "나 = 자식()"
      ],
      "metadata": {
        "colab": {
          "base_uri": "https://localhost:8080/"
        },
        "id": "y58V_0ETjuVT",
        "outputId": "dbf4f9c1-c090-40e2-80bb-ba528a429621"
      },
      "execution_count": 24,
      "outputs": [
        {
          "output_type": "stream",
          "name": "stdout",
          "text": [
            "자식생성\n"
          ]
        }
      ]
    },
    {
      "cell_type": "code",
      "source": [
        "# 이번에도 아니었다^^ __init__같은 매직메서드도 오버라이딩이 가능하다;;"
      ],
      "metadata": {
        "id": "6QynK8OJjxq0"
      },
      "execution_count": 25,
      "outputs": []
    },
    {
      "cell_type": "markdown",
      "source": [
        "# 290\n",
        "다음 코드의 실행 결과를 예상해보세요.\n",
        "```\n",
        "class 부모:\n",
        "  def __init__(self):\n",
        "    print(\"부모생성\")\n",
        "\n",
        "class 자식(부모):\n",
        "  def __init__(self):\n",
        "    print(\"자식생성\")\n",
        "    super().__init__()\n",
        "```\n",
        "```\n",
        "나 = 자식()\n",
        "```"
      ],
      "metadata": {
        "id": "GHnSZEiUkH3b"
      }
    },
    {
      "cell_type": "code",
      "source": [
        "# \"자식생성\", \"부모생성\" 차례대로 출력."
      ],
      "metadata": {
        "id": "ivGt5jc4kNhM"
      },
      "execution_count": 26,
      "outputs": []
    },
    {
      "cell_type": "code",
      "source": [
        "class 부모:\n",
        "    def __init__(self):\n",
        "        print(\"부모생성\")\n",
        "\n",
        "class 자식(부모):\n",
        "    def __init__(self):\n",
        "        print(\"자식생성\")\n",
        "        super().__init__()\n",
        "\n",
        "나 = 자식()"
      ],
      "metadata": {
        "colab": {
          "base_uri": "https://localhost:8080/"
        },
        "id": "jz4P4k3rkWFR",
        "outputId": "df78a3ab-d722-45ad-ab00-94d60bc4f719"
      },
      "execution_count": 27,
      "outputs": [
        {
          "output_type": "stream",
          "name": "stdout",
          "text": [
            "자식생성\n",
            "부모생성\n"
          ]
        }
      ]
    },
    {
      "cell_type": "code",
      "source": [
        "# 이번엔 맞았다ㅎㅎ 클래스 공부좀 다시 해야되겠다."
      ],
      "metadata": {
        "id": "hIy9LsqXkWeC"
      },
      "execution_count": 28,
      "outputs": []
    }
  ]
}