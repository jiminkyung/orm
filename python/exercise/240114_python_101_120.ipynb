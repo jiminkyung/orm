{
  "nbformat": 4,
  "nbformat_minor": 0,
  "metadata": {
    "colab": {
      "provenance": [],
      "authorship_tag": "ABX9TyOiUdbN5U0swaG1p0nMXfn1",
      "include_colab_link": true
    },
    "kernelspec": {
      "name": "python3",
      "display_name": "Python 3"
    },
    "language_info": {
      "name": "python"
    }
  },
  "cells": [
    {
      "cell_type": "markdown",
      "metadata": {
        "id": "view-in-github",
        "colab_type": "text"
      },
      "source": [
        "<a href=\"https://colab.research.google.com/github/jiminkyung/orm/blob/main/python/exercise/240114_python_101_120.ipynb\" target=\"_parent\"><img src=\"https://colab.research.google.com/assets/colab-badge.svg\" alt=\"Open In Colab\"/></a>"
      ]
    },
    {
      "cell_type": "markdown",
      "source": [
        "# 101번\n",
        "파이썬에서 True 혹은 False를 갖는 데이터 타입은 무엇인가?"
      ],
      "metadata": {
        "id": "ySbKrlZp2kVC"
      }
    },
    {
      "cell_type": "code",
      "source": [
        "# bool"
      ],
      "metadata": {
        "id": "EG8k-H_j2xGr"
      },
      "execution_count": 1,
      "outputs": []
    },
    {
      "cell_type": "markdown",
      "source": [
        "# 102번\n",
        "아래 코드의 출력 결과를 예상하라\n",
        "```\n",
        "print(3 == 5)\n",
        "```"
      ],
      "metadata": {
        "id": "hzaLnJ2q2xxV"
      }
    },
    {
      "cell_type": "code",
      "source": [
        "# 3과 5는 같지 않기때문에 False가 출력된다."
      ],
      "metadata": {
        "id": "DSU7khPp2124"
      },
      "execution_count": 2,
      "outputs": []
    },
    {
      "cell_type": "markdown",
      "source": [
        "# 103번\n",
        "아래 코드의 출력 결과를 예상하라\n",
        "```\n",
        "print(3 < 5)\n",
        "```"
      ],
      "metadata": {
        "id": "_XpZ6xpL28Sb"
      }
    },
    {
      "cell_type": "code",
      "source": [
        "# True"
      ],
      "metadata": {
        "id": "9X0qEcCI2_w3"
      },
      "execution_count": 3,
      "outputs": []
    },
    {
      "cell_type": "markdown",
      "source": [
        "# 104번\n",
        "아래 코드의 결과를 예상하라.\n",
        "```\n",
        "x = 4\n",
        "print(1 < x < 5)\n",
        "```"
      ],
      "metadata": {
        "id": "Q-nxSuXB3CLS"
      }
    },
    {
      "cell_type": "code",
      "source": [
        "# 4는 1보다 크고 5보다 작은값이 맞기 때문에 True."
      ],
      "metadata": {
        "id": "A2dKxglz3GUX"
      },
      "execution_count": 4,
      "outputs": []
    },
    {
      "cell_type": "markdown",
      "source": [
        "# 105번\n",
        "아래 코드의 결과를 예상하라.\n",
        "```\n",
        "print ((3 == 3) and (4 != 3))\n",
        "```"
      ],
      "metadata": {
        "id": "PoeHNFVC3KEf"
      }
    },
    {
      "cell_type": "code",
      "source": [
        "# 3 == 3 은 True,\n",
        "# 4 != 3 도 True로 True and True이기 때문에\n",
        "# True"
      ],
      "metadata": {
        "id": "kdCbvnds3Nvb"
      },
      "execution_count": 5,
      "outputs": []
    },
    {
      "cell_type": "markdown",
      "source": [
        "# 106번\n",
        "아래 코드에서 에러가 발생하는 원인에 대해 설명하라.\n",
        "```\n",
        "print(3 => 4)\n",
        "```"
      ],
      "metadata": {
        "id": "UYxbfIjA3VJ3"
      }
    },
    {
      "cell_type": "code",
      "source": [
        "# 부호의 위치가 바뀌었다. >= 로 등호가 뒤에 나와야 한다."
      ],
      "metadata": {
        "id": "wMoPfzDo3aUn"
      },
      "execution_count": 6,
      "outputs": []
    },
    {
      "cell_type": "markdown",
      "source": [
        "# 107번\n",
        "아래 코드의 출력 결과를 예상하라\n",
        "```\n",
        "if 4 < 3:\n",
        "    print(\"Hello World\")\n",
        "```"
      ],
      "metadata": {
        "id": "1tAnFZdq3o88"
      }
    },
    {
      "cell_type": "code",
      "source": [
        "# if 안의 조건식이 False이기 때문에 아무것도 출력되지 않는다."
      ],
      "metadata": {
        "id": "aCXM1Qeo3uMz"
      },
      "execution_count": 7,
      "outputs": []
    },
    {
      "cell_type": "markdown",
      "source": [
        "# 108번\n",
        "아래 코드의 출력 결과를 예상하라\n",
        "```\n",
        "if 4 < 3:\n",
        "    print(\"Hello World.\")\n",
        "else:\n",
        "    print(\"Hi, there.\")\n",
        "```"
      ],
      "metadata": {
        "id": "b5GhKLVF3yZu"
      }
    },
    {
      "cell_type": "code",
      "source": [
        "# if 조건식의 값이 False이기 때문에\n",
        "# else문의 값인 \"Hi, there.\" 이 출력된다."
      ],
      "metadata": {
        "id": "9_OcTHW231_E"
      },
      "execution_count": 8,
      "outputs": []
    },
    {
      "cell_type": "markdown",
      "source": [
        "# 109번\n",
        "아래 코드의 출력 결과를 예상하라\n",
        "```\n",
        "if True :\n",
        "    print (\"1\")\n",
        "    print (\"2\")\n",
        "else :\n",
        "    print(\"3\")\n",
        "print(\"4\")\n",
        "```"
      ],
      "metadata": {
        "id": "q9Czw52f38LK"
      }
    },
    {
      "cell_type": "code",
      "source": [
        "# if의 조건식이 True이기 때문에\n",
        "# 1, 2\n",
        "# 조건문을 빠져나간 후 print(\"4\")가 실행되어 최종적으로\n",
        "# 1, 2, 4가 출력된다(각 값마다 줄바꿈됨)"
      ],
      "metadata": {
        "id": "lTMh0if54ALW"
      },
      "execution_count": 9,
      "outputs": []
    },
    {
      "cell_type": "markdown",
      "source": [
        "# 110번\n",
        "아래 코드의 출력 결과를 예상하라\n",
        "```\n",
        "if True :\n",
        "    if False:\n",
        "        print(\"1\")\n",
        "        print(\"2\")\n",
        "    else:\n",
        "        print(\"3\")\n",
        "else :\n",
        "    print(\"4\")\n",
        "print(\"5\")\n",
        "```"
      ],
      "metadata": {
        "id": "L_SMovEL4RIx"
      }
    },
    {
      "cell_type": "code",
      "source": [
        "# 첫번째 if문이 True이기 때문에 그 안의 if문이 실행된다.\n",
        "# 안의 if문이 False이므로 else문인 print(\"3\")이 출력된다.\n",
        "# if문을 모두 빠져나간 후 print(\"5\")가 출력된다.\n",
        "# 3, 5"
      ],
      "metadata": {
        "id": "e-I_VcW84VAr"
      },
      "execution_count": 11,
      "outputs": []
    },
    {
      "cell_type": "markdown",
      "source": [
        "---"
      ],
      "metadata": {
        "id": "lMg_9aW-4sDb"
      }
    },
    {
      "cell_type": "markdown",
      "source": [
        "# 111번\n",
        "사용자로부터 입력받은 문자열을 두 번 출력하라.  \n",
        "아래는 사용자가 \"안녕하세요\"를 입력한 경우의 출력 결과이다.\n",
        "```\n",
        ">> 안녕하세요\n",
        "안녕하세요안녕하세요\n",
        "```"
      ],
      "metadata": {
        "id": "Pfd5cNCL4uk-"
      }
    },
    {
      "cell_type": "code",
      "source": [
        "user = input(\"\")\n",
        "print(user * 2)"
      ],
      "metadata": {
        "colab": {
          "base_uri": "https://localhost:8080/"
        },
        "id": "lX7GKkAf40Lw",
        "outputId": "d7b4dd33-7917-4f56-d3c7-4c8b50f12738"
      },
      "execution_count": 12,
      "outputs": [
        {
          "output_type": "stream",
          "name": "stdout",
          "text": [
            "안녕하새우\n",
            "안녕하새우안녕하새우\n"
          ]
        }
      ]
    },
    {
      "cell_type": "markdown",
      "source": [
        "# 112번\n",
        "사용자로부터 하나의 숫자를 입력받고, 입력 받은 숫자에 10을 더해 출력하라.\n",
        "```\n",
        ">> 숫자를 입력하세요: 30\n",
        "40\n",
        "```"
      ],
      "metadata": {
        "id": "iLqx7NTC5ArY"
      }
    },
    {
      "cell_type": "code",
      "source": [
        "num = int(input(\"숫자를 입력하세요: \"))\n",
        "print(num + 10)"
      ],
      "metadata": {
        "colab": {
          "base_uri": "https://localhost:8080/"
        },
        "id": "uK0_tlOE5FFD",
        "outputId": "d53dc212-d20a-4596-b65a-6f14d88c9801"
      },
      "execution_count": 13,
      "outputs": [
        {
          "output_type": "stream",
          "name": "stdout",
          "text": [
            "숫자를 입력하세요: 30\n",
            "40\n"
          ]
        }
      ]
    },
    {
      "cell_type": "markdown",
      "source": [
        "# 113번\n",
        "사용자로부터 하나의 숫자를 입력 받고 짝수/홀수를 판별하라.\n",
        "```\n",
        ">> 30\n",
        "짝수\n",
        "```"
      ],
      "metadata": {
        "id": "-fES-gCl5J0u"
      }
    },
    {
      "cell_type": "code",
      "source": [
        "num = int(input(\"\"))\n",
        "print(\"짝수\" if num % 2 == 0 else \"홀수\")"
      ],
      "metadata": {
        "colab": {
          "base_uri": "https://localhost:8080/"
        },
        "id": "779d_gMI5O7z",
        "outputId": "bba7d99b-05c9-4eb7-cd66-247c44182bb3"
      },
      "execution_count": 14,
      "outputs": [
        {
          "output_type": "stream",
          "name": "stdout",
          "text": [
            "30\n",
            "짝수\n"
          ]
        }
      ]
    },
    {
      "cell_type": "markdown",
      "source": [
        "# 114번\n",
        "사용자로부터 값을 입력받은 후 해당 값에 20을 더한 값을 출력하라.  \n",
        "단 사용자가 입력한 값과 20을 더한 계산 값이 255를 초과하는 경우 255를 출력해야 한다.\n",
        "```\n",
        ">> 입력값: 200\n",
        "출력값: 220\n",
        ">> 입력값: 240\n",
        "출력값: 255\n",
        "```"
      ],
      "metadata": {
        "id": "i4fDius65hwY"
      }
    },
    {
      "cell_type": "code",
      "source": [
        "num = int(input(\"입력값: \"))\n",
        "print( 255 if (num + 20) > 255 else (num + 20) )"
      ],
      "metadata": {
        "colab": {
          "base_uri": "https://localhost:8080/"
        },
        "id": "YgxCvVvh5ozN",
        "outputId": "0054fdb8-66fc-440a-95ac-fb92e76ceddb"
      },
      "execution_count": 16,
      "outputs": [
        {
          "output_type": "stream",
          "name": "stdout",
          "text": [
            "입력값: 240\n",
            "255\n"
          ]
        }
      ]
    },
    {
      "cell_type": "markdown",
      "source": [
        "# 115번\n",
        "사용자로부터 하나의 값을 입력받은 후 해당 값에 20을 뺀 값을 출력하라.  \n",
        "단 출력 값의 범위는 0~255이다. 예를 들어 결괏값이 0보다 작은 값이되는 경우 0을 출력하고  \n",
        "255보다 큰 값이 되는 경우 255를 출력해야 한다.\n",
        "```\n",
        ">> 입력값: 200\n",
        "출력값: 180\n",
        ">> 입력값: 15\n",
        "출력값: 0\n",
        "```"
      ],
      "metadata": {
        "id": "ilcxLMNd517f"
      }
    },
    {
      "cell_type": "code",
      "source": [
        "num = int(input(\"입력값: \"))\n",
        "num -= 20\n",
        "print(255 if num > 255 else 0 if num < 0 else num)"
      ],
      "metadata": {
        "colab": {
          "base_uri": "https://localhost:8080/"
        },
        "id": "5Gds-ATW6GIn",
        "outputId": "de6eb34b-1102-4495-8cfe-f14806ee2248"
      },
      "execution_count": 19,
      "outputs": [
        {
          "output_type": "stream",
          "name": "stdout",
          "text": [
            "입력값: 15\n",
            "0\n"
          ]
        }
      ]
    },
    {
      "cell_type": "markdown",
      "source": [
        "# 116번\n",
        "사용자로부터 입력 받은 시간이 정각인지 판별하라.\n",
        "```\n",
        ">> 현재시간:02:00\n",
        "정각 입니다.\n",
        ">> 현재시간:03:10\n",
        "정각이 아닙니다\n",
        "```"
      ],
      "metadata": {
        "id": "WmxGmVZF6v6u"
      }
    },
    {
      "cell_type": "code",
      "source": [
        "time = input(\"현재시간: \")\n",
        "print(\"정각입니다.\" if time[-2:] == \"00\" else \"정각이 아닙니다.\")"
      ],
      "metadata": {
        "colab": {
          "base_uri": "https://localhost:8080/"
        },
        "id": "ghf-X2Ze7bnO",
        "outputId": "625fe226-ca6f-4a2f-e2d3-0954ad37ad41"
      },
      "execution_count": 24,
      "outputs": [
        {
          "output_type": "stream",
          "name": "stdout",
          "text": [
            "현재시간: 03: 10\n",
            "정각이 아닙니다.\n"
          ]
        }
      ]
    },
    {
      "cell_type": "markdown",
      "source": [
        "# 117번\n",
        "사용자로 입력받은 단어가 아래 fruit 리스트에 포함되어 있는지를 확인하라.  \n",
        "포함되었다면 \"정답입니다\"를 아닐 경우 \"오답입니다\" 출력하라.\n",
        "```\n",
        "fruit = [\"사과\", \"포도\", \"홍시\"]\n",
        ">> 좋아하는 과일은? 사과\n",
        "정답입니다.\n",
        "```"
      ],
      "metadata": {
        "id": "YsrZPs2u8b3l"
      }
    },
    {
      "cell_type": "code",
      "source": [
        "fruit = [\"사과\", \"포도\", \"홍시\"]\n",
        "user = input(\"좋아하는 과일은? \")\n",
        "if user in fruit:\n",
        "    print(\"정답입니다.\")\n",
        "else:\n",
        "    print(\"오답입니다.\")"
      ],
      "metadata": {
        "colab": {
          "base_uri": "https://localhost:8080/"
        },
        "id": "NvPT0Kwb9HIG",
        "outputId": "8e74e2bf-372f-4faa-a525-e7dcd71dfcf0"
      },
      "execution_count": 25,
      "outputs": [
        {
          "output_type": "stream",
          "name": "stdout",
          "text": [
            "좋아하는 과일은? 사과\n",
            "정답입니다.\n"
          ]
        }
      ]
    },
    {
      "cell_type": "code",
      "source": [
        "# 사실 메서드끼리 좀 헷갈려서 다시한번 검색해봤다ㅎㅎ"
      ],
      "metadata": {
        "id": "_wZ_K8Af9zFw"
      },
      "execution_count": 26,
      "outputs": []
    },
    {
      "cell_type": "markdown",
      "source": [
        "# 118번\n",
        "투자 경고 종목 리스트가 있을 때 사용자로부터 종목명을 입력 받은 후,  \n",
        "해당 종목이 투자 경고 종목이라면 '투자 경고 종목입니다'를 아니면 \"투자 경고 종목이 아닙니다.\"를 출력하는 프로그램을 작성하라.\n",
        "```\n",
        "warn_investment_list = [\"Microsoft\", \"Google\", \"Naver\", \"Kakao\", \"SAMSUNG\", \"LG\"]\n",
        "```"
      ],
      "metadata": {
        "id": "QNZj-Eg19vgR"
      }
    },
    {
      "cell_type": "code",
      "source": [
        "warn_investment_list = [\"Microsoft\", \"Google\", \"Naver\", \"Kakao\", \"SAMSUNG\", \"LG\"]\n",
        "\n",
        "user = input(\"종목을 입력하세요: \")\n",
        "if user in warn_investment_list:\n",
        "    print(\"투자 경고 종목입니다\")\n",
        "else:\n",
        "    print(\"투자 경고 종목이 아닙니다\")"
      ],
      "metadata": {
        "colab": {
          "base_uri": "https://localhost:8080/"
        },
        "id": "hQmDPRLg96aH",
        "outputId": "38dd82cb-7e3d-40d4-df14-ea8d6b222e62"
      },
      "execution_count": 27,
      "outputs": [
        {
          "output_type": "stream",
          "name": "stdout",
          "text": [
            "종목을 입력하세요: Naver\n",
            "투자 경고 종목입니다\n"
          ]
        }
      ]
    },
    {
      "cell_type": "markdown",
      "source": [
        "# 119번\n",
        "아래와 같이 fruit 딕셔너리가 정의되어 있다. 사용자가 입력한 값이 딕셔너리 키 (key) 값에 포함되었다면 \"정답입니다\"를 아닐 경우 \"오답입니다\" 출력하라.\n",
        "```\n",
        "fruit = {\"봄\" : \"딸기\", \"여름\" : \"토마토\", \"가을\" : \"사과\"}\n",
        ">> 제가좋아하는계절은: 봄\n",
        "정답입니다.\n",
        "```"
      ],
      "metadata": {
        "id": "9nPwDWg_-Lqy"
      }
    },
    {
      "cell_type": "code",
      "source": [
        "fruit = {\"봄\" : \"딸기\", \"여름\" : \"토마토\", \"가을\" : \"사과\"}\n",
        "\n",
        "user = input(\"제가좋아하는계절은: \")\n",
        "if user in fruit.keys():\n",
        "    print(\"정답입니다.\")\n",
        "else:\n",
        "    print(\"오답입니다.\")"
      ],
      "metadata": {
        "colab": {
          "base_uri": "https://localhost:8080/"
        },
        "id": "Sd7HR-q2-Qs5",
        "outputId": "6f6a428f-de84-44db-abad-737040cb49b0"
      },
      "execution_count": 28,
      "outputs": [
        {
          "output_type": "stream",
          "name": "stdout",
          "text": [
            "제가좋아하는계절은: 봄\n",
            "정답입니다.\n"
          ]
        }
      ]
    },
    {
      "cell_type": "markdown",
      "source": [
        "# 120번\n",
        "아래와 같이 fruit 딕셔너리가 정의되어 있다. 사용자가 입력한 값이 딕셔너리 값 (value)에 포함되었다면 \"정답입니다\"를 아닐 경우 \"오답입니다\" 출력하라.\n",
        "```\n",
        "fruit = {\"봄\" : \"딸기\", \"여름\" : \"토마토\", \"가을\" : \"사과\"}\n",
        ">> 좋아하는과일은? 한라봉\n",
        "오답입니다.\n",
        "```"
      ],
      "metadata": {
        "id": "VzqXmFML-cd1"
      }
    },
    {
      "cell_type": "code",
      "source": [
        "fruit = {\"봄\" : \"딸기\", \"여름\" : \"토마토\", \"가을\" : \"사과\"}\n",
        "\n",
        "user = input(\"좋아하는과일은? \")\n",
        "print(\"정답입니다\" if user in fruit.values() else \"오답입니다\")"
      ],
      "metadata": {
        "colab": {
          "base_uri": "https://localhost:8080/"
        },
        "id": "MfOMgBtl-hoi",
        "outputId": "f6c38b8e-4041-444f-c2a6-1f1e79e69740"
      },
      "execution_count": 29,
      "outputs": [
        {
          "output_type": "stream",
          "name": "stdout",
          "text": [
            "좋아하는과일은? 한라봉\n",
            "오답입니다\n"
          ]
        }
      ]
    }
  ]
}