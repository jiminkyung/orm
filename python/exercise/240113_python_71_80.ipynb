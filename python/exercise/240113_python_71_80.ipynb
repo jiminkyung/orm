{
  "nbformat": 4,
  "nbformat_minor": 0,
  "metadata": {
    "colab": {
      "provenance": []
    },
    "kernelspec": {
      "name": "python3",
      "display_name": "Python 3"
    },
    "language_info": {
      "name": "python"
    }
  },
  "cells": [
    {
      "cell_type": "markdown",
      "source": [
        "# 71번\n",
        "my_variable 이름의 비어있는 튜플을 만들라."
      ],
      "metadata": {
        "id": "Ktp5yeBi3uz0"
      }
    },
    {
      "cell_type": "code",
      "source": [
        "my_variable = ()\n",
        "type(my_variable)"
      ],
      "metadata": {
        "colab": {
          "base_uri": "https://localhost:8080/"
        },
        "id": "_106q7ZG39qP",
        "outputId": "3f36b77a-cec9-49b9-868f-b9df61fa4f5b"
      },
      "execution_count": 2,
      "outputs": [
        {
          "output_type": "execute_result",
          "data": {
            "text/plain": [
              "tuple"
            ]
          },
          "metadata": {},
          "execution_count": 2
        }
      ]
    },
    {
      "cell_type": "markdown",
      "source": [
        "# 72번\n",
        "2016년 11월 영화 예매 순위 기준 top3는 다음과 같다. 영화 제목을 movie_rank 이름의 튜플에 저장하라. (순위 정보는 저장하지 않는다.)\n",
        "```\n",
        "순위\t영화\n",
        "1\t닥터 스트레인지\n",
        "2\t스플릿\n",
        "3\t럭키\n",
        "```"
      ],
      "metadata": {
        "id": "9zVYTVKH36PZ"
      }
    },
    {
      "cell_type": "code",
      "source": [
        "movie_rank = (\"닥터 스트레인지\", \"스플릿\", \"럭키\")\n",
        "movie_rank"
      ],
      "metadata": {
        "colab": {
          "base_uri": "https://localhost:8080/"
        },
        "id": "l9wTQhey4Rpv",
        "outputId": "2d16f631-a419-4311-e42f-52d01ca95e1f"
      },
      "execution_count": 3,
      "outputs": [
        {
          "output_type": "execute_result",
          "data": {
            "text/plain": [
              "('닥터 스트레인지', '스플릿', '럭키')"
            ]
          },
          "metadata": {},
          "execution_count": 3
        }
      ]
    },
    {
      "cell_type": "markdown",
      "source": [
        "# 73번\n",
        "숫자 1 이 저장된 튜플을 생성하라."
      ],
      "metadata": {
        "id": "1Tnr-Z-J36t_"
      }
    },
    {
      "cell_type": "code",
      "source": [
        "num = (1)\n",
        "type(num)"
      ],
      "metadata": {
        "colab": {
          "base_uri": "https://localhost:8080/"
        },
        "id": "rS-oNb3e4YV_",
        "outputId": "c1ebce21-0430-4aff-8429-fe1f910b37fd"
      },
      "execution_count": 7,
      "outputs": [
        {
          "output_type": "execute_result",
          "data": {
            "text/plain": [
              "int"
            ]
          },
          "metadata": {},
          "execution_count": 7
        }
      ]
    },
    {
      "cell_type": "code",
      "source": [
        "# 답\n",
        "# 하나의 데이터가 저장되는 경우 쉼표를 입력해야 함.\n",
        "num = (1, )\n",
        "type(num)"
      ],
      "metadata": {
        "colab": {
          "base_uri": "https://localhost:8080/"
        },
        "id": "U_sasBPd4iy0",
        "outputId": "40d141e6-b79d-4e06-f725-ecfad06d8536"
      },
      "execution_count": 8,
      "outputs": [
        {
          "output_type": "execute_result",
          "data": {
            "text/plain": [
              "tuple"
            ]
          },
          "metadata": {},
          "execution_count": 8
        }
      ]
    },
    {
      "cell_type": "markdown",
      "source": [
        "# 74번\n",
        "다음 코드를 실행해보고 오류가 발생하는 원인을 설명하라.\n",
        "```\n",
        ">> t = (1, 2, 3)\n",
        ">> t[0] = 'a'\n",
        "Traceback (most recent call last):\n",
        "  File \"<pyshell#46>\", line 1, in <module>\n",
        "    t[0] = 'a'\n",
        "TypeError: 'tuple' object does not support item assignment\n",
        "```"
      ],
      "metadata": {
        "id": "VRJkHSQZ36xX"
      }
    },
    {
      "cell_type": "code",
      "source": [
        "# 튜플은 변경 불가능한 자료형임."
      ],
      "metadata": {
        "id": "8kCkDZlj4vMv"
      },
      "execution_count": 9,
      "outputs": []
    },
    {
      "cell_type": "markdown",
      "source": [
        "# 75번\n",
        "아래와 같이 t에는 1, 2, 3, 4 데이터가 바인딩되어 있다. t가 바인딩하는 데이터 타입은 무엇인가?  \n",
        "`t = 1, 2, 3, 4`"
      ],
      "metadata": {
        "id": "_C1yRwK5362G"
      }
    },
    {
      "cell_type": "code",
      "source": [
        "t = 1, 2, 3, 4\n",
        "type(t)\n",
        "# 튜플은 괄호 없이도 동작한다. 편의를 위해 그런거임."
      ],
      "metadata": {
        "colab": {
          "base_uri": "https://localhost:8080/"
        },
        "id": "JRHAZo1N4-WA",
        "outputId": "58df0ebf-ff89-4527-afd8-42d080ad95fb"
      },
      "execution_count": 12,
      "outputs": [
        {
          "output_type": "execute_result",
          "data": {
            "text/plain": [
              "tuple"
            ]
          },
          "metadata": {},
          "execution_count": 12
        }
      ]
    },
    {
      "cell_type": "markdown",
      "source": [
        "# 76번\n",
        "변수 t에는 아래와 같은 값이 저장되어 있다. 변수 t가 ('A', 'b', 'c') 튜플을 가리키도록 수정 하라.  \n",
        "`t = ('a', 'b', 'c')`"
      ],
      "metadata": {
        "id": "2t34Ls33366W"
      }
    },
    {
      "cell_type": "code",
      "source": [
        "# 튜플은 변경 불가능하기 때문에 새로 만들어줘야 함.\n",
        "t = ('a', 'b', 'c')\n",
        "print(t)\n",
        "t = ('A', 'b', 'c')\n",
        "t"
      ],
      "metadata": {
        "colab": {
          "base_uri": "https://localhost:8080/"
        },
        "id": "_JxPYMpU5TAa",
        "outputId": "044d3b46-dfcc-4592-c597-067885db0d20"
      },
      "execution_count": 13,
      "outputs": [
        {
          "output_type": "stream",
          "name": "stdout",
          "text": [
            "('a', 'b', 'c')\n"
          ]
        },
        {
          "output_type": "execute_result",
          "data": {
            "text/plain": [
              "('A', 'b', 'c')"
            ]
          },
          "metadata": {},
          "execution_count": 13
        }
      ]
    },
    {
      "cell_type": "markdown",
      "source": [
        "# 77번\n",
        "다음 튜플을 리스트로 변환하라.  \n",
        "`interest = ('삼성전자', 'LG전자', 'SK Hynix')`"
      ],
      "metadata": {
        "id": "t8R6VfEm36_y"
      }
    },
    {
      "cell_type": "code",
      "source": [
        "interest = ('삼성전자', 'LG전자', 'SK Hynix')\n",
        "interest = list(interest)\n",
        "type(interest)"
      ],
      "metadata": {
        "colab": {
          "base_uri": "https://localhost:8080/"
        },
        "id": "SnEx4eiw5mYD",
        "outputId": "c4920e84-4e13-4fc3-8b78-6d368ce3ae27"
      },
      "execution_count": 16,
      "outputs": [
        {
          "output_type": "execute_result",
          "data": {
            "text/plain": [
              "list"
            ]
          },
          "metadata": {},
          "execution_count": 16
        }
      ]
    },
    {
      "cell_type": "markdown",
      "source": [
        "# 78번\n",
        "다음 리스트를 튜플로 변경하라.  \n",
        "`interest = ['삼성전자', 'LG전자', 'SK Hynix']`\n"
      ],
      "metadata": {
        "id": "w5oDywoI37EG"
      }
    },
    {
      "cell_type": "code",
      "source": [
        "interest = ['삼성전자', 'LG전자', 'SK Hynix']\n",
        "interest = tuple(interest)\n",
        "type(interest)"
      ],
      "metadata": {
        "colab": {
          "base_uri": "https://localhost:8080/"
        },
        "id": "LxN6r7JT57ZA",
        "outputId": "004010fb-effd-4261-8e24-8532db927fd3"
      },
      "execution_count": 17,
      "outputs": [
        {
          "output_type": "execute_result",
          "data": {
            "text/plain": [
              "tuple"
            ]
          },
          "metadata": {},
          "execution_count": 17
        }
      ]
    },
    {
      "cell_type": "markdown",
      "source": [
        "# 79번\n",
        "다음 코드의 실행 결과를 예상하라.\n",
        "```\n",
        "temp = ('apple', 'banana', 'cake')\n",
        "a, b, c = temp\n",
        "print(a, b, c)\n",
        "```"
      ],
      "metadata": {
        "id": "CYWbUQSP37JJ"
      }
    },
    {
      "cell_type": "code",
      "source": [
        "# 언패킹 과정을 거쳤기때문에\n",
        "# apple부터 차례대로 a, b, c에 할당된다."
      ],
      "metadata": {
        "id": "2jy1Tx9g6Foq"
      },
      "execution_count": 18,
      "outputs": []
    },
    {
      "cell_type": "code",
      "source": [
        "temp = ('apple', 'banana', 'cake')\n",
        "a, b, c = temp\n",
        "print(a, b, c)"
      ],
      "metadata": {
        "colab": {
          "base_uri": "https://localhost:8080/"
        },
        "id": "hHABxc4K6NqI",
        "outputId": "ef3905f0-886f-4013-92b0-6053e9490e77"
      },
      "execution_count": 19,
      "outputs": [
        {
          "output_type": "stream",
          "name": "stdout",
          "text": [
            "apple banana cake\n"
          ]
        }
      ]
    },
    {
      "cell_type": "markdown",
      "source": [
        "# 80번\n",
        "1 부터 99까지의 정수 중 짝수만 저장된 튜플을 생성하라.\n"
      ],
      "metadata": {
        "id": "Aq3il-3f37Nv"
      }
    },
    {
      "cell_type": "code",
      "source": [
        "even = tuple(range(2, 100, 2))\n",
        "print(even, end=\" \")"
      ],
      "metadata": {
        "colab": {
          "base_uri": "https://localhost:8080/"
        },
        "id": "_RmlhMqz34PN",
        "outputId": "73df9c2c-8a88-4ee9-96a2-734dc812633d"
      },
      "execution_count": 21,
      "outputs": [
        {
          "output_type": "stream",
          "name": "stdout",
          "text": [
            "(2, 4, 6, 8, 10, 12, 14, 16, 18, 20, 22, 24, 26, 28, 30, 32, 34, 36, 38, 40, 42, 44, 46, 48, 50, 52, 54, 56, 58, 60, 62, 64, 66, 68, 70, 72, 74, 76, 78, 80, 82, 84, 86, 88, 90, 92, 94, 96, 98) "
          ]
        }
      ]
    }
  ]
}