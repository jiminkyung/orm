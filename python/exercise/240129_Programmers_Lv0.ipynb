{
  "nbformat": 4,
  "nbformat_minor": 0,
  "metadata": {
    "colab": {
      "provenance": [],
      "collapsed_sections": [
        "TQ8JzJVp2K3m",
        "zCopjnyLEnCs",
        "qJN4oeeJUiC-",
        "YAEZWw-Qboro",
        "eW-EdFeQca8y",
        "pxL08T7ewOge",
        "ErJ8IRHuPWHj",
        "RlRo9uba9W_z",
        "pE0ndcvONHoo",
        "yk7ep3TeCdfG",
        "OeyEoPCa_JqV",
        "1EDJId82vHCH",
        "V8El3_D0aIX-",
        "EeSennYjZtox"
      ],
      "toc_visible": true,
      "authorship_tag": "ABX9TyPiTpZq/m25xQrow1AVbRwi",
      "include_colab_link": true
    },
    "kernelspec": {
      "name": "python3",
      "display_name": "Python 3"
    },
    "language_info": {
      "name": "python"
    }
  },
  "cells": [
    {
      "cell_type": "markdown",
      "metadata": {
        "id": "view-in-github",
        "colab_type": "text"
      },
      "source": [
        "<a href=\"https://colab.research.google.com/github/jiminkyung/orm/blob/main/python/exercise/240129_Programmers_Lv0.ipynb\" target=\"_parent\"><img src=\"https://colab.research.google.com/assets/colab-badge.svg\" alt=\"Open In Colab\"/></a>"
      ]
    },
    {
      "cell_type": "markdown",
      "source": [
        "모든 저작권은 프로그래머스에 있습니다.\n",
        "https://school.programmers.co.kr/learn/challenges?order=recent&levels=0&languages=python3"
      ],
      "metadata": {
        "id": "qKHvOfZdzyBM"
      }
    },
    {
      "cell_type": "markdown",
      "source": [
        "### midpoint 1"
      ],
      "metadata": {
        "id": "TQ8JzJVp2K3m"
      }
    },
    {
      "cell_type": "markdown",
      "source": [
        "#### 대소문자 바꿔서 출력하기\n",
        "```\n",
        "영어 알파벳으로 이루어진 문자열 str이 주어집니다. 각 알파벳을 대문자는 소문자로 소문자는 대문자로 변환해서 출력하는 코드를 작성해 보세요.\n",
        "```"
      ],
      "metadata": {
        "id": "TO4AEu3Z1GGZ"
      }
    },
    {
      "cell_type": "code",
      "source": [
        "r = \"\"\n",
        "for i in input():\n",
        "    if i.islower():\n",
        "        r += i.upper()\n",
        "    else:\n",
        "        r += i.lower()\n",
        "print(r)"
      ],
      "metadata": {
        "colab": {
          "base_uri": "https://localhost:8080/"
        },
        "id": "0sIgdEJa1Qfr",
        "outputId": "c39a8353-b87f-475a-ce37-deab9108b9b0"
      },
      "execution_count": null,
      "outputs": [
        {
          "output_type": "stream",
          "name": "stdout",
          "text": [
            "aBcDeFg\n",
            "AbCdEfG\n"
          ]
        }
      ]
    },
    {
      "cell_type": "markdown",
      "source": [
        "#### 덧셈식 출력하기\n",
        "```\n",
        "두 정수 a, b가 주어질 때 다음과 같은 형태의 계산식을 출력하는 코드를 작성해 보세요.\n",
        "a + b = c\n",
        "```"
      ],
      "metadata": {
        "id": "4dc0sWIj1ipl"
      }
    },
    {
      "cell_type": "code",
      "source": [
        "a, b = map(int, input().strip().split(' '))\n",
        "print(f'{a} + {b} = {a+b}')"
      ],
      "metadata": {
        "colab": {
          "base_uri": "https://localhost:8080/"
        },
        "id": "f2NRU48215yN",
        "outputId": "95f0453e-d021-48b6-a3e0-986d6688c232"
      },
      "execution_count": null,
      "outputs": [
        {
          "output_type": "stream",
          "name": "stdout",
          "text": [
            "4 5\n",
            "4 + 5 = 9\n"
          ]
        }
      ]
    },
    {
      "cell_type": "markdown",
      "source": [
        "#### 문자열 붙여서 출력하기\n",
        "```\n",
        "두 개의 문자열 str1, str2가 공백으로 구분되어 입력으로 주어집니다.\n",
        "입출력 예와 같이 str1과 str2을 이어서 출력하는 코드를 작성해 보세요.\n",
        "```"
      ],
      "metadata": {
        "id": "KsCryMB_172L"
      }
    },
    {
      "cell_type": "code",
      "source": [
        "str1, str2 = input().split()\n",
        "print(str1 + str2)"
      ],
      "metadata": {
        "colab": {
          "base_uri": "https://localhost:8080/"
        },
        "id": "CDalXXBL2I1K",
        "outputId": "1de57852-318e-4383-a3e5-271df803092c"
      },
      "execution_count": null,
      "outputs": [
        {
          "output_type": "stream",
          "name": "stdout",
          "text": [
            "right away\n",
            "rightaway\n"
          ]
        }
      ]
    },
    {
      "cell_type": "markdown",
      "source": [
        "#### 문자열 돌리기\n",
        "```\n",
        "문자열 str이 주어집니다.\n",
        "문자열을 시계방향으로 90도 돌려서 아래 입출력 예와 같이 출력하는 코드를 작성해 보세요.\n",
        "```"
      ],
      "metadata": {
        "id": "LaxiHFiV2R6g"
      }
    },
    {
      "cell_type": "code",
      "source": [
        "s = input()\n",
        "for i in s:\n",
        "    print(i)"
      ],
      "metadata": {
        "colab": {
          "base_uri": "https://localhost:8080/"
        },
        "id": "ts5djGUg2cTL",
        "outputId": "06d1d007-d517-44bc-8393-fd0d6ba242f6"
      },
      "execution_count": null,
      "outputs": [
        {
          "output_type": "stream",
          "name": "stdout",
          "text": [
            "rock\n",
            "r\n",
            "o\n",
            "c\n",
            "k\n"
          ]
        }
      ]
    },
    {
      "cell_type": "code",
      "source": [
        "# 기막히고 코막힌 답안\n",
        "print('\\n'.join(input()))"
      ],
      "metadata": {
        "colab": {
          "base_uri": "https://localhost:8080/"
        },
        "id": "eRRlaH3C2-aV",
        "outputId": "e42f8306-e063-495d-efdf-1484ad631d6c"
      },
      "execution_count": null,
      "outputs": [
        {
          "output_type": "stream",
          "name": "stdout",
          "text": [
            "rock\n",
            "r\n",
            "o\n",
            "c\n",
            "k\n"
          ]
        }
      ]
    },
    {
      "cell_type": "markdown",
      "source": [
        "#### 홀짝 구분하기\n",
        "```\n",
        "자연수 n이 입력으로 주어졌을 때 만약 n이 짝수이면 \"n is even\"을, 홀수이면 \"n is odd\"를 출력하는 코드를 작성해 보세요.\n",
        "```"
      ],
      "metadata": {
        "id": "Hwcc_ZSD2qEw"
      }
    },
    {
      "cell_type": "code",
      "source": [
        "n = int(input())\n",
        "print(f'{n} is even' if n%2==0 else f'{n} is odd')"
      ],
      "metadata": {
        "colab": {
          "base_uri": "https://localhost:8080/"
        },
        "id": "ZvRxslg53Lp2",
        "outputId": "7301ea80-73ab-47f7-acde-aef12a88500c"
      },
      "execution_count": null,
      "outputs": [
        {
          "output_type": "stream",
          "name": "stdout",
          "text": [
            "32\n",
            "32 is even\n"
          ]
        }
      ]
    },
    {
      "cell_type": "markdown",
      "source": [
        "#### 문자열 겹쳐쓰기\n",
        "```\n",
        "문자열 my_string, overwrite_string과 정수 s가 주어집니다.\n",
        "문자열 my_string의 인덱스 s부터 overwrite_string의 길이만큼을 문자열 overwrite_string으로 바꾼 문자열을 return 하는 solution 함수를 작성해 주세요.\n",
        "```\n",
        "```\n",
        "<조건>\n",
        "1 ≤ overwrite_string의 길이 ≤ my_string의 길이 ≤ 1,000\n",
        "0 ≤ s ≤ my_string의 길이 - overwrite_string의 길이\n",
        "```"
      ],
      "metadata": {
        "id": "v3FOi7cJ3dd-"
      }
    },
    {
      "cell_type": "code",
      "source": [
        "def solution(my_string, overwrite_string, s):\n",
        "    n = len(overwrite_string)\n",
        "    answer = my_string[:s] + overwrite_string + my_string[s+n:]\n",
        "    return answer"
      ],
      "metadata": {
        "id": "0heNsTwQ40hS"
      },
      "execution_count": null,
      "outputs": []
    },
    {
      "cell_type": "code",
      "source": [
        "solution(\"He11oWor1d\", \"lloWorl\", 2)"
      ],
      "metadata": {
        "colab": {
          "base_uri": "https://localhost:8080/",
          "height": 36
        },
        "id": "7dksWSj-6xES",
        "outputId": "feb15ce0-b74e-4445-ef41-481b28a1c5a1"
      },
      "execution_count": null,
      "outputs": [
        {
          "output_type": "execute_result",
          "data": {
            "text/plain": [
              "'HelloWorld'"
            ],
            "application/vnd.google.colaboratory.intrinsic+json": {
              "type": "string"
            }
          },
          "metadata": {},
          "execution_count": 11
        }
      ]
    },
    {
      "cell_type": "markdown",
      "source": [
        "#### 문자열 섞기\n",
        "```\n",
        "길이가 같은 두 문자열 str1과 str2가 주어집니다.\n",
        "\n",
        "두 문자열의 각 문자가 앞에서부터 서로 번갈아가면서 한 번씩 등장하는 문자열을 만들어 return 하는 solution 함수를 완성해 주세요.\n",
        "```"
      ],
      "metadata": {
        "id": "mZYMmGEF66on"
      }
    },
    {
      "cell_type": "code",
      "source": [
        "def solution(str1, str2):\n",
        "    answer = ''\n",
        "    for i in range(len(str1)):\n",
        "        answer += str1[i] + str2[i]\n",
        "    return answer"
      ],
      "metadata": {
        "id": "6nkvk_IC7CSF"
      },
      "execution_count": null,
      "outputs": []
    },
    {
      "cell_type": "code",
      "source": [
        "solution(\"aaaaa\", \"bbbbb\")"
      ],
      "metadata": {
        "colab": {
          "base_uri": "https://localhost:8080/",
          "height": 36
        },
        "id": "yeIAfYx--7JB",
        "outputId": "0f3984e3-e3f4-45a4-d3fd-a71016a70f05"
      },
      "execution_count": null,
      "outputs": [
        {
          "output_type": "execute_result",
          "data": {
            "text/plain": [
              "'ababababab'"
            ],
            "application/vnd.google.colaboratory.intrinsic+json": {
              "type": "string"
            }
          },
          "metadata": {},
          "execution_count": 20
        }
      ]
    },
    {
      "cell_type": "markdown",
      "source": [
        "#### 문자 리스트를 문자열로 변환하기\n",
        "```\n",
        "문자들이 담겨있는 배열 arr가 주어집니다. arr의 원소들을 순서대로 이어 붙인 문자열을 return 하는 solution함수를 작성해 주세요.\n",
        "```"
      ],
      "metadata": {
        "id": "m7YBSARx9w17"
      }
    },
    {
      "cell_type": "code",
      "source": [
        "def solution(arr):\n",
        "    return ''.join(arr)"
      ],
      "metadata": {
        "id": "wW4duAsR-hsJ"
      },
      "execution_count": null,
      "outputs": []
    },
    {
      "cell_type": "code",
      "source": [
        "solution([\"a\",\"b\",\"c\"])"
      ],
      "metadata": {
        "colab": {
          "base_uri": "https://localhost:8080/",
          "height": 36
        },
        "id": "z5OwqbjB-2rk",
        "outputId": "bdcf5e27-5bf8-426a-f2ff-338a1c4340cf"
      },
      "execution_count": null,
      "outputs": [
        {
          "output_type": "execute_result",
          "data": {
            "text/plain": [
              "'abc'"
            ],
            "application/vnd.google.colaboratory.intrinsic+json": {
              "type": "string"
            }
          },
          "metadata": {},
          "execution_count": 18
        }
      ]
    },
    {
      "cell_type": "markdown",
      "source": [
        "#### 문자열 곱하기\n",
        "```\n",
        "문자열 my_string과 정수 k가 주어질 때, my_string을 k번 반복한 문자열을 return 하는 solution 함수를 작성해 주세요.\n",
        "```"
      ],
      "metadata": {
        "id": "Hwzew-rR-qYM"
      }
    },
    {
      "cell_type": "code",
      "source": [
        "def solution(my_string, k):\n",
        "    answer = (my_string*k).strip()\n",
        "    return answer"
      ],
      "metadata": {
        "id": "mLC53LWi_E0_"
      },
      "execution_count": null,
      "outputs": []
    },
    {
      "cell_type": "code",
      "source": [
        "solution(\"onepiece\", 2)"
      ],
      "metadata": {
        "colab": {
          "base_uri": "https://localhost:8080/",
          "height": 36
        },
        "id": "f4eiopw__QLw",
        "outputId": "33128008-9f0e-4dc6-e1a4-011236346aeb"
      },
      "execution_count": null,
      "outputs": [
        {
          "output_type": "execute_result",
          "data": {
            "text/plain": [
              "'onepieceonepiece'"
            ],
            "application/vnd.google.colaboratory.intrinsic+json": {
              "type": "string"
            }
          },
          "metadata": {},
          "execution_count": 23
        }
      ]
    },
    {
      "cell_type": "markdown",
      "source": [
        "#### 더 크게 합치기\n",
        "```\n",
        "연산 ⊕는 두 정수에 대한 연산으로 두 정수를 붙여서 쓴 값을 반환합니다. 예를 들면 다음과 같습니다.\n",
        "\n",
        "12 ⊕ 3 = 123\n",
        "3 ⊕ 12 = 312\n",
        "양의 정수 a와 b가 주어졌을 때, a ⊕ b와 b ⊕ a 중 더 큰 값을 return 하는 solution 함수를 완성해 주세요.\n",
        "\n",
        "단, a ⊕ b와 b ⊕ a가 같다면 a ⊕ b를 return 합니다.\n",
        "```"
      ],
      "metadata": {
        "id": "oRbykWXm_VxB"
      }
    },
    {
      "cell_type": "code",
      "source": [
        "def solution(a, b):\n",
        "    sum_ab = int(str(a)+str(b))\n",
        "    sum_ba = int(str(b)+str(a))\n",
        "    return sum_ab if sum_ab == sum_ba else max(sum_ab, sum_ba)"
      ],
      "metadata": {
        "id": "lsEwLtCA_fue"
      },
      "execution_count": null,
      "outputs": []
    },
    {
      "cell_type": "code",
      "source": [
        "solution(9, 91)"
      ],
      "metadata": {
        "colab": {
          "base_uri": "https://localhost:8080/"
        },
        "id": "ao0UZJ3sAWxB",
        "outputId": "948609bd-1508-462f-bead-7bae34e9a897"
      },
      "execution_count": null,
      "outputs": [
        {
          "output_type": "execute_result",
          "data": {
            "text/plain": [
              "991"
            ]
          },
          "metadata": {},
          "execution_count": 5
        }
      ]
    },
    {
      "cell_type": "markdown",
      "source": [
        "### midpoint 2 (240208)"
      ],
      "metadata": {
        "id": "zCopjnyLEnCs"
      }
    },
    {
      "cell_type": "markdown",
      "source": [
        "#### 두 수의 연산값 비교하기\n",
        "```\n",
        "연산 ⊕는 두 정수에 대한 연산으로 두 정수를 붙여서 쓴 값을 반환합니다. 예를 들면 다음과 같습니다.\n",
        "\n",
        "12 ⊕ 3 = 123\n",
        "3 ⊕ 12 = 312\n",
        "양의 정수 a와 b가 주어졌을 때, a ⊕ b와 2 * a * b 중 더 큰 값을 return하는 solution 함수를 완성해 주세요.\n",
        "\n",
        "단, a ⊕ b와 2 * a * b가 같으면 a ⊕ b를 return 합니다.\n",
        "```"
      ],
      "metadata": {
        "id": "utNxRMs62l9R"
      }
    },
    {
      "cell_type": "code",
      "source": [
        "def solution(a, b):\n",
        "    sum_ab = int(str(a)+str(b))\n",
        "    return sum_ab if sum_ab == (2*a*b) else max(sum_ab, (2*a*b))"
      ],
      "metadata": {
        "id": "vjCXx4vZ2yC4"
      },
      "execution_count": null,
      "outputs": []
    },
    {
      "cell_type": "code",
      "source": [
        "solution(12, 3)"
      ],
      "metadata": {
        "colab": {
          "base_uri": "https://localhost:8080/"
        },
        "id": "jM7P8Zuo31NH",
        "outputId": "3f298f92-66fb-48bd-81fe-3f0b13a88064"
      },
      "execution_count": null,
      "outputs": [
        {
          "output_type": "execute_result",
          "data": {
            "text/plain": [
              "123"
            ]
          },
          "metadata": {},
          "execution_count": 2
        }
      ]
    },
    {
      "cell_type": "markdown",
      "source": [
        "#### n의 배수\n",
        "```\n",
        "정수 num과 n이 매개 변수로 주어질 때, num이 n의 배수이면 1을 return n의 배수가 아니라면 0을 return하도록 solution 함수를 완성해주세요.\n",
        "```"
      ],
      "metadata": {
        "id": "NkabwH-135R-"
      }
    },
    {
      "cell_type": "code",
      "source": [
        "def solution(num, n):\n",
        "    return 1 if num%n==0 else 0"
      ],
      "metadata": {
        "id": "KsOsg3uY4Cvs"
      },
      "execution_count": null,
      "outputs": []
    },
    {
      "cell_type": "code",
      "source": [
        "solution(10, 5)"
      ],
      "metadata": {
        "colab": {
          "base_uri": "https://localhost:8080/"
        },
        "id": "MgDJxr7U4QDe",
        "outputId": "ab2264d2-5fdb-4b04-e1bf-fd954ac81809"
      },
      "execution_count": null,
      "outputs": [
        {
          "output_type": "execute_result",
          "data": {
            "text/plain": [
              "1"
            ]
          },
          "metadata": {},
          "execution_count": 4
        }
      ]
    },
    {
      "cell_type": "markdown",
      "source": [
        "#### 공배수\n",
        "```\n",
        "정수 number와 n, m이 주어집니다. number가 n의 배수이면서 m의 배수이면 1을 아니라면 0을 return하도록 solution 함수를 완성해주세요.\n",
        "```"
      ],
      "metadata": {
        "id": "dmlxqon54R3g"
      }
    },
    {
      "cell_type": "code",
      "source": [
        "def solution(number, n, m):\n",
        "    return 1 if number % n == 0 and number % m == 0 else 0"
      ],
      "metadata": {
        "id": "rScodgVo4YII"
      },
      "execution_count": null,
      "outputs": []
    },
    {
      "cell_type": "code",
      "source": [
        "solution(15, 3, 5)"
      ],
      "metadata": {
        "colab": {
          "base_uri": "https://localhost:8080/"
        },
        "id": "9ERLwMHRBn7m",
        "outputId": "24e140b5-0ade-4b87-ff1c-41101afa2557"
      },
      "execution_count": null,
      "outputs": [
        {
          "output_type": "execute_result",
          "data": {
            "text/plain": [
              "1"
            ]
          },
          "metadata": {},
          "execution_count": 6
        }
      ]
    },
    {
      "cell_type": "markdown",
      "source": [
        "#### 홀짝에 따라 다른 값 반환하기\n",
        "```\n",
        "양의 정수 n이 매개변수로 주어질 때, n이 홀수라면 n 이하의 홀수인 모든 양의 정수의 합을 return 하고\n",
        "n이 짝수라면 n 이하의 짝수인 모든 양의 정수의 제곱의 합을 return 하는 solution 함수를 작성해 주세요.\n",
        "\n",
        "```"
      ],
      "metadata": {
        "id": "7Ar3LUKIBqoR"
      }
    },
    {
      "cell_type": "code",
      "source": [
        "def solution(n):\n",
        "    if n % 2 != 0:\n",
        "        return sum(i for i in range(1, n+1, 2))\n",
        "    else:\n",
        "        return sum(i*i for i in range(2, n+1, 2))"
      ],
      "metadata": {
        "id": "zu6W-7IxEyb7"
      },
      "execution_count": null,
      "outputs": []
    },
    {
      "cell_type": "markdown",
      "source": [
        "#### 조건 문자열\n",
        "```\n",
        "문자열에 따라 다음과 같이 두 수의 크기를 비교하려고 합니다.\n",
        "\n",
        "두 수가 n과 m이라면\n",
        "\">\", \"=\" : n >= m\n",
        "\"<\", \"=\" : n <= m\n",
        "\">\", \"!\" : n > m\n",
        "\"<\", \"!\" : n < m\n",
        "두 문자열 ineq와 eq가 주어집니다. ineq는 \"<\"와 \">\"중 하나고, eq는 \"=\"와 \"!\"중 하나입니다.\n",
        "그리고 두 정수 n과 m이 주어질 때, n과 m이 ineq와 eq의 조건에 맞으면 1을 아니면 0을 return하도록 solution 함수를 완성해주세요.\n",
        "```"
      ],
      "metadata": {
        "id": "f9DGZvvYH2Ob"
      }
    },
    {
      "cell_type": "code",
      "source": [
        "# 개무식하게 풀었다. 다시는 이딴식으로 풀지 말자.\n",
        "def solution(ineq, eq, n, m):\n",
        "    if eq == \"=\":\n",
        "        if ineq == \">\" and (n >= m):\n",
        "            return 1\n",
        "        elif ineq == \"<\" and (n <= m):\n",
        "            return 1\n",
        "        else:\n",
        "            return 0\n",
        "    else:\n",
        "        if ineq == \">\" and (n > m):\n",
        "            return 1\n",
        "        elif ineq == \"<\" and (n < m):\n",
        "            return 1\n",
        "        else:\n",
        "            return 0"
      ],
      "metadata": {
        "id": "APjGP7QwH7_5"
      },
      "execution_count": null,
      "outputs": []
    },
    {
      "cell_type": "code",
      "source": [
        "# 한방 코드...ㅋ\n",
        "def solution(ineq, eq, n, m):\n",
        "    return int(eval(str(n)+ineq+eq.replace('!', '')+str(m)))"
      ],
      "metadata": {
        "id": "P_Fy47mcKW9B"
      },
      "execution_count": null,
      "outputs": []
    },
    {
      "cell_type": "code",
      "source": [
        "# 다른버전\n",
        "def solution(ineq, eq, n, m):\n",
        "    answer = 0\n",
        "    if n > m and ineq ==\">\":\n",
        "        answer = 1\n",
        "    elif n < m and ineq == \"<\":\n",
        "        answer = 1\n",
        "    elif n == m and eq == \"=\":\n",
        "        answer = 1\n",
        "\n",
        "    return answer"
      ],
      "metadata": {
        "id": "MNS5cvc4KhNi"
      },
      "execution_count": null,
      "outputs": []
    },
    {
      "cell_type": "markdown",
      "source": [
        "#### flag에 따라 다른 값 반환하기\n",
        "```\n",
        "두 정수 a, b와 boolean 변수 flag가 매개변수로 주어질 때, flag가 true면 a + b를 false면 a - b를 return 하는 solution 함수를 작성해 주세요.\n",
        "```"
      ],
      "metadata": {
        "id": "pThyyxAnKaeY"
      }
    },
    {
      "cell_type": "code",
      "source": [
        "def solution(a, b, flag):\n",
        "    return a+b if flag else a-b"
      ],
      "metadata": {
        "id": "-c9dq9YILGtu"
      },
      "execution_count": null,
      "outputs": []
    },
    {
      "cell_type": "markdown",
      "source": [
        "### midpoint 3 (240209)"
      ],
      "metadata": {
        "id": "qJN4oeeJUiC-"
      }
    },
    {
      "cell_type": "markdown",
      "source": [
        "#### 코드 처리하기\n",
        "```\n",
        "문자열 code가 주어집니다.\n",
        "code를 앞에서부터 읽으면서 만약 문자가 \"1\"이면 mode를 바꿉니다. mode에 따라 code를 읽어가면서 문자열 ret을 만들어냅니다.\n",
        "\n",
        "mode는 0과 1이 있으며, idx를 0 부터 code의 길이 - 1 까지 1씩 키워나가면서 code[idx]의 값에 따라 다음과 같이 행동합니다.\n",
        "\n",
        "mode가 0일 때\n",
        "code[idx]가 \"1\"이 아니면 idx가 짝수일 때만 ret의 맨 뒤에 code[idx]를 추가합니다.\n",
        "code[idx]가 \"1\"이면 mode를 0에서 1로 바꿉니다.\n",
        "mode가 1일 때\n",
        "code[idx]가 \"1\"이 아니면 idx가 홀수일 때만 ret의 맨 뒤에 code[idx]를 추가합니다.\n",
        "code[idx]가 \"1\"이면 mode를 1에서 0으로 바꿉니다.\n",
        "문자열 code를 통해 만들어진 문자열 ret를 return 하는 solution 함수를 완성해 주세요.\n",
        "\n",
        "단, 시작할 때 mode는 0이며, return 하려는 ret가 만약 빈 문자열이라면 대신 \"EMPTY\"를 return 합니다.\n",
        "```"
      ],
      "metadata": {
        "id": "rZ_h5UrPLZF9"
      }
    },
    {
      "cell_type": "code",
      "source": [
        "def solution(code):\n",
        "    mode = 0\n",
        "    ret = ''\n",
        "    for idx in range(len(code)):\n",
        "        if mode == 0:\n",
        "            if code[idx] != \"1\" and idx % 2 == 0:\n",
        "                ret += code[idx]\n",
        "            elif code[idx] == \"1\":\n",
        "                mode = 1\n",
        "        else:\n",
        "            if code[idx] != \"1\" and idx % 2 != 0:\n",
        "                ret += code[idx]\n",
        "            elif code[idx] == \"1\":\n",
        "                mode = 0\n",
        "    return ret if ret else \"EMPTY\""
      ],
      "metadata": {
        "id": "5BtRZCTOLe8K"
      },
      "execution_count": null,
      "outputs": []
    },
    {
      "cell_type": "code",
      "source": [
        "# 미친듯이 간결하다. 변태코딩.\n",
        "def solution(code):\n",
        "    return \"\".join(code.split(\"1\"))[::2] or \"EMPTY\""
      ],
      "metadata": {
        "id": "kjwDuJPkXQTA"
      },
      "execution_count": null,
      "outputs": []
    },
    {
      "cell_type": "code",
      "source": [
        "# 더 직관적이다.\n",
        "def solution(code):\n",
        "    answer = ''\n",
        "\n",
        "    mode = 0\n",
        "    for i in range(len(code)):\n",
        "        if code[i] == '1':\n",
        "            mode ^= 1\n",
        "        else:\n",
        "            if i % 2 == mode:\n",
        "                answer += code[i]\n",
        "\n",
        "    return answer if answer else 'EMPTY'"
      ],
      "metadata": {
        "id": "IuAoCeXjXonG"
      },
      "execution_count": null,
      "outputs": []
    },
    {
      "cell_type": "markdown",
      "source": [
        "#### 등차수열의 특정한 항만 더하기\n",
        "```\n",
        "두 정수 a, d와 길이가 n인 boolean 배열 included가 주어집니다.\n",
        "첫째항이 a, 공차가 d인 등차수열에서 included[i]가 i + 1항을 의미할 때,\n",
        "이 등차수열의 1항부터 n항까지 included가 true인 항들만 더한 값을 return 하는 solution 함수를 작성해 주세요.\n",
        "```"
      ],
      "metadata": {
        "id": "-wL8BxFEX1zF"
      }
    },
    {
      "cell_type": "code",
      "source": [
        "def solution(a, b, included):\n",
        "    seq = [a+b*i for i in range(len(included))]\n",
        "    result = sum([seq[k] for k in range(len(seq)) if included[k] == True])\n",
        "    return result"
      ],
      "metadata": {
        "colab": {
          "base_uri": "https://localhost:8080/"
        },
        "id": "iNN7fgeFZ7gW",
        "outputId": "81c8480b-5338-4456-eaed-005c3044f63a"
      },
      "execution_count": null,
      "outputs": [
        {
          "output_type": "execute_result",
          "data": {
            "text/plain": [
              "37"
            ]
          },
          "metadata": {},
          "execution_count": 20
        }
      ]
    },
    {
      "cell_type": "markdown",
      "source": [
        "#### 주사위 게임 2\n",
        "```\n",
        "1부터 6까지 숫자가 적힌 주사위가 세 개 있습니다. 세 주사위를 굴렸을 때 나온 숫자를 각각 a, b, c라고 했을 때 얻는 점수는 다음과 같습니다.\n",
        "\n",
        "세 숫자가 모두 다르다면 a + b + c 점을 얻습니다.\n",
        "세 숫자 중 어느 두 숫자는 같고 나머지 다른 숫자는 다르다면 (a + b + c) × (a2 + b2 + c2 )점을 얻습니다.\n",
        "세 숫자가 모두 같다면 (a + b + c) × (a2 + b2 + c2 ) × (a3 + b3 + c3 )점을 얻습니다.\n",
        "세 정수 a, b, c가 매개변수로 주어질 때, 얻는 점수를 return 하는 solution 함수를 작성해 주세요.\n",
        "```"
      ],
      "metadata": {
        "id": "EkFwN5z_ybRn"
      }
    },
    {
      "cell_type": "code",
      "source": [
        "def solution(a, b, c):\n",
        "    result = 0\n",
        "    if a != b and b != c and a != c:\n",
        "        result = a + b + c\n",
        "    elif a == b == c:\n",
        "        result = (a+b+c) * (a**2+b**2+c**2) * (a**3+b**3+c**3)\n",
        "    else:\n",
        "        result = (a+b+c) * (a**2+b**2+c**2)\n",
        "    return result"
      ],
      "metadata": {
        "id": "J2tE6s6P1ga4"
      },
      "execution_count": null,
      "outputs": []
    },
    {
      "cell_type": "code",
      "source": [
        "# set을 활용한 풀이. set을 까먹고있었다!\n",
        "def solution(a, b, c):\n",
        "    check=len(set([a,b,c]))\n",
        "    if check==1:\n",
        "        return 3*a*3*(a**2)*3*(a**3)\n",
        "    elif check==2:\n",
        "        return (a+b+c)*(a**2+b**2+c**2)\n",
        "    else:\n",
        "        return (a+b+c)"
      ],
      "metadata": {
        "id": "tX7I433p5jaI"
      },
      "execution_count": null,
      "outputs": []
    },
    {
      "cell_type": "markdown",
      "source": [
        "#### 원소들의 곱과 합\n",
        "```\n",
        "정수가 담긴 리스트 num_list가 주어질 때, 모든 원소들의 곱이 모든 원소들의 합의 제곱보다 작으면 1을 크면 0을 return하도록 solution 함수를 완성해주세요.\n",
        "```"
      ],
      "metadata": {
        "id": "WkTLdouq5n6T"
      }
    },
    {
      "cell_type": "code",
      "source": [
        "def solution(num_list):\n",
        "    mul_result = eval(\"*\".join(str(i) for i in num_list))\n",
        "    return 1 if mul_result < sum(num_list)**2 else 0"
      ],
      "metadata": {
        "colab": {
          "base_uri": "https://localhost:8080/"
        },
        "id": "JAtSQZZs5ukg",
        "outputId": "fc7b142f-f906-4c28-82c1-a87aa4f797b8"
      },
      "execution_count": null,
      "outputs": [
        {
          "output_type": "execute_result",
          "data": {
            "text/plain": [
              "1"
            ]
          },
          "metadata": {},
          "execution_count": 25
        }
      ]
    },
    {
      "cell_type": "markdown",
      "source": [
        "#### 이어 붙인 수\n",
        "```\n",
        "정수가 담긴 리스트 num_list가 주어집니다. num_list의 홀수만 순서대로 이어 붙인 수와 짝수만 순서대로 이어 붙인 수의 합을 return하도록 solution 함수를 완성해주세요.\n",
        "```"
      ],
      "metadata": {
        "id": "ZKZnHm4Y9E4C"
      }
    },
    {
      "cell_type": "code",
      "source": [
        "def solution(num_list):\n",
        "    odd = ''\n",
        "    even = ''\n",
        "    for i in num_list:\n",
        "        if i % 2 == 0:\n",
        "            even += str(i)\n",
        "        else:\n",
        "            odd += str(i)\n",
        "    return eval(f\"{odd} + {even}\")"
      ],
      "metadata": {
        "id": "AKPXF0fb9J5R"
      },
      "execution_count": null,
      "outputs": []
    },
    {
      "cell_type": "markdown",
      "source": [
        "#### 마지막 두 원소\n",
        "```\n",
        "정수 리스트 num_list가 주어질 때, 마지막 원소가 그전 원소보다 크면 마지막 원소에서 그전 원소를 뺀 값을\n",
        "마지막 원소가 그전 원소보다 크지 않다면 마지막 원소를 두 배한 값을 추가하여 return하도록 solution 함수를 완성해주세요.\n",
        "```"
      ],
      "metadata": {
        "id": "U_048Cmn-Cfe"
      }
    },
    {
      "cell_type": "code",
      "source": [
        "def solution(num_list):\n",
        "    lst = num_list[-2:]\n",
        "    if lst[1] > lst[0]:\n",
        "        num_list.append(lst[1] - lst[0])\n",
        "    else:\n",
        "        num_list.append(lst[1] * 2)\n",
        "    return num_list"
      ],
      "metadata": {
        "id": "HPRt41PK-F3p"
      },
      "execution_count": null,
      "outputs": []
    },
    {
      "cell_type": "markdown",
      "source": [
        "#### 수 조작하기\n",
        "```\n",
        "정수 n과 문자열 control이 주어집니다.\n",
        "control은 \"w\", \"a\", \"s\", \"d\"의 4개의 문자로 이루어져 있으며, control의 앞에서부터 순서대로 문자에 따라 n의 값을 바꿉니다.\n",
        "\n",
        "\"w\" : n이 1 커집니다.\n",
        "\"s\" : n이 1 작아집니다.\n",
        "\"d\" : n이 10 커집니다.\n",
        "\"a\" : n이 10 작아집니다.\n",
        "위 규칙에 따라 n을 바꿨을 때 가장 마지막에 나오는 n의 값을 return 하는 solution 함수를 완성해 주세요.\n",
        "```"
      ],
      "metadata": {
        "id": "mcQvJPvnAZ59"
      }
    },
    {
      "cell_type": "code",
      "source": [
        "def solution(n, control):\n",
        "    for i in control:\n",
        "        if i == \"w\":\n",
        "            n += 1\n",
        "        elif i == \"s\":\n",
        "            n -= 1\n",
        "        elif i == \"d\":\n",
        "            n += 10\n",
        "        else:\n",
        "            n -= 10\n",
        "    return n"
      ],
      "metadata": {
        "id": "R5U6b9CvBfqi"
      },
      "execution_count": null,
      "outputs": []
    },
    {
      "cell_type": "code",
      "source": [
        "# zip을 사용한 간결한 풀이! 머리를 쓰고 살자 ㅎㅎㅎㅎ\n",
        "def solution(n, control):\n",
        "    key = dict(zip(['w','s','d','a'], [1,-1,10,-10]))\n",
        "    return n + sum([key[c] for c in control])"
      ],
      "metadata": {
        "id": "jY-kJkBKCNhk"
      },
      "execution_count": null,
      "outputs": []
    },
    {
      "cell_type": "code",
      "source": [
        "# count를 사용하는 방법도 있다. 그래도 위 코드가 더 이쁜듯.\n",
        "def solution(n, control):\n",
        "    return n + 10*(control.count('d')-control.count('a')) + (control.count('w')-control.count('s'))"
      ],
      "metadata": {
        "id": "InHWCm6TCkBP"
      },
      "execution_count": null,
      "outputs": []
    },
    {
      "cell_type": "markdown",
      "source": [
        "#### 수 조작하기 2\n",
        "```\n",
        "정수 배열 numLog가 주어집니다. 처음에 numLog[0]에서 부터 시작해 \"w\", \"a\", \"s\", \"d\"로 이루어진 문자열을 입력으로 받아 순서대로 다음과 같은 조작을 했다고 합시다.\n",
        "\n",
        "\"w\" : 수에 1을 더한다.\n",
        "\"s\" : 수에 1을 뺀다.\n",
        "\"d\" : 수에 10을 더한다.\n",
        "\"a\" : 수에 10을 뺀다.\n",
        "그리고 매번 조작을 할 때마다 결괏값을 기록한 정수 배열이 numLog입니다. 즉, numLog[i]는 numLog[0]로부터 총 i번의 조작을 가한 결과가 저장되어 있습니다.\n",
        "\n",
        "주어진 정수 배열 numLog에 대해 조작을 위해 입력받은 문자열을 return 하는 solution 함수를 완성해 주세요.\n",
        "```"
      ],
      "metadata": {
        "id": "LpN9Y4xRCZ9k"
      }
    },
    {
      "cell_type": "code",
      "source": [
        "def solution(numLog):\n",
        "    string = ''\n",
        "    for i in range(1, len(numLog)):\n",
        "        result = numLog[i] - numLog[i-1]\n",
        "        if result == 1:\n",
        "            string += 'w'\n",
        "        elif result == -1:\n",
        "            string += 's'\n",
        "        elif result == 10:\n",
        "            string += 'd'\n",
        "        else:\n",
        "            string += 'a'\n",
        "    return string"
      ],
      "metadata": {
        "id": "TV3Sdh0pCtSr"
      },
      "execution_count": null,
      "outputs": []
    },
    {
      "cell_type": "code",
      "source": [
        "# 딕셔너리에 바로 접근하는 방법도 있었네...\n",
        "def solution(log):\n",
        "    res=''\n",
        "    joystick=dict(zip([1,-1,10,-10],['w','s','d','a']))\n",
        "    for i in range(1,len(log)):\n",
        "        res+=joystick[log[i]-log[i-1]]\n",
        "    return res"
      ],
      "metadata": {
        "id": "4MfGnFzlAPT2"
      },
      "execution_count": null,
      "outputs": []
    },
    {
      "cell_type": "markdown",
      "source": [
        "#### 수열과 구간 쿼리 3\n",
        "```\n",
        "정수 배열 arr와 2차원 정수 배열 queries이 주어집니다. queries의 원소는 각각 하나의 query를 나타내며, [i, j] 꼴입니다.\n",
        "\n",
        "각 query마다 순서대로 arr[i]의 값과 arr[j]의 값을 서로 바꿉니다.\n",
        "\n",
        "위 규칙에 따라 queries를 처리한 이후의 arr를 return 하는 solution 함수를 완성해 주세요.\n",
        "```"
      ],
      "metadata": {
        "id": "xPST_qkhAnaI"
      }
    },
    {
      "cell_type": "code",
      "source": [
        "def solution(arr, queries):\n",
        "    for i in range(len(queries)):\n",
        "        q1, q2 = queries[i]\n",
        "        arr[q1], arr[q2] = arr[q2], arr[q1]\n",
        "    return arr"
      ],
      "metadata": {
        "id": "ZgcHgv_7AuXS"
      },
      "execution_count": null,
      "outputs": []
    },
    {
      "cell_type": "code",
      "source": [
        "# 굳이 queries[i]로 안빼줘도 됐었네???\n",
        "def solution(arr, queries):\n",
        "    for a,b in queries:\n",
        "        arr[a],arr[b]=arr[b],arr[a]\n",
        "    return arr"
      ],
      "metadata": {
        "id": "WZdpbJd6C7CB"
      },
      "execution_count": null,
      "outputs": []
    },
    {
      "cell_type": "markdown",
      "source": [
        "#### 수열과 구간 쿼리 2\n",
        "```\n",
        "정수 배열 arr와 2차원 정수 배열 queries이 주어집니다. queries의 원소는 각각 하나의 query를 나타내며, [s, e, k] 꼴입니다.\n",
        "\n",
        "각 query마다 순서대로 s ≤ i ≤ e인 모든 i에 대해 k보다 크면서 가장 작은 arr[i]를 찾습니다.\n",
        "\n",
        "각 쿼리의 순서에 맞게 답을 저장한 배열을 반환하는 solution 함수를 완성해 주세요.\n",
        "단, 특정 쿼리의 답이 존재하지 않으면 -1을 저장합니다.\n",
        "```"
      ],
      "metadata": {
        "id": "LC6QgsRmDAoz"
      }
    },
    {
      "cell_type": "code",
      "source": [
        "def solution(arr, queries):\n",
        "    result = []\n",
        "    for s, e, k in queries:\n",
        "        lst = list(filter(lambda x: x>k, arr[s:e+1]))\n",
        "        result.append(min(lst)) if lst else result.append(-1)\n",
        "    return result\n",
        "\n",
        "solution([0, 1, 2, 4, 3], [[0, 4, 2],[0, 3, 2],[0, 2, 2]])"
      ],
      "metadata": {
        "colab": {
          "base_uri": "https://localhost:8080/"
        },
        "id": "FBCaB6j7DIrX",
        "outputId": "35db2a69-2ea8-4723-8f2c-95834f27cfc0"
      },
      "execution_count": null,
      "outputs": [
        {
          "output_type": "execute_result",
          "data": {
            "text/plain": [
              "[3, 4, -1]"
            ]
          },
          "metadata": {},
          "execution_count": 15
        }
      ]
    },
    {
      "cell_type": "markdown",
      "source": [
        "#### 수열과 구간 쿼리 4\n",
        "```\n",
        "정수 배열 arr와 2차원 정수 배열 queries이 주어집니다. queries의 원소는 각각 하나의 query를 나타내며, [s, e, k] 꼴입니다.\n",
        "\n",
        "각 query마다 순서대로 s ≤ i ≤ e인 모든 i에 대해 i가 k의 배수이면 arr[i]에 1을 더합니다.\n",
        "\n",
        "위 규칙에 따라 queries를 처리한 이후의 arr를 return 하는 solution 함수를 완성해 주세요.\n",
        "```"
      ],
      "metadata": {
        "id": "CmQvt-1sF4-G"
      }
    },
    {
      "cell_type": "code",
      "source": [
        "def solution(arr, queries):\n",
        "    for s, e, k in queries:\n",
        "        for i in range(s, e+1):\n",
        "            if k != 0 and i%k == 0:\n",
        "                arr[i] += 1\n",
        "    return arr"
      ],
      "metadata": {
        "colab": {
          "base_uri": "https://localhost:8080/"
        },
        "id": "trI_H4z9IouN",
        "outputId": "bf1f68d0-725c-41ee-e4fa-b9eec2faaaac"
      },
      "execution_count": null,
      "outputs": [
        {
          "output_type": "execute_result",
          "data": {
            "text/plain": [
              "[1, 2, 3, 5, 4]"
            ]
          },
          "metadata": {},
          "execution_count": 36
        }
      ]
    },
    {
      "cell_type": "code",
      "source": [
        "# 다른사람 답안. k가 0인경우 에러. <- 참고함\n",
        "def solution(arr, queries):\n",
        "    for s, e, k in queries:\n",
        "        for i in range(s, e+1):\n",
        "            if i%k == 0:\n",
        "                arr[i] += 1\n",
        "    return arr"
      ],
      "metadata": {
        "id": "L2fY7vjfLNEI"
      },
      "execution_count": null,
      "outputs": []
    },
    {
      "cell_type": "markdown",
      "source": [
        "### midpoint 4"
      ],
      "metadata": {
        "id": "YAEZWw-Qboro"
      }
    },
    {
      "cell_type": "markdown",
      "source": [
        "#### 배열 만들기 2\n",
        "```\n",
        "정수 l과 r이 주어졌을 때, l 이상 r이하의 정수 중에서 숫자 \"0\"과 \"5\"로만 이루어진 모든 정수를 오름차순으로 저장한 배열을 return 하는 solution 함수를 완성해 주세요.\n",
        "\n",
        "만약 그러한 정수가 없다면, -1이 담긴 배열을 return 합니다.\n",
        "```"
      ],
      "metadata": {
        "id": "y5S0O2BcK7lO"
      }
    },
    {
      "cell_type": "code",
      "source": [
        "def solution(l, r):\n",
        "    arr = [i for i in range(l, r+1) if not set(str(i)) - {'0', '5'}]\n",
        "    return arr if arr else [-1]"
      ],
      "metadata": {
        "id": "5cLpLEkxLANv"
      },
      "execution_count": null,
      "outputs": []
    },
    {
      "cell_type": "code",
      "source": [
        "# 기발한 코드;; 생각해보자...\n",
        "def solution(l, r):\n",
        "    answer = []\n",
        "    i = 1\n",
        "    n = 5\n",
        "\n",
        "    while True:\n",
        "        if n > r: break\n",
        "        n = 5 * int(bin(i)[2:])\n",
        "        if l <= n <= r:\n",
        "            answer.append(n)\n",
        "        i += 1\n",
        "\n",
        "    return [-1] if len(answer) == 0 else answer"
      ],
      "metadata": {
        "id": "NwK-7sDHMWtF"
      },
      "execution_count": null,
      "outputs": []
    },
    {
      "cell_type": "markdown",
      "source": [
        "#### 카운트 업\n",
        "```\n",
        "정수 start_num와 end_num가 주어질 때, start_num부터 end_num까지의 숫자를 차례로 담은 리스트를 return하도록 solution 함수를 완성해주세요.\n",
        "```"
      ],
      "metadata": {
        "id": "0SiJzgoFMfg5"
      }
    },
    {
      "cell_type": "code",
      "source": [
        "def solution(start_num, end_num):\n",
        "    return [i for i in range(start_num, end_num+1)]"
      ],
      "metadata": {
        "id": "4F4NKZ6ySGht"
      },
      "execution_count": null,
      "outputs": []
    },
    {
      "cell_type": "markdown",
      "source": [
        "#### 콜라츠 수열 만들기\n",
        "```\n",
        "모든 자연수 x에 대해서 현재 값이 x이면 x가 짝수일 때는 2로 나누고,\n",
        "x가 홀수일 때는 3 * x + 1로 바꾸는 계산을 계속해서 반복하면 언젠가는 반드시 x가 1이 되는지 묻는 문제를 콜라츠 문제라고 부릅니다.\n",
        "\n",
        "그리고 위 과정에서 거쳐간 모든 수를 기록한 수열을 콜라츠 수열이라고 부릅니다.\n",
        "\n",
        "계산 결과 1,000 보다 작거나 같은 수에 대해서는 전부 언젠가 1에 도달한다는 것이 알려져 있습니다.\n",
        "\n",
        "임의의 1,000 보다 작거나 같은 양의 정수 n이 주어질 때 초기값이 n인 콜라츠 수열을 return 하는 solution 함수를 완성해 주세요.\n",
        "```"
      ],
      "metadata": {
        "id": "dfnabNdaSVK_"
      }
    },
    {
      "cell_type": "code",
      "source": [
        "def solution(n):\n",
        "    arr = [n]\n",
        "    while n != 1:\n",
        "        if n % 2 == 0:\n",
        "            n = n // 2\n",
        "            arr.append(n)\n",
        "        else:\n",
        "            n = 3 * n + 1\n",
        "            arr.append(n)\n",
        "    return arr"
      ],
      "metadata": {
        "id": "a3SrbLRQSZIt"
      },
      "execution_count": null,
      "outputs": []
    },
    {
      "cell_type": "code",
      "source": [
        "# 처음에 while n == 1: 이라고 적어서 돌아가지 않았다...ㅎㅎ"
      ],
      "metadata": {
        "id": "RlL5xCAZT1eV"
      },
      "execution_count": null,
      "outputs": []
    },
    {
      "cell_type": "markdown",
      "source": [
        "#### 배열 만들기 4\n",
        "```\n",
        "정수 배열 arr가 주어집니다. arr를 이용해 새로운 배열 stk를 만드려고 합니다.\n",
        "\n",
        "변수 i를 만들어 초기값을 0으로 설정한 후 i가 arr의 길이보다 작으면 다음 작업을 반복합니다.\n",
        "\n",
        "만약 stk가 빈 배열이라면 arr[i]를 stk에 추가하고 i에 1을 더합니다.\n",
        "stk에 원소가 있고, stk의 마지막 원소가 arr[i]보다 작으면 arr[i]를 stk의 뒤에 추가하고 i에 1을 더합니다.\n",
        "stk에 원소가 있는데 stk의 마지막 원소가 arr[i]보다 크거나 같으면 stk의 마지막 원소를 stk에서 제거합니다.\n",
        "위 작업을 마친 후 만들어진 stk를 return 하는 solution 함수를 완성해 주세요.\n",
        "```"
      ],
      "metadata": {
        "id": "6R5VQxeXYM7p"
      }
    },
    {
      "cell_type": "code",
      "source": [
        "def solution(arr):\n",
        "    i = 0\n",
        "    stk = []\n",
        "    while i < len(arr):\n",
        "        if not stk:\n",
        "            stk.append(arr[i])\n",
        "            i += 1\n",
        "        elif stk[-1] < arr[i]:\n",
        "            stk.append(arr[i])\n",
        "            i += 1\n",
        "        elif stk[-1] >= arr[i]:\n",
        "            del stk[-1]\n",
        "    return stk"
      ],
      "metadata": {
        "id": "EZAlRAq5YQNC"
      },
      "execution_count": null,
      "outputs": []
    },
    {
      "cell_type": "markdown",
      "source": [
        "#### 간단한 논리 연산\n",
        "```\n",
        "boolean 변수 x1, x2, x3, x4가 매개변수로 주어질 때, 다음의 식의 true/false를 return 하는 solution 함수를 작성해 주세요.\n",
        "\n",
        "(x1 ∨ x2) ∧ (x3 ∨ x4)\n",
        "```"
      ],
      "metadata": {
        "id": "upAleFYDaO5l"
      }
    },
    {
      "cell_type": "code",
      "source": [
        "def solution(x1, x2, x3, x4):\n",
        "    return (x1 or x2) and (x3 or x4)"
      ],
      "metadata": {
        "id": "27FGTW-laSzR"
      },
      "execution_count": null,
      "outputs": []
    },
    {
      "cell_type": "markdown",
      "source": [
        "### midpoint 5"
      ],
      "metadata": {
        "id": "eW-EdFeQca8y"
      }
    },
    {
      "cell_type": "markdown",
      "source": [
        "#### 주사위 게임 3\n",
        "```\n",
        "1부터 6까지 숫자가 적힌 주사위가 네 개 있습니다. 네 주사위를 굴렸을 때 나온 숫자에 따라 다음과 같은 점수를 얻습니다.\n",
        "\n",
        "네 주사위에서 나온 숫자가 모두 p로 같다면 1111 × p점을 얻습니다.\n",
        "세 주사위에서 나온 숫자가 p로 같고 나머지 다른 주사위에서 나온 숫자가 q(p ≠ q)라면 (10 × p + q)2 점을 얻습니다.\n",
        "주사위가 두 개씩 같은 값이 나오고, 나온 숫자를 각각 p, q(p ≠ q)라고 한다면 (p + q) × |p - q|점을 얻습니다.\n",
        "어느 두 주사위에서 나온 숫자가 p로 같고 나머지 두 주사위에서 나온 숫자가 각각 p와 다른 q, r(q ≠ r)이라면 q × r점을 얻습니다.\n",
        "네 주사위에 적힌 숫자가 모두 다르다면 나온 숫자 중 가장 작은 숫자 만큼의 점수를 얻습니다.\n",
        "네 주사위를 굴렸을 때 나온 숫자가 정수 매개변수 a, b, c, d로 주어질 때, 얻는 점수를 return 하는 solution 함수를 작성해 주세요.\n",
        "```\n"
      ],
      "metadata": {
        "id": "VK4nGeccapYB"
      }
    },
    {
      "cell_type": "code",
      "source": [
        "def solution(a, b, c, d):\n",
        "    result = 0\n",
        "    arr = [a, b, c, d]\n",
        "    dic = {i:arr.count(i) for i in arr}\n",
        "    sorted_dic = sorted(dic, key=lambda x: dic[x])\n",
        "\n",
        "    if len(dic) == 1:\n",
        "        result = 1111 * a\n",
        "    elif len(dic) == 2:\n",
        "        if max(dic.values()) == 3:\n",
        "            p = sorted_dic[1]\n",
        "            q = sorted_dic[0]\n",
        "            result = (10 * p + q) ** 2\n",
        "        else:\n",
        "            p, q = sorted_dic\n",
        "            result = (p + q) * abs(p - q)\n",
        "    elif len(dic) == 3:\n",
        "        p = sorted_dic[2]\n",
        "        q, r = sorted_dic[0], sorted_dic[1]\n",
        "        result = q * r\n",
        "    else:\n",
        "        result = min(dic)\n",
        "    return result\n",
        "\n",
        "solution(4, 1, 4, 4)"
      ],
      "metadata": {
        "colab": {
          "base_uri": "https://localhost:8080/"
        },
        "id": "n3XhJ2cLatGf",
        "outputId": "92cabbad-42dc-40cd-c9e9-4ead9e9ca51b"
      },
      "execution_count": null,
      "outputs": [
        {
          "output_type": "execute_result",
          "data": {
            "text/plain": [
              "1681"
            ]
          },
          "metadata": {},
          "execution_count": 25
        }
      ]
    },
    {
      "cell_type": "code",
      "source": [
        "# 이리저리 헤매다가 겨우 짰지만 너무 길다...^^\n",
        "# 다른분들 코드 보니 10줄은 적은 경우도 있다.\n",
        "# 굳이 딕셔너리를 쓰지 않고 각 정수의 카운트값을 리스트로 담아줬어도 됐는데ㅜㅜ\n",
        "\n",
        "# 여튼 이리저리 생각해볼만한 문제였다."
      ],
      "metadata": {
        "id": "ci2ZQW7MUY4N"
      },
      "execution_count": null,
      "outputs": []
    },
    {
      "cell_type": "markdown",
      "source": [
        "#### 글자 이어 붙여 문자열 만들기\n",
        "```\n",
        "문자열 my_string과 정수 배열 index_list가 매개변수로 주어집니다.\n",
        "my_string의 index_list의 원소들에 해당하는 인덱스의 글자들을\n",
        "순서대로 이어 붙인 문자열을 return 하는 solution 함수를 작성해 주세요.\n",
        "```"
      ],
      "metadata": {
        "id": "EW4wILxCcWf9"
      }
    },
    {
      "cell_type": "code",
      "source": [
        "def solution(my_string, index_list):\n",
        "    result = ''\n",
        "    for i in index_list:\n",
        "        result += my_string[i]\n",
        "    return result"
      ],
      "metadata": {
        "id": "WT1Xy1wscoxj"
      },
      "execution_count": null,
      "outputs": []
    },
    {
      "cell_type": "markdown",
      "source": [
        "#### 9로 나눈 나머지\n",
        "```\n",
        "음이 아닌 정수를 9로 나눈 나머지는 그 정수의 각 자리 숫자의 합을 9로 나눈 나머지와 같은 것이 알려져 있습니다.\n",
        "이 사실을 이용하여 음이 아닌 정수가 문자열 number로 주어질 때, 이 정수를 9로 나눈 나머지를 return 하는 solution 함수를 작성해주세요.\n",
        "```"
      ],
      "metadata": {
        "id": "RhXou19jdpAj"
      }
    },
    {
      "cell_type": "code",
      "source": [
        "def solution(number):\n",
        "    return int(number) % 9"
      ],
      "metadata": {
        "id": "1ntt7AHcdtzT"
      },
      "execution_count": null,
      "outputs": []
    },
    {
      "cell_type": "markdown",
      "source": [
        "#### 문자열 여러 번 뒤집기\n",
        "```\n",
        "문자열 my_string과 이차원 정수 배열 queries가 매개변수로 주어집니다.\n",
        "queries의 원소는 [s, e] 형태로, my_string의 인덱스 s부터 인덱스 e까지를 뒤집으라는 의미입니다.\n",
        "my_string에 queries의 명령을 순서대로 처리한 후의 문자열을 return 하는 solution 함수를 작성해 주세요.\n",
        "```"
      ],
      "metadata": {
        "id": "I8EWcswWeIvE"
      }
    },
    {
      "cell_type": "code",
      "source": [
        "def solution(my_string, queries):\n",
        "    result = my_string\n",
        "    for s, e in queries:\n",
        "        result = result[:s] + result[s:e+1][::-1] + result[e+1:]\n",
        "    return result\n",
        "# 사실 중간에 result[s:e+1:-1]로 작성하는 바람에 무한 에러에 빠져버림...\n",
        "# 다른분 코드를 참고했다ㅜㅜ 바보같은 짓을;;"
      ],
      "metadata": {
        "id": "CSKV1-1geNSj"
      },
      "execution_count": null,
      "outputs": []
    },
    {
      "cell_type": "code",
      "source": [
        "# 다른 풀이. 리스트를 이용한 풀이인데 더 신박하다.\n",
        "def solution(my_string, queries):\n",
        "    answer=list(my_string)\n",
        "    for s,e in queries:\n",
        "        answer[s:e+1]=answer[s:e+1][::-1]\n",
        "    return ''.join(answer)"
      ],
      "metadata": {
        "id": "i-iCE5IwlS47"
      },
      "execution_count": null,
      "outputs": []
    },
    {
      "cell_type": "markdown",
      "source": [
        "#### 배열 만들기 5\n",
        "```\n",
        "문자열 배열 intStrs와 정수 k, s, l가 주어집니다. intStrs의 원소는 숫자로 이루어져 있습니다.\n",
        "\n",
        "배열 intStrs의 각 원소마다 s번 인덱스에서 시작하는 길이 l짜리 부분 문자열을 잘라내 정수로 변환합니다.\n",
        "이때 변환한 정수값이 k보다 큰 값들을 담은 배열을 return 하는 solution 함수를 완성해 주세요.\n",
        "```"
      ],
      "metadata": {
        "id": "GN2gvwLOmSbG"
      }
    },
    {
      "cell_type": "code",
      "source": [
        "def solution(intStrs, k, s, l):\n",
        "    result = []\n",
        "    for nums in intStrs:\n",
        "        int_nums = int(nums[s:s+l])\n",
        "        result.append(int_nums) if int_nums > k else None\n",
        "    return result"
      ],
      "metadata": {
        "id": "MKXLk4tqmpmE"
      },
      "execution_count": null,
      "outputs": []
    },
    {
      "cell_type": "code",
      "source": [
        "'python'[1:1+4]"
      ],
      "metadata": {
        "colab": {
          "base_uri": "https://localhost:8080/",
          "height": 36
        },
        "id": "mKeoaokCndQn",
        "outputId": "8134517d-d524-4182-c2f9-df4f6208a1d4"
      },
      "execution_count": null,
      "outputs": [
        {
          "output_type": "execute_result",
          "data": {
            "text/plain": [
              "'ytho'"
            ],
            "application/vnd.google.colaboratory.intrinsic+json": {
              "type": "string"
            }
          },
          "metadata": {},
          "execution_count": 72
        }
      ]
    },
    {
      "cell_type": "markdown",
      "source": [
        "#### 부분 문자열 이어 붙여 문자열 만들기\n",
        "```\n",
        "길이가 같은 문자열 배열 my_strings와 이차원 정수 배열 parts가 매개변수로 주어집니다.\n",
        "parts[i]는 [s, e] 형태로, my_string[i]의 인덱스 s부터 인덱스 e까지의 부분 문자열을 의미합니다.\n",
        "각 my_strings의 원소의 parts에 해당하는 부분 문자열을 순서대로 이어 붙인 문자열을 return 하는 solution 함수를 작성해 주세요.\n",
        "```"
      ],
      "metadata": {
        "id": "YedWphtSnic7"
      }
    },
    {
      "cell_type": "code",
      "source": [
        "def solution(my_string, parts):\n",
        "    result = ''\n",
        "    for i in range(len(parts)):\n",
        "        l = my_string[i]\n",
        "        s, e = parts[i]\n",
        "        result += l[s:e+1]\n",
        "    return result"
      ],
      "metadata": {
        "id": "PwZoqJvUofVd"
      },
      "execution_count": null,
      "outputs": []
    },
    {
      "cell_type": "code",
      "source": [
        "# 다양한 한줄코드들이 있지만 가독성이 너무 떨어졌다.\n",
        "# 간지 == 한줄코드  가 아님을 깨달았다...ㅎㅎ"
      ],
      "metadata": {
        "id": "GXbygOSvp_bt"
      },
      "execution_count": null,
      "outputs": []
    },
    {
      "cell_type": "markdown",
      "source": [
        "### midpoint 6"
      ],
      "metadata": {
        "id": "pxL08T7ewOge"
      }
    },
    {
      "cell_type": "markdown",
      "source": [
        "#### 문자열의 뒤의 n글자\n",
        "```\n",
        "문자열 my_string과 정수 n이 매개변수로 주어질 때,\n",
        "my_string의 뒤의 n글자로 이루어진 문자열을 return 하는 solution 함수를 작성해 주세요.\n",
        "```"
      ],
      "metadata": {
        "id": "Fpx72fMOwSPu"
      }
    },
    {
      "cell_type": "code",
      "source": [
        "def solution(my_string, n):\n",
        "    return my_string[-n:]"
      ],
      "metadata": {
        "id": "Cz7bLBS6wdKo"
      },
      "execution_count": null,
      "outputs": []
    },
    {
      "cell_type": "markdown",
      "source": [
        "#### 접미사 배열\n",
        "```\n",
        "어떤 문자열에 대해서 접미사는 특정 인덱스부터 시작하는 문자열을 의미합니다.\n",
        "예를 들어, \"banana\"의 모든 접미사는 \"banana\", \"anana\", \"nana\", \"ana\", \"na\", \"a\"입니다.\n",
        "문자열 my_string이 매개변수로 주어질 때,\n",
        "my_string의 모든 접미사를 사전순으로 정렬한 문자열 배열을 return 하는 solution 함수를 작성해 주세요.\n",
        "```"
      ],
      "metadata": {
        "id": "qVh-RTUXwzK-"
      }
    },
    {
      "cell_type": "code",
      "source": [
        "def solution(my_string):\n",
        "    result = []\n",
        "    for i in range(len(my_string)):\n",
        "        result.append(my_string[i:])\n",
        "    return sorted(result)"
      ],
      "metadata": {
        "id": "PU5mdpFkw1NW"
      },
      "execution_count": null,
      "outputs": []
    },
    {
      "cell_type": "code",
      "source": [
        "# 그래도 이건 한줄풀이가 낫다.\n",
        "def solution(my_string):\n",
        "    return sorted(my_string[i:] for i in range(len(my_string)))"
      ],
      "metadata": {
        "id": "FSfFqtxzxbj6"
      },
      "execution_count": null,
      "outputs": []
    },
    {
      "cell_type": "markdown",
      "source": [
        "#### 접미사인지 확인하기\n",
        "```\n",
        "어떤 문자열에 대해서 접미사는 특정 인덱스부터 시작하는 문자열을 의미합니다.\n",
        "예를 들어, \"banana\"의 모든 접미사는 \"banana\", \"anana\", \"nana\", \"ana\", \"na\", \"a\"입니다.\n",
        "문자열 my_string과 is_suffix가 주어질 때, is_suffix가 my_string의 접미사라면 1을,\n",
        "아니면 0을 return 하는 solution 함수를 작성해 주세요.\n",
        "```"
      ],
      "metadata": {
        "id": "rg3Dgk1txjAP"
      }
    },
    {
      "cell_type": "code",
      "source": [
        "def solution(my_string, is_suffix):\n",
        "    l = [my_string[i:] for i in range(len(my_string))]\n",
        "    return 1 if is_suffix in l else 0"
      ],
      "metadata": {
        "id": "0Opi3NWCxpjW"
      },
      "execution_count": null,
      "outputs": []
    },
    {
      "cell_type": "markdown",
      "source": [
        "#### 문자열의 앞의 n글자\n",
        "```\n",
        "문자열 my_string과 정수 n이 매개변수로 주어질 때, my_string의 앞의 n글자로 이루어진 문자열을 return 하는 solution 함수를 작성해 주세요.\n",
        "```"
      ],
      "metadata": {
        "id": "6ZEZEPzXyGzq"
      }
    },
    {
      "cell_type": "code",
      "source": [
        "def solution(my_string, n):\n",
        "    return my_string[:n]"
      ],
      "metadata": {
        "id": "jtHJ86DjyJjP"
      },
      "execution_count": null,
      "outputs": []
    },
    {
      "cell_type": "markdown",
      "source": [
        "#### 접두사인지 확인하기\n",
        "```\n",
        "어떤 문자열에 대해서 접두사는 특정 인덱스까지의 문자열을 의미합니다. 예를 들어, \"banana\"의 모든 접두사는 \"b\", \"ba\", \"ban\", \"bana\", \"banan\", \"banana\"입니다.\n",
        "문자열 my_string과 is_prefix가 주어질 때, is_prefix가 my_string의 접두사라면 1을, 아니면 0을 return 하는 solution 함수를 작성해 주세요.\n",
        "```"
      ],
      "metadata": {
        "id": "P0cYX1Y_yWGA"
      }
    },
    {
      "cell_type": "code",
      "source": [
        "def solution(my_string, is_prefix):\n",
        "    l = [my_string[:i] for i in range(len(my_string))]\n",
        "    return 1 if is_prefix in l else 0"
      ],
      "metadata": {
        "id": "bSmI-nE3yu0r"
      },
      "execution_count": null,
      "outputs": []
    },
    {
      "cell_type": "markdown",
      "source": [
        "#### 문자열 뒤집기\n",
        "```\n",
        "문자열 my_string과 정수 s, e가 매개변수로 주어질 때, my_string에서 인덱스 s부터 인덱스 e까지를 뒤집은 문자열을 return 하는 solution 함수를 작성해 주세요.\n",
        "```"
      ],
      "metadata": {
        "id": "yVbstfFHzWSo"
      }
    },
    {
      "cell_type": "code",
      "source": [
        "def solution(my_string, s, e):\n",
        "    return my_string[:s] + my_string[s:e+1][::-1] + my_string[e+1:]"
      ],
      "metadata": {
        "id": "4jx6M_W0zaoW"
      },
      "execution_count": null,
      "outputs": []
    },
    {
      "cell_type": "markdown",
      "source": [
        "#### 세로 읽기\n",
        "```\n",
        "문자열 my_string과 두 정수 m, c가 주어집니다.\n",
        "my_string을 한 줄에 m 글자씩 가로로 적었을 때 왼쪽부터 세로로 c번째 열에 적힌 글자들을 문자열로 return 하는 solution 함수를 작성해 주세요.\n",
        "```"
      ],
      "metadata": {
        "id": "ZVCjtk_m1aqP"
      }
    },
    {
      "cell_type": "code",
      "source": [
        "def solution(my_string, m, c):\n",
        "    return my_string[c-1::m]"
      ],
      "metadata": {
        "id": "GHp2OT7Q1dSD"
      },
      "execution_count": null,
      "outputs": []
    },
    {
      "cell_type": "markdown",
      "source": [
        "#### qr code\n",
        "```\n",
        "두 정수 q, r과 문자열 code가 주어질 때, code의 각 인덱스를 q로 나누었을 때 나머지가 r인 위치의 문자를\n",
        "앞에서부터 순서대로 이어 붙인 문자열을 return 하는 solution 함수를 작성해 주세요.\n",
        "```"
      ],
      "metadata": {
        "id": "XcIfVMbk2ayo"
      }
    },
    {
      "cell_type": "code",
      "source": [
        "def solution(q, r, code):\n",
        "    string = ''\n",
        "    for i in range(len(code)):\n",
        "        if i % q == r:\n",
        "            string += code[i]\n",
        "    return string"
      ],
      "metadata": {
        "id": "j65caZsL2qvx"
      },
      "execution_count": null,
      "outputs": []
    },
    {
      "cell_type": "code",
      "source": [
        "# 세로 읽기 문제랑 똑같이 생각하면 되는거였다.\n",
        "# 반복되는건 인지했는데 짱구를 더 굴리지 못했다^^\n",
        "def solution(q, r, code):\n",
        "    return code[r::q]"
      ],
      "metadata": {
        "id": "qvBHMgYtmTsn"
      },
      "execution_count": null,
      "outputs": []
    },
    {
      "cell_type": "markdown",
      "source": [
        "#### 문자 개수 세기\n",
        "```\n",
        "알파벳 대소문자로만 이루어진 문자열 my_string이 주어질 때,\n",
        "my_string에서 'A'의 개수, my_string에서 'B'의 개수,..., my_string에서 'Z'의 개수,\n",
        "my_string에서 'a'의 개수, my_string에서 'b'의 개수,..., my_string에서 'z'의 개수를\n",
        "순서대로 담은 길이 52의 정수 배열을 return 하는 solution 함수를 작성해 주세요.\n",
        "```"
      ],
      "metadata": {
        "id": "fWM1C4YImaXX"
      }
    },
    {
      "cell_type": "code",
      "source": [
        "# 아스키코드 잘 몰라서 검색해보고 풀었다.\n",
        "# A-Z: 65~90, a-z: 97~122\n",
        "# 대문자는 0~25 소문자는 26~51 => 0~51인덱스 총 52개의 배열\n",
        "def solution(my_string):\n",
        "    result = [0] * 52\n",
        "    for i in my_string:\n",
        "        if i.isupper():\n",
        "            x = 65\n",
        "        else:\n",
        "            x = 71\n",
        "        result[ord(i) - x] += 1\n",
        "    return result"
      ],
      "metadata": {
        "id": "wPEhau_ymu8V"
      },
      "execution_count": null,
      "outputs": []
    },
    {
      "cell_type": "markdown",
      "source": [
        "#### 배열 만들기 1\n",
        "```\n",
        "정수 n과 k가 주어졌을 때, 1 이상 n이하의 정수 중에서 k의 배수를 오름차순으로 저장한 배열을 return 하는 solution 함수를 완성해 주세요.\n",
        "```"
      ],
      "metadata": {
        "id": "-6vUAeWHqav0"
      }
    },
    {
      "cell_type": "code",
      "source": [
        "def solution(n, k):\n",
        "    return sorted([i for i in range(k, n+1, k)])"
      ],
      "metadata": {
        "id": "QJVP9t2wrUvb"
      },
      "execution_count": null,
      "outputs": []
    },
    {
      "cell_type": "markdown",
      "source": [
        "#### 글자 지우기\n",
        "```\n",
        "문자열 my_string과 정수 배열 indices가 주어질 때,\n",
        "my_string에서 indices의 원소에 해당하는 인덱스의 글자를 지우고 이어 붙인 문자열을\n",
        "return 하는 solution 함수를 작성해 주세요.\n",
        "```"
      ],
      "metadata": {
        "id": "LPlAO_8RrqtJ"
      }
    },
    {
      "cell_type": "code",
      "source": [
        "def solution(my_string, indices):\n",
        "    s = list(my_string)\n",
        "    for i in indices:\n",
        "        s[i] = \"\"\n",
        "    return \"\".join(s)"
      ],
      "metadata": {
        "id": "8IR-bE3BsRc4"
      },
      "execution_count": null,
      "outputs": []
    },
    {
      "cell_type": "markdown",
      "source": [
        "#### 카운트 다운\n",
        "```\n",
        "정수 start_num와 end_num가 주어질 때, start_num에서 end_num까지 1씩 감소하는 수들을 차례로 담은 리스트를 return하도록 solution 함수를 완성해주세요.\n",
        "```"
      ],
      "metadata": {
        "id": "oKFBGhuBs00M"
      }
    },
    {
      "cell_type": "code",
      "source": [
        "def solution(start_num, end_num):\n",
        "    return [i for i in range(start_num, end_num-1, -1)]"
      ],
      "metadata": {
        "id": "30EJdTretYjB"
      },
      "execution_count": null,
      "outputs": []
    },
    {
      "cell_type": "markdown",
      "source": [
        "#### 가까운 1 찾기\n",
        "```\n",
        "정수 배열 arr가 주어집니다. 이때 arr의 원소는 1 또는 0입니다. 정수 idx가 주어졌을 때,\n",
        "idx보다 크면서 배열의 값이 1인 가장 작은 인덱스를 찾아서 반환하는 solution 함수를 완성해 주세요.\n",
        "\n",
        "단, 만약 그러한 인덱스가 없다면 -1을 반환합니다.\n",
        "```"
      ],
      "metadata": {
        "id": "vmz8Yr53t2Gr"
      }
    },
    {
      "cell_type": "code",
      "source": [
        "def solution(arr, idx):\n",
        "    result = []\n",
        "    for i in range(len(arr)):\n",
        "        if i >= idx and arr[i] == 1:\n",
        "            result.append(i)\n",
        "    return min(result) if result else -1"
      ],
      "metadata": {
        "id": "gvWIY7xpt4i8"
      },
      "execution_count": null,
      "outputs": []
    },
    {
      "cell_type": "code",
      "source": [
        "# 몰랐던 함수 기능!\n",
        "# index의 두번째 인자는 시작인덱스를 의미한다.\n",
        "def solution(arr, idx):\n",
        "    answer = 0\n",
        "    try:\n",
        "        answer = arr.index(1, idx)\n",
        "    except:\n",
        "        answer = -1\n",
        "    return answer"
      ],
      "metadata": {
        "id": "sD2rEmtrunoh"
      },
      "execution_count": null,
      "outputs": []
    },
    {
      "cell_type": "markdown",
      "source": [
        "#### 리스트 자르기\n",
        "```\n",
        "정수 n과 정수 3개가 담긴 리스트 slicer 그리고 정수 여러 개가 담긴 리스트 num_list가 주어집니다.\n",
        "slicer에 담긴 정수를 차례대로 a, b, c라고 할 때, n에 따라 다음과 같이 num_list를 슬라이싱 하려고 합니다.\n",
        "\n",
        "n = 1 : num_list의 0번 인덱스부터 b번 인덱스까지\n",
        "n = 2 : num_list의 a번 인덱스부터 마지막 인덱스까지\n",
        "n = 3 : num_list의 a번 인덱스부터 b번 인덱스까지\n",
        "n = 4 : num_list의 a번 인덱스부터 b번 인덱스까지 c 간격으로\n",
        "올바르게 슬라이싱한 리스트를 return하도록 solution 함수를 완성해주세요.\n",
        "```"
      ],
      "metadata": {
        "id": "xua6u4VBxGw0"
      }
    },
    {
      "cell_type": "code",
      "source": [
        "def solution(n, slicer, num_list):\n",
        "    a, b, c = slicer\n",
        "    if n == 1:\n",
        "        return num_list[:b+1]\n",
        "    elif n == 2:\n",
        "        return num_list[a:]\n",
        "    elif n == 3:\n",
        "        return num_list[a:b+1]\n",
        "    else:\n",
        "        return num_list[a:b+1:c]"
      ],
      "metadata": {
        "id": "Rek8nke8xKye"
      },
      "execution_count": null,
      "outputs": []
    },
    {
      "cell_type": "markdown",
      "source": [
        "#### 첫 번째로 나오는 음수\n",
        "```\n",
        "정수 리스트 num_list가 주어질 때, 첫 번째로 나오는 음수의 인덱스를 return하도록 solution 함수를 완성해주세요. 음수가 없다면 -1을 return합니다.\n",
        "```"
      ],
      "metadata": {
        "id": "o-h0F8s-y1Jg"
      }
    },
    {
      "cell_type": "code",
      "source": [
        "def solution(num_list):\n",
        "    result = 0\n",
        "    for i in range(len(num_list)):\n",
        "        if num_list[i] < 0:\n",
        "            return i\n",
        "    return -1"
      ],
      "metadata": {
        "id": "mbLmAc5cy3zw"
      },
      "execution_count": null,
      "outputs": []
    },
    {
      "cell_type": "markdown",
      "source": [
        "#### 배열 만들기 3\n",
        "```\n",
        "정수 배열 arr와 2개의 구간이 담긴 배열 intervals가 주어집니다.\n",
        "\n",
        "intervals는 항상 [[a1, b1], [a2, b2]]의 꼴로 주어지며 각 구간은 닫힌 구간입니다. 닫힌 구간은 양 끝값과 그 사이의 값을 모두 포함하는 구간을 의미합니다.\n",
        "\n",
        "이때 배열 arr의 첫 번째 구간에 해당하는 배열과 두 번째 구간에 해당하는 배열을 앞뒤로 붙여 새로운 배열을 만들어 return 하는 solution 함수를 완성해 주세요.\n",
        "```"
      ],
      "metadata": {
        "id": "klkpqg2_1bnT"
      }
    },
    {
      "cell_type": "code",
      "source": [
        "def solution(arr, intervals):\n",
        "    result = []\n",
        "    for a, b in intervals:\n",
        "        result.extend(arr[a:b+1])\n",
        "    return result"
      ],
      "metadata": {
        "id": "nCMI9Rls1d3r"
      },
      "execution_count": null,
      "outputs": []
    },
    {
      "cell_type": "markdown",
      "source": [
        "#### 2의 영역\n",
        "```\n",
        "정수 배열 arr가 주어집니다. 배열 안의 2가 모두 포함된 가장 작은 연속된 부분 배열을 return 하는 solution 함수를 완성해 주세요.\n",
        "\n",
        "단, arr에 2가 없는 경우 [-1]을 return 합니다.\n",
        "```"
      ],
      "metadata": {
        "id": "DdDcKlLi1n89"
      }
    },
    {
      "cell_type": "code",
      "source": [
        "def solution(arr):\n",
        "    p = -1\n",
        "    if 2 in arr:\n",
        "        p = arr.index(2)\n",
        "    else:\n",
        "        return [-1]\n",
        "\n",
        "    for i in range(len(arr)):\n",
        "        if arr[i] == 2:\n",
        "            curr = i\n",
        "    return arr[p:curr+1]"
      ],
      "metadata": {
        "id": "s9D4U2zF1svC"
      },
      "execution_count": null,
      "outputs": []
    },
    {
      "cell_type": "code",
      "source": [
        "# 간결한 코드...!\n",
        "# 신박한 방법이다;; 뒤집으면 되는구나\n",
        "def solution(arr):\n",
        "    if 2 not in arr:\n",
        "        return [-1]\n",
        "    return arr[arr.index(2) : len(arr) - arr[::-1].index(2)]"
      ],
      "metadata": {
        "id": "t-FF18yc_65p"
      },
      "execution_count": null,
      "outputs": []
    },
    {
      "cell_type": "markdown",
      "source": [
        "#### 배열 조각하기\n",
        "```\n",
        "정수 배열 arr와 query가 주어집니다.\n",
        "\n",
        "query를 순회하면서 다음 작업을 반복합니다.\n",
        "\n",
        "짝수 인덱스에서는 arr에서 query[i]번 인덱스를 제외하고 배열의 query[i]번 인덱스 뒷부분을 잘라서 버립니다.\n",
        "홀수 인덱스에서는 arr에서 query[i]번 인덱스는 제외하고 배열의 query[i]번 인덱스 앞부분을 잘라서 버립니다.\n",
        "위 작업을 마친 후 남은 arr의 부분 배열을 return 하는 solution 함수를 완성해 주세요.\n",
        "```"
      ],
      "metadata": {
        "id": "TiGzb_PIALWu"
      }
    },
    {
      "cell_type": "code",
      "source": [
        "def solution(arr, query):\n",
        "    for i in range(len(query)):\n",
        "        if i % 2 == 0:\n",
        "            arr = arr[:query[i]+1]\n",
        "        else:\n",
        "            arr = arr[query[i]:]\n",
        "    return arr"
      ],
      "metadata": {
        "id": "s8oZvjNnAU9B"
      },
      "execution_count": null,
      "outputs": []
    },
    {
      "cell_type": "markdown",
      "source": [
        "### midpoint 7"
      ],
      "metadata": {
        "id": "ErJ8IRHuPWHj"
      }
    },
    {
      "cell_type": "markdown",
      "source": [
        "#### n 번째 원소부터\n",
        "```\n",
        "정수 리스트 num_list와 정수 n이 주어질 때, n 번째 원소부터 마지막 원소까지의 모든 원소를 담은 리스트를 return하도록 solution 함수를 완성해주세요.\n",
        "```"
      ],
      "metadata": {
        "id": "ucUFbTtSPXn7"
      }
    },
    {
      "cell_type": "code",
      "source": [
        "def solution(num_list, n):\n",
        "    return num_list[n-1:]"
      ],
      "metadata": {
        "id": "9OxRtV7cPd9b"
      },
      "execution_count": null,
      "outputs": []
    },
    {
      "cell_type": "markdown",
      "source": [
        "#### 순서 바꾸기\n",
        "```\n",
        "정수 리스트 num_list와 정수 n이 주어질 때, num_list를 n 번째 원소 이후의 원소들과 n 번째까지의 원소들로 나눠\n",
        "n 번째 원소 이후의 원소들을 n 번째까지의 원소들 앞에 붙인 리스트를 return하도록 solution 함수를 완성해주세요.\n",
        "```"
      ],
      "metadata": {
        "id": "_QGdEt71QAyz"
      }
    },
    {
      "cell_type": "code",
      "source": [
        "def solution(num_list, n):\n",
        "    return num_list[n:] + num_list[:n]"
      ],
      "metadata": {
        "id": "KMTcjTfbQEvZ"
      },
      "execution_count": null,
      "outputs": []
    },
    {
      "cell_type": "markdown",
      "source": [
        "#### 왼쪽 오른쪽\n",
        "```\n",
        "문자열 리스트 str_list에는 \"u\", \"d\", \"l\", \"r\" 네 개의 문자열이 여러 개 저장되어 있습니다.\n",
        "str_list에서 \"l\"과 \"r\" 중 먼저 나오는 문자열이 \"l\"이라면 해당 문자열을 기준으로 왼쪽에 있는 문자열들을 순서대로 담은 리스트를,\n",
        "먼저 나오는 문자열이 \"r\"이라면 해당 문자열을 기준으로 오른쪽에 있는 문자열들을 순서대로 담은 리스트를 return하도록 solution 함수를 완성해주세요.\n",
        "\"l\"이나 \"r\"이 없다면 빈 리스트를 return합니다.\n",
        "```"
      ],
      "metadata": {
        "id": "hSL_NuDrQhlj"
      }
    },
    {
      "cell_type": "code",
      "source": [
        "def solution(str_list):\n",
        "    if (\"l\" not in str_list) and (\"r\" not in str_list):\n",
        "        return []\n",
        "    else:\n",
        "        if \"l\" not in str_list:\n",
        "            return str_list[str_list.index(\"r\")+1:]\n",
        "        elif \"r\" not in str_list:\n",
        "            return str_list[:str_list.index(\"l\")]\n",
        "        else:\n",
        "            l = str_list.index(\"l\")\n",
        "            r = str_list.index(\"r\")\n",
        "\n",
        "            if l < r:\n",
        "                return str_list[:l]\n",
        "            else:\n",
        "                return str_list[r+1:]"
      ],
      "metadata": {
        "id": "rdDI7B-yQj8N"
      },
      "execution_count": null,
      "outputs": []
    },
    {
      "cell_type": "code",
      "source": [
        "# 쓸데없이 헷갈리게 만든 문제;;\n",
        "# l과 r 모두 없을때만 빈 리스트를 반환"
      ],
      "metadata": {
        "id": "IatjpPHQY54m"
      },
      "execution_count": null,
      "outputs": []
    },
    {
      "cell_type": "markdown",
      "source": [
        "#### n 번째 원소까지\n",
        "```\n",
        "정수 리스트 num_list와 정수 n이 주어질 때, num_list의 첫 번째 원소부터 n 번째 원소까지의 모든 원소를 담은 리스트를 return하도록 solution 함수를 완성해주세요.\n",
        "```"
      ],
      "metadata": {
        "id": "itLFpbRmZEqW"
      }
    },
    {
      "cell_type": "code",
      "source": [
        "def solution(num_list, n):\n",
        "    return num_list[:n]"
      ],
      "metadata": {
        "id": "hIX7PsljZKyy"
      },
      "execution_count": null,
      "outputs": []
    },
    {
      "cell_type": "markdown",
      "source": [
        "#### n개 간격의 원소들\n",
        "```\n",
        "정수 리스트 num_list와 정수 n이 주어질 때, num_list의 첫 번째 원소부터 마지막 원소까지 n개 간격으로 저장되어있는 원소들을\n",
        "차례로 담은 리스트를 return하도록 solution 함수를 완성해주세요.\n",
        "```"
      ],
      "metadata": {
        "id": "7pg7e9aUZZge"
      }
    },
    {
      "cell_type": "code",
      "source": [
        "def solution(num_list, n):\n",
        "    return num_list[::n]"
      ],
      "metadata": {
        "id": "v6459gBBZcq8"
      },
      "execution_count": null,
      "outputs": []
    },
    {
      "cell_type": "markdown",
      "source": [
        "#### 홀수 vs 짝수\n",
        "```\n",
        "정수 리스트 num_list가 주어집니다.\n",
        "가장 첫 번째 원소를 1번 원소라고 할 때, 홀수 번째 원소들의 합과 짝수 번째 원소들의 합 중 큰 값을 return 하도록 solution 함수를 완성해주세요.\n",
        "두 값이 같을 경우 그 값을 return합니다.\n",
        "```"
      ],
      "metadata": {
        "id": "moLaO53XZwgP"
      }
    },
    {
      "cell_type": "code",
      "source": [
        "def solution(num_list):\n",
        "    return max(sum(num_list[::2]), sum(num_list[1::2]))"
      ],
      "metadata": {
        "id": "niiNTeBIZ1--"
      },
      "execution_count": null,
      "outputs": []
    },
    {
      "cell_type": "markdown",
      "source": [
        "#### 5명씩\n",
        "```\n",
        "최대 5명씩 탑승가능한 놀이기구를 타기 위해 줄을 서있는 사람들의 이름이 담긴 문자열 리스트 names가 주어질 때,\n",
        "앞에서 부터 5명씩 묶은 그룹의 가장 앞에 서있는 사람들의 이름을 담은 리스트를 return하도록 solution 함수를 완성해주세요.\n",
        "마지막 그룹이 5명이 되지 않더라도 가장 앞에 있는 사람의 이름을 포함합니다.\n",
        "```"
      ],
      "metadata": {
        "id": "3mkyTazvaM2W"
      }
    },
    {
      "cell_type": "code",
      "source": [
        "def solution(names):\n",
        "    return names[::5]"
      ],
      "metadata": {
        "id": "qIgTLBwnaQ9D"
      },
      "execution_count": null,
      "outputs": []
    },
    {
      "cell_type": "markdown",
      "source": [
        "#### 할 일 목록\n",
        "```\n",
        "오늘 해야 할 일이 담긴 문자열 배열 todo_list와 각각의 일을 지금 마쳤는지를 나타내는 boolean 배열 finished가 매개변수로 주어질 때,\n",
        "todo_list에서 아직 마치지 못한 일들을 순서대로 담은 문자열 배열을 return 하는 solution 함수를 작성해 주세요.\n",
        "```"
      ],
      "metadata": {
        "id": "EQH2ImBWajNc"
      }
    },
    {
      "cell_type": "code",
      "source": [
        "def solution(todo_list, finished):\n",
        "    return list(filter(lambda x: finished[todo_list.index(x)] == False, todo_list))"
      ],
      "metadata": {
        "id": "78rrIxnhalM9"
      },
      "execution_count": null,
      "outputs": []
    },
    {
      "cell_type": "markdown",
      "source": [
        "#### n보다 커질 때까지 더하기\n",
        "```\n",
        "정수 배열 numbers와 정수 n이 매개변수로 주어집니다.\n",
        "numbers의 원소를 앞에서부터 하나씩 더하다가 그 합이 n보다 커지는 순간 이때까지 더했던 원소들의 합을 return 하는 solution 함수를 작성해 주세요.\n",
        "```"
      ],
      "metadata": {
        "id": "tn8y6dF7bqNi"
      }
    },
    {
      "cell_type": "code",
      "source": [
        "def solution(numbers, n):\n",
        "    result = 0\n",
        "    for num in numbers:\n",
        "        if result <= n:\n",
        "            result += num\n",
        "    return result"
      ],
      "metadata": {
        "id": "GiZ5l7avbwvT"
      },
      "execution_count": null,
      "outputs": []
    },
    {
      "cell_type": "markdown",
      "source": [
        "#### 수열과 구간 쿼리 1\n",
        "```\n",
        "정수 배열 arr와 2차원 정수 배열 queries이 주어집니다. queries의 원소는 각각 하나의 query를 나타내며, [s, e] 꼴입니다.\n",
        "\n",
        "각 query마다 순서대로 s ≤ i ≤ e인 모든 i에 대해 arr[i]에 1을 더합니다.\n",
        "\n",
        "위 규칙에 따라 queries를 처리한 이후의 arr를 return 하는 solution 함수를 완성해 주세요.\n",
        "```"
      ],
      "metadata": {
        "id": "KM8F_Hspc9p6"
      }
    },
    {
      "cell_type": "code",
      "source": [
        "def solution(arr, queries):\n",
        "    for s, e in queries:\n",
        "        for i in range(s, e+1):\n",
        "            arr[i] += 1\n",
        "    return arr"
      ],
      "metadata": {
        "id": "Xsxs7YKFdBaf"
      },
      "execution_count": null,
      "outputs": []
    },
    {
      "cell_type": "markdown",
      "source": [
        "### midpoint 8"
      ],
      "metadata": {
        "id": "RlRo9uba9W_z"
      }
    },
    {
      "cell_type": "markdown",
      "source": [
        "#### 조건에 맞게 수열 변환하기 2\n",
        "```\n",
        "정수 배열 arr가 주어집니다. arr의 각 원소에 대해 값이 50보다 크거나 같은 짝수라면 2로 나누고, 50보다 작은 홀수라면 2를 곱하고 다시 1을 더합니다.\n",
        "\n",
        "이러한 작업을 x번 반복한 결과인 배열을 arr(x)라고 표현했을 때, arr(x) = arr(x + 1)인 x가 항상 존재합니다.\n",
        "이러한 x 중 가장 작은 값을 return 하는 solution 함수를 완성해 주세요.\n",
        "\n",
        "단, 두 배열에 대한 \"=\"는 두 배열의 크기가 서로 같으며, 같은 인덱스의 원소가 각각 서로 같음을 의미합니다.\n",
        "```"
      ],
      "metadata": {
        "id": "Y9IrPpIc9o7f"
      }
    },
    {
      "cell_type": "code",
      "source": [
        "def solution(arr):\n",
        "    count = 0\n",
        "    while True:\n",
        "        temp = arr.copy()\n",
        "        for i in range(len(arr)):\n",
        "            if arr[i] >= 50 and arr[i] % 2 == 0:\n",
        "                arr[i] //= 2\n",
        "            elif arr[i] < 50 and arr[i] % 2 == 1:\n",
        "                arr[i] = arr[i] * 2 + 1\n",
        "        if temp == arr:\n",
        "            break\n",
        "        count += 1\n",
        "    return count"
      ],
      "metadata": {
        "id": "vhUfmOK49vgv"
      },
      "execution_count": null,
      "outputs": []
    },
    {
      "cell_type": "code",
      "source": [
        "# AI선생님의 도움을 받았다^^*"
      ],
      "metadata": {
        "id": "R6KvbcJvAln_"
      },
      "execution_count": null,
      "outputs": []
    },
    {
      "cell_type": "markdown",
      "source": [
        "#### 1로 만들기\n",
        "```\n",
        "정수가 있을 때, 짝수라면 반으로 나누고, 홀수라면 1을 뺀 뒤 반으로 나누면, 마지막엔 1이 됩니다. 예를 들어 10이 있다면 다음과 같은 과정으로 1이 됩니다.\n",
        "\n",
        "10 / 2 = 5\n",
        "(5 - 1) / 2 = 4\n",
        "4 / 2 = 2\n",
        "2 / 2 = 1\n",
        "위와 같이 4번의 나누기 연산으로 1이 되었습니다.\n",
        "\n",
        "정수들이 담긴 리스트 num_list가 주어질 때, num_list의 모든 원소를 1로 만들기 위해서 필요한 나누기 연산의 횟수를 return하도록 solution 함수를 완성해주세요.\n",
        "```"
      ],
      "metadata": {
        "id": "isvmqq6xB9UD"
      }
    },
    {
      "cell_type": "code",
      "source": [
        "def solution(num_list):\n",
        "    count = 0\n",
        "    answer = [1] * len(num_list)\n",
        "    while answer != num_list:\n",
        "        for i in range(len(num_list)):\n",
        "            if num_list[i] % 2 == 0 and num_list[i] != 1:\n",
        "                num_list[i] //= 2\n",
        "                count += 1\n",
        "            else:\n",
        "                num_list[i] = (num_list[i] - 1) // 2\n",
        "                count += 1\n",
        "    return count"
      ],
      "metadata": {
        "id": "0uNNiLmKCGRC"
      },
      "execution_count": null,
      "outputs": []
    },
    {
      "cell_type": "code",
      "source": [
        "# 이것도 내 풀이는 복잡도에 걸려버려서 AI선생님을 통해 수정^^"
      ],
      "metadata": {
        "id": "W16ceM5GFkGq"
      },
      "execution_count": null,
      "outputs": []
    },
    {
      "cell_type": "markdown",
      "source": [
        "#### 길이에 따른 연산\n",
        "```\n",
        "정수가 담긴 리스트 num_list가 주어질 때, 리스트의 길이가 11 이상이면 리스트에 있는 모든 원소의 합을\n",
        "10 이하이면 모든 원소의 곱을 return하도록 solution 함수를 완성해주세요.\n",
        "```"
      ],
      "metadata": {
        "id": "sRG3ttI4FpFr"
      }
    },
    {
      "cell_type": "code",
      "source": [
        "def solution(num_list):\n",
        "    if len(num_list) >= 11:\n",
        "        return sum(num_list)\n",
        "    else:\n",
        "        result = 1\n",
        "        for i in num_list:\n",
        "            result *= i\n",
        "        return result"
      ],
      "metadata": {
        "id": "ntOvyRo3FwzS"
      },
      "execution_count": null,
      "outputs": []
    },
    {
      "cell_type": "markdown",
      "source": [
        "#### 원하는 문자열 찾기\n",
        "```\n",
        "알파벳으로 이루어진 문자열 myString과 pat이 주어집니다.\n",
        "myString의 연속된 부분 문자열 중 pat이 존재하면 1을 그렇지 않으면 0을 return 하는 solution 함수를 완성해 주세요.\n",
        "\n",
        "단, 알파벳 대문자와 소문자는 구분하지 않습니다.\n",
        "```"
      ],
      "metadata": {
        "id": "HRXV_1n9GnAh"
      }
    },
    {
      "cell_type": "code",
      "source": [
        "def solution(myString, pat):\n",
        "    myString = myString.lower()\n",
        "    pat = pat.lower()\n",
        "    return 1 if pat in myString else 0"
      ],
      "metadata": {
        "id": "pptNX4YmGpB2"
      },
      "execution_count": null,
      "outputs": []
    },
    {
      "cell_type": "markdown",
      "source": [
        "#### 대문자로 바꾸기\n",
        "```\n",
        "알파벳으로 이루어진 문자열 myString이 주어집니다.\n",
        "모든 알파벳을 대문자로 변환하여 return 하는 solution 함수를 완성해 주세요.\n",
        "```"
      ],
      "metadata": {
        "id": "cgqUTL02HLR-"
      }
    },
    {
      "cell_type": "code",
      "source": [
        "def solution(myString):\n",
        "    return myString.upper()"
      ],
      "metadata": {
        "id": "kyG1w64CHOdp"
      },
      "execution_count": null,
      "outputs": []
    },
    {
      "cell_type": "markdown",
      "source": [
        "#### 배열에서 문자열 대소문자 변경하기\n",
        "```\n",
        "문자열 배열 strArr가 주어집니다.\n",
        "모든 원소가 알파벳으로만 이루어져 있을 때, 배열에서 홀수번째 인덱스의 문자열은 모든 문자를 대문자로,\n",
        "짝수번째 인덱스의 문자열은 모든 문자를 소문자로 바꿔서 반환하는 solution 함수를 완성해 주세요.\n",
        "```"
      ],
      "metadata": {
        "id": "paTl33VQkYms"
      }
    },
    {
      "cell_type": "code",
      "source": [
        "def solution(strArr):\n",
        "    for i in range(len(strArr)):\n",
        "        if i % 2 != 0:\n",
        "            strArr[i] = strArr[i].upper()\n",
        "        else:\n",
        "            strArr[i] = strArr[i].lower()\n",
        "    return strArr"
      ],
      "metadata": {
        "id": "VL__mR5gkdxo"
      },
      "execution_count": null,
      "outputs": []
    },
    {
      "cell_type": "code",
      "source": [
        "# enumerate를 사용하는것을 권장한다고 함."
      ],
      "metadata": {
        "id": "SoGKPouHlX8y"
      },
      "execution_count": null,
      "outputs": []
    },
    {
      "cell_type": "code",
      "source": [
        "def solution(strArr):\n",
        "    for i, s in enumerate(strArr):\n",
        "        if i % 2 == 0:\n",
        "            strArr[i] = strArr[i].lower()\n",
        "        else:\n",
        "            strArr[i] = strArr[i].upper()\n",
        "    return strArr\n",
        "# 시간복잡도가 줄어든다."
      ],
      "metadata": {
        "id": "ESWgeGILlbFG"
      },
      "execution_count": null,
      "outputs": []
    },
    {
      "cell_type": "markdown",
      "source": [
        "#### A 강조하기\n",
        "```\n",
        "문자열 myString이 주어집니다. myString에서 알파벳 \"a\"가 등장하면 전부 \"A\"로 변환하고,\n",
        "\"A\"가 아닌 모든 대문자 알파벳은 소문자 알파벳으로 변환하여 return 하는 solution 함수를 완성하세요.\n",
        "```"
      ],
      "metadata": {
        "id": "iyVCr95blzdr"
      }
    },
    {
      "cell_type": "code",
      "source": [
        "def solution(myString):\n",
        "    myString = myString.replace(\"a\", \"A\")\n",
        "    result = ''\n",
        "    for i in myString:\n",
        "        if i.isupper() and i != \"A\":\n",
        "            result += i.lower()\n",
        "        else:\n",
        "            result += i\n",
        "    return result"
      ],
      "metadata": {
        "id": "fqdyYDhDl4G1"
      },
      "execution_count": null,
      "outputs": []
    },
    {
      "cell_type": "code",
      "source": [
        "# 아니 내가 왜 이렇게 안풀었을까?\n",
        "# 잠을 못자서일까?????\n",
        "def solution(myString):\n",
        "    return myString.lower().replace('a', 'A')"
      ],
      "metadata": {
        "id": "oL_cIWjknTgZ"
      },
      "execution_count": null,
      "outputs": []
    },
    {
      "cell_type": "markdown",
      "source": [
        "#### 특정한 문자를 대문자로 바꾸기\n",
        "```\n",
        "영소문자로 이루어진 문자열 my_string과 영소문자 1글자로 이루어진 문자열 alp가 매개변수로 주어질 때,\n",
        "my_string에서 alp에 해당하는 모든 글자를 대문자로 바꾼 문자열을 return 하는 solution 함수를 작성해 주세요.\n",
        "```"
      ],
      "metadata": {
        "id": "L9RbCnLbnZib"
      }
    },
    {
      "cell_type": "code",
      "source": [
        "def solution(my_string, alp):\n",
        "    return my_string.replace(alp, alp.upper())"
      ],
      "metadata": {
        "id": "3ZrJ6JWjni9G"
      },
      "execution_count": null,
      "outputs": []
    },
    {
      "cell_type": "markdown",
      "source": [
        "#### 특정 문자열로 끝나는 가장 긴 부분 문자열 찾기\n",
        "```\n",
        "문자열 myString과 pat가 주어집니다. myString의 부분 문자열중 pat로 끝나는 가장 긴 부분 문자열을 찾아서 return 하는 solution 함수를 완성해 주세요.\n",
        "```"
      ],
      "metadata": {
        "id": "iQwvnMJSnzV7"
      }
    },
    {
      "cell_type": "code",
      "source": [
        "def solution(myString, pat):\n",
        "    idx = myString.rindex(pat)\n",
        "    return myString[:idx+len(pat)]"
      ],
      "metadata": {
        "id": "GV47j-Msn28Y"
      },
      "execution_count": null,
      "outputs": []
    },
    {
      "cell_type": "code",
      "source": [
        "# rindex를 사용하면 오른쪽(끝)에서부터 탐색한다."
      ],
      "metadata": {
        "colab": {
          "base_uri": "https://localhost:8080/"
        },
        "id": "sj84IZRrorqj",
        "outputId": "b06a69e0-90db-498a-b403-31e8e104e7ad"
      },
      "execution_count": null,
      "outputs": [
        {
          "output_type": "execute_result",
          "data": {
            "text/plain": [
              "12"
            ]
          },
          "metadata": {},
          "execution_count": 12
        }
      ]
    },
    {
      "cell_type": "markdown",
      "source": [
        "#### 문자열이 몇 번 등장하는지 세기\n",
        "```\n",
        "문자열 myString과 pat이 주어집니다. myString에서 pat이 등장하는 횟수를 return 하는 solution 함수를 완성해 주세요.\n",
        "```"
      ],
      "metadata": {
        "id": "bROXEml_o3MK"
      }
    },
    {
      "cell_type": "code",
      "source": [
        "def solution(myString, pat):\n",
        "    return myString.count(pat)\n",
        "# 처음 생각한 답인데 banana에서 ana를 찾는경우... 답이 2다. 겹치는부분까지 포함해야함."
      ],
      "metadata": {
        "id": "M6-ulsHOpuXi"
      },
      "execution_count": null,
      "outputs": []
    },
    {
      "cell_type": "code",
      "source": [
        "# 다른분 코드 참고\n",
        "def solution(myString, pat):\n",
        "    count = 0\n",
        "    start = 0\n",
        "    while True:\n",
        "        idx = myString.find(pat, start)\n",
        "        if idx == -1:\n",
        "            break\n",
        "        count += 1\n",
        "        start = idx + 1\n",
        "    return count"
      ],
      "metadata": {
        "id": "jkcwi5dNqYJT"
      },
      "execution_count": null,
      "outputs": []
    },
    {
      "cell_type": "markdown",
      "source": [
        "#### ad 제거하기\n",
        "```\n",
        "문자열 배열 strArr가 주어집니다.\n",
        "배열 내의 문자열 중 \"ad\"라는 부분 문자열을 포함하고 있는 모든 문자열을 제거하고\n",
        "남은 문자열을 순서를 유지하여 배열로 return 하는 solution 함수를 완성해 주세요.\n",
        "```"
      ],
      "metadata": {
        "id": "t-rv1C0Sq_A3"
      }
    },
    {
      "cell_type": "code",
      "source": [
        "def solution(strArr):\n",
        "    return [i for i in strArr if \"ad\" not in i]"
      ],
      "metadata": {
        "id": "xF4B5N9yrLhz"
      },
      "execution_count": null,
      "outputs": []
    },
    {
      "cell_type": "markdown",
      "source": [
        "### midpoint 9"
      ],
      "metadata": {
        "id": "pE0ndcvONHoo"
      }
    },
    {
      "cell_type": "markdown",
      "source": [
        "#### 공백으로 구분하기 1\n",
        "```\n",
        "단어가 공백 한 개로 구분되어 있는 문자열 my_string이 매개변수로 주어질 때,\n",
        "my_string에 나온 단어를 앞에서부터 순서대로 담은 문자열 배열을 return 하는 solution 함수를 작성해 주세요.\n",
        "```"
      ],
      "metadata": {
        "id": "nQ_uPMLZNJJn"
      }
    },
    {
      "cell_type": "code",
      "source": [
        "def solution(my_string):\n",
        "    return my_string.split()"
      ],
      "metadata": {
        "id": "P3J5R4UrNOTJ"
      },
      "execution_count": null,
      "outputs": []
    },
    {
      "cell_type": "markdown",
      "source": [
        "#### 공백으로 구분하기 2\n",
        "```\n",
        "단어가 공백 한 개 이상으로 구분되어 있는 문자열 my_string이 매개변수로 주어질 때,\n",
        "my_string에 나온 단어를 앞에서부터 순서대로 담은 문자열 배열을 return 하는 solution 함수를 작성해 주세요.\n",
        "```"
      ],
      "metadata": {
        "id": "MOcCc5-zNfiQ"
      }
    },
    {
      "cell_type": "code",
      "source": [
        "def solution(my_string):\n",
        "    return my_string.split()"
      ],
      "metadata": {
        "id": "BYakggQYNi5X"
      },
      "execution_count": null,
      "outputs": []
    },
    {
      "cell_type": "markdown",
      "source": [
        "#### x 사이의 개수\n",
        "```\n",
        "문자열 myString이 주어집니다.\n",
        "myString을 문자 \"x\"를 기준으로 나눴을 때 나눠진 문자열 각각의 길이를 순서대로 저장한 배열을\n",
        "return 하는 solution 함수를 완성해 주세요.\n",
        "```"
      ],
      "metadata": {
        "id": "b0h3iL5lNvOb"
      }
    },
    {
      "cell_type": "code",
      "source": [
        "def solution(myString):\n",
        "    s = myString.split(\"x\")\n",
        "    return [len(i) for i in s]"
      ],
      "metadata": {
        "id": "tLJMnitvNw-z"
      },
      "execution_count": null,
      "outputs": []
    },
    {
      "cell_type": "markdown",
      "source": [
        "#### 문자열 잘라서 정리하기\n",
        "```\n",
        "문자열 myString이 주어집니다. \"x\"를 기준으로 해당 문자열을 잘라내 배열을 만든 후 사전순으로 정렬한 배열을 return 하는 solution 함수를 완성해 주세요.\n",
        "\n",
        "단, 빈 문자열은 반환할 배열에 넣지 않습니다.\n",
        "```"
      ],
      "metadata": {
        "id": "4wq4DhLCOKyq"
      }
    },
    {
      "cell_type": "code",
      "source": [
        "def solution(myString):\n",
        "    s = myString.split(\"x\")\n",
        "    return sorted(list(filter(lambda x: x, s)))"
      ],
      "metadata": {
        "id": "iNT_QAvfOZLW"
      },
      "execution_count": null,
      "outputs": []
    },
    {
      "cell_type": "markdown",
      "source": [
        "#### 간단한 식 계산하기\n",
        "```\n",
        "문자열 binomial이 매개변수로 주어집니다. binomial은 \"a op b\" 형태의 이항식이고 a와 b는 음이 아닌 정수,\n",
        "op는 '+', '-', '*' 중 하나입니다. 주어진 식을 계산한 정수를 return 하는 solution 함수를 작성해 주세요.\n",
        "```"
      ],
      "metadata": {
        "id": "1t84GNPcP62i"
      }
    },
    {
      "cell_type": "code",
      "source": [
        "def solution(binomial):\n",
        "    return eval(binomial)"
      ],
      "metadata": {
        "id": "z9ZRVfKlVEih"
      },
      "execution_count": null,
      "outputs": []
    },
    {
      "cell_type": "code",
      "source": [
        "# 나보다 더한놈\n",
        "solution = eval\n",
        "# ㅋㅋㅋ"
      ],
      "metadata": {
        "id": "c_bnFbxTVZCt"
      },
      "execution_count": null,
      "outputs": []
    },
    {
      "cell_type": "markdown",
      "source": [
        "#### 문자열 바꿔서 찾기\n",
        "```\n",
        "문자 \"A\"와 \"B\"로 이루어진 문자열 myString과 pat가 주어집니다. myString의 \"A\"를 \"B\"로,\n",
        "\"B\"를 \"A\"로 바꾼 문자열의 연속하는 부분 문자열 중 pat이 있으면 1을 아니면 0을 return 하는 solution 함수를 완성하세요.\n",
        "```"
      ],
      "metadata": {
        "id": "T5KG8CKNVbcA"
      }
    },
    {
      "cell_type": "code",
      "source": [
        "def solution(myString, pat):\n",
        "    result = ''\n",
        "    for i in range(len(myString)):\n",
        "        if myString[i] == \"A\":\n",
        "            result += \"B\"\n",
        "        else:\n",
        "            result += \"A\"\n",
        "    return 1 if pat in result else 0"
      ],
      "metadata": {
        "id": "P5hXtpeHVfZW"
      },
      "execution_count": null,
      "outputs": []
    },
    {
      "cell_type": "code",
      "source": [
        "# pat을 건드리는 방법도 있다\n",
        "def solution(myString, pat):\n",
        "    return int(pat in myString.replace('A', 'C').replace('B', 'A').replace('C', 'B'))\n",
        "\n",
        "solution(\"ABBAA\",\"AABB\")"
      ],
      "metadata": {
        "colab": {
          "base_uri": "https://localhost:8080/"
        },
        "id": "bxz38MBFW2sf",
        "outputId": "8506f002-42ca-410b-e207-dcd7c5cd090d"
      },
      "execution_count": null,
      "outputs": [
        {
          "output_type": "execute_result",
          "data": {
            "text/plain": [
              "1"
            ]
          },
          "metadata": {},
          "execution_count": 10
        }
      ]
    },
    {
      "cell_type": "code",
      "source": [
        "int(10 // 2 == 4) # 결과값: 0\n",
        "int(10 // 2 == 5) # 결과값: 1\n",
        "# int()를 사용하면 True는 1, False는 0을 반환해준다."
      ],
      "metadata": {
        "colab": {
          "base_uri": "https://localhost:8080/"
        },
        "id": "OuJAF7nIXW6C",
        "outputId": "45a24f2c-19e7-49d7-dd52-a17c1311e77c"
      },
      "execution_count": null,
      "outputs": [
        {
          "output_type": "execute_result",
          "data": {
            "text/plain": [
              "1"
            ]
          },
          "metadata": {},
          "execution_count": 16
        }
      ]
    },
    {
      "cell_type": "markdown",
      "source": [
        "#### rny string\n",
        "```\n",
        "'m'과 \"rn\"이 모양이 비슷하게 생긴 점을 활용해 문자열에 장난을 하려고 합니다. 문자열 rny_string이 주어질 때,\n",
        "rny_string의 모든 'm'을 \"rn\"으로 바꾼 문자열을 return 하는 solution 함수를 작성해 주세요.\n",
        "```"
      ],
      "metadata": {
        "id": "HiuIKD59YBsZ"
      }
    },
    {
      "cell_type": "code",
      "source": [
        "def solution(rny_string):\n",
        "    return rny_string.replace(\"m\", \"rn\")"
      ],
      "metadata": {
        "id": "0Lce1ZIUbodA"
      },
      "execution_count": null,
      "outputs": []
    },
    {
      "cell_type": "markdown",
      "source": [
        "#### 세 개의 구분자\n",
        "```\n",
        "임의의 문자열이 주어졌을 때 문자 \"a\", \"b\", \"c\"를 구분자로 사용해 문자열을 나누고자 합니다.\n",
        "\n",
        "예를 들어 주어진 문자열이 \"baconlettucetomato\"라면 나눠진 문자열 목록은 [\"onlettu\", \"etom\", \"to\"] 가 됩니다.\n",
        "\n",
        "문자열 myStr이 주어졌을 때 위 예시와 같이 \"a\", \"b\", \"c\"를 사용해 나눠진 문자열을 순서대로 저장한 배열을 return 하는 solution 함수를 완성해 주세요.\n",
        "\n",
        "단, 두 구분자 사이에 다른 문자가 없을 경우에는 아무것도 저장하지 않으며, return할 배열이 빈 배열이라면 [\"EMPTY\"]를 return 합니다.\n",
        "```"
      ],
      "metadata": {
        "id": "AhqTdk1pb04z"
      }
    },
    {
      "cell_type": "code",
      "source": [
        "import re\n",
        "\n",
        "def solution(myStr):\n",
        "    result = re.sub(\"[abc]\", \" \", myStr)\n",
        "    return result.split() if result.split() else [\"EMPTY\"]"
      ],
      "metadata": {
        "id": "x9_SKdQtb3Mk"
      },
      "execution_count": null,
      "outputs": []
    },
    {
      "cell_type": "code",
      "source": [
        "# re를 사용한 더 간단한 방법!\n",
        "import re\n",
        "\n",
        "def solution(myStr):\n",
        "    return re.findall(r\"[^abc]+\", myStr) or [\"EMPTY\"]"
      ],
      "metadata": {
        "id": "j5qqhx98faNp"
      },
      "execution_count": null,
      "outputs": []
    },
    {
      "cell_type": "markdown",
      "source": [
        "#### 배열의 원소만큼 추가하기\n",
        "```\n",
        "아무 원소도 들어있지 않은 빈 배열 X가 있습니다. 양의 정수 배열 arr가 매개변수로 주어질 때,\n",
        "arr의 앞에서부터 차례대로 원소를 보면서 원소가 a라면 X의 맨 뒤에 a를 a번 추가하는 일을 반복한 뒤의 배열 X를 return 하는 solution 함수를 작성해 주세요.\n",
        "```"
      ],
      "metadata": {
        "id": "i2ai3CONfm0F"
      }
    },
    {
      "cell_type": "code",
      "source": [
        "def solution(arr):\n",
        "    X = []\n",
        "    for a in arr:\n",
        "        n = 0\n",
        "        while n < a:\n",
        "            X.append(a)\n",
        "            n += 1\n",
        "    return X"
      ],
      "metadata": {
        "id": "j_XjlTXGfur9"
      },
      "execution_count": null,
      "outputs": []
    },
    {
      "cell_type": "markdown",
      "source": [
        "#### 빈 배열에 추가, 삭제하기\n",
        "```\n",
        "아무 원소도 들어있지 않은 빈 배열 X가 있습니다. 길이가 같은 정수 배열 arr과 boolean 배열 flag가 매개변수로 주어질 때,\n",
        "flag를 차례대로 순회하며 flag[i]가 true라면 X의 뒤에 arr[i]를 arr[i] × 2 번 추가하고,\n",
        "flag[i]가 false라면 X에서 마지막 arr[i]개의 원소를 제거한 뒤 X를 return 하는 solution 함수를 작성해 주세요.\n",
        "```"
      ],
      "metadata": {
        "id": "arjzkZ8Jgnro"
      }
    },
    {
      "cell_type": "code",
      "source": [
        "def solution(arr, flag):\n",
        "    X = []\n",
        "    for i in range(len(arr)):\n",
        "        if flag[i]:\n",
        "            n = 0\n",
        "            while n < (arr[i] * 2):\n",
        "                X.append(arr[i])\n",
        "                n += 1\n",
        "        else:\n",
        "            X = X[:-(arr[i])]\n",
        "    return X"
      ],
      "metadata": {
        "id": "sDIgF5RMgr_P"
      },
      "execution_count": null,
      "outputs": []
    },
    {
      "cell_type": "markdown",
      "source": [
        "#### 배열 만들기 6\n",
        "```\n",
        "0과 1로만 이루어진 정수 배열 arr가 주어집니다. arr를 이용해 새로운 배열 stk을 만드려고 합니다.\n",
        "\n",
        "i의 초기값을 0으로 설정하고 i가 arr의 길이보다 작으면 다음을 반복합니다.\n",
        "\n",
        "만약 stk이 빈 배열이라면 arr[i]를 stk에 추가하고 i에 1을 더합니다.\n",
        "stk에 원소가 있고, stk의 마지막 원소가 arr[i]와 같으면 stk의 마지막 원소를 stk에서 제거하고 i에 1을 더합니다.\n",
        "stk에 원소가 있는데 stk의 마지막 원소가 arr[i]와 다르면 stk의 맨 마지막에 arr[i]를 추가하고 i에 1을 더합니다.\n",
        "위 작업을 마친 후 만들어진 stk을 return 하는 solution 함수를 완성해 주세요.\n",
        "\n",
        "단, 만약 빈 배열을 return 해야한다면 [-1]을 return 합니다.\n",
        "```"
      ],
      "metadata": {
        "id": "iOshADUYhJ9R"
      }
    },
    {
      "cell_type": "code",
      "source": [
        "def solution(arr):\n",
        "    stk = []\n",
        "    i = 0\n",
        "    while i < len(arr):\n",
        "        if not stk:\n",
        "            stk.append(arr[i])\n",
        "        elif stk[-1] == arr[i]:\n",
        "            stk.pop()\n",
        "        else:\n",
        "            stk.append(arr[i])\n",
        "        i += 1\n",
        "    return stk if stk else [-1]"
      ],
      "metadata": {
        "id": "PAkkUbRQvXi8"
      },
      "execution_count": null,
      "outputs": []
    },
    {
      "cell_type": "markdown",
      "source": [
        "#### 무작위로 K개의 수 뽑기\n",
        "```\n",
        "랜덤으로 서로 다른 k개의 수를 저장한 배열을 만드려고 합니다.\n",
        "적절한 방법이 떠오르지 않기 때문에 일정한 범위 내에서 무작위로 수를 뽑은 후, 지금까지 나온적이 없는 수이면 배열 맨 뒤에 추가하는 방식으로 만들기로 합니다.\n",
        "\n",
        "이미 어떤 수가 무작위로 주어질지 알고 있다고 가정하고, 실제 만들어질 길이 k의 배열을 예상해봅시다.\n",
        "\n",
        "정수 배열 arr가 주어집니다. 문제에서의 무작위의 수는 arr에 저장된 순서대로 주어질 예정이라고 했을 때, 완성될 배열을 return 하는 solution 함수를 완성해 주세요.\n",
        "\n",
        "단, 완성될 배열의 길이가 k보다 작으면 나머지 값을 전부 -1로 채워서 return 합니다.\n",
        "```"
      ],
      "metadata": {
        "id": "hcUomy-F13zx"
      }
    },
    {
      "cell_type": "code",
      "source": [
        "def solution(arr, k):\n",
        "    result = []\n",
        "    for i in arr:\n",
        "        if i not in result:\n",
        "            result.append(i)\n",
        "\n",
        "    if len(result) >= k:\n",
        "        return result[:k]\n",
        "    else:\n",
        "        return result + [-1]*(k - len(result))"
      ],
      "metadata": {
        "id": "DE2Kpdo_179J"
      },
      "execution_count": null,
      "outputs": []
    },
    {
      "cell_type": "code",
      "source": [
        "# 좀 더 간결한 버전. 다른분 코드.\n",
        "def solution(arr, k):\n",
        "    ret = []\n",
        "    for i in arr:\n",
        "        if i not in ret:\n",
        "            ret.append(i)\n",
        "        if len(ret) == k:\n",
        "            break\n",
        "\n",
        "    return ret + [-1] * (k - len(ret))"
      ],
      "metadata": {
        "id": "kU4vyqSe6FRD"
      },
      "execution_count": null,
      "outputs": []
    },
    {
      "cell_type": "markdown",
      "source": [
        "#### 배열의 길이를 2의 거듭제곱으로 만들기\n",
        "```\n",
        "정수 배열 arr이 매개변수로 주어집니다. arr의 길이가 2의 정수 거듭제곱이 되도록 arr 뒤에 정수 0을 추가하려고 합니다.\n",
        "arr에 최소한의 개수로 0을 추가한 배열을 return 하는 solution 함수를 작성해 주세요.\n",
        "```"
      ],
      "metadata": {
        "id": "qEth-nut6FKu"
      }
    },
    {
      "cell_type": "code",
      "source": [
        "def solution(arr):\n",
        "    binary = bin(len(arr))\n",
        "    if '1' in binary[3:]:\n",
        "        s = '0b1' + '0' * len(binary[2:])\n",
        "    else:\n",
        "        return arr\n",
        "    return arr + [0] * (int(s, 2) - int(binary, 2))\n",
        "\n",
        "solution([1, 2, 3, 4, 5, 6])"
      ],
      "metadata": {
        "colab": {
          "base_uri": "https://localhost:8080/"
        },
        "id": "wxGeyVnc6trk",
        "outputId": "f3891ec8-c547-4fdc-d439-250994fc325c"
      },
      "execution_count": null,
      "outputs": [
        {
          "output_type": "execute_result",
          "data": {
            "text/plain": [
              "[1, 2, 3, 4, 5, 6, 0, 0]"
            ]
          },
          "metadata": {},
          "execution_count": 40
        }
      ]
    },
    {
      "cell_type": "code",
      "source": [
        "# 다른분이 시간복잡도에 대해 설명한건데, 나중에 찾아보자\n",
        "def solution(arr):\n",
        "    a = 1\n",
        "    b = len(arr)\n",
        "    while a < b :\n",
        "        a *= 2\n",
        "    return arr + [0] * (a-b)\n",
        "\n",
        "\n",
        "\"\"\"\n",
        "2의 거듭제곱 확인 방법 O(1)로 해야 겨우 O(n)\n",
        "logn으로 확인하면 그걸 n번 반복 -> o(nlogn)\n",
        "길이 1000개 -> 가장 빠른방법은 각각 하드코딩하기 겨우 10개\n",
        "\n",
        "\"\"\""
      ],
      "metadata": {
        "id": "EypgvHfv63vS"
      },
      "execution_count": null,
      "outputs": []
    },
    {
      "cell_type": "markdown",
      "source": [
        "#### 배열 비교하기\n",
        "```\n",
        "이 문제에서 두 정수 배열의 대소관계를 다음과 같이 정의합니다.\n",
        "\n",
        "두 배열의 길이가 다르다면, 배열의 길이가 긴 쪽이 더 큽니다.\n",
        "배열의 길이가 같다면 각 배열에 있는 모든 원소의 합을 비교하여 다르다면 더 큰 쪽이 크고, 같다면 같습니다.\n",
        "두 정수 배열 arr1과 arr2가 주어질 때, 위에서 정의한 배열의 대소관계에 대하여 arr2가 크다면 -1, arr1이 크다면 1,\n",
        "두 배열이 같다면 0을 return 하는 solution 함수를 작성해 주세요.\n",
        "```"
      ],
      "metadata": {
        "id": "613wH6uqBSbo"
      }
    },
    {
      "cell_type": "code",
      "source": [
        "def solution(arr1, arr2):\n",
        "    if len(arr1) == len(arr2):\n",
        "        if sum(arr1) > sum(arr2):\n",
        "            return 1\n",
        "        elif sum(arr1) < sum(arr2):\n",
        "            return -1\n",
        "        else:\n",
        "            return 0\n",
        "    else:\n",
        "        if len(arr1) > len(arr2):\n",
        "            return 1\n",
        "        else:\n",
        "            return -1"
      ],
      "metadata": {
        "id": "a3NJRVn3GG27"
      },
      "execution_count": null,
      "outputs": []
    },
    {
      "cell_type": "code",
      "source": [
        "# 우왕\n",
        "def solution(arr1, arr2):\n",
        "    return (len(arr1) > len(arr2)) - (len(arr2) > len(arr1)) or (sum(arr1) > sum(arr2)) - (sum(arr2) > sum(arr1))"
      ],
      "metadata": {
        "id": "b-niAxi_M02r"
      },
      "execution_count": null,
      "outputs": []
    },
    {
      "cell_type": "code",
      "source": [
        "test1 = [1, 2]\n",
        "test2 = [1, 2, 3]\n",
        "(len(test1) > len(test2)) + (len(test1) < len(test2))"
      ],
      "metadata": {
        "colab": {
          "base_uri": "https://localhost:8080/"
        },
        "id": "D_Jsw_ViM2Zz",
        "outputId": "c2997147-db71-4efd-aa29-e43164c35d14"
      },
      "execution_count": null,
      "outputs": [
        {
          "output_type": "execute_result",
          "data": {
            "text/plain": [
              "1"
            ]
          },
          "metadata": {},
          "execution_count": 48
        }
      ]
    },
    {
      "cell_type": "markdown",
      "source": [
        "#### 문자열 묶기\n",
        "```\n",
        "문자열 배열 strArr이 주어집니다.\n",
        "strArr의 원소들을 길이가 같은 문자열들끼리 그룹으로 묶었을 때 가장 개수가 많은 그룹의 크기를 return 하는 solution 함수를 완성해 주세요.\n",
        "```"
      ],
      "metadata": {
        "id": "rNHLpY9DNRtc"
      }
    },
    {
      "cell_type": "code",
      "source": [
        "# 원래 내 코드. 시간복잡도에서 걸림.\n",
        "# length.count(i) 부분에서 많이 잡아먹는다.\n",
        "\n",
        "def solution(strArr):\n",
        "    l = sorted(strArr, key=lambda x: len(x))\n",
        "    length = []\n",
        "    for i in strArr:\n",
        "        length.append(len(i))\n",
        "    ret = {i:length.count(i) for i in length}\n",
        "    return max(ret.values())"
      ],
      "metadata": {
        "id": "oExoGZU8NneN"
      },
      "execution_count": null,
      "outputs": []
    },
    {
      "cell_type": "code",
      "source": [
        "# AI teacher에게 re-coding을 맡긴 결과ㅎㅎ\n",
        "def solution(strArr):\n",
        "    length_dict = {}\n",
        "\n",
        "    for string in strArr:\n",
        "        length = len(string)\n",
        "        if length in length_dict:\n",
        "            length_dict[length] += 1\n",
        "        else:\n",
        "            length_dict[length] = 1\n",
        "\n",
        "    return max(length_dict.values())"
      ],
      "metadata": {
        "id": "Z4SUzbUIPlCk"
      },
      "execution_count": null,
      "outputs": []
    },
    {
      "cell_type": "code",
      "source": [
        "# 위의 AI버전 내 코드에서 더 간략해진 코드.\n",
        "def solution(strArr):\n",
        "    d = {}\n",
        "\n",
        "    for i in strArr:\n",
        "        d[len(i)] = d.get(len(i), 0) + 1\n",
        "\n",
        "    return max(d.values())\n",
        "\n",
        "# 복세편살 코드\n",
        "def solution(strArr):\n",
        "    a=[0]*31\n",
        "    for x in strArr: a[len(x)]+=1\n",
        "    return max(a)\n",
        "# 조건에 '1 ≤ strArr의 원소의 길이 ≤ 30'가 있었다.\n",
        "# 즉 나올 수 있는 길이는 1부터 30까지.\n",
        "# 하지만 인덱스는 0부터 시작하므로 31개로 만들어줌."
      ],
      "metadata": {
        "id": "zaKBsSr8URdB"
      },
      "execution_count": null,
      "outputs": []
    },
    {
      "cell_type": "markdown",
      "source": [
        "#### 배열의 길이에 따라 다른 연산하기\n",
        "```\n",
        "정수 배열 arr과 정수 n이 매개변수로 주어집니다.\n",
        "arr의 길이가 홀수라면 arr의 모든 짝수 인덱스 위치에 n을 더한 배열을,\n",
        "arr의 길이가 짝수라면 arr의 모든 홀수 인덱스 위치에 n을 더한 배열을 return 하는 solution 함수를 작성해 주세요.\n",
        "```"
      ],
      "metadata": {
        "id": "oPia-0rUWO-l"
      }
    },
    {
      "cell_type": "code",
      "source": [
        "def solution(arr, n):\n",
        "    if len(arr) % 2 != 0:\n",
        "        for i in range(0, len(arr), 2):\n",
        "            arr[i] += n\n",
        "    else:\n",
        "        for i in range(1, len(arr), 2):\n",
        "            arr[i] += n\n",
        "    return arr"
      ],
      "metadata": {
        "id": "JBoA1UquYHbP"
      },
      "execution_count": null,
      "outputs": []
    },
    {
      "cell_type": "markdown",
      "source": [
        "#### 뒤에서 5등까지\n",
        "```\n",
        "정수로 이루어진 리스트 num_list가 주어집니다.\n",
        "num_list에서 가장 작은 5개의 수를 오름차순으로 담은 리스트를 return하도록 solution 함수를 완성해주세요.\n",
        "```"
      ],
      "metadata": {
        "id": "PQ41iGm0p3g7"
      }
    },
    {
      "cell_type": "code",
      "source": [
        "def solution(num_list):\n",
        "    return sorted(num_list)[:5]"
      ],
      "metadata": {
        "id": "0BvGGppWp7Ea"
      },
      "execution_count": null,
      "outputs": []
    },
    {
      "cell_type": "markdown",
      "source": [
        "### Finished all!"
      ],
      "metadata": {
        "id": "w2-hJ7oIqNg-"
      }
    },
    {
      "cell_type": "markdown",
      "source": [
        "### midpoint 10\n",
        "---\n",
        "기초문제 파트 외에도 Lv0 문제가 존재했음^^;"
      ],
      "metadata": {
        "id": "yk7ep3TeCdfG"
      }
    },
    {
      "cell_type": "markdown",
      "source": [
        "#### 뒤에서 5등 위로\n",
        "```\n",
        "정수로 이루어진 리스트 num_list가 주어집니다.\n",
        "num_list에서 가장 작은 5개의 수를 제외한 수들을 오름차순으로 담은 리스트를 return하도록 solution 함수를 완성해주세요.\n",
        "```"
      ],
      "metadata": {
        "id": "ngZxslhsClsT"
      }
    },
    {
      "cell_type": "code",
      "source": [
        "def solution(num_list):\n",
        "    return sorted(num_list)[5:]"
      ],
      "metadata": {
        "id": "St4r4MIdF0Xr"
      },
      "execution_count": null,
      "outputs": []
    },
    {
      "cell_type": "markdown",
      "source": [
        "#### 전국 대회 선발 고사\n",
        "```\n",
        "0번부터 n - 1번까지 n명의 학생 중 3명을 선발하는 전국 대회 선발 고사를 보았습니다.\n",
        "등수가 높은 3명을 선발해야 하지만, 개인 사정으로 전국 대회에 참여하지 못하는 학생들이 있어\n",
        "참여가 가능한 학생 중 등수가 높은 3명을 선발하기로 했습니다.\n",
        "\n",
        "각 학생들의 선발 고사 등수를 담은 정수 배열 rank와 전국 대회 참여 가능 여부가 담긴 boolean 배열 attendance가 매개변수로 주어집니다.\n",
        "전국 대회에 선발된 학생 번호들을 등수가 높은 순서대로 각각 a, b, c번이라고 할 때\n",
        "10000 × a + 100 × b + c를 return 하는 solution 함수를 작성해 주세요.\n",
        "```"
      ],
      "metadata": {
        "id": "qO0OBWRiLlz9"
      }
    },
    {
      "cell_type": "code",
      "source": [
        "def solution(rank, attendance):\n",
        "    available = list(filter(lambda x: attendance[rank.index(x)], rank))\n",
        "    ret = sorted(available)[:3]\n",
        "    func = lambda x: rank.index(x)\n",
        "    s1, s2, s3 = func(ret[0]), func(ret[1]), func(ret[2])\n",
        "    return 10000 * s1 + 100 * s2 + s3\n",
        "\n",
        "solution([3, 7, 2, 5, 4, 6, 1], [False, True, True, True, True, False, False])"
      ],
      "metadata": {
        "colab": {
          "base_uri": "https://localhost:8080/"
        },
        "id": "6ffK8BeHLoks",
        "outputId": "b8e834df-cb74-4bb4-e509-e836ee1d94b2"
      },
      "execution_count": null,
      "outputs": [
        {
          "output_type": "execute_result",
          "data": {
            "text/plain": [
              "20403"
            ]
          },
          "metadata": {},
          "execution_count": 14
        }
      ]
    },
    {
      "cell_type": "code",
      "source": [
        "# 깔끔하긴 하지만 가독성이 떨어지는 코드. But enumerate을 쓰는 좋은 방법.\n",
        "def solution(rank, attendance):\n",
        "    arr = sorted([(x, i) for i, x in enumerate(rank) if attendance[i]])\n",
        "    return arr[0][1] * 10000 + arr[1][1] * 100 + arr[2][1]"
      ],
      "metadata": {
        "id": "ICes651iMcF-"
      },
      "execution_count": null,
      "outputs": []
    },
    {
      "cell_type": "markdown",
      "source": [
        "#### 문자열 정수의 합\n",
        "```\n",
        "한 자리 정수로 이루어진 문자열 num_str이 주어질 때, 각 자리수의 합을 return하도록 solution 함수를 완성해주세요.\n",
        "```"
      ],
      "metadata": {
        "id": "9OMuc7mpTeVe"
      }
    },
    {
      "cell_type": "code",
      "source": [
        "def solution(num_str):\n",
        "    return eval(\"+\".join(num_str))\n",
        "\n",
        "solution(\"123456789\")"
      ],
      "metadata": {
        "colab": {
          "base_uri": "https://localhost:8080/"
        },
        "id": "u0gfpcMoWtMw",
        "outputId": "0cf2b637-5ea0-4cfc-8f48-327659a74ff3"
      },
      "execution_count": null,
      "outputs": [
        {
          "output_type": "execute_result",
          "data": {
            "text/plain": [
              "45"
            ]
          },
          "metadata": {},
          "execution_count": 17
        }
      ]
    },
    {
      "cell_type": "markdown",
      "source": [
        "#### 문자열을 정수로 변환하기\n",
        "```\n",
        "숫자로만 이루어진 문자열 n_str이 주어질 때, n_str을 정수로 변환하여 return하도록 solution 함수를 완성해주세요.\n",
        "```"
      ],
      "metadata": {
        "id": "CcLTC1VKXBLN"
      }
    },
    {
      "cell_type": "code",
      "source": [
        "def solution(n_str):\n",
        "    return int(n_str)"
      ],
      "metadata": {
        "id": "t0ZZlOXDXqqZ"
      },
      "execution_count": null,
      "outputs": []
    },
    {
      "cell_type": "markdown",
      "source": [
        "#### 0 떼기\n",
        "```\n",
        "정수로 이루어진 문자열 n_str이 주어질 때, n_str의 가장 왼쪽에 처음으로 등장하는 0들을 뗀 문자열을 return하도록 solution 함수를 완성해주세요.\n",
        "```"
      ],
      "metadata": {
        "id": "pSTSYTuNYwU3"
      }
    },
    {
      "cell_type": "code",
      "source": [
        "def solution(n_str):\n",
        "    for i in range(len(n_str)):\n",
        "        if n_str[i] != \"0\":\n",
        "            return n_str[i:]\n",
        "\n",
        "solution(\"008818202\")"
      ],
      "metadata": {
        "colab": {
          "base_uri": "https://localhost:8080/",
          "height": 36
        },
        "id": "5Ohz8BOeYyy7",
        "outputId": "a4c28e3b-16d0-49a3-c46f-da2867fe1086"
      },
      "execution_count": null,
      "outputs": [
        {
          "output_type": "execute_result",
          "data": {
            "text/plain": [
              "'8818202'"
            ],
            "application/vnd.google.colaboratory.intrinsic+json": {
              "type": "string"
            }
          },
          "metadata": {},
          "execution_count": 21
        }
      ]
    },
    {
      "cell_type": "code",
      "source": [
        "# 와우... lstrip!\n",
        "def solution(n_str):\n",
        "    return n_str.lstrip('0')"
      ],
      "metadata": {
        "id": "A1Z_mDprdeJe"
      },
      "execution_count": null,
      "outputs": []
    },
    {
      "cell_type": "markdown",
      "source": [
        "#### 두 수의 합\n",
        "```\n",
        "0 이상의 두 정수가 문자열 a, b로 주어질 때, a + b의 값을 문자열로 return 하는 solution 함수를 작성해 주세요.\n",
        "```"
      ],
      "metadata": {
        "id": "XSBeaWbnZnAT"
      }
    },
    {
      "cell_type": "code",
      "source": [
        "def solution(a, b):\n",
        "    return f\"{int(a) + int(b)}\""
      ],
      "metadata": {
        "id": "bzR9ORJ9-bEf"
      },
      "execution_count": null,
      "outputs": []
    },
    {
      "cell_type": "markdown",
      "source": [
        "#### 문자열로 변환\n",
        "```\n",
        "정수 n이 주어질 때, n을 문자열로 변환하여 return하도록 solution 함수를 완성해주세요.\n",
        "```"
      ],
      "metadata": {
        "id": "g4XMJsWd_iou"
      }
    },
    {
      "cell_type": "code",
      "source": [
        "def solution(n):\n",
        "    return str(n)"
      ],
      "metadata": {
        "id": "fMB2u8G-_lw3"
      },
      "execution_count": null,
      "outputs": []
    },
    {
      "cell_type": "markdown",
      "source": [
        "#### 배열의 원소 삭제하기\n",
        "```\n",
        "정수 배열 arr과 delete_list가 있습니다.\n",
        "arr의 원소 중 delete_list의 원소를 모두 삭제하고 남은 원소들은 기존의 arr에 있던 순서를 유지한 배열을\n",
        "return 하는 solution 함수를 작성해 주세요.\n",
        "```"
      ],
      "metadata": {
        "id": "Rfgyjk7g_uvF"
      }
    },
    {
      "cell_type": "code",
      "source": [
        "def solution(arr, delete_list):\n",
        "    ret = []\n",
        "    for i in range(len(arr)):\n",
        "        if arr[i] not in delete_list:\n",
        "            ret.append(arr[i])\n",
        "    return ret"
      ],
      "metadata": {
        "id": "O6Aa7ghV_0dE"
      },
      "execution_count": null,
      "outputs": []
    },
    {
      "cell_type": "code",
      "source": [
        "# 컴프리헨션 사용하자 ㅎㅎ"
      ],
      "metadata": {
        "id": "5OTD1WFfLY1C"
      },
      "execution_count": null,
      "outputs": []
    },
    {
      "cell_type": "markdown",
      "source": [
        "#### 부분 문자열인지 확인하기\n",
        "```\n",
        "부분 문자열이란 문자열에서 연속된 일부분에 해당하는 문자열을 의미합니다.\n",
        "예를 들어, 문자열 \"ana\", \"ban\", \"anana\", \"banana\", \"n\"는 모두 문자열 \"banana\"의 부분 문자열이지만,\n",
        "\"aaa\", \"bnana\", \"wxyz\"는 모두 \"banana\"의 부분 문자열이 아닙니다.\n",
        "\n",
        "문자열 my_string과 target이 매개변수로 주어질 때, target이 문자열 my_string의 부분 문자열이라면 1을,\n",
        "아니라면 0을 return 하는 solution 함수를 작성해 주세요.\n",
        "```"
      ],
      "metadata": {
        "id": "9XEwdcxPLaVB"
      }
    },
    {
      "cell_type": "code",
      "source": [
        "def solution(my_string, target):\n",
        "    return int(target in my_string)"
      ],
      "metadata": {
        "id": "ipCx256ZLkY1"
      },
      "execution_count": null,
      "outputs": []
    },
    {
      "cell_type": "markdown",
      "source": [
        "#### 부분 문자열\n",
        "```\n",
        "어떤 문자열 A가 다른 문자열 B안에 속하면 A를 B의 부분 문자열이라고 합니다.\n",
        "예를 들어 문자열 \"abc\"는 문자열 \"aabcc\"의 부분 문자열입니다.\n",
        "\n",
        "문자열 str1과 str2가 주어질 때,\n",
        "str1이 str2의 부분 문자열이라면 1을 부분 문자열이 아니라면 0을 return하도록 solution 함수를 완성해주세요.\n",
        "```"
      ],
      "metadata": {
        "id": "G4YZRUuEL0pM"
      }
    },
    {
      "cell_type": "code",
      "source": [
        "def solution(str1, str2):\n",
        "    return int(str1 in str2)"
      ],
      "metadata": {
        "id": "Cw4axElQL377"
      },
      "execution_count": null,
      "outputs": []
    },
    {
      "cell_type": "markdown",
      "source": [
        "#### 꼬리 문자열\n",
        "```\n",
        "문자열들이 담긴 리스트가 주어졌을 때, 모든 문자열들을 순서대로 합친 문자열을 꼬리 문자열이라고 합니다.\n",
        "꼬리 문자열을 만들 때 특정 문자열을 포함한 문자열은 제외시키려고 합니다. 예를 들어 문자열 리스트 [\"abc\", \"def\", \"ghi\"]가 있고\n",
        "문자열 \"ef\"를 포함한 문자열은 제외하고 꼬리 문자열을 만들면 \"abcghi\"가 됩니다.\n",
        "\n",
        "문자열 리스트 str_list와 제외하려는 문자열 ex가 주어질 때,\n",
        "str_list에서 ex를 포함한 문자열을 제외하고 만든 꼬리 문자열을 return하도록 solution 함수를 완성해주세요.\n",
        "```"
      ],
      "metadata": {
        "id": "GqFoUVyoMDEU"
      }
    },
    {
      "cell_type": "code",
      "source": [
        "def solution(str_list, ex):\n",
        "    return \"\".join([i for i in str_list if ex not in i])"
      ],
      "metadata": {
        "id": "-o-h5DHvMJ6V"
      },
      "execution_count": null,
      "outputs": []
    },
    {
      "cell_type": "markdown",
      "source": [
        "#### 정수 찾기\n",
        "```\n",
        "정수 리스트 num_list와 찾으려는 정수 n이 주어질 때,\n",
        "num_list안에 n이 있으면 1을 없으면 0을 return하도록 solution 함수를 완성해주세요.\n",
        "```"
      ],
      "metadata": {
        "id": "_Gt80arMMtVW"
      }
    },
    {
      "cell_type": "code",
      "source": [
        "def solution(num_list, n):\n",
        "    return int(n in num_list)"
      ],
      "metadata": {
        "id": "FXt7B2ADMwcP"
      },
      "execution_count": null,
      "outputs": []
    },
    {
      "cell_type": "markdown",
      "source": [
        "#### 주사위 게임 1\n",
        "```\n",
        "1부터 6까지 숫자가 적힌 주사위가 두 개 있습니다. 두 주사위를 굴렸을 때 나온 \b숫자를 각각 a, b라고 했을 때 얻는 점수는 다음과 같습니다.\n",
        "\n",
        "a와 b가 모두 홀수라면 a2 + b2 점을 얻습니다.\n",
        "a와 b 중 하나만 홀수라면 2 × (a + b) 점을 얻습니다.\n",
        "a와 b 모두 홀수가 아니라면 |a - b| 점을 얻습니다.\n",
        "두 정수 a와 b가 매개변수로 주어질 때, 얻는 점수를 return 하는 solution 함수를 작성해 주세요.\n",
        "```"
      ],
      "metadata": {
        "id": "9DzbVSkAM8MU"
      }
    },
    {
      "cell_type": "code",
      "source": [
        "def solution(a, b):\n",
        "    if a % 2 != 0 and b % 2 != 0:\n",
        "        return a **2 + b **2\n",
        "    elif a % 2 == 0 and b % 2 == 0:\n",
        "        return abs(a - b)\n",
        "    else:\n",
        "        return 2 * (a + b)"
      ],
      "metadata": {
        "id": "izWxOA6SM_gi"
      },
      "execution_count": null,
      "outputs": []
    },
    {
      "cell_type": "markdown",
      "source": [
        "#### 날짜 비교하기\n",
        "```\n",
        "정수 배열 date1과 date2가 주어집니다. 두 배열은 각각 날짜를 나타내며 [year, month, day] 꼴로 주어집니다.\n",
        "각 배열에서 year는 연도를, month는 월을, day는 날짜를 나타냅니다.\n",
        "\n",
        "만약 date1이 date2보다 앞서는 날짜라면 1을, 아니면 0을 return 하는 solution 함수를 완성해 주세요.\n",
        "```"
      ],
      "metadata": {
        "id": "5R8N6dwkYVdI"
      }
    },
    {
      "cell_type": "code",
      "source": [
        "# 짜증나서 AI선생님께 여쭤봤다.\n",
        "def solution(date1, date2):\n",
        "    # 연도 비교\n",
        "    if date1[0] < date2[0]:\n",
        "        return 1\n",
        "    elif date1[0] > date2[0]:\n",
        "        return 0\n",
        "\n",
        "    # 월 비교\n",
        "    if date1[1] < date2[1]:\n",
        "        return 1\n",
        "    elif date1[1] > date2[1]:\n",
        "        return 0\n",
        "\n",
        "    # 일 비교\n",
        "    if date1[2] < date2[2]:\n",
        "        return 1\n",
        "    else:\n",
        "        return 0"
      ],
      "metadata": {
        "id": "10hoGYXWYZUa"
      },
      "execution_count": null,
      "outputs": []
    },
    {
      "cell_type": "code",
      "source": [
        "# 미친 풀이.\n",
        "def solution(date1, date2):\n",
        "    return int(date1 < date2)\n",
        "\n",
        "# 이렇게 했었는데 난 왜 안됐지? 싶었던 풀이\n",
        "def solution(date1, date2):\n",
        "    for i in range(3):\n",
        "        if date1[i]<date2[i]:return 1\n",
        "        elif date2[i]<date1[i]: return 0\n",
        "    return 0"
      ],
      "metadata": {
        "id": "oNp4vTdveec3"
      },
      "execution_count": null,
      "outputs": []
    },
    {
      "cell_type": "markdown",
      "source": [
        "### midpoint 11"
      ],
      "metadata": {
        "id": "OeyEoPCa_JqV"
      }
    },
    {
      "cell_type": "markdown",
      "source": [
        "#### 커피 심부름\n",
        "```\n",
        "팀의 막내인 철수는 아메리카노와 카페 라테만 판매하는 카페에서 팀원들의 커피를 사려고 합니다.\n",
        "아메리카노와 카페 라테의 가격은 차가운 것과 뜨거운 것 상관없이 각각 4500, 5000원입니다.\n",
        "각 팀원에게 마실 메뉴를 적어달라고 하였고, 그 중에서 메뉴만 적은 팀원의 것은 차가운 것으로 통일하고\n",
        "\"아무거나\"를 적은 팀원의 것은 차가운 아메리카노로 통일하기로 하였습니다.\n",
        "\n",
        "각 직원이 적은 메뉴가 문자열 배열 order로 주어질 때,\n",
        "카페에서 결제하게 될 금액을 return 하는 solution 함수를 작성해주세요.\n",
        "order의 원소는 아래의 것들만 들어오고, 각각의 의미는 다음과 같습니다.\n",
        "```\n",
        "```\n",
        "\"iceamericano\", \"americanoice\"\t차가운 아메리카노\n",
        "\"hotamericano\", \"americanohot\"\t따뜻한 아메리카노\n",
        "\"icecafelatte\", \"cafelatteice\"\t차가운 카페 라테\n",
        "\"hotcafelatte\", \"cafelattehot\"\t따뜻한 카페 라테\n",
        "\"americano\"\t아메리카노\n",
        "\"cafelatte\"\t카페 라테\n",
        "\"anything\"\t아무거나\n",
        "```"
      ],
      "metadata": {
        "id": "TPXPBXs8_LfS"
      }
    },
    {
      "cell_type": "code",
      "source": [
        "def solution(order):\n",
        "    count = 0\n",
        "    for menu in order:\n",
        "        if \"americano\" in menu or \"anything\" in menu:\n",
        "            count += 4500\n",
        "        else:\n",
        "            count += 5000\n",
        "    return count"
      ],
      "metadata": {
        "id": "2fOa-mJc_N1D"
      },
      "execution_count": null,
      "outputs": []
    },
    {
      "cell_type": "markdown",
      "source": [
        "#### 그림 확대\n",
        "```\n",
        "직사각형 형태의 그림 파일이 있고, 이 그림 파일은 1 × 1 크기의 정사각형 크기의 픽셀로 이루어져 있습니다.\n",
        "이 그림 파일을 나타낸 문자열 배열 picture과 정수 k가 매개변수로 주어질 때, 이 그림 파일을 가로 세로로 k배 늘린 그림 파일을 나타내도록\n",
        "문자열 배열을 return 하는 solution 함수를 작성해 주세요.\n",
        "```"
      ],
      "metadata": {
        "id": "UzQ0_DYG_zMZ"
      }
    },
    {
      "cell_type": "code",
      "source": [
        "# 배열에 넣는줄 알고 엉뚱하게 풀고 있었음... 다른사람 풀이 찾아봤다.\n",
        "def solution(picture, k):\n",
        "    answer = []\n",
        "\n",
        "    for row in picture: # 이미지의 한 줄을 가져온다.\n",
        "        resized = ''\n",
        "\n",
        "        for pixel in row:\n",
        "            resized += pixel * k # 한 픽셀을 k배 만큼 가로로 늘린다.\n",
        "\n",
        "        for _ in range(k):\n",
        "            answer.append(resized) # 가로로 늘려진 이미지 한 줄을 k배 만큼 세로로 늘린다.\n",
        "\n",
        "    return answer"
      ],
      "metadata": {
        "id": "Ju4bsC5_Ap73"
      },
      "execution_count": null,
      "outputs": []
    },
    {
      "cell_type": "code",
      "source": [
        "# _를 이용한 풀이\n",
        "def solution(picture, k):\n",
        "    answer = []\n",
        "\n",
        "    for line in range(len(picture)):\n",
        "        for _ in k:\n",
        "            answer.append(picture[i].replace(\".\", \".\"*k).replace(\"x\", \"x\"*k))\n",
        "    return answer"
      ],
      "metadata": {
        "id": "3pLTZjTlFbuU"
      },
      "execution_count": null,
      "outputs": []
    },
    {
      "cell_type": "markdown",
      "source": [
        "#### 조건에 맞게 수열 변환하기 3\n",
        "```\n",
        "정수 배열 arr와 자연수 k가 주어집니다.\n",
        "\n",
        "만약 k가 홀수라면 arr의 모든 원소에 k를 곱하고, k가 짝수라면 arr의 모든 원소에 k를 더합니다.\n",
        "\n",
        "이러한 변환을 마친 후의 arr를 return 하는 solution 함수를 완성해 주세요.\n",
        "```"
      ],
      "metadata": {
        "id": "FIllAZPVy5UB"
      }
    },
    {
      "cell_type": "code",
      "source": [
        "def solution(arr, k):\n",
        "    if k % 2:\n",
        "        arr = [i*k for i in arr]\n",
        "    else:\n",
        "        arr = [i+k for i in arr]\n",
        "    return arr"
      ],
      "metadata": {
        "id": "MTJJ4pORy_ww"
      },
      "execution_count": null,
      "outputs": []
    },
    {
      "cell_type": "markdown",
      "source": [
        "#### l로 만들기\n",
        "```\n",
        "알파벳 소문자로 이루어진 문자열 myString이 주어집니다. 알파벳 순서에서 \"l\"보다 앞서는 모든 문자를 \"l\"로 바꾼 문자열을 return 하는 solution 함수를 완성해 주세요.\n",
        "```"
      ],
      "metadata": {
        "id": "iQq3uh9ezllr"
      }
    },
    {
      "cell_type": "code",
      "source": [
        "def solution(myString):\n",
        "    ret = \"\"\n",
        "\n",
        "    for alp in myString:\n",
        "        if ord(alp) < ord(\"l\"):\n",
        "            ret += \"l\"\n",
        "        else:\n",
        "            ret += alp\n",
        "    return ret"
      ],
      "metadata": {
        "id": "En6-QscIzobG"
      },
      "execution_count": null,
      "outputs": []
    },
    {
      "cell_type": "code",
      "source": [
        "# ord 안써도 됨"
      ],
      "metadata": {
        "id": "QpacNoqt2K2y"
      },
      "execution_count": null,
      "outputs": []
    },
    {
      "cell_type": "markdown",
      "source": [
        "#### 특별한 이차원 배열\n",
        "```\n",
        "정수 n이 매개변수로 주어질 때, 다음과 같은 n × n 크기의 이차원 배열 arr를 return 하는 solution 함수를 작성해 주세요.\n",
        "\n",
        "arr[i][j] (0 ≤ i, j < n)의 값은 i = j라면 1, 아니라면 0입니다.\n",
        "```"
      ],
      "metadata": {
        "id": "BAnGa9cm3tID"
      }
    },
    {
      "cell_type": "code",
      "source": [
        "def solution(n):\n",
        "    return [[1 if i == j else 0 for i in range(n)] for j in range(n)]\n",
        "# 아휴"
      ],
      "metadata": {
        "id": "SijmpykT3w-5"
      },
      "execution_count": null,
      "outputs": []
    },
    {
      "cell_type": "markdown",
      "source": [
        "#### 정수를 나선형으로 배치하기\n",
        "```\n",
        "양의 정수 n이 매개변수로 주어집니다.\n",
        "n × n 배열에 1부터 n2 까지 정수를 인덱스 [0][0]부터 시계방향 나선형으로 배치한\n",
        "이차원 배열을 return 하는 solution 함수를 작성해 주세요.\n",
        "```"
      ],
      "metadata": {
        "id": "2UxFE4BY5wwh"
      }
    },
    {
      "cell_type": "code",
      "source": [
        "def solution(n):\n",
        "    # 이건 일단 keep이다. 시간이 얼마 안남았으니 내일 하자..."
      ],
      "metadata": {
        "id": "e1C4BhxC52I0"
      },
      "execution_count": null,
      "outputs": []
    },
    {
      "cell_type": "markdown",
      "source": [
        "#### 특별한 이차원 배열 2\n",
        "```\n",
        "n × n 크기의 이차원 배열 arr이 매개변수로 주어질 때, arr이 다음을 만족하면 1을 아니라면 0을 return 하는 solution 함수를 작성해 주세요.\n",
        "\n",
        "0 ≤ i, j < n인 정수 i, j에 대하여 arr[i][j] = arr[j][i]\n",
        "```"
      ],
      "metadata": {
        "id": "GLzlxudO83Em"
      }
    },
    {
      "cell_type": "code",
      "source": [
        "def solution(arr):\n",
        "    for i in range(len(arr)):\n",
        "        for j in range(len(arr)):\n",
        "            if arr[i][j] != arr[j][i]:\n",
        "                return 0\n",
        "    return 1"
      ],
      "metadata": {
        "id": "Ipz7UCTi8_1r"
      },
      "execution_count": null,
      "outputs": []
    },
    {
      "cell_type": "markdown",
      "source": [
        "#### 정사각형으로 만들기\n",
        "```\n",
        "이차원 정수 배열 arr이 매개변수로 주어집니다. arr의 행의 수가 더 많다면 열의 수가 행의 수와 같아지도록 각 행의 끝에 0을 추가하고,\n",
        "열의 수가 더 많다면 행의 수가 열의 수와 같아지도록 각 열의 끝에 0을 추가한 이차원 배열을 return 하는 solution 함수를 작성해 주세요.\n",
        "```"
      ],
      "metadata": {
        "id": "uM825s06-7bX"
      }
    },
    {
      "cell_type": "code",
      "source": [
        "def solution(arr):\n",
        "    row = len(arr)\n",
        "    col = len(arr[-1])\n",
        "    if row > col:\n",
        "        for i in arr:\n",
        "            i.extend([0]*(row-col))\n",
        "    elif row < col:\n",
        "        for _ in range(col-row):\n",
        "            arr.append([0]*col)\n",
        "    return arr\n",
        "\n",
        "solution([[1, 1], [1, 1], [1, 1], [1, 1]])"
      ],
      "metadata": {
        "colab": {
          "base_uri": "https://localhost:8080/"
        },
        "id": "fHFYTrdz-9lZ",
        "outputId": "8ef1d8d6-4c76-4069-a775-a7790f579d17"
      },
      "execution_count": null,
      "outputs": [
        {
          "output_type": "execute_result",
          "data": {
            "text/plain": [
              "[[1, 1, 0, 0], [1, 1, 0, 0], [1, 1, 0, 0], [1, 1, 0, 0]]"
            ]
          },
          "metadata": {},
          "execution_count": 18
        }
      ]
    },
    {
      "cell_type": "code",
      "source": [
        "# 반례 [[1, 1], [1, 1], [1, 1], [1, 1]] => [[1, 1, 0], [1, 1, 0], [1, 1, 0], [1, 1, 0]]\n",
        "# 행과 열의 차이수만큼 0을 추가해주는 방식으로 변경."
      ],
      "metadata": {
        "id": "_QVEIx0lCT6K"
      },
      "execution_count": null,
      "outputs": []
    },
    {
      "cell_type": "markdown",
      "source": [
        "#### 이차원 배열 대각선 순회하기\n",
        "```\n",
        "2차원 정수 배열 board와 정수 k가 주어집니다.\n",
        "\n",
        "i + j <= k를 만족하는 모든 (i, j)에 대한 board[i][j]의 합을 return 하는 solution 함수를 완성해 주세요.\n",
        "```"
      ],
      "metadata": {
        "id": "Pax_swZuAwTE"
      }
    },
    {
      "cell_type": "code",
      "source": [
        "def solution(board, k):\n",
        "    ret = 0\n",
        "    for i in range(len(board)):\n",
        "        for j in range(len(board[i])):\n",
        "            if i + j <= k:\n",
        "                ret += board[i][j]\n",
        "    return ret"
      ],
      "metadata": {
        "id": "52JLFOWmCpi1"
      },
      "execution_count": null,
      "outputs": []
    },
    {
      "cell_type": "markdown",
      "source": [
        "### midpoint 12"
      ],
      "metadata": {
        "id": "1EDJId82vHCH"
      }
    },
    {
      "cell_type": "markdown",
      "source": [
        "#### 옹알이\n",
        "```\n",
        "머쓱이는 태어난 지 6개월 된 조카를 돌보고 있습니다.\n",
        "조카는 아직 \"aya\", \"ye\", \"woo\", \"ma\" 네 가지 발음을 최대 한 번씩 사용해 조합한(이어 붙인) 발음밖에 하지 못합니다.\n",
        "문자열 배열 babbling이 매개변수로 주어질 때, 머쓱이의 조카가 발음할 수 있는 단어의 개수를 return하도록 solution 함수를 완성해주세요.\n",
        "```"
      ],
      "metadata": {
        "id": "2Q5CLhkeDdIV"
      }
    },
    {
      "cell_type": "code",
      "source": [
        "def solution(babbling):\n",
        "    words = [\"aya\", \"ye\", \"woo\", \"ma\"]\n",
        "    cnt = 0\n",
        "    for i in babbling:\n",
        "        for word in words:\n",
        "            i = i.replace(word, \" \")\n",
        "        i = i.replace(\" \", \"\")\n",
        "        if not len(i):\n",
        "            cnt += 1\n",
        "    return cnt"
      ],
      "metadata": {
        "id": "NDHLRYxRDgbz"
      },
      "execution_count": null,
      "outputs": []
    },
    {
      "cell_type": "markdown",
      "source": [
        "순열 함수 `from itertools import permutations`를 이용한 풀이!\n",
        "처음 보는 모듈인데 알아봐야겠다 ㅎㅎ\n",
        "https://velog.io/@sugyeonghh/%ED%94%84%EB%A1%9C%EA%B7%B8%EB%9E%98%EB%A8%B8%EC%8A%A4-%EC%BD%94%EB%94%A9%ED%85%8C%EC%8A%A4%ED%8A%B8-%EC%9E%85%EB%AC%B8-%EC%98%B9%EC%95%8C%EC%9D%B41Python"
      ],
      "metadata": {
        "id": "G-UZ8rj8vIjR"
      }
    },
    {
      "cell_type": "code",
      "source": [
        "# re 를 이용한 풀이. 제일 깔끔하다.\n",
        "import re\n",
        "\n",
        "def solution(babbling):\n",
        "    regex = re.compile('^(aya|ye|woo|ma)+$')\n",
        "    cnt=0\n",
        "    for e in babbling:\n",
        "        if regex.match(e):\n",
        "            cnt+=1\n",
        "    return cnt"
      ],
      "metadata": {
        "id": "3VnhWZW3-THZ"
      },
      "execution_count": null,
      "outputs": []
    },
    {
      "cell_type": "markdown",
      "source": [
        "내가 풀이에 참고했던 코드\n",
        "https://harami.tistory.com/20  \n",
        "아이고 ㅎㅎ 난 아직 멀었다..."
      ],
      "metadata": {
        "id": "_3N45xJ_HItq"
      }
    },
    {
      "cell_type": "markdown",
      "source": [
        "#### 다음에 올 숫자\n",
        "```\n",
        "등차수열 혹은 등비수열 common이 매개변수로 주어질 때, 마지막 원소 다음으로 올 숫자를 return 하도록 solution 함수를 완성해보세요.\n",
        "```"
      ],
      "metadata": {
        "id": "sLFg-21bHM9u"
      }
    },
    {
      "cell_type": "code",
      "source": [
        "def solution(common):\n",
        "    dif = common[1] - common[0]\n",
        "    if common[2] - common[1] != dif:\n",
        "        x = common[1] // common[0]\n",
        "        return common[-1] * x\n",
        "    else:\n",
        "        return common[-1] + dif"
      ],
      "metadata": {
        "id": "weZ9zEFQHT5Y"
      },
      "execution_count": null,
      "outputs": []
    },
    {
      "cell_type": "markdown",
      "source": [
        "#### 연속된 수의 합\n",
        "```\n",
        "연속된 세 개의 정수를 더해 12가 되는 경우는 3, 4, 5입니다. 두 정수 num과 total이 주어집니다.\n",
        "연속된 수 num개를 더한 값이 total이 될 때, 정수 배열을 오름차순으로 담아 return하도록 solution함수를 완성해보세요.\n",
        "```"
      ],
      "metadata": {
        "id": "zoojC9_CXDQ_"
      }
    },
    {
      "cell_type": "code",
      "source": [
        "def solution(num, total):\n",
        "    average = total // num\n",
        "    return [i for i in range(average - (num-1)//2, average + (num + 2)//2)]"
      ],
      "metadata": {
        "id": "uL1Qc2dlXHHs"
      },
      "execution_count": null,
      "outputs": []
    },
    {
      "cell_type": "code",
      "source": [
        "# 비슷하게 풀었지만 특정 케이스에서 계속 오류가 발생했었다.\n",
        "# 반례를 찾지 못해서 결국 다른분 코드 참고ㅜㅜ"
      ],
      "metadata": {
        "id": "BKdcBXdxbqzs"
      },
      "execution_count": null,
      "outputs": []
    },
    {
      "cell_type": "markdown",
      "source": [
        "#### 종이 자르기\n",
        "```\n",
        "머쓱이는 큰 종이를 1 x 1 크기\b로 자르려고 합니다.\n",
        "예를 들어 2 x 2 크기의 종이를 1 x 1 크기로 자르려면 최소 가위질 세 번이 필요합니다.\n",
        "\n",
        "정수 M, N이 매개변수로 주어질 때, M x N 크기의 종이를 최소로 가위질 해야하는 횟수를 return 하도록 solution 함수를 완성해보세요.\n",
        "```"
      ],
      "metadata": {
        "id": "371yL1ZYbw8w"
      }
    },
    {
      "cell_type": "code",
      "source": [
        "def solution(M, N):\n",
        "    return M*N-1"
      ],
      "metadata": {
        "id": "ZjAZTCrjb6A2"
      },
      "execution_count": null,
      "outputs": []
    },
    {
      "cell_type": "markdown",
      "source": [
        "#### 문자열 밀기\n",
        "```\n",
        "문자열 \"hello\"에서 각 문자를 오른쪽으로 한 칸씩 밀고 마지막 문자는 맨 앞으로 이동시키면 \"ohell\"이 됩니다.\n",
        "이것을 문자열을 민다고 정의한다면 문자열 A와 B가 매개변수로 주어질 때,\n",
        "A를 밀어서 B가 될 수 있다면 밀어야 하는 최소 횟수를 return하고\n",
        "밀어서 B가 될 수 없으면 -1을 return 하도록 solution 함수를 완성해보세요.\n",
        "```"
      ],
      "metadata": {
        "id": "TvL3UYBDcfk9"
      }
    },
    {
      "cell_type": "code",
      "source": [
        "def solution(A, B):\n",
        "\treturn (B * 2).find(A)"
      ],
      "metadata": {
        "id": "LzINGKHLciQi"
      },
      "execution_count": null,
      "outputs": []
    },
    {
      "cell_type": "code",
      "source": [
        "# 미친 풀이 ㅎ ㅎㅎ ㅎㅎㅎ"
      ],
      "metadata": {
        "id": "Y4W0eVT1ldRo"
      },
      "execution_count": null,
      "outputs": []
    },
    {
      "cell_type": "markdown",
      "source": [
        "#### 잘라서 배열로 저장하기\n",
        "```\n",
        "문자열 my_str과 n이 매개변수로 주어질 때, my_str을 길이 n씩 잘라서 저장한 배열을 return하도록 solution 함수를 완성해주세요.\n",
        "```"
      ],
      "metadata": {
        "id": "DYwZ6-MQlgUZ"
      }
    },
    {
      "cell_type": "code",
      "source": [
        "def solution(my_str, n):\n",
        "    return [my_str[i:n+i] for i in range(0, len(my_str), n)]"
      ],
      "metadata": {
        "id": "MDfa7rcml8z2"
      },
      "execution_count": null,
      "outputs": []
    },
    {
      "cell_type": "markdown",
      "source": [
        "#### 7의 개수\n",
        "```\n",
        "머쓱이는 행운의 숫자 7을 가장 좋아합니다.\n",
        "정수 배열 array가 매개변수로 주어질 때, 7이 총 몇 개 있는지 return 하도록 solution 함수를 완성해보세요.\n",
        "```"
      ],
      "metadata": {
        "id": "qOl9IQ8IoFCX"
      }
    },
    {
      "cell_type": "code",
      "source": [
        "def solution(array):\n",
        "    s = \"\".join([str(i) for i in array])\n",
        "    return s.count(\"7\")"
      ],
      "metadata": {
        "id": "_LxM0Oc_oK0l"
      },
      "execution_count": null,
      "outputs": []
    },
    {
      "cell_type": "markdown",
      "source": [
        "#### 문자열 정렬하기 (2)\n",
        "```\n",
        "영어 대소문자로 이루어진 문자열 my_string이 매개변수로 주어질 때,\n",
        "my_string을 모두 소문자로 바꾸고 알파벳 순서대로 정렬한 문자열을 return 하도록 solution 함수를 완성해보세요.\n",
        "```"
      ],
      "metadata": {
        "id": "L42PEkWvoeJz"
      }
    },
    {
      "cell_type": "code",
      "source": [
        "def solution(my_string):\n",
        "    return \"\".join(sorted(my_string.lower()))"
      ],
      "metadata": {
        "id": "PdfkDBQEonrX"
      },
      "execution_count": null,
      "outputs": []
    },
    {
      "cell_type": "markdown",
      "source": [
        "#### 세균 증식\n",
        "```\n",
        "어떤 세균은 1시간에 두배만큼 증식한다고 합니다.\n",
        "처음 세균의 마리수 n과 경과한 시간 t가 매개변수로 주어질 때 t시간 후 세균의 수를 return하도록 solution 함수를 완성해주세요.\n",
        "```"
      ],
      "metadata": {
        "id": "i0zYihBMo9xw"
      }
    },
    {
      "cell_type": "code",
      "source": [
        "def solution(n, t):\n",
        "    return n*2**t"
      ],
      "metadata": {
        "id": "82G0nxjrpDzC"
      },
      "execution_count": null,
      "outputs": []
    },
    {
      "cell_type": "markdown",
      "source": [
        "#### 제곱수 판별하기\n",
        "```\n",
        "어떤 자연수를 제곱했을 때 나오는 정수를 제곱수라고 합니다. 정수 n이 매개변수로 주어질 때,\n",
        "n이 제곱수라면 1을 아니라면 2를 return하도록 solution 함수를 완성해주세요.\n",
        "```"
      ],
      "metadata": {
        "id": "mEgFKixKqMon"
      }
    },
    {
      "cell_type": "code",
      "source": [
        "def solution(n):\n",
        "    return 1 if str(n**0.5).split(\".\")[1] == \"0\" else 2"
      ],
      "metadata": {
        "id": "bVic7lwnqQp0"
      },
      "execution_count": null,
      "outputs": []
    },
    {
      "cell_type": "markdown",
      "source": [
        "#### 문자열안에 문자열\n",
        "```\n",
        "문자열 str1, str2가 매개변수로 주어집니다. str1 안에 str2가 있다면 1을 없다면 2를 return하도록 solution 함수를 완성해주세요.\n",
        "```"
      ],
      "metadata": {
        "id": "qw4hcngur1ui"
      }
    },
    {
      "cell_type": "code",
      "source": [
        "def solution(str1, str2):\n",
        "    return 1 if str2 in str1 else 2"
      ],
      "metadata": {
        "id": "L-0tYDPxuLF5"
      },
      "execution_count": null,
      "outputs": []
    },
    {
      "cell_type": "markdown",
      "source": [
        "#### OX퀴즈\n",
        "```\n",
        "덧셈, 뺄셈 수식들이 'X [연산자] Y = Z' 형태로 들어있는 문자열 배열 quiz가 매개변수로 주어집니다.\n",
        "수식이 옳다면 \"O\"를 틀리다면 \"X\"를 순서대로 담은 배열을 return하도록 solution 함수를 완성해주세요.\n",
        "```"
      ],
      "metadata": {
        "id": "GuvfQXqtutgU"
      }
    },
    {
      "cell_type": "code",
      "source": [
        "def solution(quiz):\n",
        "    ret = []\n",
        "    for i in quiz:\n",
        "        q, s = i.split(\"=\")\n",
        "        if eval(q) == int(s):\n",
        "            ret.append(\"O\")\n",
        "        else:\n",
        "            ret.append(\"X\")\n",
        "    return ret"
      ],
      "metadata": {
        "id": "YO6OJIGbux7Z"
      },
      "execution_count": null,
      "outputs": []
    },
    {
      "cell_type": "markdown",
      "source": [
        "### midpoint 13"
      ],
      "metadata": {
        "id": "V8El3_D0aIX-"
      }
    },
    {
      "cell_type": "markdown",
      "source": [
        "#### 자릿수 더하기\n",
        "```\n",
        "정수 n이 매개변수로 주어질 때 n의 각 자리 숫자의 합을 return하도록 solution 함수를 완성해주세요.\n",
        "```"
      ],
      "metadata": {
        "id": "O1Ref2WnaMKs"
      }
    },
    {
      "cell_type": "code",
      "source": [
        "def solution(n):\n",
        "    return eval(\"+\".join(str(n)))"
      ],
      "metadata": {
        "id": "Ea6zmQI2aS_e"
      },
      "execution_count": null,
      "outputs": []
    },
    {
      "cell_type": "markdown",
      "source": [
        "#### n의 배수 고르기\n",
        "```\n",
        "정수 n과 정수 배열 numlist가 매개변수로 주어질 때, numlist에서 n의 배수가 아닌 수들을 제거한 배열을 return하도록 solution 함수를 완성해주세요.\n",
        "```"
      ],
      "metadata": {
        "id": "BK1GOIogbF73"
      }
    },
    {
      "cell_type": "code",
      "source": [
        "def solution(n, numlist):\n",
        "    return list(filter(lambda x: x % n == 0, numlist))"
      ],
      "metadata": {
        "id": "pQMbF-RPbJ2i"
      },
      "execution_count": null,
      "outputs": []
    },
    {
      "cell_type": "markdown",
      "source": [
        "#### 숫자 찾기\n",
        "```\n",
        "정수 num과 k가 매개변수로 주어질 때, num을 이루는 숫자 중에 k가 있으면 num의 그 숫자가 있는 자리 수를 return하고\n",
        "없으면 -1을 return 하도록 solution 함수를 완성해보세요.\n",
        "```"
      ],
      "metadata": {
        "id": "TeMW0v1sbZ-b"
      }
    },
    {
      "cell_type": "code",
      "source": [
        "def solution(num, k):\n",
        "    return (\" \" + str(num)).find(str(k))"
      ],
      "metadata": {
        "id": "tE55Fs8gbc8f"
      },
      "execution_count": null,
      "outputs": []
    },
    {
      "cell_type": "code",
      "source": [
        "# 1부터 시작하는 자리수를 의미하므로 빈 문자열 하나를 넣어줌."
      ],
      "metadata": {
        "id": "dyvngTOWcej2"
      },
      "execution_count": null,
      "outputs": []
    },
    {
      "cell_type": "markdown",
      "source": [
        "#### 배열의 유사도\n",
        "```\n",
        "두 배열이 얼마나 유사한지 확인해보려고 합니다. 문자열 배열 s1과 s2가 주어질 때 같은 원소의 개수를 return하도록 solution 함수를 완성해주세요.\n",
        "```"
      ],
      "metadata": {
        "id": "79F4uYSlcmeC"
      }
    },
    {
      "cell_type": "code",
      "source": [
        "def solution(s1, s2):\n",
        "    return len(set(s1) & set(s2))"
      ],
      "metadata": {
        "id": "BoRtoAptdUWg"
      },
      "execution_count": null,
      "outputs": []
    },
    {
      "cell_type": "code",
      "source": [
        "# set 교집합\n",
        "# 1. set1 & set2\n",
        "# 2. set1.intersection(set2)"
      ],
      "metadata": {
        "id": "Glzkkrmrdeo2"
      },
      "execution_count": null,
      "outputs": []
    },
    {
      "cell_type": "markdown",
      "source": [
        "#### 문자열 계산하기\n",
        "```\n",
        "my_string은 \"3 + 5\"처럼 문자열로 된 수식입니다. 문자열 my_string이 매개변수로 주어질 때,\n",
        "수식을 계산한 값을 return 하는 solution 함수를 완성해주세요.\n",
        "```"
      ],
      "metadata": {
        "id": "cLWRTPIVe_t5"
      }
    },
    {
      "cell_type": "code",
      "source": [
        "def solution(my_string):\n",
        "    return eval(my_string)"
      ],
      "metadata": {
        "id": "7Z9dtWC5fEBU"
      },
      "execution_count": null,
      "outputs": []
    },
    {
      "cell_type": "code",
      "source": [
        "# 하지만 eval은 보안에 취약해서 실제로는 잘 안쓴다고 한다.\n",
        "# 아래의 코드가 더 간지나는 것 같다."
      ],
      "metadata": {
        "id": "s4vYwGCsfnDz"
      },
      "execution_count": null,
      "outputs": []
    },
    {
      "cell_type": "code",
      "source": [
        "def solution(my_string):\n",
        "    return sum(int(i) for i in my_string.replace(' - ', ' + -').split(' + '))"
      ],
      "metadata": {
        "id": "cSp7lQ09fuD9"
      },
      "execution_count": null,
      "outputs": []
    },
    {
      "cell_type": "code",
      "source": [
        "# \"3 - 5\" 로 주어지면 \"3 + -5\"로 바꿔버려서 음수로 입력되게끔...ㅎㅎ"
      ],
      "metadata": {
        "id": "rZzeTEJ-fun0"
      },
      "execution_count": null,
      "outputs": []
    },
    {
      "cell_type": "markdown",
      "source": [
        "#### 가장 큰 수 찾기\n",
        "```\n",
        "정수 배열 array가 매개변수로 주어질 때, 가장 큰 수와 그 수의 인덱스를 담은 배열을 return 하도록 solution 함수를 완성해보세요.\n",
        "```"
      ],
      "metadata": {
        "id": "BFcLRBdbf6qN"
      }
    },
    {
      "cell_type": "code",
      "source": [
        "def solution(array):\n",
        "    # sorted를 쓰지 말고 풀어보자...\n",
        "    ret = max(array)\n",
        "    return [ret, array.index(ret)]"
      ],
      "metadata": {
        "id": "DhChBb-ogD-i"
      },
      "execution_count": null,
      "outputs": []
    },
    {
      "cell_type": "markdown",
      "source": [
        "#### 편지\n",
        "```\n",
        "머쓱이는 할머니께 생신 축하 편지를 쓰려고 합니다.\n",
        "할머니가 보시기 편하도록 글자 한 자 한 자를 가로 2cm 크기로 적으려고 하며, 편지를 가로로만 적을 때,\n",
        "축하 문구 message를 적기 위해 필요한 편지지의 최소 가로길이를 return 하도록 solution 함수를 완성해주세요.\n",
        "```"
      ],
      "metadata": {
        "id": "6JAWtbMlgLeU"
      }
    },
    {
      "cell_type": "code",
      "source": [
        "def solution(message):\n",
        "    return len(message) * 2"
      ],
      "metadata": {
        "id": "EKDlN8sYgl1U"
      },
      "execution_count": null,
      "outputs": []
    },
    {
      "cell_type": "markdown",
      "source": [
        "#### 약수 구하기\n",
        "```\n",
        "정수 n이 매개변수로 주어질 때, n의 약수를 오름차순으로 담은 배열을 return하도록 solution 함수를 완성해주세요.\n",
        "```"
      ],
      "metadata": {
        "id": "EC2W4wcXg35b"
      }
    },
    {
      "cell_type": "code",
      "source": [
        "# 무작정 for문쓰면 그램 터짐\n",
        "def solution(n):\n",
        "    root = int(n ** 0.5)\n",
        "    ret = []\n",
        "    for i in range(1, root+1):\n",
        "        if n % i == 0:\n",
        "            ret.append(i)\n",
        "            if (n // i) not in ret:\n",
        "                ret.append(n // i)\n",
        "    return sorted(ret)"
      ],
      "metadata": {
        "colab": {
          "base_uri": "https://localhost:8080/"
        },
        "id": "SyuMTLBig6eL",
        "outputId": "859a383f-94c7-4f01-d858-5121384fa8eb"
      },
      "execution_count": null,
      "outputs": [
        {
          "output_type": "execute_result",
          "data": {
            "text/plain": [
              "[1, 2, 3, 4, 6, 8, 12, 24]"
            ]
          },
          "metadata": {},
          "execution_count": 18
        }
      ]
    },
    {
      "cell_type": "markdown",
      "source": [
        "#### 한 번만 등장한 문자\n",
        "```\n",
        "문자열 s가 매개변수로 주어집니다. s에서 한 번만 등장하는 문자를 사전 순으로 정렬한 문자열을 return 하도록 solution 함수를 완성해보세요.\n",
        "한 번만 등장하는 문자가 없을 경우 빈 문자열을 return 합니다.\n",
        "```"
      ],
      "metadata": {
        "id": "Jjv6LEVxiowf"
      }
    },
    {
      "cell_type": "code",
      "source": [
        "def solution(s):\n",
        "    return \"\".join(sorted(filter(lambda x: s.count(x) == 1, s)))\n",
        "\n",
        "solution(\"abcabcadc\")"
      ],
      "metadata": {
        "colab": {
          "base_uri": "https://localhost:8080/",
          "height": 36
        },
        "id": "rkdQFhL2jOu3",
        "outputId": "14c953d9-3cb2-461a-e808-af22fe1db45b"
      },
      "execution_count": null,
      "outputs": [
        {
          "output_type": "execute_result",
          "data": {
            "text/plain": [
              "'d'"
            ],
            "application/vnd.google.colaboratory.intrinsic+json": {
              "type": "string"
            }
          },
          "metadata": {},
          "execution_count": 21
        }
      ]
    },
    {
      "cell_type": "markdown",
      "source": [
        "#### 인덱스 바꾸기\n",
        "```\n",
        "문자열 my_string과 정수 num1, num2가 매개변수로 주어질 때,\n",
        "my_string에서 인덱스 num1과 인덱스 num2에 해당하는 문자를 바꾼 문자열을 return 하도록 solution 함수를 완성해보세요.\n",
        "```"
      ],
      "metadata": {
        "id": "VYLA7LQ_j3p2"
      }
    },
    {
      "cell_type": "code",
      "source": [
        "def solution(my_string, num1, num2):\n",
        "    s = list(my_string)\n",
        "    s[num1] = my_string[num2]\n",
        "    s[num2] = my_string[num1]\n",
        "    return \"\".join(s)\n",
        "\n",
        "solution(\"hello\", 1, 2)"
      ],
      "metadata": {
        "colab": {
          "base_uri": "https://localhost:8080/",
          "height": 36
        },
        "id": "c8W-uHHIkoO7",
        "outputId": "8cb74bbb-0675-4e04-b85b-77e1b6fdb886"
      },
      "execution_count": null,
      "outputs": [
        {
          "output_type": "execute_result",
          "data": {
            "text/plain": [
              "'hlelo'"
            ],
            "application/vnd.google.colaboratory.intrinsic+json": {
              "type": "string"
            }
          },
          "metadata": {},
          "execution_count": 28
        }
      ]
    },
    {
      "cell_type": "markdown",
      "source": [
        "#### 영어가 싫어요\n",
        "```\n",
        "영어가 싫은 머쓱이는 영어로 표기되어있는 숫자를 수로 바꾸려고 합니다.\n",
        "문자열 numbers가 매개변수로 주어질 때, numbers를 정수로 바꿔 return 하도록 solution 함수를 완성해 주세요.\n",
        "```"
      ],
      "metadata": {
        "id": "uqbKYoLLl2bZ"
      }
    },
    {
      "cell_type": "code",
      "source": [
        "def solution(numbers):\n",
        "    lst = [\"zero\", \"one\", \"two\", \"three\", \"four\",\n",
        "           \"five\", \"six\", \"seven\", \"eight\", \"nine\"]\n",
        "    dic = {lst[i]: str(i) for i in range(10)}\n",
        "    for i in lst:\n",
        "        if i in numbers:\n",
        "            numbers = numbers.replace(i, dic[i])\n",
        "    return int(numbers)\n",
        "\n",
        "solution(\"onefourzerosixseven\")"
      ],
      "metadata": {
        "colab": {
          "base_uri": "https://localhost:8080/"
        },
        "id": "65uy6GI7mgw5",
        "outputId": "d42e9e2c-c821-4c62-f8e9-68275ca485db"
      },
      "execution_count": null,
      "outputs": [
        {
          "output_type": "execute_result",
          "data": {
            "text/plain": [
              "14067"
            ]
          },
          "metadata": {},
          "execution_count": 34
        }
      ]
    },
    {
      "cell_type": "code",
      "source": [
        "# enumerate을 사용하면 더 깔끔하네?\n",
        "def solution(numbers):\n",
        "    for num, eng in enumerate([\"zero\", \"one\", \"two\", \"three\", \"four\", \"five\", \"six\", \"seven\", \"eight\", \"nine\"]):\n",
        "        numbers = numbers.replace(eng, str(num))\n",
        "    return int(numbers)"
      ],
      "metadata": {
        "id": "oXQ6MOQDpc3f"
      },
      "execution_count": null,
      "outputs": []
    },
    {
      "cell_type": "markdown",
      "source": [
        "#### 대문자와 소문자\n",
        "```\n",
        "문자열 my_string이 매개변수로 주어질 때, 대문자는 소문자로 소문자는 대문자로 변환한 문자열을 return하도록 solution 함수를 완성해주세요.\n",
        "```"
      ],
      "metadata": {
        "id": "VfoILHgErZZb"
      }
    },
    {
      "cell_type": "code",
      "source": [
        "def solution(my_string):\n",
        "    ret = ''\n",
        "    for i in my_string:\n",
        "        if i.isupper():\n",
        "            ret += i.lower()\n",
        "        else:\n",
        "            ret += i.upper()\n",
        "    return ret"
      ],
      "metadata": {
        "id": "XCwYnRRNsAoU"
      },
      "execution_count": null,
      "outputs": []
    },
    {
      "cell_type": "code",
      "source": [
        "# 개사기 코드 ㅋㅋ 와우 이런게 있었구나\n",
        "def solution(my_string):\n",
        "    return my_string.swapcase()"
      ],
      "metadata": {
        "id": "vYM4ercCsGjy"
      },
      "execution_count": null,
      "outputs": []
    },
    {
      "cell_type": "markdown",
      "source": [
        "#### 삼각형의 완성조건 (1)\n",
        "```\n",
        "선분 세 개로 삼각형을 만들기 위해서는 다음과 같은 조건을 만족해야 합니다.\n",
        "\n",
        "가장 긴 변의 길이는 다른 두 변의 길이의 합보다 작아야 합니다.\n",
        "삼각형의 세 변의 길이가 담긴 배열 sides이 매개변수로 주어집니다. 세 변으로 삼각형을 만들 수 있다면 1, 만들 수 없다면 2를 return하도록 solution 함수를 완성해주세요.\n",
        "```"
      ],
      "metadata": {
        "id": "QD5X4xIssztj"
      }
    },
    {
      "cell_type": "code",
      "source": [
        "def solution(sides):\n",
        "    x = sorted(sides)\n",
        "    return 1 if sum(x[:2]) > x[2] else 2"
      ],
      "metadata": {
        "id": "1HgMGk0Cs9iC"
      },
      "execution_count": null,
      "outputs": []
    },
    {
      "cell_type": "markdown",
      "source": [
        "#### 이진수 더하기\n",
        "```\n",
        "이진수를 의미하는 두 개의 문자열 bin1과 bin2가 매개변수로 주어질 때, 두 이진수의 합을 return하도록 solution 함수를 완성해주세요.\n",
        "```"
      ],
      "metadata": {
        "id": "04OmN2Rdtpge"
      }
    },
    {
      "cell_type": "code",
      "source": [
        "def solution(bin1, bin2):\n",
        "    ret = int(\"0b\" + bin1, 2) + int(\"0b\" + bin2, 2)\n",
        "    return bin(ret)[2:]"
      ],
      "metadata": {
        "id": "a3wIrYljtsVC"
      },
      "execution_count": null,
      "outputs": []
    },
    {
      "cell_type": "markdown",
      "source": [
        "#### 치킨 쿠폰\n",
        "```\n",
        "프로그래머스 치킨은 치킨을 시켜먹으면 한 마리당 쿠폰을 한 장 발급합니다.\n",
        "쿠폰을 열 장 모으면 치킨을 한 마리 서비스로 받을 수 있고, 서비스 치킨에도 쿠폰이 발급됩니다.\n",
        "시켜먹은 치킨의 수 chicken이 매개변수로 주어질 때 받을 수 있는 최대 서비스 치킨의 수를 return하도록 solution 함수를 완성해주세요.\n",
        "```"
      ],
      "metadata": {
        "id": "1S8BlXbPuR-U"
      }
    },
    {
      "cell_type": "code",
      "source": [
        "def solution(chicken):\n",
        "    ret = 0\n",
        "    while chicken >= 10:\n",
        "        print(f\"전 치킨: {chicken}, 전 서비스: {ret}\")\n",
        "        cnt = chicken // 10\n",
        "        ret += cnt\n",
        "        chicken -= (cnt*9)\n",
        "        print(f\"후 치킨: {chicken}, 후 서비스: {ret}\")\n",
        "    return ret\n",
        "\n",
        "solution(1081)"
      ],
      "metadata": {
        "colab": {
          "base_uri": "https://localhost:8080/"
        },
        "id": "SrWynx1HuUiR",
        "outputId": "5d95b0f5-e7d1-461b-af99-43b552f03fe2"
      },
      "execution_count": null,
      "outputs": [
        {
          "output_type": "stream",
          "name": "stdout",
          "text": [
            "전 치킨: 1081, 전 서비스: 0\n",
            "후 치킨: 109, 후 서비스: 108\n",
            "전 치킨: 109, 전 서비스: 108\n",
            "후 치킨: 19, 후 서비스: 118\n",
            "전 치킨: 19, 전 서비스: 118\n",
            "후 치킨: 10, 후 서비스: 119\n",
            "전 치킨: 10, 전 서비스: 119\n",
            "후 치킨: 1, 후 서비스: 120\n"
          ]
        },
        {
          "output_type": "execute_result",
          "data": {
            "text/plain": [
              "120"
            ]
          },
          "metadata": {},
          "execution_count": 45
        }
      ]
    },
    {
      "cell_type": "markdown",
      "source": [
        "### midpoint 14"
      ],
      "metadata": {
        "id": "EeSennYjZtox"
      }
    },
    {
      "cell_type": "markdown",
      "source": [
        "#### 로그인 성공?\n",
        "```\n",
        "머쓱이는 프로그래머스에 로그인하려고 합니다.\n",
        "머쓱이가 입력한 아이디와 패스워드가 담긴 배열 id_pw와 회원들의 정보가 담긴 2차원 배열 db가 주어질 때,\n",
        "다음과 같이 로그인 성공, 실패에 따른 메시지를 return하도록 solution 함수를 완성해주세요.\n",
        "\n",
        "아이디와 비밀번호가 모두 일치하는 회원정보가 있으면 \"login\"을 return합니다.\n",
        "로그인이 실패했을 때 아이디가 일치하는 회원이 없다면 “fail”를, 아이디는 일치하지만 비밀번호가 일치하는 회원이 없다면 “wrong pw”를 return 합니다.\n",
        "```"
      ],
      "metadata": {
        "id": "yWK0adkLZv5i"
      }
    },
    {
      "cell_type": "code",
      "source": [
        "def solution(id_pw, db):\n",
        "    id, pw = id_pw[0], id_pw[1]\n",
        "    for i, p in db:\n",
        "        if i == id:\n",
        "            if p == pw:\n",
        "                return \"login\"\n",
        "            else:\n",
        "                return \"wrong pw\"\n",
        "    return \"fail\"\n",
        "\n",
        "solution([\"meosseugi\", \"1234\"],\t[[\"rardss\", \"123\"], [\"yyoom\", \"1234\"], [\"meosseugi\", \"1234\"]])"
      ],
      "metadata": {
        "colab": {
          "base_uri": "https://localhost:8080/",
          "height": 36
        },
        "id": "XtYXpGJMZ6L6",
        "outputId": "162c0638-ea5d-4ba6-820f-cf1b091c4f4f"
      },
      "execution_count": null,
      "outputs": [
        {
          "output_type": "execute_result",
          "data": {
            "text/plain": [
              "'login'"
            ],
            "application/vnd.google.colaboratory.intrinsic+json": {
              "type": "string"
            }
          },
          "metadata": {},
          "execution_count": 6
        }
      ]
    },
    {
      "cell_type": "markdown",
      "source": [
        "#### 등수 매기기\n",
        "```\n",
        "영어 점수와 수학 점수의 평균 점수를 기준으로 학생들의 등수를 매기려고 합니다. 영어 점수와 수학 점수를 담은 2차원 정수 배열 score가 주어질 때,\n",
        "영어 점수와 수학 점수의 평균을 기준으로 매긴 등수를 담은 배열을 return하도록 solution 함수를 완성해주세요.\n",
        "```"
      ],
      "metadata": {
        "id": "lhe_oq9Dbz_H"
      }
    },
    {
      "cell_type": "code",
      "source": [
        "def solution(score):\n",
        "    lst = [sum(i) for i in score]\n",
        "    reversed_lst = sorted(lst, reverse=True)\n",
        "    ret = []\n",
        "    for i in lst:\n",
        "        ret.append(reversed_lst.index(i)+1)\n",
        "    return ret\n",
        "\n",
        "solution([[80, 70], [70, 80], [30, 50], [90, 100], [100, 90], [100, 100], [10, 30]])"
      ],
      "metadata": {
        "colab": {
          "base_uri": "https://localhost:8080/"
        },
        "id": "GN489TPUdYxD",
        "outputId": "3f395424-b8c4-435f-c459-f1f84cba65f0"
      },
      "execution_count": null,
      "outputs": [
        {
          "output_type": "execute_result",
          "data": {
            "text/plain": [
              "[4, 4, 6, 2, 2, 1, 7]"
            ]
          },
          "metadata": {},
          "execution_count": 12
        }
      ]
    },
    {
      "cell_type": "markdown",
      "source": [
        "#### 특이한 정렬\n",
        "```\n",
        "정수 n을 기준으로 n과 가까운 수부터 정렬하려고 합니다. 이때 n으로부터의 거리가 같다면 더 큰 수를 앞에 오도록 배치합니다.\n",
        "정수가 담긴 배열 numlist와 정수 n이 주어질 때 numlist의 원소를 n으로부터 가까운 순서대로 정렬한 배열을 return하도록 solution 함수를 완성해주세요.\n",
        "```"
      ],
      "metadata": {
        "id": "BvKqbzRKd79g"
      }
    },
    {
      "cell_type": "code",
      "source": [
        "def solution(numlist, n):\n",
        "    return sorted(numlist, key=lambda x: (abs(n-x), n-x))\n",
        "\n",
        "solution([10, 2], 6)"
      ],
      "metadata": {
        "colab": {
          "base_uri": "https://localhost:8080/"
        },
        "id": "ICOnAMdogNRW",
        "outputId": "a7f21d49-2fbf-4583-e207-53f1a148bd3a"
      },
      "execution_count": null,
      "outputs": [
        {
          "output_type": "execute_result",
          "data": {
            "text/plain": [
              "[10, 2]"
            ]
          },
          "metadata": {},
          "execution_count": 22
        }
      ]
    },
    {
      "cell_type": "markdown",
      "source": [
        "#### 유한소수 판별하기\n",
        "```\n",
        "소수점 아래 숫자가 계속되지 않고 유한개인 소수를 유한소수라고 합니다.\n",
        "분수를 소수로 고칠 때 유한소수로 나타낼 수 있는 분수인지 판별하려고 합니다.\n",
        "유한소수가 되기 위한 분수의 조건은 다음과 같습니다.\n",
        "\n",
        "기약분수로 나타내었을 때, 분모의 소인수가 2와 5만 존재해야 합니다.\n",
        "두 정수 a와 b가 매개변수로 주어질 때, a/b가 유한소수이면 1을,\n",
        "무한소수라면 2를 return하도록 solution 함수를 완성해주세요.\n",
        "```"
      ],
      "metadata": {
        "id": "X2IjhuOlhUWF"
      }
    },
    {
      "cell_type": "code",
      "source": [
        "# 다른 사람 풀이. gcd함수를 처음 봤다.\n",
        "from math import gcd\n",
        "\n",
        "def solution(a, b):\n",
        "    b = b / gcd(a, b)\n",
        "    for i in [2, 5]:\n",
        "        while not b % i:\n",
        "            b //= i\n",
        "\n",
        "    return 1 if b == 1 else 2"
      ],
      "metadata": {
        "id": "2Vz1YUbFkLqC"
      },
      "execution_count": null,
      "outputs": []
    },
    {
      "cell_type": "code",
      "source": [
        "# 다른 풀이 2\n",
        "def solution(a, b):\n",
        "    answer = 0\n",
        "    for i in range(2, min([a, b]) + 1):\n",
        "        while a % i == 0 and b % i == 0:\n",
        "            a = a // i\n",
        "            b = b // i\n",
        "    while b % 2 == 0:\n",
        "        b = b // 2\n",
        "    while b % 5 == 0:\n",
        "        b = b // 5\n",
        "    if b == 1:\n",
        "        answer = 1\n",
        "    else:\n",
        "        answer = 2\n",
        "    return answer"
      ],
      "metadata": {
        "id": "NcZFEDWxpCVE"
      },
      "execution_count": null,
      "outputs": []
    },
    {
      "cell_type": "markdown",
      "source": [
        "#### 겹치는 선분의 길이\n",
        "```\n",
        "선분 3개가 평행하게 놓여 있습니다.\n",
        "세 선분의 시작과 끝 좌표가 [[start, end], [start, end], [start, end]] 형태로 들어있는 2차원 배열 lines가 매개변수로 주어질 때,\n",
        "두 개 이상의 선분이 겹치는 부분의 길이를 return 하도록 solution 함수를 완성해보세요.\n",
        "```"
      ],
      "metadata": {
        "id": "96OuR3DvpvZS"
      }
    },
    {
      "cell_type": "code",
      "source": [
        "def solution(lines):\n",
        "    test = []\n",
        "    for p1, p2 in lines:\n",
        "        test.append(set([x for x in range(p1, p2)]))\n",
        "    ret = test[0] & test[1] | test[1] & test[2] | test[2] & test[0]\n",
        "\n",
        "    return len(ret)\n",
        "\n",
        "solution([[0, 5], [3, 9], [1, 10]])"
      ],
      "metadata": {
        "colab": {
          "base_uri": "https://localhost:8080/"
        },
        "id": "wiYiXPRwp2tQ",
        "outputId": "22110998-6351-4369-e892-d312ce051549"
      },
      "execution_count": null,
      "outputs": [
        {
          "output_type": "execute_result",
          "data": {
            "text/plain": [
              "8"
            ]
          },
          "metadata": {},
          "execution_count": 27
        }
      ]
    },
    {
      "cell_type": "code",
      "source": [
        "# 훨씬 깔끔한 코드. 마지막 합집합 부분은 이 코드를 참고했다 ㅎ\n",
        "def solution(lines):\n",
        "    sets = [set(range(min(l), max(l))) for l in lines]\n",
        "    return len(sets[0] & sets[1] | sets[0] & sets[2] | sets[1] & sets[2])"
      ],
      "metadata": {
        "id": "1h6O6xqnrPml"
      },
      "execution_count": null,
      "outputs": []
    },
    {
      "cell_type": "markdown",
      "source": [
        "#### 평행\n",
        "```\n",
        "점 네 개의 좌표를 담은 이차원 배열  dots가 다음과 같이 매개변수로 주어집니다.\n",
        "\n",
        "[[x1, y1], [x2, y2], [x3, y3], [x4, y4]]\n",
        "주어진 네 개의 점을 두 개씩 이었을 때, 두 직선이 평행이 되는 경우가 있으면 1을 없으면 0을 return 하도록 solution 함수를 완성해보세요.\n",
        "```"
      ],
      "metadata": {
        "id": "qJtsVEKMwD_p"
      }
    },
    {
      "cell_type": "code",
      "source": [
        "# 내 원래 답. 테스트케이스 1, 10 실패.\n",
        "def solution(dots):\n",
        "    lst = list(zip(*dots))\n",
        "    l, x = lst[0], lst[1]\n",
        "    l1, l2, l3, l4 = [*l]\n",
        "    x1, x2, x3, x4 = [*x]\n",
        "\n",
        "    if abs(l1 - l2) == abs(l3 - l4) and abs(x1 - x2) == abs(x3 - x4):\n",
        "        return 1\n",
        "    elif abs(l1 - l3) == abs(l2 - l4) and abs(x1 - x3) == abs(x2 - x4):\n",
        "        return 1\n",
        "    elif abs(l1 - l4) == abs(l2 - l3) and abs(x1 - x4) == abs(x2 - x3):\n",
        "        return 1\n",
        "    else:\n",
        "        return 0"
      ],
      "metadata": {
        "id": "MkYKhvLh4vr5"
      },
      "execution_count": null,
      "outputs": []
    },
    {
      "cell_type": "code",
      "source": [
        "# 기울기를 비교하는것으로 변경해봄. 통과.\n",
        "def solution(dots):\n",
        "    lst = list(zip(*dots))\n",
        "    x, y = lst[0], lst[1]\n",
        "    x1, x2, x3, x4 = [*x]\n",
        "    y1, y2, y3, y4 = [*y]\n",
        "\n",
        "    if (abs(y1-y2)/abs(x1-x2)) == (abs(y3-y4)/abs(x3-x4)):\n",
        "        return 1\n",
        "    elif (abs(y1-y3)/abs(x1-x3)) == (abs(y2-y4)/abs(x2-x4)):\n",
        "        return 1\n",
        "    elif (abs(y1-y4)/abs(x1-x4)) == (abs(y2-y3)/abs(x2-x3)):\n",
        "        return 1\n",
        "    return 0\n",
        "\n",
        "solution([[1, 4], [9, 2], [3, 8], [11, 6]])"
      ],
      "metadata": {
        "colab": {
          "base_uri": "https://localhost:8080/"
        },
        "id": "cIQclRVhwKZv",
        "outputId": "a4fb6ff9-897a-4578-ad0c-7e1f4d280eb8"
      },
      "execution_count": null,
      "outputs": [
        {
          "output_type": "execute_result",
          "data": {
            "text/plain": [
              "1"
            ]
          },
          "metadata": {},
          "execution_count": 47
        }
      ]
    },
    {
      "cell_type": "code",
      "source": [
        "# 근데 안이쁘다ㅜㅜ"
      ],
      "metadata": {
        "id": "6U43FkuoyW6v"
      },
      "execution_count": null,
      "outputs": []
    },
    {
      "cell_type": "markdown",
      "source": [
        "#### 외계어 사전\n",
        "```\n",
        "PROGRAMMERS-962 행성에 불시착한 우주비행사 머쓱이는 외계행성의 언어를 공부하려고 합니다.\n",
        "알파벳이 담긴 배열 spell과 외계어 사전 dic이 매개변수로 주어집니다.\n",
        "spell에 담긴 알파벳을 한번씩만 모두 사용한 단어가 dic에 존재한다면 1,\n",
        "존재하지 않는다면 2를 return하도록 solution 함수를 완성해주세요.\n",
        "```"
      ],
      "metadata": {
        "id": "4DUv-vLI5ACJ"
      }
    },
    {
      "cell_type": "code",
      "source": [
        "def solution(spell, dic):\n",
        "    for s in dic:\n",
        "        if set(s) == set(spell):\n",
        "            return 1\n",
        "    return 2"
      ],
      "metadata": {
        "id": "RU7GmkMv5F31"
      },
      "execution_count": null,
      "outputs": []
    },
    {
      "cell_type": "code",
      "source": [
        "# 생각해보니 문제가 있는 코드다.\n",
        "# 한번씩만 사용해야하는데 그 이상이 될수도 있다.\n",
        "# 아래와 같이 수정해야 맞지 않나?... 어쨌든 테스트케이스에선 모두 통과되긴 했다.\n",
        "def solution(spell, dic):\n",
        "    for s in dic:\n",
        "        if set(s) == set(spell) and len(s) == len(spell):\n",
        "            return 1\n",
        "    return 2"
      ],
      "metadata": {
        "id": "RR5vRbLc7utN"
      },
      "execution_count": null,
      "outputs": []
    },
    {
      "cell_type": "markdown",
      "source": [
        "#### 삼각형의 완성조건 (2)\n",
        "```\n",
        "선분 세 개로 삼각형을 만들기 위해서는 다음과 같은 조건을 만족해야 합니다.\n",
        "\n",
        "가장 긴 변의 길이는 다른 두 변의 길이의 합보다 작아야 합니다.\n",
        "삼각형의 두 변의 길이가 담긴 배열 sides이 매개변수로 주어집니다. 나머지 한 변이 될 수 있는 정수의 개수를 return하도록 solution 함수를 완성해주세요.\n",
        "```"
      ],
      "metadata": {
        "id": "IKqw7mjZ8hk9"
      }
    },
    {
      "cell_type": "code",
      "source": [
        "def solution(sides):\n",
        "    return len([i for i in range(abs(sides[0]-sides[1])+1, sum(sides))])"
      ],
      "metadata": {
        "id": "-6x-eWTR8lJM"
      },
      "execution_count": null,
      "outputs": []
    },
    {
      "cell_type": "markdown",
      "source": [
        "#### 안전지대\n",
        "```\n",
        "다음 그림과 같이 지뢰가 있는 지역과 지뢰에 인접한 위, 아래, 좌, 우 대각선 칸을 모두 위험지역으로 분류합니다.\n",
        "\n",
        "지뢰는 2차원 배열 board에 1로 표시되어 있고 board에는 지뢰가 매설 된 지역 1과, 지뢰가 없는 지역 0만 존재합니다.\n",
        "지뢰가 매설된 지역의 지도 board가 매개변수로 주어질 때,\n",
        "안전한 지역의 칸 수를 return하도록 solution 함수를 완성해주세요.\n",
        "```\n"
      ],
      "metadata": {
        "id": "BcbXx9g_9FBZ"
      }
    },
    {
      "cell_type": "code",
      "source": [
        "# for+if 덩어리가 되길래 포기했다...\n",
        "# 아래는 좋아요 수가 제일 많았던 파이썬 풀이.\n",
        "def solution(board):\n",
        "    n = len(board)\n",
        "    danger = set()\n",
        "    for i, row in enumerate(board):\n",
        "        for j, x in enumerate(row):\n",
        "            if not x:\n",
        "                continue\n",
        "            danger.update((i+di, j+dj) for di in [-1,0,1] for dj in [-1, 0, 1])\n",
        "    return n*n - sum(0 <= i < n and 0 <= j < n for i, j in danger)"
      ],
      "metadata": {
        "id": "tQ2_okd4aEwf"
      },
      "execution_count": null,
      "outputs": []
    },
    {
      "cell_type": "code",
      "source": [
        "# 이게 Lv0이 맞냐?!"
      ],
      "metadata": {
        "id": "otiv1u1KgVRm"
      },
      "execution_count": null,
      "outputs": []
    },
    {
      "cell_type": "markdown",
      "source": [
        "#### 숨어있는 숫자의 덧셈 (2)\n",
        "```\n",
        "문자열 my_string이 매개변수로 주어집니다. my_string은 소문자, 대문자, 자연수로만 구성되어있습니다.\n",
        "my_string안의 자연수들의 합을 return하도록 solution 함수를 완성해주세요.\n",
        "```"
      ],
      "metadata": {
        "id": "YgXdesf1hXcs"
      }
    },
    {
      "cell_type": "code",
      "source": [
        "import re\n",
        "\n",
        "def solution(my_string):\n",
        "    s = re.sub(r\"[^0-9]\", \" \", my_string)\n",
        "    ret = s.split()\n",
        "    return sum(int(i) for i in ret)\n",
        "\n",
        "solution(\"1a2b3c4d123Z\")"
      ],
      "metadata": {
        "colab": {
          "base_uri": "https://localhost:8080/"
        },
        "id": "85fjO7k1hatK",
        "outputId": "3c69df09-9e04-4ea5-ff24-be09560a75b4"
      },
      "execution_count": null,
      "outputs": [
        {
          "output_type": "execute_result",
          "data": {
            "text/plain": [
              "133"
            ]
          },
          "metadata": {},
          "execution_count": 18
        }
      ]
    },
    {
      "cell_type": "code",
      "source": [
        "# eval(\"+\".join(ret))하면 런타임 에러난다 ^^"
      ],
      "metadata": {
        "id": "J129uf4Rh8q5"
      },
      "execution_count": null,
      "outputs": []
    },
    {
      "cell_type": "markdown",
      "source": [
        "#### 다항식 더하기\n",
        "```\n",
        "한 개 이상의 항의 합으로 이루어진 식을 다항식이라고 합니다. 다항식을 계산할 때는 동류항끼리 계산해 정리합니다.\n",
        "덧셈으로 이루어진 다항식 polynomial이 매개변수로 주어질 때, 동류항끼리 더한 결괏값을 문자열로 return 하도록 solution 함수를 완성해보세요.\n",
        "같은 식이라면 가장 짧은 수식을 return 합니다.\n",
        "```"
      ],
      "metadata": {
        "id": "nmbJbV9hjjIA"
      }
    },
    {
      "cell_type": "code",
      "source": [
        "def solution(polynomial):\n",
        "    s = polynomial.split(\" + \")\n",
        "    x, num = 0, 0\n",
        "    for i in s:\n",
        "        if \"x\" in i:\n",
        "            if i == \"x\":\n",
        "                x += 1\n",
        "            else:\n",
        "                tmp = i.split(\"x\")[0]\n",
        "                x += int(tmp)\n",
        "        else:\n",
        "            num += int(i)\n",
        "    if x == 0 and num != 0:\n",
        "        return f\"{num}\"\n",
        "    elif x != 0 and num == 0:\n",
        "        if x == 1:\n",
        "            return \"x\"\n",
        "        return f\"{x}x\"\n",
        "    else:\n",
        "        if x == 1:\n",
        "            return f\"x + {num}\"\n",
        "        return f\"{x}x + {num}\""
      ],
      "metadata": {
        "id": "fCPlvZaWlW-O"
      },
      "execution_count": null,
      "outputs": []
    },
    {
      "cell_type": "code",
      "source": [
        "# 나보다 더 깔끔한 코드!\n",
        "def solution(polynomial):\n",
        "    xnum = 0\n",
        "    const = 0\n",
        "    for c in polynomial.split(' + '):\n",
        "        if c.isdigit():\n",
        "            const+=int(c)\n",
        "        else:\n",
        "            xnum = xnum+1 if c=='x' else xnum+int(c[:-1])\n",
        "    if xnum == 0:\n",
        "        return str(const)\n",
        "    elif xnum==1:\n",
        "        return 'x + '+str(const) if const!=0 else 'x'\n",
        "    else:\n",
        "        return f'{xnum}x + {const}' if const!=0 else f'{xnum}x'"
      ],
      "metadata": {
        "id": "lkLgobMClyb8"
      },
      "execution_count": null,
      "outputs": []
    },
    {
      "cell_type": "markdown",
      "source": [
        "### midpoint 15"
      ],
      "metadata": {
        "id": "XNhQHbKlKOYo"
      }
    },
    {
      "cell_type": "markdown",
      "source": [
        "#### 최댓값 만들기 (2)\n",
        "```\n",
        "정수 배열 numbers가 매개변수로 주어집니다. numbers의 원소 중 두 개를 곱해 만들 수 있는 최댓값을 return하도록 solution 함수를 완성해주세요.\n",
        "```"
      ],
      "metadata": {
        "id": "YMvDbP0vKQK5"
      }
    },
    {
      "cell_type": "code",
      "source": [
        "def solution(numbers):\n",
        "    n = sorted(numbers)\n",
        "    ret1 = n[-1] * n[-2]\n",
        "    ret2 = n[0] * n[1]\n",
        "    return max(ret1, ret2)\n",
        "\n",
        "solution([1, 2, -3, 4, -5])"
      ],
      "metadata": {
        "colab": {
          "base_uri": "https://localhost:8080/"
        },
        "id": "d5WYHN_vKW7t",
        "outputId": "99922e87-92d3-4ef0-c1d6-7bfa28fbc2e4"
      },
      "execution_count": null,
      "outputs": [
        {
          "output_type": "execute_result",
          "data": {
            "text/plain": [
              "15"
            ]
          },
          "metadata": {},
          "execution_count": 2
        }
      ]
    },
    {
      "cell_type": "markdown",
      "source": [
        "#### 캐릭터의 좌표\n",
        "```\n",
        "머쓱이는 RPG게임을 하고 있습니다.\n",
        "게임에는 up, down, left, right 방향키가 있으며 각 키를 누르면 위, 아래, 왼쪽, 오른쪽으로 한 칸씩 이동합니다.\n",
        "예를 들어 [0,0]에서 up을 누른다면 캐릭터의 좌표는 [0, 1], down을 누른다면 [0, -1],\n",
        "left를 누른다면 [-1, 0], right를 누른다면 [1, 0]입니다.\n",
        "머쓱이가 입력한 방향키의 배열 keyinput와 맵의 크기 board이 매개변수로 주어집니다.\n",
        "캐릭터는 항상 [0,0]에서 시작할 때 키 입력이 모두 끝난 뒤에 캐릭터의 좌표 [x, y]를 return하도록 solution 함수를 완성해주세요.\n",
        "\n",
        "[0, 0]은 board의 정 중앙에 위치합니다.\n",
        "예를 들어 board의 가로 크기가 9라면 캐릭터는 왼쪽으로 최대 [-4, 0]까지 오른쪽으로 최대 [4, 0]까지 이동할 수 있습니다.\n",
        "```"
      ],
      "metadata": {
        "id": "XehPcdI7LIpu"
      }
    },
    {
      "cell_type": "code",
      "source": [
        "# 강사님 방청소 버전으로 풀어보자 ㅎㅎ 간지났음\n",
        "def solution(keyinput, board):\n",
        "    path = {\"up\": (0, 1), \"down\": (0, -1), \"left\": (-1, 0), \"right\": (1, 0)}\n",
        "    x, y = 0, 0\n",
        "    max_x = (board[0]-1) // 2\n",
        "    max_y = (board[1]-1) // 2\n",
        "\n",
        "    for i in keyinput:\n",
        "        dx, dy = path[i]\n",
        "        nx, ny = x + dx, y + dy\n",
        "\n",
        "        if -(max_x) <= nx <= max_x and -(max_y) <= ny <= max_y:\n",
        "            x, y = nx, ny\n",
        "    return [x, y]\n",
        "\n",
        "solution([\"left\", \"right\", \"up\", \"right\", \"right\"], [11, 11])"
      ],
      "metadata": {
        "colab": {
          "base_uri": "https://localhost:8080/"
        },
        "id": "t2FCt3nULs2a",
        "outputId": "1a90d5da-6ea4-4883-ffa0-bb149aed84e5"
      },
      "execution_count": null,
      "outputs": [
        {
          "output_type": "execute_result",
          "data": {
            "text/plain": [
              "[2, 1]"
            ]
          },
          "metadata": {},
          "execution_count": 4
        }
      ]
    },
    {
      "cell_type": "markdown",
      "source": [
        "#### 직사각형 넓이 구하기\n",
        "```\n",
        "2차원 좌표 평면에 변이 축과 평행한 직사각형이 있습니다.\n",
        "직사각형 네 꼭짓점의 좌표 [[x1, y1], [x2, y2], [x3, y3], [x4, y4]]가 담겨있는 배열 dots가 매개변수로 주어질 때,\n",
        "직사각형의 넓이를 return 하도록 solution 함수를 완성해보세요.\n",
        "```"
      ],
      "metadata": {
        "id": "js4-OxPPPTDp"
      }
    },
    {
      "cell_type": "code",
      "source": [
        "def solution(dots):\n",
        "    lst = list(zip(*dots))\n",
        "    x, y = max(lst[0])-min(lst[0]), max(lst[1])-min(lst[1])\n",
        "    return x * y"
      ],
      "metadata": {
        "id": "CoHoItqUQAfX"
      },
      "execution_count": null,
      "outputs": []
    },
    {
      "cell_type": "markdown",
      "source": [
        "#### 배열 원소의 길이\n",
        "```\n",
        "문자열 배열 strlist가 매개변수로 주어집니다. strlist 각 원소의 길이를 담은 배열을 retrun하도록 solution 함수를 완성해주세요.\n",
        "```"
      ],
      "metadata": {
        "id": "1A1tFdyu95Yi"
      }
    },
    {
      "cell_type": "code",
      "source": [
        "def solution(strlist):\n",
        "    return [len(i) for i in strlist]"
      ],
      "metadata": {
        "id": "2BxKf_31-pvg"
      },
      "execution_count": null,
      "outputs": []
    },
    {
      "cell_type": "markdown",
      "source": [
        "#### 컨트롤 제트\n",
        "```\n",
        "숫자와 \"Z\"가 공백으로 구분되어 담긴 문자열이 주어집니다. 문자열에 있는 숫자를 차례대로 더하려고 합니다.\n",
        "이 때 \"Z\"가 나오면 바로 전에 더했던 숫자를 뺀다는 뜻입니다. 숫자와 \"Z\"로 이루어진 문자열 s가 주어질 때,\n",
        "머쓱이가 구한 값을 return 하도록 solution 함수를 완성해보세요.\n",
        "```"
      ],
      "metadata": {
        "id": "gseWYvPN-1Ku"
      }
    },
    {
      "cell_type": "code",
      "source": [
        "def solution(s):\n",
        "    lst = s.split()\n",
        "    ret = []\n",
        "    for i in lst:\n",
        "        if i == \"Z\":\n",
        "            ret.pop()\n",
        "        else:\n",
        "            ret.append(int(i))\n",
        "    return sum(ret)\n",
        "\n",
        "solution(\"10 Z 20 Z 1\")"
      ],
      "metadata": {
        "colab": {
          "base_uri": "https://localhost:8080/"
        },
        "id": "_ca7sAd--4HK",
        "outputId": "d9a9dd8b-4edb-4b52-a184-15f7e4ff72f7"
      },
      "execution_count": null,
      "outputs": [
        {
          "output_type": "execute_result",
          "data": {
            "text/plain": [
              "1"
            ]
          },
          "metadata": {},
          "execution_count": 15
        }
      ]
    },
    {
      "cell_type": "markdown",
      "source": [
        "#### 소인수분해\n",
        "```\n",
        "소인수분해란 어떤 수를 소수들의 곱으로 표현하는 것입니다. 예를 들어 12를 소인수 분해하면 2 * 2 * 3 으로 나타낼 수 있습니다.\n",
        "따라서 12의 소인수는 2와 3입니다. 자연수 n이 매개변수로 주어질 때 n의 소인수를 오름차순으로 담은 배열을 return하도록 solution 함수를 완성해주세요.\n",
        "```"
      ],
      "metadata": {
        "id": "giaNRIas_YUE"
      }
    },
    {
      "cell_type": "code",
      "source": [
        "def solution(n):\n",
        "    num = int(n ** 0.5)\n",
        "    ret = set()\n",
        "    i = 2\n",
        "    while i <= num:\n",
        "        if n % i == 0:\n",
        "            ret.add(i)\n",
        "            n = n // i\n",
        "        else:\n",
        "            i += 1\n",
        "    if n > 1:\n",
        "        ret.add(n)\n",
        "    return sorted(ret)\n",
        "\n",
        "solution(420)"
      ],
      "metadata": {
        "colab": {
          "base_uri": "https://localhost:8080/"
        },
        "id": "ALtYxItOALMd",
        "outputId": "9fd6aaad-1612-49aa-efa3-4991c0bcf2d1"
      },
      "execution_count": null,
      "outputs": [
        {
          "output_type": "execute_result",
          "data": {
            "text/plain": [
              "[2, 3, 5, 7]"
            ]
          },
          "metadata": {},
          "execution_count": 23
        }
      ]
    },
    {
      "cell_type": "markdown",
      "source": [
        "#### 문자열 정렬하기 (1)\n",
        "```\n",
        "문자열 my_string이 매개변수로 주어질 때, my_string 안에 있는 숫자만 골라 오름차순 정렬한 리스트를 return 하도록 solution 함수를 작성해보세요.\n",
        "```"
      ],
      "metadata": {
        "id": "X73bYgwqAe6d"
      }
    },
    {
      "cell_type": "code",
      "source": [
        "import re\n",
        "\n",
        "def solution(my_string):\n",
        "    s = re.findall(r\"\\d\", my_string)\n",
        "    return sorted(map(int, s))\n",
        "\n",
        "solution(\"hi12392\")"
      ],
      "metadata": {
        "colab": {
          "base_uri": "https://localhost:8080/"
        },
        "id": "tW6cGEChGPZ7",
        "outputId": "beff9da8-80cf-434d-9249-5377615ec55c"
      },
      "execution_count": null,
      "outputs": [
        {
          "output_type": "execute_result",
          "data": {
            "text/plain": [
              "[1, 2, 2, 3, 9]"
            ]
          },
          "metadata": {},
          "execution_count": 26
        }
      ]
    },
    {
      "cell_type": "markdown",
      "source": [
        "#### 모음 제거\n",
        "```\n",
        "영어에선 a, e, i, o, u 다섯 가지 알파벳을 모음으로 분류합니다.\n",
        "문자열 my_string이 매개변수로 주어질 때 모음을 제거한 문자열을 return하도록 solution 함수를 완성해주세요.\n",
        "```"
      ],
      "metadata": {
        "id": "Wno4WXl9GpKL"
      }
    },
    {
      "cell_type": "code",
      "source": [
        "def solution(my_string):\n",
        "    모음 = [\"a\", \"e\", \"i\", \"o\", \"u\"]\n",
        "    ret = \"\"\n",
        "    for i in my_string:\n",
        "        if i not in 모음:\n",
        "            ret += i\n",
        "    return ret"
      ],
      "metadata": {
        "id": "r3jIL_5FG4us"
      },
      "execution_count": null,
      "outputs": []
    },
    {
      "cell_type": "markdown",
      "source": [
        "#### 팩토리얼\n",
        "```\n",
        "i팩토리얼 (i!)은 1부터 i까지 정수의 곱을 의미합니다. 예를들어 5! = 5 * 4 * 3 * 2 * 1 = 120 입니다.\n",
        "정수 n이 주어질 때 다음 조건을 만족하는 가장 큰 정수 i를 return 하도록 solution 함수를 완성해주세요.\n",
        "```"
      ],
      "metadata": {
        "id": "3FyEVjNpH7_u"
      }
    },
    {
      "cell_type": "code",
      "source": [
        "def solution(n):\n",
        "    i = 1\n",
        "    factorial = 1\n",
        "    while factorial <= n:\n",
        "        i += 1\n",
        "        factorial *= i\n",
        "    return i - 1\n",
        "\n",
        "solution(7)"
      ],
      "metadata": {
        "colab": {
          "base_uri": "https://localhost:8080/"
        },
        "id": "KcHM_9JrH-ch",
        "outputId": "574263fc-d7b3-4ce3-d5fa-7608530d7e84"
      },
      "execution_count": null,
      "outputs": [
        {
          "output_type": "execute_result",
          "data": {
            "text/plain": [
              "3"
            ]
          },
          "metadata": {},
          "execution_count": 33
        }
      ]
    },
    {
      "cell_type": "markdown",
      "source": [
        "#### 최댓값 만들기 (1)\n",
        "```\n",
        "정수 배열 numbers가 매개변수로 주어집니다. numbers의 원소 중 두 개를 곱해 만들 수 있는 최댓값을 return하도록 solution 함수를 완성해주세요.\n",
        "```"
      ],
      "metadata": {
        "id": "cPZJxVNwItKL"
      }
    },
    {
      "cell_type": "code",
      "source": [
        "def solution(numbers):\n",
        "    s = sorted(numbers)\n",
        "    return s[-1] * s[-2]"
      ],
      "metadata": {
        "id": "hxgzOB4lKW3T"
      },
      "execution_count": null,
      "outputs": []
    },
    {
      "cell_type": "markdown",
      "source": [
        "#### 합성수 찾기\n",
        "```\n",
        "약수의 개수가 세 개 이상인 수를 합성수라고 합니다. 자연수 n이 매개변수로 주어질 때 n이하의 합성수의 개수를 return하도록 solution 함수를 완성해주세요.\n",
        "```"
      ],
      "metadata": {
        "id": "ccGqAgkXLcAs"
      }
    },
    {
      "cell_type": "code",
      "source": [
        "def solution(n):\n",
        "    composite_count = 0\n",
        "    for i in range(4, n+1): # 4부터 시작하는 이유는 4가 첫 합성수이기 때문입니다.\n",
        "        for j in range(2, int(i ** 0.5) + 1):\n",
        "            if i % j == 0:\n",
        "                composite_count += 1\n",
        "                break\n",
        "    return composite_count"
      ],
      "metadata": {
        "id": "iYV-tl_8Lhb1"
      },
      "execution_count": null,
      "outputs": []
    },
    {
      "cell_type": "code",
      "source": [
        "# 결국 AI의 도움을 받았다... 아오ㅜㅜ"
      ],
      "metadata": {
        "id": "ac2pmv_0NZG2"
      },
      "execution_count": null,
      "outputs": []
    },
    {
      "cell_type": "markdown",
      "source": [
        "#### 주사위의 개수\n",
        "```\n",
        "머쓱이는 직육면체 모양의 상자를 하나 가지고 있는데 이 상자에 정육면체 모양의 주사위를 최대한 많이 채우고 싶습니다.\n",
        "상자의 가로, 세로, 높이가 저장되어있는 배열 box와 주사위 모서리의 길이 정수 n이 매개변수로 주어졌을 때,\n",
        "상자에 들어갈 수 있는 주사위의 최대 개수를 return 하도록 solution 함수를 완성해주세요.\n",
        "```"
      ],
      "metadata": {
        "id": "OUPl8uzgNfDF"
      }
    },
    {
      "cell_type": "code",
      "source": [
        "def solution(box, n):\n",
        "    s = [i // n for i in box]\n",
        "    return s[0] * s[1] * s[2]"
      ],
      "metadata": {
        "id": "wrT8Tq8INuBg"
      },
      "execution_count": null,
      "outputs": []
    },
    {
      "cell_type": "markdown",
      "source": [
        "#### 배열 회전시키기\n",
        "```\n",
        "정수가 담긴 배열 numbers와 문자열 direction가 매개변수로 주어집니다.\n",
        "배열 numbers의 원소를 direction방향으로 한 칸씩 회전시킨 배열을 return하도록 solution 함수를 완성해주세요.\n",
        "```"
      ],
      "metadata": {
        "id": "BShzH4_EO8sz"
      }
    },
    {
      "cell_type": "code",
      "source": [
        "def solution(numbers, direction):\n",
        "    if direction == \"left\":\n",
        "        return numbers[1:] + [numbers[0]]\n",
        "    else:\n",
        "        return [numbers[-1]] + numbers[:-1]"
      ],
      "metadata": {
        "id": "8j4ueMbDO_bK"
      },
      "execution_count": null,
      "outputs": []
    },
    {
      "cell_type": "markdown",
      "source": [
        "### midpoint 16"
      ],
      "metadata": {
        "id": "mSSm27ocGaB8"
      }
    },
    {
      "cell_type": "markdown",
      "source": [
        "#### 공 던지기\n",
        "```\n",
        "머쓱이는 친구들과 동그랗게 서서 공 던지기 게임을 하고 있습니다. 공은 1번부터 던지며 오른쪽으로 한 명을 건너뛰고 그다음 사람에게만 던질 수 있습니다.\n",
        "친구들의 번호가 들어있는 정수 배열 numbers와 정수 K가 주어질 때, k번째로 공을 던지는 사람의 번호는 무엇인지 return 하도록 solution 함수를 완성해보세요.\n",
        "```"
      ],
      "metadata": {
        "id": "_rwy_3qlGbyG"
      }
    },
    {
      "cell_type": "code",
      "source": [
        "def solution(numbers, k):\n",
        "    length = len(numbers)\n",
        "    index = (k - 1) * 2 % length\n",
        "    return numbers[index]\n",
        "\n",
        "solution([1, 2, 3, 4, 5, 6], 5)"
      ],
      "metadata": {
        "colab": {
          "base_uri": "https://localhost:8080/"
        },
        "id": "90CdhaYiGoGi",
        "outputId": "ca56a2d6-50ee-4d62-ee43-f4c81210f8d3"
      },
      "execution_count": null,
      "outputs": [
        {
          "output_type": "execute_result",
          "data": {
            "text/plain": [
              "3"
            ]
          },
          "metadata": {},
          "execution_count": 5
        }
      ]
    },
    {
      "cell_type": "code",
      "source": [
        "# 런타임 오류가 나서 AI돌렸다. danny한테 위스키 추천이나 받아야겠다...ㅎ"
      ],
      "metadata": {
        "id": "xaxCsc1uJeJN"
      },
      "execution_count": null,
      "outputs": []
    },
    {
      "cell_type": "markdown",
      "source": [
        "#### 2차원으로 만들기\n",
        "```\n",
        "정수 배열 num_list와 정수 n이 매개변수로 주어집니다. num_list를 다음 설명과 같이 2차원 배열로 바꿔 return하도록 solution 함수를 완성해주세요.\n",
        "\n",
        "num_list가 [1, 2, 3, 4, 5, 6, 7, 8] 로 길이가 8이고 n이 2이므로 num_list를 2 * 4 배열로 다음과 같이 변경합니다.\n",
        "2차원으로 바꿀 때에는 num_list의 원소들을 앞에서부터 n개씩 나눠 2차원 배열로 변경합니다.\n",
        "```"
      ],
      "metadata": {
        "id": "EHTPGgGNOKVt"
      }
    },
    {
      "cell_type": "code",
      "source": [
        "def solution(num_list, n):\n",
        "    ret = []\n",
        "    for i in range(0, len(num_list)-n+1, n):\n",
        "        ret.append(num_list[i:i+n])\n",
        "    return ret"
      ],
      "metadata": {
        "id": "rb02gZj4PzlA"
      },
      "execution_count": null,
      "outputs": []
    },
    {
      "cell_type": "markdown",
      "source": [
        "#### 점의 위치 구하기\n",
        "```\n",
        "사분면은 한 평면을 x축과 y축을 기준으로 나눈 네 부분입니다. 사분면은 아래와 같이 1부터 4까지 번호를매깁니다.\n",
        "```\n",
        "```\n",
        "x 좌표와 y 좌표가 모두 양수이면 제1사분면에 속합니다.\n",
        "x 좌표가 음수, y 좌표가 양수이면 제2사분면에 속합니다.\n",
        "x 좌표와 y 좌표가 모두 음수이면 제3사분면에 속합니다.\n",
        "x 좌표가 양수, y 좌표가 음수이면 제4사분면에 속합니다.\n",
        "x 좌표 (x, y)를 차례대로 담은 정수 배열 dot이 매개변수로 주어집니다.\n",
        "좌표 dot이 사분면 중 어디에 속하는지 1, 2, 3, 4 중 하나를 return 하도록 solution 함수를 완성해주세요.\n",
        "```"
      ],
      "metadata": {
        "id": "icRV_lyWRpyW"
      }
    },
    {
      "cell_type": "code",
      "source": [
        "def solution(dots):\n",
        "    x, y = dots\n",
        "    if x > 0 and y > 0:\n",
        "        return 1\n",
        "    elif x < 0 and y > 0:\n",
        "        return 2\n",
        "    elif x < 0 and y < 0:\n",
        "        return 3\n",
        "    else:\n",
        "        return 4"
      ],
      "metadata": {
        "id": "QhApwT2ARsSk"
      },
      "execution_count": null,
      "outputs": []
    },
    {
      "cell_type": "markdown",
      "source": [
        "#### 구슬을 나누는 경우의 수\n",
        "```\n",
        "머쓱이는 구슬을 친구들에게 나누어주려고 합니다. 구슬은 모두 다르게 생겼습니다.\n",
        "머쓱이가 갖고 있는 구슬의 개수 balls와 친구들에게 나누어 줄 구슬 개수 share이 매개변수로 주어질 때,\n",
        "balls개의 구슬 중 share개의 구슬을 고르는 가능한 모든 경우의 수를 return 하는 solution 함수를 완성해주세요.\n",
        "```"
      ],
      "metadata": {
        "id": "WHB3QE1RSXJd"
      }
    },
    {
      "cell_type": "code",
      "source": [
        "def solution(balls, share):\n",
        "    n1, n2, n3 = 1, 1, 1\n",
        "\n",
        "    for i in range(balls, 0, -1):\n",
        "        n1 *= i\n",
        "\n",
        "    for i in range((balls-share), 0, -1):\n",
        "        n2 *= i\n",
        "\n",
        "    for i in range(share, 0, -1):\n",
        "        n3 *= i\n",
        "\n",
        "    return n1 // (n2 * n3)\n",
        "\n",
        "solution(3, 2)"
      ],
      "metadata": {
        "colab": {
          "base_uri": "https://localhost:8080/"
        },
        "id": "XwsYRupxSdR3",
        "outputId": "f4641a4d-bb82-4133-d3ef-f6782b39d412"
      },
      "execution_count": null,
      "outputs": [
        {
          "output_type": "execute_result",
          "data": {
            "text/plain": [
              "3"
            ]
          },
          "metadata": {},
          "execution_count": 11
        }
      ]
    },
    {
      "cell_type": "code",
      "source": [
        "# 정말 무식하게 풀었다. 다시는 이렇게 풀고싶지 않다!"
      ],
      "metadata": {
        "id": "BaDSPew_T_-w"
      },
      "execution_count": null,
      "outputs": []
    },
    {
      "cell_type": "code",
      "source": [
        "# 다른분의 풀이 1\n",
        "def solution(balls, share):\n",
        "    a, b = 1, 1\n",
        "    for i in range(1,share+1):\n",
        "        a *= balls\n",
        "        balls -= 1\n",
        "        b *= i\n",
        "    return int(a / b)\n",
        "\n",
        "# 다른분의 풀이 2 - 와우......\n",
        "import math\n",
        "\n",
        "\n",
        "def solution(balls, share):\n",
        "    return math.comb(balls, share)"
      ],
      "metadata": {
        "id": "7tR3FIzTUoJh"
      },
      "execution_count": null,
      "outputs": []
    },
    {
      "cell_type": "markdown",
      "source": [
        "#### 가위 바위 보\n",
        "```\n",
        "가위는 2 바위는 0 보는 5로 표현합니다. 가위 바위 보를 내는 순서대로 나타낸 문자열 rsp가 매개변수로 주어질 때,\n",
        "rsp에 저장된 가위 바위 보를 모두 이기는 경우를 순서대로 나타낸 문자열을 return하도록 solution 함수를 완성해보세요.\n",
        "```"
      ],
      "metadata": {
        "id": "lA5lOjfbU9Ed"
      }
    },
    {
      "cell_type": "code",
      "source": [
        "def solution(rsp):\n",
        "    ret = \"\"\n",
        "    for i in rsp:\n",
        "        if i == \"2\":\n",
        "            ret += \"0\"\n",
        "        elif i == \"0\":\n",
        "            ret += \"5\"\n",
        "        else:\n",
        "            ret += \"2\"\n",
        "    return ret"
      ],
      "metadata": {
        "id": "K3Uvg8vcVZDF"
      },
      "execution_count": null,
      "outputs": []
    },
    {
      "cell_type": "code",
      "source": [
        "# 우왕 딕셔너리를 이용한 풀이!\n",
        "def solution(rsp):\n",
        "    d = {'0':'5','2':'0','5':'2'}\n",
        "    return ''.join(d[i] for i in rsp)"
      ],
      "metadata": {
        "id": "7Jchg-mgV9n6"
      },
      "execution_count": null,
      "outputs": []
    },
    {
      "cell_type": "markdown",
      "source": [
        "#### 모스부호 (1)\n",
        "```\n",
        "머쓱이는 친구에게 모스부호를 이용한 편지를 받았습니다. 그냥은 읽을 수 없어 이를 해독하는 프로그램을 만들려고 합니다.\n",
        "문자열 letter가 매개변수로 주어질 때, letter를 영어 소문자로 바꾼 문자열을 return 하도록 solution 함수를 완성해보세요.\n",
        "모스부호는 다음과 같습니다.\n",
        "```\n",
        "```\n",
        "morse = {\n",
        "    '.-':'a','-...':'b','-.-.':'c','-..':'d','.':'e','..-.':'f',\n",
        "    '--.':'g','....':'h','..':'i','.---':'j','-.-':'k','.-..':'l',\n",
        "    '--':'m','-.':'n','---':'o','.--.':'p','--.-':'q','.-.':'r',\n",
        "    '...':'s','-':'t','..-':'u','...-':'v','.--':'w','-..-':'x',\n",
        "    '-.--':'y','--..':'z'\n",
        "}\n",
        "```"
      ],
      "metadata": {
        "id": "YDRmG6zYLmzy"
      }
    },
    {
      "cell_type": "code",
      "source": [
        "def solution(letter):\n",
        "    morse = {\n",
        "    '.-':'a','-...':'b','-.-.':'c','-..':'d','.':'e','..-.':'f',\n",
        "    '--.':'g','....':'h','..':'i','.---':'j','-.-':'k','.-..':'l',\n",
        "    '--':'m','-.':'n','---':'o','.--.':'p','--.-':'q','.-.':'r',\n",
        "    '...':'s','-':'t','..-':'u','...-':'v','.--':'w','-..-':'x',\n",
        "    '-.--':'y','--..':'z'\n",
        "    }\n",
        "    return \"\".join([morse[i] for i in letter.split()])"
      ],
      "metadata": {
        "colab": {
          "base_uri": "https://localhost:8080/",
          "height": 36
        },
        "id": "lVl1jsmOLrqW",
        "outputId": "ec5f8293-af99-405a-88a6-8b0cccf7b388"
      },
      "execution_count": null,
      "outputs": [
        {
          "output_type": "execute_result",
          "data": {
            "text/plain": [
              "'hello'"
            ],
            "application/vnd.google.colaboratory.intrinsic+json": {
              "type": "string"
            }
          },
          "metadata": {},
          "execution_count": 3
        }
      ]
    },
    {
      "cell_type": "markdown",
      "source": [
        "#### 개미 군단\n",
        "```\n",
        "개미 군단이 사냥을 나가려고 합니다. 개미군단은 사냥감의 체력에 딱 맞는 병력을 데리고 나가려고 합니다.\n",
        "장군개미는 5의 공격력을, 병정개미는 3의 공격력을 일개미는 1의 공격력을 가지고 있습니다.\n",
        "예를 들어 체력 23의 여치를 사냥하려고 할 때, 일개미 23마리를 데리고 가도 되지만, 장군개미 네 마리와 병정개미 한 마리를 데리고 간다면 더 적은 병력으로 사냥할 수 있습니다.\n",
        "사냥감의 체력 hp가 매개변수로 주어질 때, 사냥감의 체력에 딱 맞게 최소한의 병력을 구성하려면 몇 마리의 개미가 필요한지를 return하도록 solution 함수를 완성해주세요.\n",
        "```"
      ],
      "metadata": {
        "id": "-ibUhtRvMr7i"
      }
    },
    {
      "cell_type": "code",
      "source": [
        "def solution(hp):\n",
        "    ants = [5, 3, 1]\n",
        "    i, cnt = 0, 0\n",
        "    while hp > 0:\n",
        "        if hp < ants[i]:\n",
        "            i += 1\n",
        "        cnt += (hp // ants[i])\n",
        "        hp %= ants[i]\n",
        "    return cnt"
      ],
      "metadata": {
        "colab": {
          "base_uri": "https://localhost:8080/"
        },
        "id": "dMgefOFuM71l",
        "outputId": "003a278e-5051-4fc8-8d64-2a602ebedfee"
      },
      "execution_count": null,
      "outputs": [
        {
          "output_type": "execute_result",
          "data": {
            "text/plain": [
              "201"
            ]
          },
          "metadata": {},
          "execution_count": 6
        }
      ]
    },
    {
      "cell_type": "markdown",
      "source": [
        "#### 순서쌍의 개수\n",
        "```\n",
        "순서쌍이란 두 개의 숫자를 순서를 정하여 짝지어 나타낸 쌍으로 (a, b)로 표기합니다.\n",
        "자연수 n이 매개변수로 주어질 때 두 숫자의 곱이 n인 자연수 순서쌍의 개수를 return하도록 solution 함수를 완성해주세요.\n",
        "```"
      ],
      "metadata": {
        "id": "FRffbNEKOImO"
      }
    },
    {
      "cell_type": "code",
      "source": [
        "def solution(n):\n",
        "    cnt = 0\n",
        "    for i in range(1, n+1):\n",
        "        if n % i == 0:\n",
        "            cnt += 1\n",
        "    return cnt"
      ],
      "metadata": {
        "colab": {
          "base_uri": "https://localhost:8080/"
        },
        "id": "BH2S001gOV1u",
        "outputId": "9bdbd695-7a93-487a-908b-88379d7fe516"
      },
      "execution_count": null,
      "outputs": [
        {
          "output_type": "execute_result",
          "data": {
            "text/plain": [
              "9"
            ]
          },
          "metadata": {},
          "execution_count": 9
        }
      ]
    },
    {
      "cell_type": "code",
      "source": [
        "# 다른분이 작성한 한줄 코드...인데 별로 좋아보이진 않는다.\n",
        "def solution(n):\n",
        "    return len(list(filter(lambda v: n % (v+1) == 0, range(n))))"
      ],
      "metadata": {
        "id": "29KOWC0PO2JH"
      },
      "execution_count": null,
      "outputs": []
    },
    {
      "cell_type": "markdown",
      "source": [
        "#### 외계행성의 나이\n",
        "```\n",
        "우주여행을 하던 머쓱이는 엔진 고장으로 PROGRAMMERS-962 행성에 불시착하게 됐습니다.\n",
        "입국심사에서 나이를 말해야 하는데, PROGRAMMERS-962 행성에서는 나이를 알파벳으로 말하고 있습니다.\n",
        "a는 0, b는 1, c는 2, ..., j는 9입니다. 예를 들어 23살은 cd, 51살은 fb로 표현합니다.\n",
        "나이 age가 매개변수로 주어질 때 PROGRAMMER-962식 나이를 return하도록 solution 함수를 완성해주세요.\n",
        "```"
      ],
      "metadata": {
        "id": "QMRZeZdUPRee"
      }
    },
    {
      "cell_type": "code",
      "source": [
        "def solution(age):\n",
        "    alp = [\"a\", \"b\", \"c\", \"d\", \"e\", \"f\", \"g\", \"h\", \"i\", \"j\"]\n",
        "    ages = {str(i):alp[i] for i in range(len(alp))}\n",
        "    return \"\".join([ages[i] for i in str(age)])"
      ],
      "metadata": {
        "colab": {
          "base_uri": "https://localhost:8080/",
          "height": 36
        },
        "id": "YaNaK6D6PdmY",
        "outputId": "3c5c2584-74b1-4e33-959c-94fa2dc56829"
      },
      "execution_count": null,
      "outputs": [
        {
          "output_type": "execute_result",
          "data": {
            "text/plain": [
              "'baa'"
            ],
            "application/vnd.google.colaboratory.intrinsic+json": {
              "type": "string"
            }
          },
          "metadata": {},
          "execution_count": 20
        }
      ]
    },
    {
      "cell_type": "markdown",
      "source": [
        "#### 배열 자르기\n",
        "```\n",
        "정수 배열 numbers와 정수 num1, num2가 매개변수로 주어질 때,\n",
        "numbers의 num1번 째 인덱스부터 num2번째 인덱스까지 자른 정수 배열을 return 하도록 solution 함수를 완성해보세요.\n",
        "```"
      ],
      "metadata": {
        "id": "rTMcwAI9Qsbf"
      }
    },
    {
      "cell_type": "code",
      "source": [
        "def solution(numbers, num1, num2):\n",
        "    return numbers[num1:num2+1]"
      ],
      "metadata": {
        "id": "Qqj8hRqKRoOy"
      },
      "execution_count": null,
      "outputs": []
    },
    {
      "cell_type": "markdown",
      "source": [
        "#### 짝수의 합\n",
        "```\n",
        "정수 n이 주어질 때, n이하의 짝수를 모두 더한 값을 return 하도록 solution 함수를 작성해주세요.\n",
        "```"
      ],
      "metadata": {
        "id": "t70F4wArR1bd"
      }
    },
    {
      "cell_type": "code",
      "source": [
        "def solution(n):\n",
        "    return sum(filter(lambda x: x % 2 == 0, [i for i in range(1, n+1)]))"
      ],
      "metadata": {
        "id": "LKHAh8mDR6li"
      },
      "execution_count": null,
      "outputs": []
    },
    {
      "cell_type": "markdown",
      "source": [
        "#### 양꼬치\n",
        "```\n",
        "머쓱이네 양꼬치 가게는 10인분을 먹으면 음료수 하나를 서비스로 줍니다. 양꼬치는 1인분에 12,000원, 음료수는 2,000원입니다.\n",
        "정수 n과 k가 매개변수로 주어졌을 때, 양꼬치 n인분과 음료수 k개를 먹었다면 총얼마를 지불해야 하는지 return 하도록 solution 함수를 완성해보세요.\n",
        "```"
      ],
      "metadata": {
        "id": "gaSzl09eSNWr"
      }
    },
    {
      "cell_type": "code",
      "source": [
        "def solution(n, k):\n",
        "    nk = n // 10\n",
        "    return n*12000 + (k-nk)*2000"
      ],
      "metadata": {
        "id": "scACjL-jSPuZ"
      },
      "execution_count": null,
      "outputs": []
    },
    {
      "cell_type": "markdown",
      "source": [
        "#### 각도기\n",
        "```\n",
        "각에서 0도 초과 90도 미만은 예각, 90도는 직각, 90도 초과 180도 미만은 둔각 180도는 평각으로 분류합니다.\n",
        "각 angle이 매개변수로 주어질 때 예각일 때 1, 직각일 때 2, 둔각일 때 3, 평각일 때 4를 return하도록 solution 함수를 완성해주세요.\n",
        "\n",
        "예각 : 0 < angle < 90\n",
        "직각 : angle = 90\n",
        "둔각 : 90 < angle < 180\n",
        "평각 : angle = 180\n",
        "```"
      ],
      "metadata": {
        "id": "MxuXBQqqS3X8"
      }
    },
    {
      "cell_type": "code",
      "source": [
        "def solution(angle):\n",
        "    if 0 < angle < 90:\n",
        "        return 1\n",
        "    elif angle == 90:\n",
        "        return 2\n",
        "    elif 90 < angle < 180:\n",
        "        return 3\n",
        "    else:\n",
        "        return 4"
      ],
      "metadata": {
        "id": "AP8JpS9PS5Gh"
      },
      "execution_count": null,
      "outputs": []
    },
    {
      "cell_type": "code",
      "source": [
        "# 이야~~~~ 대박이다! 나도 이렇게 머리쓰고싶다.\n",
        "def solution(angle):\n",
        "    answer = (angle // 90) * 2 + (angle % 90 > 0) * 1\n",
        "    return answer\n",
        "\n",
        "    # 1. 예각인 경우\n",
        "    # (angle // 90) -> 0이므로 패스, (angle % 90 > 0) -> True니까 1, 1*1로 1 반환\n",
        "    # 2. 직각인 경우\n",
        "    # (angle // 90) -> 1이므로 1*2, (angle % 90 > 0) -> False이므로 패스. 즉 2 반환.\n",
        "    # 3. 둔각인 경우\n",
        "    # (angle // 90) -> 1이므로 1*2, (angle % 90 > 0) -> True니까 1, 2+1= 3 반환\n",
        "    # 4. 평각인 경우\n",
        "    # (angle // 90) -> 2이므로 2*2, 뒤에는 False이므로 패스. 4 반환\n",
        "\n",
        "    # 멋있당"
      ],
      "metadata": {
        "id": "dF4fyANWTeFe"
      },
      "execution_count": null,
      "outputs": []
    },
    {
      "cell_type": "markdown",
      "source": [
        "#### 특정 문자 제거하기\n",
        "```\n",
        "문자열 my_string과 문자 letter이 매개변수로 주어집니다. my_string에서 letter를 제거한 문자열을 return하도록 solution 함수를 완성해주세요.\n",
        "```"
      ],
      "metadata": {
        "id": "ehzKBd7qWF3I"
      }
    },
    {
      "cell_type": "code",
      "source": [
        "def solution(my_string, letter):\n",
        "    return my_string.replace(letter, \"\")"
      ],
      "metadata": {
        "id": "BDF2YQReX_w2"
      },
      "execution_count": null,
      "outputs": []
    },
    {
      "cell_type": "markdown",
      "source": [
        "#### 문자 반복 출력하기\n",
        "```\n",
        "문자열 my_string과 정수 n이 매개변수로 주어질 때, my_string에 들어있는 각 문자를 n만큼 반복한 문자열을 return 하도록 solution 함수를 완성해보세요.\n",
        "```"
      ],
      "metadata": {
        "id": "pDaVhWORae77"
      }
    },
    {
      "cell_type": "code",
      "source": [
        "def solution(my_string, n):\n",
        "    return \"\".join(i*n for i in my_string)"
      ],
      "metadata": {
        "id": "4I_m4bnIahsE"
      },
      "execution_count": null,
      "outputs": []
    },
    {
      "cell_type": "markdown",
      "source": [
        "#### 직각삼각형 출력하기\n",
        "```\n",
        "\"*\"의 높이와 너비를 1이라고 했을 때, \"*\"을 이용해 직각 이등변 삼각형을 그리려고합니다.\n",
        "정수 n 이 주어지면 높이와 너비가 n 인 직각 이등변 삼각형을 출력하도록 코드를 작성해보세요.\n",
        "```"
      ],
      "metadata": {
        "id": "e9R4sIqXaujr"
      }
    },
    {
      "cell_type": "code",
      "source": [
        "n = int(input())\n",
        "for i in range(1, n+1):\n",
        "    print(\"*\" * i)"
      ],
      "metadata": {
        "colab": {
          "base_uri": "https://localhost:8080/"
        },
        "id": "vWIed1pTa-16",
        "outputId": "d2693f68-b31e-4f2c-f700-4bf1bc73a130"
      },
      "execution_count": null,
      "outputs": [
        {
          "output_type": "stream",
          "name": "stdout",
          "text": [
            "2\n",
            "*\n",
            "**\n"
          ]
        }
      ]
    },
    {
      "cell_type": "code",
      "source": [
        "# 우왕 한줄\n",
        "print('\\n'.join('*' * (i + 1) for i in range(int(input()))))"
      ],
      "metadata": {
        "colab": {
          "base_uri": "https://localhost:8080/"
        },
        "id": "8U0txddhgGXH",
        "outputId": "a52410da-6cd6-471d-de2f-4ff49fd53c34"
      },
      "execution_count": null,
      "outputs": [
        {
          "output_type": "stream",
          "name": "stdout",
          "text": [
            "2\n",
            "*\n",
            "**\n"
          ]
        }
      ]
    },
    {
      "cell_type": "markdown",
      "source": [
        "#### 문자열 뒤집기\n",
        "```\n",
        "문자열 my_string이 매개변수로 주어집니다. my_string을 거꾸로 뒤집은 문자열을 return하도록 solution 함수를 완성해주세요.\n",
        "```"
      ],
      "metadata": {
        "id": "8nrrD8vhgJHx"
      }
    },
    {
      "cell_type": "code",
      "source": [
        "def solution(my_string):\n",
        "    return my_string[::-1]"
      ],
      "metadata": {
        "id": "STyOnoHBgQt_"
      },
      "execution_count": null,
      "outputs": []
    },
    {
      "cell_type": "markdown",
      "source": [
        "#### 배열 뒤집기\n",
        "```\n",
        "정수가 들어 있는 배열 num_list가 매개변수로 주어집니다. num_list의 원소의 순서를 거꾸로 뒤집은 배열을 return하도록 solution 함수를 완성해주세요.\n",
        "```"
      ],
      "metadata": {
        "id": "VnVcWwTNgb_i"
      }
    },
    {
      "cell_type": "code",
      "source": [
        "def solution(num_list):\n",
        "    return num_list[::-1]"
      ],
      "metadata": {
        "id": "bNeikiJ2gdoq"
      },
      "execution_count": null,
      "outputs": []
    },
    {
      "cell_type": "markdown",
      "source": [
        "#### 나이 출력\n",
        "```\n",
        "머쓱이는 40살인 선생님이 몇 년도에 태어났는지 궁금해졌습니다. 나이 age가 주어질 때, 2022년을 기준 출생 연도를 return 하는 solution 함수를 완성해주세요.\n",
        "```"
      ],
      "metadata": {
        "id": "a7eFgIM4glJn"
      }
    },
    {
      "cell_type": "code",
      "source": [
        "def solution(age):\n",
        "    return 2023 - age"
      ],
      "metadata": {
        "id": "G6H8WFiAgnyD"
      },
      "execution_count": null,
      "outputs": []
    },
    {
      "cell_type": "markdown",
      "source": [
        "#### 아이스 아메리카노\n",
        "```\n",
        "머쓱이는 추운 날에도 아이스 아메리카노만 마십니다. 아이스 아메리카노는 한잔에 5,500원입니다.\n",
        "머쓱이가 가지고 있는 돈 money가 매개변수로 주어질 때,\n",
        "머쓱이가 최대로 마실 수 있는 아메리카노의 잔 수와 남는 돈을 순서대로 담은 배열을 return 하도록 solution 함수를 완성해보세요.\n",
        "```"
      ],
      "metadata": {
        "id": "Muptwo8hg9cO"
      }
    },
    {
      "cell_type": "code",
      "source": [
        "def solution(money):\n",
        "    return [money//5500, money%5500]"
      ],
      "metadata": {
        "id": "U2yH1KkShAlZ"
      },
      "execution_count": null,
      "outputs": []
    },
    {
      "cell_type": "markdown",
      "source": [
        "#### 옷가게 할인 받기\n",
        "```\n",
        "머쓱이네 옷가게는 10만 원 이상 사면 5%, 30만 원 이상 사면 10%, 50만 원 이상 사면 20%를 할인해줍니다.\n",
        "구매한 옷의 가격 price가 주어질 때, 지불해야 할 금액을 return 하도록 solution 함수를 완성해보세요.\n",
        "```"
      ],
      "metadata": {
        "id": "M1kcO5AohjCH"
      }
    },
    {
      "cell_type": "code",
      "source": [
        "def solution(price):\n",
        "    if 100000 <= price < 300000:\n",
        "        return int(price * 0.95)\n",
        "    elif 300000 <= price < 500000:\n",
        "        return int(price * 0.9)\n",
        "    elif price >= 500000:\n",
        "        return int(price * 0.8)\n",
        "    else:\n",
        "        return price"
      ],
      "metadata": {
        "id": "5wj-5FRKhlOO"
      },
      "execution_count": null,
      "outputs": []
    },
    {
      "cell_type": "code",
      "source": [
        "# 우왕 딕셔너리!!\n",
        "def solution(price):\n",
        "    discount_rates = {500000: 0.8, 300000: 0.9, 100000: 0.95, 0: 1}\n",
        "    for discount_price, discount_rate in discount_rates.items():\n",
        "        if price >= discount_price:\n",
        "            return int(price * discount_rate)"
      ],
      "metadata": {
        "id": "H14A41Sbir_j"
      },
      "execution_count": null,
      "outputs": []
    },
    {
      "cell_type": "markdown",
      "source": [
        "#### 배열의 평균값\n",
        "```\n",
        "정수 배열 numbers가 매개변수로 주어집니다. numbers의 원소의 평균값을 return하도록 solution 함수를 완성해주세요.\n",
        "```"
      ],
      "metadata": {
        "id": "oDQ7sW-ditTu"
      }
    },
    {
      "cell_type": "code",
      "source": [
        "def solution(numbers):\n",
        "    return sum(numbers) / len(numbers)"
      ],
      "metadata": {
        "id": "WUvz_HbJi1H8"
      },
      "execution_count": null,
      "outputs": []
    },
    {
      "cell_type": "markdown",
      "source": [
        "#### 피자 나눠 먹기 (3)\n",
        "```\n",
        "머쓱이네 피자가게는 피자를 두 조각에서 열 조각까지 원하는 조각 수로 잘라줍니다.\n",
        "피자 조각 수 slice와 피자를 먹는 사람의 수 n이 매개변수로 주어질 때,\n",
        "n명의 사람이 최소 한 조각 이상 피자를 먹으려면 최소 몇 판의 피자를 시켜야 하는지를 return 하도록 solution 함수를 완성해보세요.\n",
        "```"
      ],
      "metadata": {
        "id": "F-N-1nTukRbD"
      }
    },
    {
      "cell_type": "code",
      "source": [
        "def solution(slice, n):\n",
        "    return n//slice if n%slice==0 else n//slice+1"
      ],
      "metadata": {
        "id": "pBdn12c-kXpX"
      },
      "execution_count": null,
      "outputs": []
    },
    {
      "cell_type": "markdown",
      "source": [
        "#### 피자 나눠 먹기 (2)\n",
        "```\n",
        "머쓱이네 피자가게는 피자를 여섯 조각으로 잘라 줍니다.\n",
        "피자를 나눠먹을 사람의 수 n이 매개변수로 주어질 때,\n",
        "n명이 주문한 피자를 남기지 않고 모두 같은 수의 피자 조각을 먹어야 한다면 최소 몇 판을 시켜야 하는지를 return 하도록 solution 함수를 완성해보세요.\n",
        "```"
      ],
      "metadata": {
        "id": "kkIo7N0vl-d_"
      }
    },
    {
      "cell_type": "code",
      "source": [
        "def solution(n):\n",
        "    if n % 6 == 0:\n",
        "        return n // 6\n",
        "\n",
        "    i = 2\n",
        "    while True:\n",
        "        if n * i % 6 == 0:\n",
        "            return n * i // 6\n",
        "        i += 1"
      ],
      "metadata": {
        "id": "41I7g9n9mCrH"
      },
      "execution_count": null,
      "outputs": []
    },
    {
      "cell_type": "code",
      "source": [
        "# 나보다 더 간결한 코드...\n",
        "def solution(n):\n",
        "    i=1\n",
        "    while(1):\n",
        "        if (6*i)%n==0:\n",
        "            return i\n",
        "        i+=1"
      ],
      "metadata": {
        "id": "waRnJEjpsEDb"
      },
      "execution_count": null,
      "outputs": []
    },
    {
      "cell_type": "markdown",
      "source": [
        "#### 피자 나눠 먹기 (1)\n",
        "피자좀 그만 나눠먹어라\n",
        "```\n",
        "머쓱이네 피자가게는 피자를 일곱 조각으로 잘라 줍니다. 피자를 나눠먹을 사람의 수 n이 주어질 때,\n",
        "모든 사람이 피자를 한 조각 이상 먹기 위해 필요한 피자의 수를 return 하는 solution 함수를 완성해보세요.\n",
        "```"
      ],
      "metadata": {
        "id": "qbZnOIVasKhC"
      }
    },
    {
      "cell_type": "code",
      "source": [
        "def solution(n):\n",
        "    if n % 7 == 0:\n",
        "        return n // 7\n",
        "    elif n < 7:\n",
        "        return 1\n",
        "    else:\n",
        "        return n // 7 + 1"
      ],
      "metadata": {
        "colab": {
          "base_uri": "https://localhost:8080/"
        },
        "id": "B6wHMe2SsS4g",
        "outputId": "8e82148e-47a5-4271-d987-6f0277e293e3"
      },
      "execution_count": null,
      "outputs": [
        {
          "output_type": "execute_result",
          "data": {
            "text/plain": [
              "3"
            ]
          },
          "metadata": {},
          "execution_count": 41
        }
      ]
    },
    {
      "cell_type": "code",
      "source": [
        "# 젠장ㅜㅜ 수학공부 열심히할걸\n",
        "def solution(n):\n",
        "    return (n - 1) // 7 + 1\n",
        "\n",
        "# 수학문제집을 살까?\n",
        "def solution(n):\n",
        "    return -(-n//7)"
      ],
      "metadata": {
        "id": "awx1aJMrso8a"
      },
      "execution_count": null,
      "outputs": []
    },
    {
      "cell_type": "code",
      "source": [
        "-30 // 7"
      ],
      "metadata": {
        "colab": {
          "base_uri": "https://localhost:8080/"
        },
        "id": "Zx4Sz3qBt1rB",
        "outputId": "68096a29-b337-47ea-fe34-ef686f3ad9d3"
      },
      "execution_count": 1,
      "outputs": [
        {
          "output_type": "execute_result",
          "data": {
            "text/plain": [
              "-5"
            ]
          },
          "metadata": {},
          "execution_count": 1
        }
      ]
    },
    {
      "cell_type": "markdown",
      "source": [
        "#### 짝수는 싫어요\n",
        "```\n",
        "정수 n이 매개변수로 주어질 때, n 이하의 홀수가 오름차순으로 담긴 배열을 return하도록 solution 함수를 완성해주세요.\n",
        "```"
      ],
      "metadata": {
        "id": "qG_0DYAi4tKB"
      }
    },
    {
      "cell_type": "code",
      "source": [
        "def solution(n):\n",
        "    return sorted(filter(lambda x: x % 2 != 0, [i for i in range(n+1)]))"
      ],
      "metadata": {
        "id": "UkiWe5vA40Cv"
      },
      "execution_count": 2,
      "outputs": []
    },
    {
      "cell_type": "markdown",
      "source": [
        "#### 최빈값 구하기\n",
        "```\n",
        "최빈값은 주어진 값 중에서 가장 자주 나오는 값을 의미합니다.\n",
        "정수 배열 array가 매개변수로 주어질 때, 최빈값을 return 하도록 solution 함수를 완성해보세요.\n",
        "최빈값이 여러 개면 -1을 return 합니다.\n",
        "```"
      ],
      "metadata": {
        "id": "6_A7QCUx5Km2"
      }
    },
    {
      "cell_type": "code",
      "source": [
        "def solution(array):\n",
        "    dic = {i:array.count(i) for i in array}\n",
        "    ret = sorted(dic.keys(), key=lambda x: dic[x], reverse=True)\n",
        "    values = [dic[i] for i in dic]\n",
        "    return ret[0] if values.count(dic[ret[0]]) == 1 else -1\n",
        "\n",
        "solution([1, 1, 2, 2])"
      ],
      "metadata": {
        "colab": {
          "base_uri": "https://localhost:8080/"
        },
        "id": "tnwoQLty5O87",
        "outputId": "567e5c42-1752-4ea8-a028-215a699edd79"
      },
      "execution_count": 32,
      "outputs": [
        {
          "output_type": "execute_result",
          "data": {
            "text/plain": [
              "-1"
            ]
          },
          "metadata": {},
          "execution_count": 32
        }
      ]
    },
    {
      "cell_type": "code",
      "source": [
        "# 풀기에 급급해서 더럽게 풀어버렸다.\n",
        "# 다른분 코드!\n",
        "def solution(array):\n",
        "    while len(array) != 0:\n",
        "        for i, a in enumerate(set(array)):\n",
        "            array.remove(a)\n",
        "        if i == 0: return a\n",
        "    return -1"
      ],
      "metadata": {
        "id": "kikLXcSv5ex5"
      },
      "execution_count": 33,
      "outputs": []
    },
    {
      "cell_type": "code",
      "source": [
        "# 코드가 이해가 잘 안돼서 돌려봤다."
      ],
      "metadata": {
        "id": "CkgCy6lSBzGj"
      },
      "execution_count": 41,
      "outputs": []
    },
    {
      "cell_type": "code",
      "source": [
        "data = [1, 2, 3, 3, 3, 4]\n",
        "data2 = [1, 1, 2, 2]\n",
        "def solution(array):\n",
        "    while len(array) != 0:\n",
        "        for i, a in enumerate(set(array)):\n",
        "            print(\"전\", array)\n",
        "            array.remove(a)\n",
        "            print(array)\n",
        "        if i == 0: return a\n",
        "    return -1\n",
        "solution(data)"
      ],
      "metadata": {
        "colab": {
          "base_uri": "https://localhost:8080/"
        },
        "id": "ACvu_3lJB6xC",
        "outputId": "17a74519-c114-4f8f-95ef-1aa3044f9be4"
      },
      "execution_count": 40,
      "outputs": [
        {
          "output_type": "stream",
          "name": "stdout",
          "text": [
            "전 [1, 2, 3, 3, 3, 4]\n",
            "[2, 3, 3, 3, 4]\n",
            "전 [2, 3, 3, 3, 4]\n",
            "[3, 3, 3, 4]\n",
            "전 [3, 3, 3, 4]\n",
            "[3, 3, 4]\n",
            "전 [3, 3, 4]\n",
            "[3, 3]\n",
            "전 [3, 3]\n",
            "[3]\n"
          ]
        },
        {
          "output_type": "execute_result",
          "data": {
            "text/plain": [
              "3"
            ]
          },
          "metadata": {},
          "execution_count": 40
        }
      ]
    },
    {
      "cell_type": "code",
      "source": [
        "# 나는 더욱 더 간지나게 풀것이다..."
      ],
      "metadata": {
        "id": "3BHUbjCLDROT"
      },
      "execution_count": 42,
      "outputs": []
    },
    {
      "cell_type": "markdown",
      "source": [
        "#### 중앙값 구하기\n",
        "```\n",
        "중앙값은 어떤 주어진 값들을 크기의 순서대로 정렬했을 때 가장 중앙에 위치하는 값을 의미합니다.\n",
        "예를 들어 1, 2, 7, 10, 11의 중앙값은 7입니다. 정수 배열 array가 매개변수로 주어질 때, 중앙값을 return 하도록 solution 함수를 완성해보세요.\n",
        "```"
      ],
      "metadata": {
        "id": "nL-N6XNsEE-F"
      }
    },
    {
      "cell_type": "code",
      "source": [
        "def solution(array):\n",
        "    ret = sorted(array)\n",
        "    return ret[(len(ret)-1)//2]"
      ],
      "metadata": {
        "id": "rtp-Tic4EYKz"
      },
      "execution_count": null,
      "outputs": []
    }
  ]
}