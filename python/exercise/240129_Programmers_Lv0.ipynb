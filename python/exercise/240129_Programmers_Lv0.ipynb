{
  "nbformat": 4,
  "nbformat_minor": 0,
  "metadata": {
    "colab": {
      "provenance": [],
      "authorship_tag": "ABX9TyOMNsNZY9hr+pd97Q3fybM1",
      "include_colab_link": true
    },
    "kernelspec": {
      "name": "python3",
      "display_name": "Python 3"
    },
    "language_info": {
      "name": "python"
    }
  },
  "cells": [
    {
      "cell_type": "markdown",
      "metadata": {
        "id": "view-in-github",
        "colab_type": "text"
      },
      "source": [
        "<a href=\"https://colab.research.google.com/github/jiminkyung/orm/blob/main/python/exercise/240129_Programmers_Lv0.ipynb\" target=\"_parent\"><img src=\"https://colab.research.google.com/assets/colab-badge.svg\" alt=\"Open In Colab\"/></a>"
      ]
    },
    {
      "cell_type": "markdown",
      "source": [
        "모든 저작권은 프로그래머스에 있습니다.\n",
        "https://school.programmers.co.kr/learn/challenges?order=recent&levels=0&languages=python3"
      ],
      "metadata": {
        "id": "qKHvOfZdzyBM"
      }
    },
    {
      "cell_type": "markdown",
      "source": [
        "### midpoint 1"
      ],
      "metadata": {
        "id": "TQ8JzJVp2K3m"
      }
    },
    {
      "cell_type": "markdown",
      "source": [
        "#### 대소문자 바꿔서 출력하기\n",
        "```\n",
        "영어 알파벳으로 이루어진 문자열 str이 주어집니다. 각 알파벳을 대문자는 소문자로 소문자는 대문자로 변환해서 출력하는 코드를 작성해 보세요.\n",
        "```"
      ],
      "metadata": {
        "id": "TO4AEu3Z1GGZ"
      }
    },
    {
      "cell_type": "code",
      "source": [
        "r = \"\"\n",
        "for i in input():\n",
        "    if i.islower():\n",
        "        r += i.upper()\n",
        "    else:\n",
        "        r += i.lower()\n",
        "print(r)"
      ],
      "metadata": {
        "colab": {
          "base_uri": "https://localhost:8080/"
        },
        "id": "0sIgdEJa1Qfr",
        "outputId": "c39a8353-b87f-475a-ce37-deab9108b9b0"
      },
      "execution_count": null,
      "outputs": [
        {
          "output_type": "stream",
          "name": "stdout",
          "text": [
            "aBcDeFg\n",
            "AbCdEfG\n"
          ]
        }
      ]
    },
    {
      "cell_type": "markdown",
      "source": [
        "#### 덧셈식 출력하기\n",
        "```\n",
        "두 정수 a, b가 주어질 때 다음과 같은 형태의 계산식을 출력하는 코드를 작성해 보세요.\n",
        "a + b = c\n",
        "```"
      ],
      "metadata": {
        "id": "4dc0sWIj1ipl"
      }
    },
    {
      "cell_type": "code",
      "source": [
        "a, b = map(int, input().strip().split(' '))\n",
        "print(f'{a} + {b} = {a+b}')"
      ],
      "metadata": {
        "colab": {
          "base_uri": "https://localhost:8080/"
        },
        "id": "f2NRU48215yN",
        "outputId": "95f0453e-d021-48b6-a3e0-986d6688c232"
      },
      "execution_count": null,
      "outputs": [
        {
          "output_type": "stream",
          "name": "stdout",
          "text": [
            "4 5\n",
            "4 + 5 = 9\n"
          ]
        }
      ]
    },
    {
      "cell_type": "markdown",
      "source": [
        "#### 문자열 붙여서 출력하기\n",
        "```\n",
        "두 개의 문자열 str1, str2가 공백으로 구분되어 입력으로 주어집니다.\n",
        "입출력 예와 같이 str1과 str2을 이어서 출력하는 코드를 작성해 보세요.\n",
        "```"
      ],
      "metadata": {
        "id": "KsCryMB_172L"
      }
    },
    {
      "cell_type": "code",
      "source": [
        "str1, str2 = input().split()\n",
        "print(str1 + str2)"
      ],
      "metadata": {
        "colab": {
          "base_uri": "https://localhost:8080/"
        },
        "id": "CDalXXBL2I1K",
        "outputId": "1de57852-318e-4383-a3e5-271df803092c"
      },
      "execution_count": null,
      "outputs": [
        {
          "output_type": "stream",
          "name": "stdout",
          "text": [
            "right away\n",
            "rightaway\n"
          ]
        }
      ]
    },
    {
      "cell_type": "markdown",
      "source": [
        "#### 문자열 돌리기\n",
        "```\n",
        "문자열 str이 주어집니다.\n",
        "문자열을 시계방향으로 90도 돌려서 아래 입출력 예와 같이 출력하는 코드를 작성해 보세요.\n",
        "```"
      ],
      "metadata": {
        "id": "LaxiHFiV2R6g"
      }
    },
    {
      "cell_type": "code",
      "source": [
        "s = input()\n",
        "for i in s:\n",
        "    print(i)"
      ],
      "metadata": {
        "colab": {
          "base_uri": "https://localhost:8080/"
        },
        "id": "ts5djGUg2cTL",
        "outputId": "06d1d007-d517-44bc-8393-fd0d6ba242f6"
      },
      "execution_count": null,
      "outputs": [
        {
          "output_type": "stream",
          "name": "stdout",
          "text": [
            "rock\n",
            "r\n",
            "o\n",
            "c\n",
            "k\n"
          ]
        }
      ]
    },
    {
      "cell_type": "code",
      "source": [
        "# 기막히고 코막힌 답안\n",
        "print('\\n'.join(input()))"
      ],
      "metadata": {
        "colab": {
          "base_uri": "https://localhost:8080/"
        },
        "id": "eRRlaH3C2-aV",
        "outputId": "e42f8306-e063-495d-efdf-1484ad631d6c"
      },
      "execution_count": null,
      "outputs": [
        {
          "output_type": "stream",
          "name": "stdout",
          "text": [
            "rock\n",
            "r\n",
            "o\n",
            "c\n",
            "k\n"
          ]
        }
      ]
    },
    {
      "cell_type": "markdown",
      "source": [
        "#### 홀짝 구분하기\n",
        "```\n",
        "자연수 n이 입력으로 주어졌을 때 만약 n이 짝수이면 \"n is even\"을, 홀수이면 \"n is odd\"를 출력하는 코드를 작성해 보세요.\n",
        "```"
      ],
      "metadata": {
        "id": "Hwcc_ZSD2qEw"
      }
    },
    {
      "cell_type": "code",
      "source": [
        "n = int(input())\n",
        "print(f'{n} is even' if n%2==0 else f'{n} is odd')"
      ],
      "metadata": {
        "colab": {
          "base_uri": "https://localhost:8080/"
        },
        "id": "ZvRxslg53Lp2",
        "outputId": "7301ea80-73ab-47f7-acde-aef12a88500c"
      },
      "execution_count": null,
      "outputs": [
        {
          "output_type": "stream",
          "name": "stdout",
          "text": [
            "32\n",
            "32 is even\n"
          ]
        }
      ]
    },
    {
      "cell_type": "markdown",
      "source": [
        "#### 문자열 겹쳐쓰기\n",
        "```\n",
        "문자열 my_string, overwrite_string과 정수 s가 주어집니다.\n",
        "문자열 my_string의 인덱스 s부터 overwrite_string의 길이만큼을 문자열 overwrite_string으로 바꾼 문자열을 return 하는 solution 함수를 작성해 주세요.\n",
        "```\n",
        "```\n",
        "<조건>\n",
        "1 ≤ overwrite_string의 길이 ≤ my_string의 길이 ≤ 1,000\n",
        "0 ≤ s ≤ my_string의 길이 - overwrite_string의 길이\n",
        "```"
      ],
      "metadata": {
        "id": "v3FOi7cJ3dd-"
      }
    },
    {
      "cell_type": "code",
      "source": [
        "def solution(my_string, overwrite_string, s):\n",
        "    n = len(overwrite_string)\n",
        "    answer = my_string[:s] + overwrite_string + my_string[s+n:]\n",
        "    return answer"
      ],
      "metadata": {
        "id": "0heNsTwQ40hS"
      },
      "execution_count": null,
      "outputs": []
    },
    {
      "cell_type": "code",
      "source": [
        "solution(\"He11oWor1d\", \"lloWorl\", 2)"
      ],
      "metadata": {
        "colab": {
          "base_uri": "https://localhost:8080/",
          "height": 36
        },
        "id": "7dksWSj-6xES",
        "outputId": "feb15ce0-b74e-4445-ef41-481b28a1c5a1"
      },
      "execution_count": null,
      "outputs": [
        {
          "output_type": "execute_result",
          "data": {
            "text/plain": [
              "'HelloWorld'"
            ],
            "application/vnd.google.colaboratory.intrinsic+json": {
              "type": "string"
            }
          },
          "metadata": {},
          "execution_count": 11
        }
      ]
    },
    {
      "cell_type": "markdown",
      "source": [
        "#### 문자열 섞기\n",
        "```\n",
        "길이가 같은 두 문자열 str1과 str2가 주어집니다.\n",
        "\n",
        "두 문자열의 각 문자가 앞에서부터 서로 번갈아가면서 한 번씩 등장하는 문자열을 만들어 return 하는 solution 함수를 완성해 주세요.\n",
        "```"
      ],
      "metadata": {
        "id": "mZYMmGEF66on"
      }
    },
    {
      "cell_type": "code",
      "source": [
        "def solution(str1, str2):\n",
        "    answer = ''\n",
        "    for i in range(len(str1)):\n",
        "        answer += str1[i] + str2[i]\n",
        "    return answer"
      ],
      "metadata": {
        "id": "6nkvk_IC7CSF"
      },
      "execution_count": null,
      "outputs": []
    },
    {
      "cell_type": "code",
      "source": [
        "solution(\"aaaaa\", \"bbbbb\")"
      ],
      "metadata": {
        "colab": {
          "base_uri": "https://localhost:8080/",
          "height": 36
        },
        "id": "yeIAfYx--7JB",
        "outputId": "0f3984e3-e3f4-45a4-d3fd-a71016a70f05"
      },
      "execution_count": null,
      "outputs": [
        {
          "output_type": "execute_result",
          "data": {
            "text/plain": [
              "'ababababab'"
            ],
            "application/vnd.google.colaboratory.intrinsic+json": {
              "type": "string"
            }
          },
          "metadata": {},
          "execution_count": 20
        }
      ]
    },
    {
      "cell_type": "markdown",
      "source": [
        "#### 문자 리스트를 문자열로 변환하기\n",
        "```\n",
        "문자들이 담겨있는 배열 arr가 주어집니다. arr의 원소들을 순서대로 이어 붙인 문자열을 return 하는 solution함수를 작성해 주세요.\n",
        "```"
      ],
      "metadata": {
        "id": "m7YBSARx9w17"
      }
    },
    {
      "cell_type": "code",
      "source": [
        "def solution(arr):\n",
        "    return ''.join(arr)"
      ],
      "metadata": {
        "id": "wW4duAsR-hsJ"
      },
      "execution_count": null,
      "outputs": []
    },
    {
      "cell_type": "code",
      "source": [
        "solution([\"a\",\"b\",\"c\"])"
      ],
      "metadata": {
        "colab": {
          "base_uri": "https://localhost:8080/",
          "height": 36
        },
        "id": "z5OwqbjB-2rk",
        "outputId": "bdcf5e27-5bf8-426a-f2ff-338a1c4340cf"
      },
      "execution_count": null,
      "outputs": [
        {
          "output_type": "execute_result",
          "data": {
            "text/plain": [
              "'abc'"
            ],
            "application/vnd.google.colaboratory.intrinsic+json": {
              "type": "string"
            }
          },
          "metadata": {},
          "execution_count": 18
        }
      ]
    },
    {
      "cell_type": "markdown",
      "source": [
        "#### 문자열 곱하기\n",
        "```\n",
        "문자열 my_string과 정수 k가 주어질 때, my_string을 k번 반복한 문자열을 return 하는 solution 함수를 작성해 주세요.\n",
        "```"
      ],
      "metadata": {
        "id": "Hwzew-rR-qYM"
      }
    },
    {
      "cell_type": "code",
      "source": [
        "def solution(my_string, k):\n",
        "    answer = (my_string*k).strip()\n",
        "    return answer"
      ],
      "metadata": {
        "id": "mLC53LWi_E0_"
      },
      "execution_count": null,
      "outputs": []
    },
    {
      "cell_type": "code",
      "source": [
        "solution(\"onepiece\", 2)"
      ],
      "metadata": {
        "colab": {
          "base_uri": "https://localhost:8080/",
          "height": 36
        },
        "id": "f4eiopw__QLw",
        "outputId": "33128008-9f0e-4dc6-e1a4-011236346aeb"
      },
      "execution_count": null,
      "outputs": [
        {
          "output_type": "execute_result",
          "data": {
            "text/plain": [
              "'onepieceonepiece'"
            ],
            "application/vnd.google.colaboratory.intrinsic+json": {
              "type": "string"
            }
          },
          "metadata": {},
          "execution_count": 23
        }
      ]
    },
    {
      "cell_type": "markdown",
      "source": [
        "#### 더 크게 합치기\n",
        "```\n",
        "연산 ⊕는 두 정수에 대한 연산으로 두 정수를 붙여서 쓴 값을 반환합니다. 예를 들면 다음과 같습니다.\n",
        "\n",
        "12 ⊕ 3 = 123\n",
        "3 ⊕ 12 = 312\n",
        "양의 정수 a와 b가 주어졌을 때, a ⊕ b와 b ⊕ a 중 더 큰 값을 return 하는 solution 함수를 완성해 주세요.\n",
        "\n",
        "단, a ⊕ b와 b ⊕ a가 같다면 a ⊕ b를 return 합니다.\n",
        "```"
      ],
      "metadata": {
        "id": "oRbykWXm_VxB"
      }
    },
    {
      "cell_type": "code",
      "source": [
        "def solution(a, b):\n",
        "    sum_ab = int(str(a)+str(b))\n",
        "    sum_ba = int(str(b)+str(a))\n",
        "    return sum_ab if sum_ab == sum_ba else max(sum_ab, sum_ba)"
      ],
      "metadata": {
        "id": "lsEwLtCA_fue"
      },
      "execution_count": null,
      "outputs": []
    },
    {
      "cell_type": "code",
      "source": [
        "solution(9, 91)"
      ],
      "metadata": {
        "colab": {
          "base_uri": "https://localhost:8080/"
        },
        "id": "ao0UZJ3sAWxB",
        "outputId": "948609bd-1508-462f-bead-7bae34e9a897"
      },
      "execution_count": null,
      "outputs": [
        {
          "output_type": "execute_result",
          "data": {
            "text/plain": [
              "991"
            ]
          },
          "metadata": {},
          "execution_count": 5
        }
      ]
    },
    {
      "cell_type": "markdown",
      "source": [
        "### midpoint 2 (240208)"
      ],
      "metadata": {
        "id": "zCopjnyLEnCs"
      }
    },
    {
      "cell_type": "markdown",
      "source": [
        "#### 두 수의 연산값 비교하기\n",
        "```\n",
        "연산 ⊕는 두 정수에 대한 연산으로 두 정수를 붙여서 쓴 값을 반환합니다. 예를 들면 다음과 같습니다.\n",
        "\n",
        "12 ⊕ 3 = 123\n",
        "3 ⊕ 12 = 312\n",
        "양의 정수 a와 b가 주어졌을 때, a ⊕ b와 2 * a * b 중 더 큰 값을 return하는 solution 함수를 완성해 주세요.\n",
        "\n",
        "단, a ⊕ b와 2 * a * b가 같으면 a ⊕ b를 return 합니다.\n",
        "```"
      ],
      "metadata": {
        "id": "utNxRMs62l9R"
      }
    },
    {
      "cell_type": "code",
      "source": [
        "def solution(a, b):\n",
        "    sum_ab = int(str(a)+str(b))\n",
        "    return sum_ab if sum_ab == (2*a*b) else max(sum_ab, (2*a*b))"
      ],
      "metadata": {
        "id": "vjCXx4vZ2yC4"
      },
      "execution_count": null,
      "outputs": []
    },
    {
      "cell_type": "code",
      "source": [
        "solution(12, 3)"
      ],
      "metadata": {
        "colab": {
          "base_uri": "https://localhost:8080/"
        },
        "id": "jM7P8Zuo31NH",
        "outputId": "3f298f92-66fb-48bd-81fe-3f0b13a88064"
      },
      "execution_count": null,
      "outputs": [
        {
          "output_type": "execute_result",
          "data": {
            "text/plain": [
              "123"
            ]
          },
          "metadata": {},
          "execution_count": 2
        }
      ]
    },
    {
      "cell_type": "markdown",
      "source": [
        "#### n의 배수\n",
        "```\n",
        "정수 num과 n이 매개 변수로 주어질 때, num이 n의 배수이면 1을 return n의 배수가 아니라면 0을 return하도록 solution 함수를 완성해주세요.\n",
        "```"
      ],
      "metadata": {
        "id": "NkabwH-135R-"
      }
    },
    {
      "cell_type": "code",
      "source": [
        "def solution(num, n):\n",
        "    return 1 if num%n==0 else 0"
      ],
      "metadata": {
        "id": "KsOsg3uY4Cvs"
      },
      "execution_count": null,
      "outputs": []
    },
    {
      "cell_type": "code",
      "source": [
        "solution(10, 5)"
      ],
      "metadata": {
        "colab": {
          "base_uri": "https://localhost:8080/"
        },
        "id": "MgDJxr7U4QDe",
        "outputId": "ab2264d2-5fdb-4b04-e1bf-fd954ac81809"
      },
      "execution_count": null,
      "outputs": [
        {
          "output_type": "execute_result",
          "data": {
            "text/plain": [
              "1"
            ]
          },
          "metadata": {},
          "execution_count": 4
        }
      ]
    },
    {
      "cell_type": "markdown",
      "source": [
        "#### 공배수\n",
        "```\n",
        "정수 number와 n, m이 주어집니다. number가 n의 배수이면서 m의 배수이면 1을 아니라면 0을 return하도록 solution 함수를 완성해주세요.\n",
        "```"
      ],
      "metadata": {
        "id": "dmlxqon54R3g"
      }
    },
    {
      "cell_type": "code",
      "source": [
        "def solution(number, n, m):\n",
        "    return 1 if number % n == 0 and number % m == 0 else 0"
      ],
      "metadata": {
        "id": "rScodgVo4YII"
      },
      "execution_count": null,
      "outputs": []
    },
    {
      "cell_type": "code",
      "source": [
        "solution(15, 3, 5)"
      ],
      "metadata": {
        "colab": {
          "base_uri": "https://localhost:8080/"
        },
        "id": "9ERLwMHRBn7m",
        "outputId": "24e140b5-0ade-4b87-ff1c-41101afa2557"
      },
      "execution_count": null,
      "outputs": [
        {
          "output_type": "execute_result",
          "data": {
            "text/plain": [
              "1"
            ]
          },
          "metadata": {},
          "execution_count": 6
        }
      ]
    },
    {
      "cell_type": "markdown",
      "source": [
        "#### 홀짝에 따라 다른 값 반환하기\n",
        "```\n",
        "양의 정수 n이 매개변수로 주어질 때, n이 홀수라면 n 이하의 홀수인 모든 양의 정수의 합을 return 하고\n",
        "n이 짝수라면 n 이하의 짝수인 모든 양의 정수의 제곱의 합을 return 하는 solution 함수를 작성해 주세요.\n",
        "\n",
        "```"
      ],
      "metadata": {
        "id": "7Ar3LUKIBqoR"
      }
    },
    {
      "cell_type": "code",
      "source": [
        "def solution(n):\n",
        "    if n % 2 != 0:\n",
        "        return sum(i for i in range(1, n+1, 2))\n",
        "    else:\n",
        "        return sum(i*i for i in range(2, n+1, 2))"
      ],
      "metadata": {
        "id": "zu6W-7IxEyb7"
      },
      "execution_count": null,
      "outputs": []
    },
    {
      "cell_type": "markdown",
      "source": [
        "#### 조건 문자열\n",
        "```\n",
        "문자열에 따라 다음과 같이 두 수의 크기를 비교하려고 합니다.\n",
        "\n",
        "두 수가 n과 m이라면\n",
        "\">\", \"=\" : n >= m\n",
        "\"<\", \"=\" : n <= m\n",
        "\">\", \"!\" : n > m\n",
        "\"<\", \"!\" : n < m\n",
        "두 문자열 ineq와 eq가 주어집니다. ineq는 \"<\"와 \">\"중 하나고, eq는 \"=\"와 \"!\"중 하나입니다.\n",
        "그리고 두 정수 n과 m이 주어질 때, n과 m이 ineq와 eq의 조건에 맞으면 1을 아니면 0을 return하도록 solution 함수를 완성해주세요.\n",
        "```"
      ],
      "metadata": {
        "id": "f9DGZvvYH2Ob"
      }
    },
    {
      "cell_type": "code",
      "source": [
        "# 개무식하게 풀었다. 다시는 이딴식으로 풀지 말자.\n",
        "def solution(ineq, eq, n, m):\n",
        "    if eq == \"=\":\n",
        "        if ineq == \">\" and (n >= m):\n",
        "            return 1\n",
        "        elif ineq == \"<\" and (n <= m):\n",
        "            return 1\n",
        "        else:\n",
        "            return 0\n",
        "    else:\n",
        "        if ineq == \">\" and (n > m):\n",
        "            return 1\n",
        "        elif ineq == \"<\" and (n < m):\n",
        "            return 1\n",
        "        else:\n",
        "            return 0"
      ],
      "metadata": {
        "id": "APjGP7QwH7_5"
      },
      "execution_count": null,
      "outputs": []
    },
    {
      "cell_type": "code",
      "source": [
        "# 한방 코드...ㅋ\n",
        "def solution(ineq, eq, n, m):\n",
        "    return int(eval(str(n)+ineq+eq.replace('!', '')+str(m)))"
      ],
      "metadata": {
        "id": "P_Fy47mcKW9B"
      },
      "execution_count": null,
      "outputs": []
    },
    {
      "cell_type": "code",
      "source": [
        "# 다른버전\n",
        "def solution(ineq, eq, n, m):\n",
        "    answer = 0\n",
        "    if n > m and ineq ==\">\":\n",
        "        answer = 1\n",
        "    elif n < m and ineq == \"<\":\n",
        "        answer = 1\n",
        "    elif n == m and eq == \"=\":\n",
        "        answer = 1\n",
        "\n",
        "    return answer"
      ],
      "metadata": {
        "id": "MNS5cvc4KhNi"
      },
      "execution_count": null,
      "outputs": []
    },
    {
      "cell_type": "markdown",
      "source": [
        "#### flag에 따라 다른 값 반환하기\n",
        "```\n",
        "두 정수 a, b와 boolean 변수 flag가 매개변수로 주어질 때, flag가 true면 a + b를 false면 a - b를 return 하는 solution 함수를 작성해 주세요.\n",
        "```"
      ],
      "metadata": {
        "id": "pThyyxAnKaeY"
      }
    },
    {
      "cell_type": "code",
      "source": [
        "def solution(a, b, flag):\n",
        "    return a+b if flag else a-b"
      ],
      "metadata": {
        "id": "-c9dq9YILGtu"
      },
      "execution_count": null,
      "outputs": []
    },
    {
      "cell_type": "markdown",
      "source": [
        "### midpoint 3 (240209)"
      ],
      "metadata": {
        "id": "qJN4oeeJUiC-"
      }
    },
    {
      "cell_type": "markdown",
      "source": [
        "#### 코드 처리하기\n",
        "```\n",
        "문자열 code가 주어집니다.\n",
        "code를 앞에서부터 읽으면서 만약 문자가 \"1\"이면 mode를 바꿉니다. mode에 따라 code를 읽어가면서 문자열 ret을 만들어냅니다.\n",
        "\n",
        "mode는 0과 1이 있으며, idx를 0 부터 code의 길이 - 1 까지 1씩 키워나가면서 code[idx]의 값에 따라 다음과 같이 행동합니다.\n",
        "\n",
        "mode가 0일 때\n",
        "code[idx]가 \"1\"이 아니면 idx가 짝수일 때만 ret의 맨 뒤에 code[idx]를 추가합니다.\n",
        "code[idx]가 \"1\"이면 mode를 0에서 1로 바꿉니다.\n",
        "mode가 1일 때\n",
        "code[idx]가 \"1\"이 아니면 idx가 홀수일 때만 ret의 맨 뒤에 code[idx]를 추가합니다.\n",
        "code[idx]가 \"1\"이면 mode를 1에서 0으로 바꿉니다.\n",
        "문자열 code를 통해 만들어진 문자열 ret를 return 하는 solution 함수를 완성해 주세요.\n",
        "\n",
        "단, 시작할 때 mode는 0이며, return 하려는 ret가 만약 빈 문자열이라면 대신 \"EMPTY\"를 return 합니다.\n",
        "```"
      ],
      "metadata": {
        "id": "rZ_h5UrPLZF9"
      }
    },
    {
      "cell_type": "code",
      "source": [
        "def solution(code):\n",
        "    mode = 0\n",
        "    ret = ''\n",
        "    for idx in range(len(code)):\n",
        "        if mode == 0:\n",
        "            if code[idx] != \"1\" and idx % 2 == 0:\n",
        "                ret += code[idx]\n",
        "            elif code[idx] == \"1\":\n",
        "                mode = 1\n",
        "        else:\n",
        "            if code[idx] != \"1\" and idx % 2 != 0:\n",
        "                ret += code[idx]\n",
        "            elif code[idx] == \"1\":\n",
        "                mode = 0\n",
        "    return ret if ret else \"EMPTY\""
      ],
      "metadata": {
        "id": "5BtRZCTOLe8K"
      },
      "execution_count": null,
      "outputs": []
    },
    {
      "cell_type": "code",
      "source": [
        "# 미친듯이 간결하다. 변태코딩.\n",
        "def solution(code):\n",
        "    return \"\".join(code.split(\"1\"))[::2] or \"EMPTY\""
      ],
      "metadata": {
        "id": "kjwDuJPkXQTA"
      },
      "execution_count": null,
      "outputs": []
    },
    {
      "cell_type": "code",
      "source": [
        "# 더 직관적이다.\n",
        "def solution(code):\n",
        "    answer = ''\n",
        "\n",
        "    mode = 0\n",
        "    for i in range(len(code)):\n",
        "        if code[i] == '1':\n",
        "            mode ^= 1\n",
        "        else:\n",
        "            if i % 2 == mode:\n",
        "                answer += code[i]\n",
        "\n",
        "    return answer if answer else 'EMPTY'"
      ],
      "metadata": {
        "id": "IuAoCeXjXonG"
      },
      "execution_count": null,
      "outputs": []
    },
    {
      "cell_type": "markdown",
      "source": [
        "#### 등차수열의 특정한 항만 더하기\n",
        "```\n",
        "두 정수 a, d와 길이가 n인 boolean 배열 included가 주어집니다.\n",
        "첫째항이 a, 공차가 d인 등차수열에서 included[i]가 i + 1항을 의미할 때,\n",
        "이 등차수열의 1항부터 n항까지 included가 true인 항들만 더한 값을 return 하는 solution 함수를 작성해 주세요.\n",
        "```"
      ],
      "metadata": {
        "id": "-wL8BxFEX1zF"
      }
    },
    {
      "cell_type": "code",
      "source": [
        "def solution(a, b, included):\n",
        "    seq = [a+b*i for i in range(len(included))]\n",
        "    result = sum([seq[k] for k in range(len(seq)) if included[k] == True])\n",
        "    return result"
      ],
      "metadata": {
        "colab": {
          "base_uri": "https://localhost:8080/"
        },
        "id": "iNN7fgeFZ7gW",
        "outputId": "81c8480b-5338-4456-eaed-005c3044f63a"
      },
      "execution_count": null,
      "outputs": [
        {
          "output_type": "execute_result",
          "data": {
            "text/plain": [
              "37"
            ]
          },
          "metadata": {},
          "execution_count": 20
        }
      ]
    },
    {
      "cell_type": "markdown",
      "source": [
        "#### 주사위 게임 2\n",
        "```\n",
        "1부터 6까지 숫자가 적힌 주사위가 세 개 있습니다. 세 주사위를 굴렸을 때 나온 숫자를 각각 a, b, c라고 했을 때 얻는 점수는 다음과 같습니다.\n",
        "\n",
        "세 숫자가 모두 다르다면 a + b + c 점을 얻습니다.\n",
        "세 숫자 중 어느 두 숫자는 같고 나머지 다른 숫자는 다르다면 (a + b + c) × (a2 + b2 + c2 )점을 얻습니다.\n",
        "세 숫자가 모두 같다면 (a + b + c) × (a2 + b2 + c2 ) × (a3 + b3 + c3 )점을 얻습니다.\n",
        "세 정수 a, b, c가 매개변수로 주어질 때, 얻는 점수를 return 하는 solution 함수를 작성해 주세요.\n",
        "```"
      ],
      "metadata": {
        "id": "EkFwN5z_ybRn"
      }
    },
    {
      "cell_type": "code",
      "source": [
        "def solution(a, b, c):\n",
        "    result = 0\n",
        "    if a != b and b != c and a != c:\n",
        "        result = a + b + c\n",
        "    elif a == b == c:\n",
        "        result = (a+b+c) * (a**2+b**2+c**2) * (a**3+b**3+c**3)\n",
        "    else:\n",
        "        result = (a+b+c) * (a**2+b**2+c**2)\n",
        "    return result"
      ],
      "metadata": {
        "id": "J2tE6s6P1ga4"
      },
      "execution_count": null,
      "outputs": []
    },
    {
      "cell_type": "code",
      "source": [
        "# set을 활용한 풀이. set을 까먹고있었다!\n",
        "def solution(a, b, c):\n",
        "    check=len(set([a,b,c]))\n",
        "    if check==1:\n",
        "        return 3*a*3*(a**2)*3*(a**3)\n",
        "    elif check==2:\n",
        "        return (a+b+c)*(a**2+b**2+c**2)\n",
        "    else:\n",
        "        return (a+b+c)"
      ],
      "metadata": {
        "id": "tX7I433p5jaI"
      },
      "execution_count": null,
      "outputs": []
    },
    {
      "cell_type": "markdown",
      "source": [
        "#### 원소들의 곱과 합\n",
        "```\n",
        "정수가 담긴 리스트 num_list가 주어질 때, 모든 원소들의 곱이 모든 원소들의 합의 제곱보다 작으면 1을 크면 0을 return하도록 solution 함수를 완성해주세요.\n",
        "```"
      ],
      "metadata": {
        "id": "WkTLdouq5n6T"
      }
    },
    {
      "cell_type": "code",
      "source": [
        "def solution(num_list):\n",
        "    mul_result = eval(\"*\".join(str(i) for i in num_list))\n",
        "    return 1 if mul_result < sum(num_list)**2 else 0"
      ],
      "metadata": {
        "colab": {
          "base_uri": "https://localhost:8080/"
        },
        "id": "JAtSQZZs5ukg",
        "outputId": "fc7b142f-f906-4c28-82c1-a87aa4f797b8"
      },
      "execution_count": null,
      "outputs": [
        {
          "output_type": "execute_result",
          "data": {
            "text/plain": [
              "1"
            ]
          },
          "metadata": {},
          "execution_count": 25
        }
      ]
    },
    {
      "cell_type": "markdown",
      "source": [
        "#### 이어 붙인 수\n",
        "```\n",
        "정수가 담긴 리스트 num_list가 주어집니다. num_list의 홀수만 순서대로 이어 붙인 수와 짝수만 순서대로 이어 붙인 수의 합을 return하도록 solution 함수를 완성해주세요.\n",
        "```"
      ],
      "metadata": {
        "id": "ZKZnHm4Y9E4C"
      }
    },
    {
      "cell_type": "code",
      "source": [
        "def solution(num_list):\n",
        "    odd = ''\n",
        "    even = ''\n",
        "    for i in num_list:\n",
        "        if i % 2 == 0:\n",
        "            even += str(i)\n",
        "        else:\n",
        "            odd += str(i)\n",
        "    return eval(f\"{odd} + {even}\")"
      ],
      "metadata": {
        "id": "AKPXF0fb9J5R"
      },
      "execution_count": null,
      "outputs": []
    },
    {
      "cell_type": "markdown",
      "source": [
        "#### 마지막 두 원소\n",
        "```\n",
        "정수 리스트 num_list가 주어질 때, 마지막 원소가 그전 원소보다 크면 마지막 원소에서 그전 원소를 뺀 값을\n",
        "마지막 원소가 그전 원소보다 크지 않다면 마지막 원소를 두 배한 값을 추가하여 return하도록 solution 함수를 완성해주세요.\n",
        "```"
      ],
      "metadata": {
        "id": "U_048Cmn-Cfe"
      }
    },
    {
      "cell_type": "code",
      "source": [
        "def solution(num_list):\n",
        "    lst = num_list[-2:]\n",
        "    if lst[1] > lst[0]:\n",
        "        num_list.append(lst[1] - lst[0])\n",
        "    else:\n",
        "        num_list.append(lst[1] * 2)\n",
        "    return num_list"
      ],
      "metadata": {
        "id": "HPRt41PK-F3p"
      },
      "execution_count": null,
      "outputs": []
    },
    {
      "cell_type": "markdown",
      "source": [
        "#### 수 조작하기\n",
        "```\n",
        "정수 n과 문자열 control이 주어집니다.\n",
        "control은 \"w\", \"a\", \"s\", \"d\"의 4개의 문자로 이루어져 있으며, control의 앞에서부터 순서대로 문자에 따라 n의 값을 바꿉니다.\n",
        "\n",
        "\"w\" : n이 1 커집니다.\n",
        "\"s\" : n이 1 작아집니다.\n",
        "\"d\" : n이 10 커집니다.\n",
        "\"a\" : n이 10 작아집니다.\n",
        "위 규칙에 따라 n을 바꿨을 때 가장 마지막에 나오는 n의 값을 return 하는 solution 함수를 완성해 주세요.\n",
        "```"
      ],
      "metadata": {
        "id": "mcQvJPvnAZ59"
      }
    },
    {
      "cell_type": "code",
      "source": [
        "def solution(n, control):\n",
        "    for i in control:\n",
        "        if i == \"w\":\n",
        "            n += 1\n",
        "        elif i == \"s\":\n",
        "            n -= 1\n",
        "        elif i == \"d\":\n",
        "            n += 10\n",
        "        else:\n",
        "            n -= 10\n",
        "    return n"
      ],
      "metadata": {
        "id": "R5U6b9CvBfqi"
      },
      "execution_count": null,
      "outputs": []
    },
    {
      "cell_type": "code",
      "source": [
        "# zip을 사용한 간결한 풀이! 머리를 쓰고 살자 ㅎㅎㅎㅎ\n",
        "def solution(n, control):\n",
        "    key = dict(zip(['w','s','d','a'], [1,-1,10,-10]))\n",
        "    return n + sum([key[c] for c in control])"
      ],
      "metadata": {
        "id": "jY-kJkBKCNhk"
      },
      "execution_count": null,
      "outputs": []
    },
    {
      "cell_type": "code",
      "source": [
        "# count를 사용하는 방법도 있다. 그래도 위 코드가 더 이쁜듯.\n",
        "def solution(n, control):\n",
        "    return n + 10*(control.count('d')-control.count('a')) + (control.count('w')-control.count('s'))"
      ],
      "metadata": {
        "id": "InHWCm6TCkBP"
      },
      "execution_count": null,
      "outputs": []
    },
    {
      "cell_type": "markdown",
      "source": [
        "#### 수 조작하기 2\n",
        "```\n",
        "정수 배열 numLog가 주어집니다. 처음에 numLog[0]에서 부터 시작해 \"w\", \"a\", \"s\", \"d\"로 이루어진 문자열을 입력으로 받아 순서대로 다음과 같은 조작을 했다고 합시다.\n",
        "\n",
        "\"w\" : 수에 1을 더한다.\n",
        "\"s\" : 수에 1을 뺀다.\n",
        "\"d\" : 수에 10을 더한다.\n",
        "\"a\" : 수에 10을 뺀다.\n",
        "그리고 매번 조작을 할 때마다 결괏값을 기록한 정수 배열이 numLog입니다. 즉, numLog[i]는 numLog[0]로부터 총 i번의 조작을 가한 결과가 저장되어 있습니다.\n",
        "\n",
        "주어진 정수 배열 numLog에 대해 조작을 위해 입력받은 문자열을 return 하는 solution 함수를 완성해 주세요.\n",
        "```"
      ],
      "metadata": {
        "id": "LpN9Y4xRCZ9k"
      }
    },
    {
      "cell_type": "code",
      "source": [
        "def solution(numLog):\n",
        "    string = ''\n",
        "    for i in range(1, len(numLog)):\n",
        "        result = numLog[i] - numLog[i-1]\n",
        "        if result == 1:\n",
        "            string += 'w'\n",
        "        elif result == -1:\n",
        "            string += 's'\n",
        "        elif result == 10:\n",
        "            string += 'd'\n",
        "        else:\n",
        "            string += 'a'\n",
        "    return string"
      ],
      "metadata": {
        "id": "TV3Sdh0pCtSr"
      },
      "execution_count": null,
      "outputs": []
    },
    {
      "cell_type": "code",
      "source": [
        "# 딕셔너리에 바로 접근하는 방법도 있었네...\n",
        "def solution(log):\n",
        "    res=''\n",
        "    joystick=dict(zip([1,-1,10,-10],['w','s','d','a']))\n",
        "    for i in range(1,len(log)):\n",
        "        res+=joystick[log[i]-log[i-1]]\n",
        "    return res"
      ],
      "metadata": {
        "id": "4MfGnFzlAPT2"
      },
      "execution_count": null,
      "outputs": []
    },
    {
      "cell_type": "markdown",
      "source": [
        "#### 수열과 구간 쿼리 3\n",
        "```\n",
        "정수 배열 arr와 2차원 정수 배열 queries이 주어집니다. queries의 원소는 각각 하나의 query를 나타내며, [i, j] 꼴입니다.\n",
        "\n",
        "각 query마다 순서대로 arr[i]의 값과 arr[j]의 값을 서로 바꿉니다.\n",
        "\n",
        "위 규칙에 따라 queries를 처리한 이후의 arr를 return 하는 solution 함수를 완성해 주세요.\n",
        "```"
      ],
      "metadata": {
        "id": "xPST_qkhAnaI"
      }
    },
    {
      "cell_type": "code",
      "source": [
        "def solution(arr, queries):\n",
        "    for i in range(len(queries)):\n",
        "        q1, q2 = queries[i]\n",
        "        arr[q1], arr[q2] = arr[q2], arr[q1]\n",
        "    return arr"
      ],
      "metadata": {
        "id": "ZgcHgv_7AuXS"
      },
      "execution_count": null,
      "outputs": []
    },
    {
      "cell_type": "code",
      "source": [
        "# 굳이 queries[i]로 안빼줘도 됐었네???\n",
        "def solution(arr, queries):\n",
        "    for a,b in queries:\n",
        "        arr[a],arr[b]=arr[b],arr[a]\n",
        "    return arr"
      ],
      "metadata": {
        "id": "WZdpbJd6C7CB"
      },
      "execution_count": null,
      "outputs": []
    },
    {
      "cell_type": "markdown",
      "source": [
        "#### 수열과 구간 쿼리 2\n",
        "```\n",
        "정수 배열 arr와 2차원 정수 배열 queries이 주어집니다. queries의 원소는 각각 하나의 query를 나타내며, [s, e, k] 꼴입니다.\n",
        "\n",
        "각 query마다 순서대로 s ≤ i ≤ e인 모든 i에 대해 k보다 크면서 가장 작은 arr[i]를 찾습니다.\n",
        "\n",
        "각 쿼리의 순서에 맞게 답을 저장한 배열을 반환하는 solution 함수를 완성해 주세요.\n",
        "단, 특정 쿼리의 답이 존재하지 않으면 -1을 저장합니다.\n",
        "```"
      ],
      "metadata": {
        "id": "LC6QgsRmDAoz"
      }
    },
    {
      "cell_type": "code",
      "source": [
        "def solution(arr, queries):\n",
        "    result = []\n",
        "    for s, e, k in queries:\n",
        "        lst = list(filter(lambda x: x>k, arr[s:e+1]))\n",
        "        result.append(min(lst)) if lst else result.append(-1)\n",
        "    return result\n",
        "\n",
        "solution([0, 1, 2, 4, 3], [[0, 4, 2],[0, 3, 2],[0, 2, 2]])"
      ],
      "metadata": {
        "colab": {
          "base_uri": "https://localhost:8080/"
        },
        "id": "FBCaB6j7DIrX",
        "outputId": "35db2a69-2ea8-4723-8f2c-95834f27cfc0"
      },
      "execution_count": null,
      "outputs": [
        {
          "output_type": "execute_result",
          "data": {
            "text/plain": [
              "[3, 4, -1]"
            ]
          },
          "metadata": {},
          "execution_count": 15
        }
      ]
    },
    {
      "cell_type": "markdown",
      "source": [
        "#### 수열과 구간 쿼리 4\n",
        "```\n",
        "정수 배열 arr와 2차원 정수 배열 queries이 주어집니다. queries의 원소는 각각 하나의 query를 나타내며, [s, e, k] 꼴입니다.\n",
        "\n",
        "각 query마다 순서대로 s ≤ i ≤ e인 모든 i에 대해 i가 k의 배수이면 arr[i]에 1을 더합니다.\n",
        "\n",
        "위 규칙에 따라 queries를 처리한 이후의 arr를 return 하는 solution 함수를 완성해 주세요.\n",
        "```"
      ],
      "metadata": {
        "id": "CmQvt-1sF4-G"
      }
    },
    {
      "cell_type": "code",
      "source": [
        "def solution(arr, queries):\n",
        "    for s, e, k in queries:\n",
        "        for i in range(s, e+1):\n",
        "            if k != 0 and i%k == 0:\n",
        "                arr[i] += 1\n",
        "    return arr"
      ],
      "metadata": {
        "colab": {
          "base_uri": "https://localhost:8080/"
        },
        "id": "trI_H4z9IouN",
        "outputId": "bf1f68d0-725c-41ee-e4fa-b9eec2faaaac"
      },
      "execution_count": null,
      "outputs": [
        {
          "output_type": "execute_result",
          "data": {
            "text/plain": [
              "[1, 2, 3, 5, 4]"
            ]
          },
          "metadata": {},
          "execution_count": 36
        }
      ]
    },
    {
      "cell_type": "code",
      "source": [
        "# 다른사람 답안. k가 0인경우 에러. <- 참고함\n",
        "def solution(arr, queries):\n",
        "    for s, e, k in queries:\n",
        "        for i in range(s, e+1):\n",
        "            if i%k == 0:\n",
        "                arr[i] += 1\n",
        "    return arr"
      ],
      "metadata": {
        "id": "L2fY7vjfLNEI"
      },
      "execution_count": null,
      "outputs": []
    },
    {
      "cell_type": "markdown",
      "source": [
        "### midpoint 4"
      ],
      "metadata": {
        "id": "YAEZWw-Qboro"
      }
    },
    {
      "cell_type": "markdown",
      "source": [
        "#### 배열 만들기 2\n",
        "```\n",
        "정수 l과 r이 주어졌을 때, l 이상 r이하의 정수 중에서 숫자 \"0\"과 \"5\"로만 이루어진 모든 정수를 오름차순으로 저장한 배열을 return 하는 solution 함수를 완성해 주세요.\n",
        "\n",
        "만약 그러한 정수가 없다면, -1이 담긴 배열을 return 합니다.\n",
        "```"
      ],
      "metadata": {
        "id": "y5S0O2BcK7lO"
      }
    },
    {
      "cell_type": "code",
      "source": [
        "def solution(l, r):\n",
        "    arr = [i for i in range(l, r+1) if not set(str(i)) - {'0', '5'}]\n",
        "    return arr if arr else [-1]"
      ],
      "metadata": {
        "id": "5cLpLEkxLANv"
      },
      "execution_count": 20,
      "outputs": []
    },
    {
      "cell_type": "code",
      "source": [
        "# 기발한 코드;; 생각해보자...\n",
        "def solution(l, r):\n",
        "    answer = []\n",
        "    i = 1\n",
        "    n = 5\n",
        "\n",
        "    while True:\n",
        "        if n > r: break\n",
        "        n = 5 * int(bin(i)[2:])\n",
        "        if l <= n <= r:\n",
        "            answer.append(n)\n",
        "        i += 1\n",
        "\n",
        "    return [-1] if len(answer) == 0 else answer"
      ],
      "metadata": {
        "id": "NwK-7sDHMWtF"
      },
      "execution_count": 21,
      "outputs": []
    },
    {
      "cell_type": "markdown",
      "source": [
        "#### 카운트 업\n",
        "```\n",
        "정수 start_num와 end_num가 주어질 때, start_num부터 end_num까지의 숫자를 차례로 담은 리스트를 return하도록 solution 함수를 완성해주세요.\n",
        "```"
      ],
      "metadata": {
        "id": "0SiJzgoFMfg5"
      }
    },
    {
      "cell_type": "code",
      "source": [
        "def solution(start_num, end_num):\n",
        "    return [i for i in range(start_num, end_num+1)]"
      ],
      "metadata": {
        "id": "4F4NKZ6ySGht"
      },
      "execution_count": 22,
      "outputs": []
    },
    {
      "cell_type": "markdown",
      "source": [
        "#### 콜라츠 수열 만들기\n",
        "```\n",
        "모든 자연수 x에 대해서 현재 값이 x이면 x가 짝수일 때는 2로 나누고,\n",
        "x가 홀수일 때는 3 * x + 1로 바꾸는 계산을 계속해서 반복하면 언젠가는 반드시 x가 1이 되는지 묻는 문제를 콜라츠 문제라고 부릅니다.\n",
        "\n",
        "그리고 위 과정에서 거쳐간 모든 수를 기록한 수열을 콜라츠 수열이라고 부릅니다.\n",
        "\n",
        "계산 결과 1,000 보다 작거나 같은 수에 대해서는 전부 언젠가 1에 도달한다는 것이 알려져 있습니다.\n",
        "\n",
        "임의의 1,000 보다 작거나 같은 양의 정수 n이 주어질 때 초기값이 n인 콜라츠 수열을 return 하는 solution 함수를 완성해 주세요.\n",
        "```"
      ],
      "metadata": {
        "id": "dfnabNdaSVK_"
      }
    },
    {
      "cell_type": "code",
      "source": [
        "def solution(n):\n",
        "    arr = [n]\n",
        "    while n != 1:\n",
        "        if n % 2 == 0:\n",
        "            n = n // 2\n",
        "            arr.append(n)\n",
        "        else:\n",
        "            n = 3 * n + 1\n",
        "            arr.append(n)\n",
        "    return arr"
      ],
      "metadata": {
        "id": "a3SrbLRQSZIt"
      },
      "execution_count": 35,
      "outputs": []
    },
    {
      "cell_type": "code",
      "source": [
        "# 처음에 while n == 1: 이라고 적어서 돌아가지 않았다...ㅎㅎ"
      ],
      "metadata": {
        "id": "RlL5xCAZT1eV"
      },
      "execution_count": 36,
      "outputs": []
    },
    {
      "cell_type": "markdown",
      "source": [
        "#### 배열 만들기 4\n",
        "```\n",
        "정수 배열 arr가 주어집니다. arr를 이용해 새로운 배열 stk를 만드려고 합니다.\n",
        "\n",
        "변수 i를 만들어 초기값을 0으로 설정한 후 i가 arr의 길이보다 작으면 다음 작업을 반복합니다.\n",
        "\n",
        "만약 stk가 빈 배열이라면 arr[i]를 stk에 추가하고 i에 1을 더합니다.\n",
        "stk에 원소가 있고, stk의 마지막 원소가 arr[i]보다 작으면 arr[i]를 stk의 뒤에 추가하고 i에 1을 더합니다.\n",
        "stk에 원소가 있는데 stk의 마지막 원소가 arr[i]보다 크거나 같으면 stk의 마지막 원소를 stk에서 제거합니다.\n",
        "위 작업을 마친 후 만들어진 stk를 return 하는 solution 함수를 완성해 주세요.\n",
        "```"
      ],
      "metadata": {
        "id": "6R5VQxeXYM7p"
      }
    },
    {
      "cell_type": "code",
      "source": [
        "def solution(arr):\n",
        "    i = 0\n",
        "    stk = []\n",
        "    while i < len(arr):\n",
        "        if not stk:\n",
        "            stk.append(arr[i])\n",
        "            i += 1\n",
        "        elif stk[-1] < arr[i]:\n",
        "            stk.append(arr[i])\n",
        "            i += 1\n",
        "        elif stk[-1] >= arr[i]:\n",
        "            del stk[-1]\n",
        "    return stk"
      ],
      "metadata": {
        "id": "EZAlRAq5YQNC"
      },
      "execution_count": 37,
      "outputs": []
    },
    {
      "cell_type": "markdown",
      "source": [
        "#### 간단한 논리 연산\n",
        "```\n",
        "boolean 변수 x1, x2, x3, x4가 매개변수로 주어질 때, 다음의 식의 true/false를 return 하는 solution 함수를 작성해 주세요.\n",
        "\n",
        "(x1 ∨ x2) ∧ (x3 ∨ x4)\n",
        "```"
      ],
      "metadata": {
        "id": "upAleFYDaO5l"
      }
    },
    {
      "cell_type": "code",
      "source": [
        "def solution(x1, x2, x3, x4):\n",
        "    return (x1 or x2) and (x3 or x4)"
      ],
      "metadata": {
        "id": "27FGTW-laSzR"
      },
      "execution_count": 38,
      "outputs": []
    },
    {
      "cell_type": "markdown",
      "source": [
        "#### 주사위 게임 3\n",
        "```\n",
        "1부터 6까지 숫자가 적힌 주사위가 네 개 있습니다. 네 주사위를 굴렸을 때 나온 숫자에 따라 다음과 같은 점수를 얻습니다.\n",
        "\n",
        "네 주사위에서 나온 숫자가 모두 p로 같다면 1111 × p점을 얻습니다.\n",
        "세 주사위에서 나온 숫자가 p로 같고 나머지 다른 주사위에서 나온 숫자가 q(p ≠ q)라면 (10 × p + q)2 점을 얻습니다.\n",
        "주사위가 두 개씩 같은 값이 나오고, 나온 숫자를 각각 p, q(p ≠ q)라고 한다면 (p + q) × |p - q|점을 얻습니다.\n",
        "어느 두 주사위에서 나온 숫자가 p로 같고 나머지 두 주사위에서 나온 숫자가 각각 p와 다른 q, r(q ≠ r)이라면 q × r점을 얻습니다.\n",
        "네 주사위에 적힌 숫자가 모두 다르다면 나온 숫자 중 가장 작은 숫자 만큼의 점수를 얻습니다.\n",
        "네 주사위를 굴렸을 때 나온 숫자가 정수 매개변수 a, b, c, d로 주어질 때, 얻는 점수를 return 하는 solution 함수를 작성해 주세요.\n",
        "```\n"
      ],
      "metadata": {
        "id": "VK4nGeccapYB"
      }
    },
    {
      "cell_type": "code",
      "source": [
        "def solution(a, b, c, d):\n",
        "    result = 0\n",
        "    arr = [a, b, c, d]\n",
        "    data = set(arr)\n",
        "\n",
        "    if len(data) == 1:\n",
        "        result = 1111 * a\n",
        "    elif len(data) == 2:\n",
        "        if arr.count(a) == 3 or arr.count(a) == 1:\n",
        "            for i in arr:\n",
        "                temp = i.count(i)\n",
        "                p = max(i.count(i))"
      ],
      "metadata": {
        "id": "n3XhJ2cLatGf"
      },
      "execution_count": null,
      "outputs": []
    }
  ]
}