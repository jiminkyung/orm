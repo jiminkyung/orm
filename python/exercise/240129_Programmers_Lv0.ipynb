{
  "nbformat": 4,
  "nbformat_minor": 0,
  "metadata": {
    "colab": {
      "provenance": []
    },
    "kernelspec": {
      "name": "python3",
      "display_name": "Python 3"
    },
    "language_info": {
      "name": "python"
    }
  },
  "cells": [
    {
      "cell_type": "markdown",
      "source": [
        "모든 저작권은 프로그래머스에 있습니다.\n",
        "https://school.programmers.co.kr/learn/challenges?order=recent&levels=0&languages=python3"
      ],
      "metadata": {
        "id": "qKHvOfZdzyBM"
      }
    },
    {
      "cell_type": "markdown",
      "source": [
        "#### 대소문자 바꿔서 출력하기\n",
        "```\n",
        "영어 알파벳으로 이루어진 문자열 str이 주어집니다. 각 알파벳을 대문자는 소문자로 소문자는 대문자로 변환해서 출력하는 코드를 작성해 보세요.\n",
        "```"
      ],
      "metadata": {
        "id": "TO4AEu3Z1GGZ"
      }
    },
    {
      "cell_type": "code",
      "source": [
        "r = \"\"\n",
        "for i in input():\n",
        "    if i.islower():\n",
        "        r += i.upper()\n",
        "    else:\n",
        "        r += i.lower()\n",
        "print(r)"
      ],
      "metadata": {
        "colab": {
          "base_uri": "https://localhost:8080/"
        },
        "id": "0sIgdEJa1Qfr",
        "outputId": "c39a8353-b87f-475a-ce37-deab9108b9b0"
      },
      "execution_count": null,
      "outputs": [
        {
          "output_type": "stream",
          "name": "stdout",
          "text": [
            "aBcDeFg\n",
            "AbCdEfG\n"
          ]
        }
      ]
    },
    {
      "cell_type": "markdown",
      "source": [
        "#### 덧셈식 출력하기\n",
        "```\n",
        "두 정수 a, b가 주어질 때 다음과 같은 형태의 계산식을 출력하는 코드를 작성해 보세요.\n",
        "a + b = c\n",
        "```"
      ],
      "metadata": {
        "id": "4dc0sWIj1ipl"
      }
    },
    {
      "cell_type": "code",
      "source": [
        "a, b = map(int, input().strip().split(' '))\n",
        "print(f'{a} + {b} = {a+b}')"
      ],
      "metadata": {
        "colab": {
          "base_uri": "https://localhost:8080/"
        },
        "id": "f2NRU48215yN",
        "outputId": "95f0453e-d021-48b6-a3e0-986d6688c232"
      },
      "execution_count": null,
      "outputs": [
        {
          "output_type": "stream",
          "name": "stdout",
          "text": [
            "4 5\n",
            "4 + 5 = 9\n"
          ]
        }
      ]
    },
    {
      "cell_type": "markdown",
      "source": [
        "#### 문자열 붙여서 출력하기\n",
        "```\n",
        "두 개의 문자열 str1, str2가 공백으로 구분되어 입력으로 주어집니다.\n",
        "입출력 예와 같이 str1과 str2을 이어서 출력하는 코드를 작성해 보세요.\n",
        "```"
      ],
      "metadata": {
        "id": "KsCryMB_172L"
      }
    },
    {
      "cell_type": "code",
      "source": [
        "str1, str2 = input().split()\n",
        "print(str1 + str2)"
      ],
      "metadata": {
        "colab": {
          "base_uri": "https://localhost:8080/"
        },
        "id": "CDalXXBL2I1K",
        "outputId": "1de57852-318e-4383-a3e5-271df803092c"
      },
      "execution_count": null,
      "outputs": [
        {
          "output_type": "stream",
          "name": "stdout",
          "text": [
            "right away\n",
            "rightaway\n"
          ]
        }
      ]
    },
    {
      "cell_type": "markdown",
      "source": [
        "#### 문자열 돌리기\n",
        "```\n",
        "문자열 str이 주어집니다.\n",
        "문자열을 시계방향으로 90도 돌려서 아래 입출력 예와 같이 출력하는 코드를 작성해 보세요.\n",
        "```"
      ],
      "metadata": {
        "id": "LaxiHFiV2R6g"
      }
    },
    {
      "cell_type": "code",
      "source": [
        "s = input()\n",
        "for i in s:\n",
        "    print(i)"
      ],
      "metadata": {
        "colab": {
          "base_uri": "https://localhost:8080/"
        },
        "id": "ts5djGUg2cTL",
        "outputId": "06d1d007-d517-44bc-8393-fd0d6ba242f6"
      },
      "execution_count": null,
      "outputs": [
        {
          "output_type": "stream",
          "name": "stdout",
          "text": [
            "rock\n",
            "r\n",
            "o\n",
            "c\n",
            "k\n"
          ]
        }
      ]
    },
    {
      "cell_type": "code",
      "source": [
        "# 기막히고 코막힌 답안\n",
        "print('\\n'.join(input()))"
      ],
      "metadata": {
        "colab": {
          "base_uri": "https://localhost:8080/"
        },
        "id": "eRRlaH3C2-aV",
        "outputId": "e42f8306-e063-495d-efdf-1484ad631d6c"
      },
      "execution_count": null,
      "outputs": [
        {
          "output_type": "stream",
          "name": "stdout",
          "text": [
            "rock\n",
            "r\n",
            "o\n",
            "c\n",
            "k\n"
          ]
        }
      ]
    },
    {
      "cell_type": "markdown",
      "source": [
        "#### 홀짝 구분하기\n",
        "```\n",
        "자연수 n이 입력으로 주어졌을 때 만약 n이 짝수이면 \"n is even\"을, 홀수이면 \"n is odd\"를 출력하는 코드를 작성해 보세요.\n",
        "```"
      ],
      "metadata": {
        "id": "Hwcc_ZSD2qEw"
      }
    },
    {
      "cell_type": "code",
      "source": [
        "n = int(input())\n",
        "print(f'{n} is even' if n%2==0 else f'{n} is odd')"
      ],
      "metadata": {
        "colab": {
          "base_uri": "https://localhost:8080/"
        },
        "id": "ZvRxslg53Lp2",
        "outputId": "7301ea80-73ab-47f7-acde-aef12a88500c"
      },
      "execution_count": null,
      "outputs": [
        {
          "output_type": "stream",
          "name": "stdout",
          "text": [
            "32\n",
            "32 is even\n"
          ]
        }
      ]
    },
    {
      "cell_type": "markdown",
      "source": [
        "#### 문자열 겹쳐쓰기\n",
        "```\n",
        "문자열 my_string, overwrite_string과 정수 s가 주어집니다.\n",
        "문자열 my_string의 인덱스 s부터 overwrite_string의 길이만큼을 문자열 overwrite_string으로 바꾼 문자열을 return 하는 solution 함수를 작성해 주세요.\n",
        "```\n",
        "```\n",
        "<조건>\n",
        "1 ≤ overwrite_string의 길이 ≤ my_string의 길이 ≤ 1,000\n",
        "0 ≤ s ≤ my_string의 길이 - overwrite_string의 길이\n",
        "```"
      ],
      "metadata": {
        "id": "v3FOi7cJ3dd-"
      }
    },
    {
      "cell_type": "code",
      "source": [
        "def solution(my_string, overwrite_string, s):\n",
        "    n = len(overwrite_string)\n",
        "    answer = my_string[:s] + overwrite_string + my_string[s+n:]\n",
        "    return answer"
      ],
      "metadata": {
        "id": "0heNsTwQ40hS"
      },
      "execution_count": null,
      "outputs": []
    },
    {
      "cell_type": "code",
      "source": [
        "solution(\"He11oWor1d\", \"lloWorl\", 2)"
      ],
      "metadata": {
        "colab": {
          "base_uri": "https://localhost:8080/",
          "height": 36
        },
        "id": "7dksWSj-6xES",
        "outputId": "feb15ce0-b74e-4445-ef41-481b28a1c5a1"
      },
      "execution_count": null,
      "outputs": [
        {
          "output_type": "execute_result",
          "data": {
            "text/plain": [
              "'HelloWorld'"
            ],
            "application/vnd.google.colaboratory.intrinsic+json": {
              "type": "string"
            }
          },
          "metadata": {},
          "execution_count": 11
        }
      ]
    },
    {
      "cell_type": "markdown",
      "source": [
        "#### 문자열 섞기\n",
        "```\n",
        "길이가 같은 두 문자열 str1과 str2가 주어집니다.\n",
        "\n",
        "두 문자열의 각 문자가 앞에서부터 서로 번갈아가면서 한 번씩 등장하는 문자열을 만들어 return 하는 solution 함수를 완성해 주세요.\n",
        "```"
      ],
      "metadata": {
        "id": "mZYMmGEF66on"
      }
    },
    {
      "cell_type": "code",
      "source": [
        "def solution(str1, str2):\n",
        "    answer = ''\n",
        "    for i in range(len(str1)):\n",
        "        answer += str1[i] + str2[i]\n",
        "    return answer"
      ],
      "metadata": {
        "id": "6nkvk_IC7CSF"
      },
      "execution_count": null,
      "outputs": []
    },
    {
      "cell_type": "code",
      "source": [
        "solution(\"aaaaa\", \"bbbbb\")"
      ],
      "metadata": {
        "colab": {
          "base_uri": "https://localhost:8080/",
          "height": 36
        },
        "id": "yeIAfYx--7JB",
        "outputId": "0f3984e3-e3f4-45a4-d3fd-a71016a70f05"
      },
      "execution_count": null,
      "outputs": [
        {
          "output_type": "execute_result",
          "data": {
            "text/plain": [
              "'ababababab'"
            ],
            "application/vnd.google.colaboratory.intrinsic+json": {
              "type": "string"
            }
          },
          "metadata": {},
          "execution_count": 20
        }
      ]
    },
    {
      "cell_type": "markdown",
      "source": [
        "#### 문자 리스트를 문자열로 변환하기\n",
        "```\n",
        "문자들이 담겨있는 배열 arr가 주어집니다. arr의 원소들을 순서대로 이어 붙인 문자열을 return 하는 solution함수를 작성해 주세요.\n",
        "```"
      ],
      "metadata": {
        "id": "m7YBSARx9w17"
      }
    },
    {
      "cell_type": "code",
      "source": [
        "def solution(arr):\n",
        "    return ''.join(arr)"
      ],
      "metadata": {
        "id": "wW4duAsR-hsJ"
      },
      "execution_count": null,
      "outputs": []
    },
    {
      "cell_type": "code",
      "source": [
        "solution([\"a\",\"b\",\"c\"])"
      ],
      "metadata": {
        "colab": {
          "base_uri": "https://localhost:8080/",
          "height": 36
        },
        "id": "z5OwqbjB-2rk",
        "outputId": "bdcf5e27-5bf8-426a-f2ff-338a1c4340cf"
      },
      "execution_count": null,
      "outputs": [
        {
          "output_type": "execute_result",
          "data": {
            "text/plain": [
              "'abc'"
            ],
            "application/vnd.google.colaboratory.intrinsic+json": {
              "type": "string"
            }
          },
          "metadata": {},
          "execution_count": 18
        }
      ]
    },
    {
      "cell_type": "markdown",
      "source": [
        "#### 문자열 곱하기\n",
        "```\n",
        "문자열 my_string과 정수 k가 주어질 때, my_string을 k번 반복한 문자열을 return 하는 solution 함수를 작성해 주세요.\n",
        "```"
      ],
      "metadata": {
        "id": "Hwzew-rR-qYM"
      }
    },
    {
      "cell_type": "code",
      "source": [
        "def solution(my_string, k):\n",
        "    answer = (my_string*k).strip()\n",
        "    return answer"
      ],
      "metadata": {
        "id": "mLC53LWi_E0_"
      },
      "execution_count": null,
      "outputs": []
    },
    {
      "cell_type": "code",
      "source": [
        "solution(\"onepiece\", 2)"
      ],
      "metadata": {
        "colab": {
          "base_uri": "https://localhost:8080/",
          "height": 36
        },
        "id": "f4eiopw__QLw",
        "outputId": "33128008-9f0e-4dc6-e1a4-011236346aeb"
      },
      "execution_count": null,
      "outputs": [
        {
          "output_type": "execute_result",
          "data": {
            "text/plain": [
              "'onepieceonepiece'"
            ],
            "application/vnd.google.colaboratory.intrinsic+json": {
              "type": "string"
            }
          },
          "metadata": {},
          "execution_count": 23
        }
      ]
    },
    {
      "cell_type": "markdown",
      "source": [
        "#### 더 크게 합치기\n",
        "```\n",
        "연산 ⊕는 두 정수에 대한 연산으로 두 정수를 붙여서 쓴 값을 반환합니다. 예를 들면 다음과 같습니다.\n",
        "\n",
        "12 ⊕ 3 = 123\n",
        "3 ⊕ 12 = 312\n",
        "양의 정수 a와 b가 주어졌을 때, a ⊕ b와 b ⊕ a 중 더 큰 값을 return 하는 solution 함수를 완성해 주세요.\n",
        "\n",
        "단, a ⊕ b와 b ⊕ a가 같다면 a ⊕ b를 return 합니다.\n",
        "```"
      ],
      "metadata": {
        "id": "oRbykWXm_VxB"
      }
    },
    {
      "cell_type": "code",
      "source": [
        "def solution(a, b):\n",
        "    sum_ab = int(str(a)+str(b))\n",
        "    sum_ba = int(str(b)+str(a))\n",
        "    return sum_ab if sum_ab == sum_ba else max(sum_ab, sum_ba)"
      ],
      "metadata": {
        "id": "lsEwLtCA_fue"
      },
      "execution_count": null,
      "outputs": []
    },
    {
      "cell_type": "code",
      "source": [
        "solution(9, 91)"
      ],
      "metadata": {
        "colab": {
          "base_uri": "https://localhost:8080/"
        },
        "id": "ao0UZJ3sAWxB",
        "outputId": "948609bd-1508-462f-bead-7bae34e9a897"
      },
      "execution_count": null,
      "outputs": [
        {
          "output_type": "execute_result",
          "data": {
            "text/plain": [
              "991"
            ]
          },
          "metadata": {},
          "execution_count": 5
        }
      ]
    }
  ]
}