{
  "nbformat": 4,
  "nbformat_minor": 0,
  "metadata": {
    "colab": {
      "provenance": [],
      "authorship_tag": "ABX9TyPaVu7kXMLea0RhjjykJcK8",
      "include_colab_link": true
    },
    "kernelspec": {
      "name": "python3",
      "display_name": "Python 3"
    },
    "language_info": {
      "name": "python"
    }
  },
  "cells": [
    {
      "cell_type": "markdown",
      "metadata": {
        "id": "view-in-github",
        "colab_type": "text"
      },
      "source": [
        "<a href=\"https://colab.research.google.com/github/jiminkyung/orm/blob/main/python/exercise/240203_python_261_270.ipynb\" target=\"_parent\"><img src=\"https://colab.research.google.com/assets/colab-badge.svg\" alt=\"Open In Colab\"/></a>"
      ]
    },
    {
      "cell_type": "markdown",
      "source": [
        "# 261\n",
        "주식 종목에 대한 정보를 저장하는 Stock 클래스를 정의해보세요. 클래스는 속성과 메서드를 갖고 있지 않습니다."
      ],
      "metadata": {
        "id": "0e3wKECrP4vd"
      }
    },
    {
      "cell_type": "code",
      "source": [
        "class Stock():\n",
        "    pass"
      ],
      "metadata": {
        "id": "FPA6vxw9QDAG"
      },
      "execution_count": 1,
      "outputs": []
    },
    {
      "cell_type": "markdown",
      "source": [
        "# 262\n",
        "Stock 클래스의 객체가 생성될 때 종목명과 종목코드를 입력 받을 수 있도록 생성자를 정의해보세요.\n",
        "```\n",
        "삼성 = Stock(\"삼성전자\", \"005930\")\n",
        "```"
      ],
      "metadata": {
        "id": "JbGpMt1UQFAE"
      }
    },
    {
      "cell_type": "code",
      "source": [
        "class Stock():\n",
        "    def __init__(self, name='', code=0):\n",
        "        self.name = name\n",
        "        self.code = code"
      ],
      "metadata": {
        "id": "kk_qAMUyQH28"
      },
      "execution_count": 2,
      "outputs": []
    },
    {
      "cell_type": "code",
      "source": [
        "삼성 = Stock(\"삼성전자\", \"005930\")"
      ],
      "metadata": {
        "id": "Bmp3KUHDQQjh"
      },
      "execution_count": 3,
      "outputs": []
    },
    {
      "cell_type": "code",
      "source": [
        "삼성.name"
      ],
      "metadata": {
        "colab": {
          "base_uri": "https://localhost:8080/",
          "height": 36
        },
        "id": "LF1XoOysQSR5",
        "outputId": "591381f9-f0b6-45b4-b8e5-56c1b7293d24"
      },
      "execution_count": 4,
      "outputs": [
        {
          "output_type": "execute_result",
          "data": {
            "text/plain": [
              "'삼성전자'"
            ],
            "application/vnd.google.colaboratory.intrinsic+json": {
              "type": "string"
            }
          },
          "metadata": {},
          "execution_count": 4
        }
      ]
    },
    {
      "cell_type": "markdown",
      "source": [
        "# 263\n",
        "객체에 종목명을 입력할 수 있는 set_name 메서드를 추가해보세요.\n",
        "```\n",
        "a = Stock(None, None)\n",
        "a.set_name(\"삼성전자\")\n",
        "```"
      ],
      "metadata": {
        "id": "XhyCx7-zQUcd"
      }
    },
    {
      "cell_type": "code",
      "source": [
        "class Stock():\n",
        "    def __init__(self, name, code):\n",
        "        self.name = name\n",
        "        self.code = code\n",
        "\n",
        "    def set_name(self, name):\n",
        "        self.name = name"
      ],
      "metadata": {
        "id": "_daFBWwcQZcR"
      },
      "execution_count": 5,
      "outputs": []
    },
    {
      "cell_type": "code",
      "source": [
        "a = Stock(None, None)\n",
        "a.set_name(\"삼성전자\")\n",
        "\n",
        "a.name"
      ],
      "metadata": {
        "colab": {
          "base_uri": "https://localhost:8080/",
          "height": 36
        },
        "id": "pGJZmxL0QvaH",
        "outputId": "c33166cc-5cde-4a19-96f9-f897dea6be19"
      },
      "execution_count": 6,
      "outputs": [
        {
          "output_type": "execute_result",
          "data": {
            "text/plain": [
              "'삼성전자'"
            ],
            "application/vnd.google.colaboratory.intrinsic+json": {
              "type": "string"
            }
          },
          "metadata": {},
          "execution_count": 6
        }
      ]
    },
    {
      "cell_type": "markdown",
      "source": [
        "# 264\n",
        "객체에 종목코드를 입력할 수 있는 set_code 메서드를 추가해보세요.\n",
        "```\n",
        "a = Stock(None, None)\n",
        "a.set_code(\"005930\")\n",
        "```"
      ],
      "metadata": {
        "id": "hR9V4XLWQxfI"
      }
    },
    {
      "cell_type": "code",
      "source": [
        "class Stock():\n",
        "    def __init__(self, name, code):\n",
        "        self.name = name\n",
        "        self.code = code\n",
        "\n",
        "    def set_code(self, code):\n",
        "        self.code = code"
      ],
      "metadata": {
        "id": "6_hEhOclQ5T6"
      },
      "execution_count": 7,
      "outputs": []
    },
    {
      "cell_type": "code",
      "source": [
        "a = Stock(None, None)\n",
        "a.set_code(\"005930\")\n",
        "\n",
        "a.code"
      ],
      "metadata": {
        "colab": {
          "base_uri": "https://localhost:8080/",
          "height": 36
        },
        "id": "ntAY-yQURDVN",
        "outputId": "af66aeb5-1330-442c-af12-85be8439e3a7"
      },
      "execution_count": 8,
      "outputs": [
        {
          "output_type": "execute_result",
          "data": {
            "text/plain": [
              "'005930'"
            ],
            "application/vnd.google.colaboratory.intrinsic+json": {
              "type": "string"
            }
          },
          "metadata": {},
          "execution_count": 8
        }
      ]
    },
    {
      "cell_type": "markdown",
      "source": [
        "# 265\n",
        "종목명과 종목코드를 리턴하는 get_name, get_code 메서드를 추가하세요. 해당 메서드를 사용하여 종목명과 종목코드를 얻고 이를 출력해보세요.\n",
        "```\n",
        "삼성 = Stock(\"삼성전자\", \"005930\")\n",
        "```"
      ],
      "metadata": {
        "id": "rT1xdXMuRE5S"
      }
    },
    {
      "cell_type": "code",
      "source": [
        "class Stock():\n",
        "    def __init__(self, name, code):\n",
        "        self.name = name\n",
        "        self.code = code\n",
        "\n",
        "    def get_name(self):\n",
        "        return self.name\n",
        "\n",
        "    def get_code(self):\n",
        "        return self.code"
      ],
      "metadata": {
        "id": "k-sJGLGZROX6"
      },
      "execution_count": 9,
      "outputs": []
    },
    {
      "cell_type": "code",
      "source": [
        "삼성 = Stock(\"삼성전자\", \"005930\")\n",
        "\n",
        "print(삼성.get_name())\n",
        "print(삼성.get_code())"
      ],
      "metadata": {
        "colab": {
          "base_uri": "https://localhost:8080/"
        },
        "id": "L3qfQ8muRbg3",
        "outputId": "f093ccb9-7ca3-4c4f-9a20-21fe71585f79"
      },
      "execution_count": 11,
      "outputs": [
        {
          "output_type": "stream",
          "name": "stdout",
          "text": [
            "삼성전자\n",
            "005930\n"
          ]
        }
      ]
    },
    {
      "cell_type": "markdown",
      "source": [
        "# 266\n",
        "생성자에서 종목명, 종목코드, PER, PBR, 배당수익률을 입력 받을 수 있도록 생성자를 수정하세요. PER, PBR, 배당수익률은 float 타입입니다."
      ],
      "metadata": {
        "id": "spWlPZv0Rh34"
      }
    },
    {
      "cell_type": "code",
      "source": [
        "class Stock():\n",
        "    def __init__(self, name, code, per=0.0, pbr=0.0, 수익률=0.0):\n",
        "        self.name = name\n",
        "        self.code = code\n",
        "        self.per = per\n",
        "        self.pbr = pbr\n",
        "        self.수익률 = 수익률"
      ],
      "metadata": {
        "id": "WGZCIJ3ARs0R"
      },
      "execution_count": 12,
      "outputs": []
    },
    {
      "cell_type": "code",
      "source": [
        "# 매개변수 초기화할때 0.0으로 해도 float형으로 인식되는지?\n",
        "# 확인해보고 싶었으나 답안에 없음."
      ],
      "metadata": {
        "id": "zNCqDmXSSM7H"
      },
      "execution_count": 13,
      "outputs": []
    },
    {
      "cell_type": "code",
      "source": [
        "lg = Stock(\"엘지\", 1234, 1.2, 3.3, 4.9)\n",
        "type(lg.per)"
      ],
      "metadata": {
        "colab": {
          "base_uri": "https://localhost:8080/"
        },
        "id": "ERFUNiAHSed9",
        "outputId": "40305117-e03c-4691-ece5-a98139158e92"
      },
      "execution_count": 15,
      "outputs": [
        {
          "output_type": "execute_result",
          "data": {
            "text/plain": [
              "float"
            ]
          },
          "metadata": {},
          "execution_count": 15
        }
      ]
    },
    {
      "cell_type": "code",
      "source": [
        "test = Stock(\"필하모닉\", 4321, 1.2, 4)\n",
        "print(test.수익률)\n",
        "print(type(test.수익률))"
      ],
      "metadata": {
        "colab": {
          "base_uri": "https://localhost:8080/"
        },
        "id": "nz0A9d0rSnjo",
        "outputId": "7cbf9b8a-5858-4ab5-af61-1e024b89b3ad"
      },
      "execution_count": 19,
      "outputs": [
        {
          "output_type": "stream",
          "name": "stdout",
          "text": [
            "0.0\n",
            "<class 'float'>\n"
          ]
        }
      ]
    },
    {
      "cell_type": "code",
      "source": [
        "# 된다!"
      ],
      "metadata": {
        "id": "qD8IJYslS-DV"
      },
      "execution_count": 20,
      "outputs": []
    },
    {
      "cell_type": "markdown",
      "source": [
        "# 267\n",
        "266번에서 정의한 생성자를 통해 다음 정보를 갖는 객체를 생성해보세요.\n",
        "```\n",
        "항목\t정보\n",
        "종목명\t삼성전자\n",
        "종목코드\t005930\n",
        "PER\t15.79\n",
        "PBR\t1.33\n",
        "배당수익률\t2.83\n",
        "```"
      ],
      "metadata": {
        "id": "oQu5proDTJ-0"
      }
    },
    {
      "cell_type": "code",
      "source": [
        "class Stock():\n",
        "    def __init__(self, name, code, per=0.0, pbr=0.0, 수익률=0.0):\n",
        "        self.name = name\n",
        "        self.code = code\n",
        "        self.per = per\n",
        "        self.pbr = pbr\n",
        "        self.수익률 = 수익률\n",
        "\n",
        "    def __str__(self):\n",
        "        return f\"종목: {self.name} 코드: {self.code} PER: {self.per} PBR: {self.pbr} 배당수익률: {self.수익률}\""
      ],
      "metadata": {
        "id": "4Q7_Z9ZrTOUY"
      },
      "execution_count": 24,
      "outputs": []
    },
    {
      "cell_type": "code",
      "source": [
        "# 코드를 정수형태로 입력했을 시, 에러가 발생한다.\n",
        "# 0이 맨 앞에 나오는 형태는 0o, 0x등 진법을 나타낼때만 가능하므로 에러 발생.\n",
        "# 따라서 코드넘버를 문자형으로 넘겨줘야 에러가 나타나지 않음.\n",
        "삼성 = Stock(\"삼성전자\", \"005930\", 15.79, 1.33, 2.83)\n",
        "print(삼성)"
      ],
      "metadata": {
        "colab": {
          "base_uri": "https://localhost:8080/"
        },
        "id": "XwTmCzeGTrmu",
        "outputId": "a15800fa-519a-48ca-bb58-888ca35de010"
      },
      "execution_count": 27,
      "outputs": [
        {
          "output_type": "stream",
          "name": "stdout",
          "text": [
            "종목: 삼성전자 코드: 005930 PER: 15.79 PBR: 1.33 배당수익률: 2.83\n"
          ]
        }
      ]
    },
    {
      "cell_type": "markdown",
      "source": [
        "# 268\n",
        "PER, PBR, 배당수익률은 변경될 수 있는 값입니다. 이 값을 변경할 때 사용하는 set_per, set_pbr, set_dividend 메서드를 추가하세요."
      ],
      "metadata": {
        "id": "0Ccb-eXpT8Q7"
      }
    },
    {
      "cell_type": "code",
      "source": [
        "class Stock():\n",
        "    def __init__(self, name, code, per=0.0, pbr=0.0, 수익률=0.0):\n",
        "        self.name = name\n",
        "        self.code = code\n",
        "        self.per = per\n",
        "        self.pbr = pbr\n",
        "        self.수익률 = 수익률\n",
        "\n",
        "    def set_per(self, per):\n",
        "        self.per = per\n",
        "\n",
        "    def set_pbr(self, pbr):\n",
        "        self.pbr = pbr\n",
        "\n",
        "    def set_수익률(self, 수익률):\n",
        "        self.수익률 = 수익률\n",
        "\n",
        "    def __str__(self):\n",
        "        return f\"종목: {self.name} 코드: {self.code} PER: {self.per} PBR: {self.pbr} 배당수익률: {self.수익률}\""
      ],
      "metadata": {
        "id": "txY-8ZYgUsPP"
      },
      "execution_count": 47,
      "outputs": []
    },
    {
      "cell_type": "code",
      "source": [
        "삼성 = Stock(\"삼성전자\", \"005930\", 15.79, 1.33, 2.83)\n",
        "print(삼성)"
      ],
      "metadata": {
        "colab": {
          "base_uri": "https://localhost:8080/"
        },
        "id": "jm5MHxVpU7ll",
        "outputId": "261f0012-c764-4a89-d7e9-c3218eb5c755"
      },
      "execution_count": 32,
      "outputs": [
        {
          "output_type": "stream",
          "name": "stdout",
          "text": [
            "종목: 삼성전자 코드: 005930 PER: 15.79 PBR: 1.33 배당수익률: 2.83\n"
          ]
        }
      ]
    },
    {
      "cell_type": "code",
      "source": [
        "삼성.set_per(3.2)\n",
        "삼성.set_pbr(19.9)\n",
        "삼성.set_수익률(1.2)"
      ],
      "metadata": {
        "id": "l-8DgohEVIBR"
      },
      "execution_count": 34,
      "outputs": []
    },
    {
      "cell_type": "code",
      "source": [
        "print(삼성.수익률)"
      ],
      "metadata": {
        "colab": {
          "base_uri": "https://localhost:8080/"
        },
        "id": "YSN0F0bAVlPk",
        "outputId": "898a8b5a-78ea-4678-8e77-c7c3398272ee"
      },
      "execution_count": 36,
      "outputs": [
        {
          "output_type": "stream",
          "name": "stdout",
          "text": [
            "1.2\n"
          ]
        }
      ]
    },
    {
      "cell_type": "code",
      "source": [
        "# 변경 후 결과값도 똑같이 print(삼성)으로 출력해주려고 했더니\n",
        "# maximum recursion depth exceeded while calling a Python object\n",
        "# 이런 오류가 발생했다;; 이유는 재귀 한도를 넘어섰기 때문에...\n",
        "# 파이썬은 최대 재귀 한도가 설정되어 있다. 풀려면 sys모듈을 호출해야 하는데 연습문제니 그냥 넘어가자."
      ],
      "metadata": {
        "id": "xSCZWN7RVoPL"
      },
      "execution_count": 44,
      "outputs": []
    },
    {
      "cell_type": "code",
      "source": [
        "# 내가 멍청한 실수를 했다;; 아니 고작 테스트용 클래스인데 왜 저런 에러가 뜨는걸까 했더니,\n",
        "# self.per = self 로 적어놨었다ㅋㅋㅋ 이런 그러니 런타임이 맛이 가지"
      ],
      "metadata": {
        "id": "QlDbJgLIW2vv"
      },
      "execution_count": 45,
      "outputs": []
    },
    {
      "cell_type": "code",
      "source": [
        "삼성 = Stock(\"삼성전자\", \"005930\", 15.79, 1.33, 2.83)\n",
        "print(삼성)\n",
        "삼성.set_per(3.2)\n",
        "삼성.set_pbr(19.9)\n",
        "삼성.set_수익률(1.2)\n",
        "print(삼성)"
      ],
      "metadata": {
        "colab": {
          "base_uri": "https://localhost:8080/"
        },
        "id": "FUSgNH0LXOTw",
        "outputId": "911f91a8-f291-485f-d38d-27d80508f84b"
      },
      "execution_count": 48,
      "outputs": [
        {
          "output_type": "stream",
          "name": "stdout",
          "text": [
            "종목: 삼성전자 코드: 005930 PER: 15.79 PBR: 1.33 배당수익률: 2.83\n",
            "종목: 삼성전자 코드: 005930 PER: 3.2 PBR: 19.9 배당수익률: 1.2\n"
          ]
        }
      ]
    },
    {
      "cell_type": "code",
      "source": [
        "# 이제 아무 이상없다...^^"
      ],
      "metadata": {
        "id": "9_ZjkeSDXT2s"
      },
      "execution_count": 49,
      "outputs": []
    },
    {
      "cell_type": "markdown",
      "source": [
        "# 269\n",
        "267번에서 생성한 객체에 set_per 메서드를 호출하여 per 값을 12.75로 수정해보세요."
      ],
      "metadata": {
        "id": "qY-AOuyYWBsX"
      }
    },
    {
      "cell_type": "code",
      "source": [
        "class Stock():\n",
        "    def __init__(self, name, code, per=0.0, pbr=0.0, 수익률=0.0):\n",
        "        self.name = name\n",
        "        self.code = code\n",
        "        self.per = per\n",
        "        self.pbr = pbr\n",
        "        self.수익률 = 수익률\n",
        "\n",
        "    def set_per(self, per):\n",
        "        self.per = per\n",
        "\n",
        "    def set_pbr(self, pbr):\n",
        "        self.pbr = pbr\n",
        "\n",
        "    def set_수익률(self, 수익률):\n",
        "        self.수익률 = 수익률\n",
        "\n",
        "    def __str__(self):\n",
        "        return f\"종목: {self.name} 코드: {self.code} PER: {self.per} PBR: {self.pbr} 배당수익률: {self.수익률}\""
      ],
      "metadata": {
        "id": "Df6Bhj9zWE7j"
      },
      "execution_count": 41,
      "outputs": []
    },
    {
      "cell_type": "code",
      "source": [
        "삼성 = Stock(\"삼성전자\", \"005930\", 15.79, 1.33, 2.83)\n",
        "print(삼성.per)\n",
        "삼성.set_per(13.12)\n",
        "print(삼성.per)"
      ],
      "metadata": {
        "colab": {
          "base_uri": "https://localhost:8080/"
        },
        "id": "8fmiTTRBWJb0",
        "outputId": "ad635cc7-9f69-40d6-94ea-71fb97b7817a"
      },
      "execution_count": 46,
      "outputs": [
        {
          "output_type": "stream",
          "name": "stdout",
          "text": [
            "15.79\n",
            "13.12\n"
          ]
        }
      ]
    },
    {
      "cell_type": "markdown",
      "source": [
        "# 270\n",
        "아래의 표를 참조하여 3종목에 대해 객체를 생성하고 이를 파이썬 리스트에 저장하세요. 파이썬 리스트에 저장된 각 종목에 대해 for 루프를 통해 종목코드와 PER을 출력해보세요.\n",
        "```\n",
        "종목명\t종목코드\tPER\tPBR\t배당수익률\n",
        "삼성전자\t005930\t15.79\t1.33\t2.83\n",
        "현대차\t005380\t8.70\t0.35\t4.27\n",
        "LG전자\t066570\t317.34\t0.69\t1.37\n",
        "```"
      ],
      "metadata": {
        "id": "_6YtiQLTWOoY"
      }
    },
    {
      "cell_type": "code",
      "source": [
        "class Stock():\n",
        "    def __init__(self, name, code, per=0.0, pbr=0.0, 수익률=0.0):\n",
        "        self.name = name\n",
        "        self.code = code\n",
        "        self.per = per\n",
        "        self.pbr = pbr\n",
        "        self.수익률 = 수익률\n",
        "\n",
        "    def __str__(self):\n",
        "        return f\"종목: {self.name} 코드: {self.code} PER: {self.per} PBR: {self.pbr} 배당수익률: {self.수익률}\""
      ],
      "metadata": {
        "id": "-yvrwYlZXZz-"
      },
      "execution_count": 50,
      "outputs": []
    },
    {
      "cell_type": "code",
      "source": [
        "# 정답\n",
        "종목 = []\n",
        "\n",
        "삼성 = Stock(\"삼성전자\", \"005930\", 15.79, 1.33, 2.83)\n",
        "현대차 = Stock(\"현대차\", \"005380\", 8.70, 0.35, 4.27)\n",
        "LG전자 = Stock(\"LG전자\", \"066570\", 317.34, 0.69, 1.37)\n",
        "\n",
        "종목.append(삼성)\n",
        "종목.append(현대차)\n",
        "종목.append(LG전자)\n",
        "\n",
        "for i in 종목:\n",
        "    print(i.code, i.per)        # i-> Stock 클래스의 객체를 바인딩하기 때문"
      ],
      "metadata": {
        "colab": {
          "base_uri": "https://localhost:8080/"
        },
        "id": "68tkEkt4XoZ9",
        "outputId": "8918beff-899c-4d3f-ece6-2ce6f5b9cf2d"
      },
      "execution_count": 51,
      "outputs": [
        {
          "output_type": "stream",
          "name": "stdout",
          "text": [
            "005930 15.79\n",
            "005380 8.7\n",
            "066570 317.34\n"
          ]
        }
      ]
    }
  ]
}