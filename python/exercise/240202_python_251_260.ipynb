{
  "nbformat": 4,
  "nbformat_minor": 0,
  "metadata": {
    "colab": {
      "provenance": [],
      "authorship_tag": "ABX9TyP/SmiT3c/FxQGEBIcN3ptu",
      "include_colab_link": true
    },
    "kernelspec": {
      "name": "python3",
      "display_name": "Python 3"
    },
    "language_info": {
      "name": "python"
    }
  },
  "cells": [
    {
      "cell_type": "markdown",
      "metadata": {
        "id": "view-in-github",
        "colab_type": "text"
      },
      "source": [
        "<a href=\"https://colab.research.google.com/github/jiminkyung/orm/blob/main/python/exercise/240202_python_251_260.ipynb\" target=\"_parent\"><img src=\"https://colab.research.google.com/assets/colab-badge.svg\" alt=\"Open In Colab\"/></a>"
      ]
    },
    {
      "cell_type": "markdown",
      "source": [
        "# 251\n",
        "클래스와 객체에 대해 설명해봅시다."
      ],
      "metadata": {
        "id": "46NmMqGx40zw"
      }
    },
    {
      "cell_type": "code",
      "source": [
        "# 클래스 => 붕어빵 틀\n",
        "# 객체 => 붕어빵\n",
        "\n",
        "# 정답\n",
        "# 클래스는 일종의 설계도로, 하나의 타입을 정의하는 방법입니다. 클래스에는 관련있는 데이터와 함수를 한 데 모아 정의할 수 있습니다. 클래스로 만들어진 결과물을 객체라고합니다."
      ],
      "metadata": {
        "id": "9ySdkqcE5YlI"
      },
      "execution_count": 1,
      "outputs": []
    },
    {
      "cell_type": "code",
      "source": [
        "# 붕어빵밖에 생각 안난다 큰일났다."
      ],
      "metadata": {
        "id": "PCgQH5_h5gZj"
      },
      "execution_count": 2,
      "outputs": []
    },
    {
      "cell_type": "markdown",
      "source": [
        "# 252\n",
        "비어있는 사람 (Human) 클래스를 \"정의\" 해보세요."
      ],
      "metadata": {
        "id": "YDxvdbvK5jvn"
      }
    },
    {
      "cell_type": "code",
      "source": [
        "class Human():\n",
        "    pass"
      ],
      "metadata": {
        "id": "8mWfE5QU5mLi"
      },
      "execution_count": 3,
      "outputs": []
    },
    {
      "cell_type": "markdown",
      "source": [
        "# 253\n",
        "사람 (Human) 클래스의 인스턴스를 \"생성\" 하고 이를 areum 변수로 바인딩해보세요."
      ],
      "metadata": {
        "id": "3aRIspjH5via"
      }
    },
    {
      "cell_type": "code",
      "source": [
        "areum = Human()"
      ],
      "metadata": {
        "id": "GXRsdymK5zsN"
      },
      "execution_count": 4,
      "outputs": []
    },
    {
      "cell_type": "markdown",
      "source": [
        "# 254\n",
        "사람 (Human) 클래스에 \"응애응애\"를 출력하는 생성자를 추가하세요."
      ],
      "metadata": {
        "id": "LN0c350P57Av"
      }
    },
    {
      "cell_type": "code",
      "source": [
        "class Human():\n",
        "    def __init__(self):\n",
        "        print(\"응애응애\")\n",
        "\n",
        "test = Human()"
      ],
      "metadata": {
        "colab": {
          "base_uri": "https://localhost:8080/"
        },
        "id": "1E99pMIF6Jll",
        "outputId": "fdc59ec1-6810-4860-8a49-bb2778953993"
      },
      "execution_count": 8,
      "outputs": [
        {
          "output_type": "stream",
          "name": "stdout",
          "text": [
            "응애응애\n"
          ]
        }
      ]
    },
    {
      "cell_type": "markdown",
      "source": [
        "# 255\n",
        "사람 (Human) 클래스에 (이름, 나이, 성별)을 받는 생성자를 추가하세요.\n",
        "```\n",
        ">>> areum = Human(\"아름\", 25, \"여자\")\n",
        "```"
      ],
      "metadata": {
        "id": "XeQuHQfF6Yq-"
      }
    },
    {
      "cell_type": "code",
      "source": [
        "class Human():\n",
        "    def __init__(self, name='', age=0, gender=''):\n",
        "        self.name = name\n",
        "        self.age = age\n",
        "        self.gender = gender\n",
        "\n",
        "    def __str__(self):\n",
        "        return f\"{self.name}, {self.age}, {self.gender}\"\n",
        "\n",
        "areum = Human(\"아름\", 25, \"여자\")\n",
        "print(areum)"
      ],
      "metadata": {
        "colab": {
          "base_uri": "https://localhost:8080/"
        },
        "id": "SE8FAxdm6orG",
        "outputId": "6c89ab19-8ca8-4dc5-c4b6-6529fd9cce6b"
      },
      "execution_count": 17,
      "outputs": [
        {
          "output_type": "stream",
          "name": "stdout",
          "text": [
            "아름, 25, 여자\n"
          ]
        }
      ]
    },
    {
      "cell_type": "code",
      "source": [
        "# 문제를 잘못봤다;;\n",
        "# 정답\n",
        "class Human:\n",
        "    def __init__(self, name, age, sex):\n",
        "        self.name = name\n",
        "        self.age = age\n",
        "        self.sex = sex\n",
        "\n",
        "areum = Human(\"아름\", 25, \"여자\")\n",
        "print(areum.name)"
      ],
      "metadata": {
        "colab": {
          "base_uri": "https://localhost:8080/"
        },
        "id": "xEB-nXZK7Fvf",
        "outputId": "f01903fa-9a08-4dd1-9f86-7e2e28cce423"
      },
      "execution_count": 18,
      "outputs": [
        {
          "output_type": "stream",
          "name": "stdout",
          "text": [
            "아름\n"
          ]
        }
      ]
    },
    {
      "cell_type": "markdown",
      "source": [
        "# 256\n",
        "255에서 생성한 인스턴스의 이름, 나이, 성별을 출력하세요. 인스턴스 변수에 접근하여 값을 출력하면 됩니다.\n",
        "```\n",
        "이름: 조아름, 나이: 25, 성별: 여자\n",
        "```\n",
        "인스턴스 변수에 접근하여 값을 가져오는 예\n",
        "```\n",
        ">>> areum.age\n",
        "25\n",
        "```"
      ],
      "metadata": {
        "id": "8BoBeOlk8nEg"
      }
    },
    {
      "cell_type": "code",
      "source": [
        "class Human():\n",
        "    def __init__(self, name='', age=0, gender=''):\n",
        "        self.name = name\n",
        "        self.age = age\n",
        "        self.gender = gender\n",
        "\n",
        "areum = Human(\"아름\", 25, \"여자\")\n",
        "print(f\"이름: 조{areum.name}, 나이: {areum.age}, 성별: {areum.gender}\")"
      ],
      "metadata": {
        "colab": {
          "base_uri": "https://localhost:8080/"
        },
        "id": "KjZporvb8uep",
        "outputId": "732c6766-0a9f-48ad-b9ff-59571c77c822"
      },
      "execution_count": 22,
      "outputs": [
        {
          "output_type": "stream",
          "name": "stdout",
          "text": [
            "이름: 조아름, 나이: 25, 성별: 여자\n"
          ]
        }
      ]
    },
    {
      "cell_type": "markdown",
      "source": [
        "# 257\n",
        "사람 (Human) 클래스에서 이름, 나이, 성별을 출력하는 who() 메소드를 추가하세요.\n",
        "```\n",
        ">>> areum.who()\n",
        "이름: 조아름, 나이: 25, 성별: 여자\n",
        "```"
      ],
      "metadata": {
        "id": "5brGhzYA9D8U"
      }
    },
    {
      "cell_type": "code",
      "source": [
        "class Human():\n",
        "    def __init__(self, name='', age=0, gender=''):\n",
        "        self.name = name\n",
        "        self.age = age\n",
        "        self.gender = gender\n",
        "\n",
        "    def who(self):\n",
        "        return f\"이름: 조{self.name}, 나이: {self.age}, 성별: {self.gender}\"\n",
        "\n",
        "areum = Human(\"아름\", 25, \"여자\")\n",
        "areum.who()"
      ],
      "metadata": {
        "colab": {
          "base_uri": "https://localhost:8080/",
          "height": 36
        },
        "id": "ca_V-HzW9MzK",
        "outputId": "eda83f15-d2d1-4ec9-f119-6fb3b827df99"
      },
      "execution_count": 21,
      "outputs": [
        {
          "output_type": "execute_result",
          "data": {
            "text/plain": [
              "'이름: 조아름, 나이: 25, 성별: 여자'"
            ],
            "application/vnd.google.colaboratory.intrinsic+json": {
              "type": "string"
            }
          },
          "metadata": {},
          "execution_count": 21
        }
      ]
    },
    {
      "cell_type": "markdown",
      "source": [
        "# 258\n",
        "사람 (Human) 클래스에 (이름, 나이, 성별)을 받는 setInfo 메소드를 추가하세요.\n",
        "```\n",
        ">>> areum = Human(\"모름\", 0, \"모름\")\n",
        ">>> areum.setInfo(\"아름\", 25, \"여자\")\n",
        "```"
      ],
      "metadata": {
        "id": "ZtULOQDS9ip8"
      }
    },
    {
      "cell_type": "code",
      "source": [
        "class Human():\n",
        "    def __init__(self, name='', age=0, gender=''):\n",
        "        self.name = name\n",
        "        self.age = age\n",
        "        self.gender = gender\n",
        "\n",
        "    def who(self):\n",
        "        return f\"이름: 조{self.name}, 나이: {self.age}, 성별: {self.gender}\"\n",
        "\n",
        "    def setInfo(self, name='', age=0, gender=''):\n",
        "        self.name = name\n",
        "        self.age = age\n",
        "        self.gender = gender\n",
        "\n",
        "\n",
        "areum = Human(\"아름\", 25, \"여자\")\n",
        "areum.who()"
      ],
      "metadata": {
        "colab": {
          "base_uri": "https://localhost:8080/",
          "height": 36
        },
        "id": "FJdYgbd29uWh",
        "outputId": "6674cbf8-c310-497b-acf0-095fdb7128d6"
      },
      "execution_count": 24,
      "outputs": [
        {
          "output_type": "execute_result",
          "data": {
            "text/plain": [
              "'이름: 조아름, 나이: 25, 성별: 여자'"
            ],
            "application/vnd.google.colaboratory.intrinsic+json": {
              "type": "string"
            }
          },
          "metadata": {},
          "execution_count": 24
        }
      ]
    },
    {
      "cell_type": "code",
      "source": [
        "areum = Human(\"다름\", 52, \"남자\")\n",
        "areum.who()"
      ],
      "metadata": {
        "colab": {
          "base_uri": "https://localhost:8080/",
          "height": 36
        },
        "id": "cMgXxBp9-FKb",
        "outputId": "4ce7052b-8bbf-4032-a875-d8584a9d6982"
      },
      "execution_count": 25,
      "outputs": [
        {
          "output_type": "execute_result",
          "data": {
            "text/plain": [
              "'이름: 조다름, 나이: 52, 성별: 남자'"
            ],
            "application/vnd.google.colaboratory.intrinsic+json": {
              "type": "string"
            }
          },
          "metadata": {},
          "execution_count": 25
        }
      ]
    },
    {
      "cell_type": "markdown",
      "source": [
        "# 259\n",
        "사람 (human) 클래스에 \"나의 죽음을 알리지 말라\"를 출력하는 소멸자를 추가하세요.\n",
        "```\n",
        ">>> areum = Human(\"아름\", 25, \"여자\")\n",
        ">>> del areum\n",
        "나의 죽음을 알리지 말라\n",
        "```"
      ],
      "metadata": {
        "id": "75nZrA78-KFP"
      }
    },
    {
      "cell_type": "code",
      "source": [
        "# 정답\n",
        "class Human:\n",
        "    def __init__(self, name, age, sex):\n",
        "        self.name = name\n",
        "        self.age = age\n",
        "        self.sex = sex\n",
        "\n",
        "    def __del__(self):\n",
        "        print(\"나의 죽음을 알리지마라\")\n",
        "\n",
        "    def who(self):\n",
        "        print(\"이름: {} 나이: {} 성별: {}\".format(self.name, self.age, self.sex))\n",
        "\n",
        "areum = Human(\"아름\", 25, \"여자\")\n",
        "del areum"
      ],
      "metadata": {
        "colab": {
          "base_uri": "https://localhost:8080/"
        },
        "id": "q-1ZytYf-OLo",
        "outputId": "0cde4d03-51c8-486a-8dd9-3449340b67fc"
      },
      "execution_count": 26,
      "outputs": [
        {
          "output_type": "stream",
          "name": "stdout",
          "text": [
            "나의 죽음을 알리지마라\n"
          ]
        }
      ]
    },
    {
      "cell_type": "markdown",
      "source": [
        "# 260\n",
        "아래와 같은 에러가 발생한 원인에 대해 설명하세요.\n",
        "```\n",
        "class OMG :\n",
        "    def print() :\n",
        "        print(\"Oh my god\")\n",
        "\n",
        ">>> >>> myStock = OMG()\n",
        ">>> myStock.print()\n",
        "TypeError Traceback (most recent call last)\n",
        "<ipython-input-233-c85c04535b22> in <module>()\n",
        "----> myStock.print()\n",
        "\n",
        "TypeError: print() takes 0 positional arguments but 1 was given\n",
        "```"
      ],
      "metadata": {
        "id": "RVlLEk8O-cjF"
      }
    },
    {
      "cell_type": "code",
      "source": [
        "# print() 함수 안에 print사용. => 아님...\n",
        "# mystock.print()는 OMG.print(mystock)과 같다.\n",
        "# 하지만 print() 함수를 정의할때 매개변수값을 아예 정해주지 않은 상태.\n",
        "# 그러므로 매개변수는 없는데 인자값이 들어오니 에러가 발생."
      ],
      "metadata": {
        "id": "O0vdOh9u-iYO"
      },
      "execution_count": 27,
      "outputs": []
    },
    {
      "cell_type": "code",
      "source": [
        "class OMG :\n",
        "    def print(self) :\n",
        "        print(\"Oh My God\")\n",
        "\n",
        "\n",
        "mystock = OMG()\n",
        "mystock.print()      # OMG.print(mystock)"
      ],
      "metadata": {
        "colab": {
          "base_uri": "https://localhost:8080/"
        },
        "id": "lbAwWu2H-8LA",
        "outputId": "0145d945-dd23-4011-e113-f966d19bab11"
      },
      "execution_count": 3,
      "outputs": [
        {
          "output_type": "stream",
          "name": "stdout",
          "text": [
            "Oh My God\n"
          ]
        }
      ]
    }
  ]
}