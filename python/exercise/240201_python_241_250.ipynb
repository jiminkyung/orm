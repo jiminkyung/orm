{
  "nbformat": 4,
  "nbformat_minor": 0,
  "metadata": {
    "colab": {
      "provenance": [],
      "authorship_tag": "ABX9TyP+CyUmiWyJH3sFSln/Fc4Q",
      "include_colab_link": true
    },
    "kernelspec": {
      "name": "python3",
      "display_name": "Python 3"
    },
    "language_info": {
      "name": "python"
    }
  },
  "cells": [
    {
      "cell_type": "markdown",
      "metadata": {
        "id": "view-in-github",
        "colab_type": "text"
      },
      "source": [
        "<a href=\"https://colab.research.google.com/github/jiminkyung/orm/blob/main/python/exercise/240201_python_241_250.ipynb\" target=\"_parent\"><img src=\"https://colab.research.google.com/assets/colab-badge.svg\" alt=\"Open In Colab\"/></a>"
      ]
    },
    {
      "cell_type": "markdown",
      "source": [
        "# 241\n",
        "datetime 모듈을 사용해서 현재 시간을 화면에 출력해보세요."
      ],
      "metadata": {
        "id": "ZV4s18JR5UGR"
      }
    },
    {
      "cell_type": "code",
      "source": [
        "# 정답\n",
        "import datetime\n",
        "\n",
        "now = datetime.datetime.now()\n",
        "print(now)"
      ],
      "metadata": {
        "colab": {
          "base_uri": "https://localhost:8080/"
        },
        "id": "cpDudlP05hdx",
        "outputId": "8fec1935-b002-4b63-ddff-10d65af12c85"
      },
      "execution_count": 1,
      "outputs": [
        {
          "output_type": "stream",
          "name": "stdout",
          "text": [
            "2024-02-01 13:40:50.623829\n"
          ]
        }
      ]
    },
    {
      "cell_type": "markdown",
      "source": [
        "# 242\n",
        "datetime 모듈의 now 함수의 리턴 값의 타입을 화면에 출력해보세요."
      ],
      "metadata": {
        "id": "jTuw2ypy5mV8"
      }
    },
    {
      "cell_type": "code",
      "source": [
        "# 정답\n",
        "import datetime\n",
        "\n",
        "now = datetime.datetime.now()\n",
        "print(now, type(now))"
      ],
      "metadata": {
        "colab": {
          "base_uri": "https://localhost:8080/"
        },
        "id": "M3B4jkTs5tBQ",
        "outputId": "6b6a85b7-db23-47fc-e884-ede0b8d89997"
      },
      "execution_count": 5,
      "outputs": [
        {
          "output_type": "stream",
          "name": "stdout",
          "text": [
            "2024-02-01 13:43:40.518869 <class 'datetime.datetime'>\n"
          ]
        }
      ]
    },
    {
      "cell_type": "markdown",
      "source": [
        "# 243\n",
        "datetime 모듈의 timedelta를 사용해서 오늘로부터 5일, 4일, 3일, 2일, 1일 전의 날짜를 화면에 출력해보세요."
      ],
      "metadata": {
        "id": "d3R8PFN75vcZ"
      }
    },
    {
      "cell_type": "code",
      "source": [
        "# 정답\n",
        "import datetime\n",
        "\n",
        "now = datetime.datetime.now()\n",
        "\n",
        "for day in range(5, 0, -1):\n",
        "    delta = datetime.timedelta(days=day)\n",
        "    date = now - delta\n",
        "    print(date)"
      ],
      "metadata": {
        "colab": {
          "base_uri": "https://localhost:8080/"
        },
        "id": "GJKo8NVc6GhB",
        "outputId": "d5ad1af9-940c-4cea-b424-65c33c275d3e"
      },
      "execution_count": 6,
      "outputs": [
        {
          "output_type": "stream",
          "name": "stdout",
          "text": [
            "2024-01-27 13:43:46.513090\n",
            "2024-01-28 13:43:46.513090\n",
            "2024-01-29 13:43:46.513090\n",
            "2024-01-30 13:43:46.513090\n",
            "2024-01-31 13:43:46.513090\n"
          ]
        }
      ]
    },
    {
      "cell_type": "markdown",
      "source": [
        "# 244\n",
        "현재시간을 얻어온 후 다음과 같은 포맷으로 시간을 출력해보세요. strftime 메서드를 사용하세요."
      ],
      "metadata": {
        "id": "nW01n5Cq6Iuu"
      }
    },
    {
      "cell_type": "code",
      "source": [
        "# 정답\n",
        "import datetime\n",
        "\n",
        "now = datetime.datetime.now()\n",
        "print(now.strftime(\"%H:%M:%S\"))"
      ],
      "metadata": {
        "colab": {
          "base_uri": "https://localhost:8080/"
        },
        "id": "7h9llu7j6Nof",
        "outputId": "1b19eb62-aeb0-45ba-dca8-6af5db5b8a76"
      },
      "execution_count": 7,
      "outputs": [
        {
          "output_type": "stream",
          "name": "stdout",
          "text": [
            "13:43:55\n"
          ]
        }
      ]
    },
    {
      "cell_type": "markdown",
      "source": [
        "# 245\n",
        "datetime.datetime.strptime 메서드를 사용하면 문자열 형식의 시간을 datetime.datetime 타입의 시간 값으로 만들어줍니다. \"2020-05-04\"의 문자열을 시간 타입으로 변환해보세요."
      ],
      "metadata": {
        "id": "H9c4sck06Q6X"
      }
    },
    {
      "cell_type": "code",
      "source": [
        "# 정답\n",
        "import datetime\n",
        "\n",
        "day = \"2020-05-04\"\n",
        "ret = datetime.datetime.strptime(day, \"%Y-%m-%d\")\n",
        "print(ret, type(ret))"
      ],
      "metadata": {
        "colab": {
          "base_uri": "https://localhost:8080/"
        },
        "id": "-r0Mfksd6aFf",
        "outputId": "280855c9-9566-4a2f-c787-6dd6d9d60c83"
      },
      "execution_count": 9,
      "outputs": [
        {
          "output_type": "stream",
          "name": "stdout",
          "text": [
            "2020-05-04 00:00:00 <class 'datetime.datetime'>\n"
          ]
        }
      ]
    },
    {
      "cell_type": "markdown",
      "source": [
        "# 246\n",
        "time 모듈, datetime 모듈을 사용해서 1초에 한 번 현재 시간을 출력하는 코드를 작성하세요."
      ],
      "metadata": {
        "id": "pMShDITj6qqP"
      }
    },
    {
      "cell_type": "code",
      "source": [
        "# 정답\n",
        "import time\n",
        "import datetime\n",
        "\n",
        "while True:\n",
        "    now = datetime.datetime.now()\n",
        "    print(now)\n",
        "    time.sleep(1)"
      ],
      "metadata": {
        "id": "_77JFQ_c63bn"
      },
      "execution_count": null,
      "outputs": []
    },
    {
      "cell_type": "code",
      "source": [
        "# 위의 정답코드는 무한반복되므로 아래 코드로 확인하자...\n",
        "import time\n",
        "import datetime\n",
        "count = 0\n",
        "while count <= 5:\n",
        "    now = datetime.datetime.now()\n",
        "    print(now)\n",
        "    time.sleep(1)\n",
        "    count += 1"
      ],
      "metadata": {
        "colab": {
          "base_uri": "https://localhost:8080/"
        },
        "id": "6dERGirC7j6G",
        "outputId": "3700b3ac-d03c-45d1-837b-c786054e003f"
      },
      "execution_count": 18,
      "outputs": [
        {
          "output_type": "stream",
          "name": "stdout",
          "text": [
            "2024-02-01 13:56:04.516767\n",
            "2024-02-01 13:56:05.519557\n",
            "2024-02-01 13:56:06.520598\n",
            "2024-02-01 13:56:07.521882\n",
            "2024-02-01 13:56:08.523160\n",
            "2024-02-01 13:56:09.524445\n"
          ]
        }
      ]
    },
    {
      "cell_type": "markdown",
      "source": [
        "# 247\n",
        "모듈을 임포트하는 4가지 방식에 대해 설명해보세요."
      ],
      "metadata": {
        "id": "6SrtqjSy9A5d"
      }
    },
    {
      "cell_type": "code",
      "source": [
        "# import 모듈\n",
        "# from 모듈 import 필요한기능\n",
        "# 말고는 모르겠다. 답안도 없음."
      ],
      "metadata": {
        "id": "T0jacQTo9Vo4"
      },
      "execution_count": 19,
      "outputs": []
    },
    {
      "cell_type": "markdown",
      "source": [
        "# 248\n",
        "os 모듈의 getcwd 함수를 호출하여 현재 디렉터리의 경로를 화면에 출력해보세요."
      ],
      "metadata": {
        "id": "2Ks-aqJP9wMq"
      }
    },
    {
      "cell_type": "code",
      "source": [
        "# 정답\n",
        "import os\n",
        "ret = os.getcwd()\n",
        "print(ret, type(ret))"
      ],
      "metadata": {
        "colab": {
          "base_uri": "https://localhost:8080/"
        },
        "id": "VJ1sElxf91Ev",
        "outputId": "e01cfe48-0e92-419d-aec5-3e5caca9f6e7"
      },
      "execution_count": 20,
      "outputs": [
        {
          "output_type": "stream",
          "name": "stdout",
          "text": [
            "/content <class 'str'>\n"
          ]
        }
      ]
    },
    {
      "cell_type": "markdown",
      "source": [
        "# 249\n",
        "바탕화면에 텍스트 파일을 하나 생성한 후 os 모듈의 rename 함수를 호출하여 해당 파일의 이름을 변경해보세요."
      ],
      "metadata": {
        "id": "KzZgOMa997PP"
      }
    },
    {
      "cell_type": "code",
      "source": [
        "# 정답\n",
        "# 실행은 안했다. 답안에 나와있는 코드 그대로 가져왔다.\n",
        "import os\n",
        "os.rename(\"C:/Users/hyunh/Desktop/before.txt\", \"C:/Users/hyunh/Desktop/after.txt\")"
      ],
      "metadata": {
        "id": "t5csId62-xUY"
      },
      "execution_count": null,
      "outputs": []
    },
    {
      "cell_type": "markdown",
      "source": [
        "# 250\n",
        "numpy 모듈의 arange 함수를 사용해서 0.0 부터 5.0까지 0.1씩 증가하는 값을 화면에 출력해보세요."
      ],
      "metadata": {
        "id": "6L01UCuo_M1t"
      }
    },
    {
      "cell_type": "code",
      "source": [
        "# 정답\n",
        "import numpy as np\n",
        "\n",
        "for i in np.arange(0, 5, 0.1):\n",
        "    print(i)"
      ],
      "metadata": {
        "colab": {
          "base_uri": "https://localhost:8080/"
        },
        "id": "8LoSQ7y2_QG6",
        "outputId": "aee97cd1-173e-45af-b647-f98600074482"
      },
      "execution_count": 23,
      "outputs": [
        {
          "output_type": "stream",
          "name": "stdout",
          "text": [
            "0.0\n",
            "0.1\n",
            "0.2\n",
            "0.30000000000000004\n",
            "0.4\n",
            "0.5\n",
            "0.6000000000000001\n",
            "0.7000000000000001\n",
            "0.8\n",
            "0.9\n",
            "1.0\n",
            "1.1\n",
            "1.2000000000000002\n",
            "1.3\n",
            "1.4000000000000001\n",
            "1.5\n",
            "1.6\n",
            "1.7000000000000002\n",
            "1.8\n",
            "1.9000000000000001\n",
            "2.0\n",
            "2.1\n",
            "2.2\n",
            "2.3000000000000003\n",
            "2.4000000000000004\n",
            "2.5\n",
            "2.6\n",
            "2.7\n",
            "2.8000000000000003\n",
            "2.9000000000000004\n",
            "3.0\n",
            "3.1\n",
            "3.2\n",
            "3.3000000000000003\n",
            "3.4000000000000004\n",
            "3.5\n",
            "3.6\n",
            "3.7\n",
            "3.8000000000000003\n",
            "3.9000000000000004\n",
            "4.0\n",
            "4.1000000000000005\n",
            "4.2\n",
            "4.3\n",
            "4.4\n",
            "4.5\n",
            "4.6000000000000005\n",
            "4.7\n",
            "4.800000000000001\n",
            "4.9\n"
          ]
        }
      ]
    },
    {
      "cell_type": "markdown",
      "source": [
        "모듈 공부도 좀 해야겠다. datetime도 자주 쓰던데 복습이 필요하다..."
      ],
      "metadata": {
        "id": "sDBkBlsH_ej9"
      }
    }
  ]
}