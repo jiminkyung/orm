{
  "nbformat": 4,
  "nbformat_minor": 0,
  "metadata": {
    "colab": {
      "provenance": []
    },
    "kernelspec": {
      "name": "python3",
      "display_name": "Python 3"
    },
    "language_info": {
      "name": "python"
    }
  },
  "cells": [
    {
      "cell_type": "markdown",
      "source": [
        "# 41번\n",
        "```\n",
        "다음과 같은 문자열이 있을 때 이를 대문자 BTC_KRW로 변경하세요.\n",
        "\n",
        "ticker = \"btc_krw\"\n",
        "```"
      ],
      "metadata": {
        "id": "ABeQ_1glwx4Q"
      }
    },
    {
      "cell_type": "code",
      "source": [
        "ticker = \"btc_krw\"\n",
        "print(ticker.upper())"
      ],
      "metadata": {
        "colab": {
          "base_uri": "https://localhost:8080/"
        },
        "id": "2JDA-oSHw6YT",
        "outputId": "fa63dabd-b777-4f5c-d474-7fe780ab40bd"
      },
      "execution_count": 1,
      "outputs": [
        {
          "output_type": "stream",
          "name": "stdout",
          "text": [
            "BTC_KRW\n"
          ]
        }
      ]
    },
    {
      "cell_type": "markdown",
      "source": [
        "# 42번\n",
        "```\n",
        "다음과 같은 문자열이 있을 때 이를 소문자 btc_krw로 변경하세요.\n",
        "\n",
        "ticker = \"BTC_KRW\"\n",
        "```"
      ],
      "metadata": {
        "id": "O4-Jz-0WxAW-"
      }
    },
    {
      "cell_type": "code",
      "source": [
        "ticker = \"BTC_KRW\"\n",
        "print(ticker.lower())"
      ],
      "metadata": {
        "colab": {
          "base_uri": "https://localhost:8080/"
        },
        "id": "HocCmHPIxH7a",
        "outputId": "5b701104-e763-4c56-a4d7-e0152c8abab8"
      },
      "execution_count": 2,
      "outputs": [
        {
          "output_type": "stream",
          "name": "stdout",
          "text": [
            "btc_krw\n"
          ]
        }
      ]
    },
    {
      "cell_type": "markdown",
      "source": [
        "# 43번\n",
        "```\n",
        "문자열 'hello'가 있을 때 이를 'Hello'로 변경해보세요.\n",
        "```"
      ],
      "metadata": {
        "id": "3gN4FO8mxNO7"
      }
    },
    {
      "cell_type": "code",
      "source": [
        "s = \"hello\"\n",
        "print(s.replace(\"h\", \"H\"))"
      ],
      "metadata": {
        "colab": {
          "base_uri": "https://localhost:8080/"
        },
        "id": "19ADwbnexRsX",
        "outputId": "830ec08e-5a2e-465a-a9dc-983ac73c6633"
      },
      "execution_count": 3,
      "outputs": [
        {
          "output_type": "stream",
          "name": "stdout",
          "text": [
            "Hello\n"
          ]
        }
      ]
    },
    {
      "cell_type": "code",
      "source": [
        "# 답\n",
        "a = \"hello\"\n",
        "a = a.capitalize()\n",
        "a"
      ],
      "metadata": {
        "colab": {
          "base_uri": "https://localhost:8080/",
          "height": 36
        },
        "id": "CZyoxiAyxb04",
        "outputId": "9ed4f6f2-b7f1-4c40-eaee-76b93c7247bc"
      },
      "execution_count": 5,
      "outputs": [
        {
          "output_type": "execute_result",
          "data": {
            "text/plain": [
              "'Hello'"
            ],
            "application/vnd.google.colaboratory.intrinsic+json": {
              "type": "string"
            }
          },
          "metadata": {},
          "execution_count": 5
        }
      ]
    },
    {
      "cell_type": "markdown",
      "source": [
        "# 44번\n",
        "```\n",
        "파일 이름이 문자열로 저장되어 있을 때 endswith 메서드를 사용해서 파일 이름이 'xlsx'로 끝나는지 확인해보세요.\n",
        "\n",
        "file_name = \"보고서.xlsx\"\n",
        "```"
      ],
      "metadata": {
        "id": "jasRaDMdxewD"
      }
    },
    {
      "cell_type": "code",
      "source": [
        "file_name = \"보고서.xlsx\"\n",
        "s = file_name[-4:]\n",
        "bool(s == \"xlsx\")"
      ],
      "metadata": {
        "colab": {
          "base_uri": "https://localhost:8080/"
        },
        "id": "gCVzhKZgxoZr",
        "outputId": "20445909-42e0-4b83-889b-67ba3dff9602"
      },
      "execution_count": 9,
      "outputs": [
        {
          "output_type": "execute_result",
          "data": {
            "text/plain": [
              "True"
            ]
          },
          "metadata": {},
          "execution_count": 9
        }
      ]
    },
    {
      "cell_type": "code",
      "source": [
        "# 답\n",
        "file_name = \"보고서.xlsx\"\n",
        "file_name.endswith(\"xlsx\")"
      ],
      "metadata": {
        "colab": {
          "base_uri": "https://localhost:8080/"
        },
        "id": "JAQzqE9cx0c0",
        "outputId": "c4af9bea-ff07-401b-b51c-70782af101e3"
      },
      "execution_count": 8,
      "outputs": [
        {
          "output_type": "execute_result",
          "data": {
            "text/plain": [
              "True"
            ]
          },
          "metadata": {},
          "execution_count": 8
        }
      ]
    },
    {
      "cell_type": "markdown",
      "source": [
        "# 45번\n",
        "```\n",
        "파일 이름이 문자열로 저장되어 있을 때 endswith 메서드를 사용해서 파일 이름이 'xlsx' 또는 'xls'로 끝나는지 확인해보세요.\n",
        "\n",
        "file_name = \"보고서.xlsx\"\n",
        "```"
      ],
      "metadata": {
        "id": "Ua3qf2rQxtxk"
      }
    },
    {
      "cell_type": "code",
      "source": [
        "file_name = \"보고서.xlsx\"\n",
        "s = file_name.split(\".\")\n",
        "ss = s[-1]\n",
        "bool(ss == \"xlsx\" or ss == \"xls\")"
      ],
      "metadata": {
        "colab": {
          "base_uri": "https://localhost:8080/"
        },
        "id": "xjI6nbmsyHbq",
        "outputId": "b7047c16-400f-44db-b8a7-79c096f7b028"
      },
      "execution_count": 10,
      "outputs": [
        {
          "output_type": "execute_result",
          "data": {
            "text/plain": [
              "True"
            ]
          },
          "metadata": {},
          "execution_count": 10
        }
      ]
    },
    {
      "cell_type": "code",
      "source": [
        "# 답\n",
        "file_name = \"보고서.xlsx\"\n",
        "file_name.endswith((\"xlsx\", \"xls\"))"
      ],
      "metadata": {
        "colab": {
          "base_uri": "https://localhost:8080/"
        },
        "id": "2ZCOMyacygon",
        "outputId": "cb111791-5e28-4dc8-8b71-1267a977d71a"
      },
      "execution_count": 11,
      "outputs": [
        {
          "output_type": "execute_result",
          "data": {
            "text/plain": [
              "True"
            ]
          },
          "metadata": {},
          "execution_count": 11
        }
      ]
    },
    {
      "cell_type": "markdown",
      "source": [
        "```\n",
        "startswith(str, beg=0, end): 문장의 첫 부분이 str로 시작되는지 검색. beg=시작위치, end=종료위치\n",
        "endswith(str, beg=0, end): 문장의 끝 부분이 str로 시작되는지 검색. beg=시작위치, end=종료위치\n",
        "```"
      ],
      "metadata": {
        "id": "CCnFDo9HykYR"
      }
    },
    {
      "cell_type": "markdown",
      "source": [
        "# 46번\n",
        "```\n",
        "파일 이름이 문자열로 저장되어 있을 때 startswith 메서드를 사용해서 파일 이름이 '2020'로 시작하는지 확인해보세요.\n",
        "\n",
        "file_name = \"2020_보고서.xlsx\"\n",
        "```"
      ],
      "metadata": {
        "id": "BqcptClY0L_U"
      }
    },
    {
      "cell_type": "code",
      "source": [
        "file_name = \"2020_보고서.xlsx\"\n",
        "print(file_name.startswith(\"2020\"))"
      ],
      "metadata": {
        "colab": {
          "base_uri": "https://localhost:8080/"
        },
        "id": "0JzOBk7g0RA3",
        "outputId": "b61528d4-bdb2-48a5-e2c9-041bc928c478"
      },
      "execution_count": 12,
      "outputs": [
        {
          "output_type": "stream",
          "name": "stdout",
          "text": [
            "True\n"
          ]
        }
      ]
    },
    {
      "cell_type": "markdown",
      "source": [
        "# 47번\n",
        "```\n",
        "다음과 같은 문자열이 있을 때 공백을 기준으로 문자열을 나눠보세요.\n",
        "\n",
        "a = \"hello world\"\n",
        "```"
      ],
      "metadata": {
        "id": "obm9MVGM2DGE"
      }
    },
    {
      "cell_type": "code",
      "source": [
        "a = \"hello world\"\n",
        "print(a.split())"
      ],
      "metadata": {
        "colab": {
          "base_uri": "https://localhost:8080/"
        },
        "id": "L9Mc_oU42HYY",
        "outputId": "970d29d3-9b8d-4586-83bb-9cbcdfbf955b"
      },
      "execution_count": 13,
      "outputs": [
        {
          "output_type": "stream",
          "name": "stdout",
          "text": [
            "['hello', 'world']\n"
          ]
        }
      ]
    },
    {
      "cell_type": "markdown",
      "source": [
        "# 48번\n",
        "```\n",
        "다음과 같이 문자열이 있을 때 btc와 krw로 나눠보세요.\n",
        "\n",
        "ticker = \"btc_krw\"\n",
        "```"
      ],
      "metadata": {
        "id": "Q2n9ApLz2KYi"
      }
    },
    {
      "cell_type": "code",
      "source": [
        "ticker = \"btc_krw\"\n",
        "print(ticker.split(\"_\"))"
      ],
      "metadata": {
        "colab": {
          "base_uri": "https://localhost:8080/"
        },
        "id": "Yhs0iUWs2RV-",
        "outputId": "f3be9283-bb0e-430a-c267-effdcec65353"
      },
      "execution_count": 14,
      "outputs": [
        {
          "output_type": "stream",
          "name": "stdout",
          "text": [
            "['btc', 'krw']\n"
          ]
        }
      ]
    },
    {
      "cell_type": "markdown",
      "source": [
        "# 49번\n",
        "```\n",
        "다음과 같이 날짜를 표현하는 문자열이 있을 때 연도, 월, 일로 나눠보세요.\n",
        "\n",
        "date = \"2020-05-01\"\n",
        "```"
      ],
      "metadata": {
        "id": "zzoT4tu72V0V"
      }
    },
    {
      "cell_type": "code",
      "source": [
        "date = \"2020-05-01\"\n",
        "a = date.split(\"-\")\n",
        "year = a[0]\n",
        "month = a[1]\n",
        "day = a[2]\n",
        "print(f\"{year}년 {month}월 {day}일\")"
      ],
      "metadata": {
        "colab": {
          "base_uri": "https://localhost:8080/"
        },
        "id": "kLi-O9Fc2Zu3",
        "outputId": "ad308a45-0019-4bf6-d343-d9f450ee295f"
      },
      "execution_count": 15,
      "outputs": [
        {
          "output_type": "stream",
          "name": "stdout",
          "text": [
            "2020년 05월 01일\n"
          ]
        }
      ]
    },
    {
      "cell_type": "markdown",
      "source": [
        "# 50번\n",
        "```\n",
        "문자열의 오른쪽에 공백이 있을 때 이를 제거해보세요.\n",
        "\n",
        "data = \"039490     \"\n",
        "```"
      ],
      "metadata": {
        "id": "7BGNJ3ZI2w8d"
      }
    },
    {
      "cell_type": "code",
      "source": [
        "data = \"039490     \"\n",
        "print(data.strip())"
      ],
      "metadata": {
        "colab": {
          "base_uri": "https://localhost:8080/"
        },
        "id": "x4KAiSse23h7",
        "outputId": "7da6492a-a8c7-4cdd-91d6-2a549a782a8c"
      },
      "execution_count": 16,
      "outputs": [
        {
          "output_type": "stream",
          "name": "stdout",
          "text": [
            "039490\n"
          ]
        }
      ]
    },
    {
      "cell_type": "markdown",
      "source": [
        "답\n",
        "```\n",
        "rstrip() 메서드를 사용하면 오른쪽 공백이 제거된 새로운 문자열 객체가 반환됩니다.\n",
        "그 값을 data라는 변수가 새로 바인딩합니다.\n",
        "기존의 공백이 포함된 문자열은 메모리에서 자동으로 삭제됩니다.\n",
        "data = \"039490     \"\n",
        "data = data.rstrip()\n",
        "```"
      ],
      "metadata": {
        "id": "14B5qeLy268_"
      }
    }
  ]
}