{
  "nbformat": 4,
  "nbformat_minor": 0,
  "metadata": {
    "colab": {
      "provenance": [],
      "authorship_tag": "ABX9TyPMSSfj0K+s7O7+PFJXF4II",
      "include_colab_link": true
    },
    "kernelspec": {
      "name": "python3",
      "display_name": "Python 3"
    },
    "language_info": {
      "name": "python"
    }
  },
  "cells": [
    {
      "cell_type": "markdown",
      "metadata": {
        "id": "view-in-github",
        "colab_type": "text"
      },
      "source": [
        "<a href=\"https://colab.research.google.com/github/jiminkyung/orm/blob/main/python/exercise/240127_python_181_200.ipynb\" target=\"_parent\"><img src=\"https://colab.research.google.com/assets/colab-badge.svg\" alt=\"Open In Colab\"/></a>"
      ]
    },
    {
      "cell_type": "markdown",
      "source": [
        "# 181\n",
        "아래 표에서 하나의 행을 하나의 리스트로, 총 3개의 리스트를 갖는 이차원 리스트 apart를 정의하라.\n",
        "```\n",
        "101호\t102호\n",
        "201호\t202호\n",
        "301호\t302호\n",
        "```"
      ],
      "metadata": {
        "id": "9kNljwmsmUzX"
      }
    },
    {
      "cell_type": "code",
      "source": [
        "apart = [[\"101호\", \"102호\"], [\"201호\", \"202호\"], [\"301호\", \"302호\"]]"
      ],
      "metadata": {
        "id": "MrUfuBADmrp5"
      },
      "execution_count": 2,
      "outputs": []
    },
    {
      "cell_type": "markdown",
      "source": [
        "# 182\n",
        "아래 표에서 하나의 열을 하나의 리스트로, 총 2개의 리스트를 갖는 이차원 리스트 stock을 정의하라.\n",
        "```\n",
        "시가\t종가\n",
        "100\t80\n",
        "200\t210\n",
        "300\t330\n",
        "```"
      ],
      "metadata": {
        "id": "g7093Asfm3aR"
      }
    },
    {
      "cell_type": "code",
      "source": [
        "stock = [[\"시가\", 100, 200, 300], [\"종가\", 80, 210, 330]]"
      ],
      "metadata": {
        "id": "yUFeIT2qnDf6"
      },
      "execution_count": 4,
      "outputs": []
    },
    {
      "cell_type": "markdown",
      "source": [
        "# 183\n",
        "아래 표를 stock 이름의 딕셔너리로 표현하라.시가를 key로 저장하고, 나머지 같은 열의 데이터를 리스트로 저장해서 value로 저장한다. 종가 역시 key로 저장하고 나머지 같은 열의 데이터를 리스트로 저장해서 value로 저장한다.\n",
        "```\n",
        "시가\t종가\n",
        "100\t80\n",
        "200\t210\n",
        "300\t330\n",
        "```"
      ],
      "metadata": {
        "id": "0XkyhJMKnI4X"
      }
    },
    {
      "cell_type": "code",
      "source": [
        "stock = {\"시가\": [100, 200, 300], \"종가\": [80, 210, 330]}"
      ],
      "metadata": {
        "id": "r7VZHQb6nQpr"
      },
      "execution_count": 5,
      "outputs": []
    },
    {
      "cell_type": "markdown",
      "source": [
        "# 184\n",
        "아래 표를 stock 이라는 이름의 딕셔너리로 표현하라. 날짜를 key로 저장하고, 나머지 같은 행의 데이터를 리스트로 저장해서 value로 저장한다. 첫 열이 날짜이다.\n",
        "```\n",
        "10/10\t80\t110\t70\t90\n",
        "10/11\t210\t230\t190\t200\n",
        "```"
      ],
      "metadata": {
        "id": "V3GChLbRnY3H"
      }
    },
    {
      "cell_type": "code",
      "source": [
        "stock = {\"10/10\": [80, 110, 70, 90], \"10/11\": [210, 230, 190, 200]}"
      ],
      "metadata": {
        "id": "1S0Mz1ItndEU"
      },
      "execution_count": 6,
      "outputs": []
    },
    {
      "cell_type": "markdown",
      "source": [
        "# 185\n",
        "리스트에 저장된 데이터를 아래와 같이 출력하라.\n",
        "```\n",
        "apart = [ [101, 102], [201, 202], [301, 302] ]\n",
        "101 호\n",
        "102 호\n",
        "201 호\n",
        "202 호\n",
        "301 호\n",
        "302 호\n",
        "```"
      ],
      "metadata": {
        "id": "N5A1pdHsnn2p"
      }
    },
    {
      "cell_type": "code",
      "source": [
        "apart = [ [101, 102], [201, 202], [301, 302] ]\n",
        "for floor in apart:\n",
        "    for room in floor:\n",
        "        print(room, \"호\")"
      ],
      "metadata": {
        "colab": {
          "base_uri": "https://localhost:8080/"
        },
        "id": "3iUkGnX1nrtn",
        "outputId": "ad834834-63c7-441e-f348-b7e2cff13722"
      },
      "execution_count": 9,
      "outputs": [
        {
          "output_type": "stream",
          "name": "stdout",
          "text": [
            "101 호\n",
            "102 호\n",
            "201 호\n",
            "202 호\n",
            "301 호\n",
            "302 호\n"
          ]
        }
      ]
    },
    {
      "cell_type": "markdown",
      "source": [
        "# 186\n",
        "리스트에 저장된 데이터를 아래와 같이 출력하라.\n",
        "```\n",
        "apart = [ [101, 102], [201, 202], [301, 302] ]\n",
        "301 호\n",
        "302 호\n",
        "201 호\n",
        "202 호\n",
        "101 호\n",
        "102 호\n",
        "```"
      ],
      "metadata": {
        "id": "Nz1vmdconx9O"
      }
    },
    {
      "cell_type": "code",
      "source": [
        "# 정답\n",
        "apart = [ [101, 102], [201, 202], [301, 302] ]\n",
        "\n",
        "for row in apart[::-1]:\n",
        "    for col in row:\n",
        "        print(col, \"호\")"
      ],
      "metadata": {
        "colab": {
          "base_uri": "https://localhost:8080/"
        },
        "id": "tDC5fI2yoKhM",
        "outputId": "b7e25970-7545-4eb6-f66e-287c299e942d"
      },
      "execution_count": 10,
      "outputs": [
        {
          "output_type": "stream",
          "name": "stdout",
          "text": [
            "301 호\n",
            "302 호\n",
            "201 호\n",
            "202 호\n",
            "101 호\n",
            "102 호\n"
          ]
        }
      ]
    },
    {
      "cell_type": "markdown",
      "source": [
        "# 187\n",
        "리스트에 저장된 데이터를 아래와 같이 출력하라.\n",
        "```\n",
        "apart = [ [101, 102], [201, 202], [301, 302] ]\n",
        "302 호\n",
        "301 호\n",
        "202 호\n",
        "201 호\n",
        "102 호\n",
        "101 호\n",
        "```"
      ],
      "metadata": {
        "id": "3kosabRQodz7"
      }
    },
    {
      "cell_type": "code",
      "source": [
        "apart = [ [101, 102], [201, 202], [301, 302] ]\n",
        "\n",
        "for row in apart[::-1]:\n",
        "    for col in row[::-1]:\n",
        "        print(col, \"호\")"
      ],
      "metadata": {
        "colab": {
          "base_uri": "https://localhost:8080/"
        },
        "id": "jY9anXt6okMx",
        "outputId": "11a76e24-0e1d-48ec-944e-cb59e7fdad1a"
      },
      "execution_count": 11,
      "outputs": [
        {
          "output_type": "stream",
          "name": "stdout",
          "text": [
            "302 호\n",
            "301 호\n",
            "202 호\n",
            "201 호\n",
            "102 호\n",
            "101 호\n"
          ]
        }
      ]
    },
    {
      "cell_type": "markdown",
      "source": [
        "# 188\n",
        "리스트에 저장된 데이터를 아래와 같이 출력하라.\n",
        "```\n",
        "apart = [ [101, 102], [201, 202], [301, 302] ]\n",
        "101 호\n",
        "-----\n",
        "102 호\n",
        "-----\n",
        "201 호\n",
        "-----\n",
        "202 호\n",
        "-----\n",
        "301 호\n",
        "-----\n",
        "302 호\n",
        "-----\n",
        "```"
      ],
      "metadata": {
        "id": "aE3AZcTConIF"
      }
    },
    {
      "cell_type": "code",
      "source": [
        "apart = [ [101, 102], [201, 202], [301, 302] ]\n",
        "\n",
        "for floor in apart:\n",
        "    for room in floor:\n",
        "        print(room,\"호\"+\"\\n\"+\"-----\")"
      ],
      "metadata": {
        "colab": {
          "base_uri": "https://localhost:8080/"
        },
        "id": "-iX_cFEaoq8X",
        "outputId": "1fcad4a6-9d7e-4846-bc2a-18b83284dd75"
      },
      "execution_count": 13,
      "outputs": [
        {
          "output_type": "stream",
          "name": "stdout",
          "text": [
            "101 호\n",
            "-----\n",
            "102 호\n",
            "-----\n",
            "201 호\n",
            "-----\n",
            "202 호\n",
            "-----\n",
            "301 호\n",
            "-----\n",
            "302 호\n",
            "-----\n"
          ]
        }
      ]
    },
    {
      "cell_type": "markdown",
      "source": [
        "# 189\n",
        "리스트에 저장된 데이터를 아래와 같이 출력하라.\n",
        "```\n",
        "apart = [ [101, 102], [201, 202], [301, 302] ]\n",
        "101 호\n",
        "102 호\n",
        "-----\n",
        "201 호\n",
        "202 호\n",
        "-----\n",
        "301 호\n",
        "302 호\n",
        "-----\n",
        "```"
      ],
      "metadata": {
        "id": "UUe4FnAfoxw9"
      }
    },
    {
      "cell_type": "code",
      "source": [
        "apart = [ [101, 102], [201, 202], [301, 302] ]\n",
        "\n",
        "for floor in apart:\n",
        "    for room in floor:\n",
        "        print(room,\"호\")\n",
        "    print(\"-----\")"
      ],
      "metadata": {
        "colab": {
          "base_uri": "https://localhost:8080/"
        },
        "id": "LFGBfwl7pM2n",
        "outputId": "875a812b-1723-47e7-e60f-e4fc524592d8"
      },
      "execution_count": 15,
      "outputs": [
        {
          "output_type": "stream",
          "name": "stdout",
          "text": [
            "101 호\n",
            "102 호\n",
            "-----\n",
            "201 호\n",
            "202 호\n",
            "-----\n",
            "301 호\n",
            "302 호\n",
            "-----\n"
          ]
        }
      ]
    },
    {
      "cell_type": "markdown",
      "source": [
        "# 190\n",
        "리스트에 저장된 데이터를 아래와 같이 출력하라.\n",
        "```\n",
        "apart = [ [101, 102], [201, 202], [301, 302] ]\n",
        "101 호\n",
        "102 호\n",
        "201 호\n",
        "202 호\n",
        "301 호\n",
        "302 호\n",
        "-----\n",
        "```"
      ],
      "metadata": {
        "id": "lsjfvWKypVZe"
      }
    },
    {
      "cell_type": "code",
      "source": [
        "apart = [ [101, 102], [201, 202], [301, 302] ]\n",
        "\n",
        "for floor in apart:\n",
        "    for room in floor:\n",
        "        print(room,\"호\")\n",
        "print(\"-----\")"
      ],
      "metadata": {
        "colab": {
          "base_uri": "https://localhost:8080/"
        },
        "id": "9-EqNPXLpczc",
        "outputId": "20677c7f-343d-46f8-ba1f-b46a38e6c4f5"
      },
      "execution_count": 16,
      "outputs": [
        {
          "output_type": "stream",
          "name": "stdout",
          "text": [
            "101 호\n",
            "102 호\n",
            "201 호\n",
            "202 호\n",
            "301 호\n",
            "302 호\n",
            "-----\n"
          ]
        }
      ]
    },
    {
      "cell_type": "markdown",
      "source": [
        "---"
      ],
      "metadata": {
        "id": "UhDkbvGQpmMy"
      }
    },
    {
      "cell_type": "markdown",
      "source": [
        "# 191\n",
        "data에는 매수한 종목들의 OHLC (open/high/low/close) 가격 정보가 바인딩 되어있다.\n",
        "```\n",
        "data = [\n",
        "    [ 2000,  3050,  2050,  1980],\n",
        "    [ 7500,  2050,  2050,  1980],\n",
        "    [15450, 15050, 15550, 14900]\n",
        "]\n",
        "```\n",
        "수수료를 0.014 %로 가정할 때, 각 가격에 수수료를 포함한 가격을 한라인에 하나씩 출력하라.\n",
        "```\n",
        "2000.28\n",
        "3050.427\n",
        "2050.2870000000003\n",
        "...\n",
        "```"
      ],
      "metadata": {
        "id": "RD6q5kNhpnTp"
      }
    },
    {
      "cell_type": "code",
      "source": [
        "# 수수료 0.014%인데 왜 식이 저렇게 되는거임?"
      ],
      "metadata": {
        "id": "ScLLxFz-rWCe"
      },
      "execution_count": null,
      "outputs": []
    },
    {
      "cell_type": "code",
      "source": [
        "# 정답\n",
        "\n",
        "data = [\n",
        "    [ 2000,  3050,  2050,  1980],\n",
        "    [ 7500,  2050,  2050,  1980],\n",
        "    [15450, 15050, 15550, 14900]\n",
        "]\n",
        "\n",
        "for line in data:\n",
        "    for column in line:\n",
        "        print(column * 1.00014)"
      ],
      "metadata": {
        "colab": {
          "base_uri": "https://localhost:8080/"
        },
        "id": "NUfPzx8KpuAN",
        "outputId": "95c3713b-8a6c-4c4c-b4d0-dbe459d16409"
      },
      "execution_count": 24,
      "outputs": [
        {
          "output_type": "stream",
          "name": "stdout",
          "text": [
            "2000.28\n",
            "3050.427\n",
            "2050.2870000000003\n",
            "1980.2772\n",
            "7501.05\n",
            "2050.2870000000003\n",
            "2050.2870000000003\n",
            "1980.2772\n",
            "15452.163\n",
            "15052.107\n",
            "15552.177\n",
            "14902.086000000001\n"
          ]
        }
      ]
    },
    {
      "cell_type": "markdown",
      "source": [
        "# 192\n",
        "191번의 출력 결과에 행단위로 \"----\" 구분자를 추가하라."
      ],
      "metadata": {
        "id": "oTlv_kSLp909"
      }
    },
    {
      "cell_type": "code",
      "source": [
        "data = [\n",
        "    [ 2000,  3050,  2050,  1980],\n",
        "    [ 7500,  2050,  2050,  1980],\n",
        "    [15450, 15050, 15550, 14900]\n",
        "]\n",
        "\n",
        "for line in data:\n",
        "    for column in line:\n",
        "        print(column * 1.00014)\n",
        "    print(\"----\")"
      ],
      "metadata": {
        "colab": {
          "base_uri": "https://localhost:8080/"
        },
        "id": "Yd1TBymQqrbQ",
        "outputId": "ed34c125-e95b-4d09-8063-353eae56f6e4"
      },
      "execution_count": 23,
      "outputs": [
        {
          "output_type": "stream",
          "name": "stdout",
          "text": [
            "2000.28\n",
            "3050.427\n",
            "2050.2870000000003\n",
            "1980.2772\n",
            "----\n",
            "7501.05\n",
            "2050.2870000000003\n",
            "2050.2870000000003\n",
            "1980.2772\n",
            "----\n",
            "15452.163\n",
            "15052.107\n",
            "15552.177\n",
            "14902.086000000001\n",
            "----\n"
          ]
        }
      ]
    },
    {
      "cell_type": "markdown",
      "source": [
        "# 193\n",
        "192 번 문제의 결괏값을 result 이름의 리스트에 1차원 배열로 저장하라."
      ],
      "metadata": {
        "id": "v1EXPcg_qvkU"
      }
    },
    {
      "cell_type": "code",
      "source": [
        "data = [\n",
        "    [ 2000,  3050,  2050,  1980],\n",
        "    [ 7500,  2050,  2050,  1980],\n",
        "    [15450, 15050, 15550, 14900]\n",
        "]\n",
        "\n",
        "result = []\n",
        "for line in data:\n",
        "    for column in line:\n",
        "        result.append(column * 1.00014)\n",
        "print(result)"
      ],
      "metadata": {
        "colab": {
          "base_uri": "https://localhost:8080/"
        },
        "id": "T5TN0FXarjM2",
        "outputId": "528ff510-7e18-427a-c3fb-2f31fe54e484"
      },
      "execution_count": 26,
      "outputs": [
        {
          "output_type": "stream",
          "name": "stdout",
          "text": [
            "[2000.28, 3050.427, 2050.2870000000003, 1980.2772, 7501.05, 2050.2870000000003, 2050.2870000000003, 1980.2772, 15452.163, 15052.107, 15552.177, 14902.086000000001]\n"
          ]
        }
      ]
    },
    {
      "cell_type": "markdown",
      "source": [
        "# 194\n",
        "191번 문제의 결괏값을 result 이름의 리스트에 2차원 배열로 저장하라. 저장 포맷은 아래와 같다. 각 행에 대한 데이터끼리 리스트에 저장되어야 한다."
      ],
      "metadata": {
        "id": "nmDwqWmgruqh"
      }
    },
    {
      "cell_type": "code",
      "source": [
        "# 정답\n",
        "data = [\n",
        "    [ 2000,  3050,  2050,  1980],\n",
        "    [ 7500,  2050,  2050,  1980],\n",
        "    [15450, 15050, 15550, 14900]\n",
        "]\n",
        "\n",
        "result = []\n",
        "for line in data:\n",
        "    sub = []\n",
        "    for column in line:\n",
        "        sub.append(column * 1.00014)\n",
        "    result.append(sub)\n",
        "print(result)"
      ],
      "metadata": {
        "colab": {
          "base_uri": "https://localhost:8080/"
        },
        "id": "MhJQy3Ytr22z",
        "outputId": "4f926fcd-817a-4d75-a668-1ab1bd24a97d"
      },
      "execution_count": 27,
      "outputs": [
        {
          "output_type": "stream",
          "name": "stdout",
          "text": [
            "[[2000.28, 3050.427, 2050.2870000000003, 1980.2772], [7501.05, 2050.2870000000003, 2050.2870000000003, 1980.2772], [15452.163, 15052.107, 15552.177, 14902.086000000001]]\n"
          ]
        }
      ]
    },
    {
      "cell_type": "code",
      "source": [
        "# 아니 조건이 애매한 문제들이 좀 있다. 쓰면 안되는줄 알았는데 되는게 많음."
      ],
      "metadata": {
        "id": "SB7FC9eDsLin"
      },
      "execution_count": 28,
      "outputs": []
    },
    {
      "cell_type": "markdown",
      "source": [
        "# 195\n",
        "ohlc 리스트에는 시가(open), 고가 (high), 저가 (low) , 종가(close)가 날짜별로 저장돼 있다. 화면에 종가데이터를 출력하라.\n",
        "```\n",
        "ohlc = [[\"open\", \"high\", \"low\", \"close\"],\n",
        "        [100, 110, 70, 100],\n",
        "        [200, 210, 180, 190],\n",
        "        [300, 310, 300, 310]]\n",
        "```"
      ],
      "metadata": {
        "id": "0bWzoQrLsT2z"
      }
    },
    {
      "cell_type": "code",
      "source": [
        "ohlc = [[\"open\", \"high\", \"low\", \"close\"],\n",
        "        [100, 110, 70, 100],\n",
        "        [200, 210, 180, 190],\n",
        "        [300, 310, 300, 310]]\n",
        "\n",
        "for i in ohlc[1:]:\n",
        "    print(i[-1])"
      ],
      "metadata": {
        "colab": {
          "base_uri": "https://localhost:8080/"
        },
        "id": "IzdpR46bsYQZ",
        "outputId": "8163c801-ac1a-40d5-fb7b-489dd7ab5037"
      },
      "execution_count": 30,
      "outputs": [
        {
          "output_type": "stream",
          "name": "stdout",
          "text": [
            "100\n",
            "190\n",
            "310\n"
          ]
        }
      ]
    },
    {
      "cell_type": "markdown",
      "source": [
        "# 196\n",
        "ohlc 리스트에는 시가(open), 고가 (high), 저가 (low) , 종가(close)가 날짜별로 저장돼 있다. 종가가 150원보다 큰경우에만 종가를 출력하라."
      ],
      "metadata": {
        "id": "iXp1RqL6sjE5"
      }
    },
    {
      "cell_type": "code",
      "source": [
        "ohlc = [[\"open\", \"high\", \"low\", \"close\"],\n",
        "        [100, 110, 70, 100],\n",
        "        [200, 210, 180, 190],\n",
        "        [300, 310, 300, 310]]\n",
        "\n",
        "for i in ohlc[1:]:\n",
        "    if i[-1] > 150:\n",
        "        print(i[-1])"
      ],
      "metadata": {
        "colab": {
          "base_uri": "https://localhost:8080/"
        },
        "id": "n5zQUsdXstbn",
        "outputId": "f0f14bff-198c-4c41-ff09-0cec638dd5a9"
      },
      "execution_count": 31,
      "outputs": [
        {
          "output_type": "stream",
          "name": "stdout",
          "text": [
            "190\n",
            "310\n"
          ]
        }
      ]
    },
    {
      "cell_type": "markdown",
      "source": [
        "# 197\n",
        "ohlc 리스트에는 시가(open), 고가 (high), 저가 (low) , 종가(close)가 날짜별로 저장돼 있다. 종가가 시가 보다 크거나 같은 경우에만 종가를 출력하라."
      ],
      "metadata": {
        "id": "rfK4t9Juszf4"
      }
    },
    {
      "cell_type": "code",
      "source": [
        "ohlc = [[\"open\", \"high\", \"low\", \"close\"],\n",
        "        [100, 110, 70, 100],\n",
        "        [200, 210, 180, 190],\n",
        "        [300, 310, 300, 310]]\n",
        "\n",
        "for i in ohlc[1:]:\n",
        "    if i[-1] >= i[0]:\n",
        "        print(i[-1])"
      ],
      "metadata": {
        "colab": {
          "base_uri": "https://localhost:8080/"
        },
        "id": "XrvVTY5Ns4d0",
        "outputId": "8e412f63-fa4b-4195-d1ee-efb9bacf4510"
      },
      "execution_count": 32,
      "outputs": [
        {
          "output_type": "stream",
          "name": "stdout",
          "text": [
            "100\n",
            "310\n"
          ]
        }
      ]
    },
    {
      "cell_type": "markdown",
      "source": [
        "# 198\n",
        "198\n",
        "ohlc 리스트에는 시가(open), 고가 (high), 저가 (low) , 종가(close)가 날짜별로 저장돼 있다. 고가와 저가의 차이를 변동폭으로 정의할 때 변동폭을 volatility 이름의 리스트에 저장하라."
      ],
      "metadata": {
        "id": "xGlFLRFHs8mk"
      }
    },
    {
      "cell_type": "code",
      "source": [
        "ohlc = [[\"open\", \"high\", \"low\", \"close\"],\n",
        "        [100, 110, 70, 100],\n",
        "        [200, 210, 180, 190],\n",
        "        [300, 310, 300, 310]]\n",
        "\n",
        "volatility = []\n",
        "\n",
        "for i in ohlc[1:]:\n",
        "    volatility.append(i[1]-i[2])\n",
        "\n",
        "volatility"
      ],
      "metadata": {
        "colab": {
          "base_uri": "https://localhost:8080/"
        },
        "id": "4VpW5w4ns_6d",
        "outputId": "37b6f827-0f13-4c54-d086-680efc235746"
      },
      "execution_count": 35,
      "outputs": [
        {
          "output_type": "execute_result",
          "data": {
            "text/plain": [
              "[40, 30, 10]"
            ]
          },
          "metadata": {},
          "execution_count": 35
        }
      ]
    },
    {
      "cell_type": "markdown",
      "source": [
        "# 199\n",
        "리스트에는 3일 간의 ohlc 데이터가 저장돼 있다. 종가가 시가보다 높은 날의 변동성 (고가 - 저가)을 화면에 출력하라."
      ],
      "metadata": {
        "id": "Ix-AaCj7tNMt"
      }
    },
    {
      "cell_type": "code",
      "source": [
        "ohlc = [[\"open\", \"high\", \"low\", \"close\"],\n",
        "        [100, 110, 70, 100],\n",
        "        [200, 210, 180, 190],\n",
        "        [300, 310, 300, 310]]\n",
        "\n",
        "for i in ohlc[1:]:\n",
        "    if i[-1] > i[0]:\n",
        "        print(i[1]-i[0])"
      ],
      "metadata": {
        "colab": {
          "base_uri": "https://localhost:8080/"
        },
        "id": "ZJl-q4xetZrC",
        "outputId": "3194cda1-dd18-4423-c9cf-28c09b5b27ca"
      },
      "execution_count": 36,
      "outputs": [
        {
          "output_type": "stream",
          "name": "stdout",
          "text": [
            "10\n"
          ]
        }
      ]
    },
    {
      "cell_type": "markdown",
      "source": [
        "# 200\n",
        "리스트에는 3일 간의 ohlc 데이터가 저장돼 있다. 시가에 매수해서 종가에 매도 했을 경우 총 수익금을 계산하라."
      ],
      "metadata": {
        "id": "j35iRLfdtuxd"
      }
    },
    {
      "cell_type": "code",
      "source": [
        "ohlc = [[\"open\", \"high\", \"low\", \"close\"],\n",
        "        [100, 110, 70, 100],\n",
        "        [200, 210, 180, 190],\n",
        "        [300, 310, 300, 310]]\n",
        "result = 0\n",
        "for i in ohlc[1:]:\n",
        "    result += (i[-1]-i[0])\n",
        "print(result)"
      ],
      "metadata": {
        "colab": {
          "base_uri": "https://localhost:8080/"
        },
        "id": "CKEMGDlMt0lS",
        "outputId": "3b219a12-67e6-47f4-f5bb-eb8fda361482"
      },
      "execution_count": 37,
      "outputs": [
        {
          "output_type": "stream",
          "name": "stdout",
          "text": [
            "0\n"
          ]
        }
      ]
    },
    {
      "cell_type": "code",
      "source": [
        "# 주식 좋아하시는듯..."
      ],
      "metadata": {
        "id": "yPQZ_BH4uGkz"
      },
      "execution_count": null,
      "outputs": []
    }
  ]
}