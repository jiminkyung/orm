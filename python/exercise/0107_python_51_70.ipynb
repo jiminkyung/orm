{
  "nbformat": 4,
  "nbformat_minor": 0,
  "metadata": {
    "colab": {
      "provenance": []
    },
    "kernelspec": {
      "name": "python3",
      "display_name": "Python 3"
    },
    "language_info": {
      "name": "python"
    }
  },
  "cells": [
    {
      "cell_type": "markdown",
      "source": [
        "# 51번\n",
        "```\n",
        "2016년 11월 영화 예매 순위 기준 top3는 다음과 같습니다. 영화 제목을 movie_rank 이름의 리스트에 저장해보세요. (순위 정보는 저장하지 않습니다.)\n",
        "\n",
        "순위\t영화\n",
        "1\t닥터 스트레인지\n",
        "2\t스플릿\n",
        "3\t럭키\n",
        "```"
      ],
      "metadata": {
        "id": "Ch-ZvwCNVS7y"
      }
    },
    {
      "cell_type": "code",
      "source": [
        "movie_rank = [\"닥터 스트레인지\", \"스플릿\", \"럭키\"]\n",
        "movie_rank"
      ],
      "metadata": {
        "colab": {
          "base_uri": "https://localhost:8080/"
        },
        "id": "QaGg8beAVqMP",
        "outputId": "7ac48200-407d-4184-98ed-236d43eee5b9"
      },
      "execution_count": 2,
      "outputs": [
        {
          "output_type": "execute_result",
          "data": {
            "text/plain": [
              "['닥터 스트레인지', '스플릿', '럭키']"
            ]
          },
          "metadata": {},
          "execution_count": 2
        }
      ]
    },
    {
      "cell_type": "markdown",
      "source": [
        "# 52번\n",
        "```\n",
        "051의 movie_rank 리스트에 \"배트맨\"을 추가하라.\n",
        "```"
      ],
      "metadata": {
        "id": "iQuDGfKDV1GC"
      }
    },
    {
      "cell_type": "code",
      "source": [
        "movie_rank += [\"배트맨\"]\n",
        "movie_rank"
      ],
      "metadata": {
        "colab": {
          "base_uri": "https://localhost:8080/"
        },
        "id": "89r8t2ZUV5Oi",
        "outputId": "45ac6dfa-d70c-43c7-8767-38177e17b413"
      },
      "execution_count": 3,
      "outputs": [
        {
          "output_type": "execute_result",
          "data": {
            "text/plain": [
              "['닥터 스트레인지', '스플릿', '럭키', '배트맨']"
            ]
          },
          "metadata": {},
          "execution_count": 3
        }
      ]
    },
    {
      "cell_type": "markdown",
      "source": [
        "# 53번\n",
        "```\n",
        "movie_rank 리스트에는 아래와 같이 네 개의 영화 제목이 바인딩되어 있다. \"슈퍼맨\"을 \"닥터 스트레인지\"와 \"스플릿\" 사이에 추가하라.\n",
        "\n",
        "movie_rank = ['닥터 스트레인지', '스플릿', '럭키', '배트맨']\n",
        "```"
      ],
      "metadata": {
        "id": "EjBACAeNV96e"
      }
    },
    {
      "cell_type": "code",
      "source": [
        "movie_rank = ['닥터 스트레인지', '스플릿', '럭키', '배트맨']\n",
        "movie_rank.insert(1, \"슈퍼맨\")\n",
        "movie_rank"
      ],
      "metadata": {
        "colab": {
          "base_uri": "https://localhost:8080/"
        },
        "id": "rLLHkY6yWHwN",
        "outputId": "7e9d3ee8-eb77-4e56-ba93-c383036ac8f2"
      },
      "execution_count": 8,
      "outputs": [
        {
          "output_type": "execute_result",
          "data": {
            "text/plain": [
              "['닥터 스트레인지', '슈퍼맨', '스플릿', '럭키', '배트맨']"
            ]
          },
          "metadata": {},
          "execution_count": 8
        }
      ]
    },
    {
      "cell_type": "markdown",
      "source": [
        "# 54번\n",
        "```\n",
        "movie_rank 리스트에서 '럭키'를 삭제하라.\n",
        "\n",
        "movie_rank = ['닥터 스트레인지', '슈퍼맨', '스플릿', '럭키', '배트맨']\n",
        "```"
      ],
      "metadata": {
        "id": "Kx5IioVlWOzz"
      }
    },
    {
      "cell_type": "code",
      "source": [
        "del movie_rank[-2]\n",
        "movie_rank"
      ],
      "metadata": {
        "colab": {
          "base_uri": "https://localhost:8080/"
        },
        "id": "eACKbHNXWrz-",
        "outputId": "d870f19e-9097-48b9-ca3b-4d995d7092dc"
      },
      "execution_count": 11,
      "outputs": [
        {
          "output_type": "execute_result",
          "data": {
            "text/plain": [
              "['닥터 스트레인지', '슈퍼맨', '스플릿', '배트맨']"
            ]
          },
          "metadata": {},
          "execution_count": 11
        }
      ]
    },
    {
      "cell_type": "markdown",
      "source": [
        "# 55번\n",
        "```\n",
        "movie_rank 리스트에서 '스플릿' 과 '배트맨'을 를 삭제하라.\n",
        "\n",
        "movie_rank = ['닥터 스트레인지', '슈퍼맨', '스플릿', '배트맨']\n",
        "```"
      ],
      "metadata": {
        "id": "uj2EiWEOW2Jy"
      }
    },
    {
      "cell_type": "code",
      "source": [
        "del movie_rank[-2:]\n",
        "movie_rank"
      ],
      "metadata": {
        "colab": {
          "base_uri": "https://localhost:8080/"
        },
        "id": "WQ4gOScrXFrB",
        "outputId": "f774808c-3b13-4e67-90f3-29a7177a682d"
      },
      "execution_count": 12,
      "outputs": [
        {
          "output_type": "execute_result",
          "data": {
            "text/plain": [
              "['닥터 스트레인지', '슈퍼맨']"
            ]
          },
          "metadata": {},
          "execution_count": 12
        }
      ]
    },
    {
      "cell_type": "markdown",
      "source": [
        "# 56번\n",
        "```\n",
        "lang1과 lang2 리스트가 있을 때 lang1과 lang2의 원소를 모두 갖고 있는 langs 리스트를 만들어라.\n",
        "\n",
        ">> lang1 = [\"C\", \"C++\", \"JAVA\"]\n",
        ">> lang2 = [\"Python\", \"Go\", \"C#\"]\n",
        "실행 예:\n",
        ">> langs\n",
        "['C', 'C++', 'JAVA', 'Python', 'Go', 'C#']\n",
        "```"
      ],
      "metadata": {
        "id": "e14mCiy3XJn6"
      }
    },
    {
      "cell_type": "code",
      "source": [
        "lang1 = [\"C\", \"C++\", \"JAVA\"]\n",
        "lang2 = [\"Python\", \"Go\", \"C#\"]\n",
        "\n",
        "langs = lang1 + lang2\n",
        "langs"
      ],
      "metadata": {
        "colab": {
          "base_uri": "https://localhost:8080/"
        },
        "id": "98sVFWgYXRnA",
        "outputId": "01085300-3803-45e2-e624-21298523ba8a"
      },
      "execution_count": 13,
      "outputs": [
        {
          "output_type": "execute_result",
          "data": {
            "text/plain": [
              "['C', 'C++', 'JAVA', 'Python', 'Go', 'C#']"
            ]
          },
          "metadata": {},
          "execution_count": 13
        }
      ]
    },
    {
      "cell_type": "markdown",
      "source": [
        "# 57번\n",
        "```\n",
        "다음 리스트에서 최댓값과 최솟값을 출력하라. (힌트: min(), max() 함수 사용)\n",
        "\n",
        "nums = [1, 2, 3, 4, 5, 6, 7]\n",
        "실행 예:\n",
        "max:  7\n",
        "min:  1\n",
        "```"
      ],
      "metadata": {
        "id": "RXXUpGD1Xa-X"
      }
    },
    {
      "cell_type": "code",
      "source": [
        "nums = [1, 2, 3, 4, 5, 6, 7]\n",
        "\n",
        "max = max(nums)\n",
        "min = min(nums)\n",
        "print(f\"max: {max}\\nmin: {min}\")"
      ],
      "metadata": {
        "colab": {
          "base_uri": "https://localhost:8080/"
        },
        "id": "eJwBBfzNXfFX",
        "outputId": "a79fe4d8-c243-4c49-f415-83995680d544"
      },
      "execution_count": 15,
      "outputs": [
        {
          "output_type": "stream",
          "name": "stdout",
          "text": [
            "max: 7\n",
            "min: 1\n"
          ]
        }
      ]
    },
    {
      "cell_type": "markdown",
      "source": [
        "# 58번\n",
        "```\n",
        "다음 리스트의 합을 출력하라.\n",
        "\n",
        "nums = [1, 2, 3, 4, 5]\n",
        "```"
      ],
      "metadata": {
        "id": "r-AN2tMlXu4S"
      }
    },
    {
      "cell_type": "code",
      "source": [
        "nums = [1, 2, 3, 4, 5]\n",
        "sum(nums)"
      ],
      "metadata": {
        "colab": {
          "base_uri": "https://localhost:8080/"
        },
        "id": "GBi6X8P7X6r_",
        "outputId": "45269fa1-6465-4ef7-8575-5068be92475e"
      },
      "execution_count": 16,
      "outputs": [
        {
          "output_type": "execute_result",
          "data": {
            "text/plain": [
              "15"
            ]
          },
          "metadata": {},
          "execution_count": 16
        }
      ]
    },
    {
      "cell_type": "markdown",
      "source": [
        "# 59번\n",
        "```\n",
        "다음 리스트에 저장된 데이터의 개수를 화면에 구하하라.\n",
        "\n",
        "cook = [\"피자\", \"김밥\", \"만두\", \"양념치킨\", \"족발\", \"피자\", \"김치만두\", \"쫄면\", \"소시지\", \"라면\", \"팥빙수\", \"김치전\"]\n",
        "```"
      ],
      "metadata": {
        "id": "SpgAqnbxX8zU"
      }
    },
    {
      "cell_type": "code",
      "source": [
        "cook = [\"피자\", \"김밥\", \"만두\", \"양념치킨\", \"족발\", \"피자\", \"김치만두\", \"쫄면\", \"소시지\", \"라면\", \"팥빙수\", \"김치전\"]\n",
        "\n",
        "len(cook)"
      ],
      "metadata": {
        "colab": {
          "base_uri": "https://localhost:8080/"
        },
        "id": "VgYlG7tEYBGM",
        "outputId": "182a5fc2-5825-40b2-9b99-aa209234fbff"
      },
      "execution_count": 19,
      "outputs": [
        {
          "output_type": "execute_result",
          "data": {
            "text/plain": [
              "12"
            ]
          },
          "metadata": {},
          "execution_count": 19
        }
      ]
    },
    {
      "cell_type": "markdown",
      "source": [
        "# 60번\n",
        "```\n",
        "다음 리스트의 평균을 출력하라.\n",
        "\n",
        "nums = [1, 2, 3, 4, 5]\n",
        "실행 예:\n",
        "3.0\n",
        "```"
      ],
      "metadata": {
        "id": "epcNszSGYFv2"
      }
    },
    {
      "cell_type": "code",
      "source": [
        "nums = [1, 2, 3, 4, 5]\n",
        "\n",
        "print(sum(nums) / len(nums))"
      ],
      "metadata": {
        "colab": {
          "base_uri": "https://localhost:8080/"
        },
        "id": "NYXMA2_eYSCS",
        "outputId": "b01dacc1-a0b7-4a5b-d1f4-c02163b5a39e"
      },
      "execution_count": 21,
      "outputs": [
        {
          "output_type": "stream",
          "name": "stdout",
          "text": [
            "3.0\n"
          ]
        }
      ]
    },
    {
      "cell_type": "markdown",
      "source": [
        "---"
      ],
      "metadata": {
        "id": "M00ZFrQzYqND"
      }
    },
    {
      "cell_type": "markdown",
      "source": [
        "# 61번\n",
        "```\n",
        "price 변수에는 날짜와 종가 정보가 저장돼 있다. 날짜 정보를 제외하고 가격 정보만을 출력하라. (힌트 : 슬라이싱)\n",
        "\n",
        "price = ['20180728', 100, 130, 140, 150, 160, 170]\n",
        "출력 예시:\n",
        "[100, 130, 140, 150, 160, 170]\n",
        "```"
      ],
      "metadata": {
        "id": "b0wIqyTWYrZ5"
      }
    },
    {
      "cell_type": "code",
      "source": [
        "price = ['20180728', 100, 130, 140, 150, 160, 170]\n",
        "\n",
        "price[1:]"
      ],
      "metadata": {
        "id": "QVzOcWa5Yt90",
        "colab": {
          "base_uri": "https://localhost:8080/"
        },
        "outputId": "4000c998-44db-4f60-8440-c1d8e735ed3e"
      },
      "execution_count": 22,
      "outputs": [
        {
          "output_type": "execute_result",
          "data": {
            "text/plain": [
              "[100, 130, 140, 150, 160, 170]"
            ]
          },
          "metadata": {},
          "execution_count": 22
        }
      ]
    },
    {
      "cell_type": "markdown",
      "source": [
        "# 62번\n",
        "```\n",
        "슬라이싱을 사용해서 홀수만 출력하라.\n",
        "\n",
        "nums = [1, 2, 3, 4, 5, 6, 7, 8, 9, 10]\n",
        "실행 예:\n",
        "[1, 3, 5, 7, 9]\n",
        "```"
      ],
      "metadata": {
        "id": "Aybu-zm5Y4-E"
      }
    },
    {
      "cell_type": "code",
      "source": [
        "nums = [1, 2, 3, 4, 5, 6, 7, 8, 9, 10]\n",
        "\n",
        "nums[::2]"
      ],
      "metadata": {
        "colab": {
          "base_uri": "https://localhost:8080/"
        },
        "id": "fNMGgnpwY8y7",
        "outputId": "080bc0de-d126-4dd6-f283-8d821efbb314"
      },
      "execution_count": 23,
      "outputs": [
        {
          "output_type": "execute_result",
          "data": {
            "text/plain": [
              "[1, 3, 5, 7, 9]"
            ]
          },
          "metadata": {},
          "execution_count": 23
        }
      ]
    },
    {
      "cell_type": "markdown",
      "source": [
        "# 63번\n",
        "```\n",
        "슬라이싱을 사용해서 짝수만 출력하라.\n",
        "\n",
        "nums = [1, 2, 3, 4, 5, 6, 7, 8, 9, 10]\n",
        "실행 예:\n",
        "[2, 4, 6, 8, 10]\n",
        "```"
      ],
      "metadata": {
        "id": "1G2eHNS3ZAAw"
      }
    },
    {
      "cell_type": "code",
      "source": [
        "nums[1::2]"
      ],
      "metadata": {
        "colab": {
          "base_uri": "https://localhost:8080/"
        },
        "id": "Ggkg_9wMZD9D",
        "outputId": "d77cfca2-197d-45b1-8b00-cc69b2ba5a78"
      },
      "execution_count": 24,
      "outputs": [
        {
          "output_type": "execute_result",
          "data": {
            "text/plain": [
              "[2, 4, 6, 8, 10]"
            ]
          },
          "metadata": {},
          "execution_count": 24
        }
      ]
    },
    {
      "cell_type": "markdown",
      "source": [
        "# 64번\n",
        "```\n",
        "슬라이싱을 사용해서 리스트의 숫자를 역 방향으로 출력하라.\n",
        "\n",
        "nums = [1, 2, 3, 4, 5]\n",
        "실행 예:\n",
        "[5, 4, 3, 2, 1]\n",
        "```"
      ],
      "metadata": {
        "id": "IJXWkfWPZIuL"
      }
    },
    {
      "cell_type": "code",
      "source": [
        "nums = [1, 2, 3, 4, 5]\n",
        "\n",
        "nums[::-1]"
      ],
      "metadata": {
        "colab": {
          "base_uri": "https://localhost:8080/"
        },
        "id": "aMHHOIBIZMp7",
        "outputId": "0b96740a-8dba-4bb0-a6bd-bd94d49327b8"
      },
      "execution_count": 25,
      "outputs": [
        {
          "output_type": "execute_result",
          "data": {
            "text/plain": [
              "[5, 4, 3, 2, 1]"
            ]
          },
          "metadata": {},
          "execution_count": 25
        }
      ]
    },
    {
      "cell_type": "markdown",
      "source": [
        "# 65번\n",
        "```\n",
        "interest 리스트에는 아래의 데이터가 바인딩되어 있다.\n",
        "\n",
        "interest = ['삼성전자', 'LG전자', 'Naver']\n",
        "interest 리스트를 사용하여 아래와 같이 화면에 출력하라.\n",
        "\n",
        "출력 예시:\n",
        "삼성전자 Naver\n",
        "```"
      ],
      "metadata": {
        "id": "lnSSHsNOZPHm"
      }
    },
    {
      "cell_type": "code",
      "source": [
        "interest = ['삼성전자', 'LG전자', 'Naver']\n",
        "interest[::2]"
      ],
      "metadata": {
        "colab": {
          "base_uri": "https://localhost:8080/"
        },
        "id": "EIT_1PGrZXJN",
        "outputId": "3f72976b-5a64-4af4-aaf9-7f7f273d43a5"
      },
      "execution_count": 27,
      "outputs": [
        {
          "output_type": "execute_result",
          "data": {
            "text/plain": [
              "['삼성전자', 'Naver']"
            ]
          },
          "metadata": {},
          "execution_count": 27
        }
      ]
    },
    {
      "cell_type": "code",
      "source": [
        "# 답\n",
        "print(interest[0], interest[2])"
      ],
      "metadata": {
        "colab": {
          "base_uri": "https://localhost:8080/"
        },
        "id": "wMeDvX7uZkID",
        "outputId": "414c83c4-a844-44b7-94aa-53b403eea078"
      },
      "execution_count": 28,
      "outputs": [
        {
          "output_type": "stream",
          "name": "stdout",
          "text": [
            "삼성전자 Naver\n"
          ]
        }
      ]
    },
    {
      "cell_type": "markdown",
      "source": [
        "# 66번\n",
        "```\n",
        "interest 리스트에는 아래의 데이터가 바인딩되어 있다.\n",
        "\n",
        "interest = ['삼성전자', 'LG전자', 'Naver', 'SK하이닉스', '미래에셋대우']\n",
        "interest 리스트를 사용하여 아래와 같이 화면에 출력하라.\n",
        "\n",
        "출력 예시:\n",
        "삼성전자 LG전자 Naver SK하이닉스 미래에셋대우\n",
        "```"
      ],
      "metadata": {
        "id": "qSmXG0q9ZhI4"
      }
    },
    {
      "cell_type": "code",
      "source": [
        "interest = ['삼성전자', 'LG전자', 'Naver', 'SK하이닉스', '미래에셋대우']\n",
        "\n",
        "print(interest)"
      ],
      "metadata": {
        "colab": {
          "base_uri": "https://localhost:8080/"
        },
        "id": "PuTlH7fJZuyO",
        "outputId": "b643080b-1f71-4ba7-f14f-65a74979419d"
      },
      "execution_count": 29,
      "outputs": [
        {
          "output_type": "stream",
          "name": "stdout",
          "text": [
            "['삼성전자', 'LG전자', 'Naver', 'SK하이닉스', '미래에셋대우']\n"
          ]
        }
      ]
    },
    {
      "cell_type": "code",
      "source": [
        "# 답\n",
        "print(\" \".join(interest)) # 뭐임"
      ],
      "metadata": {
        "colab": {
          "base_uri": "https://localhost:8080/"
        },
        "id": "UvaGGWotZztU",
        "outputId": "fc42ee7b-8e16-4c99-d381-3a74210dc988"
      },
      "execution_count": 30,
      "outputs": [
        {
          "output_type": "stream",
          "name": "stdout",
          "text": [
            "삼성전자 LG전자 Naver SK하이닉스 미래에셋대우\n"
          ]
        }
      ]
    },
    {
      "cell_type": "markdown",
      "source": [
        "# 67번\n",
        "```\n",
        "interest 리스트에는 아래의 데이터가 바인딩되어 있다.\n",
        "\n",
        "interest = ['삼성전자', 'LG전자', 'Naver', 'SK하이닉스', '미래에셋대우']\n",
        "interest 리스트를 사용하여 아래와 같이 화면에 출력하라.\n",
        "\n",
        "출력 예시:\n",
        "삼성전자/LG전자/Naver/SK하이닉스/미래에셋대우\n",
        "```"
      ],
      "metadata": {
        "id": "g9JTMZIQZ8rc"
      }
    },
    {
      "cell_type": "code",
      "source": [
        "print(\"/\".join(interest))"
      ],
      "metadata": {
        "colab": {
          "base_uri": "https://localhost:8080/"
        },
        "id": "ikcrF8iJaDKV",
        "outputId": "90c32c14-b6ec-424b-fbb4-56fc65eb3a69"
      },
      "execution_count": 31,
      "outputs": [
        {
          "output_type": "stream",
          "name": "stdout",
          "text": [
            "삼성전자/LG전자/Naver/SK하이닉스/미래에셋대우\n"
          ]
        }
      ]
    },
    {
      "cell_type": "markdown",
      "source": [
        "# 68번\n",
        "```\n",
        "interest 리스트에는 아래의 데이터가 바인딩되어 있다.\n",
        "\n",
        "interest = ['삼성전자', 'LG전자', 'Naver', 'SK하이닉스', '미래에셋대우']\n",
        "join() 메서드를 사용해서 interest 리스트를 아래와 같이 화면에 출력하라.\n",
        "\n",
        "출력 예시:\n",
        "삼성전자\n",
        "LG전자\n",
        "Naver\n",
        "SK하이닉스\n",
        "미래에셋대우\n",
        "```"
      ],
      "metadata": {
        "id": "97ijMJDtaLWJ"
      }
    },
    {
      "cell_type": "code",
      "source": [
        "print(\"\\n\".join(interest))"
      ],
      "metadata": {
        "colab": {
          "base_uri": "https://localhost:8080/"
        },
        "id": "KvL8K0oDaPKS",
        "outputId": "64d0a7f5-b942-4164-ce49-fe3c95bff3f8"
      },
      "execution_count": 32,
      "outputs": [
        {
          "output_type": "stream",
          "name": "stdout",
          "text": [
            "삼성전자\n",
            "LG전자\n",
            "Naver\n",
            "SK하이닉스\n",
            "미래에셋대우\n"
          ]
        }
      ]
    },
    {
      "cell_type": "markdown",
      "source": [
        "# 69번\n",
        "```\n",
        "회사 이름이 슬래시 ('/')로 구분되어 하나의 문자열로 저장되어 있다.\n",
        "\n",
        "string = \"삼성전자/LG전자/Naver\"\n",
        "이를 interest 이름의 리스트로 분리 저장하라.\n",
        "\n",
        "실행 예시\n",
        ">> print(interest)\n",
        "['삼성전자', 'LG전자', 'Naver']\n",
        "```"
      ],
      "metadata": {
        "id": "3-8MmGyoaR6N"
      }
    },
    {
      "cell_type": "code",
      "source": [
        "string = \"삼성전자/LG전자/Naver\"\n",
        "\n",
        "interest = string.split(\"/\")\n",
        "interest"
      ],
      "metadata": {
        "colab": {
          "base_uri": "https://localhost:8080/"
        },
        "id": "q9pXTbuCaWHN",
        "outputId": "7a999ab5-0d91-4ca8-8089-f46ba4566b55"
      },
      "execution_count": 33,
      "outputs": [
        {
          "output_type": "execute_result",
          "data": {
            "text/plain": [
              "['삼성전자', 'LG전자', 'Naver']"
            ]
          },
          "metadata": {},
          "execution_count": 33
        }
      ]
    },
    {
      "cell_type": "markdown",
      "source": [
        "# 70번\n",
        "```\n",
        "리스트에 있는 값을 오름차순으로 정렬하세요.\n",
        "\n",
        "data = [2, 4, 3, 1, 5, 10, 9]\n",
        "```"
      ],
      "metadata": {
        "id": "3oCpePHYaeLV"
      }
    },
    {
      "cell_type": "code",
      "source": [
        "data = [2, 4, 3, 1, 5, 10, 9]\n",
        "\n",
        "data.sort()\n",
        "data"
      ],
      "metadata": {
        "colab": {
          "base_uri": "https://localhost:8080/"
        },
        "id": "lEpBvPx8aiEA",
        "outputId": "b97c3387-0840-48c0-be74-55e2c90eb1b1"
      },
      "execution_count": 36,
      "outputs": [
        {
          "output_type": "execute_result",
          "data": {
            "text/plain": [
              "[1, 2, 3, 4, 5, 9, 10]"
            ]
          },
          "metadata": {},
          "execution_count": 36
        }
      ]
    }
  ]
}