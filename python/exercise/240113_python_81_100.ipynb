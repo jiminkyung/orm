{
  "nbformat": 4,
  "nbformat_minor": 0,
  "metadata": {
    "colab": {
      "provenance": []
    },
    "kernelspec": {
      "name": "python3",
      "display_name": "Python 3"
    },
    "language_info": {
      "name": "python"
    }
  },
  "cells": [
    {
      "cell_type": "markdown",
      "source": [
        "#81번\n",
        "기본적으로 데이터 언패킹은 좌변의 변수와 우변 데이터 개수가 같아야 합니다. 하지만 star expression을 사용하면 변수의 개수가 달라도 데이터 언패킹을 할 수 있습니다. 튜플에 저장된 데이터 중에서 앞에 있는 두 개의 데이터만 필요할 경우 나머지 데이터의 언패킹 코드를 작성할 필요가 없습니다.\n",
        "```\n",
        ">> a, b, *c = (0, 1, 2, 3, 4, 5)\n",
        ">> a\n",
        "0\n",
        ">> b\n",
        "1\n",
        ">> c\n",
        "[2, 3, 4, 5]\n",
        "```\n",
        "다음과 같이 10개의 값이 저장된 scores 리스트가 있을 때, start expression을 사용하여 좌측 8개의 값을 valid_score 변수에 바인딩하여라.\n",
        "```\n",
        "scores = [8.8, 8.9, 8.7, 9.2, 9.3, 9.7, 9.9, 9.5, 7.8, 9.4]\n",
        "```"
      ],
      "metadata": {
        "id": "qWqWIPKn6uvb"
      }
    },
    {
      "cell_type": "code",
      "source": [
        "scores = [8.8, 8.9, 8.7, 9.2, 9.3, 9.7, 9.9, 9.5, 7.8, 9.4]\n",
        "*valid_score, a, b = scores\n",
        "valid_score"
      ],
      "metadata": {
        "colab": {
          "base_uri": "https://localhost:8080/"
        },
        "id": "K0DhQzDW678i",
        "outputId": "dd90200f-7892-4d4d-e5bb-68b48c2d357a"
      },
      "execution_count": 1,
      "outputs": [
        {
          "output_type": "execute_result",
          "data": {
            "text/plain": [
              "[8.8, 8.9, 8.7, 9.2, 9.3, 9.7, 9.9, 9.5]"
            ]
          },
          "metadata": {},
          "execution_count": 1
        }
      ]
    },
    {
      "cell_type": "code",
      "source": [
        "# 정답\n",
        "scores = [8.8, 8.9, 8.7, 9.2, 9.3, 9.7, 9.9, 9.5, 7.8, 9.4]\n",
        "*valid_score, _, _= scores\n",
        "print(valid_score)\n",
        "# 별다른 변수가 필요하지 않으면 _를 써도 됐다. 깜빡! 틀린 답은 아니었음."
      ],
      "metadata": {
        "colab": {
          "base_uri": "https://localhost:8080/"
        },
        "id": "dYrHIzG07LQK",
        "outputId": "2f98b552-a4b4-419b-da13-339922061965"
      },
      "execution_count": 2,
      "outputs": [
        {
          "output_type": "stream",
          "name": "stdout",
          "text": [
            "[8.8, 8.9, 8.7, 9.2, 9.3, 9.7, 9.9, 9.5]\n"
          ]
        }
      ]
    },
    {
      "cell_type": "markdown",
      "source": [
        "# 82번\n",
        "다음과 같이 10개의 값이 저장된 scores 리스트가 있을 때, start expression을 사용하여 우측 8개의 값을 valid_score 변수에 바인딩하여라.\n",
        "```\n",
        "scores = [8.8, 8.9, 8.7, 9.2, 9.3, 9.7, 9.9, 9.5, 7.8, 9.4]\n",
        "```"
      ],
      "metadata": {
        "id": "SRlkpUpV7aM7"
      }
    },
    {
      "cell_type": "code",
      "source": [
        "scores = [8.8, 8.9, 8.7, 9.2, 9.3, 9.7, 9.9, 9.5, 7.8, 9.4]\n",
        "_, _, *valid_score = scores\n",
        "valid_score"
      ],
      "metadata": {
        "colab": {
          "base_uri": "https://localhost:8080/"
        },
        "id": "uys1nqQa7e9U",
        "outputId": "9957c309-6d06-4389-9af7-2d66a9222458"
      },
      "execution_count": 4,
      "outputs": [
        {
          "output_type": "execute_result",
          "data": {
            "text/plain": [
              "[8.7, 9.2, 9.3, 9.7, 9.9, 9.5, 7.8, 9.4]"
            ]
          },
          "metadata": {},
          "execution_count": 4
        }
      ]
    },
    {
      "cell_type": "markdown",
      "source": [
        "# 83번\n",
        "다음과 같이 10개의 값이 저장된 scores 리스트가 있을 때, start expression을 사용하여 가운데 있는 8개의 값을 valid_score 변수에 바인딩하여라."
      ],
      "metadata": {
        "id": "6X1WoqFk7mxj"
      }
    },
    {
      "cell_type": "code",
      "source": [
        "scores = [8.8, 8.9, 8.7, 9.2, 9.3, 9.7, 9.9, 9.5, 7.8, 9.4]\n",
        "_, *valid_score, _ = scores\n",
        "valid_score"
      ],
      "metadata": {
        "colab": {
          "base_uri": "https://localhost:8080/"
        },
        "id": "ImlA99dQ7uCX",
        "outputId": "9f241482-76f3-4e11-d183-76178d8c3558"
      },
      "execution_count": 5,
      "outputs": [
        {
          "output_type": "execute_result",
          "data": {
            "text/plain": [
              "[8.9, 8.7, 9.2, 9.3, 9.7, 9.9, 9.5, 7.8]"
            ]
          },
          "metadata": {},
          "execution_count": 5
        }
      ]
    },
    {
      "cell_type": "markdown",
      "source": [
        "# 84번\n",
        "temp 이름의 비어있는 딕셔너리를 만들라."
      ],
      "metadata": {
        "id": "9No5IEgR7xFy"
      }
    },
    {
      "cell_type": "code",
      "source": [
        "temp = {}\n",
        "type(temp)"
      ],
      "metadata": {
        "colab": {
          "base_uri": "https://localhost:8080/"
        },
        "id": "owRYVBI1702L",
        "outputId": "5bf21411-7cca-47f6-f449-249ed600c868"
      },
      "execution_count": 6,
      "outputs": [
        {
          "output_type": "execute_result",
          "data": {
            "text/plain": [
              "dict"
            ]
          },
          "metadata": {},
          "execution_count": 6
        }
      ]
    },
    {
      "cell_type": "markdown",
      "source": [
        "# 85번\n",
        "다음 아이스크림 이름과 희망 가격을 딕셔너리로 구성하라.\n",
        "```\n",
        "이름\t희망 가격\n",
        "메로나\t1000\n",
        "폴라포\t1200\n",
        "빵빠레\t1800\n",
        "```"
      ],
      "metadata": {
        "id": "K0WYQNzl72h5"
      }
    },
    {
      "cell_type": "code",
      "source": [
        "ice_cream = {\n",
        "    \"메로나\": 1000,\n",
        "    \"폴라모\": 1200,\n",
        "    \"빵빠레\": 1800\n",
        "}\n",
        "ice_cream"
      ],
      "metadata": {
        "colab": {
          "base_uri": "https://localhost:8080/"
        },
        "id": "ANtMOhWh781W",
        "outputId": "c281a033-3c03-4510-bda2-58d9c2da8f9f"
      },
      "execution_count": 7,
      "outputs": [
        {
          "output_type": "execute_result",
          "data": {
            "text/plain": [
              "{'메로나': 1000, '폴라모': 1200, '빵빠레': 1800}"
            ]
          },
          "metadata": {},
          "execution_count": 7
        }
      ]
    },
    {
      "cell_type": "markdown",
      "source": [
        "# 86번\n",
        "085 번의 딕셔너리에 아래 아이스크림 가격정보를 추가하라.\n",
        "```\n",
        "이름\t희망 가격\n",
        "죠스바\t1200\n",
        "월드콘\t1500\n",
        "```"
      ],
      "metadata": {
        "id": "DwAiC3Tl8M8Q"
      }
    },
    {
      "cell_type": "code",
      "source": [
        "ice_cream.update(\"죠스바\": 1200, \"월드콘\": 1500)\n",
        "# 추가하는 방법 까먹었다."
      ],
      "metadata": {
        "id": "JCGKIb_w8Tj1"
      },
      "execution_count": null,
      "outputs": []
    },
    {
      "cell_type": "code",
      "source": [
        "# 정답\n",
        "ice = {\"메로나\": 1000, \"폴라포\": 1200, \"빵빠레\": 1800}\n",
        "ice[\"죠스바\"] = 1200\n",
        "ice[\"월드콘\"] = 1500\n",
        "print(ice)"
      ],
      "metadata": {
        "colab": {
          "base_uri": "https://localhost:8080/"
        },
        "id": "UBn3CWY889Os",
        "outputId": "9f1c40ae-1835-4aed-9f14-8ef94c8248cc"
      },
      "execution_count": 9,
      "outputs": [
        {
          "output_type": "stream",
          "name": "stdout",
          "text": [
            "{'메로나': 1000, '폴라포': 1200, '빵빠레': 1800, '죠스바': 1200, '월드콘': 1500}\n"
          ]
        }
      ]
    },
    {
      "cell_type": "code",
      "source": [
        "# 여러개를 추가하려면 딕셔너리를 새로 생성하고 update하는 방법밖엔 없다."
      ],
      "metadata": {
        "id": "RwFk1bDe9CIw"
      },
      "execution_count": 10,
      "outputs": []
    },
    {
      "cell_type": "code",
      "source": [
        "ice_cream2 = {\"죠스바\": 1200, \"월드콘\": 1500}\n",
        "ice_cream.update(ice_cream2)\n",
        "ice_cream"
      ],
      "metadata": {
        "colab": {
          "base_uri": "https://localhost:8080/"
        },
        "id": "8RR_DeuZ9Jjm",
        "outputId": "9a7333ab-a907-4f9b-bc42-d52236aaaa03"
      },
      "execution_count": 11,
      "outputs": [
        {
          "output_type": "execute_result",
          "data": {
            "text/plain": [
              "{'메로나': 1000, '폴라모': 1200, '빵빠레': 1800, '죠스바': 1200, '월드콘': 1500}"
            ]
          },
          "metadata": {},
          "execution_count": 11
        }
      ]
    },
    {
      "cell_type": "markdown",
      "source": [
        "# 87번\n",
        "다음 딕셔너리를 사용하여 메로나 가격을 출력하라.\n",
        "```\n",
        "ice = {'메로나': 1000,\n",
        "       '폴로포': 1200,\n",
        "       '빵빠레': 1800,\n",
        "       '죠스바': 1200,\n",
        "       '월드콘': 1500}\n",
        "```\n",
        "```\n",
        "실행 예:\n",
        "메로나 가격: 1000\n",
        "```"
      ],
      "metadata": {
        "id": "bbamnswd9TDn"
      }
    },
    {
      "cell_type": "code",
      "source": [
        "print(f\"{ice_cream[].keys} 가격: {ice_cream[0]}\")"
      ],
      "metadata": {
        "id": "evw_eNtd9eLj"
      },
      "execution_count": null,
      "outputs": []
    },
    {
      "cell_type": "code",
      "source": [
        "# 아뿔싸! 딕셔너리는 인덱스값을 지원하지 않는다;;"
      ],
      "metadata": {
        "id": "0i94Ua2590Cf"
      },
      "execution_count": 14,
      "outputs": []
    },
    {
      "cell_type": "code",
      "source": [
        "# 정답\n",
        "print(\"메로나 가격: \", ice[\"메로나\"])"
      ],
      "metadata": {
        "colab": {
          "base_uri": "https://localhost:8080/"
        },
        "id": "-ueTYbXD-EWy",
        "outputId": "75dc9ea6-9a4e-454c-b17a-24f1d280630f"
      },
      "execution_count": 15,
      "outputs": [
        {
          "output_type": "stream",
          "name": "stdout",
          "text": [
            "메로나 가격:  1000\n"
          ]
        }
      ]
    },
    {
      "cell_type": "markdown",
      "source": [
        "# 88번\n",
        "다음 딕셔너리에서 메로나의 가격을 1300으로 수정하라."
      ],
      "metadata": {
        "id": "24D3eLV1-G-o"
      }
    },
    {
      "cell_type": "code",
      "source": [
        "ice_cream[\"메로나\"] = 1300\n",
        "ice_cream"
      ],
      "metadata": {
        "colab": {
          "base_uri": "https://localhost:8080/"
        },
        "id": "txYNrKY3-NC6",
        "outputId": "95754299-f3aa-41d8-9deb-f5422063f1a7"
      },
      "execution_count": 16,
      "outputs": [
        {
          "output_type": "execute_result",
          "data": {
            "text/plain": [
              "{'메로나': 1300, '폴라모': 1200, '빵빠레': 1800, '죠스바': 1200, '월드콘': 1500}"
            ]
          },
          "metadata": {},
          "execution_count": 16
        }
      ]
    },
    {
      "cell_type": "markdown",
      "source": [
        "# 89번\n",
        "다음 딕셔너리에서 메로나를 삭제하라."
      ],
      "metadata": {
        "id": "iTtyHkzr-R8m"
      }
    },
    {
      "cell_type": "code",
      "source": [
        "print(ice_cream)\n",
        "del ice_cream[\"메로나\"]\n",
        "ice_cream"
      ],
      "metadata": {
        "colab": {
          "base_uri": "https://localhost:8080/"
        },
        "id": "L9utTKpT-YDe",
        "outputId": "f803b130-8fa2-4b41-fefc-ef63ab49017d"
      },
      "execution_count": 17,
      "outputs": [
        {
          "output_type": "stream",
          "name": "stdout",
          "text": [
            "{'메로나': 1300, '폴라모': 1200, '빵빠레': 1800, '죠스바': 1200, '월드콘': 1500}\n"
          ]
        },
        {
          "output_type": "execute_result",
          "data": {
            "text/plain": [
              "{'폴라모': 1200, '빵빠레': 1800, '죠스바': 1200, '월드콘': 1500}"
            ]
          },
          "metadata": {},
          "execution_count": 17
        }
      ]
    },
    {
      "cell_type": "markdown",
      "source": [
        "# 90번\n",
        "다음 코드에서 에러가 발생한 원인을 설명하라.\n",
        "```\n",
        ">> icecream = {'폴라포': 1200, '빵빠레': 1800, '월드콘': 1500, '메로나': 1000}\n",
        ">> icecream['누가바']\n",
        "Traceback (most recent call last):\n",
        "  File \"<pyshell#69>\", line 1, in <module>\n",
        "    icecream['누가바']\n",
        "KeyError: '누가바'\n",
        "```"
      ],
      "metadata": {
        "id": "Z6IkXKW0-cB7"
      }
    },
    {
      "cell_type": "code",
      "source": [
        "# '누가바'라는 키값이 없기 때문."
      ],
      "metadata": {
        "id": "3bWxSP7z-j_r"
      },
      "execution_count": 18,
      "outputs": []
    },
    {
      "cell_type": "markdown",
      "source": [
        "---"
      ],
      "metadata": {
        "id": "KAo6-VHS-rc-"
      }
    },
    {
      "cell_type": "markdown",
      "source": [
        "# 91번\n",
        "아래의 표에서, 아이스크림 이름을 키값으로, (가격, 재고) 리스트를 딕셔너리의 값으로 저장하라. 딕셔너리의 이름은 inventory로 한다.\n",
        "```\n",
        "이름     가격    재고\n",
        "메로나\t300\t20\n",
        "비비빅\t400\t3\n",
        "죠스바\t250\t100\n",
        "```"
      ],
      "metadata": {
        "id": "8BYkVNp1-r47"
      }
    },
    {
      "cell_type": "code",
      "source": [
        "lst = [[300, 20], [400, 3], [250, 100]]\n",
        "inventory = {\n",
        "    \"메로나\": lst[0],\n",
        "    \"비비빅\": lst[1],\n",
        "    \"죠스바\": lst[2]\n",
        "}\n",
        "inventory"
      ],
      "metadata": {
        "colab": {
          "base_uri": "https://localhost:8080/"
        },
        "id": "69cKHmar-_Y0",
        "outputId": "db31708c-c19f-4858-ccf1-900f8f36d23e"
      },
      "execution_count": 21,
      "outputs": [
        {
          "output_type": "execute_result",
          "data": {
            "text/plain": [
              "{'메로나': [300, 20], '비비빅': [400, 3], '죠스바': [250, 100]}"
            ]
          },
          "metadata": {},
          "execution_count": 21
        }
      ]
    },
    {
      "cell_type": "markdown",
      "source": [
        "# 93번\n",
        "inventory 딕셔너리에서 메로나의 재고를 화면에 출력하라."
      ],
      "metadata": {
        "id": "O245Tu73_dvn"
      }
    },
    {
      "cell_type": "code",
      "source": [
        "print(inventory[\"메로나\"][1])"
      ],
      "metadata": {
        "colab": {
          "base_uri": "https://localhost:8080/"
        },
        "id": "HABaSD_4_pIL",
        "outputId": "ff400c81-4195-42ac-b592-f1b6b9cc2da9"
      },
      "execution_count": 22,
      "outputs": [
        {
          "output_type": "stream",
          "name": "stdout",
          "text": [
            "20\n"
          ]
        }
      ]
    },
    {
      "cell_type": "markdown",
      "source": [
        "# 94번\n",
        "inventory 딕셔너리에 아래 데이터를 추가하라.\n",
        "```\n",
        "이름\t가격\t재고\n",
        "월드콘\t500\t7\n",
        "```"
      ],
      "metadata": {
        "id": "3sSxKGhu_zuT"
      }
    },
    {
      "cell_type": "code",
      "source": [
        "inventory[\"월드콘\"] = [500, 7]\n",
        "inventory"
      ],
      "metadata": {
        "colab": {
          "base_uri": "https://localhost:8080/"
        },
        "id": "5E_5GhLu_9bg",
        "outputId": "9adbd85e-e7bc-4917-bf34-e26fa7ae0e9c"
      },
      "execution_count": 23,
      "outputs": [
        {
          "output_type": "execute_result",
          "data": {
            "text/plain": [
              "{'메로나': [300, 20], '비비빅': [400, 3], '죠스바': [250, 100], '월드콘': [500, 7]}"
            ]
          },
          "metadata": {},
          "execution_count": 23
        }
      ]
    },
    {
      "cell_type": "markdown",
      "source": [
        "# 95번\n",
        "다음의 딕셔너리로부터 key 값으로만 구성된 리스트를 생성하라.\n",
        "```\n",
        "icecream = {'탱크보이': 1200, '폴라포': 1200, '빵빠레': 1800, '월드콘': 1500, '메로나': 1000}\n",
        "```"
      ],
      "metadata": {
        "id": "H2htnpVNADM6"
      }
    },
    {
      "cell_type": "code",
      "source": [
        "icecream = {'탱크보이': 1200, '폴라포': 1200, '빵빠레': 1800, '월드콘': 1500, '메로나': 1000}\n",
        "icecream_lst = list(icecream.keys())\n",
        "icecream_lst"
      ],
      "metadata": {
        "colab": {
          "base_uri": "https://localhost:8080/"
        },
        "id": "JUMcjpBeAJyP",
        "outputId": "60b26035-8bc6-4aa1-bcd6-adb5b7bf3ae4"
      },
      "execution_count": 26,
      "outputs": [
        {
          "output_type": "execute_result",
          "data": {
            "text/plain": [
              "['탱크보이', '폴라포', '빵빠레', '월드콘', '메로나']"
            ]
          },
          "metadata": {},
          "execution_count": 26
        }
      ]
    },
    {
      "cell_type": "markdown",
      "source": [
        "# 96번\n",
        "다음의 딕셔너리에서 values 값으로만 구성된 리스트를 생성하라."
      ],
      "metadata": {
        "id": "ZE0Izg8QAUGB"
      }
    },
    {
      "cell_type": "code",
      "source": [
        "icecream_lst = list(icecream.values())\n",
        "icecream_lst"
      ],
      "metadata": {
        "colab": {
          "base_uri": "https://localhost:8080/"
        },
        "id": "9V2vF6NdAfyf",
        "outputId": "aa89ed65-6378-4225-ea01-6e72c2c2b1fb"
      },
      "execution_count": 27,
      "outputs": [
        {
          "output_type": "execute_result",
          "data": {
            "text/plain": [
              "[1200, 1200, 1800, 1500, 1000]"
            ]
          },
          "metadata": {},
          "execution_count": 27
        }
      ]
    },
    {
      "cell_type": "markdown",
      "source": [
        "# 97번\n",
        "icecream 딕셔너리에서 아이스크림 판매 금액의 총합을 출력하라."
      ],
      "metadata": {
        "id": "c1HPKRIDAmnE"
      }
    },
    {
      "cell_type": "code",
      "source": [
        "sum(icecream.values())"
      ],
      "metadata": {
        "colab": {
          "base_uri": "https://localhost:8080/"
        },
        "id": "1unwUv90Arf5",
        "outputId": "bb2f7619-beef-4abe-d738-2a6b2ec6d4c8"
      },
      "execution_count": 28,
      "outputs": [
        {
          "output_type": "execute_result",
          "data": {
            "text/plain": [
              "6700"
            ]
          },
          "metadata": {},
          "execution_count": 28
        }
      ]
    },
    {
      "cell_type": "markdown",
      "source": [
        "# 98번\n",
        "아래의 new_product 딕셔너리를 다음 icecream 딕셔너리에 추가하라.\n",
        "```\n",
        "new_product = {'팥빙수':2700, '아맛나':1000}\n",
        "```"
      ],
      "metadata": {
        "id": "FvYwO90UAt4g"
      }
    },
    {
      "cell_type": "code",
      "source": [
        "new_product = {'팥빙수':2700, '아맛나':1000}\n",
        "icecream.update(new_product)\n",
        "icecream"
      ],
      "metadata": {
        "colab": {
          "base_uri": "https://localhost:8080/"
        },
        "id": "Nd_IKQVPA1Aj",
        "outputId": "5f97a0a3-8d4e-4349-e589-47201f8dfc02"
      },
      "execution_count": 29,
      "outputs": [
        {
          "output_type": "execute_result",
          "data": {
            "text/plain": [
              "{'탱크보이': 1200,\n",
              " '폴라포': 1200,\n",
              " '빵빠레': 1800,\n",
              " '월드콘': 1500,\n",
              " '메로나': 1000,\n",
              " '팥빙수': 2700,\n",
              " '아맛나': 1000}"
            ]
          },
          "metadata": {},
          "execution_count": 29
        }
      ]
    },
    {
      "cell_type": "markdown",
      "source": [
        "# 99번\n",
        "아래 두 개의 튜플을 하나의 딕셔너리로 변환하라. keys를 키로, vals를 값으로 result 이름의 딕셔너리로 저장한다.\n",
        "```\n",
        "keys = (\"apple\", \"pear\", \"peach\")\n",
        "vals = (300, 250, 400)\n",
        "```\n",
        "```\n",
        "실행 예시:\n",
        ">> print(result)\n",
        "{'apple': 300, 'pear': 250, 'peach': 400}\n",
        "```"
      ],
      "metadata": {
        "id": "luPUduE-A7Uc"
      }
    },
    {
      "cell_type": "code",
      "source": [
        "keys = (\"apple\", \"pear\", \"peach\")\n",
        "vals = (300, 250, 400)\n",
        "result = dict(zip(keys, vals))\n",
        "print(result)\n",
        "# 그냥 될까 싶어서 해봤는데 맞은거다. zip 쓰면 되는구나;;"
      ],
      "metadata": {
        "colab": {
          "base_uri": "https://localhost:8080/"
        },
        "id": "lkXwuER1BOC7",
        "outputId": "e0158f74-447c-4163-f00c-6fe18a9464ae"
      },
      "execution_count": 33,
      "outputs": [
        {
          "output_type": "stream",
          "name": "stdout",
          "text": [
            "{'apple': 300, 'pear': 250, 'peach': 400}\n"
          ]
        }
      ]
    },
    {
      "cell_type": "markdown",
      "source": [
        "# 100번\n",
        "date와 close_price 두 개의 리스트를 close_table 이름의 딕셔너리로 생성하라.\n",
        "```\n",
        "date = ['09/05', '09/06', '09/07', '09/08', '09/09']\n",
        "close_price = [10500, 10300, 10100, 10800, 11000]\n",
        "```\n",
        "```\n",
        "실행 예시:\n",
        ">> print(close_table)\n",
        "{'09/05': 10500, '09/06': 10300, '09/07': 10100, '09/08': 10800, '09/09': 11000}\n",
        "```"
      ],
      "metadata": {
        "id": "bVmi5UHAByWm"
      }
    },
    {
      "cell_type": "code",
      "source": [
        "date = ['09/05', '09/06', '09/07', '09/08', '09/09']\n",
        "close_price = [10500, 10300, 10100, 10800, 11000]\n",
        "close_table = dict(zip(date, close_price))\n",
        "close_table"
      ],
      "metadata": {
        "colab": {
          "base_uri": "https://localhost:8080/"
        },
        "id": "i6RrsQTfCMS9",
        "outputId": "504972f0-816e-4246-994d-bac2fecceef6"
      },
      "execution_count": 34,
      "outputs": [
        {
          "output_type": "execute_result",
          "data": {
            "text/plain": [
              "{'09/05': 10500,\n",
              " '09/06': 10300,\n",
              " '09/07': 10100,\n",
              " '09/08': 10800,\n",
              " '09/09': 11000}"
            ]
          },
          "metadata": {},
          "execution_count": 34
        }
      ]
    },
    {
      "cell_type": "markdown",
      "source": [
        "---"
      ],
      "metadata": {
        "id": "ljAremL2C01x"
      }
    },
    {
      "cell_type": "code",
      "source": [
        "# 만약에 짝이 안맞는다면?\n",
        "keys1 = (\"apple\", \"pear\")\n",
        "vals1 = (300, 250, 400)\n",
        "test_dic1 = dict(zip(keys1, vals1))\n",
        "test_dic1"
      ],
      "metadata": {
        "colab": {
          "base_uri": "https://localhost:8080/"
        },
        "id": "b-QeRCn9CVa4",
        "outputId": "8cb8fb18-5db3-499e-ecfc-79198603ee46"
      },
      "execution_count": 35,
      "outputs": [
        {
          "output_type": "execute_result",
          "data": {
            "text/plain": [
              "{'apple': 300, 'pear': 250}"
            ]
          },
          "metadata": {},
          "execution_count": 35
        }
      ]
    },
    {
      "cell_type": "code",
      "source": [
        "# 밸류값이 없다면?\n",
        "keys2 = (\"apple\", \"pear\", \"peach\")\n",
        "vals2 = (300, 400)\n",
        "test_dic2 = dict(zip(keys2, vals2))\n",
        "test_dic2"
      ],
      "metadata": {
        "colab": {
          "base_uri": "https://localhost:8080/"
        },
        "id": "Sij8GVsdCk53",
        "outputId": "01be17bd-eea6-47ec-9c8e-4e2d12fcd6d5"
      },
      "execution_count": 36,
      "outputs": [
        {
          "output_type": "execute_result",
          "data": {
            "text/plain": [
              "{'apple': 300, 'pear': 400}"
            ]
          },
          "metadata": {},
          "execution_count": 36
        }
      ]
    }
  ]
}