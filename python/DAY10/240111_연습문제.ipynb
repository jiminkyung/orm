{
  "nbformat": 4,
  "nbformat_minor": 0,
  "metadata": {
    "colab": {
      "provenance": []
    },
    "kernelspec": {
      "name": "python3",
      "display_name": "Python 3"
    },
    "language_info": {
      "name": "python"
    }
  },
  "cells": [
    {
      "cell_type": "markdown",
      "source": [
        "# 1번\n",
        "```\n",
        "다음 숫자 중 5보다 크고, 20보다 작으면서 짝수인 수를 모두 더하는 코드를 완성 해주세요. 오늘 배운 filter 사용은 필수 입니다.\n",
        "number = [1, 5, 7, 4, 3, 22, 23, 15, 26, 17, 3]\n",
        "def solution(data)\n",
        "    return\n",
        "\n",
        "solution(number)\n",
        "```"
      ],
      "metadata": {
        "id": "j4Ppj3pKaG9N"
      }
    },
    {
      "cell_type": "code",
      "source": [
        "number = [1, 5, 7, 4, 3, 22, 23, 15, 26, 17, 3]\n",
        "def solution(data):\n",
        "    return sum(filter(lambda x: x > 5 and x < 20 and x % 2 == 0, data))\n",
        "    # filter함수로 5보다 크고, 20보다 작고, 짝수인 데이터만 걸러주고 sum으로 합해준다.\n",
        "\n",
        "solution(number)"
      ],
      "metadata": {
        "colab": {
          "base_uri": "https://localhost:8080/"
        },
        "id": "oX9pLMhHaXjK",
        "outputId": "7f3def97-dc44-4b70-b1c7-e9836a66c381"
      },
      "execution_count": null,
      "outputs": [
        {
          "output_type": "execute_result",
          "data": {
            "text/plain": [
              "0"
            ]
          },
          "metadata": {},
          "execution_count": 18
        }
      ]
    },
    {
      "cell_type": "markdown",
      "source": [
        "# 2번\n",
        "```\n",
        "다음에 정보가 담겨져 있는 것을 Class로 만들어주세요. 메서드로는 '할인' 메서드를 만들어주세요.\n",
        "예를 들어 아래 책을 10% 할인한다고 하면 4500원이 됩니다. 책.할인(10) == 4500의 형태로 만들어주시면 됩니다.\n",
        "{\n",
        "    '책제목': 'hello world python',\n",
        "    '책 내용 요약': 'hello world...',\n",
        "    '저자': '이호준',\n",
        "    '발행일': '2024-01-11',\n",
        "    '가격': 5000\n",
        "}\n",
        "```"
      ],
      "metadata": {
        "id": "PmHsMoNUaO9_"
      }
    },
    {
      "cell_type": "code",
      "source": [
        "class Book:\n",
        "    def __init__(\n",
        "            self,\n",
        "            title =  '',\n",
        "            content = '',\n",
        "            author = '',\n",
        "            date = '',\n",
        "            price = 0\n",
        "            ):\n",
        "        self.title = title\n",
        "        self.content = content\n",
        "        self.author = author\n",
        "        self.date = date\n",
        "        self.price = price\n",
        "\n",
        "    def sale(self, percentage):\n",
        "        self.price -=  int(self.price * percentage * 0.01)\n",
        "        return self.price"
      ],
      "metadata": {
        "id": "myYLn_xzaTmT"
      },
      "execution_count": null,
      "outputs": []
    },
    {
      "cell_type": "code",
      "source": [
        "book1 = Book('파이알고', 'python wow!', '지민경', '2024-01-11', 10000)\n",
        "print(book1.title)\n",
        "print(book1.sale(40))\n",
        "print(book1.price)"
      ],
      "metadata": {
        "colab": {
          "base_uri": "https://localhost:8080/"
        },
        "id": "bhloWS7DdmLp",
        "outputId": "23bd5a81-e8ad-4f06-8703-d5078caa97e7"
      },
      "execution_count": null,
      "outputs": [
        {
          "output_type": "stream",
          "name": "stdout",
          "text": [
            "파이알고\n",
            "6000\n",
            "6000\n"
          ]
        }
      ]
    },
    {
      "cell_type": "markdown",
      "source": [
        "# 3-1번\n",
        "https://100.pyalgo.co.kr/?page=10"
      ],
      "metadata": {
        "id": "Ky9YUb1ygrQI"
      }
    },
    {
      "cell_type": "markdown",
      "source": [
        "```\n",
        "라이캣은 연말 출시할 게임의 게임 난이도를 조절하는 업무를 담당하게 되었습니다.\n",
        "우선 능력치가 비정상적으로 높은 캐릭터들의 리스트를 뽑고자 합니다.\n",
        "캐릭터 이름, 공격력, 방어력, 체력, 마력이 리스트로 ['Licat', 98, 30, 21, 60]와 같이 주어졌을 때\n",
        "모든 능력치의 합이 350 이상이 되는 캐릭터의 이름을 출력하는 solution함수를 완성해주세요.\n",
        "```\n",
        "```\n",
        "3 ≤ 캐릭터의 수 ≤ 10\n",
        "10 ≤ 능력치 ≤ 100\n",
        "350이 넘는 캐릭터의 이름은 알파벳 순으로 출력합니다.\n",
        "```"
      ],
      "metadata": {
        "id": "K1GZ3m9t33Oo"
      }
    },
    {
      "cell_type": "code",
      "source": [
        "def solution(data):\n",
        "    result = []\n",
        "    if len(data) < 3 or len(data) > 10:\n",
        "        print(\"캐릭터의 수가 맞지 않습니다.\")\n",
        "    else:\n",
        "        for char in data: # data[0~]\n",
        "            for op in char[1:]: # date[1:][0~]\n",
        "                if op > 100 or op < 10:\n",
        "                    print(\"능력치가 맞지 않습니다.\")\n",
        "            if sum(char[1:]) >= 350:   # 능력치 합이 350이 넘는다면?\n",
        "                result.append(char[0]) # 앞서 선언해두었던 result에 해당 값을 추가해준다.\n",
        "    return sorted(result) # 이름을 기준으로 출력하기 때문에 추가조건이 필요없음."
      ],
      "metadata": {
        "id": "JRFs7J-c7O0P"
      },
      "execution_count": null,
      "outputs": []
    },
    {
      "cell_type": "code",
      "source": [
        "lst = [['Licat', 98, 92, 85, 97], ['Mura', 95, 32, 51, 30], ['Binky', 98, 98, 51, 32]]\n",
        "solution(lst)"
      ],
      "metadata": {
        "colab": {
          "base_uri": "https://localhost:8080/"
        },
        "id": "_RJvoeU06Gjo",
        "outputId": "c9baca08-6f5d-435f-f10e-eff3bccaa6f7"
      },
      "execution_count": null,
      "outputs": [
        {
          "output_type": "execute_result",
          "data": {
            "text/plain": [
              "['Licat']"
            ]
          },
          "metadata": {},
          "execution_count": 5
        }
      ]
    },
    {
      "cell_type": "markdown",
      "source": [
        "# 3-2번\n",
        "https://100.pyalgo.co.kr/?page=18"
      ],
      "metadata": {
        "id": "ko0Jjd5Q3wt2"
      }
    },
    {
      "cell_type": "markdown",
      "source": [
        "```\n",
        "일주일 동안의 최고 기온이 기록된 데이터가 주어집니다.\n",
        "이 데이터에서 가장 높은 온도를 기록한 상위 3일을 찾아 'YY-MM-DD: 온도' 형식으로 반환하는 코드를 작성해주세요.\n",
        "데이터는 'YYYY-MM-DD' 형식의 날짜와 해당 날짜의 최고 온도(섭씨)로 구성됩니다.\n",
        "```\n",
        "```\n",
        "각 날짜의 최고 온도는 정수로 주어집니다.\n",
        "기온 데이터는 최소 7개(일주일)에서 최대 30개(한달)까지 주어질 수 있습니다.\n",
        "날짜는 중복되지 않습니다.\n",
        "중복된 온도일 경우 날짜가 빠른 것이 앞에 정렬되어야 합니다.\n",
        "```"
      ],
      "metadata": {
        "id": "XAky2fSd3yY8"
      }
    },
    {
      "cell_type": "code",
      "source": [
        "def solution_2(data):\n",
        "\n",
        "    if 7 <= len(data) <= 30: # 데이터의 갯수가 7~30개라면\n",
        "        for x in data.items(): # [('날짜1':온도1),('날짜2':온도2)...] 각 튜플이 x에 해당\n",
        "            if type(x[1]) is not int: # 만약 온도의 type이 정수가 아니라면\n",
        "                print(\"온도가 정수가 아닙니다.\", type(x[1]))\n",
        "            else:\n",
        "                # 온도가 높은 순서대로, 중복일 경우엔 날짜순대로 내림차순 정렬한다.\n",
        "                data_sorted = sorted(data.items(), key = lambda x: (x[1], x[0]), reverse=True)\n",
        "                # '날짜1: 온도1'의 형태로 변경, 2번째 인덱스까지만 뽑아준다. => ['2024-01-06: 21', ...]\n",
        "                data_sorted = [f'{x[0]}: {x[1]}' for x in data_sorted][:3]\n",
        "                # 2024 => 24로 바꿔야하므로 각 원소의 2번째 문자열부터.\n",
        "                result = [x[2:] for x in data_sorted]\n",
        "\n",
        "    return result"
      ],
      "metadata": {
        "id": "WOOIcHTUE73X"
      },
      "execution_count": null,
      "outputs": []
    },
    {
      "cell_type": "code",
      "source": [
        "dic = {'2024-01-01': 15, '2024-01-02': 17, '2024-01-03': 16, '2024-01-04': 20, '2024-01-05': 19, '2024-01-06': 21, '2024-01-07': 18}"
      ],
      "metadata": {
        "id": "-GIzyecQFYpF"
      },
      "execution_count": null,
      "outputs": []
    },
    {
      "cell_type": "code",
      "source": [
        "solution_2(dic)"
      ],
      "metadata": {
        "colab": {
          "base_uri": "https://localhost:8080/"
        },
        "id": "jcJmDn1NFcXm",
        "outputId": "7d678db9-3d8e-423f-cb7e-bfca69886f30"
      },
      "execution_count": null,
      "outputs": [
        {
          "output_type": "execute_result",
          "data": {
            "text/plain": [
              "['24-01-06: 21', '24-01-04: 20', '24-01-05: 19']"
            ]
          },
          "metadata": {},
          "execution_count": 3
        }
      ]
    }
  ]
}