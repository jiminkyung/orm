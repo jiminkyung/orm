{
  "nbformat": 4,
  "nbformat_minor": 0,
  "metadata": {
    "colab": {
      "provenance": [],
      "collapsed_sections": [
        "UZ3Hhm-Q3Lox"
      ]
    },
    "kernelspec": {
      "name": "python3",
      "display_name": "Python 3"
    },
    "language_info": {
      "name": "python"
    }
  },
  "cells": [
    {
      "cell_type": "markdown",
      "source": [
        "# 문자열"
      ],
      "metadata": {
        "id": "r1zHQfhXyUce"
      }
    },
    {
      "cell_type": "code",
      "execution_count": null,
      "metadata": {
        "id": "4iWMknAyoamr"
      },
      "outputs": [],
      "source": [
        "# 1.1 문자열 기초\n",
        "\n",
        "x = 'hello'\n",
        "y = \"python\""
      ]
    },
    {
      "cell_type": "code",
      "source": [
        "print(x, y)\n",
        "print(type(x), type(y))"
      ],
      "metadata": {
        "colab": {
          "base_uri": "https://localhost:8080/"
        },
        "id": "fvhUxrRUydl7",
        "outputId": "de1da1ba-356d-4566-b677-7807adf60540"
      },
      "execution_count": null,
      "outputs": [
        {
          "output_type": "stream",
          "name": "stdout",
          "text": [
            "hello python\n",
            "<class 'str'> <class 'str'>\n"
          ]
        }
      ]
    },
    {
      "cell_type": "code",
      "source": [
        "i = '''안녕하세요.\n",
        "저는 위니브의 대표 이호준입니다.\n",
        "파이썬 참 좋아요.\n",
        "여러분 정말 잘 선택하셨어요.\n",
        "'''\n",
        "j = \"\"\"안녕하세요.\n",
        "저는 위니브의 대표 이호준입니다.\n",
        "파이썬 참 좋아요.\n",
        "여러분 정말 잘 선택하셨어요.\n",
        "\"\"\"\n",
        "i"
      ],
      "metadata": {
        "colab": {
          "base_uri": "https://localhost:8080/",
          "height": 53
        },
        "id": "GtQ2ZMQbyhnN",
        "outputId": "28210714-0346-42ab-ac9e-f432fefeca5a"
      },
      "execution_count": null,
      "outputs": [
        {
          "output_type": "execute_result",
          "data": {
            "text/plain": [
              "'안녕하세요.\\n저는 위니브의 대표 이호준입니다.\\n파이썬 참 좋아요.\\n여러분 정말 잘 선택하셨어요.\\n'"
            ],
            "application/vnd.google.colaboratory.intrinsic+json": {
              "type": "string"
            }
          },
          "metadata": {},
          "execution_count": 6
        }
      ]
    },
    {
      "cell_type": "code",
      "source": [
        "print(i)"
      ],
      "metadata": {
        "colab": {
          "base_uri": "https://localhost:8080/"
        },
        "id": "4ceU8RyEyy9t",
        "outputId": "b8b6ef7b-8a96-4859-a8e6-1259eea5a063"
      },
      "execution_count": null,
      "outputs": [
        {
          "output_type": "stream",
          "name": "stdout",
          "text": [
            "안녕하세요.\n",
            "저는 위니브의 대표 이호준입니다.\n",
            "파이썬 참 좋아요.\n",
            "여러분 정말 잘 선택하셨어요.\n",
            "\n"
          ]
        }
      ]
    },
    {
      "cell_type": "code",
      "source": [
        "# 1.2 문자열 덧셈, 곱셈\n",
        "\n",
        "# 문자열의 덧셈\n",
        "x = 'hello'\n",
        "y = 'world'\n",
        "print(x + y)  # 출력: helloworld\n",
        "\n",
        "x = '10'\n",
        "y = '20'\n",
        "print(x + y)\n",
        "\n",
        "# 문자열의 곱셈\n",
        "print(x * 3)"
      ],
      "metadata": {
        "colab": {
          "base_uri": "https://localhost:8080/"
        },
        "id": "chymxXjJy35Q",
        "outputId": "f443f5de-13d5-43b2-f95f-3e60681266c9"
      },
      "execution_count": null,
      "outputs": [
        {
          "output_type": "stream",
          "name": "stdout",
          "text": [
            "helloworld\n",
            "1020\n",
            "101010\n"
          ]
        }
      ]
    },
    {
      "cell_type": "markdown",
      "source": [
        "## 문자열 인덱싱 *(중요!)*\n",
        "문자열의 순서를 인덱스라고 합니다. 이렇게 인덱스로 해당 위치에 값에 접근할 수 있는 방법을 인덱싱이라고 합니다. 인덱스는 0부터 시작하며, 문자열의 마지막 문자의 인덱스는 -1입니다."
      ],
      "metadata": {
        "id": "4SYHkkeT2O1A"
      }
    },
    {
      "cell_type": "code",
      "source": [
        "# 1.3 문자열 인덱싱\n",
        "  #  01 23456\n",
        "s = '위니브 월드!'\n",
        "print(s[0])  # 출력: '위'\n",
        "print(s[6])  # 출력: '!'\n",
        "print(s[-1])  # 출력: '!' 마지막에 가까운 문자열을 출력할때엔 -사용하는게 편함.\n",
        "# 범위를 벗어나면 에러 발생"
      ],
      "metadata": {
        "colab": {
          "base_uri": "https://localhost:8080/"
        },
        "id": "rwKsF0Oh2l9b",
        "outputId": "704829d9-673f-4e61-f489-656d6dd8b31f"
      },
      "execution_count": null,
      "outputs": [
        {
          "output_type": "stream",
          "name": "stdout",
          "text": [
            "위\n",
            "!\n",
            "!\n"
          ]
        }
      ]
    },
    {
      "cell_type": "markdown",
      "source": [
        "### 슬라이싱\n",
        "슬라이싱은 `[start:stop:step]` 형태로 사용하며, `step`은 기본적으로 1이며 콜론과 함께 생략될 수 있습니다. 여기서 `stop` 인덱스는 포함하지 않습니다."
      ],
      "metadata": {
        "id": "UZ3Hhm-Q3Lox"
      }
    },
    {
      "cell_type": "code",
      "source": [
        "# 1.4 문자열 슬라이싱\n",
        "\n",
        "s = '위니브 월드 외곽에 살고있는 CAT'\n",
        "\n",
        "print(s[0:6])\n",
        "# 끝부분 인덱스를 잘 모를때는 생략 가능\n",
        "print(s[0:])"
      ],
      "metadata": {
        "colab": {
          "base_uri": "https://localhost:8080/"
        },
        "id": "QynTv9KD4a62",
        "outputId": "06f1d311-57bd-43ca-a045-f5efdcad916c"
      },
      "execution_count": null,
      "outputs": [
        {
          "output_type": "stream",
          "name": "stdout",
          "text": [
            "위니브 월드\n",
            "위니브 월드 외곽에 살고있는 CAT\n"
          ]
        }
      ]
    },
    {
      "cell_type": "code",
      "source": [
        "print(s[::2])"
      ],
      "metadata": {
        "colab": {
          "base_uri": "https://localhost:8080/"
        },
        "id": "YzZkxjyu4sts",
        "outputId": "adb2d10e-d716-4810-8e35-361a901692d0"
      },
      "execution_count": null,
      "outputs": [
        {
          "output_type": "stream",
          "name": "stdout",
          "text": [
            "위브월 곽 고는CT\n"
          ]
        }
      ]
    },
    {
      "cell_type": "code",
      "source": [
        "s = 'weniv CEO licat'\n",
        "# 시작점을 설정하고 끝까지 출력\n",
        "print(s[6:]) # 출력 : CEO licat\n",
        "# 전체 출력\n",
        "print(s[:]) # 출력 : weniv CEO licat\n",
        "# 거꾸로 출력\n",
        "print(s[::-1]) # 출력 : tacil OEC vinew\n",
        "# 2칸씩 출력\n",
        "print(s[::2]) # 출력 : wnvCOlct"
      ],
      "metadata": {
        "colab": {
          "base_uri": "https://localhost:8080/"
        },
        "id": "CmWpIn5S44K_",
        "outputId": "82e941fc-ceb6-4007-cdf6-087e4cc6e4b5"
      },
      "execution_count": null,
      "outputs": [
        {
          "output_type": "stream",
          "name": "stdout",
          "text": [
            "CEO licat\n",
            "weniv CEO licat\n",
            "tacil OEC vinew\n",
            "wnvCOlct\n"
          ]
        }
      ]
    },
    {
      "cell_type": "code",
      "source": [
        "print(s[::-2])\n",
        "# print(s[])  # 에러발생(:는 꼭 넣어줘야함)\n",
        "# print(s(:-1))  # 이것도 에러ㅎㅎ"
      ],
      "metadata": {
        "colab": {
          "base_uri": "https://localhost:8080/"
        },
        "id": "FItD5SLR5Hkt",
        "outputId": "7f5ce259-92ce-450b-ab27-7971c28b0adf"
      },
      "execution_count": null,
      "outputs": [
        {
          "output_type": "stream",
          "name": "stdout",
          "text": [
            "tclOCvnw\n"
          ]
        }
      ]
    },
    {
      "cell_type": "markdown",
      "source": [
        "**슬라이싱은 범위가 넘어가더라도 에러가 발생하지 않는다.**"
      ],
      "metadata": {
        "id": "x_k3rbyW5N2m"
      }
    },
    {
      "cell_type": "code",
      "source": [
        "s = 'weniv CEO licat'\n",
        "s[10:20]  # 출력: licat"
      ],
      "metadata": {
        "colab": {
          "base_uri": "https://localhost:8080/",
          "height": 36
        },
        "id": "WqtV3UTu6Bms",
        "outputId": "2805700e-1d30-4b25-c653-ce5d6e6cf192"
      },
      "execution_count": null,
      "outputs": [
        {
          "output_type": "execute_result",
          "data": {
            "text/plain": [
              "'licat'"
            ],
            "application/vnd.google.colaboratory.intrinsic+json": {
              "type": "string"
            }
          },
          "metadata": {},
          "execution_count": 27
        }
      ]
    },
    {
      "cell_type": "code",
      "source": [
        "# 1.4 슬라이스 실습\n",
        "s = 'weniv_licat.png'\n",
        "# 출력 weniv_licat 만 나오게\n",
        "print(s[:-4])\n",
        "# 확장자 .png 만 나오게\n",
        "print(s[-3:])"
      ],
      "metadata": {
        "colab": {
          "base_uri": "https://localhost:8080/"
        },
        "id": "D-NOI7WB6KqP",
        "outputId": "a9d14f92-94ae-4267-8d47-5539dbf38bb3"
      },
      "execution_count": null,
      "outputs": [
        {
          "output_type": "stream",
          "name": "stdout",
          "text": [
            "weniv_licat\n",
            "png\n"
          ]
        }
      ]
    },
    {
      "cell_type": "code",
      "source": [
        "s[-1:-4]  # 이건 아무것도 안나오지만\n",
        "s[-1:-4:-1]  # 이렇게 하면 거꾸로는 나옴"
      ],
      "metadata": {
        "colab": {
          "base_uri": "https://localhost:8080/",
          "height": 36
        },
        "id": "A7AU92rm7Obk",
        "outputId": "0dd55392-00eb-45d3-8905-68fa0d644072"
      },
      "execution_count": null,
      "outputs": [
        {
          "output_type": "execute_result",
          "data": {
            "text/plain": [
              "'gnp'"
            ],
            "application/vnd.google.colaboratory.intrinsic+json": {
              "type": "string"
            }
          },
          "metadata": {},
          "execution_count": 36
        }
      ]
    },
    {
      "cell_type": "markdown",
      "source": [
        "메서드보다 슬라이싱을 잘 활용하는것을 추천.  \n",
        "복사도 슬라이싱으로 할 수 있음~!"
      ],
      "metadata": {
        "id": "k_E519527pZE"
      }
    },
    {
      "cell_type": "code",
      "source": [
        "# 1.5 슬라이스 복사 - ID는 달라진다\n",
        "s = [1, 2, 3]\n",
        "ss = s[:]\n",
        "\n",
        "print(id(s), id(ss))"
      ],
      "metadata": {
        "colab": {
          "base_uri": "https://localhost:8080/"
        },
        "id": "3pKABWrt80Nb",
        "outputId": "b0bce050-e360-4f62-e561-beddccaabe35"
      },
      "execution_count": null,
      "outputs": [
        {
          "output_type": "stream",
          "name": "stdout",
          "text": [
            "133191755022080 133191600679360\n"
          ]
        }
      ]
    },
    {
      "cell_type": "markdown",
      "source": [
        "### 문자열 method"
      ],
      "metadata": {
        "id": "MC7lMY8hAcUG"
      }
    },
    {
      "cell_type": "code",
      "source": [
        "# 1.6 메서드 1: 대문자 소문자\n",
        "\n",
        "s = 'weniv CEO licat'\n",
        "print(s.lower()) #전체를 소문자로 바꿔주는 method\n",
        "print(s.upper()) #전체를 대문자로 바꿔주는 method"
      ],
      "metadata": {
        "colab": {
          "base_uri": "https://localhost:8080/"
        },
        "id": "nqgs52AY9CXT",
        "outputId": "6e38207c-7a49-4733-a5bb-c31ed3239126"
      },
      "execution_count": null,
      "outputs": [
        {
          "output_type": "stream",
          "name": "stdout",
          "text": [
            "weniv ceo licat\n",
            "WENIV CEO LICAT\n"
          ]
        }
      ]
    },
    {
      "cell_type": "code",
      "source": [
        "# 1.7 메서드 2: find index\n",
        "\n",
        "s = 'weniv CEO licat'\n",
        "s.find('CEO')  # 문자열을 찾아주는 method"
      ],
      "metadata": {
        "colab": {
          "base_uri": "https://localhost:8080/"
        },
        "id": "wHgTd45N9HCj",
        "outputId": "f6280f58-912e-48de-acb0-b9d4fe234eb4"
      },
      "execution_count": null,
      "outputs": [
        {
          "output_type": "execute_result",
          "data": {
            "text/plain": [
              "6"
            ]
          },
          "metadata": {},
          "execution_count": 43
        }
      ]
    },
    {
      "cell_type": "code",
      "source": [
        "s.index('CEO')"
      ],
      "metadata": {
        "colab": {
          "base_uri": "https://localhost:8080/"
        },
        "id": "isSiW78S9PbN",
        "outputId": "dc5f3e46-4ad9-4052-96f3-d55ce53ea9fc"
      },
      "execution_count": null,
      "outputs": [
        {
          "output_type": "execute_result",
          "data": {
            "text/plain": [
              "6"
            ]
          },
          "metadata": {},
          "execution_count": 44
        }
      ]
    },
    {
      "cell_type": "code",
      "source": [
        "s.find('CTO')"
      ],
      "metadata": {
        "colab": {
          "base_uri": "https://localhost:8080/"
        },
        "id": "V2MXl4u29Tiu",
        "outputId": "65c002ab-f91b-46c3-d145-1f6df2ccb1f3"
      },
      "execution_count": null,
      "outputs": [
        {
          "output_type": "execute_result",
          "data": {
            "text/plain": [
              "-1"
            ]
          },
          "metadata": {},
          "execution_count": 45
        }
      ]
    },
    {
      "cell_type": "code",
      "source": [
        "s.index('CTO')  # 이건 에러남\n",
        "# 찾을 수 없으면 find는 -1, index는 에러가 발생한다."
      ],
      "metadata": {
        "colab": {
          "base_uri": "https://localhost:8080/",
          "height": 230
        },
        "id": "kfx4wuXM9WZh",
        "outputId": "1a87ff31-6136-470f-f65c-4bf8d8b72fe6"
      },
      "execution_count": null,
      "outputs": [
        {
          "output_type": "error",
          "ename": "ValueError",
          "evalue": "ignored",
          "traceback": [
            "\u001b[0;31m---------------------------------------------------------------------------\u001b[0m",
            "\u001b[0;31mValueError\u001b[0m                                Traceback (most recent call last)",
            "\u001b[0;32m<ipython-input-49-89347d4dfaa1>\u001b[0m in \u001b[0;36m<cell line: 1>\u001b[0;34m()\u001b[0m\n\u001b[0;32m----> 1\u001b[0;31m \u001b[0ms\u001b[0m\u001b[0;34m.\u001b[0m\u001b[0mindex\u001b[0m\u001b[0;34m(\u001b[0m\u001b[0;34m'CTO'\u001b[0m\u001b[0;34m)\u001b[0m  \u001b[0;31m# 이건 에러남\u001b[0m\u001b[0;34m\u001b[0m\u001b[0;34m\u001b[0m\u001b[0m\n\u001b[0m\u001b[1;32m      2\u001b[0m \u001b[0;31m# 찾을 수 없으면 find는 -1, index는 에러가 발생한다.\u001b[0m\u001b[0;34m\u001b[0m\u001b[0;34m\u001b[0m\u001b[0m\n",
            "\u001b[0;31mValueError\u001b[0m: substring not found"
          ]
        }
      ]
    },
    {
      "cell_type": "code",
      "source": [
        "# 1.8 메서드 3: count\n",
        "\n",
        "s = 'weniv CEO licat'\n",
        "print(s.count('C'))  # 문자열이나 숫자를 셀 때 사용\n",
        "\n",
        "# 공백도 가능\n",
        "print(s.count(' '))\n",
        "# 대/소문자 구분\n",
        "# 일치만하면 다 찾아줌"
      ],
      "metadata": {
        "colab": {
          "base_uri": "https://localhost:8080/"
        },
        "id": "B7SGbgCo9ZqQ",
        "outputId": "d934e13d-4fef-444e-a8e7-01fcfd4a874c"
      },
      "execution_count": null,
      "outputs": [
        {
          "output_type": "stream",
          "name": "stdout",
          "text": [
            "1\n",
            "2\n"
          ]
        }
      ]
    },
    {
      "cell_type": "code",
      "source": [
        "# 1.9 메서드 4: strip / excel - trim()\n",
        "\n",
        "# strip 함수를 너무 신뢰하지 말아라!(공백이 조정 안되는 경우도 있음)\n",
        "s = '    weniv CEO licat     '  # 문자열 안의 공백은 포함 X\n",
        "s.strip()  # 양쪽 공백을 제거하는 method"
      ],
      "metadata": {
        "colab": {
          "base_uri": "https://localhost:8080/",
          "height": 36
        },
        "id": "w3zFPHNH90_2",
        "outputId": "bf18d1fb-b593-4b2e-aac1-a63fcf2c882a"
      },
      "execution_count": null,
      "outputs": [
        {
          "output_type": "execute_result",
          "data": {
            "text/plain": [
              "'weniv CEO licat'"
            ],
            "application/vnd.google.colaboratory.intrinsic+json": {
              "type": "string"
            }
          },
          "metadata": {},
          "execution_count": 53
        }
      ]
    },
    {
      "cell_type": "code",
      "source": [
        "'    ,!!  hello world   '.strip(' ,!')\n",
        "#양쪽의 공백과 ',!'을 제거해주는 method"
      ],
      "metadata": {
        "colab": {
          "base_uri": "https://localhost:8080/",
          "height": 36
        },
        "id": "IRf0C75a-UNC",
        "outputId": "fc40b441-f76e-4c1d-cdd9-0c79a3cbe0aa"
      },
      "execution_count": null,
      "outputs": [
        {
          "output_type": "execute_result",
          "data": {
            "text/plain": [
              "'hello world'"
            ],
            "application/vnd.google.colaboratory.intrinsic+json": {
              "type": "string"
            }
          },
          "metadata": {},
          "execution_count": 54
        }
      ]
    },
    {
      "cell_type": "code",
      "source": [
        "# 1.10 메서드 5: replace\n",
        "\n",
        "s = 'weniv CEO licat'\n",
        "s.replace('CEO', 'CTO')\n",
        "# 원하는 문자열을 다른 문자열로 대체할 때 사용하는 method\n",
        "# 대/소문자 구분"
      ],
      "metadata": {
        "colab": {
          "base_uri": "https://localhost:8080/",
          "height": 36
        },
        "id": "5jFWAPze-joH",
        "outputId": "9c2bf1c0-5c94-417b-9881-f204146dabe6"
      },
      "execution_count": null,
      "outputs": [
        {
          "output_type": "execute_result",
          "data": {
            "text/plain": [
              "'weniv CTO licat'"
            ],
            "application/vnd.google.colaboratory.intrinsic+json": {
              "type": "string"
            }
          },
          "metadata": {},
          "execution_count": 56
        }
      ]
    },
    {
      "cell_type": "code",
      "source": [
        "s = 'weniv CEO licat'\n",
        "s.replace('i', 'I')\n",
        "# 문자열 내에서 모든 i를 I로 대체할 때 사용하는 method"
      ],
      "metadata": {
        "colab": {
          "base_uri": "https://localhost:8080/",
          "height": 36
        },
        "id": "lUWJyciH_Vhg",
        "outputId": "b1c167ad-72a3-45c2-d96e-281125acc325"
      },
      "execution_count": null,
      "outputs": [
        {
          "output_type": "execute_result",
          "data": {
            "text/plain": [
              "'wenIv CEO lIcat'"
            ],
            "application/vnd.google.colaboratory.intrinsic+json": {
              "type": "string"
            }
          },
          "metadata": {},
          "execution_count": 58
        }
      ]
    },
    {
      "cell_type": "markdown",
      "source": [
        "수정된 문자열이 원본에 저장되진 않기 때문에, 새로운 변수에 따로 지정해줘야 한다."
      ],
      "metadata": {
        "id": "mRuCUZMn_het"
      }
    },
    {
      "cell_type": "code",
      "source": [
        "s = 'weniv CEO licat'\n",
        "ss = s.replace('i', 'I')\n",
        "ss, s # 출력: ('weniv CEO licat', 'wenIv CEO lIcat')"
      ],
      "metadata": {
        "colab": {
          "base_uri": "https://localhost:8080/"
        },
        "id": "fEkt7fDQ_vB8",
        "outputId": "912a903f-5957-417f-cbfc-843af104e606"
      },
      "execution_count": null,
      "outputs": [
        {
          "output_type": "execute_result",
          "data": {
            "text/plain": [
              "('wenIv CEO lIcat', 'weniv CEO licat')"
            ]
          },
          "metadata": {},
          "execution_count": 59
        }
      ]
    },
    {
      "cell_type": "markdown",
      "source": [
        "`split()` 부분도 중요함!"
      ],
      "metadata": {
        "id": "0ziQuJWwA3Ho"
      }
    },
    {
      "cell_type": "code",
      "source": [
        "# 1.11 메서드 split() / join()\n",
        "\n",
        "# split은 리스트 형태로 결과가 나오게 된다.\n",
        "s = 'weniv CEO licat'\n",
        "s.split()  # 공백을 기준으로 문자열 나누기"
      ],
      "metadata": {
        "colab": {
          "base_uri": "https://localhost:8080/"
        },
        "id": "7s_wkMU8DxmT",
        "outputId": "b3255692-28b9-4030-e990-9b3c3c61e7cc"
      },
      "execution_count": null,
      "outputs": [
        {
          "output_type": "execute_result",
          "data": {
            "text/plain": [
              "['weniv', 'CEO', 'licat']"
            ]
          },
          "metadata": {},
          "execution_count": 62
        }
      ]
    },
    {
      "cell_type": "code",
      "source": [
        "s = 'weniv-CEO-licat'\n",
        "s.split('-')"
      ],
      "metadata": {
        "colab": {
          "base_uri": "https://localhost:8080/"
        },
        "id": "qukmodrDD_Pn",
        "outputId": "9dcfaf83-8c3b-4ac4-8a5c-cec67946d05d"
      },
      "execution_count": null,
      "outputs": [
        {
          "output_type": "execute_result",
          "data": {
            "text/plain": [
              "['weniv', 'CEO', 'licat']"
            ]
          },
          "metadata": {},
          "execution_count": 63
        }
      ]
    },
    {
      "cell_type": "code",
      "source": [
        "s = ['weniv', 'CEO', 'licat']\n",
        "'-'.join(s)  # 리스트를 하나의 문자열로 합치기"
      ],
      "metadata": {
        "colab": {
          "base_uri": "https://localhost:8080/",
          "height": 36
        },
        "id": "0sfoufUOEl63",
        "outputId": "c747067a-f0d2-4183-a944-d10e103b8615"
      },
      "execution_count": null,
      "outputs": [
        {
          "output_type": "execute_result",
          "data": {
            "text/plain": [
              "'weniv-CEO-licat'"
            ],
            "application/vnd.google.colaboratory.intrinsic+json": {
              "type": "string"
            }
          },
          "metadata": {},
          "execution_count": 64
        }
      ]
    },
    {
      "cell_type": "markdown",
      "source": [
        "`format()`  \n",
        "f-string을 사용할것이기 때문에 잘 안쓸예정"
      ],
      "metadata": {
        "id": "smEGzyg0E_qI"
      }
    },
    {
      "cell_type": "code",
      "source": [
        "name = 'licat'\n",
        "age = 29\n",
        "\n",
        "print('제 이름은 {}이고, 나이는 {}살입니다.'.format(name, age))"
      ],
      "metadata": {
        "colab": {
          "base_uri": "https://localhost:8080/"
        },
        "id": "2EFeeHvwHupD",
        "outputId": "82580ffe-5359-4f56-d740-89cc2cf6991c"
      },
      "execution_count": null,
      "outputs": [
        {
          "output_type": "stream",
          "name": "stdout",
          "text": [
            "제 이름은 licat이고, 나이는 29살입니다.\n"
          ]
        }
      ]
    },
    {
      "cell_type": "code",
      "source": [
        "print(f'제 이름은 {name}이고, 나이는 {age}살입니다.')"
      ],
      "metadata": {
        "colab": {
          "base_uri": "https://localhost:8080/"
        },
        "id": "qieUaUAIH0Nm",
        "outputId": "f545fa5f-5f79-4aaf-ea32-708f88676055"
      },
      "execution_count": null,
      "outputs": [
        {
          "output_type": "stream",
          "name": "stdout",
          "text": [
            "제 이름은 licat이고, 나이는 29살입니다.\n"
          ]
        }
      ]
    },
    {
      "cell_type": "code",
      "source": [
        "# 1.12 isdigit / isalpha\n",
        "\n",
        "# isdigit()\n",
        "s = '123'\n",
        "s.isdigit()  # 문자열이 숫자로만 이루어져 있는지 확인하는 method"
      ],
      "metadata": {
        "colab": {
          "base_uri": "https://localhost:8080/"
        },
        "id": "5chF5FHgIVD0",
        "outputId": "7a8a9c6f-c87a-4658-b59a-ff4a6126f180"
      },
      "execution_count": null,
      "outputs": [
        {
          "output_type": "execute_result",
          "data": {
            "text/plain": [
              "True"
            ]
          },
          "metadata": {},
          "execution_count": 72
        }
      ]
    },
    {
      "cell_type": "code",
      "source": [
        "# isalpha()\n",
        "print('abcd1234'.isalpha()) # 출력: False\n",
        "print('안녕하세요'.isalpha()) # 출력: True\n",
        "print('こんにちは'.isalpha()) # 출력: True\n",
        "print('你好'.isalpha()) # 출력: True"
      ],
      "metadata": {
        "colab": {
          "base_uri": "https://localhost:8080/"
        },
        "id": "c6oRhOe7IpcH",
        "outputId": "31b665f1-5498-4934-8bac-bfbd69adbc94"
      },
      "execution_count": null,
      "outputs": [
        {
          "output_type": "stream",
          "name": "stdout",
          "text": [
            "False\n",
            "True\n",
            "True\n",
            "True\n"
          ]
        }
      ]
    },
    {
      "cell_type": "code",
      "source": [
        "# 1.13 rjust() / ljust() / center()\n",
        "\n",
        "s = 'licat' # 5글자 - 10글자를 채워야하면 5글자가 공백! -> -으로 채우는\n",
        "# rjust() # 문자열을 지정한 길이로 맞추고, 왼쪽을 '-'로 채우는 method\n",
        "s.rjust(10, '-')"
      ],
      "metadata": {
        "colab": {
          "base_uri": "https://localhost:8080/",
          "height": 36
        },
        "id": "SAy7I4H4Irzv",
        "outputId": "a462125d-0292-478e-bf72-2cb4889ba536"
      },
      "execution_count": null,
      "outputs": [
        {
          "output_type": "execute_result",
          "data": {
            "text/plain": [
              "'-----licat'"
            ],
            "application/vnd.google.colaboratory.intrinsic+json": {
              "type": "string"
            }
          },
          "metadata": {},
          "execution_count": 85
        }
      ]
    },
    {
      "cell_type": "code",
      "source": [
        "s = \"Jiminkyung\"\n",
        "s.rjust(15, '*').ljust(20, '*')"
      ],
      "metadata": {
        "colab": {
          "base_uri": "https://localhost:8080/",
          "height": 36
        },
        "id": "o8iH05byJkxI",
        "outputId": "2ee93013-2312-4764-e482-64c1bb3eca34"
      },
      "execution_count": null,
      "outputs": [
        {
          "output_type": "execute_result",
          "data": {
            "text/plain": [
              "'*****Jiminkyung*****'"
            ],
            "application/vnd.google.colaboratory.intrinsic+json": {
              "type": "string"
            }
          },
          "metadata": {},
          "execution_count": 77
        }
      ]
    },
    {
      "cell_type": "code",
      "source": [
        "s = \"660825-5\"\n",
        "s.ljust(14, '*')"
      ],
      "metadata": {
        "colab": {
          "base_uri": "https://localhost:8080/",
          "height": 36
        },
        "id": "6DmxJOojJ0qv",
        "outputId": "42c8d841-398b-4abb-8d88-1e0fd46b33d7"
      },
      "execution_count": null,
      "outputs": [
        {
          "output_type": "execute_result",
          "data": {
            "text/plain": [
              "'660825-5******'"
            ],
            "application/vnd.google.colaboratory.intrinsic+json": {
              "type": "string"
            }
          },
          "metadata": {},
          "execution_count": 78
        }
      ]
    },
    {
      "cell_type": "code",
      "source": [
        "# center()\n",
        "# 문자열을 지정한 길이로 맞추고, 양쪽을 '-'로 채우는 method\n",
        "s = 'licat'\n",
        "print(s.center(11, '-'))\n",
        "\n",
        "# 숫자가 문자의 길이보다 작을 경우 문자열 그대로를 출력함\n",
        "s = 'licat'\n",
        "print(s.center(3, '-'))"
      ],
      "metadata": {
        "colab": {
          "base_uri": "https://localhost:8080/"
        },
        "id": "CVClj38GKaWF",
        "outputId": "65c882d3-61af-4d3d-db61-5f5c06b23e72"
      },
      "execution_count": null,
      "outputs": [
        {
          "output_type": "stream",
          "name": "stdout",
          "text": [
            "---licat---\n",
            "licat\n"
          ]
        }
      ]
    },
    {
      "cell_type": "code",
      "source": [
        "# 1.14 zfill()\n",
        "\n",
        "# 문자열\n",
        "x = \"42\"\n",
        "result = x.zfill(5)\n",
        "print(result)  # 00042\n",
        "# 부호가 있는 숫자\n",
        "y = \"-42\"\n",
        "result = y.zfill(5)\n",
        "print(result)  # -0042\n",
        "\n",
        "# int형 정수에는 못 쓴다. 당연함 문자열 method임."
      ],
      "metadata": {
        "colab": {
          "base_uri": "https://localhost:8080/"
        },
        "id": "TK_ui2SsMyDa",
        "outputId": "a4ff9bde-3bd2-492d-e7dd-473e05421da9"
      },
      "execution_count": null,
      "outputs": [
        {
          "output_type": "stream",
          "name": "stdout",
          "text": [
            "00042\n",
            "-0042\n"
          ]
        }
      ]
    },
    {
      "cell_type": "code",
      "source": [
        "# 파일명 수정할 때 편리하다.\n",
        "filename = '1'.zfill(3) + \".jpg\"\n",
        "print(filename)"
      ],
      "metadata": {
        "colab": {
          "base_uri": "https://localhost:8080/"
        },
        "id": "yyAPKPODNisv",
        "outputId": "6442c027-4a8a-4935-99e8-43436fd79203"
      },
      "execution_count": null,
      "outputs": [
        {
          "output_type": "stream",
          "name": "stdout",
          "text": [
            "001.jpg\n"
          ]
        }
      ]
    },
    {
      "cell_type": "code",
      "source": [
        "년 = '23'\n",
        "월 = '9'\n",
        "일 = '8'\n",
        "오늘날짜 = 년 + 월 + 일\n",
        "print(오늘날짜)\n",
        "오늘날짜 = 년 + 월.zfill(2) + 일.zfill(2)\n",
        "print(오늘날짜)"
      ],
      "metadata": {
        "colab": {
          "base_uri": "https://localhost:8080/"
        },
        "id": "xeWeIkOuOU4j",
        "outputId": "51511592-ef93-4e89-e9c0-e800049a286e"
      },
      "execution_count": null,
      "outputs": [
        {
          "output_type": "stream",
          "name": "stdout",
          "text": [
            "2398\n",
            "230908\n"
          ]
        }
      ]
    },
    {
      "cell_type": "markdown",
      "source": [
        "`translate()`는 `replace()`와 비슷하지만, replace와 다르게 한 번에 많은 문자열들을 원하는 문자로 치환할 수 있다."
      ],
      "metadata": {
        "id": "hRzumOvNOobl"
      }
    },
    {
      "cell_type": "code",
      "source": [
        "# 1.15 translate()\n",
        "\n",
        "# 변환 테이블 생성\n",
        "table = str.maketrans(\"abc\", \"123\")\n",
        "# 문자열 치환하기\n",
        "text = \"abcde\"\n",
        "result = text.translate(table)\n",
        "print(result)  # 123de"
      ],
      "metadata": {
        "colab": {
          "base_uri": "https://localhost:8080/"
        },
        "id": "oGIwzzBeRxbo",
        "outputId": "399e58b6-e312-4efa-dd1a-fca471716afb"
      },
      "execution_count": null,
      "outputs": [
        {
          "output_type": "stream",
          "name": "stdout",
          "text": [
            "123de\n"
          ]
        }
      ]
    },
    {
      "cell_type": "markdown",
      "source": [
        "`translate()` 메서드는 특정 문자를 제거하는 데도 사용될 수 있다. 이를 위해서는 `str.maketrans()`의 **세 번째 인수**로 제거할 문자를 지정한다."
      ],
      "metadata": {
        "id": "zJtQAWWvSPBF"
      }
    },
    {
      "cell_type": "code",
      "source": [
        "# 특정 문자 제거\n",
        "# 'd'와 'e' 문자 제거하기\n",
        "table = str.maketrans('', '', 'de')\n",
        "text = \"abcde\"\n",
        "result = text.translate(table)\n",
        "print(result)  # abc"
      ],
      "metadata": {
        "colab": {
          "base_uri": "https://localhost:8080/"
        },
        "id": "-9ZdRUmLSD4l",
        "outputId": "24f0e595-661a-409f-ce56-18bb31887344"
      },
      "execution_count": null,
      "outputs": [
        {
          "output_type": "stream",
          "name": "stdout",
          "text": [
            "abc\n"
          ]
        }
      ]
    },
    {
      "cell_type": "code",
      "source": [
        "table = str.maketrans('\\n\\t', '  ') # 똑같은 길이를 가지고 있어야 함\n",
        "'weniv \\n\\n\\n CEO \\t\\t\\t licat'.translate(table)"
      ],
      "metadata": {
        "colab": {
          "base_uri": "https://localhost:8080/",
          "height": 36
        },
        "id": "uOjd-mNvSIhd",
        "outputId": "f166a3a7-3b63-470c-bf66-edaf735fa0dc"
      },
      "execution_count": null,
      "outputs": [
        {
          "output_type": "execute_result",
          "data": {
            "text/plain": [
              "'weniv     CEO     licat'"
            ],
            "application/vnd.google.colaboratory.intrinsic+json": {
              "type": "string"
            }
          },
          "metadata": {},
          "execution_count": 93
        }
      ]
    },
    {
      "cell_type": "markdown",
      "source": [
        "## 문자열 포매팅\n",
        "문자열 포매팅은 문자열 내에 변수나 표현식의 값을 삽입하거나, 문자열의 형태를 조절하는 방법을 의미합니다. 파이썬에서는 여러 방법으로 문자열 포매팅을 수행할 수 있습니다.\n",
        "* `%` 연산자 사용\n",
        "* `format()` 메서드 사용\n",
        "* `f-string` <- 주로 사용"
      ],
      "metadata": {
        "id": "WICpUflnShhK"
      }
    },
    {
      "cell_type": "markdown",
      "source": [
        "{ 중괄호 안에서 코딩 }하는것은 자제. 가독성 개떨어짐.\n",
        "ex) `print(f'{s[::-1}')`"
      ],
      "metadata": {
        "id": "AXllRR-FS7Bn"
      }
    },
    {
      "cell_type": "markdown",
      "source": [
        "## 이스케이프 문자들\n",
        "- `\\n`: 새로운 줄(줄바꿈)을 나타냅니다.\n",
        "- `\\t`: 탭 문자를 나타냅니다.\n",
        "- `\\r`: 커서를 현재 줄의 처음으로 이동합니다.\n",
        "- `\\\"`: 큰따옴표를 나타냅니다.\n",
        "- `\\'`: 작은따옴표를 나타냅니다.\n",
        "- `\\\\`: 백슬래시를 나타냅니다."
      ],
      "metadata": {
        "id": "XtnolJiZTRmp"
      }
    },
    {
      "cell_type": "code",
      "source": [
        "# 1.16 이스케이프\n",
        "\n",
        "print(\"Hello\\nWorld!\") # Hello와 World! 사이에 줄바꿈이 일어납니다.\n",
        "print(\"Hello\\tWorld!\") # Hello와 World! 사이에 탭 간격이 생깁니다.\n",
        "print(\"She said, \\\"Hello World!\\\"\") # 큰따옴표 내부에 문자열을 출력합니다.\n",
        "print('She said, \\'Hello World!\\'') # 작은따옴표 내부에 문자열을 출력합니다.\n",
        "print(\"Backslash: \\\\\") # 백슬래시를 출력합니다."
      ],
      "metadata": {
        "colab": {
          "base_uri": "https://localhost:8080/"
        },
        "id": "n7WHjCgJTnQB",
        "outputId": "4347a683-5385-43fc-c058-d0d0609cccb0"
      },
      "execution_count": null,
      "outputs": [
        {
          "output_type": "stream",
          "name": "stdout",
          "text": [
            "Hello\n",
            "World!\n",
            "Hello\tWorld!\n",
            "She said, \"Hello World!\"\n",
            "She said, 'Hello World!'\n",
            "Backslash: \\\n"
          ]
        }
      ]
    },
    {
      "cell_type": "markdown",
      "source": [
        "위의 다섯가지 문자는 많이 사용됨."
      ],
      "metadata": {
        "id": "9K9NqTydTyzw"
      }
    }
  ]
}