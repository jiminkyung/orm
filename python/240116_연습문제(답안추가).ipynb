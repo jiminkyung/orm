{
  "nbformat": 4,
  "nbformat_minor": 0,
  "metadata": {
    "colab": {
      "provenance": [],
      "authorship_tag": "ABX9TyOLeYSUJ9A6Fqq4QBmfJr7p",
      "include_colab_link": true
    },
    "kernelspec": {
      "name": "python3",
      "display_name": "Python 3"
    },
    "language_info": {
      "name": "python"
    }
  },
  "cells": [
    {
      "cell_type": "markdown",
      "metadata": {
        "id": "view-in-github",
        "colab_type": "text"
      },
      "source": [
        "<a href=\"https://colab.research.google.com/github/jiminkyung/orm/blob/main/python/240116_%EC%97%B0%EC%8A%B5%EB%AC%B8%EC%A0%9C(%EB%8B%B5%EC%95%88%EC%B6%94%EA%B0%80).ipynb\" target=\"_parent\"><img src=\"https://colab.research.google.com/assets/colab-badge.svg\" alt=\"Open In Colab\"/></a>"
      ]
    },
    {
      "cell_type": "markdown",
      "source": [
        "# 문제 1: 함수를 인자로 받는 고차함수\n",
        "주어진 리스트와 함수를 인자로 받아, 리스트의 각 요소에 해당 함수를 적용한 결과를 반환하는 고차함수 apply_function을 작성해주세요.\n",
        "```\n",
        "def apply_function(lst, func):\n",
        "    pass\n",
        "\n",
        "# 예제 사용\n",
        "result = apply_function([1, 2, 3, 4], lambda x: x * 2)\n",
        "print(result)  # [2, 4, 6, 8]이 출력되어야 함\n",
        "```"
      ],
      "metadata": {
        "id": "CC88DBucIi4h"
      }
    },
    {
      "cell_type": "code",
      "source": [
        "def apply_function(lst, func):\n",
        "    return [func(x) for x in lst]\n",
        "\n",
        "result = apply_function([1, 2, 3, 4], lambda x: x * 2)\n",
        "print(result)  # [2, 4, 6, 8]이 출력되어야 함"
      ],
      "metadata": {
        "colab": {
          "base_uri": "https://localhost:8080/"
        },
        "id": "R9tCAoZ8Ir6M",
        "outputId": "84e5625b-ecaa-4545-c40d-47cf800eeae4"
      },
      "execution_count": null,
      "outputs": [
        {
          "output_type": "stream",
          "name": "stdout",
          "text": [
            "[2, 4, 6, 8]\n"
          ]
        }
      ]
    },
    {
      "cell_type": "markdown",
      "source": [
        "# 문제 2: 함수를 반환하는 고차함수\n",
        "정수 n을 인자로 받아, 다른 정수 x에 n을 곱하는 함수를 반환하는 고차함수 multiply_by_n을 작성해주세요. 힌트를 드리자면 반환 값은 lambda여야 합니다.\n",
        "```\n",
        "def multiply_by_n(n):\n",
        "    pass\n",
        "\n",
        "# 예제 사용\n",
        "multiplier = multiply_by_n(5)\n",
        "print(multiplier(3))  # 15가 출력되어야 함\n",
        "```"
      ],
      "metadata": {
        "id": "JB0YXlMTN05J"
      }
    },
    {
      "cell_type": "code",
      "source": [
        "def multiply_by_n(n):\n",
        "    return (lambda x: x*n)\n",
        "\n",
        "multiplier = multiply_by_n(5)\n",
        "print(multiplier(3))  # 15가 출력되어야 함"
      ],
      "metadata": {
        "colab": {
          "base_uri": "https://localhost:8080/"
        },
        "id": "18F5dewON8Sa",
        "outputId": "e76328e9-ecdd-4378-bdf0-7d248b4fa454"
      },
      "execution_count": null,
      "outputs": [
        {
          "output_type": "stream",
          "name": "stdout",
          "text": [
            "15\n"
          ]
        }
      ]
    },
    {
      "cell_type": "markdown",
      "source": [
        "# 강사님 예시답안"
      ],
      "metadata": {
        "id": "CD5Wl1gnOojR"
      }
    },
    {
      "cell_type": "code",
      "source": [
        "# 1.1\n",
        "def apply_function(lst, func):\n",
        "    return list(map(func, lst))\n",
        "\n",
        "# 예제 사용\n",
        "result = apply_function([1, 2, 3, 4], lambda x: x * 2)\n",
        "print(result)  # [2, 4, 6, 8]이 출력되어야 함"
      ],
      "metadata": {
        "colab": {
          "base_uri": "https://localhost:8080/"
        },
        "id": "ZFQd58spw86N",
        "outputId": "09ba12b1-e935-41ec-f6c8-2ec60db14b56"
      },
      "execution_count": null,
      "outputs": [
        {
          "output_type": "stream",
          "name": "stdout",
          "text": [
            "[2, 4, 6, 8]\n"
          ]
        }
      ]
    },
    {
      "cell_type": "code",
      "source": [
        "# 1.2 쉬운풀이\n",
        "def apply_function(lst, func):\n",
        "    l = []\n",
        "    for i in lst:\n",
        "        l.append(func(i))\n",
        "    return l\n",
        "\n",
        "# 예제 사용\n",
        "result = apply_function([1, 2, 3, 4], lambda x: x * 2)\n",
        "print(result)  # [2, 4, 6, 8]이 출력되어야 함"
      ],
      "metadata": {
        "colab": {
          "base_uri": "https://localhost:8080/"
        },
        "id": "dZNs8Gkfxmw2",
        "outputId": "52f1ae68-1005-493b-ab8b-1ef9b9d3351e"
      },
      "execution_count": null,
      "outputs": [
        {
          "output_type": "stream",
          "name": "stdout",
          "text": [
            "[2, 4, 6, 8]\n"
          ]
        }
      ]
    },
    {
      "cell_type": "code",
      "source": [
        "# 1.3\n",
        "def apply_function(lst, func):\n",
        "    return [func(i) for i in lst]\n",
        "\n",
        "# 예제 사용\n",
        "result = apply_function([1, 2, 3, 4], lambda x: x * 2)\n",
        "print(result)  # [2, 4, 6, 8]이 출력되어야 함"
      ],
      "metadata": {
        "colab": {
          "base_uri": "https://localhost:8080/"
        },
        "id": "XBUPRKLXygHp",
        "outputId": "9474e8d6-ab2f-4a07-b12c-b9f26fa791bc"
      },
      "execution_count": null,
      "outputs": [
        {
          "output_type": "stream",
          "name": "stdout",
          "text": [
            "[2, 4, 6, 8]\n"
          ]
        }
      ]
    },
    {
      "cell_type": "code",
      "source": [
        "# 2.1\n",
        "def multiply_by_n(n):\n",
        "    return lambda x: x * n\n",
        "\n",
        "# 예제 사용\n",
        "multiplier = multiply_by_n(5)\n",
        "print(multiplier(3))  # 15가 출력되어야 함"
      ],
      "metadata": {
        "colab": {
          "base_uri": "https://localhost:8080/"
        },
        "id": "O54oLDwnyh_F",
        "outputId": "7279c816-cdd0-4896-a065-2608fad16dfb"
      },
      "execution_count": null,
      "outputs": [
        {
          "output_type": "stream",
          "name": "stdout",
          "text": [
            "15\n"
          ]
        }
      ]
    },
    {
      "cell_type": "code",
      "source": [
        "# 2.2\n",
        "def multiply_by_n(n):\n",
        "    def f(x):\n",
        "        return x * n\n",
        "    return f\n",
        "\n",
        "# 예제 사용\n",
        "multiplier = multiply_by_n(5)\n",
        "print(multiplier(3))  # 15가 출력되어야 함"
      ],
      "metadata": {
        "colab": {
          "base_uri": "https://localhost:8080/"
        },
        "id": "Ul9SjPtLykXy",
        "outputId": "547a60e9-a9fd-4443-c9d2-370ea35aef33"
      },
      "execution_count": null,
      "outputs": [
        {
          "output_type": "stream",
          "name": "stdout",
          "text": [
            "15\n"
          ]
        }
      ]
    }
  ]
}