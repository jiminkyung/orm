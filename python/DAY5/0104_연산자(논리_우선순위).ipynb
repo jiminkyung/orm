{
  "nbformat": 4,
  "nbformat_minor": 0,
  "metadata": {
    "colab": {
      "provenance": [],
      "collapsed_sections": [
        "L2M9H2Q5A2Rw",
        "VtnAkaiJEFtr",
        "dLgUt2ZEFiwc",
        "qQQp9ciXJ4wR",
        "-IhMkhPMTLW_"
      ]
    },
    "kernelspec": {
      "name": "python3",
      "display_name": "Python 3"
    },
    "language_info": {
      "name": "python"
    }
  },
  "cells": [
    {
      "cell_type": "markdown",
      "source": [
        "# 1. 논리연산"
      ],
      "metadata": {
        "id": "L2M9H2Q5A2Rw"
      }
    },
    {
      "cell_type": "markdown",
      "source": [
        "- 휴면고객에 대한 데이터를 받아서 가망고객 리스트 만들기\n",
        "\n",
        "휴면고객 100,000명(DB) ->  \n",
        "1차: 20~40대 먼저 거르면 -> 4만명(-6만명) ->  \n",
        "2차: 10만원 이하를 사용한 고객 거르면 -> 2만명(-2만명) ->  \n",
        "3차: 3번 이하로 구매한 고객 -> 1만명(-1만명)  \n",
        "----> 1만명에 대해서만  \n",
        "\n",
        "위와 같이 **가장 많이 걸러지는 조건을 맨 앞**에다 두어야 리소스를 줄일 수 있다."
      ],
      "metadata": {
        "id": "jG8HBQ6dBMAy"
      }
    },
    {
      "cell_type": "code",
      "execution_count": 4,
      "metadata": {
        "colab": {
          "base_uri": "https://localhost:8080/"
        },
        "id": "V690p5ez7VZP",
        "outputId": "45b55eb5-9e67-4ba3-f9d8-4ac78b25494e"
      },
      "outputs": [
        {
          "output_type": "stream",
          "name": "stdout",
          "text": [
            "test1 함수 호출!\n",
            "False\n"
          ]
        }
      ],
      "source": [
        "# 예시\n",
        "# test1이 False이기 때문에 test2는 아예 호출되지 않는다.\n",
        "\n",
        "def test1():\n",
        "    print(\"test1 함수 호출!\")\n",
        "    return False\n",
        "\n",
        "def test2():\n",
        "    print(\"test2 함수 호출!\")\n",
        "    return True\n",
        "\n",
        "# 가장 많이 걸러지는 조건을 맨 앞에 두어야 리소스를 줄일 수 있다.\n",
        "\n",
        "result = test1() and test2()\n",
        "print(result) # 결과: False"
      ]
    },
    {
      "cell_type": "code",
      "source": [
        "# 퀴즈 4번\n",
        "0 and 1"
      ],
      "metadata": {
        "colab": {
          "base_uri": "https://localhost:8080/"
        },
        "id": "ffzxKYZxB7ji",
        "outputId": "f499177c-b2da-4b1b-849c-061e882cf048"
      },
      "execution_count": 6,
      "outputs": [
        {
          "output_type": "execute_result",
          "data": {
            "text/plain": [
              "0"
            ]
          },
          "metadata": {},
          "execution_count": 6
        }
      ]
    },
    {
      "cell_type": "markdown",
      "source": [
        "# 2. 할당연산"
      ],
      "metadata": {
        "id": "VtnAkaiJEFtr"
      }
    },
    {
      "cell_type": "code",
      "source": [
        "x = 5\n",
        "y = 2\n",
        "z = 10\n",
        "\n",
        "x1 = y * z  # 20 = 2 * 10\n",
        "x2 = x + (y * z)  # 25 = 5 + (2*10)\n",
        "x += y * z  # y*z 연산 후 x에 값을 더한 뒤에 할당한다.\n",
        "print(x1)\n",
        "print(x2)\n",
        "print(x)  # 결과: 25"
      ],
      "metadata": {
        "colab": {
          "base_uri": "https://localhost:8080/"
        },
        "id": "f2SDsvrCEug3",
        "outputId": "441675db-8153-4c61-d522-b99e4574a9f5"
      },
      "execution_count": 18,
      "outputs": [
        {
          "output_type": "stream",
          "name": "stdout",
          "text": [
            "20\n",
            "25\n",
            "25\n"
          ]
        }
      ]
    },
    {
      "cell_type": "code",
      "source": [
        "x += y * z\n",
        "print(x)\n",
        "# 위에서 x는 25값으로 반환되었기 때문에,\n",
        "# y*z = 20, x+20 = 45"
      ],
      "metadata": {
        "colab": {
          "base_uri": "https://localhost:8080/"
        },
        "id": "7nhH4bnNFDER",
        "outputId": "4744f45b-71a3-4217-9cde-5003745f92f4"
      },
      "execution_count": 19,
      "outputs": [
        {
          "output_type": "stream",
          "name": "stdout",
          "text": [
            "45\n"
          ]
        }
      ]
    },
    {
      "cell_type": "markdown",
      "source": [
        "# 3. 식별연산\n",
        "식별 연산자는 두 변수가 동일한 객체를 참조하고 있는지 확인하는데 사용됩니다. 파이썬에서는 `is`와 `is not`을 사용하여 이를 확인할 수 있습니다.\n",
        "- is  \n",
        "두 변수가 같은 곳에 저장된 정보를 바라보고 있다면 ‘맞다’`(True)`를 알려줍니다. 다른 곳을 바라보고 있다면 ‘아니다’`(False)`를 알려줍니다.\n",
        "- is not  \n",
        "두 변수가 같은 곳에 저장된 정보를 바라보고 있다면 '아니다`(False)`'를 알려줍니다. 다른 곳을 바라보고 있다면 '맞다`(True)`'를 알려줍니다."
      ],
      "metadata": {
        "id": "dLgUt2ZEFiwc"
      }
    },
    {
      "cell_type": "code",
      "source": [
        "# 3.1 동일 인물 확인\n",
        "\n",
        "coffee_employee = \"Brand\"\n",
        "orange_employee = \"Brand\"\n",
        "\n",
        "print(coffee_employee is orange_employee) # 주소가 같은지\n",
        "print(coffee_employee == orange_employee) # 실제 값이 같은지"
      ],
      "metadata": {
        "colab": {
          "base_uri": "https://localhost:8080/"
        },
        "id": "XWQ-J5JnHONy",
        "outputId": "a3e296ae-652a-439d-9008-13445794b456"
      },
      "execution_count": 23,
      "outputs": [
        {
          "output_type": "stream",
          "name": "stdout",
          "text": [
            "True\n",
            "True\n"
          ]
        }
      ]
    },
    {
      "cell_type": "code",
      "source": [
        "print(id(coffee_employee))\n",
        "print(id(orange_employee))"
      ],
      "metadata": {
        "colab": {
          "base_uri": "https://localhost:8080/"
        },
        "id": "c6ASBiNmIqOO",
        "outputId": "03028594-da5c-4cd9-b34f-078a8d434e10"
      },
      "execution_count": 24,
      "outputs": [
        {
          "output_type": "stream",
          "name": "stdout",
          "text": [
            "134761658015536\n",
            "134761658015536\n"
          ]
        }
      ]
    },
    {
      "cell_type": "markdown",
      "source": [
        "-5부터 256까지는 같은 주소, 그 범위 밖은 주소가 달라진다."
      ],
      "metadata": {
        "id": "Xb1GXNekID1l"
      }
    },
    {
      "cell_type": "code",
      "source": [
        "coffee_employee = 257\n",
        "orange_employee = 257\n",
        "\n",
        "print(coffee_employee is orange_employee) # 주소가 같은지\n",
        "print(coffee_employee == orange_employee) # 실제 값이 같은지"
      ],
      "metadata": {
        "colab": {
          "base_uri": "https://localhost:8080/"
        },
        "id": "XoE6a8QtIOaZ",
        "outputId": "41ff8ce6-9a11-4559-8b1f-96254629af49"
      },
      "execution_count": 21,
      "outputs": [
        {
          "output_type": "stream",
          "name": "stdout",
          "text": [
            "False\n",
            "True\n"
          ]
        }
      ]
    },
    {
      "cell_type": "markdown",
      "source": [
        "문자열은 공백을 주의하면 된다."
      ],
      "metadata": {
        "id": "WBIFhreLITQ_"
      }
    },
    {
      "cell_type": "code",
      "source": [
        "coffee_employee = \" Brand\"\n",
        "orange_employee = \" Brand\"\n",
        "\n",
        "print(coffee_employee is orange_employee) # 주소가 같은지\n",
        "print(coffee_employee == orange_employee) # 실제 값이 같은지"
      ],
      "metadata": {
        "colab": {
          "base_uri": "https://localhost:8080/"
        },
        "id": "65Dkzy9SIZYN",
        "outputId": "66cc16d2-a597-4dea-9bcb-5fd55f2bd690"
      },
      "execution_count": 22,
      "outputs": [
        {
          "output_type": "stream",
          "name": "stdout",
          "text": [
            "False\n",
            "True\n"
          ]
        }
      ]
    },
    {
      "cell_type": "markdown",
      "source": [
        "`is`는 `id`를 기준으로 값을 찾는것,  \n",
        "`==`는 `값`을 기준으로 값을 찾는것이다."
      ],
      "metadata": {
        "id": "Xhv_8V93Iexa"
      }
    },
    {
      "cell_type": "code",
      "source": [
        "# 3.2 예시\n",
        "\n",
        "a = [1, 2, 3]\n",
        "b = [1, 2, 3]\n",
        "c = a  # a에 있는 것을 재할당"
      ],
      "metadata": {
        "id": "cnRd1yVlI9YZ"
      },
      "execution_count": 25,
      "outputs": []
    },
    {
      "cell_type": "code",
      "source": [
        "print(a, b, c)"
      ],
      "metadata": {
        "colab": {
          "base_uri": "https://localhost:8080/"
        },
        "id": "gA6fICuRJK9f",
        "outputId": "5487932b-cbb1-4ff7-8f8b-335f70732524"
      },
      "execution_count": 26,
      "outputs": [
        {
          "output_type": "stream",
          "name": "stdout",
          "text": [
            "[1, 2, 3] [1, 2, 3] [1, 2, 3]\n"
          ]
        }
      ]
    },
    {
      "cell_type": "code",
      "source": [
        "print('a == b', a == b)\n",
        "print('a == c', a == c)\n",
        "print('a is b', a is b)\n",
        "print('a is c', a is c)"
      ],
      "metadata": {
        "colab": {
          "base_uri": "https://localhost:8080/"
        },
        "id": "tBb-aJeFJL5Q",
        "outputId": "09f5a143-a87a-45a0-fcff-16d8e1879d55"
      },
      "execution_count": 27,
      "outputs": [
        {
          "output_type": "stream",
          "name": "stdout",
          "text": [
            "a == b True\n",
            "a == c True\n",
            "a is b False\n",
            "a is c True\n"
          ]
        }
      ]
    },
    {
      "cell_type": "code",
      "source": [
        "print(id(a), id(b), id(c), sep=\" / \")\n",
        "# a와 c는 같은 id값, b는 다른 id값이 나온다."
      ],
      "metadata": {
        "colab": {
          "base_uri": "https://localhost:8080/"
        },
        "id": "NHZdLb4VJOCu",
        "outputId": "b81d78b5-0c2e-46ea-e684-4fe0dc9dbd71"
      },
      "execution_count": 30,
      "outputs": [
        {
          "output_type": "stream",
          "name": "stdout",
          "text": [
            "134762050765888 / 134762052887168 / 134762050765888\n"
          ]
        }
      ]
    },
    {
      "cell_type": "markdown",
      "source": [
        "리스트와 같은 배열들은 문자열과는 다르게 생성할 때마다 새로운 주소에 담는다."
      ],
      "metadata": {
        "id": "rN3dR09aJcHL"
      }
    },
    {
      "cell_type": "markdown",
      "source": [
        "# 4. 멤버연산\n",
        "멤버 연산은 어떤 값이 목록 안에 있는지 확인해주는 기능입니다. `in`과 `not in` 두 가지 방법으로 확인할 수 있습니다.\n",
        "- in  \n",
        "값이 목록 안에 있으면 참`(True)`이에요.\n",
        "- not in  \n",
        "값이 목록 안에 없으면 참`(True)`이에요."
      ],
      "metadata": {
        "id": "qQQp9ciXJ4wR"
      }
    },
    {
      "cell_type": "code",
      "source": [
        "# 기본 예시\n",
        "\n",
        "a = [1, 2, 3, 4]\n",
        "b = [1, 2, 3, 4]\n",
        "c = 'hello world'\n",
        "\n",
        "print(1 in a) # 출력: True\n",
        "print(0 not in a) # 출력: True\n",
        "print([2] in b) # 출력: False"
      ],
      "metadata": {
        "colab": {
          "base_uri": "https://localhost:8080/"
        },
        "id": "et1OSfDuQBTn",
        "outputId": "4f8d026f-62b2-415f-d4be-f614cd772a03"
      },
      "execution_count": 33,
      "outputs": [
        {
          "output_type": "stream",
          "name": "stdout",
          "text": [
            "True\n",
            "True\n",
            "False\n"
          ]
        }
      ]
    },
    {
      "cell_type": "code",
      "source": [
        "a_1 = [1, [2], 3, 4]\n",
        "# 리스트 안에 있는 값은 정수형 1, 3, 4 / 리스트형 [2]\n",
        "print([2] in a_1) # 출력: True"
      ],
      "metadata": {
        "colab": {
          "base_uri": "https://localhost:8080/"
        },
        "id": "xk3LKsCLQkqS",
        "outputId": "81af86e4-07ad-4b88-a766-5984f79917a9"
      },
      "execution_count": 35,
      "outputs": [
        {
          "output_type": "stream",
          "name": "stdout",
          "text": [
            "True\n"
          ]
        }
      ]
    },
    {
      "cell_type": "markdown",
      "source": [
        "자료형태를 잘 파악해서 `in`을 사용해야 한다."
      ],
      "metadata": {
        "id": "TZFr0FvOQ1bX"
      }
    },
    {
      "cell_type": "code",
      "source": [
        "# 문자열은 '공백' 주의!\n",
        "print('hello' in c) # True\n",
        "print(' hello' in c) # False"
      ],
      "metadata": {
        "colab": {
          "base_uri": "https://localhost:8080/"
        },
        "id": "0JWUzWk3RMj6",
        "outputId": "af7d4de3-6811-409f-8cca-9af4dfa5101a"
      },
      "execution_count": 36,
      "outputs": [
        {
          "output_type": "stream",
          "name": "stdout",
          "text": [
            "True\n",
            "False\n"
          ]
        }
      ]
    },
    {
      "cell_type": "code",
      "source": [
        "fruits = [\"귤\", \"딸기\", \"거봉\"]\n",
        "\n",
        "print(\"거봉\" in fruits)\n",
        "print(\"산딸기\" in fruits)"
      ],
      "metadata": {
        "colab": {
          "base_uri": "https://localhost:8080/"
        },
        "id": "kpjTQLXLPqCh",
        "outputId": "d84d4ef8-616f-4eff-f471-2b3963d1b12f"
      },
      "execution_count": 31,
      "outputs": [
        {
          "output_type": "stream",
          "name": "stdout",
          "text": [
            "True\n",
            "False\n"
          ]
        }
      ]
    },
    {
      "cell_type": "markdown",
      "source": [
        "# 5. 연산자 우선순위"
      ],
      "metadata": {
        "id": "5-8xy8OKRp0R"
      }
    },
    {
      "cell_type": "code",
      "source": [
        "-2 ** 2 # 출력: -4, -(2 ** 2)"
      ],
      "metadata": {
        "colab": {
          "base_uri": "https://localhost:8080/"
        },
        "id": "bF_EauqsRrnq",
        "outputId": "ad36ef10-21bb-4eb1-dbf4-1299a6c8c766"
      },
      "execution_count": 37,
      "outputs": [
        {
          "output_type": "execute_result",
          "data": {
            "text/plain": [
              "-4"
            ]
          },
          "metadata": {},
          "execution_count": 37
        }
      ]
    },
    {
      "cell_type": "code",
      "source": [
        "# 해결\n",
        "(-2) ** 2"
      ],
      "metadata": {
        "colab": {
          "base_uri": "https://localhost:8080/"
        },
        "id": "JOzf65wgSZPH",
        "outputId": "a4fbd7d6-3485-4466-80e4-3e15fa822e04"
      },
      "execution_count": 38,
      "outputs": [
        {
          "output_type": "execute_result",
          "data": {
            "text/plain": [
              "4"
            ]
          },
          "metadata": {},
          "execution_count": 38
        }
      ]
    },
    {
      "cell_type": "code",
      "source": [
        "True * True and True + False\n",
        "# 출력: 1 , ((True * True) and (True + False))"
      ],
      "metadata": {
        "colab": {
          "base_uri": "https://localhost:8080/"
        },
        "id": "cyp-Oe35Scvd",
        "outputId": "5f211dbe-a670-46b0-ea32-324888e99290"
      },
      "execution_count": 39,
      "outputs": [
        {
          "output_type": "execute_result",
          "data": {
            "text/plain": [
              "1"
            ]
          },
          "metadata": {},
          "execution_count": 39
        }
      ]
    },
    {
      "cell_type": "code",
      "source": [
        "# 복합 할당 연산자가 가장 나중입니다!\n",
        "a = 10\n",
        "a *= 10 + 100\n",
        "a # 출력: 1100"
      ],
      "metadata": {
        "colab": {
          "base_uri": "https://localhost:8080/"
        },
        "id": "XFq8oqhISi0K",
        "outputId": "386bb8a8-313e-4262-ff08-1d65dbb9ca29"
      },
      "execution_count": 40,
      "outputs": [
        {
          "output_type": "execute_result",
          "data": {
            "text/plain": [
              "1100"
            ]
          },
          "metadata": {},
          "execution_count": 40
        }
      ]
    },
    {
      "cell_type": "markdown",
      "source": [
        "# 6. 연습문제"
      ],
      "metadata": {
        "id": "CRBImfmEWqtj"
      }
    },
    {
      "cell_type": "markdown",
      "source": [
        "## 1번\n",
        "실행값 예상\n",
        "```\n",
        "a = 100\n",
        "(a > 100) and (a < 200)\n",
        "(a > 100) or (a < 200)\n",
        "(a >= 100) and (a <= 200)\n",
        "(a >= 100) or (a <= 200)\n",
        "```"
      ],
      "metadata": {
        "id": "cqHZmjIrWtnG"
      }
    },
    {
      "cell_type": "code",
      "source": [
        "# False\n",
        "# True\n",
        "# True\n",
        "# True\n",
        "\n",
        "# 1번부터 차례대로\n",
        "# F and T, F or T, T and T, T or T 이기 때문이다."
      ],
      "metadata": {
        "id": "uKU4fEc6W3Xl"
      },
      "execution_count": 49,
      "outputs": []
    },
    {
      "cell_type": "code",
      "source": [
        "# 확인\n",
        "a = 100\n",
        "print((a > 100) and (a < 200))\n",
        "print((a > 100) or (a < 200))\n",
        "print((a >= 100) and (a <= 200))\n",
        "print((a >= 100) or (a <= 200))"
      ],
      "metadata": {
        "colab": {
          "base_uri": "https://localhost:8080/"
        },
        "id": "rTvZexGaXSJy",
        "outputId": "ba4d53ee-b294-4616-bcbd-bb50cded3a4d"
      },
      "execution_count": 51,
      "outputs": [
        {
          "output_type": "stream",
          "name": "stdout",
          "text": [
            "False\n",
            "True\n",
            "True\n",
            "True\n"
          ]
        }
      ]
    },
    {
      "cell_type": "markdown",
      "source": [
        "## 2번\n",
        "```\n",
        "b = 25\n",
        "(b % 2 == 0) and (b % 5 == 0)\n",
        "```"
      ],
      "metadata": {
        "id": "rwC2sM7XXbKx"
      }
    },
    {
      "cell_type": "code",
      "source": [
        "# (1 == 0) and (0 == 0)\n",
        "# False and True 이기 때문에\n",
        "# False"
      ],
      "metadata": {
        "id": "u8iAlSBDXj-d"
      },
      "execution_count": 53,
      "outputs": []
    },
    {
      "cell_type": "code",
      "source": [
        "# 확인\n",
        "b = 25\n",
        "(b % 2 == 0) and (b % 5 == 0)"
      ],
      "metadata": {
        "colab": {
          "base_uri": "https://localhost:8080/"
        },
        "id": "A_L5PpElXw0A",
        "outputId": "e728a0e7-eb1f-47f1-9b80-79dc4efe70b6"
      },
      "execution_count": 55,
      "outputs": [
        {
          "output_type": "execute_result",
          "data": {
            "text/plain": [
              "False"
            ]
          },
          "metadata": {},
          "execution_count": 55
        }
      ]
    },
    {
      "cell_type": "markdown",
      "source": [
        "## 3번\n",
        "변수 c 안에 들어있는 가격을 100원짜리 몇개로 거슬러 줄 수 있는지 출력해주세요.\n",
        "```\n",
        "c = 1000\n",
        "# 결과값은 10입니다.\n",
        "```"
      ],
      "metadata": {
        "id": "KsnYcZ7bXz-w"
      }
    },
    {
      "cell_type": "code",
      "source": [
        "c = 1000\n",
        "result = c // 100\n",
        "print(f\"결과값은 {result}입니다.\")"
      ],
      "metadata": {
        "colab": {
          "base_uri": "https://localhost:8080/"
        },
        "id": "zBZJXTsfX7Fr",
        "outputId": "7c059857-2071-407c-d10a-c265a10d7eb1"
      },
      "execution_count": 57,
      "outputs": [
        {
          "output_type": "stream",
          "name": "stdout",
          "text": [
            "결과값은 10입니다.\n"
          ]
        }
      ]
    },
    {
      "cell_type": "markdown",
      "source": [
        "## 4번\n",
        "(심화문제) 입력한 금액을 5000원, 1000원, 500원, 100원으로 교환하는 프로그램을 만들어주세요."
      ],
      "metadata": {
        "id": "vLJJZ3NnYGo9"
      }
    },
    {
      "cell_type": "code",
      "source": [
        "# 중간에 엉켜서 결국 답안을 참고했다...ㅎㅎ\n",
        "\n",
        "money = int(input(\"금액을 입력해주세요: \"))\n",
        "\n",
        "result_5000 = money // 5000\n",
        "money -= result_5000 * 5000\n",
        "\n",
        "result_1000 = money // 1000\n",
        "money -= result_1000 * 1000\n",
        "\n",
        "result_500 = money // 500\n",
        "money -= result_500 * 500\n",
        "\n",
        "result_100 = money // 100\n",
        "money -= result_100 * 100\n",
        "\n",
        "print(f\"5000원권 {result_5000}장,\\\n",
        " 1000원권 {result_1000}장,\\\n",
        " 500원 {result_500}개, 100원 {result_100}개입니다~\")\n"
      ],
      "metadata": {
        "colab": {
          "base_uri": "https://localhost:8080/"
        },
        "id": "_odTW4hAYLNT",
        "outputId": "71d6d392-9e80-439b-eb0e-3753b536dd11"
      },
      "execution_count": 60,
      "outputs": [
        {
          "output_type": "stream",
          "name": "stdout",
          "text": [
            "금액을 입력해주세요: 6700\n",
            "5000원권 1장, 1000원권 1장, 500원 1개, 100원 2개입니다~\n"
          ]
        }
      ]
    },
    {
      "cell_type": "markdown",
      "source": [
        "문제 코딩을 하는것도 중요하지만,  \n",
        "`결과값을 사용자에게 어떤식으로 표현할것인가?` 도 중요한 부분이라 생각하신다 함."
      ],
      "metadata": {
        "id": "DivztUwVeMiV"
      }
    },
    {
      "cell_type": "markdown",
      "source": [
        "## 5번(실습 2)"
      ],
      "metadata": {
        "id": "OUnoGsn0gHS1"
      }
    },
    {
      "cell_type": "code",
      "source": [
        "# 제품의 원가와 할인율 입력 받기\n",
        "\n",
        "original_price = float(input(\"원가를 입력하세요: \"))\n",
        "discount_rate = float(input(\"할인율을 입력하세요: \"))"
      ],
      "metadata": {
        "colab": {
          "base_uri": "https://localhost:8080/"
        },
        "id": "z3NvmyNee4GI",
        "outputId": "d34214eb-9478-48c0-ca96-b89c5b373bb4"
      },
      "execution_count": 62,
      "outputs": [
        {
          "name": "stdout",
          "output_type": "stream",
          "text": [
            "원가를 입력하세요: 20000\n",
            "할인율을 입력하세요: 10\n"
          ]
        }
      ]
    },
    {
      "cell_type": "code",
      "source": [
        "# 할인된 가격 계산\n",
        "discounted_price = original_price - \\\n",
        "(original_price * discount_rate / 100)"
      ],
      "metadata": {
        "id": "fgEnadvrfEiE"
      },
      "execution_count": 63,
      "outputs": []
    },
    {
      "cell_type": "code",
      "source": [
        "# 결과 출력\n",
        "print(f\"할인된 가격은 {int(discounted_price)}원 입니다.\")"
      ],
      "metadata": {
        "colab": {
          "base_uri": "https://localhost:8080/"
        },
        "id": "jmqaqfTefzLJ",
        "outputId": "76b4c22d-8850-4d30-9a3d-8051ebe3eb4b"
      },
      "execution_count": 65,
      "outputs": [
        {
          "output_type": "stream",
          "name": "stdout",
          "text": [
            "할인된 가격은 18000원 입니다.\n"
          ]
        }
      ]
    },
    {
      "cell_type": "markdown",
      "source": [
        "## 7번(실습 3)\n",
        "1. 사용자 입력 받기:\n",
        "input() 함수를 사용하여 사용자의 이름과 나이를 입력받습니다.  \n",
        "2. 문자열을 숫자로 변환:\n",
        "입력받은 나이(문자열)를 int() 함수를 사용하여 정수로 변환합니다.  \n",
        "3. 산술 연산 수행:\n",
        "변환된 나이에 1을 더하여 다음 해의 나이를 계산합니다.  \n",
        "4. 문자열 길이 계산:\n",
        "len() 함수를 사용하여 사용자 이름의 길이를 계산합니다.  \n",
        "5. 성인 여부 판단:\n",
        "나이를 기준으로 성인 여부를 판단하여 불리언 값으로 표시합니다. (예: 18세 이상이면 True, 그렇지 않으면 False)  \n",
        "6. 결과 출력:\n",
        "계산된 나이, 이름의 길이, 성인 여부를 print() 함수를 사용하여 출력합니다."
      ],
      "metadata": {
        "id": "9JsoWRbRgwoD"
      }
    },
    {
      "cell_type": "code",
      "source": [
        "# 1,2단계\n",
        "name = input(\"이름을 입력하세요: \")\n",
        "age = int(input(\"나이를 입력하세요: \"))"
      ],
      "metadata": {
        "colab": {
          "base_uri": "https://localhost:8080/"
        },
        "id": "fGC-cIfWhDK3",
        "outputId": "3a41cb44-796e-4440-fec8-391a8bf0f09f"
      },
      "execution_count": 81,
      "outputs": [
        {
          "name": "stdout",
          "output_type": "stream",
          "text": [
            "이름을 입력하세요: 남궁 꺽정\n",
            "나이를 입력하세요: 5\n"
          ]
        }
      ]
    },
    {
      "cell_type": "code",
      "source": [
        "# 3, 4, 5단계\n",
        "age += 1\n",
        "name_len = len(name.replace(\" \", \"\")) # 이름 공백 제거해줌\n",
        "adult = bool(age >= 18)"
      ],
      "metadata": {
        "id": "c1z8zkXhhQwU"
      },
      "execution_count": 82,
      "outputs": []
    },
    {
      "cell_type": "code",
      "source": [
        "# 6단계 출력\n",
        "print(f\"나이는 {age}살, 이름은 {name_len}자,\\\n",
        " 성인 여부는 {adult}입니다.\")"
      ],
      "metadata": {
        "colab": {
          "base_uri": "https://localhost:8080/"
        },
        "id": "snY7oUXphjjN",
        "outputId": "7ce3e71d-b90d-48a8-f28d-f47310776274"
      },
      "execution_count": 84,
      "outputs": [
        {
          "output_type": "stream",
          "name": "stdout",
          "text": [
            "나이는 6살, 이름은 4자, 성인 여부는 False입니다.\n"
          ]
        }
      ]
    },
    {
      "cell_type": "markdown",
      "source": [
        "# 개인 test"
      ],
      "metadata": {
        "id": "-IhMkhPMTLW_"
      }
    },
    {
      "cell_type": "code",
      "source": [
        "# 계산식으로 표현된 정수형 값도 동일값으로 처리되는지\n",
        "\n",
        "test1 = [1, 2, 3]\n",
        "print((1+2) in test1)"
      ],
      "metadata": {
        "colab": {
          "base_uri": "https://localhost:8080/"
        },
        "id": "xj6IUuD3Sq5B",
        "outputId": "fd844350-07b6-4dad-d623-7126f1b9d5ff"
      },
      "execution_count": 41,
      "outputs": [
        {
          "output_type": "stream",
          "name": "stdout",
          "text": [
            "True\n"
          ]
        }
      ]
    },
    {
      "cell_type": "code",
      "source": [
        "# 리스트를 재할당했을때 id값이 같다고 판단되는지\n",
        "\n",
        "test2 = test1\n",
        "print(test2[0] is test1[0])\n",
        "print(id(test2[0]), id(test1[0]))"
      ],
      "metadata": {
        "colab": {
          "base_uri": "https://localhost:8080/"
        },
        "id": "PblCaWFFSz-4",
        "outputId": "0735002b-a34a-4c76-c6e9-af72b3b7f7a2"
      },
      "execution_count": 47,
      "outputs": [
        {
          "output_type": "stream",
          "name": "stdout",
          "text": [
            "True\n",
            "134762430660848 134762430660848\n"
          ]
        }
      ]
    }
  ]
}