{
  "nbformat": 4,
  "nbformat_minor": 0,
  "metadata": {
    "colab": {
      "provenance": []
    },
    "kernelspec": {
      "name": "python3",
      "display_name": "Python 3"
    },
    "language_info": {
      "name": "python"
    }
  },
  "cells": [
    {
      "cell_type": "markdown",
      "source": [
        "# 4번\n",
        "```\n",
        "다음 변수 a를 print(type(a))로 넣었을 때 출력될 값과의 연결이 알맞지 않은 것은?\n",
        "\n",
        "1)  입력 : a =1,   출력 : class 'int'\n",
        "2)  입력 : a = 2.22,   출력 : class 'float'\n",
        "3)  입력 : a = 'p',   출력 : class 'char'\n",
        "4)  입력 : a = [1, 2, 3],   출력 : class 'list'\n",
        "```"
      ],
      "metadata": {
        "id": "qVv5R71AlmXx"
      }
    },
    {
      "cell_type": "markdown",
      "source": [
        "답: 3번. 'str'로 출력되어야 한다."
      ],
      "metadata": {
        "id": "9-Z6Qvl3l_rR"
      }
    },
    {
      "cell_type": "markdown",
      "source": [
        "# 6번\n",
        "```\n",
        "다음은 파이썬 문법 중에서 False로 취급하는 것들 입니다.\n",
        "앗, False로 취급하지 않는 것이 하나 있네요! True를 찾아주세요.\n",
        "\n",
        "1)  None\n",
        "2)  1\n",
        "3)  \"\"\n",
        "4)  0\n",
        "5)  bool(0)\n",
        "```\n",
        "\n"
      ],
      "metadata": {
        "id": "-arjS2EKl0I7"
      }
    },
    {
      "cell_type": "markdown",
      "source": [
        "답: 2번. 1은 True와 같기 때문."
      ],
      "metadata": {
        "id": "aCbqICQDmV1v"
      }
    },
    {
      "cell_type": "markdown",
      "source": [
        "# 7번\n",
        "```\n",
        "다음 중 변수명으로 사용할 수 없는 것 2개를 고르시오.\n",
        "\n",
        "1)  age\n",
        "2)  a\n",
        "3)  as\n",
        "4)  _age\n",
        "5)  1age\n",
        "```"
      ],
      "metadata": {
        "id": "f8g1pALhl3Od"
      }
    },
    {
      "cell_type": "markdown",
      "source": [
        "답: 3, 5번. 5번은 숫자로 시작하기 떄문, 3번은 파이썬 문법에 쓰여서 안될것같음."
      ],
      "metadata": {
        "id": "V4Rg-JvTm8k-"
      }
    },
    {
      "cell_type": "markdown",
      "source": [
        "# 16번\n",
        "문장이 입력되면 거꾸로 출력하는 프로그램을 만들어 봅시다."
      ],
      "metadata": {
        "id": "sHhoz3XYl3c2"
      }
    },
    {
      "cell_type": "code",
      "source": [
        "logguggeo = input(\"문장을 입력하여라: \")\n",
        "print(logguggeo[::-1])"
      ],
      "metadata": {
        "colab": {
          "base_uri": "https://localhost:8080/"
        },
        "id": "xdWnenoFnYhO",
        "outputId": "41a2c432-0cd1-4aa1-9589-368c8abfe4cc"
      },
      "execution_count": null,
      "outputs": [
        {
          "output_type": "stream",
          "name": "stdout",
          "text": [
            "문장을 입력하여라: 로꾸꺼\n",
            "꺼꾸로\n"
          ]
        }
      ]
    },
    {
      "cell_type": "markdown",
      "source": [
        "# 22번\n",
        "```\n",
        "다음 중 변수 i가 6의 배수인지 확인하는 방법으로 올바른 것은?\n",
        "\n",
        "1)  i / 6 == 0\n",
        "2)  i % 6 == 0\n",
        "3)  i & 6 == 0\n",
        "4)  i | 6 == 0\n",
        "5)  i // 6 == 0\n",
        "```"
      ],
      "metadata": {
        "id": "B2UIwnlrl78N"
      }
    },
    {
      "cell_type": "markdown",
      "source": [
        "답: 2번. %는 나머지 연산자이기 때문에 i % 6은 i를 6으로 나눈 다음의 나머지다. 나머지가 0 이라면 6의 배수라는 소리."
      ],
      "metadata": {
        "id": "zUoo5EODn0us"
      }
    },
    {
      "cell_type": "markdown",
      "source": [
        "# 24번\n",
        "민지는 국제 포럼에서 아르바이트를 하게 되었습니다. 민지는 각 국에서 온 참가자들의 명단을 엑셀로 정리하고 있는데 참가자들 이름이 어떤 이는 전부 소문자, 어떤 이는 전부 대문자로 써져 있는 등 형식이 제각각이었습니다.\n",
        "\n",
        "민지를 위해 이름이 입력되면 전부 대문자로 출력되는 프로그램을 만들어주세요."
      ],
      "metadata": {
        "id": "DBRD98MCl8EI"
      }
    },
    {
      "cell_type": "code",
      "source": [
        "minji_fighting = input(\"이름을 입력하세요: \")\n",
        "print(minji_fighting.upper())"
      ],
      "metadata": {
        "colab": {
          "base_uri": "https://localhost:8080/"
        },
        "id": "msCns3HfoYZS",
        "outputId": "6f864d05-0fab-47d3-af7f-be4fbfa9730f"
      },
      "execution_count": null,
      "outputs": [
        {
          "output_type": "stream",
          "name": "stdout",
          "text": [
            "이름을 입력하세요: ji minkyung\n",
            "JI MINKYUNG\n"
          ]
        }
      ]
    },
    {
      "cell_type": "markdown",
      "source": [
        "# 30번\n",
        "문자 pineapple에는 apple이라는 문자가 숨어 있습니다. 원범이는 이렇듯 문자열 속에 숨어있는 문자를 찾아보려고 합니다.\n",
        "\n",
        "입력으로 첫 줄에 문자열이 주어지고 둘째 줄에 찾을 문자가 주어지면\n",
        "그 문자가 시작하는 index를 반환하는 프로그램을 만들어 주세요"
      ],
      "metadata": {
        "id": "CVt-oRral8KK"
      }
    },
    {
      "cell_type": "code",
      "source": [
        "s = input(\"문자를 입력하세요: \")\n",
        "s_find = input(\"찾을 문자를 입력하세요: \")\n",
        "result = s.find(s_find)\n",
        "\n",
        "print(result)"
      ],
      "metadata": {
        "colab": {
          "base_uri": "https://localhost:8080/"
        },
        "id": "ykJE71XAo2K5",
        "outputId": "295471e0-37c3-487c-c72f-c150473cdbe8"
      },
      "execution_count": null,
      "outputs": [
        {
          "output_type": "stream",
          "name": "stdout",
          "text": [
            "문자를 입력하세요: cookierun\n",
            "찾을 문자를 입력하세요: run\n",
            "6\n"
          ]
        }
      ]
    },
    {
      "cell_type": "markdown",
      "source": [
        "# 31번\n",
        "```\n",
        "다음 리스트의 내장함수의 시간 복잡도가 O(1)이 아닌것은?\n",
        "\n",
        "1)  l[i]\n",
        "2)  l.append(5)\n",
        "3)  l[a:b]\n",
        "4)  l.pop()\n",
        "5)  l.clear()\n",
        "```"
      ],
      "metadata": {
        "id": "lhfgYxXxl8QF"
      }
    },
    {
      "cell_type": "markdown",
      "source": [
        "모르겠습니다!"
      ],
      "metadata": {
        "id": "Fz37UaSYqFlI"
      }
    },
    {
      "cell_type": "markdown",
      "source": [
        ">**답: 3번**"
      ],
      "metadata": {
        "id": "ysNxt1IkqI9Y"
      }
    },
    {
      "cell_type": "markdown",
      "source": [
        "# 32번\n",
        "취업 준비생인 혜림이는 자기소개서를 쓰고 있습니다. 열심히 자기소개서를 작성하던 도중 혜림이는 자기가 지금까지 단어를 얼마나 적었는지 궁금하게 됩니다.\n",
        "\n",
        "혜림이를 위해 문자열을 입력받으면 단어의 갯수를 출력하는 프로그램을 작성해 주세요."
      ],
      "metadata": {
        "id": "n5OTsm5Cl8Vi"
      }
    },
    {
      "cell_type": "code",
      "source": [
        "hyerim_fighting = input(\"문자를 입력하세요: \")\n",
        "word_num = hyerim_fighting.split()\n",
        "print(word_num)\n",
        "\n",
        "print(len(word_num))"
      ],
      "metadata": {
        "colab": {
          "base_uri": "https://localhost:8080/"
        },
        "id": "a60M5Yuhm3QD",
        "outputId": "384e6d5f-75e8-4b92-868a-bfa4d82211d2"
      },
      "execution_count": null,
      "outputs": [
        {
          "output_type": "stream",
          "name": "stdout",
          "text": [
            "문자를 입력하세요: 안녕하새우. 혜림이 화이팅!\n",
            "['안녕하새우.', '혜림이', '화이팅!']\n",
            "3\n"
          ]
        }
      ]
    }
  ]
}