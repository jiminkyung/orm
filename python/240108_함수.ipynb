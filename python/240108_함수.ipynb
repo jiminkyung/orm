{
  "nbformat": 4,
  "nbformat_minor": 0,
  "metadata": {
    "colab": {
      "provenance": []
    },
    "kernelspec": {
      "name": "python3",
      "display_name": "Python 3"
    },
    "language_info": {
      "name": "python"
    }
  },
  "cells": [
    {
      "cell_type": "markdown",
      "source": [
        "# 1. 함수와 인사하기"
      ],
      "metadata": {
        "id": "1T_Qd6PMqeZ9"
      }
    },
    {
      "cell_type": "code",
      "source": [
        "# 1.1 함수 만들어보기\n",
        "\n",
        "def jimmy(): # def -> 이건 함수 -> jimmy 함수의 이름 + () -> \":\""
      ],
      "metadata": {
        "id": "uWrrvF8Fs0I_"
      },
      "execution_count": null,
      "outputs": []
    },
    {
      "cell_type": "code",
      "source": [
        "# 1.2 들여쓰기\n",
        "\n",
        "def my_function():\n",
        "    print(\"Hello!\")  # 4칸을 띄우는것 -> 함수의 본문을 적는 것\n",
        "    print(\"비투더아투더뱀뱀\")\n",
        "    print(\"Bye Bye\")\n",
        "\n",
        "# 함수의 실행\n",
        "my_function()  # 실행을 할 때는 def와 :은 필요없다. -> 함수의 본문이 실행된다."
      ],
      "metadata": {
        "colab": {
          "base_uri": "https://localhost:8080/"
        },
        "id": "N5Hud9RbtR_5",
        "outputId": "105670c5-c92f-4504-d229-051adc6ad581"
      },
      "execution_count": 3,
      "outputs": [
        {
          "output_type": "stream",
          "name": "stdout",
          "text": [
            "Hello!\n",
            "비투더아투더뱀뱀\n",
            "Bye Bye\n"
          ]
        }
      ]
    },
    {
      "cell_type": "code",
      "source": [
        "# 들여쓰기를 안했을때?\n",
        "\n",
        "def my_function():\n",
        "    print(\"Hello!\")\n",
        "    print(\"비투더아투더뱀뱀\")\n",
        "print(\"Bye Bye\")\n",
        "\n",
        "# 함수의 실행\n",
        "my_function()"
      ],
      "metadata": {
        "colab": {
          "base_uri": "https://localhost:8080/"
        },
        "id": "KKW4z8a5tqx9",
        "outputId": "1b70761a-0ef5-4dc8-87d0-e82757a513ab"
      },
      "execution_count": 6,
      "outputs": [
        {
          "output_type": "stream",
          "name": "stdout",
          "text": [
            "Bye Bye\n",
            "Hello!\n",
            "비투더아투더뱀뱀\n"
          ]
        }
      ]
    },
    {
      "cell_type": "markdown",
      "source": [
        "들여쓰기를 맞추거나, 아예 함수 바깥에 작성하거나. 이도저도 아니면 오류만 나고 실행이 안된다!"
      ],
      "metadata": {
        "id": "X1C7LoWeugN9"
      }
    },
    {
      "cell_type": "markdown",
      "source": [
        "# 2. 함수 만들기"
      ],
      "metadata": {
        "id": "DxJGXl8hGxAj"
      }
    },
    {
      "cell_type": "code",
      "source": [
        "def jimmy(x, y): # 함수 생성(받을 값=파라미터)\n",
        "    z = x * y  # 기능 작성\n",
        "    return z  # 반환값과 함께 함수 종료\n",
        "\n",
        "print(f\"jimmy(3, 2)= {jimmy(3, 2)}\") # 원하는 값을 넣어 함수 실행"
      ],
      "metadata": {
        "colab": {
          "base_uri": "https://localhost:8080/"
        },
        "id": "EMpa95CLva24",
        "outputId": "6ecce6d8-88ea-4502-9850-46a31fabf140"
      },
      "execution_count": 9,
      "outputs": [
        {
          "output_type": "stream",
          "name": "stdout",
          "text": [
            "jimmy(3, 2)= 6\n"
          ]
        }
      ]
    },
    {
      "cell_type": "markdown",
      "source": [
        "- 함수 안에 아무 코드를 넣지 않을때는 `pass`키워드를 넣어서 임시로 값을 넣어준다.\n",
        "```\n",
        "def function():\n",
        "    pass\n",
        "```\n",
        "- 선언 다음에 바로 return으로 값을 반환해줄수도 있다.\n",
        "```\n",
        "def function(x, y):\n",
        "    return x + y\n",
        "```"
      ],
      "metadata": {
        "id": "TJIgZdEV2y29"
      }
    },
    {
      "cell_type": "code",
      "source": [
        "def jimmy(x, y):\n",
        "    z = x * y\n",
        "    # return이 없으면 아무런 값도 나오지 않음. None 출력됨.\n",
        "\n",
        "# 1. return을 함수 내에 지정하지 않았을 때 = None\n",
        "print(f\"jimmy(3, 2)= {jimmy(3, 2)}\")\n",
        "\n",
        "# 2. print()문을 사용하지 않았을 때 = 아무것도 출력 X\n",
        "jimmy(10, 9)"
      ],
      "metadata": {
        "colab": {
          "base_uri": "https://localhost:8080/"
        },
        "id": "frXUfvPO42xk",
        "outputId": "8ec8e1cb-8f83-4108-a710-22ebf4189078"
      },
      "execution_count": 13,
      "outputs": [
        {
          "output_type": "stream",
          "name": "stdout",
          "text": [
            "jimmy(3, 2)= None\n"
          ]
        }
      ]
    },
    {
      "cell_type": "code",
      "source": [
        "# 2.1 입력 매개변수가 없고 반환값도 없는 함수\n",
        "def simple_function():\n",
        "    print('hello world')\n",
        "# 함수 호출\n",
        "print(simple_function())"
      ],
      "metadata": {
        "colab": {
          "base_uri": "https://localhost:8080/"
        },
        "id": "HQaztEkZ7UyN",
        "outputId": "8fe1a311-51f8-4262-e0ee-3fccde00404b"
      },
      "execution_count": 15,
      "outputs": [
        {
          "output_type": "stream",
          "name": "stdout",
          "text": [
            "hello world\n",
            "None\n"
          ]
        }
      ]
    },
    {
      "cell_type": "code",
      "source": [
        "# 2.2 파라미터가 없고, 반환값은 있는 함수\n",
        "def give_me_five():\n",
        "    return 5\n",
        "# 함수 호출\n",
        "result = give_me_five()\n",
        "print(result) # 출력: 5 # 매개변수가 없어도 5를 반환해준다."
      ],
      "metadata": {
        "colab": {
          "base_uri": "https://localhost:8080/"
        },
        "id": "8iBJerXe80XX",
        "outputId": "c63778f4-1622-448f-e316-b3f7019fb117"
      },
      "execution_count": 17,
      "outputs": [
        {
          "output_type": "stream",
          "name": "stdout",
          "text": [
            "5\n"
          ]
        }
      ]
    },
    {
      "cell_type": "code",
      "source": [
        "# 2.3 입력 매개변수가 있고, 반환 값이 없는 함수\n",
        "def greeting(name):\n",
        "    print(f\"Hello, {name}\")\n",
        "\n",
        "greeting(\"Jimmy\")\n",
        " # Hello, Jimmy(name)이 출력되지만,\n",
        " # 반환값이 없기 때문에 print를 사용해서 호출 시 None이 함께 출력된다."
      ],
      "metadata": {
        "colab": {
          "base_uri": "https://localhost:8080/"
        },
        "id": "37zrTsaO-EOt",
        "outputId": "57b3e443-c2c5-42bf-e39a-557f367b29e8"
      },
      "execution_count": 18,
      "outputs": [
        {
          "output_type": "stream",
          "name": "stdout",
          "text": [
            "Hello, Jimmy\n"
          ]
        }
      ]
    },
    {
      "cell_type": "code",
      "source": [
        "print(greeting(\"Jimmy\"))"
      ],
      "metadata": {
        "colab": {
          "base_uri": "https://localhost:8080/"
        },
        "id": "IeqQbRYQCYZx",
        "outputId": "ad575ac5-724a-469d-d3c7-117833e9760b"
      },
      "execution_count": 19,
      "outputs": [
        {
          "output_type": "stream",
          "name": "stdout",
          "text": [
            "Hello, Jimmy\n",
            "None\n"
          ]
        }
      ]
    },
    {
      "cell_type": "code",
      "source": [
        "# 2.4 입력 매개변수가 있고, 반환 값이 있는 함수\n",
        "def add_nums(x, y):\n",
        "    sum = x + y\n",
        "    return sum\n",
        "\n",
        "# 함수 호출\n",
        "result = add_nums(5, 3) # x =5, y =3 대입\n",
        "print(result) # 출력: 5 # sum = 5+3 이고 return sum이니 5를 반환함."
      ],
      "metadata": {
        "colab": {
          "base_uri": "https://localhost:8080/"
        },
        "id": "OpWtwzUOErUo",
        "outputId": "6d264b60-62c2-4486-dbba-4d972cf4c3b6"
      },
      "execution_count": 21,
      "outputs": [
        {
          "output_type": "stream",
          "name": "stdout",
          "text": [
            "8\n"
          ]
        }
      ]
    },
    {
      "cell_type": "markdown",
      "source": [
        "**None의 출력 유/무 기준이 뭔지 생각해보자**"
      ],
      "metadata": {
        "id": "VBmjIWB9Cbm4"
      }
    },
    {
      "cell_type": "code",
      "source": [
        "print(print(\"Wow\"))\n",
        "# print도 ()안에 매개변수를 받는 함수이기 때문에,\n",
        "# 안에 있는 print 함수가 실행되고 Wow가 출력,\n",
        "# 바깥의 print 함수는 실행할 매개변수가 없기 때문에 None이 출력된다."
      ],
      "metadata": {
        "colab": {
          "base_uri": "https://localhost:8080/"
        },
        "id": "51gR9IAEE6-t",
        "outputId": "2b23101b-22f5-4a6f-ff4d-b2abdf1ac0bd"
      },
      "execution_count": 23,
      "outputs": [
        {
          "output_type": "stream",
          "name": "stdout",
          "text": [
            "Wow\n",
            "None\n"
          ]
        }
      ]
    },
    {
      "cell_type": "markdown",
      "source": [
        "# 3. 아규먼트와 파라미터\n",
        "- 파라미터: **함수를 정의할 때 사용되는 변수**. 함수가 호출될 때 들어온 값을 변수에 할당하는 역할을 한다.\n",
        "- 아규먼트: **함수를 호출할 때 전달하는 실제 값**. 함수 호출 시 파라미터에 할당된다.  \n",
        "- 함수 안 - 파라미터, 함수 밖 - 아규먼트  \n",
        "로 생각하면 편하다.\n",
        "- **파라미터의 수 == 아규먼트의 수**"
      ],
      "metadata": {
        "id": "-9wVFBbtGTAr"
      }
    },
    {
      "cell_type": "code",
      "source": [
        "# 3.1 파라미터의 기본 사용\n",
        "\n",
        "def f(a, b, c):\n",
        "    print(a, b, c)\n",
        "\n",
        "f(100, 200, 300)\n",
        "f(100, c=300, b=200)\n",
        "f(a=100, b=200, c=300) # 출력: 100 200 300\n",
        "f(c=300, a=100, b=200) # 출력: 100 200 300"
      ],
      "metadata": {
        "colab": {
          "base_uri": "https://localhost:8080/"
        },
        "id": "_K3AKczpG2KP",
        "outputId": "eceb7008-241d-4fab-af95-5be0769d2322"
      },
      "execution_count": 26,
      "outputs": [
        {
          "output_type": "stream",
          "name": "stdout",
          "text": [
            "100 200 300\n",
            "100 200 300\n",
            "100 200 300\n",
            "100 200 300\n"
          ]
        }
      ]
    },
    {
      "cell_type": "code",
      "source": [
        "# 3.2 기본값을 가진 파라미터\n",
        "\n",
        "def f(a=10, b=20, c=30):\n",
        "    print(a, b, c)\n",
        "\n",
        "f() # 출력: 10 20 30\n",
        "f(100, 10) # 출력: 100 10 30\n",
        "f(a=100, b=200, c=300) # 출력: 100 200 300\n",
        "f(c=300, a=100, b=200) # 출력: 100 200 300"
      ],
      "metadata": {
        "colab": {
          "base_uri": "https://localhost:8080/"
        },
        "id": "v8_oGqr0Hx8g",
        "outputId": "cb733c53-e20e-4772-b4a9-40e1f9bb6021"
      },
      "execution_count": 27,
      "outputs": [
        {
          "output_type": "stream",
          "name": "stdout",
          "text": [
            "10 20 30\n",
            "100 10 30\n",
            "100 200 300\n",
            "100 200 300\n"
          ]
        }
      ]
    },
    {
      "cell_type": "markdown",
      "source": [
        "기본값이 설정되어있기 때문에, 파라미터와 아규먼트의 수가 맞지 않아도 정상 출력된다!"
      ],
      "metadata": {
        "id": "dYphlS5jIwa8"
      }
    },
    {
      "cell_type": "code",
      "source": [
        "# 3.3 일부 파라미터만 기본값을 가질 때\n",
        "\n",
        "# 잘못된 예\n",
        "# 기본값이 없는 파라미터가 뒤에 나오면 안됨!\n",
        "def f(a=10, b=20, c):\n",
        "    print(a, b, c) # error\n",
        "\n",
        "# 올바른 예\n",
        "def f(a, b=20, c=10):\n",
        "    print(a, b, c)\n",
        "\n",
        "f(100, 10) # 출력: 100 10 10\n",
        "f(a=100, b=200, c=300) # 출력: 100 200 300\n",
        "f(c=300, a=100, b=200) # 출력: 100 200 300"
      ],
      "metadata": {
        "id": "Dwz622KNJamS"
      },
      "execution_count": null,
      "outputs": []
    },
    {
      "cell_type": "markdown",
      "source": [
        "- 기본값이 없는 파라미터는 앞에 와야한다.\n",
        "- 기본값이 없는 파라미터에는 반드시 값을 전달해야 한다."
      ],
      "metadata": {
        "id": "taNT8aWBJ8gM"
      }
    },
    {
      "cell_type": "code",
      "source": [
        "# 3.4 컨벤션 자료형을 아규먼트로 넣었을 때\n",
        "\n",
        "def add_element(my_list):\n",
        "    my_list.append(1)\n",
        "\n",
        "a = [2, 3, 4]\n",
        "add_element(a) # a의 값 [2,3,4] 뒤에 1 추가(append)\n",
        "print(a)  # 출력: [2, 3, 4, 1]"
      ],
      "metadata": {
        "colab": {
          "base_uri": "https://localhost:8080/"
        },
        "id": "Jj5EKc8BKUky",
        "outputId": "60474d80-4d93-44db-9c1c-8ade6853480f"
      },
      "execution_count": 29,
      "outputs": [
        {
          "output_type": "stream",
          "name": "stdout",
          "text": [
            "[2, 3, 4, 1]\n"
          ]
        }
      ]
    },
    {
      "cell_type": "code",
      "source": [
        "# 주소 확인\n",
        "def add_element(my_list):\n",
        "    my_list.append(1)\n",
        "    print(id(my_list))\n",
        "\n",
        "a = [2, 3, 4]\n",
        "add_element(a)\n",
        "print(id(a))\n",
        "print(a)"
      ],
      "metadata": {
        "colab": {
          "base_uri": "https://localhost:8080/"
        },
        "id": "oXTWuj0UK7tx",
        "outputId": "bd7a1b20-178b-41b1-f54c-4365b53620da"
      },
      "execution_count": 31,
      "outputs": [
        {
          "output_type": "stream",
          "name": "stdout",
          "text": [
            "137776360102528\n",
            "137776360102528\n",
            "[2, 3, 4, 1]\n"
          ]
        }
      ]
    },
    {
      "cell_type": "code",
      "source": [
        "def add_element(my_list):\n",
        "    my_list = 10\n",
        "    print(id(my_list)) # 출력: 137776773333520\n",
        "\n",
        "a = [2, 3, 4]\n",
        "add_element(a)\n",
        "print(id(a)) # 출력: 137775503349440\n",
        "print(a)  # 출력: [2, 3, 4]"
      ],
      "metadata": {
        "colab": {
          "base_uri": "https://localhost:8080/"
        },
        "id": "-VFUI3kdLlxD",
        "outputId": "fa732a66-7cab-40fb-bac3-e9504996f546"
      },
      "execution_count": 34,
      "outputs": [
        {
          "output_type": "stream",
          "name": "stdout",
          "text": [
            "137776773333520\n",
            "137775503503808\n",
            "[2, 3, 4]\n"
          ]
        }
      ]
    },
    {
      "cell_type": "code",
      "source": [
        "# 3.4 권장되지 않는 기본값\n",
        "\n",
        "# 권장하지 않는 방법\n",
        "def append_to_list(value, lst=[]):\n",
        "    lst.append(value)\n",
        "    # lst_update = lst # 추천방법\n",
        "    return lst # 예상치 못한 결과가 발생할 수 있습니다."
      ],
      "metadata": {
        "id": "8c2BqzibMQT1"
      },
      "execution_count": 3,
      "outputs": []
    },
    {
      "cell_type": "code",
      "source": [
        "append_to_list(1) # 출력: lst = [1]\n",
        "append_to_list(2) # 출력: [1, 2],\n",
        "# 그러나 결과가 [2]가 나올것으로 예상할수도 있습니다."
      ],
      "metadata": {
        "colab": {
          "base_uri": "https://localhost:8080/"
        },
        "id": "WU470n2CfSAP",
        "outputId": "4d2300d1-55aa-4ba6-a247-c1300c0e3c9f"
      },
      "execution_count": 4,
      "outputs": [
        {
          "output_type": "execute_result",
          "data": {
            "text/plain": [
              "[1, 2]"
            ]
          },
          "metadata": {},
          "execution_count": 4
        }
      ]
    },
    {
      "cell_type": "code",
      "source": [
        "# 권장 방법\n",
        "def append_to_list(value, lst=None):\n",
        "    if lst is None:\n",
        "        lst = []\n",
        "    lst.append(value)\n",
        "    return lst"
      ],
      "metadata": {
        "id": "RZEwrzg4fiMM"
      },
      "execution_count": 5,
      "outputs": []
    },
    {
      "cell_type": "code",
      "source": [
        "append_to_list(1) # 결과: [1]\n",
        "append_to_list(2) # 결과: [2]"
      ],
      "metadata": {
        "colab": {
          "base_uri": "https://localhost:8080/"
        },
        "id": "wWB3iTiJflzK",
        "outputId": "6c322aea-c65b-4aa3-b8c7-7bee5cf1840f"
      },
      "execution_count": 6,
      "outputs": [
        {
          "output_type": "execute_result",
          "data": {
            "text/plain": [
              "[2]"
            ]
          },
          "metadata": {},
          "execution_count": 6
        }
      ]
    },
    {
      "cell_type": "markdown",
      "source": [
        "기본값이 변경 가능한 객체일때는 주의해야하며, 위와 같은 방법을 사용하는것이 좋다."
      ],
      "metadata": {
        "id": "47A78KMcfqUJ"
      }
    },
    {
      "cell_type": "markdown",
      "source": [
        "# 4. 지역변수와 전역변수"
      ],
      "metadata": {
        "id": "uQ2C0hofgruE"
      }
    },
    {
      "cell_type": "code",
      "source": [
        "# 지역변수 사용 예시\n",
        "def f():\n",
        "    # 강원도의 지역화폐는 -> 경기도에서 사용 불가,\n",
        "    # 미국 달러 -> 한국 원으로 대체해서 살 수 없는것과 비슷함.\n",
        "    a = 1 # 이 변수는 f() 내에서만 정의! 바깥에서는 사용 불가능.\n",
        "    print(a)  # 출력: 1\n",
        "\n",
        "f()\n",
        "print(a)  # error: a는 f 함수 내부에서만 정의되었습니다."
      ],
      "metadata": {
        "id": "q5Q6vSkRhCGU"
      },
      "execution_count": null,
      "outputs": []
    },
    {
      "cell_type": "code",
      "source": [
        "# 위의 예시 해결방법\n",
        "# 1. 전역변수로 설정\n",
        "# 2. return a로 a를 반환해주기"
      ],
      "metadata": {
        "id": "rNGfkvRZjOGW"
      },
      "execution_count": 9,
      "outputs": []
    },
    {
      "cell_type": "markdown",
      "source": [
        "오류에 대해서 '어떻게 해결하지?'라고 생각해봐야 한다."
      ],
      "metadata": {
        "id": "ma7zjPUXjmLs"
      }
    },
    {
      "cell_type": "code",
      "source": [
        "# 전역 변수\n",
        "test = 1\n",
        "\n",
        "# 지역 변수 (함수 내에 사용한 변수!)"
      ],
      "metadata": {
        "id": "dmXg-8fFhyNn"
      },
      "execution_count": null,
      "outputs": []
    },
    {
      "cell_type": "code",
      "source": [
        "def f():\n",
        "    a = 1 # 지역변수\n",
        "    b = \"hello\"\n",
        "    def ff():\n",
        "        pass\n",
        "    print(locals()) # 출력: {'a': 1} # 지역변수가 어떤게 있는지 확인\n",
        "f()\n",
        "# ff() 는 지역변수이기 때문에 바깥에서 실행 불가능"
      ],
      "metadata": {
        "colab": {
          "base_uri": "https://localhost:8080/"
        },
        "id": "6E1ZnTCnjwIu",
        "outputId": "40651163-0fec-4da1-b542-daadaac69ab7"
      },
      "execution_count": 12,
      "outputs": [
        {
          "output_type": "stream",
          "name": "stdout",
          "text": [
            "{'a': 1, 'b': 'hello', 'ff': <function f.<locals>.ff at 0x7c5c89c17eb0>}\n"
          ]
        }
      ]
    },
    {
      "cell_type": "markdown",
      "source": [
        "- 전역변수 설정법: `global` 사용. 하지만 추천하지 않음."
      ],
      "metadata": {
        "id": "CktUHpD3kBs2"
      }
    },
    {
      "cell_type": "code",
      "source": [
        "# global 함수 전역변수 지정\n",
        "a = 100\n",
        "\n",
        "def f():\n",
        "    global a # 이 구문으로 a를 바깥에서도 사용(전역변수 지정)\n",
        "    a = a + 1\n",
        "\n",
        "f()\n",
        "print(a)  # 출력: 101, 함수 f 내에서 전역 변수 a가 수정되었습니다."
      ],
      "metadata": {
        "colab": {
          "base_uri": "https://localhost:8080/"
        },
        "id": "tMiKZxdqk2tJ",
        "outputId": "39a905d3-22b5-4e86-ea1b-3661249ef53e"
      },
      "execution_count": 17,
      "outputs": [
        {
          "output_type": "stream",
          "name": "stdout",
          "text": [
            "101\n"
          ]
        }
      ]
    },
    {
      "cell_type": "code",
      "source": [
        "a = 100\n",
        "\n",
        "def f():\n",
        "    a = 1000\n",
        "    print(a) # 출력: 1000\n",
        "\n",
        "f()"
      ],
      "metadata": {
        "colab": {
          "base_uri": "https://localhost:8080/"
        },
        "id": "5CoTbQhYlJIl",
        "outputId": "483f84c2-7815-49c8-b820-bb905b0f04df"
      },
      "execution_count": 18,
      "outputs": [
        {
          "output_type": "stream",
          "name": "stdout",
          "text": [
            "1000\n"
          ]
        }
      ]
    },
    {
      "cell_type": "code",
      "source": [
        "\n",
        "def f():\n",
        "    a = 100\n",
        "    a = a + 1 # error\n",
        "    return a\n",
        "\n",
        "print(f())"
      ],
      "metadata": {
        "colab": {
          "base_uri": "https://localhost:8080/"
        },
        "id": "_hpDXJRzmI-K",
        "outputId": "274375a5-b750-48fc-a0a7-726e23dd2ebd"
      },
      "execution_count": 22,
      "outputs": [
        {
          "output_type": "stream",
          "name": "stdout",
          "text": [
            "101\n"
          ]
        }
      ]
    },
    {
      "cell_type": "markdown",
      "source": [
        "문제를 수정하는 것 자체는 쉽다.  \n",
        "'왜' 이 문제가 발생했는가? 에 대해 고민해보자."
      ],
      "metadata": {
        "id": "lXXwQcIVm7Q9"
      }
    },
    {
      "cell_type": "markdown",
      "source": [
        "# 5. 함수에서 pass 사용하기"
      ],
      "metadata": {
        "id": "RE714yutqzSC"
      }
    },
    {
      "cell_type": "code",
      "source": [
        "# 사용방법\n",
        "def test():\n",
        "    pass\n",
        "# 아무것도 적고 싶지 않을 때 pass 키워드를 써줘야한다."
      ],
      "metadata": {
        "id": "T-Ckw1nHq2Pp"
      },
      "execution_count": 23,
      "outputs": []
    },
    {
      "cell_type": "markdown",
      "source": [
        "# 6. 빌트인 함수(내장함수)\n",
        "- 파이썬 언어에 기본적으로 포함되어 있는 함수들\n",
        "- 추가적인 코드를 적지 않고 사용할 수 있다."
      ],
      "metadata": {
        "id": "wBE7lZCkrKF-"
      }
    },
    {
      "cell_type": "markdown",
      "source": [
        "## 6.1 all, any\n",
        "- iterable(반복 가능한) 객체(예: 리스트, 튜플, 문자열 등)를 인수로 받아, 그 안에 있는 모든 요소가 True로 평가되면 True를 반환하고, 그렇지 않으면 False를 반환"
      ],
      "metadata": {
        "id": "tpxN5S9GrR9P"
      }
    },
    {
      "cell_type": "code",
      "source": [
        "# all\n",
        "# 모두 다 True여야 True 반환\n",
        "# 마치 and와 비슷하다.\n",
        "all([True, True, True]) # 출력: Ture\n",
        "all([True, True, False]) # 출력: False\n",
        "all([1, 1, 1, 0]) # 출력: False\n",
        "all([1, 0, 1, 1]) # 출력: False\n",
        "all([1, 100, 10, -1]) # 출력: True"
      ],
      "metadata": {
        "colab": {
          "base_uri": "https://localhost:8080/"
        },
        "id": "LPAZVckPryxc",
        "outputId": "970b5e9f-f47a-48cb-ef8b-6b3e0e12c227"
      },
      "execution_count": 25,
      "outputs": [
        {
          "output_type": "execute_result",
          "data": {
            "text/plain": [
              "True"
            ]
          },
          "metadata": {},
          "execution_count": 25
        }
      ]
    },
    {
      "cell_type": "code",
      "source": [
        "# any\n",
        "# 하나라도 True이면 True이다.\n",
        "# or 과 비슷\n",
        "any([True, False, False]) # 출력: True\n",
        "any([False, False, False]) # 출력: False"
      ],
      "metadata": {
        "colab": {
          "base_uri": "https://localhost:8080/"
        },
        "id": "dKqJtpNXr17G",
        "outputId": "3fdd2798-b453-4548-fcd9-37c0ddc0ca7c"
      },
      "execution_count": 26,
      "outputs": [
        {
          "output_type": "execute_result",
          "data": {
            "text/plain": [
              "False"
            ]
          },
          "metadata": {},
          "execution_count": 26
        }
      ]
    },
    {
      "cell_type": "markdown",
      "source": [
        "## 6.3 map\n",
        "```\n",
        "기본구조\n",
        "map(함수, 리스트 혹은 튜플)\n",
        "```\n",
        "- map() 함수는 기존의 리스트(또는 튜플)의 모든 요소에 특정 함수를 적용한 결과를 map 객체 형태로 반환하는 함수입니다. map 객체는 다시 list()를 이용해 리스트 형태로 변환할 수 있습니다."
      ],
      "metadata": {
        "id": "zW66glCssG1r"
      }
    },
    {
      "cell_type": "code",
      "source": [
        "# 첫번째 방법\n",
        "def 제곱(x):\n",
        "    return x ** 2\n",
        "list(map(제곱, [1, 2, 3, 4])) # 출력: [1, 4, 9, 16]"
      ],
      "metadata": {
        "colab": {
          "base_uri": "https://localhost:8080/"
        },
        "id": "G4_upBRQse1F",
        "outputId": "7e4980f2-1ffd-4bc6-e6ae-813ad24f5fe5"
      },
      "execution_count": 27,
      "outputs": [
        {
          "output_type": "execute_result",
          "data": {
            "text/plain": [
              "[1, 4, 9, 16]"
            ]
          },
          "metadata": {},
          "execution_count": 27
        }
      ]
    },
    {
      "cell_type": "code",
      "source": [
        "# 두번째 방법\n",
        "list(map(lambda x : x ** 2, [1, 2, 3, 4])) # 출력: [1, 4, 9, 16]"
      ],
      "metadata": {
        "colab": {
          "base_uri": "https://localhost:8080/"
        },
        "id": "IjtIDCK-stMP",
        "outputId": "a1339ac6-bf80-4732-e01f-fdfb8de8faa0"
      },
      "execution_count": 28,
      "outputs": [
        {
          "output_type": "execute_result",
          "data": {
            "text/plain": [
              "[1, 4, 9, 16]"
            ]
          },
          "metadata": {},
          "execution_count": 28
        }
      ]
    },
    {
      "cell_type": "markdown",
      "source": [
        "## 6.4 filter\n",
        "```\n",
        "기본문법\n",
        "filter(조건 함수, 리스트 또는 튜플)\n",
        "예제\n",
        "list(filter(lambda x : x > 50, range(100)))\n",
        "```\n",
        "- 순회할 수 있는 객체의 요소 중 특정 조건을 만족하는 요소만을 선택하여 반환합니다. 반환 값은 filter 객체 형태로 제공되며, 이를 다시 list()를 이용해 리스트 형태로 변환할 수 있습니다."
      ],
      "metadata": {
        "id": "cdN6Wz0GsvbP"
      }
    },
    {
      "cell_type": "markdown",
      "source": [
        "## 6.5 zip\n",
        "```\n",
        "기본문법\n",
        "zip(순회할 수 있는 객체1, 순회할 수 있는 객체2...)\n",
        "```\n",
        "- 여러 개의 순회 할 수 있는 객체의 요소를 묶어서 반환합니다. 다만 메모리의 효율을 위해 형변환이나 직접 순회를 하기 전까지는 메모리 주소로만 반환합니다."
      ],
      "metadata": {
        "id": "jATIndnTuDy7"
      }
    },
    {
      "cell_type": "code",
      "source": [
        "list(zip('ab', '12')) # 출력: [('a', '1'), ('b', '2')]"
      ],
      "metadata": {
        "colab": {
          "base_uri": "https://localhost:8080/"
        },
        "id": "VEfFlBStuKHs",
        "outputId": "42447f48-f123-411a-ae65-c985f6b4d372"
      },
      "execution_count": 29,
      "outputs": [
        {
          "output_type": "execute_result",
          "data": {
            "text/plain": [
              "[('a', '1'), ('b', '2')]"
            ]
          },
          "metadata": {},
          "execution_count": 29
        }
      ]
    },
    {
      "cell_type": "code",
      "source": [
        "list(zip('ab', '12', [10, 20]))\n",
        "# 출력: [('a', '1', 10), ('b', '2', 20)]"
      ],
      "metadata": {
        "colab": {
          "base_uri": "https://localhost:8080/"
        },
        "id": "_hGDbtOQuVUb",
        "outputId": "4e1d1421-640d-43b0-ee47-883ed511b519"
      },
      "execution_count": 31,
      "outputs": [
        {
          "output_type": "execute_result",
          "data": {
            "text/plain": [
              "[('a', '1', 10), ('b', '2', 20)]"
            ]
          },
          "metadata": {},
          "execution_count": 31
        }
      ]
    },
    {
      "cell_type": "code",
      "source": [
        "# 길이가 다른 순회할 수 있는 객체가 오면 길이가 가장 짧은 것을 기준으로 출력합니다.\n",
        "\n",
        "list(zip('abc', '1234567', [10, 20, 30]))\n",
        "# 출력 : [('a', '1', 10), ('b', '2', 20), ('c', '3', 30)]"
      ],
      "metadata": {
        "colab": {
          "base_uri": "https://localhost:8080/"
        },
        "id": "k_K-OY9ZubG5",
        "outputId": "8d0d4477-410f-42b1-a152-fe8543edefe3"
      },
      "execution_count": 32,
      "outputs": [
        {
          "output_type": "execute_result",
          "data": {
            "text/plain": [
              "[('a', '1', 10), ('b', '2', 20), ('c', '3', 30)]"
            ]
          },
          "metadata": {},
          "execution_count": 32
        }
      ]
    },
    {
      "cell_type": "markdown",
      "source": [
        "좌표 문제, 인접한 n개의 수 같은 문제에 사용하기 좋음."
      ],
      "metadata": {
        "id": "KS19YMUsumkY"
      }
    },
    {
      "cell_type": "markdown",
      "source": [
        "## 6.7 len, min, max, sum\n",
        "- len()은 길이의 개수를 반환\n",
        "- min은 최솟값, max는 최댓값 반환\n",
        "- sum은 순회 가능한 객체를 받아 모든 요소의 합을 계산하여 반환\n",
        "```\n",
        "sum의 기본문법\n",
        "sum(iterable, start=0)\n",
        "```\n"
      ],
      "metadata": {
        "id": "HSIanyt_u8ZH"
      }
    },
    {
      "cell_type": "markdown",
      "source": [
        "## 6.10 range, **enumerate**(기억!)\n",
        "- range: 순회할 수 있는 숫자 객체를 만들어주는 함수\n",
        "- **enumerate**: 반복할 수 있는 객체의 인덱스와 값을 함께 반환하며 주로 반복문에서 사용"
      ],
      "metadata": {
        "id": "YMKOJSKHvqa_"
      }
    },
    {
      "cell_type": "code",
      "source": [
        "\n",
        "# 같은 Key 값으로 묶는다.\n",
        "# 임의로 키값을 부여할때 많이 사용\n",
        "values = ['A', 'B', 'C', 'D']\n",
        "print(list(enumerate(values)))\n",
        "print(list(enumerate(values, 1)))\n",
        "print(list(enumerate(values, 100)))"
      ],
      "metadata": {
        "colab": {
          "base_uri": "https://localhost:8080/"
        },
        "id": "mFh3mJYpwR_j",
        "outputId": "2c079c97-03e8-45c0-c991-11ffe376ff35"
      },
      "execution_count": 35,
      "outputs": [
        {
          "output_type": "stream",
          "name": "stdout",
          "text": [
            "[(0, 'A'), (1, 'B'), (2, 'C'), (3, 'D')]\n",
            "[(1, 'A'), (2, 'B'), (3, 'C'), (4, 'D')]\n",
            "[(100, 'A'), (101, 'B'), (102, 'C'), (103, 'D')]\n"
          ]
        }
      ]
    },
    {
      "cell_type": "markdown",
      "source": [
        "# 6.11 sorted, reversed\n",
        "- 정렬, 역순으로 변환하고 새로운 리스트로 반환해준다.  \n",
        " **(원본 수정 X)**"
      ],
      "metadata": {
        "id": "aMEe7Mr7wXo-"
      }
    }
  ]
}