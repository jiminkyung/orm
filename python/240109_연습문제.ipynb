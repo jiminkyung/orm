{
  "nbformat": 4,
  "nbformat_minor": 0,
  "metadata": {
    "colab": {
      "provenance": []
    },
    "kernelspec": {
      "name": "python3",
      "display_name": "Python 3"
    },
    "language_info": {
      "name": "python"
    }
  },
  "cells": [
    {
      "cell_type": "markdown",
      "source": [
        "# 문제 1\n",
        "숫자를 하나 입력받아, 그 숫자가 5보다 큰지 확인하는 프로그램을 작성해보세요."
      ],
      "metadata": {
        "id": "Du7fFBcULxpn"
      }
    },
    {
      "cell_type": "code",
      "source": [
        "num = int(input(\"숫자를 입력해주세요: \"))  # 숫자를 입력받고, int로 변환해준다.\n",
        "\n",
        "if num > 5:  # 만약 입력받은 숫자 num이 5보다 크다면\n",
        "    print(\"5보다 큰 숫자입니다!\")\n",
        "else:  # 아니라면\n",
        "    print(\"5 이하의 숫자입니다.\")"
      ],
      "metadata": {
        "colab": {
          "base_uri": "https://localhost:8080/"
        },
        "id": "28DdmIRNMH8R",
        "outputId": "a70f2ced-83b2-44e4-b4c7-3af3b7db9377"
      },
      "execution_count": null,
      "outputs": [
        {
          "output_type": "stream",
          "name": "stdout",
          "text": [
            "숫자를 입력해주세요: 5\n",
            "5 이하의 숫자입니다.\n"
          ]
        }
      ]
    },
    {
      "cell_type": "markdown",
      "source": [
        "# 문제 2\n",
        "\"안녕하세요!\"를 5번 출력하는 프로그램을 작성해보세요."
      ],
      "metadata": {
        "id": "RU_DevEEL5en"
      }
    },
    {
      "cell_type": "code",
      "source": [
        "for i in range(5):  # 밑의 코드를 5번(0~4) 반복\n",
        "    print(\"안녕하세요!\")"
      ],
      "metadata": {
        "colab": {
          "base_uri": "https://localhost:8080/"
        },
        "id": "GYIafe1lMYWd",
        "outputId": "af0ec7bc-6373-4ff8-aafb-424695fe0f88"
      },
      "execution_count": null,
      "outputs": [
        {
          "output_type": "stream",
          "name": "stdout",
          "text": [
            "안녕하세요!\n",
            "안녕하세요!\n",
            "안녕하세요!\n",
            "안녕하세요!\n",
            "안녕하세요!\n"
          ]
        }
      ]
    },
    {
      "cell_type": "markdown",
      "source": [
        "# 문제3\n",
        "1부터 10까지의 숫자 중에서, 짝수만 출력하는 프로그램을 작성해보세요."
      ],
      "metadata": {
        "id": "di7K4yqjL8tF"
      }
    },
    {
      "cell_type": "code",
      "source": [
        "even = []  # 짝수값만 넣어줄 빈 리스트 생성\n",
        "\n",
        "for i in range(1, 11):  # 1부터 10까지 반복\n",
        "    if i % 2 == 0:  # 만약 해당하는 수가 2로 나누었을때의 나머지가 0이라면(짝수)\n",
        "        even.append(i)  # 먼저 생성했던 빈 리스트에 값을 넣어준다.\n",
        "print(even)"
      ],
      "metadata": {
        "colab": {
          "base_uri": "https://localhost:8080/"
        },
        "id": "mwlBC9KAMfiP",
        "outputId": "c7a40358-762a-4313-d64e-144d1f4b9019"
      },
      "execution_count": null,
      "outputs": [
        {
          "output_type": "stream",
          "name": "stdout",
          "text": [
            "[2, 4, 6, 8, 10]\n"
          ]
        }
      ]
    },
    {
      "cell_type": "markdown",
      "source": [
        "# 문제4\n",
        "1부터 20까지의 숫자 중, 3의 배수만 출력하는 프로그램을 작성하세요."
      ],
      "metadata": {
        "id": "9EL8XON8MBKf"
      }
    },
    {
      "cell_type": "code",
      "source": [
        "for i in range(1, 21):  # 1부터 20까지 반복\n",
        "    if i % 3 == 0:  # 해당 수가 3으로 나눴을때의 나머지가 0이라면(3의 배수)\n",
        "        print(i, end=\" \")  # 그대로 출력해준다. end=\" \"은 한줄로 출력하기 위해 사용."
      ],
      "metadata": {
        "colab": {
          "base_uri": "https://localhost:8080/"
        },
        "id": "AMMuYTHNNjBa",
        "outputId": "67e9ea2b-0d3b-4886-c7d6-064b21ae0e03"
      },
      "execution_count": null,
      "outputs": [
        {
          "output_type": "stream",
          "name": "stdout",
          "text": [
            "3 6 9 12 15 18 "
          ]
        }
      ]
    },
    {
      "cell_type": "markdown",
      "source": [
        "# 문제5\n",
        "구구단 2단부터 9단까지 출력하는 프로그램을 작성하세요."
      ],
      "metadata": {
        "id": "HP2isgceMEHF"
      }
    },
    {
      "cell_type": "code",
      "source": [
        "print(\"구구단을 외자 구구단을 외자\")\n",
        "\n",
        "# 세로 출력\n",
        "for i in range(2, 10):  # 2부터 9까지 반복(2단부터 9단까지)\n",
        "    print(f\"****{i}단****\")  # 해당 단 표시\n",
        "    for k in range(1, 10):  # 해당 단을 1부터 9까지 반복\n",
        "        print(f\"{i} x {k} = {i*k}\")  # 1부터 9까지 출력 후 다음 단(다음 i값)으로 넘어간다.\n",
        "    print()  # 가독성 한줄띄우기"
      ],
      "metadata": {
        "colab": {
          "base_uri": "https://localhost:8080/"
        },
        "id": "1SNdYRtiMGqd",
        "outputId": "852412e3-441e-4f25-8776-643d7b6c9b5f"
      },
      "execution_count": null,
      "outputs": [
        {
          "output_type": "stream",
          "name": "stdout",
          "text": [
            "구구단을 외자 구구단을 외자\n",
            "****2단****\n",
            "2 x 1 = 2\n",
            "2 x 2 = 4\n",
            "2 x 3 = 6\n",
            "2 x 4 = 8\n",
            "2 x 5 = 10\n",
            "2 x 6 = 12\n",
            "2 x 7 = 14\n",
            "2 x 8 = 16\n",
            "2 x 9 = 18\n",
            "\n",
            "****3단****\n",
            "3 x 1 = 3\n",
            "3 x 2 = 6\n",
            "3 x 3 = 9\n",
            "3 x 4 = 12\n",
            "3 x 5 = 15\n",
            "3 x 6 = 18\n",
            "3 x 7 = 21\n",
            "3 x 8 = 24\n",
            "3 x 9 = 27\n",
            "\n",
            "****4단****\n",
            "4 x 1 = 4\n",
            "4 x 2 = 8\n",
            "4 x 3 = 12\n",
            "4 x 4 = 16\n",
            "4 x 5 = 20\n",
            "4 x 6 = 24\n",
            "4 x 7 = 28\n",
            "4 x 8 = 32\n",
            "4 x 9 = 36\n",
            "\n",
            "****5단****\n",
            "5 x 1 = 5\n",
            "5 x 2 = 10\n",
            "5 x 3 = 15\n",
            "5 x 4 = 20\n",
            "5 x 5 = 25\n",
            "5 x 6 = 30\n",
            "5 x 7 = 35\n",
            "5 x 8 = 40\n",
            "5 x 9 = 45\n",
            "\n",
            "****6단****\n",
            "6 x 1 = 6\n",
            "6 x 2 = 12\n",
            "6 x 3 = 18\n",
            "6 x 4 = 24\n",
            "6 x 5 = 30\n",
            "6 x 6 = 36\n",
            "6 x 7 = 42\n",
            "6 x 8 = 48\n",
            "6 x 9 = 54\n",
            "\n",
            "****7단****\n",
            "7 x 1 = 7\n",
            "7 x 2 = 14\n",
            "7 x 3 = 21\n",
            "7 x 4 = 28\n",
            "7 x 5 = 35\n",
            "7 x 6 = 42\n",
            "7 x 7 = 49\n",
            "7 x 8 = 56\n",
            "7 x 9 = 63\n",
            "\n",
            "****8단****\n",
            "8 x 1 = 8\n",
            "8 x 2 = 16\n",
            "8 x 3 = 24\n",
            "8 x 4 = 32\n",
            "8 x 5 = 40\n",
            "8 x 6 = 48\n",
            "8 x 7 = 56\n",
            "8 x 8 = 64\n",
            "8 x 9 = 72\n",
            "\n",
            "****9단****\n",
            "9 x 1 = 9\n",
            "9 x 2 = 18\n",
            "9 x 3 = 27\n",
            "9 x 4 = 36\n",
            "9 x 5 = 45\n",
            "9 x 6 = 54\n",
            "9 x 7 = 63\n",
            "9 x 8 = 72\n",
            "9 x 9 = 81\n",
            "\n"
          ]
        }
      ]
    },
    {
      "cell_type": "code",
      "source": [
        "# 가로 출력\n",
        "for i in range(1, 10):  # 2x1, 3x1, 4x1... 식으로 넘어가니까 곱하는 수 먼저 반복\n",
        "    for k in range(2, 10):  # 2부터 9까지\n",
        "        print(f\"{k} x {i} = {k*i}\", end=\"\\t\")  # 단끼리의 구분을 위해 탭\n",
        "    print()  # 가독성 한줄띄우기"
      ],
      "metadata": {
        "colab": {
          "base_uri": "https://localhost:8080/"
        },
        "id": "2itvouN1Qd58",
        "outputId": "abed9114-9c2e-4cbd-fa1f-3a28c28b081b"
      },
      "execution_count": null,
      "outputs": [
        {
          "output_type": "stream",
          "name": "stdout",
          "text": [
            "2 x 1 = 2\t3 x 1 = 3\t4 x 1 = 4\t5 x 1 = 5\t6 x 1 = 6\t7 x 1 = 7\t8 x 1 = 8\t9 x 1 = 9\t\n",
            "2 x 2 = 4\t3 x 2 = 6\t4 x 2 = 8\t5 x 2 = 10\t6 x 2 = 12\t7 x 2 = 14\t8 x 2 = 16\t9 x 2 = 18\t\n",
            "2 x 3 = 6\t3 x 3 = 9\t4 x 3 = 12\t5 x 3 = 15\t6 x 3 = 18\t7 x 3 = 21\t8 x 3 = 24\t9 x 3 = 27\t\n",
            "2 x 4 = 8\t3 x 4 = 12\t4 x 4 = 16\t5 x 4 = 20\t6 x 4 = 24\t7 x 4 = 28\t8 x 4 = 32\t9 x 4 = 36\t\n",
            "2 x 5 = 10\t3 x 5 = 15\t4 x 5 = 20\t5 x 5 = 25\t6 x 5 = 30\t7 x 5 = 35\t8 x 5 = 40\t9 x 5 = 45\t\n",
            "2 x 6 = 12\t3 x 6 = 18\t4 x 6 = 24\t5 x 6 = 30\t6 x 6 = 36\t7 x 6 = 42\t8 x 6 = 48\t9 x 6 = 54\t\n",
            "2 x 7 = 14\t3 x 7 = 21\t4 x 7 = 28\t5 x 7 = 35\t6 x 7 = 42\t7 x 7 = 49\t8 x 7 = 56\t9 x 7 = 63\t\n",
            "2 x 8 = 16\t3 x 8 = 24\t4 x 8 = 32\t5 x 8 = 40\t6 x 8 = 48\t7 x 8 = 56\t8 x 8 = 64\t9 x 8 = 72\t\n",
            "2 x 9 = 18\t3 x 9 = 27\t4 x 9 = 36\t5 x 9 = 45\t6 x 9 = 54\t7 x 9 = 63\t8 x 9 = 72\t9 x 9 = 81\t\n"
          ]
        }
      ]
    },
    {
      "cell_type": "code",
      "source": [],
      "metadata": {
        "id": "4RmrLxRORTcP"
      },
      "execution_count": null,
      "outputs": []
    }
  ]
}