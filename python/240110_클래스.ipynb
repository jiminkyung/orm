{
  "nbformat": 4,
  "nbformat_minor": 0,
  "metadata": {
    "colab": {
      "provenance": [],
      "collapsed_sections": [
        "PzUY8SyrVC_q"
      ]
    },
    "kernelspec": {
      "name": "python3",
      "display_name": "Python 3"
    },
    "language_info": {
      "name": "python"
    }
  },
  "cells": [
    {
      "cell_type": "markdown",
      "source": [
        "# 1. 클래스\n",
        "- 클래스 = 붕어빵기계"
      ],
      "metadata": {
        "id": "PzUY8SyrVC_q"
      }
    },
    {
      "cell_type": "code",
      "source": [
        "# 1. 클래스는 대문자로 이름을 설정해야한다.\n",
        "# 고정된 값을 가지는 클래스 -> 함수랑 다른 점이 없는 클래스\n",
        "class Car: # 차에 설계 도면 또는 차 공장, 클래스\n",
        "    max_speed = 300 # 멤버 또는 애트리뷰트\n",
        "    max_people = 5\n",
        "    car_gear = ['P', 'D', 'R', 'N']\n",
        "\n",
        "    def start(self): # 메서드\n",
        "        print('차가 출발합니다!')\n",
        "\n",
        "    def stop(self):\n",
        "        print('차가 멈췄습니다!')\n",
        "\n",
        "# 공장에서 생산된 자동차 modelx, y, s, 인스턴스\n",
        "modelx = Car() # 인스턴스 = 클래스()"
      ],
      "metadata": {
        "id": "5XzLiFA_VNIt"
      },
      "execution_count": null,
      "outputs": []
    },
    {
      "cell_type": "code",
      "source": [
        "# 클래스의 장점 -> 클래스 안에 있는 함수의 기능을 가져올 수 있다.\n",
        "# 도서관ㅇ서 책 찾는것처럼 -> 문학 -> 한국문학 -> 비문학 식으로...\n",
        "print(modelx.car_gear[1])\n",
        "print(modelx.max_speed)"
      ],
      "metadata": {
        "colab": {
          "base_uri": "https://localhost:8080/"
        },
        "id": "fqiomTq6Z3GA",
        "outputId": "2bc95031-7d20-442d-f18d-bac350bb85fe"
      },
      "execution_count": null,
      "outputs": [
        {
          "output_type": "stream",
          "name": "stdout",
          "text": [
            "D\n",
            "300\n"
          ]
        }
      ]
    },
    {
      "cell_type": "code",
      "source": [
        "modelx.start()\n",
        "modelx.stop()"
      ],
      "metadata": {
        "colab": {
          "base_uri": "https://localhost:8080/"
        },
        "id": "rpEQS4IjadsX",
        "outputId": "fe823d7f-ddad-4b9c-e473-ae70cc3ddadd"
      },
      "execution_count": null,
      "outputs": [
        {
          "output_type": "stream",
          "name": "stdout",
          "text": [
            "차가 출발합니다!\n",
            "차가 멈췄습니다!\n"
          ]
        }
      ]
    },
    {
      "cell_type": "code",
      "source": [
        "# self는 무시된다. 함수를 가져올때는 () 를 꼭 입력한다.\n",
        "modely = Car()\n",
        "models = Car()\n",
        "\n",
        "print(models.car_gear[1])\n",
        "models.start()\n",
        "models.stop()\n",
        "\n",
        "# Car.max_speed # modelx에 속도를 보고 싶으면 modelx.max_speed를 찍어야 합니다.\n",
        "# 초기 설계는 300으로 찍혀 있지만, 고객이 아래와 같이 자동차 튜닝을 했을 수도 있으니까요.\n",
        "\n",
        "models.max_speed = 500\n",
        "# 직접 클래스 자료에 접근해서 -> 데이터를 변경할 수 있다.\n",
        "print(models.max_speed)\n",
        "print(modely.max_speed)"
      ],
      "metadata": {
        "id": "md91zPI5Z39i"
      },
      "execution_count": null,
      "outputs": []
    },
    {
      "cell_type": "code",
      "source": [
        "class Car:\n",
        "    max_speed = 300\n",
        "    max_people = 5\n",
        "    car_gear = ['P', 'D', 'R', 'N']\n",
        "\n",
        "    def __init__(self, name): # 클래스로 인스턴스를 만들 때 호출!\n",
        "        self.name = name\n",
        "\n",
        "    def start(self):\n",
        "        print('차가 출발합니다!')\n",
        "\n",
        "    def stop(self):\n",
        "        print('차가 멈췄습니다!')\n",
        "\n",
        "modelx = Car('Tesla Model X')\n",
        "modelx.name"
      ],
      "metadata": {
        "colab": {
          "base_uri": "https://localhost:8080/",
          "height": 36
        },
        "id": "mRALIddjcPFb",
        "outputId": "00e3ba77-9b41-4d11-95ee-24797a0ecc11"
      },
      "execution_count": null,
      "outputs": [
        {
          "output_type": "execute_result",
          "data": {
            "text/plain": [
              "'Tesla Model X'"
            ],
            "application/vnd.google.colaboratory.intrinsic+json": {
              "type": "string"
            }
          },
          "metadata": {},
          "execution_count": 17
        }
      ]
    },
    {
      "cell_type": "code",
      "source": [
        "# __init__메서드에 추가로 작성한다면\n",
        "\n",
        "class Car:\n",
        "    max_speed = 300\n",
        "    max_people = 5\n",
        "    car_gear = ['P', 'D', 'R', 'N']\n",
        "\n",
        "    def __init__(self, name, CEO): # 클래스로 인스턴스를 만들 때 호출!\n",
        "        self.name = name # Car.name이라고 작성해도 됨. self = Car 이기때문\n",
        "        self.CEO = CEO\n",
        "\n",
        "    def start(self):\n",
        "        print('차가 출발합니다!')\n",
        "\n",
        "    def stop(self):\n",
        "        print('차가 멈췄습니다!')\n",
        "\n",
        "modelx = Car('Tesla Model X', '일론 머스크')\n",
        "print(modelx.name)\n",
        "print(modelx.CEO)"
      ],
      "metadata": {
        "colab": {
          "base_uri": "https://localhost:8080/"
        },
        "id": "vz8TZXDWcPqe",
        "outputId": "718c34d6-8715-49ed-d42f-7d405980edae"
      },
      "execution_count": null,
      "outputs": [
        {
          "output_type": "stream",
          "name": "stdout",
          "text": [
            "Tesla Model X\n",
            "일론 머스크\n"
          ]
        }
      ]
    },
    {
      "cell_type": "markdown",
      "source": [
        "`__init__`이 실행될때 `self`는 인수로 전달하지 않아도 된다."
      ],
      "metadata": {
        "id": "3P8L6AhCdkFI"
      }
    },
    {
      "cell_type": "markdown",
      "source": [
        "## 강사님 정리"
      ],
      "metadata": {
        "id": "R323doJRfKmg"
      }
    },
    {
      "cell_type": "code",
      "source": [
        "class Car:\n",
        "    max_speed = 300\n",
        "    max_people = 5\n",
        "    car_gear = ['P', 'D', 'R', 'N']\n",
        "\n",
        "    def __init__(self, name, CEO):\n",
        "        # 클래스에서 __init__은 붕어빵 틀 중에서 가장 기본 틀!\n",
        "        # self는 인수로 전달받지도, 하지도 않음 -> Car 클래스 그 자체\n",
        "        # 위에 꼭 self를 붙여야 self를 사용해서 self.name처럼 사용 가능\n",
        "        self.name = name\n",
        "        self.CEO = CEO\n",
        "\n",
        "# __init__과 self로 구현된 값은 클래스 할당시 입력자료를 넣을 수 있다.\n",
        "# 입력을 받을때는 파라미터를 설정해야한다.(name, CEO처럼)\n",
        "# 그러면 modelx처럼 name과 CEO의 데이터를 불러올 수 있다.\n",
        "modelx = Car('Tesla Model X', '일론 머스크')\n",
        "print(modelx.name)\n",
        "print(modelx.CEO)"
      ],
      "metadata": {
        "colab": {
          "base_uri": "https://localhost:8080/"
        },
        "id": "PDQU8qsjejvO",
        "outputId": "a96c25f7-7ee2-4372-fca8-6f75fd74795e"
      },
      "execution_count": null,
      "outputs": [
        {
          "output_type": "stream",
          "name": "stdout",
          "text": [
            "Tesla Model X\n",
            "일론 머스크\n"
          ]
        }
      ]
    },
    {
      "cell_type": "code",
      "source": [],
      "metadata": {
        "id": "rhv0tvErfMxj"
      },
      "execution_count": null,
      "outputs": []
    },
    {
      "cell_type": "markdown",
      "source": [
        "# 2. 클래스 변수와 인스턴스 변수"
      ],
      "metadata": {
        "id": "qvrFUsi1w8fg"
      }
    },
    {
      "cell_type": "code",
      "source": [
        "class Car:\n",
        "    # 클래스 변수의 위치\n",
        "    max_speed = 300\n",
        "    max_people = 5\n",
        "    car_gear = ['P', 'D', 'R', 'N']\n",
        "\n",
        "modelx = Car()\n",
        "print(Car.max_speed)\n",
        "print(modelx.max_speed)"
      ],
      "metadata": {
        "colab": {
          "base_uri": "https://localhost:8080/"
        },
        "id": "S5DoVVUNxs0i",
        "outputId": "13a0368f-2eff-4c84-ccb7-8ddb5c9f591b"
      },
      "execution_count": 19,
      "outputs": [
        {
          "output_type": "stream",
          "name": "stdout",
          "text": [
            "300\n",
            "300\n"
          ]
        }
      ]
    },
    {
      "cell_type": "markdown",
      "source": [
        "이 **클래스 변수는 해당 클래스를 통해 만들어진 모든 인스턴스 객체들이 공유하는 변수 값**입니다.  \n",
        "각 인스턴스 객체들 각자가 관리하고 있는 변수는 인스턴스 변수라고 합니다."
      ],
      "metadata": {
        "id": "dSA3Lfb0xzCM"
      }
    },
    {
      "cell_type": "code",
      "source": [
        "class Car:\n",
        "    kinds = []\n",
        "    speed = 300\n",
        "\n",
        "    def add_kinds(self, name):\n",
        "        self.kinds.append(name)\n",
        "        # append -> 리스트에 name(임시이름)값을 추가\n",
        "\n",
        "    def change_speed(self, speed):\n",
        "        self.speed = speed\n",
        "\n",
        "# Step 1: modelx에 대해서 Car()를 불러왔어요!\n",
        "# ! 주의 self가 들어있는 add_kinds() change_speed를 주의하세요!\n",
        "modelx = Car()\n",
        "modely = Car()\n",
        "\n",
        "modelx.add_kinds('x')\n",
        "modely.add_kinds('y')\n",
        "# Car()와 modelx는 분리되어있다,로 알고있었지만? 그게 아닐수도 있다.\n",
        "# 왜냐하면 self라는것 때문에\n",
        "Car.speed = 100\n",
        "\n",
        "# modelx.change_speed(500)\n",
        "# modely.change_speed(250)\n",
        "\n",
        "print(f'modelx.kinds: {modelx.kinds}')\n",
        "print(f'modely.kinds: {modely.kinds}')\n",
        "print(f'modelx.speed: {modelx.speed}')\n",
        "print(f'modely.speed: {modely.speed}')"
      ],
      "metadata": {
        "colab": {
          "base_uri": "https://localhost:8080/"
        },
        "id": "wAHs03fJx6-N",
        "outputId": "d079f24b-9de3-409e-8380-6c68d968404b"
      },
      "execution_count": 20,
      "outputs": [
        {
          "output_type": "stream",
          "name": "stdout",
          "text": [
            "modelx.kinds: ['x', 'y']\n",
            "modely.kinds: ['x', 'y']\n",
            "modelx.speed: 100\n",
            "modely.speed: 100\n"
          ]
        }
      ]
    },
    {
      "cell_type": "code",
      "source": [
        "# 직접 작성해보자~\n",
        "class Car:\n",
        "    kinds = []  # Car - modelx - modely 값이 공유됨\n",
        "    speed = 100 # 공유 X\n",
        "\n",
        "    def add_kinds(self, name):\n",
        "        self.kinds.append(name)\n",
        "\n",
        "    def change_speed(self, speed):\n",
        "        self.speed = speed\n",
        "\n",
        "modelx = Car()\n",
        "# 여러번 반복!\n",
        "modelx.add_kinds(\"x\")\n",
        "print(modelx.kinds)"
      ],
      "metadata": {
        "colab": {
          "base_uri": "https://localhost:8080/"
        },
        "id": "1OBAEBUWycLE",
        "outputId": "f242f2c9-5257-4108-9bc0-a9b5e7b37502"
      },
      "execution_count": 24,
      "outputs": [
        {
          "output_type": "stream",
          "name": "stdout",
          "text": [
            "['x']\n"
          ]
        }
      ]
    },
    {
      "cell_type": "code",
      "source": [
        "modelx.add_kinds(\"x\")\n",
        "print(modelx.kinds)\n",
        "modely = Car()\n",
        "modelx.change_speed(300)\n",
        "print(modelx.speed)"
      ],
      "metadata": {
        "colab": {
          "base_uri": "https://localhost:8080/"
        },
        "id": "f32grzsp2rWt",
        "outputId": "037e20e1-2deb-4b7f-9942-6abb61075e6b"
      },
      "execution_count": 28,
      "outputs": [
        {
          "output_type": "stream",
          "name": "stdout",
          "text": [
            "['x', 'x', 'x', 'x', 'x']\n",
            "300\n"
          ]
        }
      ]
    },
    {
      "cell_type": "markdown",
      "source": [
        "kinds는 동기화가 되어서 모델x, y에 할당했던 값이 모두 나오지만,  \n",
        "speed는 동기화가 되지 않았다. 왜?  \n",
        "-> 아마 kinds는 append로 값을 추가해주고, speed는 값 자체를 바꿔주는 형식이기 때문."
      ],
      "metadata": {
        "id": "A5HFtkuR3qBN"
      }
    },
    {
      "cell_type": "code",
      "source": [
        "Car.speed"
      ],
      "metadata": {
        "colab": {
          "base_uri": "https://localhost:8080/"
        },
        "id": "USXJXA_22w97",
        "outputId": "126e1ff1-ebe3-4208-a548-214e597646a8"
      },
      "execution_count": 29,
      "outputs": [
        {
          "output_type": "execute_result",
          "data": {
            "text/plain": [
              "100"
            ]
          },
          "metadata": {},
          "execution_count": 29
        }
      ]
    },
    {
      "cell_type": "code",
      "source": [
        "speed = 300 # 전역변수 speed 300\n",
        "\n",
        "def change_speed(value):\n",
        "    speed = value # 지역변수 speed\n",
        "    return speed\n",
        "\n",
        "speed_def = change_speed(100)\n",
        "print(speed)     # 출력: 300\n",
        "print(speed_def) # 출력: 100"
      ],
      "metadata": {
        "colab": {
          "base_uri": "https://localhost:8080/"
        },
        "id": "d1NwXOEU4kzu",
        "outputId": "5c6ef4fe-3bce-4206-8722-22e477ef364f"
      },
      "execution_count": 31,
      "outputs": [
        {
          "output_type": "stream",
          "name": "stdout",
          "text": [
            "300\n",
            "100\n"
          ]
        }
      ]
    },
    {
      "cell_type": "markdown",
      "source": [
        "- 아까는 `kinds = []`가 `클래스 변수`였기 때문에, modelx modely의 값이 동기화되었다.\n",
        "- 리스트 생성을 인스턴스 객체부분으로 옮기면 각각 다른 값을 유지할 수 있다."
      ],
      "metadata": {
        "id": "oqeGplTe_aH4"
      }
    },
    {
      "cell_type": "code",
      "source": [
        "class Guitar():\n",
        "    color = \"White\"\n",
        "\n",
        "    def add_model(self, name):\n",
        "        self.model = []\n",
        "        self.model.append(name)\n",
        "\n",
        "    def change_color(self, color):\n",
        "        self.color = color\n",
        "\n",
        "test1 = Guitar()\n",
        "test2 = Guitar()\n",
        "\n",
        "test1.add_model(\"깁슨\")\n",
        "test2.add_model(\"펜더\")\n",
        "print(test1.model)\n",
        "print(test2.model)\n",
        "print(test1.color)"
      ],
      "metadata": {
        "colab": {
          "base_uri": "https://localhost:8080/"
        },
        "id": "Kg86k-u64_ox",
        "outputId": "c63fb5db-90b1-4c9d-a259-875068d1e698"
      },
      "execution_count": 36,
      "outputs": [
        {
          "output_type": "stream",
          "name": "stdout",
          "text": [
            "['깁슨']\n",
            "['펜더']\n",
            "White\n"
          ]
        }
      ]
    },
    {
      "cell_type": "markdown",
      "source": [
        "# 3. 예외처리와 오류관리"
      ],
      "metadata": {
        "id": "DlW8wjLODQna"
      }
    },
    {
      "cell_type": "markdown",
      "source": [
        "예외처리의 가장 기본적인 구문\n",
        "`try + except`"
      ],
      "metadata": {
        "id": "M8czI0qkFZI5"
      }
    },
    {
      "cell_type": "markdown",
      "source": [
        "```\n",
        "try:\n",
        "    # 예외가 발생할 가능성이 있는 코드\n",
        "except:\n",
        "    # 예외 처리 코드\n",
        "```"
      ],
      "metadata": {
        "id": "GL5v0ve5DT7E"
      }
    },
    {
      "cell_type": "markdown",
      "source": [
        "`else`, `finally`등을 추가할 수도 있다."
      ],
      "metadata": {
        "id": "Qfvz6GHmFMYc"
      }
    },
    {
      "cell_type": "code",
      "source": [
        "try:\n",
        "    # 예외가 발생할 가능성이 있는 코드\n",
        "except:\n",
        "    # 예외 처리 코드\n",
        "else:\n",
        "    # 예외가 발생하지 않을 때 실행되는 코드\n",
        "finally:\n",
        "    # 예외 발생 여부와 상관없이 항상 실행되는 코드"
      ],
      "metadata": {
        "id": "m8uen11WGjDL"
      },
      "execution_count": null,
      "outputs": []
    },
    {
      "cell_type": "code",
      "source": [
        "try:\n",
        "    i = 1\n",
        "    j = 1\n",
        "    x = i/j\n",
        "except:  # 오류가 났을때\n",
        "    print(\"error\")\n",
        "else:    # 오류가 안났을때\n",
        "    print(x)\n",
        "finally: # 무조건 출력\n",
        "    print(\"출력됩니다.\")"
      ],
      "metadata": {
        "colab": {
          "base_uri": "https://localhost:8080/"
        },
        "id": "8HEk04PbGqgV",
        "outputId": "60c0e8c5-2689-4425-8a78-d15ab50e057a"
      },
      "execution_count": 38,
      "outputs": [
        {
          "output_type": "stream",
          "name": "stdout",
          "text": [
            "1.0\n",
            "출력됩니다.\n"
          ]
        }
      ]
    },
    {
      "cell_type": "markdown",
      "source": [
        "assert\n",
        "- 가정설정문.\n",
        "- 내가 설정한 조건에 만족하지 않는 경우 error 발생시킴.  \n",
        "(주로 try-except를 사용하기 때문에 assert는 '존재한다'정도로만 알고 있어도 됨.)"
      ],
      "metadata": {
        "id": "lW109G6GGuv0"
      }
    },
    {
      "cell_type": "code",
      "source": [
        "test = 'hello'\n",
        "\n",
        "assert test == 'hello', '애러 메시지 1' #1\n",
        "assert test == 'world', '애러 메시지 2' #2\n",
        "assert test + 3 == 5, '애러 메시지 3' #3"
      ],
      "metadata": {
        "colab": {
          "base_uri": "https://localhost:8080/",
          "height": 230
        },
        "id": "XtQi7j-PHG58",
        "outputId": "5ba86316-73c9-4100-c7fb-b189edd06684"
      },
      "execution_count": 39,
      "outputs": [
        {
          "output_type": "error",
          "ename": "AssertionError",
          "evalue": "애러 메시지 2",
          "traceback": [
            "\u001b[0;31m---------------------------------------------------------------------------\u001b[0m",
            "\u001b[0;31mAssertionError\u001b[0m                            Traceback (most recent call last)",
            "\u001b[0;32m<ipython-input-39-71f97c55260d>\u001b[0m in \u001b[0;36m<cell line: 4>\u001b[0;34m()\u001b[0m\n\u001b[1;32m      2\u001b[0m \u001b[0;34m\u001b[0m\u001b[0m\n\u001b[1;32m      3\u001b[0m \u001b[0;32massert\u001b[0m \u001b[0mtest\u001b[0m \u001b[0;34m==\u001b[0m \u001b[0;34m'hello'\u001b[0m\u001b[0;34m,\u001b[0m \u001b[0;34m'애러 메시지 1'\u001b[0m \u001b[0;31m#1\u001b[0m\u001b[0;34m\u001b[0m\u001b[0;34m\u001b[0m\u001b[0m\n\u001b[0;32m----> 4\u001b[0;31m \u001b[0;32massert\u001b[0m \u001b[0mtest\u001b[0m \u001b[0;34m==\u001b[0m \u001b[0;34m'world'\u001b[0m\u001b[0;34m,\u001b[0m \u001b[0;34m'애러 메시지 2'\u001b[0m \u001b[0;31m#2\u001b[0m\u001b[0;34m\u001b[0m\u001b[0;34m\u001b[0m\u001b[0m\n\u001b[0m\u001b[1;32m      5\u001b[0m \u001b[0;32massert\u001b[0m \u001b[0mtest\u001b[0m \u001b[0;34m+\u001b[0m \u001b[0;36m3\u001b[0m \u001b[0;34m==\u001b[0m \u001b[0;36m5\u001b[0m\u001b[0;34m,\u001b[0m \u001b[0;34m'애러 메시지 3'\u001b[0m \u001b[0;31m#3\u001b[0m\u001b[0;34m\u001b[0m\u001b[0;34m\u001b[0m\u001b[0m\n",
            "\u001b[0;31mAssertionError\u001b[0m: 애러 메시지 2"
          ]
        }
      ]
    }
  ]
}