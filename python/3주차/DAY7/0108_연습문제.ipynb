{
  "nbformat": 4,
  "nbformat_minor": 0,
  "metadata": {
    "colab": {
      "provenance": []
    },
    "kernelspec": {
      "name": "python3",
      "display_name": "Python 3"
    },
    "language_info": {
      "name": "python"
    }
  },
  "cells": [
    {
      "cell_type": "markdown",
      "source": [
        "# 1번\n",
        "```\n",
        "다음 코드를 실행하면 출력되는 값을 순서대로 작성해보세요.\n",
        "a = 'pithon'\n",
        "\n",
        "def 함수1():\n",
        "    def 함수2():\n",
        "        print('love')\n",
        "        \n",
        "    print('I')\n",
        "    함수2()\n",
        "    return \"python\"\n",
        "\n",
        "\n",
        "a = 함수1()\n",
        "print(a)\n",
        "```"
      ],
      "metadata": {
        "id": "P4N4AHC2ysGY"
      }
    },
    {
      "cell_type": "code",
      "source": [
        "# I\n",
        "# love\n",
        "# python"
      ],
      "metadata": {
        "id": "N24Hzowby7RZ"
      },
      "execution_count": 1,
      "outputs": []
    },
    {
      "cell_type": "markdown",
      "source": [
        "# 2번\n",
        "```\n",
        "함수를 이용하여 계산기 프로그램을 만들어주세요.\n",
        "def plus(num1, num2):\n",
        "\t#이곳을 채워주세요\n",
        "\n",
        "def minus(num1, num2):\n",
        "\t#이곳을 채워주세요\n",
        "\n",
        "def multiply(num1, num2):\n",
        "\t#이곳을 채워주세요\n",
        "\n",
        "def divide(num1, num2):\n",
        "\t#이곳을 채워주세요\n",
        "\n",
        "print(f'plus : {plus(10, 5)}')\n",
        "print(f'minus : {minus(10, 5)}')\n",
        "print(f'multiply : {multiply(10, 5)}')\n",
        "print(f'divide : {divide(10, 5)}')\n",
        "```"
      ],
      "metadata": {
        "id": "wjTNwkL2zU0G"
      }
    },
    {
      "cell_type": "code",
      "source": [
        "def plus(num1, num2):\n",
        "    return num1 + num2\n",
        "\n",
        "def minus(num1, num2):\n",
        "    return num1 - num2\n",
        "\n",
        "def multiply(num1, num2):\n",
        "    return num1 * num2\n",
        "\n",
        "def divide(num1, num2):\n",
        "    return num1 / num2\n",
        "\n",
        "print(f'plus : {plus(10, 5)}')\n",
        "print(f'minus : {minus(10, 5)}')\n",
        "print(f'multiply : {multiply(10, 5)}')\n",
        "print(f'divide : {divide(10, 5)}')"
      ],
      "metadata": {
        "colab": {
          "base_uri": "https://localhost:8080/"
        },
        "id": "n8gGq9x3zelW",
        "outputId": "23a9b683-895a-4c1e-dc12-5462fb3e4ef2"
      },
      "execution_count": 2,
      "outputs": [
        {
          "output_type": "stream",
          "name": "stdout",
          "text": [
            "plus : 15\n",
            "minus : 5\n",
            "multiply : 50\n",
            "divide : 2.0\n"
          ]
        }
      ]
    },
    {
      "cell_type": "markdown",
      "source": [
        "# 3번\n",
        "```\n",
        "2번의 해답을 이용하여 a와 b를 더한 값과 a와 b를 뺀 값을 곱하는 함수를 만들어주세요. 아래와 같은 값이 있다면 (2 + 3) * (2 - 3) = -5가 출력이 되어야 합니다.\n",
        "a = 2\n",
        "b = 3\n",
        "# 이 부분에 코드를 작성해주세요.\n",
        "```"
      ],
      "metadata": {
        "id": "BWN2bqT5zs3l"
      }
    },
    {
      "cell_type": "code",
      "source": [
        "a = 2\n",
        "b = 3\n",
        "# 이 부분에 코드를 작성해주세요.\n",
        "def x(num1, num2):\n",
        "    return (num1 + num2) * (num1 - num2)\n",
        "print(x(a, b))"
      ],
      "metadata": {
        "colab": {
          "base_uri": "https://localhost:8080/"
        },
        "id": "oyP2dTd1zzc0",
        "outputId": "fce480a9-8e19-44bc-af75-b414c86d4ab9"
      },
      "execution_count": 7,
      "outputs": [
        {
          "output_type": "stream",
          "name": "stdout",
          "text": [
            "-5\n"
          ]
        }
      ]
    },
    {
      "cell_type": "markdown",
      "source": [
        "# 4번\n",
        "```\n",
        "x의 n제곱을 구하는 함수를 만들어주세요.\n",
        "재귀함수를 이용하여 만들어야하며, x은 0이 아닙니다. (x, n > 1)\n",
        "```"
      ],
      "metadata": {
        "id": "x9gobhdN0Wwe"
      }
    },
    {
      "cell_type": "code",
      "source": [
        "# 재귀함수: 함수 내에서 함수 자신을 다시 호출하는 함수\n",
        "\n",
        "def function_4(x, n): # 파라미터 x, n\n",
        "    if x > 1 and n > 1: # 만약 x와 n 모두 1보다 크다면\n",
        "        return x * function_4(x, n-1)\n",
        "        # 함수를 n-1로 재호출해서 최종적으로 ((1*x)*x)*x... 이런식으로 쌓여지게끔\n",
        "    elif x <=0 or n < 1: # 범위 밖의 값을 입력한경우\n",
        "        return \"error\" # 에러메시지 반환\n",
        "    else: # 만약 조건에 불만족하거나 n-1 <= 1이 될 경우에\n",
        "        return x\n",
        "        # x를 반환한다. 지정해주지 않으면 n-1이 음수까지 넘어가게 됨.\n",
        "\n",
        "print(function_4(3, 3))\n",
        "print(function_4(2, 5))\n",
        "print(function_4(-3, 2))\n",
        "print(function_4(2, 1))\n",
        "print(function_4(2, 0))"
      ],
      "metadata": {
        "colab": {
          "base_uri": "https://localhost:8080/"
        },
        "id": "vCJ1AESs1PHW",
        "outputId": "f0f8fa4c-063e-4a5f-bd25-d284d3d10381"
      },
      "execution_count": 61,
      "outputs": [
        {
          "output_type": "stream",
          "name": "stdout",
          "text": [
            "27\n",
            "32\n",
            "error\n",
            "2\n",
            "error\n"
          ]
        }
      ]
    },
    {
      "cell_type": "markdown",
      "source": [
        "# 5번\n",
        "```\n",
        "이 데이터에서 licat을 출력해주세요. 단, 직접 접근은 안됩니다. data[1]로 접근하는 것은 안됩니다.\n",
        "data = [['weniv CTO binky', 2], ['weniv CEO licat', 1], ['weniv COO mura', 2]]\n",
        "```"
      ],
      "metadata": {
        "id": "49tTNoaT6Oro"
      }
    },
    {
      "cell_type": "code",
      "source": [
        "data = [['weniv CTO binky', 2], ['weniv CEO licat', 1], ['weniv COO mura', 2]]\n",
        "\n",
        "data = str(data) # find함수는 문자열에서만 가능하기 때문에 str로 변환\n",
        "result = data.find(\"licat\") # licat에 해당하는 인덱스를 찾아준다\n",
        "print(data[result: result + 5]) # 해당 인덱스부터 icat(4글자)까지 출력"
      ],
      "metadata": {
        "colab": {
          "base_uri": "https://localhost:8080/"
        },
        "id": "3pt_WnX26QtH",
        "outputId": "9a91cf17-fe52-401d-bc7f-a8b20b1ca8b4"
      },
      "execution_count": 17,
      "outputs": [
        {
          "output_type": "stream",
          "name": "stdout",
          "text": [
            "licat\n"
          ]
        }
      ]
    },
    {
      "cell_type": "markdown",
      "source": [
        "# 6번\n",
        "```\n",
        "다음 함수 is_palindrome를 완성하시오. 이 함수는 하나의 문자열을 인자로 받아,\n",
        "해당 문자열이 앞으로 읽으나 뒤로 읽으나 같은 단어이면 True를, 아니면 False를 반환해야 합니다.\n",
        "def is_palindrome(s):\n",
        "    pass\n",
        "```"
      ],
      "metadata": {
        "id": "vfPEtZDO7cyU"
      }
    },
    {
      "cell_type": "code",
      "source": [
        "def is_palindrome(s):\n",
        "    s = s.lower() # 대소문자 차이로 인한 오답 예방\n",
        "    if s == s[::-1]:\n",
        "        return True\n",
        "    else:\n",
        "        return False\n",
        "\n",
        "print(is_palindrome('기러기'))\n",
        "print(is_palindrome('woW'))\n",
        "print(is_palindrome('you'))"
      ],
      "metadata": {
        "colab": {
          "base_uri": "https://localhost:8080/"
        },
        "id": "niSplDeQ9Lbl",
        "outputId": "ec18c4d9-5805-41fa-8957-9918d19c8402"
      },
      "execution_count": 22,
      "outputs": [
        {
          "output_type": "stream",
          "name": "stdout",
          "text": [
            "True\n",
            "True\n",
            "False\n"
          ]
        }
      ]
    },
    {
      "cell_type": "markdown",
      "source": [
        "# 7번\n",
        "```\n",
        "리스트 numbers가 주어졌을 때, 이 리스트 내의 모든 짝수를 제거하는 코드를 작성하시오.\n",
        "numbers = [2, 3, 4, 5, 6, 7, 8, 9, 10]\n",
        "# code\n",
        "print(numbers)  # 결과: [3, 5, 7, 9]\n",
        "```"
      ],
      "metadata": {
        "id": "T2PXGbb29-Wy"
      }
    },
    {
      "cell_type": "code",
      "source": [
        "numbers = [2, 3, 4, 5, 6, 7, 8, 9, 10]\n",
        "\n",
        "result = list(filter(lambda x : x % 2 == 1, numbers))\n",
        "# numbers 리스트에 한해서 x를 2로 나눈 나머지가 1인 경우(홀수)만 반환함\n",
        "print(result)"
      ],
      "metadata": {
        "colab": {
          "base_uri": "https://localhost:8080/"
        },
        "id": "oREINA6R-VTr",
        "outputId": "d2539d15-7a3d-4b40-9067-5e69c1702d7a"
      },
      "execution_count": 23,
      "outputs": [
        {
          "output_type": "stream",
          "name": "stdout",
          "text": [
            "[3, 5, 7, 9]\n"
          ]
        }
      ]
    }
  ]
}