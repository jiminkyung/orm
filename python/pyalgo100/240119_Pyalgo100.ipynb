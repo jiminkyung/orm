{
  "nbformat": 4,
  "nbformat_minor": 0,
  "metadata": {
    "colab": {
      "provenance": [],
      "collapsed_sections": [
        "wWBjJAnfifpL",
        "BmJ_wjvqiotu",
        "4veNm4bR0Of3",
        "tZz2IjZXklfE",
        "kr9h1aPhoFyt",
        "2ZV_kaPhewDx",
        "Eba9gX-wt_Yc"
      ],
      "toc_visible": true,
      "authorship_tag": "ABX9TyNbhPZx1++X5S3N+B250NW1"
    },
    "kernelspec": {
      "name": "python3",
      "display_name": "Python 3"
    },
    "language_info": {
      "name": "python"
    }
  },
  "cells": [
    {
      "cell_type": "markdown",
      "source": [
        "# 31~40"
      ],
      "metadata": {
        "id": "2ZV_kaPhewDx"
      }
    },
    {
      "cell_type": "markdown",
      "source": [
        "## 31번: 비트 반전 정수"
      ],
      "metadata": {
        "id": "e-aGGsXNeyoE"
      }
    },
    {
      "cell_type": "code",
      "source": [
        "def solution(data):\n",
        "    bin_data = bin(data)[2:].zfill(10) # 2진수 문자열로 변환 후 0b뒤부분만 슬라이싱으로 뽑아준다. 10자리중 나머지 부분은 0으로 채워넣는다.\n",
        "    result = '0b'\n",
        "    for num in bin_data:\n",
        "        result += str(1 ^ int(num))\n",
        "    return int(result, 2)\n",
        "solution(5)"
      ],
      "metadata": {
        "id": "tLLQeunge3I4",
        "colab": {
          "base_uri": "https://localhost:8080/"
        },
        "outputId": "0c2fb498-183c-43c7-b800-9f052061f0c9"
      },
      "execution_count": null,
      "outputs": [
        {
          "output_type": "execute_result",
          "data": {
            "text/plain": [
              "1018"
            ]
          },
          "metadata": {},
          "execution_count": 36
        }
      ]
    },
    {
      "cell_type": "markdown",
      "source": [
        "## 32번: 비트 마스크"
      ],
      "metadata": {
        "id": "A8qV_WdmF7TE"
      }
    },
    {
      "cell_type": "code",
      "source": [
        "def solution(data):\n",
        "    result_and = result_or = data[0]\n",
        "    for num in range(1, len(data)):\n",
        "        result_and &= data[num]\n",
        "        result_or |= data[num]\n",
        "    return (result_and, result_or)\n",
        "\n",
        "solution([12, 5, 6])"
      ],
      "metadata": {
        "colab": {
          "base_uri": "https://localhost:8080/"
        },
        "id": "1VvSE2B2b_nL",
        "outputId": "382e0a58-0941-41d0-edee-7d6d3bef0be9"
      },
      "execution_count": null,
      "outputs": [
        {
          "output_type": "execute_result",
          "data": {
            "text/plain": [
              "(4, 15)"
            ]
          },
          "metadata": {},
          "execution_count": 39
        }
      ]
    },
    {
      "cell_type": "markdown",
      "source": [
        "## 33번: 이메일 주소 검증"
      ],
      "metadata": {
        "id": "fwobVj2td4FF"
      }
    },
    {
      "cell_type": "code",
      "source": [
        "import re\n",
        "\n",
        "def solution(data):\n",
        "    standard = re.compile(r\"[a-zA-Z0-9._+]+@[a-zA-Z0-9.-]+\\.[a-zA-Z]{2,}\")\n",
        "    return True if standard.match(data) else False\n",
        "\n",
        "solution(\"user@example.com\")"
      ],
      "metadata": {
        "colab": {
          "base_uri": "https://localhost:8080/"
        },
        "id": "_Tj5ucMFenCr",
        "outputId": "e45a1814-3aa4-4692-ad48-b29eae40aba4"
      },
      "execution_count": null,
      "outputs": [
        {
          "output_type": "execute_result",
          "data": {
            "text/plain": [
              "True"
            ]
          },
          "metadata": {},
          "execution_count": 42
        }
      ]
    },
    {
      "cell_type": "markdown",
      "source": [
        "## 34번: 날짜 패턴 찾기"
      ],
      "metadata": {
        "id": "qGeaMqp7kLz3"
      }
    },
    {
      "cell_type": "code",
      "source": [
        "# 내 처음 풀이 (중도에 뤼튼선생님께 물어봄.)\n",
        "data = \"The event will happen on 2024-01-20.\"\n",
        "data2 = \"Dates: 2023-12-31, 2024-01-01, and 2024-02-28.\"\n",
        "\n",
        "import re\n",
        "\n",
        "def solution(data):\n",
        "    dates = re.findall(r\"\\d{4}\\-\\d{2}\\-\\d{2}\", data)\n",
        "    return dates\n",
        "\n",
        "\n",
        "solution(data2)"
      ],
      "metadata": {
        "colab": {
          "base_uri": "https://localhost:8080/"
        },
        "id": "FwgoYORN2ef2",
        "outputId": "5911724c-53f0-4c93-f2bb-60208e2789e4"
      },
      "execution_count": null,
      "outputs": [
        {
          "output_type": "execute_result",
          "data": {
            "text/plain": [
              "['2023-12-31', '2024-01-01', '2024-02-28']"
            ]
          },
          "metadata": {},
          "execution_count": 3
        }
      ]
    },
    {
      "cell_type": "code",
      "source": [
        "data = \"The event will happen on 2024-01-20.\"\n",
        "data2 = \"Dates: 2023-12-31, 2024-01-01, and 2024-02-28.\"\n",
        "\n",
        "import re\n",
        "\n",
        "def solution(data):\n",
        "    # 정규표현식으로 연, 월, 일을 직접 추출\n",
        "    dates = re.findall(r\"(\\d{4})-(\\d{2})-(\\d{2})\", data)\n",
        "    # 추출한 연, 월, 일을 정수형으로 변환하여 튜플로 만듦\n",
        "    result = [tuple(map(int, date)) for date in dates]\n",
        "    return result\n",
        "\n",
        "solution(data2)"
      ],
      "metadata": {
        "id": "XX05fefQ3DMp",
        "colab": {
          "base_uri": "https://localhost:8080/"
        },
        "outputId": "81e51c2f-5d34-4aff-870b-31e497e56879"
      },
      "execution_count": null,
      "outputs": [
        {
          "output_type": "execute_result",
          "data": {
            "text/plain": [
              "[(2023, 12, 31), (2024, 1, 1), (2024, 2, 28)]"
            ]
          },
          "metadata": {},
          "execution_count": 5
        }
      ]
    },
    {
      "cell_type": "code",
      "source": [
        "# findall함수 안에 괄호()로 만든 그룹이 2개 이상이라면, 튜플로 반환해줌.\n",
        "# 괄호()로 묶은 그룹들만 추출해준다. 이걸 몰랐네!"
      ],
      "metadata": {
        "id": "NuiRyCWqH7D3"
      },
      "execution_count": null,
      "outputs": []
    },
    {
      "cell_type": "markdown",
      "source": [
        "## 35번: HTML 태그 제거"
      ],
      "metadata": {
        "id": "X1TxccUaNaJe"
      }
    },
    {
      "cell_type": "code",
      "source": [
        "data = \"<p>Hello, <b>World</b>!</p>\"\n",
        "data2 = \"<div><i>Sample</i> Text</div>\"\n",
        "\n",
        "import re\n",
        "\n",
        "def solution(data):\n",
        "    result = re.sub(r\"<[^>]+>\", \"\", data)\n",
        "    return result\n",
        "\n",
        "solution(data2)"
      ],
      "metadata": {
        "colab": {
          "base_uri": "https://localhost:8080/",
          "height": 36
        },
        "id": "3lNBeaHCNldx",
        "outputId": "98e9deac-08f2-4206-ae3a-1ca1d8857107"
      },
      "execution_count": null,
      "outputs": [
        {
          "output_type": "execute_result",
          "data": {
            "text/plain": [
              "'Sample Text'"
            ],
            "application/vnd.google.colaboratory.intrinsic+json": {
              "type": "string"
            }
          },
          "metadata": {},
          "execution_count": 15
        }
      ]
    },
    {
      "cell_type": "code",
      "source": [
        "# 내가 처음에 작성했던 코드. <div>같이 태그명이 3자 이상인 경우에는 걸러지게 된다.\n",
        "def solution(data):\n",
        "    result = re.sub(r\"[<].{,2}[>]\", \"\", data)\n",
        "    return result\n",
        "\n",
        "solution(data2)"
      ],
      "metadata": {
        "colab": {
          "base_uri": "https://localhost:8080/",
          "height": 36
        },
        "id": "Haq50AEOOAxF",
        "outputId": "f46dc2cb-1f7d-42f6-8731-6c65aed97793"
      },
      "execution_count": null,
      "outputs": [
        {
          "output_type": "execute_result",
          "data": {
            "text/plain": [
              "'<div>Sample Text</div>'"
            ],
            "application/vnd.google.colaboratory.intrinsic+json": {
              "type": "string"
            }
          },
          "metadata": {},
          "execution_count": 16
        }
      ]
    },
    {
      "cell_type": "markdown",
      "source": [
        "## 36번: 전화번호 형식 변환"
      ],
      "metadata": {
        "id": "P2-zT_BuTO9U"
      }
    },
    {
      "cell_type": "code",
      "source": [
        "data = \"항상 여기로 연락주세요 01012345678.\"\n",
        "data2 = \"제 전화번호는 0311234567, 06412345678 입니다.\"\n",
        "\n",
        "import re\n",
        "\n",
        "def solution(data):\n",
        "    result = re.sub(r\"(\\d{3})(\\d{4})(\\d{3,4})\", r\"\\1-\\2-\\3\", data)\n",
        "    return result\n",
        "\n",
        "solution(data2)"
      ],
      "metadata": {
        "colab": {
          "base_uri": "https://localhost:8080/",
          "height": 36
        },
        "id": "n4eZcgS6BpWG",
        "outputId": "6179e96c-1ea2-4dcd-bfda-6dd4aa2453f7"
      },
      "execution_count": null,
      "outputs": [
        {
          "output_type": "execute_result",
          "data": {
            "text/plain": [
              "'제 전화번호는 031-1234-567, 064-1234-5678 입니다.'"
            ],
            "application/vnd.google.colaboratory.intrinsic+json": {
              "type": "string"
            }
          },
          "metadata": {},
          "execution_count": 38
        }
      ]
    },
    {
      "cell_type": "markdown",
      "source": [
        "## 37번: 로그 파일 분석"
      ],
      "metadata": {
        "id": "jzgdWOyCLSYE"
      }
    },
    {
      "cell_type": "code",
      "source": [
        "data = \"[08:55:45] 사용자 로그인\"\n",
        "data2 = \"[13:01:02] 데이터베이스 접근\"\n",
        "\n",
        "import re\n",
        "\n",
        "def solution(data):\n",
        "    values = re.findall(r\"([0-9:]{8})\\] (\\w+\\s\\w+)\", data)\n",
        "    time, message = values[0]\n",
        "    return {\"time\": time, \"message\": message}\n",
        "\n",
        "solution(data2)"
      ],
      "metadata": {
        "colab": {
          "base_uri": "https://localhost:8080/"
        },
        "id": "COu9UBUtPEtj",
        "outputId": "8d578a9c-8dd5-462b-b159-ff771d7d4063"
      },
      "execution_count": null,
      "outputs": [
        {
          "output_type": "execute_result",
          "data": {
            "text/plain": [
              "{'time': '13:01:02', 'message': '데이터베이스 접근'}"
            ]
          },
          "metadata": {},
          "execution_count": 3
        }
      ]
    },
    {
      "cell_type": "markdown",
      "source": [
        "## 38번: URL 및 쿼리스트링 파싱"
      ],
      "metadata": {
        "id": "IHyT3dtRRBMU"
      }
    },
    {
      "cell_type": "code",
      "source": [
        "# 정규표현식을 최대한 사용해서 멋있게.\n",
        "data = \"http://www.weniv.co.k\"\n",
        "data2 = \"https://www.weniv.co.kr/path/to/resource?user=abc&lang=en\"\n",
        "\n",
        "import re\n",
        "\n",
        "def solution(data):\n",
        "    result = re.match(r\"(?P<protocol>.*)://(?P<domain>.[^/]*)(?P<path>[^?]*)\\??(?P<query>.*)\", data)\n",
        "    return result.groupdict()\n",
        "\n",
        "solution(data)"
      ],
      "metadata": {
        "colab": {
          "base_uri": "https://localhost:8080/"
        },
        "id": "I7BUlrS2UWJi",
        "outputId": "83e9f061-2ba9-4aff-846c-af3177c3c6e2"
      },
      "execution_count": null,
      "outputs": [
        {
          "output_type": "execute_result",
          "data": {
            "text/plain": [
              "{'protocol': 'http', 'domain': 'www.weniv.co.k', 'path': '', 'query': ''}"
            ]
          },
          "metadata": {},
          "execution_count": 109
        }
      ]
    },
    {
      "cell_type": "markdown",
      "source": [
        "## 39번: 파일 확장자 추출"
      ],
      "metadata": {
        "id": "O0HqtPCyhZ7w"
      }
    },
    {
      "cell_type": "code",
      "source": [
        "data = \"example/document.pdf\"\n",
        "data2 = \"archive.tar.gz\"\n",
        "data3 = \"example/folder\"\n",
        "\n",
        "import re\n",
        "\n",
        "def solution(data):\n",
        "    result = re.search(r\"\\.(\\w+)$\", data)\n",
        "    return result.group(1) if result else \"\"\n",
        "\n",
        "solution(data2)"
      ],
      "metadata": {
        "colab": {
          "base_uri": "https://localhost:8080/",
          "height": 36
        },
        "id": "JGu8u2FwhdmX",
        "outputId": "79711b55-9bbd-4460-ef81-8b2554b6f735"
      },
      "execution_count": null,
      "outputs": [
        {
          "output_type": "execute_result",
          "data": {
            "text/plain": [
              "'gz'"
            ],
            "application/vnd.google.colaboratory.intrinsic+json": {
              "type": "string"
            }
          },
          "metadata": {},
          "execution_count": 121
        }
      ]
    },
    {
      "cell_type": "code",
      "source": [
        "# 긍정형 후방탐색(Positive Lookbehind)라는것도 있다.\n",
        "# (?<=패턴) 식으로 사용하며, 해당 패턴 뒤에있는 문자열을 매칭하겠다는 의미다.\n",
        "# group에는 포함되지 않는다!\n",
        "# https://minsone.github.io/regex/regexp-lookaround#google_vignette"
      ],
      "metadata": {
        "id": "P98vOpVbsIE5"
      },
      "execution_count": null,
      "outputs": []
    },
    {
      "cell_type": "code",
      "source": [
        "# 긍정형 후방탐색을 사용한 풀이\n",
        "data = \"example/document.pdf\"\n",
        "data2 = \"archive.tar.gz\"\n",
        "data3 = \"example/folder\"\n",
        "\n",
        "import re\n",
        "\n",
        "def solution(data):\n",
        "    result = re.search(r\"(?<=\\.)(\\w+)$\", data)\n",
        "    return result.group() if result else \"\"\n",
        "\n",
        "solution(data2)"
      ],
      "metadata": {
        "colab": {
          "base_uri": "https://localhost:8080/",
          "height": 36
        },
        "id": "_Mbwl5Aqsj-V",
        "outputId": "bf59fd57-4fc0-42c5-803d-40f54aef0202"
      },
      "execution_count": null,
      "outputs": [
        {
          "output_type": "execute_result",
          "data": {
            "text/plain": [
              "'gz'"
            ],
            "application/vnd.google.colaboratory.intrinsic+json": {
              "type": "string"
            }
          },
          "metadata": {},
          "execution_count": 124
        }
      ]
    },
    {
      "cell_type": "markdown",
      "source": [
        "## 40번: 숫자 추출"
      ],
      "metadata": {
        "id": "uFf9Vfg_s-oP"
      }
    },
    {
      "cell_type": "code",
      "source": [
        "data = \"가격은 3,500원입니다.\"\n",
        "data2 = \"오늘은 2023년 3월 5일\"\n",
        "data3 = \"문자만 있는 경우\"\n",
        "\n",
        "import re\n",
        "\n",
        "def solution(data):\n",
        "    result = re.sub(\"\\D\", \"\", data)\n",
        "    return result\n",
        "\n",
        "solution(data3)"
      ],
      "metadata": {
        "colab": {
          "base_uri": "https://localhost:8080/",
          "height": 36
        },
        "id": "Eppx-HPTtCRg",
        "outputId": "4ea1f6b8-4ff4-4bfd-eda2-a7c78eb7ca46"
      },
      "execution_count": null,
      "outputs": [
        {
          "output_type": "execute_result",
          "data": {
            "text/plain": [
              "''"
            ],
            "application/vnd.google.colaboratory.intrinsic+json": {
              "type": "string"
            }
          },
          "metadata": {},
          "execution_count": 127
        }
      ]
    },
    {
      "cell_type": "markdown",
      "source": [
        "# 41~46"
      ],
      "metadata": {
        "id": "Eba9gX-wt_Yc"
      }
    },
    {
      "cell_type": "markdown",
      "source": [
        "## 41번: 괄호 짝 맞추기"
      ],
      "metadata": {
        "id": "tDoXUGHWuBQX"
      }
    },
    {
      "cell_type": "code",
      "source": [
        "def solution(data)->bool:\n",
        "    dic =  {']':'[', '}':'{', ')':'('}\n",
        "\n",
        "    curr = []\n",
        "    for i in data:\n",
        "        if i in dic.values():\n",
        "            curr.append(i)\n",
        "        else:\n",
        "            if not curr or dic[i] != curr.pop():\n",
        "                return False\n",
        "    return True\n",
        "\n",
        "data = \"({[]})\"\n",
        "solution(data)"
      ],
      "metadata": {
        "colab": {
          "base_uri": "https://localhost:8080/"
        },
        "id": "mHTmdfqTZfEl",
        "outputId": "875701ba-de46-46db-a19c-567c705acc66"
      },
      "execution_count": null,
      "outputs": [
        {
          "output_type": "execute_result",
          "data": {
            "text/plain": [
              "True"
            ]
          },
          "metadata": {},
          "execution_count": 6
        }
      ]
    },
    {
      "cell_type": "markdown",
      "source": [
        "## 42번: 최근 요청 기록 관리"
      ],
      "metadata": {
        "id": "GHOnABOBC0lH"
      }
    },
    {
      "cell_type": "code",
      "source": [
        "def solution(data):\n",
        "    size = data['size']\n",
        "    requests = data['requests']\n",
        "\n",
        "    return requests[-(size):]"
      ],
      "metadata": {
        "id": "3_Vj1uo7MR8M"
      },
      "execution_count": null,
      "outputs": []
    },
    {
      "cell_type": "markdown",
      "source": [
        "## 43번: 최근 사용된 페이지 관리"
      ],
      "metadata": {
        "id": "otvo3yR_NEyj"
      }
    },
    {
      "cell_type": "code",
      "source": [
        "def solution(data):\n",
        "    size = data['size']\n",
        "    pages = data['pages']\n",
        "\n",
        "    return pages[-(size):]"
      ],
      "metadata": {
        "id": "3919C9tcNHIF"
      },
      "execution_count": null,
      "outputs": []
    },
    {
      "cell_type": "markdown",
      "source": [
        "## 44번: 단어 빈도수 세기"
      ],
      "metadata": {
        "id": "a7MZhv8LN05R"
      }
    },
    {
      "cell_type": "code",
      "source": [
        "import re\n",
        "def solution(data):\n",
        "    data = data.lower()\n",
        "    words = sorted(list(set(re.findall(r\"\\w+\", data))))\n",
        "    return {i:data.count(i) for i in words}\n",
        "\n",
        "solution(\"Hello world, hello\")"
      ],
      "metadata": {
        "colab": {
          "base_uri": "https://localhost:8080/"
        },
        "id": "01jX3-Q8OAKx",
        "outputId": "67729a52-7b00-4d19-cd82-7e69916b78e5"
      },
      "execution_count": null,
      "outputs": [
        {
          "output_type": "execute_result",
          "data": {
            "text/plain": [
              "{'hello': 2, 'world': 1}"
            ]
          },
          "metadata": {},
          "execution_count": 32
        }
      ]
    },
    {
      "cell_type": "markdown",
      "source": [
        "## 45번: 두 큐의 합 같게 만들기"
      ],
      "metadata": {
        "id": "rt0OfvzCOwow"
      }
    },
    {
      "cell_type": "code",
      "source": [
        "def solution(data):\n",
        "    q1 = data['queue1']\n",
        "    q2 = data['queue2']\n",
        "    count = 0\n",
        "    sum_q1 = sum(q1)\n",
        "    sum_q2 = sum(q2)\n",
        "\n",
        "    while sum_q1 != sum_q2:\n",
        "        try:\n",
        "            if sum_q1 > sum_q2:\n",
        "                sum_q1 -= q1[0]\n",
        "                sum_q2 += q1[0]\n",
        "                q2.append(q1.pop(0))\n",
        "                count += 1\n",
        "                print(count, q1, q2)\n",
        "            elif sum_q1 < sum_q2:\n",
        "                sum_q1 += q2[0]\n",
        "                sum_q2 -= q2[0]\n",
        "                q1.append(q2.pop(0))\n",
        "                count += 1\n",
        "                print(count, q1, q2)\n",
        "        except:\n",
        "            return -1\n",
        "    return count\n",
        "\n",
        "solution({'queue1': [1, 2, 1, 2], 'queue2': [1, 10, 1, 2]})"
      ],
      "metadata": {
        "colab": {
          "base_uri": "https://localhost:8080/"
        },
        "id": "WUcO2GFHTT8v",
        "outputId": "be3edf8c-5558-4548-85da-e01eb09bf94e"
      },
      "execution_count": null,
      "outputs": [
        {
          "output_type": "stream",
          "name": "stdout",
          "text": [
            "1 [1, 2, 1, 2, 1] [10, 1, 2]\n",
            "2 [1, 2, 1, 2, 1, 10] [1, 2]\n",
            "3 [2, 1, 2, 1, 10] [1, 2, 1]\n",
            "4 [1, 2, 1, 10] [1, 2, 1, 2]\n",
            "5 [2, 1, 10] [1, 2, 1, 2, 1]\n",
            "6 [1, 10] [1, 2, 1, 2, 1, 2]\n",
            "7 [10] [1, 2, 1, 2, 1, 2, 1]\n"
          ]
        },
        {
          "output_type": "execute_result",
          "data": {
            "text/plain": [
              "7"
            ]
          },
          "metadata": {},
          "execution_count": 1
        }
      ]
    },
    {
      "cell_type": "code",
      "source": [
        "# Pyalgo 사이트에서는 실행 안됨.\n",
        "# 리스트에서 첫번째 원소를 삭제하면 나머지 원소들이 앞으로 한칸씩 이동해야함.\n",
        "# 덱(deque)는 이중연결리스트이므로 양쪽에서의 삽입, 삭제가 자유롭다."
      ],
      "metadata": {
        "id": "R1qkpL3maMc0"
      },
      "execution_count": null,
      "outputs": []
    },
    {
      "cell_type": "code",
      "source": [
        "from collections import deque\n",
        "\n",
        "def solution(data):\n",
        "    q1 = deque(data['queue1'])\n",
        "    q2 = deque(data['queue2'])\n",
        "    count = 0\n",
        "    sum_q1 = sum(q1)\n",
        "    sum_q2 = sum(q2)\n",
        "\n",
        "    # 두 큐의 합이 홀수라면 이들을 같게 만들 수 없음\n",
        "    if (sum_q1 + sum_q2) % 2 != 0:\n",
        "        return -1\n",
        "\n",
        "    while sum_q1 != sum_q2:\n",
        "        if sum_q1 > sum_q2:\n",
        "            pop_q1 = q1.popleft()\n",
        "            sum_q1 -= pop_q1\n",
        "            sum_q2 += pop_q1\n",
        "            q2.append(pop_q1)\n",
        "            count += 1\n",
        "        else:\n",
        "            pop_q2 = q2.popleft()\n",
        "            sum_q1 += pop_q2\n",
        "            sum_q2 -= pop_q2\n",
        "            q1.append(pop_q2)\n",
        "            count += 1\n",
        "\n",
        "        # 두 큐의 합이 홀수라면 이들을 같게 만들 수 없음\n",
        "        if (sum_q1 + sum_q2) % 2 != 0:\n",
        "            return -1\n",
        "\n",
        "    return count"
      ],
      "metadata": {
        "id": "9HLVWCEKveYU"
      },
      "execution_count": null,
      "outputs": []
    },
    {
      "cell_type": "markdown",
      "source": [
        "## 46번: 순환 큐에서의 데이터 처리"
      ],
      "metadata": {
        "id": "pmW2I6D7vrim"
      }
    },
    {
      "cell_type": "code",
      "source": [
        "def solution(data):\n",
        "    size = data['size']\n",
        "    commands = data['commands']\n",
        "    q = []\n",
        "    result = []\n",
        "\n",
        "    for command in commands:\n",
        "        s, *i = command.split()\n",
        "        if s == 'insert':\n",
        "            q.append(i)\n",
        "            result.append(None)\n",
        "        elif s == 'search':\n",
        "            if i in q:\n",
        "                result.append(True)\n",
        "            else:\n",
        "                result.append(False)\n",
        "        else:\n",
        "            if q:  # 큐가 비어있는지 확인\n",
        "                q.pop()\n",
        "            result.append(None)\n",
        "    return result\n",
        "\n",
        "solution({'size': 3, 'commands': ['insert 1', 'insert 2', 'insert 3', 'insert 4', 'search 3', 'delete', 'search 3']})"
      ],
      "metadata": {
        "colab": {
          "base_uri": "https://localhost:8080/"
        },
        "id": "DA2G_Kbm-3K6",
        "outputId": "80cad020-d310-4aaf-d494-ecde0b2a62e3"
      },
      "execution_count": null,
      "outputs": [
        {
          "output_type": "execute_result",
          "data": {
            "text/plain": [
              "[None, None, None, None, True, None, True]"
            ]
          },
          "metadata": {},
          "execution_count": 11
        }
      ]
    },
    {
      "cell_type": "code",
      "source": [
        "# 언패킹할때,\n",
        "# s, i = command.split()\n",
        "# 만약 command값으로 'delete'가 들어올 경우 요소가 하나뿐이기 때문에 에러가 발생한다.\n",
        "# 하지만 별표*를 사용하면\n",
        "# s, *i = command.split()\n",
        "# s에 할당하고 난 후 리스트의 남은 요소 모두를 i에 할당한다. 즉 빈 리스트가 할당되므로 에러가 발생하지 않는다.\n",
        "\n",
        "# 위와같이 split한 값이 2개 이상, 1개인 경우가 섞여있는 문제에서 유용하게 사용할 수 있다."
      ],
      "metadata": {
        "id": "HsvgZZy4_YP6"
      },
      "execution_count": null,
      "outputs": []
    },
    {
      "cell_type": "markdown",
      "source": [
        "# 47~52"
      ],
      "metadata": {
        "id": "6yQ32YmVGWue"
      }
    },
    {
      "cell_type": "markdown",
      "source": [
        "## 47: 이진 트리의 최대 깊이 찾기"
      ],
      "metadata": {
        "id": "C7MrtRFDGYb1"
      }
    },
    {
      "cell_type": "code",
      "source": [
        "def solution(data):\n",
        "    return len(bin(len(data))[2:])\n",
        "\n",
        "data = [1, 2, 3, None, None, 4, 5]\n",
        "solution(data)\n",
        "\n",
        "1\n",
        "11\n",
        "1111\n",
        "8421\n",
        "6\n",
        "0b110"
      ],
      "metadata": {
        "colab": {
          "base_uri": "https://localhost:8080/"
        },
        "id": "5rcwf4n8Ga8P",
        "outputId": "0221a095-d0da-4a12-e989-3a4b666a332a"
      },
      "execution_count": null,
      "outputs": [
        {
          "output_type": "execute_result",
          "data": {
            "text/plain": [
              "3"
            ]
          },
          "metadata": {},
          "execution_count": 15
        }
      ]
    },
    {
      "cell_type": "markdown",
      "source": [
        "## 48: 이진 트리에서의 경로 합 계산"
      ],
      "metadata": {
        "id": "h0nkBMIjH6eW"
      }
    },
    {
      "cell_type": "code",
      "source": [
        "def solution(data):\n",
        "    tree = data[\"tree\"]\n",
        "    if not tree:\n",
        "        return []\n",
        "\n",
        "    stack = [(tree, tree[\"value\"])]\n",
        "    path_sums = []\n",
        "\n",
        "    while stack:\n",
        "        current, current_sum = stack.pop()\n",
        "\n",
        "        # 현재 노드가 리프 노드인 경우, 경로 합을 결과에 추가\n",
        "        if not current.get(\"left\") and not current.get(\"right\"):\n",
        "            path_sums.append(current_sum)\n",
        "\n",
        "        # 오른쪽 자식이 있으면 스택에 추가\n",
        "        if current.get(\"right\"):\n",
        "            stack.append((current[\"right\"], current_sum + current[\"right\"][\"value\"]))\n",
        "\n",
        "        # 왼쪽 자식이 있으면 스택에 추가\n",
        "        if current.get(\"left\"):\n",
        "            stack.append((current[\"left\"], current_sum + current[\"left\"][\"value\"]))\n",
        "\n",
        "    return path_sums\n",
        "\n",
        "data = {'tree': {'value': 1, 'left': {'value': 2, 'left': {'value': 4}, 'right': {'value': 5}}, 'right': {'value': 3}}}\n",
        "solution(data)"
      ],
      "metadata": {
        "id": "NpDvjCl8I7ba",
        "colab": {
          "base_uri": "https://localhost:8080/"
        },
        "outputId": "43b9d890-0ced-4a1e-b7f6-0551874947f9"
      },
      "execution_count": null,
      "outputs": [
        {
          "output_type": "execute_result",
          "data": {
            "text/plain": [
              "[7, 8, 4]"
            ]
          },
          "metadata": {},
          "execution_count": 9
        }
      ]
    },
    {
      "cell_type": "code",
      "source": [
        "def solution(data):\n",
        "    tree = data[\"tree\"]\n",
        "    if not tree:\n",
        "        return []\n",
        "\n",
        "    def find_sums(node, current_sum):\n",
        "        if not node:\n",
        "            return []\n",
        "        if not node.get(\"left\") and not node.get(\"right\"):\n",
        "            return [current_sum + node[\"value\"]]\n",
        "        return find_sums(node.get(\"left\"), current_sum + node[\"value\"]) + find_sums(node.get(\"right\"), current_sum + node[\"value\"])\n",
        "\n",
        "    return find_sums(tree, 0)"
      ],
      "metadata": {
        "id": "bu2fnKP-2RuL"
      },
      "execution_count": null,
      "outputs": []
    },
    {
      "cell_type": "markdown",
      "source": [
        "## 49: 그래프의 최단 경로 찾기"
      ],
      "metadata": {
        "id": "r-oPspNxzgb4"
      }
    },
    {
      "cell_type": "code",
      "source": [
        "from collections import deque\n",
        "\n",
        "\n",
        "def solution(data):\n",
        "    def bfs_shortest_path(graph, start, end):\n",
        "        visited = set()\n",
        "        queue = deque([(start, 0)])  # (current node, distance)\n",
        "\n",
        "        while queue:\n",
        "            current, distance = queue.popleft()\n",
        "            if current == end:\n",
        "                return distance\n",
        "\n",
        "            if current not in visited:\n",
        "                visited.add(current)\n",
        "                for neighbor in graph.get(current, []):\n",
        "                    queue.append((neighbor, distance + 1))\n",
        "\n",
        "        return -1  # Path not found\n",
        "\n",
        "    graph = data[\"graph\"]\n",
        "    start = data[\"start\"]\n",
        "    end = data[\"end\"]\n",
        "    return bfs_shortest_path(graph, start, end)"
      ],
      "metadata": {
        "id": "0PhLWn0l7fA4"
      },
      "execution_count": null,
      "outputs": []
    },
    {
      "cell_type": "code",
      "source": [
        "dic = {\"0\":0, \"1\":1, \"2\":2}\n",
        "\n",
        "dic[\"0\"]"
      ],
      "metadata": {
        "colab": {
          "base_uri": "https://localhost:8080/"
        },
        "id": "EFHls3KZVBIQ",
        "outputId": "5c753dfc-5fa3-48c8-850e-3b017d16c60c"
      },
      "execution_count": null,
      "outputs": [
        {
          "output_type": "execute_result",
          "data": {
            "text/plain": [
              "0"
            ]
          },
          "metadata": {},
          "execution_count": 3
        }
      ]
    },
    {
      "cell_type": "markdown",
      "source": [
        "## 50: 그래프 사이클 감지"
      ],
      "metadata": {
        "id": "-sylVILK9AV2"
      }
    },
    {
      "cell_type": "code",
      "source": [
        "def solution(data):\n",
        "    def has_cycle(graph):\n",
        "        visited = set()\n",
        "        rec_stack = set()\n",
        "\n",
        "        for node in graph:\n",
        "            if node not in visited:\n",
        "                if dfs(graph, node, visited, rec_stack):\n",
        "                    return True\n",
        "\n",
        "        return False\n",
        "\n",
        "    def dfs(graph, current, visited, rec_stack):\n",
        "        if current not in visited:\n",
        "            visited.add(current)\n",
        "            rec_stack.add(current)\n",
        "\n",
        "            for neighbor in graph.get(current, []):\n",
        "                if neighbor not in visited:\n",
        "                    if dfs(graph, neighbor, visited, rec_stack):\n",
        "                        return True\n",
        "                elif neighbor in rec_stack:\n",
        "                    return True\n",
        "\n",
        "        rec_stack.remove(current)\n",
        "        return False\n",
        "\n",
        "    return has_cycle(data[\"graph\"])"
      ],
      "metadata": {
        "id": "Mc663nxM9E6S"
      },
      "execution_count": null,
      "outputs": []
    },
    {
      "cell_type": "markdown",
      "source": [
        "## 51: 최소 동전 개수 찾기"
      ],
      "metadata": {
        "id": "wUZf1xW2XKz7"
      }
    },
    {
      "cell_type": "code",
      "source": [
        "def solution(data):\n",
        "\n",
        "    coins = sorted(data['coins'], reverse=True)\n",
        "    amount = data['amount']\n",
        "\n",
        "    cnt = i = 0\n",
        "\n",
        "    if len(coins) == 1:\n",
        "        return amount // coins[0]\n",
        "\n",
        "    while amount > 0:\n",
        "        if amount < coins[i]:\n",
        "            i += 1\n",
        "        else:\n",
        "            amount -= coins[i]\n",
        "            cnt += 1\n",
        "    return cnt"
      ],
      "metadata": {
        "id": "kulD5nNMXOwy"
      },
      "execution_count": null,
      "outputs": []
    },
    {
      "cell_type": "code",
      "source": [
        "# 뤼튼에게 좀 더 효율적인 방법을 물어본 결과\n",
        "def solution(data):\n",
        "    coins = sorted(data['coins'], reverse=True)\n",
        "    amount = data['amount']\n",
        "    ret = [0] * len(coins)\n",
        "\n",
        "    for i in range(len(coins)):\n",
        "        ret[i] = amount // coins[i]  # 해당 단위로 나눈 몫이 동전의 갯수\n",
        "        amount %= coins[i]  # 나머지를 다음 단위의 금액으로 사용\n",
        "\n",
        "    return sum(ret)"
      ],
      "metadata": {
        "id": "WmjTqPAugMfZ"
      },
      "execution_count": null,
      "outputs": []
    },
    {
      "cell_type": "markdown",
      "source": [
        "## 52: 아이스크림 잔돈 계산"
      ],
      "metadata": {
        "id": "0UaDw9vQarLe"
      }
    },
    {
      "cell_type": "code",
      "source": [
        "def solution(data):\n",
        "    ice = [10000, 5000, 1000, 500, 100]\n",
        "    ret = [0] * 5\n",
        "    cost = 10000 - data * 700  # 아이스크림 가격을 뺀 후의 거스름돈\n",
        "    for i in range(len(ice)):\n",
        "        ret[i] = cost // ice[i]  # 해당 단위로 나눈 몫이 거스름돈의 갯수\n",
        "        cost %= ice[i]  # 나머지를 다음 단위의 거스름돈으로 사용\n",
        "    return ret"
      ],
      "metadata": {
        "id": "3zq5Z3urD7o5"
      },
      "execution_count": null,
      "outputs": []
    }
  ]
}