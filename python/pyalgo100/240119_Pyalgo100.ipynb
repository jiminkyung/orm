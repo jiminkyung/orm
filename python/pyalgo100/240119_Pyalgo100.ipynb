{
  "nbformat": 4,
  "nbformat_minor": 0,
  "metadata": {
    "colab": {
      "provenance": [],
      "authorship_tag": "ABX9TyNf6PqAb/iej488rWv0U24S"
    },
    "kernelspec": {
      "name": "python3",
      "display_name": "Python 3"
    },
    "language_info": {
      "name": "python"
    }
  },
  "cells": [
    {
      "cell_type": "markdown",
      "source": [
        "# 1~6"
      ],
      "metadata": {
        "id": "wWBjJAnfifpL"
      }
    },
    {
      "cell_type": "markdown",
      "source": [
        "## 1번: 더하기"
      ],
      "metadata": {
        "id": "DYe2kJHuFaJj"
      }
    },
    {
      "cell_type": "code",
      "execution_count": null,
      "metadata": {
        "colab": {
          "base_uri": "https://localhost:8080/"
        },
        "id": "Uxgkbc0_7pbt",
        "outputId": "3b73c634-3465-4df3-f26f-272a4f5cb4ca"
      },
      "outputs": [
        {
          "output_type": "stream",
          "name": "stdout",
          "text": [
            "9\n",
            "16\n"
          ]
        }
      ],
      "source": [
        "data = [1, 2, 3, 4, 5]\n",
        "data2 = [3, 5, 7, 1]\n",
        "\n",
        "def solution(data):\n",
        "    return sum([i for i in data if i % 2 != 0])\n",
        "\n",
        "print(solution(data))\n",
        "print(solution(data2))"
      ]
    },
    {
      "cell_type": "markdown",
      "source": [
        "## 2번: 곱하기"
      ],
      "metadata": {
        "id": "-q8LALowFW5e"
      }
    },
    {
      "cell_type": "code",
      "source": [
        "data = [1, 2, 3, 4, 5]\n",
        "data2 = [3, 5, 7, 1]\n",
        "\n",
        "def solution(data):\n",
        "    result = 1\n",
        "    for i in data:\n",
        "        result *= i\n",
        "    return result if len(data) != 0 else 0\n",
        "\n",
        "print(solution(data))\n",
        "print(solution(data2))"
      ],
      "metadata": {
        "colab": {
          "base_uri": "https://localhost:8080/"
        },
        "id": "xxHu4Xgw8a2G",
        "outputId": "5664b3c2-7a70-4ab8-a564-cb2641c1df05"
      },
      "execution_count": null,
      "outputs": [
        {
          "output_type": "stream",
          "name": "stdout",
          "text": [
            "120\n",
            "105\n"
          ]
        }
      ]
    },
    {
      "cell_type": "code",
      "source": [
        "# 파이알고에서는 통과 X\n",
        "\n",
        "data = [1, 2, 3, 4, 5]\n",
        "data2 = [3, 5, 7, 1]\n",
        "\n",
        "def solution(data):\n",
        "    return eval(\"*\".join([str(i) for i in data]))\n",
        "\n",
        "print(solution(data))\n",
        "print(solution(data2))"
      ],
      "metadata": {
        "colab": {
          "base_uri": "https://localhost:8080/"
        },
        "id": "YK-vIpmCBXkC",
        "outputId": "ac88dabe-6750-46ec-ad15-69b6e6a6b12e"
      },
      "execution_count": null,
      "outputs": [
        {
          "output_type": "stream",
          "name": "stdout",
          "text": [
            "120\n",
            "105\n"
          ]
        }
      ]
    },
    {
      "cell_type": "markdown",
      "source": [
        "## 3번: 조건 덧셈"
      ],
      "metadata": {
        "id": "rGqOB0I0FUzN"
      }
    },
    {
      "cell_type": "code",
      "source": [
        "data = [1, 2, 3, 4, 5]\n",
        "data2 = [3, 5, 7, 1]\n",
        "\n",
        "def solution(data):\n",
        "    return sum(i for i in data if i % 3 != 0 and i % 5 != 0)\n",
        "\n",
        "print(solution(data))\n",
        "print(solution(data2))"
      ],
      "metadata": {
        "colab": {
          "base_uri": "https://localhost:8080/"
        },
        "id": "Cn4ssZiMBqOa",
        "outputId": "1f5217d6-1e15-411e-db3b-b10a2ec81f61"
      },
      "execution_count": null,
      "outputs": [
        {
          "output_type": "stream",
          "name": "stdout",
          "text": [
            "7\n",
            "8\n"
          ]
        }
      ]
    },
    {
      "cell_type": "markdown",
      "source": [
        "## 4번: 크리스마스 쿠키"
      ],
      "metadata": {
        "id": "pItP9Cvf0rtm"
      }
    },
    {
      "cell_type": "code",
      "source": [
        "data = ['쿠키 3개', '쿠키 2개', '쿠키 5개']\n",
        "data2 = ['쿠키 1개', '쿠키 2개', '쿠키 3개']\n",
        "\n",
        "def solution(data):\n",
        "    cookies = [i.split()[1][:-1] for i in data] # 갯수만 뽑아냄.\n",
        "    result = 0\n",
        "    for order, cookie in enumerate(cookies, 1):\n",
        "        result += order * int(cookie) # str형이므로 변환해줌.\n",
        "    return result\n",
        "\n",
        "print(solution(data))\n",
        "print(solution(data2))"
      ],
      "metadata": {
        "id": "YIcYEZOsEN_6",
        "colab": {
          "base_uri": "https://localhost:8080/"
        },
        "outputId": "8b078e97-75df-46b6-bbb6-fe0c756b8b7d"
      },
      "execution_count": null,
      "outputs": [
        {
          "output_type": "stream",
          "name": "stdout",
          "text": [
            "22\n",
            "14\n"
          ]
        }
      ]
    },
    {
      "cell_type": "markdown",
      "source": [
        "## 5번: 1의 개수 반환"
      ],
      "metadata": {
        "id": "mm3EVAU10pqm"
      }
    },
    {
      "cell_type": "code",
      "source": [
        "data = [1, 11, 111, 1111]\n",
        "data2 = [10, 21, 31, 101]\n",
        "\n",
        "def solution(data):\n",
        "    return str(data).count('1')\n",
        "\n",
        "print(solution(data))\n",
        "print(solution(data2))"
      ],
      "metadata": {
        "id": "zIVJF45iFyJ9",
        "colab": {
          "base_uri": "https://localhost:8080/"
        },
        "outputId": "dfdf447e-83ae-4f39-b44e-1f07e0cd482c"
      },
      "execution_count": null,
      "outputs": [
        {
          "output_type": "stream",
          "name": "stdout",
          "text": [
            "10\n",
            "5\n"
          ]
        }
      ]
    },
    {
      "cell_type": "markdown",
      "source": [
        "## 6번: 문자열 덧셈"
      ],
      "metadata": {
        "id": "Z_BNcP9MKYN5"
      }
    },
    {
      "cell_type": "code",
      "source": [
        "data = '1hel2lo3'\n",
        "data2 = '1q2w3e4r'\n",
        "\n",
        "def solution(data):\n",
        "    return sum(map(int, [i for i in data if i.isdigit()])) # 숫자만 뽑아주고, int형으로 변환한 뒤 sum.\n",
        "\n",
        "print(solution(data))\n",
        "print(solution(data2))"
      ],
      "metadata": {
        "colab": {
          "base_uri": "https://localhost:8080/"
        },
        "id": "k00ZbWaS0uoy",
        "outputId": "713d5618-1ccd-4048-b731-c198fb94063b"
      },
      "execution_count": null,
      "outputs": [
        {
          "output_type": "stream",
          "name": "stdout",
          "text": [
            "6\n",
            "10\n"
          ]
        }
      ]
    },
    {
      "cell_type": "markdown",
      "source": [
        "# 7~12"
      ],
      "metadata": {
        "id": "BmJ_wjvqiotu"
      }
    },
    {
      "cell_type": "markdown",
      "source": [
        "## 7번: 업무 우선순위"
      ],
      "metadata": {
        "id": "W7vmwuLr0-fm"
      }
    },
    {
      "cell_type": "code",
      "source": [
        "# 내 코드. 막히고 에러남.\n",
        "\n",
        "data = [['A', 3], ['B', 1], ['C', 2]]\n",
        "data2 = [['A', 1], ['B', 2], ['C', 3]]\n",
        "\n",
        "def solution(data):\n",
        "    return sorted([data[i][0] for i in data], key=lambda x: [data[i][x] for i in data)\n",
        "\n",
        "print(solution(data))\n",
        "print(solution(data2))"
      ],
      "metadata": {
        "id": "11vfR1BF3H2N"
      },
      "execution_count": null,
      "outputs": []
    },
    {
      "cell_type": "code",
      "source": [
        "# ChatGPT 정답...\n",
        "\n",
        "data = [['A', 3], ['B', 1], ['C', 2]]\n",
        "data2 = [['A', 1], ['B', 2], ['C', 3]]\n",
        "\n",
        "def solution(data):\n",
        "    return [item[0] for item in sorted(data, key=lambda x: x[1])]\n",
        "\n",
        "print(solution(data))\n",
        "print(solution(data2))\n",
        "\n",
        "# 주요 변경 사항은 다음과 같습니다:\n",
        "#\n",
        "# 1. sorted(data, key=lambda x: x[1]): 이 부분에서는 data 리스트를 x[1] 값을 기준으로 정렬합니다.\n",
        "# 이는 두 번째 요소를 기준으로 정렬하는 것이므로 [['B', 1], ['C', 2], ['A', 3]] 순서로 정렬됩니다.\n",
        "#\n",
        "# 2. [item[0] for item in sorted(data, key=lambda x: x[1])]: 이 부분에서는 정렬된 리스트에서 각 항목의 첫 번째 요소만 추출하여 반환합니다.\n",
        "# 따라서 최종적으로는 ['B', 'C', 'A'] 순서로 반환됩니다."
      ],
      "metadata": {
        "colab": {
          "base_uri": "https://localhost:8080/"
        },
        "id": "yaHm7XJi8M7y",
        "outputId": "19bae2b8-9e50-4b24-8445-efa47de93802"
      },
      "execution_count": null,
      "outputs": [
        {
          "output_type": "stream",
          "name": "stdout",
          "text": [
            "['B', 'C', 'A']\n",
            "['A', 'B', 'C']\n"
          ]
        }
      ]
    },
    {
      "cell_type": "markdown",
      "source": [
        "## 8번: 두 점 사이의 거리"
      ],
      "metadata": {
        "id": "0CACTYEQEmdl"
      }
    },
    {
      "cell_type": "code",
      "source": [
        "# 입력 예시 data2가 잘못된듯. 파이알고에서는 통과되었음.\n",
        "\n",
        "data = [1, 3, 4, 6]  # 출력: [3, 4]\n",
        "data2 = [[1, 10, 20, 25, 31, 40]]  # 출력: [20, 25]\n",
        "\n",
        "def solution(data):\n",
        "    x = list(zip(data, data[1:])) # [1, 3], [3, 4]...\n",
        "    return list(sorted(x, key = lambda x: abs(x[1] - x[0]))[0]) # list로 또 묶어줘야하나?\n",
        "\n",
        "print(solution(data))\n",
        "# print(solution(data2))"
      ],
      "metadata": {
        "colab": {
          "base_uri": "https://localhost:8080/"
        },
        "id": "PMbLY0O3E04y",
        "outputId": "f91e13d4-33ef-4caf-a879-06fbdfcd3c15"
      },
      "execution_count": null,
      "outputs": [
        {
          "output_type": "stream",
          "name": "stdout",
          "text": [
            "[3, 4]\n"
          ]
        }
      ]
    },
    {
      "cell_type": "markdown",
      "source": [
        "## 9번: 수학은 내가 1등"
      ],
      "metadata": {
        "id": "vSNdlkUvKoJs"
      }
    },
    {
      "cell_type": "code",
      "source": [
        "data = [{'이름': 'A', '국': 30, '영': 20, '수': 85}, {'이름': 'B', '국': 95, '영': 98, '수': 10}] # 출력: 'A'\n",
        "data2 = [{'이름': 'A', '국': 21, '영': 33, '수': 54}, {'이름': 'B', '국': 32, '영': 43, '수': 11}] # 출력: 'A'\n",
        "def solution(data):\n",
        "    return sorted(data, key= lambda x: x['수'], reverse=True)[0]['이름']\n",
        "\n",
        "print(solution(data))\n",
        "print(solution(data2))"
      ],
      "metadata": {
        "colab": {
          "base_uri": "https://localhost:8080/"
        },
        "id": "FasM4slhKtZd",
        "outputId": "5a56ed57-8c3a-441a-84d7-4482b0657f48"
      },
      "execution_count": null,
      "outputs": [
        {
          "output_type": "stream",
          "name": "stdout",
          "text": [
            "A\n",
            "A\n"
          ]
        }
      ]
    },
    {
      "cell_type": "markdown",
      "source": [
        "## 10번: 게임 밸런스 조절"
      ],
      "metadata": {
        "id": "kCHiZ8H5LDOE"
      }
    },
    {
      "cell_type": "code",
      "source": [
        "data = [['Licat', 98, 92, 85, 97], ['Mura', 95, 32, 51, 30], ['Binky', 98, 98, 51, 32]]\t# ['Licat']\n",
        "data2 = [['Gray', 98, 92, 85, 97], ['Gom', 98, 30, 21, 60], ['Allosa', 98, 90, 99, 98]]\t# ['Allosa', 'Gary']\n",
        "\n",
        "def solution(data):\n",
        "    return sorted([i[0] for i in data if sum(i[1:]) >= 350])\n",
        "\n",
        "print(solution(data))\n",
        "print(solution(data2))"
      ],
      "metadata": {
        "colab": {
          "base_uri": "https://localhost:8080/"
        },
        "id": "_scphUz9j6Fo",
        "outputId": "70e63e08-0fad-40d6-a084-e3bff00aa7a9"
      },
      "execution_count": null,
      "outputs": [
        {
          "output_type": "stream",
          "name": "stdout",
          "text": [
            "['Licat']\n",
            "['Allosa', 'Gray']\n"
          ]
        }
      ]
    },
    {
      "cell_type": "markdown",
      "source": [
        "## 11번: 평균 점수 카운팅"
      ],
      "metadata": {
        "id": "qCNQ5OpcLyTp"
      }
    },
    {
      "cell_type": "code",
      "source": [
        "data = [[98, 92, 85], [95, 32, 51], [98, 98, 51]] # 2\n",
        "data2 = [[92, 85, 97], [30, 21, 60], [90, 99, 98], [0, 0, 0], [81, 80, 88, 83]] # 3\n",
        "\n",
        "def solution(data):\n",
        "    count = 0\n",
        "    for i in data:\n",
        "        if sum(i) >= 180:\n",
        "            count += 1\n",
        "    return count\n",
        "\n",
        "print(solution(data))\n",
        "print(solution(data2))"
      ],
      "metadata": {
        "colab": {
          "base_uri": "https://localhost:8080/"
        },
        "id": "nDbwR-NbLz_y",
        "outputId": "d2dc0191-5192-4781-cbc7-a80616830e1d"
      },
      "execution_count": null,
      "outputs": [
        {
          "output_type": "stream",
          "name": "stdout",
          "text": [
            "2\n",
            "3\n"
          ]
        }
      ]
    },
    {
      "cell_type": "code",
      "source": [
        "# 간단하지만 가독성이 떨어짐. 어떻게 해결할지?ㅎㅎ\n",
        "\n",
        "data = [[98, 92, 85], [95, 32, 51], [98, 98, 51]] # 2\n",
        "data2 = [[92, 85, 97], [30, 21, 60], [90, 99, 98], [0, 0, 0], [81, 80, 88, 83]] # 3\n",
        "\n",
        "def solution(data):\n",
        "    return len(list(filter(lambda x: sum(x[:3]) >= 180, [i for i in data])))\n",
        "\n",
        "print(solution(data))\n",
        "print(solution(data2))"
      ],
      "metadata": {
        "colab": {
          "base_uri": "https://localhost:8080/"
        },
        "id": "P17u-T0vNELm",
        "outputId": "79758c91-7a20-4af7-88b4-c37c56c2a07b"
      },
      "execution_count": null,
      "outputs": [
        {
          "output_type": "stream",
          "name": "stdout",
          "text": [
            "2\n",
            "3\n"
          ]
        }
      ]
    },
    {
      "cell_type": "code",
      "source": [
        "# 위의 코드를 GPT를 통해 해결한 결과.\n",
        "\n",
        "data = [[98, 92, 85], [95, 32, 51], [98, 98, 51]] # 2\n",
        "data2 = [[92, 85, 97], [30, 21, 60], [90, 99, 98], [0, 0, 0], [81, 80, 88, 83]] # 3\n",
        "\n",
        "def solution(data):\n",
        "    return sum(1 for row in data if sum(row[:3]) >= 180)\n",
        "\n",
        "print(solution(data))\n",
        "print(solution(data2))"
      ],
      "metadata": {
        "colab": {
          "base_uri": "https://localhost:8080/"
        },
        "id": "23lBxVTQlMyz",
        "outputId": "3e7a3196-f4d3-451e-d0fa-8d5a13ea9944"
      },
      "execution_count": null,
      "outputs": [
        {
          "output_type": "stream",
          "name": "stdout",
          "text": [
            "2\n",
            "3\n"
          ]
        }
      ]
    },
    {
      "cell_type": "code",
      "source": [
        "# => 어떤식으로 반환되는지\n",
        "\n",
        "data = [[98, 92, 85], [95, 32, 51], [98, 98, 51]] # 2\n",
        "data2 = [[92, 85, 97], [30, 21, 60], [90, 99, 98], [0, 0, 0], [81, 80, 88, 83]] # 3\n",
        "\n",
        "def solution(data):\n",
        "    return [1 for row in data if sum(row) >= 180]\n",
        "\n",
        "print(solution(data))\n",
        "print(solution(data2))"
      ],
      "metadata": {
        "colab": {
          "base_uri": "https://localhost:8080/"
        },
        "id": "2Br8InKOtjeH",
        "outputId": "b1a7aa13-ed92-4be9-877f-9269a5e8e8bc"
      },
      "execution_count": null,
      "outputs": [
        {
          "output_type": "stream",
          "name": "stdout",
          "text": [
            "[1, 1]\n",
            "[1, 1, 1]\n"
          ]
        }
      ]
    },
    {
      "cell_type": "markdown",
      "source": [
        "## 12번: 우편 번호 정렬"
      ],
      "metadata": {
        "id": "kB0yWCW6POLK"
      }
    },
    {
      "cell_type": "code",
      "source": [
        "data = [['제주시 A동 한라산길 61', '제주시 B동 백록담길 63', '제주시 C동 사라봉길 31'],\n",
        " {'A동': 63007, 'B동': 63010, 'C동': 63002}]\n",
        "# 출력: ['제주시 C동 사라봉길 31', '제주시 A동 한라산길 61', '제주시 B동 백록담길 63']\n",
        "\n",
        "def solution(data):\n",
        "    address, zipcode = data\n",
        "    return sorted(address, key = lambda x: zipcode[x.split()[1]])\n",
        "\n",
        "print(solution(data))"
      ],
      "metadata": {
        "colab": {
          "base_uri": "https://localhost:8080/"
        },
        "id": "jgWYkswpi6NJ",
        "outputId": "93ebf7ba-f2d7-40e9-93c4-e33b0e3ed37d"
      },
      "execution_count": null,
      "outputs": [
        {
          "output_type": "stream",
          "name": "stdout",
          "text": [
            "['제주시 C동 사라봉길 31', '제주시 A동 한라산길 61', '제주시 B동 백록담길 63']\n"
          ]
        }
      ]
    },
    {
      "cell_type": "code",
      "source": [
        "# 변수 없애고 더 간단하게\n",
        "\n",
        "data = [['제주시 A동 한라산길 61', '제주시 B동 백록담길 63', '제주시 C동 사라봉길 31'],\n",
        " {'A동': 63007, 'B동': 63010, 'C동': 63002}]\n",
        "\n",
        "def solution(data):\n",
        "    return sorted(data[0], key=lambda x: data[1][x.split()[1]])\n",
        "\n",
        "print(solution(data))"
      ],
      "metadata": {
        "colab": {
          "base_uri": "https://localhost:8080/"
        },
        "id": "r6u29Vy1jcgK",
        "outputId": "4af1c70c-7c7e-48a7-f700-b4481ed6ee1a"
      },
      "execution_count": null,
      "outputs": [
        {
          "output_type": "stream",
          "name": "stdout",
          "text": [
            "['제주시 C동 사라봉길 31', '제주시 A동 한라산길 61', '제주시 B동 백록담길 63']\n"
          ]
        }
      ]
    },
    {
      "cell_type": "markdown",
      "source": [
        "# 13~18"
      ],
      "metadata": {
        "id": "4veNm4bR0Of3"
      }
    },
    {
      "cell_type": "markdown",
      "source": [
        "## 13번: 도서관 책 연도별 정렬"
      ],
      "metadata": {
        "id": "G5oGKmrtmFZL"
      }
    },
    {
      "cell_type": "code",
      "source": [
        "data = [['Moby Dick', 'To Kill a Mockingbird', '1984'], {'Moby Dick': 1851, 'To Kill a Mockingbird': 1960, '1984': 1949}]\n",
        "\n",
        "def solution(data):\n",
        "    title, year = data\n",
        "    return sorted(title, key=lambda x: (year[x], title))\n",
        "\n",
        "solution(data)"
      ],
      "metadata": {
        "id": "ikIypbKls0O4",
        "colab": {
          "base_uri": "https://localhost:8080/"
        },
        "outputId": "fb2b5c4b-ad06-4fcf-8d46-c9149da5ae8d"
      },
      "execution_count": null,
      "outputs": [
        {
          "output_type": "execute_result",
          "data": {
            "text/plain": [
              "['Moby Dick', '1984', 'To Kill a Mockingbird']"
            ]
          },
          "metadata": {},
          "execution_count": 2
        }
      ]
    },
    {
      "cell_type": "markdown",
      "source": [
        "## 14번: 도서관 책 위치 정렬"
      ],
      "metadata": {
        "id": "USPHhQX8-Fj-"
      }
    },
    {
      "cell_type": "code",
      "source": [
        "# map을 통해서 딕셔너리를 뒤집는 방법\n",
        "reversed_data = dict(map(reversed, data.items()))"
      ],
      "metadata": {
        "id": "Ad0iWT6NGjVY"
      },
      "execution_count": null,
      "outputs": []
    },
    {
      "cell_type": "code",
      "source": [
        "data = {'AX21': 'Moby Dick', 'BX32': '1984', 'CX14': 'To Kill a Mockingbird'}\n",
        "\n",
        "def solution(data):\n",
        "    reversed_data = {v:k for k,v in data.items()}\n",
        "    # {'Moby Dick': 'AX21', '1984': 'BX32', 'To Kill a Mockingbird': 'CX14'}\n",
        "    title = list(data.values())\n",
        "    return sorted(title, key = lambda x: reversed_data[x][-2:])\n",
        "\n",
        "solution(data)"
      ],
      "metadata": {
        "colab": {
          "base_uri": "https://localhost:8080/"
        },
        "id": "r52I4eGM-Tbg",
        "outputId": "a29bb129-359c-4473-c55c-070b52d83a13"
      },
      "execution_count": null,
      "outputs": [
        {
          "output_type": "execute_result",
          "data": {
            "text/plain": [
              "['To Kill a Mockingbird', 'Moby Dick', '1984']"
            ]
          },
          "metadata": {},
          "execution_count": 36
        }
      ]
    },
    {
      "cell_type": "code",
      "source": [
        "# 파이알고 입출력 예시란의 출력값에는 ['To Kill a Mockingbird', 'Moby Dick', '1984']이 정답이지만,\n",
        "# 실제로 돌려보면 오답으로 처리된다.\n",
        "# 따라서 예시란에 알맞게 짠 코드는 위의 코드, 돌렸을때 통과되는 코드는 아래의 코드다.\n",
        "data = {'AX21': 'Moby Dick', 'BX32': '1984', 'CX14': 'To Kill a Mockingbird'}\n",
        "\n",
        "def solution(data):\n",
        "    reversed_data = {v:k for k,v in data.items()}\n",
        "    # {'Moby Dick': 'AX21', '1984': 'BX32', 'To Kill a Mockingbird': 'CX14'}\n",
        "    title = list(data.values())\n",
        "    return sorted(title, key = lambda x: reversed_data[x])\n",
        "    # 정답 유무는 알파벳까지 포함한 정렬값으로 판단하는 것 같다.\n",
        "\n",
        "solution(data)"
      ],
      "metadata": {
        "colab": {
          "base_uri": "https://localhost:8080/"
        },
        "id": "1wD-GR-hGAIR",
        "outputId": "21fe6314-700f-47cb-d7f9-349e81611960"
      },
      "execution_count": null,
      "outputs": [
        {
          "output_type": "execute_result",
          "data": {
            "text/plain": [
              "['Moby Dick', '1984', 'To Kill a Mockingbird']"
            ]
          },
          "metadata": {},
          "execution_count": 37
        }
      ]
    },
    {
      "cell_type": "markdown",
      "source": [
        "## 15번: 위니브 회의 시간표 정렬"
      ],
      "metadata": {
        "id": "VaGkshfrABu5"
      }
    },
    {
      "cell_type": "code",
      "source": [
        "data = ['01:00 PM', '11:30 AM', '12:45 PM', '09:00 AM', '12:00 AM']\n",
        "\n",
        "#일단 무식하게 해보자...\n",
        "\n",
        "def solution(data):\n",
        "    converted = []\n",
        "    for times in data:\n",
        "        if times[-2:] == \"PM\" and times[:2] != \"12\":\n",
        "            converted.append(str(int(times[:2])+12)+times[2:5])\n",
        "        elif times[-2:] == \"AM\" and times[:2] == \"12\":\n",
        "            converted.append(\"00\"+times[2:5])\n",
        "        else:\n",
        "            converted.append(times[:5])\n",
        "    data_dic = {data[i]:converted[i] for i in range(len(data))}\n",
        "    return sorted(data, key = lambda x: data_dic[x])\n",
        "\n",
        "solution(data)"
      ],
      "metadata": {
        "colab": {
          "base_uri": "https://localhost:8080/"
        },
        "id": "p8fkeVO9HYTI",
        "outputId": "991cebd9-9d8b-4e3b-d421-53839562d579"
      },
      "execution_count": null,
      "outputs": [
        {
          "output_type": "execute_result",
          "data": {
            "text/plain": [
              "['12:00 AM', '09:00 AM', '11:30 AM', '12:45 PM', '01:00 PM']"
            ]
          },
          "metadata": {},
          "execution_count": 11
        }
      ]
    },
    {
      "cell_type": "code",
      "source": [
        "# 위의 코드를 GPT로 돌림\n",
        "data = ['01:00 PM', '11:30 AM', '12:45 PM', '09:00 AM', '12:00 AM']\n",
        "\n",
        "def solution(data):\n",
        "    def convert_time(time_str):\n",
        "        hour, minute = map(int, time_str[:-2].split(':'))\n",
        "        if time_str.endswith('PM') and hour != 12:\n",
        "            hour += 12\n",
        "        elif time_str.endswith('AM') and hour == 12:\n",
        "            hour = 0\n",
        "        return f'{hour:02d}:{minute:02d}'\n",
        "\n",
        "    return sorted(data, key=convert_time)\n",
        "\n",
        "solution(data)"
      ],
      "metadata": {
        "colab": {
          "base_uri": "https://localhost:8080/"
        },
        "id": "UnlOcNkHbaNr",
        "outputId": "c075b3b7-4a52-4d7a-d191-df7c8abd2d5d"
      },
      "execution_count": null,
      "outputs": [
        {
          "output_type": "execute_result",
          "data": {
            "text/plain": [
              "['12:00 AM', '09:00 AM', '11:30 AM', '12:45 PM', '01:00 PM']"
            ]
          },
          "metadata": {},
          "execution_count": 14
        }
      ]
    },
    {
      "cell_type": "markdown",
      "source": [
        "## 16번: 뮤라의 휴가 입력"
      ],
      "metadata": {
        "id": "YV5RyPHTIOTA"
      }
    },
    {
      "cell_type": "code",
      "source": [
        "data = ['20-01-2024', '12/15/2023', '2022.05.30']\n",
        "data2 = ['03/25/2021', '2020.12.31', '15-04-2022']\n",
        "\n",
        "def solution(data):\n",
        "    def convert_data(dates):\n",
        "        if \".\" in dates:\n",
        "            year, month, day = dates.split(\".\")\n",
        "        elif \"/\" in dates:\n",
        "            month, day, year = dates.split(\"/\")\n",
        "        else:\n",
        "            day, month, year = dates.split(\"-\")\n",
        "        return f\"{year}/{month}/{day}\"\n",
        "    return sorted(convert_data(i) for i in data)\n",
        "\n",
        "solution(data)"
      ],
      "metadata": {
        "colab": {
          "base_uri": "https://localhost:8080/"
        },
        "id": "EORROuJ2dgc6",
        "outputId": "0417938c-609d-4311-f58b-4d89c98e77da"
      },
      "execution_count": null,
      "outputs": [
        {
          "output_type": "execute_result",
          "data": {
            "text/plain": [
              "['2022/05/30', '2023/12/15', '2024/01/20']"
            ]
          },
          "metadata": {},
          "execution_count": 3
        }
      ]
    },
    {
      "cell_type": "markdown",
      "source": [
        "## 17번: 라이캣 CEO의 최근일정 3개"
      ],
      "metadata": {
        "id": "wWKodj8pIRcN"
      }
    },
    {
      "cell_type": "code",
      "source": [
        "# GPT의 도움을 받아 풀었습니다.\n",
        "\n",
        "data = {'월': ['2024-01-01', '2024-01-08', '2024-01-15', '2024-01-22'], '화': ['2024-01-02', '2024-01-09', '2024-01-16'], '수': ['2024-01-03', '2024-01-10'], '목': ['2024-01-04', '2024-01-11', '2024-01-18'], '금': ['2024-01-05', '2024-01-12', '2024-01-19', '2024-01-26']}\n",
        "\n",
        "def solution(data):\n",
        "    recent_schedules = []\n",
        "    for day, dates in data.items():\n",
        "        recent_schedules.extend([f'{date[2:]} {day}' for date in dates])\n",
        "    return sorted(recent_schedules, reverse=True)[:3]\n",
        "\n",
        "solution(data)"
      ],
      "metadata": {
        "colab": {
          "base_uri": "https://localhost:8080/"
        },
        "id": "jWy2z1vdlusq",
        "outputId": "9c9df4f3-48da-44bc-c795-4feff4778d81"
      },
      "execution_count": null,
      "outputs": [
        {
          "output_type": "execute_result",
          "data": {
            "text/plain": [
              "['24-01-26 금', '24-01-22 월', '24-01-19 금']"
            ]
          },
          "metadata": {},
          "execution_count": 42
        }
      ]
    },
    {
      "cell_type": "code",
      "source": [
        "# 간결버전.\n",
        "\n",
        "data = {'월': ['2024-01-01', '2024-01-08', '2024-01-15', '2024-01-22'], '화': ['2024-01-02', '2024-01-09', '2024-01-16'], '수': ['2024-01-03', '2024-01-10'], '목': ['2024-01-04', '2024-01-11', '2024-01-18'], '금': ['2024-01-05', '2024-01-12', '2024-01-19', '2024-01-26']}\n",
        "\n",
        "def solution(data):\n",
        "    result = [f\"{date[2:]} {day}\" for day, dates in data.items() for date in dates]\n",
        "    return sorted(result, reverse=True)[:3]\n",
        "\n",
        "solution(data)"
      ],
      "metadata": {
        "colab": {
          "base_uri": "https://localhost:8080/"
        },
        "id": "1dAo6s4NliKG",
        "outputId": "a040a50e-f182-457a-dbef-0423584b8e31"
      },
      "execution_count": null,
      "outputs": [
        {
          "output_type": "execute_result",
          "data": {
            "text/plain": [
              "['24-01-26 금', '24-01-22 월', '24-01-19 금']"
            ]
          },
          "metadata": {},
          "execution_count": 43
        }
      ]
    },
    {
      "cell_type": "markdown",
      "source": [
        "## 18번: 주간 최고 온도 기록 분석"
      ],
      "metadata": {
        "id": "HNmYD_v8IXuA"
      }
    },
    {
      "cell_type": "code",
      "source": [
        "data = {'2024-01-01': 15, '2024-01-02': 17, '2024-01-03': 16, '2024-01-04': 20, '2024-01-05': 19, '2024-01-06': 21, '2024-01-07': 18}\n",
        "\n",
        "def solution(data):\n",
        "    sorted_data = sorted(data.items(), key=lambda item: (-item[1], item[0]))[:3]\n",
        "    return [f\"{key[2:]}: {value}\" for key, value in sorted_data]\n",
        "solution(data)"
      ],
      "metadata": {
        "colab": {
          "base_uri": "https://localhost:8080/"
        },
        "id": "BN6iFYHqXlTv",
        "outputId": "316fc4ff-1f15-4630-86b8-f44be8dd5837"
      },
      "execution_count": null,
      "outputs": [
        {
          "output_type": "execute_result",
          "data": {
            "text/plain": [
              "['24-01-06: 21', '24-01-04: 20', '24-01-05: 19']"
            ]
          },
          "metadata": {},
          "execution_count": 40
        }
      ]
    },
    {
      "cell_type": "markdown",
      "source": [
        "# 19~24"
      ],
      "metadata": {
        "id": "tZz2IjZXklfE"
      }
    },
    {
      "cell_type": "markdown",
      "source": [
        "## 19번: 데이터 타입 확인"
      ],
      "metadata": {
        "id": "QZVtpwVrmOsi"
      }
    },
    {
      "cell_type": "code",
      "source": [
        "data = [123, 4.56, 'hello', [1, 2, 3], (4, 5), {'a': 1, 'b': 2}]\n",
        "\n",
        "def solution(data):\n",
        "    return [str(type(idx)).split(\"'\")[1] for idx in data]\n",
        "\n",
        "solution(data)"
      ],
      "metadata": {
        "id": "K7sFGiFSmRkk",
        "colab": {
          "base_uri": "https://localhost:8080/"
        },
        "outputId": "4a5f4130-b0a8-4616-cb58-87e7f13f406d"
      },
      "execution_count": null,
      "outputs": [
        {
          "output_type": "execute_result",
          "data": {
            "text/plain": [
              "['int', 'float', 'str', 'list', 'tuple', 'dict']"
            ]
          },
          "metadata": {},
          "execution_count": 21
        }
      ]
    },
    {
      "cell_type": "code",
      "source": [
        "# data에 있는 요소를 for문으로 하나씩 빼줌.\n",
        "# 하나씩 뺀 요소 idx의 type을 확인하고, 문자열로 변경해줌.\n",
        "# 변경한 문자열은 <class 'int'>과 같은 형식이므로, '를 기준으로 나눠줌.\n",
        "# <class, int,  >로 나눠진 값중 첫번째 값, [1]을 선택해준다.\n",
        "# 그러면 각 요소의 자료형값만 뽑아지게 된다. str로 변환해 준 상태이므로 리스트에는 '자료형'식으로 저장된다."
      ],
      "metadata": {
        "id": "VJi0PQDDUQaZ"
      },
      "execution_count": null,
      "outputs": []
    },
    {
      "cell_type": "code",
      "source": [
        "# 박주형님이 공유해주신 내용. 좋은 방법인데 처음 알았다.\n",
        "# 19\n",
        "def solution(data):\n",
        "    type_names = []\n",
        "\n",
        "    for data in data:\n",
        "        data_type = type(data).__name__\n",
        "        type_names.append(data_type)\n",
        "    return type_names\n",
        "\n",
        "# type에는 다양한 메서드 들이 있다.\n",
        "# type함수의 name매직 메서드를 출력하면 해당 데이터의 타입 이름이 나온다!\n",
        "# __name__ 메서드는 if __name__ == \"__main__\"이런 형태로도 쓰이는데\n",
        "# test1.py라는 파일이 있다고 하자\n",
        "# print(__name__)이라고 하면 __main__이 출력된다.\n",
        "# 만약에 test2.py라는 파일에서 test1.py를 import 한다고 가정\n",
        "\n",
        "# test1.py의 내용\n",
        "print(\"안녕\")\n",
        "# test2.py의 내용\n",
        "import test1\n",
        "print(\"hello\")\n",
        "\n",
        "# 위와 같은 상황에서 test2.py를 실행하면 test1의 안녕 + test2의 hello\n",
        "# 2개가 동시에 출력된다.\n",
        "# 따라서 모듈의 내용을 내가 원할때만 사용하려면\n",
        "# if __name__ == \"__main__\":\n",
        "#    print(\"hello\")\n",
        "# 위와 같이 사용한다."
      ],
      "metadata": {
        "id": "CKoyGlBQnpAI"
      },
      "execution_count": null,
      "outputs": []
    },
    {
      "cell_type": "markdown",
      "source": [
        "## 20번: 타입 확인"
      ],
      "metadata": {
        "id": "V78iCTosH2fD"
      }
    },
    {
      "cell_type": "code",
      "source": [
        "data = [('list', [1, 2, 3]), ('int', 4), ('str', 'hello')]\n",
        "data2 = [('str', 100), ('dict', {'a': 1}), ('tuple', (1, 2, 3))]\n",
        "\n",
        "def solution(data):\n",
        "    def idx_type(idx):\n",
        "        return (1 if str(type(idx[1])).split(\"'\")[1] == idx[0] else 0)\n",
        "    return True if 0 not in [idx_type(i) for i in data] else False\n",
        "\n",
        "print(solution(data))\n",
        "print(solution(data2))"
      ],
      "metadata": {
        "colab": {
          "base_uri": "https://localhost:8080/"
        },
        "id": "KUjhrTCnLItp",
        "outputId": "ac60f8af-8806-459e-ac77-48549506765f"
      },
      "execution_count": null,
      "outputs": [
        {
          "output_type": "stream",
          "name": "stdout",
          "text": [
            "True\n",
            "False\n"
          ]
        }
      ]
    },
    {
      "cell_type": "code",
      "source": [
        "# 위의 코드에서 따로 변수로 떼어낸 버전.\n",
        "data = [('list', [1, 2, 3]), ('int', 4), ('str', 'hello')]\n",
        "data2 = [('str', 100), ('dict', {'a': 1}), ('tuple', (1, 2, 3))]\n",
        "\n",
        "def solution(data):\n",
        "    def item_type(item):\n",
        "        result = str(type(item[1])).split(\"'\")[1]\n",
        "        return (1 if result == item[0] else 0)\n",
        "    return True if 0 not in [item_type(i) for i in data] else False\n",
        "\n",
        "print(solution(data))\n",
        "print(solution(data2))"
      ],
      "metadata": {
        "colab": {
          "base_uri": "https://localhost:8080/"
        },
        "id": "KHpaQEthV8YC",
        "outputId": "0ae693a9-703a-4de4-e50d-302b3eb624a8"
      },
      "execution_count": null,
      "outputs": [
        {
          "output_type": "stream",
          "name": "stdout",
          "text": [
            "True\n",
            "False\n"
          ]
        }
      ]
    },
    {
      "cell_type": "code",
      "source": [
        "# 2차원 리스트 문제\n",
        "# 우선 data안의 각 1차원 리스트를 넣고 돌릴 item_type 함수를 생성한다.\n",
        "# item[1]의 type을 str로 변환 => '를 기준으로 나누고, 그 값의 [1]를 result변수에 넣어준다.\n",
        "# 만약 result값이 item[0]과 같다면 1을 반환, 아니라면 0을 반환해준다.\n",
        "# item_type의 결과를 리스트로 만들어주는데, 이때 리스트의 값에 0이 없다면 True, 아니라면 False를 반환."
      ],
      "metadata": {
        "id": "0eEHR-QSZnNF"
      },
      "execution_count": null,
      "outputs": []
    },
    {
      "cell_type": "code",
      "source": [
        "# 좀 더 깔끔하게?\n",
        "\n",
        "data = [('list', [1, 2, 3]), ('int', 4), ('str', 'hello')]\n",
        "data2 = [('str', 100), ('dict', {'a': 1}), ('tuple', (1, 2, 3))]\n",
        "\n",
        "def solution(data):\n",
        "    result = list(filter(lambda x: x[0] in str(type(x[1])), data))\n",
        "    return True if len(data) == len(result) else False\n",
        "\n",
        "print(solution(data))\n",
        "print(solution(data2))\n",
        "# 둘 다 별로다."
      ],
      "metadata": {
        "colab": {
          "base_uri": "https://localhost:8080/"
        },
        "id": "-9tYcPXAMH18",
        "outputId": "72fa013f-7a3a-49b7-e6ae-7f015b719804"
      },
      "execution_count": null,
      "outputs": [
        {
          "output_type": "stream",
          "name": "stdout",
          "text": [
            "True\n",
            "False\n"
          ]
        }
      ]
    },
    {
      "cell_type": "code",
      "source": [
        "# lambda함수를 사용해 data 안 각 1차원 리스트의 값을 확인해줄거임.\n",
        "# 일단 각 1차원 리스트 [1]의 자료형을 str값으로 변경해주고, 만약 [0]의 값이 이 안에 있다면?\n",
        "# filter함수에 의해서 True일 경우에만 반환된다.\n",
        "# filter로만 처리하면 결과를 확인할 수 없으니 filter함수의 결과값을 list로 변환해준다.\n",
        "# 그리고 이 list의 길이(요소의 갯수)가 기존 data의 길이값과 같다면 True, 아니라면 False."
      ],
      "metadata": {
        "id": "94dwahIub-3D"
      },
      "execution_count": null,
      "outputs": []
    },
    {
      "cell_type": "markdown",
      "source": [
        "## 21번: 숫자 배열 탐색"
      ],
      "metadata": {
        "id": "vFM7ecV1N1iN"
      }
    },
    {
      "cell_type": "code",
      "source": [
        "data = ([1, 3, 5, 7, 9], 5)\n",
        "data2 = ([2, 4, 6, 8, 10], 7)\n",
        "\n",
        "def solution(data):\n",
        "    array, num = data\n",
        "    return array.index(num) if num in array else False\n",
        "\n",
        "print(solution(data))\n",
        "print(solution(data2))"
      ],
      "metadata": {
        "colab": {
          "base_uri": "https://localhost:8080/"
        },
        "id": "uwMbjvAXPJQi",
        "outputId": "17264734-9aa3-4973-f395-fe791a770305"
      },
      "execution_count": null,
      "outputs": [
        {
          "output_type": "stream",
          "name": "stdout",
          "text": [
            "2\n",
            "False\n"
          ]
        }
      ]
    },
    {
      "cell_type": "code",
      "source": [
        "# data를 array, num으로 언패킹해준다.\n",
        "# 만약 num의 값이 array에 있다면, 해당 인덱스값을 알아야 하니까\n",
        "# array.index(num)으로 인덱스값을 출력해주고, 아니라면 False를 반환."
      ],
      "metadata": {
        "id": "3EDhSqWddpgM"
      },
      "execution_count": null,
      "outputs": []
    },
    {
      "cell_type": "markdown",
      "source": [
        "## 22번: 문자열 탐색"
      ],
      "metadata": {
        "id": "E0IC9cEFPpte"
      }
    },
    {
      "cell_type": "code",
      "source": [
        "data = ('hello', 'e')\n",
        "data2 = ('world', 'a')\n",
        "\n",
        "def solution(data):\n",
        "    word, idx = data\n",
        "    return word.index(idx) if idx in word else False\n",
        "\n",
        "print(solution(data))\n",
        "print(solution(data2))"
      ],
      "metadata": {
        "colab": {
          "base_uri": "https://localhost:8080/"
        },
        "id": "e2Sb_CbHPx9b",
        "outputId": "71665a1a-f1e1-4ec1-e0ec-f950acfeec70"
      },
      "execution_count": null,
      "outputs": [
        {
          "output_type": "stream",
          "name": "stdout",
          "text": [
            "1\n",
            "False\n"
          ]
        }
      ]
    },
    {
      "cell_type": "code",
      "source": [
        "# 21번과 같은 원리."
      ],
      "metadata": {
        "id": "sGPCGW_ed-RD"
      },
      "execution_count": null,
      "outputs": []
    },
    {
      "cell_type": "markdown",
      "source": [
        "## 23번: 2차원 배열 탐색"
      ],
      "metadata": {
        "id": "IuOJtJFVQTTf"
      }
    },
    {
      "cell_type": "code",
      "source": [
        "data = ([[1, 3, 5], [7, 9, 11], [13, 15, 17]], 7)\n",
        "data2 = ([[2, 4, 6], [8, 10, 12], [14, 16, 18]], 13)\n",
        "\n",
        "def solution(data):\n",
        "    array, num = data\n",
        "    array = sum(array, [])\n",
        "    return True if num in array else False\n",
        "\n",
        "print(solution(data))\n",
        "print(solution(data2))"
      ],
      "metadata": {
        "colab": {
          "base_uri": "https://localhost:8080/"
        },
        "id": "tXrL4ouEQaVQ",
        "outputId": "73e8df1c-933a-48a8-df01-345c4c62bbeb"
      },
      "execution_count": null,
      "outputs": [
        {
          "output_type": "stream",
          "name": "stdout",
          "text": [
            "True\n",
            "False\n"
          ]
        }
      ]
    },
    {
      "cell_type": "code",
      "source": [
        "# 우선 data를 array와 num으로 언패킹해준다.\n",
        "# 그러면 array에는 2차원 리스트들, num에는 타켓 숫자가 할당된다.\n",
        "# 2차원 리스트를 평탄화 하기 위해 sum을 사용하여 합쳐준다. => 1차원 리스트로 변경\n",
        "# 그리고 이를 다시 array에 할당!\n",
        "# 만약 타겟숫자 num이 array에 있다면 True, 없다면 False."
      ],
      "metadata": {
        "id": "n2Q8hxQ5eC_I"
      },
      "execution_count": null,
      "outputs": []
    },
    {
      "cell_type": "markdown",
      "source": [
        "## 24번: 연속 수열의 최대합"
      ],
      "metadata": {
        "id": "XOv5lkoaQwV2"
      }
    },
    {
      "cell_type": "code",
      "source": [
        "# 뤼튼 선생님 답변\n",
        "\n",
        "data = [1, -2, 3, 4, -1, 2, 1, -5, 4]\n",
        "data2 = [-2, -3, 4, -1, -2, 1, 5, -3]\n",
        "\n",
        "def solution(data):\n",
        "    max_sum = curr_sum = data[0]\n",
        "    for num in data[1:]:\n",
        "        curr_sum = max(num, curr_sum + num)\n",
        "        max_sum = max(max_sum, curr_sum)\n",
        "    return max_sum\n",
        "\n",
        "print(solution(data))\n",
        "print(solution(data2))"
      ],
      "metadata": {
        "colab": {
          "base_uri": "https://localhost:8080/"
        },
        "id": "i-krt8o5nzA6",
        "outputId": "5bbe1935-a1f5-48ab-fc14-3f56ef9bd7d8"
      },
      "execution_count": null,
      "outputs": [
        {
          "output_type": "stream",
          "name": "stdout",
          "text": [
            "9\n",
            "7\n"
          ]
        }
      ]
    },
    {
      "cell_type": "markdown",
      "source": [
        "# 25~30"
      ],
      "metadata": {
        "id": "kr9h1aPhoFyt"
      }
    },
    {
      "cell_type": "markdown",
      "source": [
        "## 25번: 소수 판별"
      ],
      "metadata": {
        "id": "Jo915VdifDJi"
      }
    },
    {
      "cell_type": "code",
      "source": [
        "def solution(data):\n",
        "    n = int(data ** 0.5)\n",
        "    result = [False]*2 + [True]*(data-1)\n",
        "    for i in range(2, n+1):\n",
        "        if result[i]:\n",
        "            for k in range(i*2, data+1, i):\n",
        "                result[k] = False\n",
        "    return result.count(True)\n",
        "\n",
        "solution(5)"
      ],
      "metadata": {
        "colab": {
          "base_uri": "https://localhost:8080/"
        },
        "id": "54IHGlQ5QC-G",
        "outputId": "93ca6586-aac7-4ac1-8d3d-ea6d09908c45"
      },
      "execution_count": null,
      "outputs": [
        {
          "output_type": "execute_result",
          "data": {
            "text/plain": [
              "3"
            ]
          },
          "metadata": {},
          "execution_count": 29
        }
      ]
    },
    {
      "cell_type": "code",
      "source": [
        "def solution(data):\n",
        "    n, result = int(data ** 0.5), [False]*2 + [True]*(data-1)\n",
        "    for i in range(2, n+1):\n",
        "        if result[i]: result[i*2:data+1:i] = [False]*len(result[i*2:data+1:i])\n",
        "    return result\n",
        "\n",
        "solution(10)"
      ],
      "metadata": {
        "colab": {
          "base_uri": "https://localhost:8080/"
        },
        "id": "AaewWhH2SPtZ",
        "outputId": "2d39a7d7-41c8-4d80-8b98-e89c96d836c5"
      },
      "execution_count": null,
      "outputs": [
        {
          "output_type": "execute_result",
          "data": {
            "text/plain": [
              "[False, False, True, True, False, True, False, True, False, False, False]"
            ]
          },
          "metadata": {},
          "execution_count": 35
        }
      ]
    },
    {
      "cell_type": "code",
      "source": [
        "# ! 새로 알게된 사실\n",
        "# 슬라이스 예시\n",
        "test = ['wow'] * 5\n",
        "# test = ['wow', 'wow', 'wow', 'wow', 'wow']\n",
        "test[::2] = 'what', 'we', 'rock'\n",
        "test\n",
        "# 저렇게 슬라이스 한 갯수대로 해당 인덱스마다 값을 넣어줄 수 있음!"
      ],
      "metadata": {
        "colab": {
          "base_uri": "https://localhost:8080/"
        },
        "id": "kxGaFjSTXRBH",
        "outputId": "079885cf-548f-4400-938c-6c3c8665e520"
      },
      "execution_count": null,
      "outputs": [
        {
          "output_type": "execute_result",
          "data": {
            "text/plain": [
              "['what', 'wow', 'we', 'wow', 'rock']"
            ]
          },
          "metadata": {},
          "execution_count": 44
        }
      ]
    },
    {
      "cell_type": "markdown",
      "source": [
        "## 26번: 최대 합계 배열 찾기"
      ],
      "metadata": {
        "id": "iKvH190wXpJV"
      }
    },
    {
      "cell_type": "code",
      "source": [
        "# 24번 연속 수열의 합이랑 똑같은 문제다.\n",
        "data = ([1, 3, 2, 6, -1, 4, 1, 8, 2], 5)\n",
        "data2 = ([4, 2, 1, 7, 8, 1, 2, 8, 1, 0], 3)\n",
        "\n",
        "def solution(data):\n",
        "    arr, window = data\n",
        "    curr_sum = total_sum = sum(arr[:window])\n",
        "    for i in range(len(arr)):\n",
        "        curr_sum = max(curr_sum, sum(arr[i:i+window]))\n",
        "        total_sum = max(curr_sum, total_sum)\n",
        "    return total_sum\n",
        "\n",
        "print(solution(data))\n",
        "print(solution(data2))"
      ],
      "metadata": {
        "colab": {
          "base_uri": "https://localhost:8080/"
        },
        "id": "q9lCirx5aCLZ",
        "outputId": "0a103e8c-f72e-408e-afc2-29e77c3560be"
      },
      "execution_count": null,
      "outputs": [
        {
          "output_type": "stream",
          "name": "stdout",
          "text": [
            "18\n",
            "16\n"
          ]
        }
      ]
    },
    {
      "cell_type": "code",
      "source": [
        "# 슬라이딩 윈도우 기법 사용하기\n",
        "\n",
        "data = ([1, 3, 2, 6, -1, 4, 1, 8, 2], 5)\n",
        "data2 = ([4, 2, 1, 7, 8, 1, 2, 8, 1, 0], 3)\n",
        "\n",
        "def solution(data):\n",
        "    arr, window = data\n",
        "    window_sum = sum(arr[:window])  # 처음 윈도우의 합계\n",
        "    max_sum = window_sum  # 최대 합계를 처음 윈도우의 합계로 초기화\n",
        "\n",
        "    # 윈도우를 슬라이드하면서 합계 계산\n",
        "    for i in range(window, len(arr)):\n",
        "        window_sum = window_sum - arr[i-window] + arr[i]\n",
        "        max_sum = max(max_sum, window_sum)\n",
        "\n",
        "    return max_sum\n",
        "\n",
        "print(solution(data))\n",
        "print(solution(data2))"
      ],
      "metadata": {
        "colab": {
          "base_uri": "https://localhost:8080/"
        },
        "id": "78oGlCGXeIG_",
        "outputId": "a6488a6f-5785-407f-bf6a-1f7303bf8d3b"
      },
      "execution_count": null,
      "outputs": [
        {
          "output_type": "stream",
          "name": "stdout",
          "text": [
            "18\n",
            "16\n"
          ]
        }
      ]
    },
    {
      "cell_type": "markdown",
      "source": [
        "## 27번: 작은 길이 부분 배열 찾기"
      ],
      "metadata": {
        "id": "AXeJLbDhaMzx"
      }
    },
    {
      "cell_type": "code",
      "source": [
        "# 내 답. 테스트케이스 8번부터 실패함.\n",
        "# 이유는 배열의 합이 타겟값을 넘어갈때 curr_sum값을 해당 배열값으로 넣어주었기 때문.\n",
        "# 해당 배열의 전 원소부터의 합에도 타겟값을 넘어가는 경우가 있을수도 있음.\n",
        "data = ([2, 1, 5, 2, 3, 2], 7)\n",
        "data2 = ([1, 1, 1, 1, 1, 1, 1], 11)\n",
        "\n",
        "def solution(data):\n",
        "    arr, target = data\n",
        "    curr_sum = 0\n",
        "    curr_arr = []\n",
        "    total_arr = []\n",
        "\n",
        "    for i in range(len(arr)):\n",
        "        curr_sum = curr_sum + arr[i]\n",
        "        curr_arr.append(arr[i])\n",
        "        if curr_sum >= target:\n",
        "            total_arr.append(curr_arr)\n",
        "            curr_arr = [arr[i]]\n",
        "            curr_sum = arr[i]\n",
        "    result = sorted(total_arr, key=lambda x: len(x))\n",
        "    return len(result[0]) if len(result) != 0 else 0\n",
        "\n",
        "print(solution(data))\n",
        "print(solution(data2))"
      ],
      "metadata": {
        "colab": {
          "base_uri": "https://localhost:8080/"
        },
        "id": "4ypyRVdB1xEd",
        "outputId": "a9a82322-49a0-4303-cee9-67760af4e742"
      },
      "execution_count": null,
      "outputs": [
        {
          "output_type": "stream",
          "name": "stdout",
          "text": [
            "2\n",
            "0\n"
          ]
        }
      ]
    },
    {
      "cell_type": "code",
      "source": [
        "def solution(data):\n",
        "    nums, s = data\n",
        "    min_len = float('inf')\n",
        "    left = 0\n",
        "    value_sum = 0\n",
        "    for i in range(len(nums)):\n",
        "        value_sum += nums[i]\n",
        "        while value_sum >= s:\n",
        "            min_len = min(min_len, i+1-left)\n",
        "            value_sum -= nums[left]\n",
        "            left += 1\n",
        "    return min_len if min_len != float('inf') else 0\n",
        "\n",
        "data = ([2, 1, 5, 2, 3, 2], 7)\n",
        "data2 = ([1, 1, 1, 1, 1, 1, 1], 11)\n",
        "\n",
        "print(solution(data))\n",
        "print(solution(data2))"
      ],
      "metadata": {
        "colab": {
          "base_uri": "https://localhost:8080/"
        },
        "id": "YaN5Ofce6_rt",
        "outputId": "82caa6a2-f43b-4d7d-910e-e47f2fac0b2b"
      },
      "execution_count": null,
      "outputs": [
        {
          "output_type": "stream",
          "name": "stdout",
          "text": [
            "2\n",
            "0\n"
          ]
        }
      ]
    },
    {
      "cell_type": "markdown",
      "source": [
        "## 28번: 가장 가까운 합 찾기"
      ],
      "metadata": {
        "id": "X14kGPpTMJ2V"
      }
    },
    {
      "cell_type": "code",
      "source": [
        "# 투 포인터 문제\n",
        "data = ([1, 2, 3, 4, 5], 10) #9\n",
        "data2 = ([2, 3, 5, 8, 12], 11) #10\n",
        "\n",
        "def solution(data):\n",
        "    arr, target = data\n",
        "    left, right = 0, len(arr)-1\n",
        "    result = target - (arr[left] + arr[right])\n",
        "    while left < right:\n",
        "        curr_sum = arr[left] + arr[right]\n",
        "        result = min(result, target - curr_sum)\n",
        "        if curr_sum < target:\n",
        "            left += 1\n",
        "        elif curr_sum > target:\n",
        "            right -= 1\n",
        "        else:\n",
        "            return curr_sum\n",
        "    return (target - result)\n",
        "\n",
        "solution(data)"
      ],
      "metadata": {
        "colab": {
          "base_uri": "https://localhost:8080/"
        },
        "id": "JzkGlj0ueU7t",
        "outputId": "6638c305-65b1-4730-d46b-bb9e4b41b4f2"
      },
      "execution_count": null,
      "outputs": [
        {
          "output_type": "execute_result",
          "data": {
            "text/plain": [
              "9"
            ]
          },
          "metadata": {},
          "execution_count": 4
        }
      ]
    },
    {
      "cell_type": "code",
      "source": [
        "# 투 포인터의 합과 타겟값이 같은 경우를 명시해주지 않아 오류가 발생했었음.\n",
        "# 같을 경우 합(curr_sum)값을 바로 return해주는 형태로 바꿔주니 해결됨."
      ],
      "metadata": {
        "id": "SMLT7vvrVK3h"
      },
      "execution_count": null,
      "outputs": []
    },
    {
      "cell_type": "markdown",
      "source": [
        "## 29: 단일 숫자 찾기"
      ],
      "metadata": {
        "id": "XaZqFubWWQ4l"
      }
    },
    {
      "cell_type": "code",
      "source": [
        "# 비트 연산!\n",
        "data = [4, 1, 2, 1, 2]\n",
        "data2 = [2, 2, 1]\n",
        "\n",
        "def solution(data):\n",
        "    result = 0\n",
        "    for num in data:\n",
        "        result ^= num\n",
        "    return result\n",
        "\n",
        "print(solution(data))\n",
        "print(solution(data2))"
      ],
      "metadata": {
        "colab": {
          "base_uri": "https://localhost:8080/"
        },
        "id": "c5rLBl_qWVgW",
        "outputId": "4774e1b6-1c68-4afd-e313-a81c53b0a630"
      },
      "execution_count": null,
      "outputs": [
        {
          "output_type": "stream",
          "name": "stdout",
          "text": [
            "4\n",
            "1\n"
          ]
        }
      ]
    },
    {
      "cell_type": "markdown",
      "source": [
        "## 30: 비트 치환 문제"
      ],
      "metadata": {
        "id": "B1Gedi1KY7ix"
      }
    },
    {
      "cell_type": "code",
      "source": [
        "def solution(data):\n",
        "    bin_data = str(bin(data))[2:]\n",
        "    return bin_data.replace(\"1\",\"A\").replace(\"0\",\"B\")\n",
        "\n",
        "solution(5)"
      ],
      "metadata": {
        "colab": {
          "base_uri": "https://localhost:8080/",
          "height": 36
        },
        "id": "Ma9Rhz7mZp1O",
        "outputId": "b218ba5d-e513-441e-eba8-e405c1208989"
      },
      "execution_count": 2,
      "outputs": [
        {
          "output_type": "execute_result",
          "data": {
            "text/plain": [
              "'ABA'"
            ],
            "application/vnd.google.colaboratory.intrinsic+json": {
              "type": "string"
            }
          },
          "metadata": {},
          "execution_count": 2
        }
      ]
    },
    {
      "cell_type": "code",
      "source": [
        "def solution(data):\n",
        "    bin_data = bin(data)[2:]\n",
        "    return type(bin(data))\n",
        "\n",
        "solution(5)\n",
        "# bin()은 자동으로 문자열로 반환해준다."
      ],
      "metadata": {
        "colab": {
          "base_uri": "https://localhost:8080/"
        },
        "id": "p5RXZf5TDXLQ",
        "outputId": "26c47c9b-0ee5-477e-f3a5-09ecfa7549e6"
      },
      "execution_count": 6,
      "outputs": [
        {
          "output_type": "execute_result",
          "data": {
            "text/plain": [
              "str"
            ]
          },
          "metadata": {},
          "execution_count": 6
        }
      ]
    },
    {
      "cell_type": "code",
      "source": [
        "# 정규표현식으로 해결해보자.\n",
        "# => 여러개의 문자를 하나의 문자로 치환할수는 있지만, 여러개로 치환할수는 없다.\n",
        "# 그러므로 이 코드에선 replace나 re.sub이나 비슷하다..."
      ],
      "metadata": {
        "id": "13kZHSWsab_h"
      },
      "execution_count": null,
      "outputs": []
    }
  ]
}