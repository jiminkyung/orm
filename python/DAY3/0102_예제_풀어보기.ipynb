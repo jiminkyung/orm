{
  "nbformat": 4,
  "nbformat_minor": 0,
  "metadata": {
    "colab": {
      "provenance": []
    },
    "kernelspec": {
      "name": "python3",
      "display_name": "Python 3"
    },
    "language_info": {
      "name": "python"
    }
  },
  "cells": [
    {
      "cell_type": "markdown",
      "source": [
        "9. 다음 소스 코드를 완성하여 날짜와 시간을 출력하시오.\n",
        "```\n",
        "year = '2019'\n",
        "month = '04'\n",
        "day = '26'\n",
        "hour = '11'\n",
        "minute = '34'\n",
        "second = '27'\n",
        "```\n",
        "```\n",
        "print(year, month, day, )\n",
        "print(hour, minute, second, )\n",
        "```\n",
        "출력\n",
        "`2019/04/26 11:34:27`"
      ],
      "metadata": {
        "id": "GisLh-MEOzc9"
      }
    },
    {
      "cell_type": "code",
      "source": [
        "year = '2019'\n",
        "month = '04'\n",
        "day = '26'\n",
        "hour = '11'\n",
        "minute = '34'\n",
        "second = '27'"
      ],
      "metadata": {
        "id": "fb6ZqeQ_PsDD"
      },
      "execution_count": 2,
      "outputs": []
    },
    {
      "cell_type": "code",
      "source": [
        "print(year, month, day, sep=\"/\", end=\" \")\n",
        "print(hour, minute, second, sep=\":\")"
      ],
      "metadata": {
        "colab": {
          "base_uri": "https://localhost:8080/"
        },
        "id": "npR2nFi9PPMd",
        "outputId": "08190e8e-4779-4996-e937-c6cd45aba4f4"
      },
      "execution_count": 3,
      "outputs": [
        {
          "output_type": "stream",
          "name": "stdout",
          "text": [
            "2019/04/26 11:34:27\n"
          ]
        }
      ]
    },
    {
      "cell_type": "markdown",
      "source": [
        "15. 이름을 입력받고, `안녕하세요. 저는 지민경입니다.` 라고 출력하기."
      ],
      "metadata": {
        "id": "ykVAW31ZPnCC"
      }
    },
    {
      "cell_type": "code",
      "source": [
        "name = input(\"이름을 입력해주세요: \")\n",
        "print(f\"안녕하세요. 저는 {name}입니다.\")"
      ],
      "metadata": {
        "colab": {
          "base_uri": "https://localhost:8080/"
        },
        "id": "r2IrQG8rQAok",
        "outputId": "25f5cfe1-9332-4a41-9fe8-b720ca62f312"
      },
      "execution_count": 4,
      "outputs": [
        {
          "output_type": "stream",
          "name": "stdout",
          "text": [
            "이름을 입력해주세요: 지민경\n",
            "안녕하세요. 저는 지민경입니다.\n"
          ]
        }
      ]
    },
    {
      "cell_type": "markdown",
      "source": [
        "23. `print(10/2)`의 출력 결과는 5 이다."
      ],
      "metadata": {
        "id": "0qe8yxQgQIE4"
      }
    },
    {
      "cell_type": "markdown",
      "source": [
        ": X"
      ],
      "metadata": {
        "id": "MwPMgSzNQVe1"
      }
    },
    {
      "cell_type": "markdown",
      "source": [
        "39. **문장이 입력되면 모든 q를 e로, b를 n으로 바꾸는 프로그램을 작성해 주세요.**\n",
        "- 완성하려는 문장 안에 q나 b가 들어가지 않는다고 가정합니다.  \n",
        "<입출력 예시>\n",
        "```\n",
        "입력 : querty\n",
        "출력 : euerty\n",
        "```\n",
        "```\n",
        "입력 : hqllo my bamq is hyqwob\n",
        "출력 : hello my bame is hyewob\n",
        "```"
      ],
      "metadata": {
        "id": "U6s27ox-QZuC"
      }
    },
    {
      "cell_type": "code",
      "source": [
        "sentence = input(\"문장을 입력해주세요: \")\n",
        "result = sentence.replace(\"q\", \"e\").replace(\"b\", \"n\")\n",
        "print(result)"
      ],
      "metadata": {
        "colab": {
          "base_uri": "https://localhost:8080/"
        },
        "id": "qNc4tSwVQxNq",
        "outputId": "a70b3271-7d92-4a51-b5bb-bfe7096547aa"
      },
      "execution_count": 6,
      "outputs": [
        {
          "output_type": "stream",
          "name": "stdout",
          "text": [
            "문장을 입력해주세요: hello my bamq is hyqwob\n",
            "hello my name is hyewon\n"
          ]
        }
      ]
    }
  ]
}