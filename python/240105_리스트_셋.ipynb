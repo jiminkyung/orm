{
  "nbformat": 4,
  "nbformat_minor": 0,
  "metadata": {
    "colab": {
      "provenance": [],
      "collapsed_sections": [
        "ISCsTQ64NAS9"
      ]
    },
    "kernelspec": {
      "name": "python3",
      "display_name": "Python 3"
    },
    "language_info": {
      "name": "python"
    }
  },
  "cells": [
    {
      "cell_type": "markdown",
      "source": [
        "# 문자열 메서드"
      ],
      "metadata": {
        "id": "ISCsTQ64NAS9"
      }
    },
    {
      "cell_type": "code",
      "source": [
        "dir('hello world')\n",
        "# 메서드, 매직메서드, (클래스 변수, 인스턴스 변수)"
      ],
      "metadata": {
        "id": "cqrCdkTfMaSd"
      },
      "execution_count": null,
      "outputs": []
    },
    {
      "cell_type": "code",
      "source": [
        "# 문제 1: find와 index 차이\n",
        "# 실무에서 사용하는 코드: 둘 다 사용\n",
        "if 'hello world'.find('hi'): # -1 # True로 반환됨\n",
        "    print('찾았다!')\n",
        "\n",
        "# 문제 2: isdigit의 정체\n",
        "# 많이 사용함. 기억해두세요.\n",
        "'12h3'.isdigit()\n",
        "\n",
        "# 많이사용: join, maketrans, replace, strip, split, zfill\n",
        "\n",
        "# 문제 3: replace가 어디까지 변환하는지?\n",
        "'hello world hello world'.replace('hello', 'hi')\n",
        "# 모두 다 변환됨. 몇 개만 변환이 되는 것이 아님.\n",
        "# 알아둬야 할 사항: replace는 정규표현식이 안된다!!!(꼭 기억)\n",
        "# replace를 정규표현식으로 사용하고 싶으면 re.sub을 사용해야 한다.\n",
        "\n",
        "# 문제 4: strip(공백 제거)\n",
        "# 문제 5: zfill(앞에 0으로 채워주는 것, 원하는 자릿수만큼)"
      ],
      "metadata": {
        "colab": {
          "base_uri": "https://localhost:8080/",
          "height": 53
        },
        "id": "nnWC8mSvNFXc",
        "outputId": "b953664f-919d-48b7-d340-45c241aa6133"
      },
      "execution_count": 12,
      "outputs": [
        {
          "output_type": "stream",
          "name": "stdout",
          "text": [
            "찾았다!\n"
          ]
        },
        {
          "output_type": "execute_result",
          "data": {
            "text/plain": [
              "'hi world hi world'"
            ],
            "application/vnd.google.colaboratory.intrinsic+json": {
              "type": "string"
            }
          },
          "metadata": {},
          "execution_count": 12
        }
      ]
    },
    {
      "cell_type": "code",
      "source": [
        "# 질문: 메서드 체이닝으로 길어지면 어떻게 하나요?\n",
        "# 답: 메서드 체이닝으로 80자 이상이면 이미 가독성에 문제가 있는 것입니다.\n",
        "# 메서드 체이닝은 3개 이상은 권하지 않습니다.(가독성이 악화됩니다.)\n",
        "\n",
        "# 문제 있는 코드\n",
        "'hello world'.upper().split(' ').pop().lower()\n",
        "\n",
        "# 문제가 덜한 코드\n",
        "대문자 = 'hello world'.upper()\n",
        "잘린대문자 = 대문자.split(' ')\n",
        "\n",
        "# 허용함\n",
        "'hello world'.upper()\\\n",
        "            .split(' ')\\\n",
        "            .pop()\\\n",
        "            .lower()\n",
        "\n",
        "'hello world'.upper()   .split(' ')   .pop()   .lower()\n",
        "\n",
        "# 허용하지 않음(\\n)\n",
        "# 'hello world'.upper()\n",
        "# .split(' ')\n",
        "# .pop()\n",
        "# .lower()"
      ],
      "metadata": {
        "colab": {
          "base_uri": "https://localhost:8080/",
          "height": 36
        },
        "id": "xwzVbsi3LilO",
        "outputId": "f62aa164-31c0-4cbf-9e53-aaf4970f4a18"
      },
      "execution_count": 16,
      "outputs": [
        {
          "output_type": "execute_result",
          "data": {
            "text/plain": [
              "'world'"
            ],
            "application/vnd.google.colaboratory.intrinsic+json": {
              "type": "string"
            }
          },
          "metadata": {},
          "execution_count": 16
        }
      ]
    },
    {
      "cell_type": "code",
      "source": [
        "# 회색 줄은 영문자 80자, 한글은 32자\n",
        "# PEP8, PEP20\n",
        "# 줄이 너무 길면 가독성이 떨어짐. 한줄로만 X\n",
        "\n",
        "# 해결책 1: 역슬래쉬(추천 X)\n",
        "# 해결책 2: 콤마를 찍지 않은 연결\n",
        "print('hello world' 'hello world')\n",
        "print('hello world'\n",
        "'hello world')"
      ],
      "metadata": {
        "colab": {
          "base_uri": "https://localhost:8080/"
        },
        "id": "Wcs_CKUzJywM",
        "outputId": "5b77d0a6-5907-4138-97b7-1dbe9e9500bc"
      },
      "execution_count": 4,
      "outputs": [
        {
          "output_type": "stream",
          "name": "stdout",
          "text": [
            "hello worldhello world\n",
            "hello worldhello world\n"
          ]
        }
      ]
    },
    {
      "cell_type": "code",
      "source": [
        "# 각 화살표가 어디를 가리킬까?\n",
        "a = 10\n",
        "b = a\n",
        "c = b\n",
        "\n",
        "print(c)\n",
        "\n",
        "a = 10\n",
        "b = a\n",
        "c = b\n",
        "a = 20\n",
        "print(c)\n",
        "\n",
        "# id 기준으로 가리키게 된다."
      ],
      "metadata": {
        "colab": {
          "base_uri": "https://localhost:8080/"
        },
        "id": "i0Bitu_nSy9H",
        "outputId": "d53da11b-68a4-4d0b-f149-c6cc45236eb2"
      },
      "execution_count": 13,
      "outputs": [
        {
          "output_type": "stream",
          "name": "stdout",
          "text": [
            "10\n",
            "10\n"
          ]
        }
      ]
    },
    {
      "cell_type": "code",
      "source": [
        "# -5부터 256은 같습니다.\n",
        "a = 10\n",
        "b = 10\n",
        "\n",
        "print(id(a))\n",
        "print(id(b))\n",
        "\n",
        "a is b"
      ],
      "metadata": {
        "colab": {
          "base_uri": "https://localhost:8080/"
        },
        "id": "CviRORG2ThAZ",
        "outputId": "77bc13d5-fa9d-4961-f44b-50c1c137a057"
      },
      "execution_count": 15,
      "outputs": [
        {
          "output_type": "stream",
          "name": "stdout",
          "text": [
            "133832007041552\n",
            "133832007041552\n"
          ]
        },
        {
          "output_type": "execute_result",
          "data": {
            "text/plain": [
              "True"
            ]
          },
          "metadata": {},
          "execution_count": 15
        }
      ]
    },
    {
      "cell_type": "markdown",
      "source": [
        "# 1. 리스트\n",
        "- 변경이 가능한 자료형\n",
        "- 순서가 있는 자료형 (시퀀스형 자료형, 인덱싱, 슬라이싱)"
      ],
      "metadata": {
        "id": "Ys2r46xW-vmJ"
      }
    },
    {
      "cell_type": "code",
      "source": [
        "l = [10, 20, 30]\n",
        "\n",
        "# 라인 수가 길어졌을 때에는 이렇게 사용하시길 권합니다.\n",
        "# 권고 1\n",
        "l = [10,\n",
        "     20,\n",
        "     30] # 됩니다!\n",
        "# ,가 있을 경우에 괄호가 닫힐때까지 계속 답을 찾음.\n",
        "\n",
        "# 권고 2(실무에서 더 많이 사용됨)\n",
        "l = [\n",
        "    10,\n",
        "    20,\n",
        "    30,\n",
        "]\n",
        "# 문제가 있습니다! 통신을 할 때에는 JSON이라는 형식을 사용하게 되는데,\n",
        "# JSON은 마지막에 콤마를 허용하지 않습니다!\n",
        "\n",
        "# why? 문제가 있는 2번이 더 많이 사용되는 이유?\n",
        "# 실무에서는 콤마를 버전업으로 인식하는 경우도 많고,\n",
        "# 콤마를 빼먹는 경우가 많습니다.\n",
        "# 편의성: 복붙하기 편합니다.\n",
        "# (협업시)자동 변환 SW를 사용합니다.(python black fomatter) => 권고!"
      ],
      "metadata": {
        "id": "eAGndYOBFj-L"
      },
      "execution_count": null,
      "outputs": []
    },
    {
      "cell_type": "code",
      "source": [
        "# str은 안됨\n",
        "s = 'hello world'\n",
        "# s[0] = 'y'\n",
        "\n",
        "print(s.replace('h', 'y'))\n",
        "print(s)"
      ],
      "metadata": {
        "colab": {
          "base_uri": "https://localhost:8080/"
        },
        "id": "VzCQ39XvSlE1",
        "outputId": "018e28b4-eadc-4ebe-8106-82419e155849"
      },
      "execution_count": 17,
      "outputs": [
        {
          "output_type": "stream",
          "name": "stdout",
          "text": [
            "yello world\n",
            "hello world\n"
          ]
        }
      ]
    },
    {
      "cell_type": "code",
      "source": [
        "# 정답 1\n",
        "s = s.replace('h', 'y')\n",
        "\n",
        "# 정답 2\n",
        "s = 'y' + s[1:]"
      ],
      "metadata": {
        "id": "fLwW3RtFZRkb"
      },
      "execution_count": 19,
      "outputs": []
    },
    {
      "cell_type": "code",
      "source": [
        "l = [10, 20, 30]\n",
        "l[2] = 1000\n",
        "print(l)"
      ],
      "metadata": {
        "colab": {
          "base_uri": "https://localhost:8080/"
        },
        "id": "RkyHuA4yZae-",
        "outputId": "aeb75dd4-f42c-44fe-9a0e-bf4d6c1f390a"
      },
      "execution_count": 20,
      "outputs": [
        {
          "output_type": "stream",
          "name": "stdout",
          "text": [
            "[10, 20, 1000]\n"
          ]
        }
      ]
    },
    {
      "cell_type": "code",
      "source": [
        "l = [10, 20, 30, 40, 50]\n",
        "print(l[-1])\n",
        "print(l[-2:]) # 마이너스 인덱싱, 마이너스 슬라이싱은 최종적으로 양수로 치환됨.\n",
        "print(l[3:])\n",
        "# 변수명[stop]\n",
        "# 변수명[start:stop]\n",
        "# 변수명[start:stop:step]"
      ],
      "metadata": {
        "colab": {
          "base_uri": "https://localhost:8080/"
        },
        "id": "-2riygLnZhi-",
        "outputId": "a32bd5e3-480b-4ec7-f99f-3eea4a41f01c"
      },
      "execution_count": 23,
      "outputs": [
        {
          "output_type": "stream",
          "name": "stdout",
          "text": [
            "50\n",
            "[40, 50]\n",
            "[40, 50]\n"
          ]
        }
      ]
    },
    {
      "cell_type": "code",
      "source": [
        "a = 10\n",
        "aa = 10\n",
        "print(a)\n",
        "print(aa)\n",
        "print(a)\n",
        "# shift+end 누르면 맨 마지막으로 이동됨~!"
      ],
      "metadata": {
        "colab": {
          "base_uri": "https://localhost:8080/"
        },
        "id": "DcAa0j1lZ85-",
        "outputId": "9f1e67cc-5bed-49c3-dd45-f850766719e0"
      },
      "execution_count": 24,
      "outputs": [
        {
          "output_type": "stream",
          "name": "stdout",
          "text": [
            "10\n",
            "10\n",
            "10\n"
          ]
        }
      ]
    },
    {
      "cell_type": "code",
      "source": [
        "type(l), dir(l)\n",
        "# type은 검색 키워드, GPT 질문 키워드가 될 수 있다.\n",
        "# dir은 대략적인 속성을 알 수 있다."
      ],
      "metadata": {
        "id": "uaKDX9vUayZc"
      },
      "execution_count": null,
      "outputs": []
    },
    {
      "cell_type": "code",
      "source": [
        "# __add__가 있으니 더하기는 어디까지 될까? => 테스트\n",
        "# __mul__이 있으니 곱하기는 어디까지 될까? => 테스트\n",
        "\n",
        "l = [10, 20, 30]\n",
        "# l + 100 # 정수 더하기는 안됩니다!\n",
        "l + [100]\n",
        "l + [100, 200]\n",
        "l * 3 # 정수 곱하기는 됩니다!\n",
        "# l * [1, 2] # 리스트 곱하기는 안됩니다."
      ],
      "metadata": {
        "colab": {
          "base_uri": "https://localhost:8080/"
        },
        "id": "_xFwKRuCbI9I",
        "outputId": "90865f95-48ac-4b4f-ac8a-09cba8f5a19b"
      },
      "execution_count": 28,
      "outputs": [
        {
          "output_type": "execute_result",
          "data": {
            "text/plain": [
              "[10, 20, 30, 10, 20, 30, 10, 20, 30]"
            ]
          },
          "metadata": {},
          "execution_count": 28
        }
      ]
    },
    {
      "cell_type": "code",
      "source": [
        "l = [1, 2, 3] * 3\n",
        "l[1] = 1000\n",
        "l"
      ],
      "metadata": {
        "colab": {
          "base_uri": "https://localhost:8080/"
        },
        "id": "QX81dj3RcAkf",
        "outputId": "aa514b81-013c-4ab4-b3d4-c380a4b439ca"
      },
      "execution_count": 29,
      "outputs": [
        {
          "output_type": "execute_result",
          "data": {
            "text/plain": [
              "[1, 1000, 3, 1, 2, 3, 1, 2, 3]"
            ]
          },
          "metadata": {},
          "execution_count": 29
        }
      ]
    },
    {
      "cell_type": "code",
      "source": [
        "# 리스트 곱하기는 매우 주의해야 합니다!\n",
        "# 곱하기가 이중으로 있을 때에는 나중에 배울 리스트컴프리헨션 사용해주세요!\n",
        "l = [[1, 2, 3] * 3] * 2\n",
        "l[1][0] = 1000\n",
        "l"
      ],
      "metadata": {
        "colab": {
          "base_uri": "https://localhost:8080/"
        },
        "id": "O1PcFe-xcRAc",
        "outputId": "1d1a4c02-1445-482b-f4b7-766d26ec2a2e"
      },
      "execution_count": 31,
      "outputs": [
        {
          "output_type": "execute_result",
          "data": {
            "text/plain": [
              "[[1000, 2, 3, 1, 2, 3, 1, 2, 3], [1000, 2, 3, 1, 2, 3, 1, 2, 3]]"
            ]
          },
          "metadata": {},
          "execution_count": 31
        }
      ]
    },
    {
      "cell_type": "code",
      "source": [
        "l[1][1] = 10000\n",
        "l"
      ],
      "metadata": {
        "colab": {
          "base_uri": "https://localhost:8080/"
        },
        "id": "kXy9dAnecmtn",
        "outputId": "b4ab4dd9-c73f-4415-d053-d410fd613279"
      },
      "execution_count": 32,
      "outputs": [
        {
          "output_type": "execute_result",
          "data": {
            "text/plain": [
              "[[1000, 10000, 3, 1, 2, 3, 1, 2, 3], [1000, 10000, 3, 1, 2, 3, 1, 2, 3]]"
            ]
          },
          "metadata": {},
          "execution_count": 32
        }
      ]
    },
    {
      "cell_type": "code",
      "source": [
        "# 암기해주세요. ㅎㅎ.\n",
        "x = 10 # 스칼라\n",
        "x = [10] # 벡터\n",
        "x = [10, 20] # 벡터\n",
        "x = [[10, 20], [10, 20]] # 메트릭스(행렬)\n",
        "x = [[[10, 20], [10, 20]], [[10, 20], [10, 20]]] # 텐서(3차원 이상 행렬)"
      ],
      "metadata": {
        "id": "j5MaeYgrcxjs"
      },
      "execution_count": 33,
      "outputs": []
    },
    {
      "cell_type": "code",
      "source": [
        "# 텐서플로? google에서 만든 딥러닝 라이브러리\n",
        "# 인공지능 => 행렬의 연산\n",
        "# 상식으로 알아두시면 좋습니다 ㅎㅎ"
      ],
      "metadata": {
        "id": "H5W8NGe-d5OM"
      },
      "execution_count": 36,
      "outputs": []
    },
    {
      "cell_type": "code",
      "source": [
        "# 타이핑 친 것만이 나의것\n",
        "# 그냥 따라친것이라 해도 누적이 됨을 믿으십시오...\n",
        "x = [[1, 2], [3, 4], [5, 6]]\n",
        "x[1][1]"
      ],
      "metadata": {
        "colab": {
          "base_uri": "https://localhost:8080/"
        },
        "id": "BW_13mGqeY1U",
        "outputId": "f1eb8710-fd5f-410c-c3c7-7c164482df9a"
      },
      "execution_count": 38,
      "outputs": [
        {
          "output_type": "execute_result",
          "data": {
            "text/plain": [
              "4"
            ]
          },
          "metadata": {},
          "execution_count": 38
        }
      ]
    },
    {
      "cell_type": "code",
      "source": [
        "# Ctrl + Alt + 화살표 , print(입력, Shift + end, )입력\n",
        "x = [[1, 2], [3, 'hello world'], [5, 6]]\n",
        "print(x[1])\n",
        "print(x[1][1])\n",
        "print(x[1][1][6:])"
      ],
      "metadata": {
        "colab": {
          "base_uri": "https://localhost:8080/"
        },
        "id": "MJ5Zyfd7exAo",
        "outputId": "95a1aca6-1b54-4d0d-9c49-7c0769e77805"
      },
      "execution_count": 40,
      "outputs": [
        {
          "output_type": "stream",
          "name": "stdout",
          "text": [
            "[3, 'hello world']\n",
            "hello world\n",
            "world\n"
          ]
        }
      ]
    },
    {
      "cell_type": "code",
      "source": [
        "x = 10\n",
        "\n",
        "# 다르다는 것만 인지해주세요!\n",
        "# print를 하는 것과 맨 마지막처럼 출력하는것은 다름\n",
        "print(x) # __str__\n",
        "x # __repr__"
      ],
      "metadata": {
        "colab": {
          "base_uri": "https://localhost:8080/"
        },
        "id": "4iTQGpZ2fI4G",
        "outputId": "00c0f9dc-7ecc-4c8a-999c-60594e5c9cbe"
      },
      "execution_count": 44,
      "outputs": [
        {
          "output_type": "stream",
          "name": "stdout",
          "text": [
            "10\n"
          ]
        },
        {
          "output_type": "execute_result",
          "data": {
            "text/plain": [
              "10"
            ]
          },
          "metadata": {},
          "execution_count": 44
        }
      ]
    },
    {
      "cell_type": "markdown",
      "source": [
        "## 1.1 메서드"
      ],
      "metadata": {
        "id": "sXgPnq3IfknI"
      }
    },
    {
      "cell_type": "code",
      "source": [
        "# Python > 자료형 > list > 메서드\n",
        "l = [10, 20, 30]\n",
        "dir(l)\n",
        "\n",
        "# 앞에 공백 없애는 방법 / 만드는 방법\n",
        "# Shift + Tab\n",
        "# Ctrl + [, Ctrl + ]\n",
        "'append',\n",
        "'clear',\n",
        "'copy',\n",
        "'count',\n",
        "'extend',\n",
        "'index',\n",
        "'insert',\n",
        "'pop',\n",
        "'remove',\n",
        "'reverse',\n",
        "'sort'"
      ],
      "metadata": {
        "colab": {
          "base_uri": "https://localhost:8080/",
          "height": 36
        },
        "id": "5hekPbwkgRes",
        "outputId": "34d6baec-bf67-4caa-8f23-ace4dae3a480"
      },
      "execution_count": 48,
      "outputs": [
        {
          "output_type": "execute_result",
          "data": {
            "text/plain": [
              "'sort'"
            ],
            "application/vnd.google.colaboratory.intrinsic+json": {
              "type": "string"
            }
          },
          "metadata": {},
          "execution_count": 48
        }
      ]
    },
    {
      "cell_type": "code",
      "source": [
        "l.append(100)\n",
        "l"
      ],
      "metadata": {
        "colab": {
          "base_uri": "https://localhost:8080/"
        },
        "id": "EZHDHhqmgUqh",
        "outputId": "96d2657f-721f-464f-8336-ba1b28424322"
      },
      "execution_count": 49,
      "outputs": [
        {
          "output_type": "execute_result",
          "data": {
            "text/plain": [
              "[10, 20, 30, 100]"
            ]
          },
          "metadata": {},
          "execution_count": 49
        }
      ]
    },
    {
      "cell_type": "code",
      "source": [
        "# 앞에다 넣는 방법\n",
        "# 1\n",
        "l = [1000] + l\n",
        "\n",
        "# 2\n",
        "x = 10000\n",
        "l = [x] + l[:]\n",
        "\n",
        "# 3\n",
        "l.insert(0, 999)\n",
        "l"
      ],
      "metadata": {
        "colab": {
          "base_uri": "https://localhost:8080/"
        },
        "id": "D9kWfKEWhZO7",
        "outputId": "33000fc8-95eb-47e4-d553-3c4fe53aa35b"
      },
      "execution_count": 50,
      "outputs": [
        {
          "output_type": "execute_result",
          "data": {
            "text/plain": [
              "[999, 10000, 1000, 10, 20, 30, 100]"
            ]
          },
          "metadata": {},
          "execution_count": 50
        }
      ]
    },
    {
      "cell_type": "code",
      "source": [
        "l = [10, 20, 30, 40]\n",
        "l.pop()  # 뒤에서 값을 꺼내는 방법\n",
        "l"
      ],
      "metadata": {
        "colab": {
          "base_uri": "https://localhost:8080/"
        },
        "id": "ZGST7icRhwjC",
        "outputId": "92531ad7-e0e3-4507-89b2-4496145babb0"
      },
      "execution_count": 53,
      "outputs": [
        {
          "output_type": "execute_result",
          "data": {
            "text/plain": [
              "[10, 20, 30]"
            ]
          },
          "metadata": {},
          "execution_count": 53
        }
      ]
    },
    {
      "cell_type": "code",
      "source": [
        "l = [10, 20, 30, 40]\n",
        "l.pop(0)  # 앞에서 값을 꺼내는 방법\n",
        "l"
      ],
      "metadata": {
        "colab": {
          "base_uri": "https://localhost:8080/"
        },
        "id": "XciDBSAOkYAA",
        "outputId": "2d3571d0-157e-4289-98f1-f038eb803848"
      },
      "execution_count": 55,
      "outputs": [
        {
          "output_type": "execute_result",
          "data": {
            "text/plain": [
              "[20, 30, 40]"
            ]
          },
          "metadata": {},
          "execution_count": 55
        }
      ]
    },
    {
      "cell_type": "code",
      "source": [
        "l = [10, 20, 30, 40]\n",
        "l[:-1]\n",
        "l[1:]  # l = l[1:] 라고 해줘야 할당이 되지요."
      ],
      "metadata": {
        "colab": {
          "base_uri": "https://localhost:8080/"
        },
        "id": "UQtemZsKkhYL",
        "outputId": "a62141d4-b58c-4c80-df2b-1ec5c2ca93c4"
      },
      "execution_count": 57,
      "outputs": [
        {
          "output_type": "execute_result",
          "data": {
            "text/plain": [
              "[20, 30, 40]"
            ]
          },
          "metadata": {},
          "execution_count": 57
        }
      ]
    },
    {
      "cell_type": "code",
      "source": [
        "l = [10, 20, 30, 40]\n",
        "l.index(20)"
      ],
      "metadata": {
        "colab": {
          "base_uri": "https://localhost:8080/"
        },
        "id": "C_Sud99Uks4r",
        "outputId": "a51b4098-a60a-4345-ea1e-274338cd115c"
      },
      "execution_count": 58,
      "outputs": [
        {
          "output_type": "execute_result",
          "data": {
            "text/plain": [
              "1"
            ]
          },
          "metadata": {},
          "execution_count": 58
        }
      ]
    },
    {
      "cell_type": "code",
      "source": [
        "# keep\n",
        "# index가 에러가 납니다. error 없이 코드를 짜고 싶어요.\n",
        "# str의 find처럼 코드를 짜고 싶을 때?\n",
        "# 슬라이싱을 사용합니다. => 슬라이싱은 index가 벗어나도 에러가 나지 않는다.\n",
        "\n",
        "l = [10, 20, 30, 40]\n",
        "l[100:101]"
      ],
      "metadata": {
        "colab": {
          "base_uri": "https://localhost:8080/"
        },
        "id": "l_dqjexglON1",
        "outputId": "28719657-57a3-401c-c7ee-02254677cbdc"
      },
      "execution_count": 61,
      "outputs": [
        {
          "output_type": "execute_result",
          "data": {
            "text/plain": [
              "[]"
            ]
          },
          "metadata": {},
          "execution_count": 61
        }
      ]
    },
    {
      "cell_type": "code",
      "source": [
        "# clear는 다 지우기\n",
        "l = [10, 20, 30, 40]\n",
        "l.clear()\n",
        "l"
      ],
      "metadata": {
        "colab": {
          "base_uri": "https://localhost:8080/"
        },
        "id": "fhFw4GP4lbta",
        "outputId": "c96205b4-e1fb-45fd-88dc-ff554671fbde"
      },
      "execution_count": 63,
      "outputs": [
        {
          "output_type": "execute_result",
          "data": {
            "text/plain": [
              "[]"
            ]
          },
          "metadata": {},
          "execution_count": 63
        }
      ]
    },
    {
      "cell_type": "code",
      "source": [
        "# copy\n",
        "l = [10, 20, 30, 40]\n",
        "ll = l\n",
        "\n",
        "l[0] = 1000\n",
        "print(ll)\n",
        "\n",
        "# 헷갈릴때는 항상 id 찍어보기\n",
        "print(id(l), id(ll))\n",
        "print(l is ll)"
      ],
      "metadata": {
        "colab": {
          "base_uri": "https://localhost:8080/"
        },
        "id": "LnNCifUQlrcu",
        "outputId": "1bf8eb88-a346-44db-8602-bf30a1a4b846"
      },
      "execution_count": 65,
      "outputs": [
        {
          "output_type": "stream",
          "name": "stdout",
          "text": [
            "[1000, 20, 30, 40]\n",
            "133830738285888 133830738285888\n",
            "True\n"
          ]
        }
      ]
    },
    {
      "cell_type": "code",
      "source": [
        "l = [10, 20, 30, 40]\n",
        "ll = l.copy()\n",
        "# 얕은 복사와 깊은 복사가 있는데 이 개념은 뒤에서 알려드린다고 하심.\n",
        "\n",
        "l[0] = 1000\n",
        "print(ll)\n",
        "\n",
        "print(id(l), id(ll))\n",
        "print(l is ll)\n",
        "# 다른 값을 가리키게 됨.\n",
        "# [10, 20, 30, 40]과 똑같은 객체를 만들어냄."
      ],
      "metadata": {
        "colab": {
          "base_uri": "https://localhost:8080/"
        },
        "id": "_zh54NB_mHMA",
        "outputId": "40328d6c-7bd0-4cf6-cd5b-d2cb52d8bcda"
      },
      "execution_count": 68,
      "outputs": [
        {
          "output_type": "stream",
          "name": "stdout",
          "text": [
            "[10, 20, 30, 40]\n",
            "133830736966080 133830737447168\n",
            "False\n"
          ]
        }
      ]
    },
    {
      "cell_type": "code",
      "source": [
        "l = [10, 20, 30, 40]\n",
        "ll = l[:]\n",
        "\n",
        "l[0] = 1000\n",
        "l, ll"
      ],
      "metadata": {
        "colab": {
          "base_uri": "https://localhost:8080/"
        },
        "id": "mY6oLeSAmaLX",
        "outputId": "2321b610-a4c3-4c74-a0be-ecf60a317272"
      },
      "execution_count": 70,
      "outputs": [
        {
          "output_type": "execute_result",
          "data": {
            "text/plain": [
              "([1000, 20, 30, 40], [10, 20, 30, 40])"
            ]
          },
          "metadata": {},
          "execution_count": 70
        }
      ]
    },
    {
      "cell_type": "code",
      "source": [
        "l = [1, 1, 1, 2, 2, 3]\n",
        "l.count(1)"
      ],
      "metadata": {
        "colab": {
          "base_uri": "https://localhost:8080/"
        },
        "id": "gikmKtIYm2js",
        "outputId": "c9ea7ec4-dfd6-4c89-9684-6394a721df9d"
      },
      "execution_count": 71,
      "outputs": [
        {
          "output_type": "execute_result",
          "data": {
            "text/plain": [
              "3"
            ]
          },
          "metadata": {},
          "execution_count": 71
        }
      ]
    },
    {
      "cell_type": "code",
      "source": [
        "# 많이 실수하는것\n",
        "l = ['1', '1', 1, 2, 2, 3]\n",
        "l.count(1)"
      ],
      "metadata": {
        "colab": {
          "base_uri": "https://localhost:8080/"
        },
        "id": "aqJrmLs0nIYU",
        "outputId": "3d192ed8-46c5-4c74-f88d-900954e4ee0b"
      },
      "execution_count": 72,
      "outputs": [
        {
          "output_type": "execute_result",
          "data": {
            "text/plain": [
              "1"
            ]
          },
          "metadata": {},
          "execution_count": 72
        }
      ]
    },
    {
      "cell_type": "code",
      "source": [
        "# 구글 입사문제(분위기 환기^^)\n",
        "# https://codingdojang.com/scode/393?answer_mode=hide\n",
        "# 1부터 10000까지 8이 몇개 들어가는가?\n",
        "# str(1부터 10000까지 리스트).count('8')\n",
        "list(range(10))\n",
        "str(list(range(20)))\n",
        "str(list(range(20))).count('8')"
      ],
      "metadata": {
        "colab": {
          "base_uri": "https://localhost:8080/"
        },
        "id": "IQEs8t8cn3CP",
        "outputId": "03868c22-419e-434b-c66e-62e1fbea4128"
      },
      "execution_count": 77,
      "outputs": [
        {
          "output_type": "execute_result",
          "data": {
            "text/plain": [
              "2"
            ]
          },
          "metadata": {},
          "execution_count": 77
        }
      ]
    },
    {
      "cell_type": "code",
      "source": [
        "l = [10, 20, 30, 40]\n",
        "l.extend([50, 60])\n",
        "l"
      ],
      "metadata": {
        "colab": {
          "base_uri": "https://localhost:8080/"
        },
        "id": "8PNwOSm3oqqT",
        "outputId": "2b905e91-3e1b-4064-e8e5-501993f9d8d3"
      },
      "execution_count": 78,
      "outputs": [
        {
          "output_type": "execute_result",
          "data": {
            "text/plain": [
              "[10, 20, 30, 40, 50, 60]"
            ]
          },
          "metadata": {},
          "execution_count": 78
        }
      ]
    },
    {
      "cell_type": "code",
      "source": [
        "l = [10, 20, 30, 40]\n",
        "l.append([50, 60]) # 이것만 기억하셔도 좋습니다. 이렇게 많이 사용함.\n",
        "l"
      ],
      "metadata": {
        "colab": {
          "base_uri": "https://localhost:8080/"
        },
        "id": "YQ1ByaVqpJbX",
        "outputId": "e1518cda-a474-4198-8f46-6efe2bd90a70"
      },
      "execution_count": 81,
      "outputs": [
        {
          "output_type": "execute_result",
          "data": {
            "text/plain": [
              "[10, 20, 30, 40, [50, 60]]"
            ]
          },
          "metadata": {},
          "execution_count": 81
        }
      ]
    },
    {
      "cell_type": "code",
      "source": [
        "l = [10, 20, 30, 40]\n",
        " # extend(보통은 리스트를 넣음), extend(순회 가능한 객체)\n",
        "l.extend('hello')\n",
        "l"
      ],
      "metadata": {
        "colab": {
          "base_uri": "https://localhost:8080/"
        },
        "id": "0-Icax6tpPf-",
        "outputId": "cca4e0dc-6a3e-4542-d2d2-cee32b8834a3"
      },
      "execution_count": 82,
      "outputs": [
        {
          "output_type": "execute_result",
          "data": {
            "text/plain": [
              "[10, 20, 30, 40, 'h', 'e', 'l', 'l', 'o']"
            ]
          },
          "metadata": {},
          "execution_count": 82
        }
      ]
    },
    {
      "cell_type": "code",
      "source": [
        "l = [1, 1, 1, 1, 2, 2, 3, 3, 3]\n",
        "# remove는 한가지 요소를 지울 때 사용\n",
        "l.remove(1)  # 제일 앞에있는 1이 삭제됨.\n",
        "l"
      ],
      "metadata": {
        "colab": {
          "base_uri": "https://localhost:8080/"
        },
        "id": "hXTAkaA-pbGt",
        "outputId": "24a17d30-6851-4679-dd2b-2257b1953d69"
      },
      "execution_count": 85,
      "outputs": [
        {
          "output_type": "execute_result",
          "data": {
            "text/plain": [
              "[1, 1, 1, 2, 2, 3, 3, 3]"
            ]
          },
          "metadata": {},
          "execution_count": 85
        }
      ]
    },
    {
      "cell_type": "code",
      "source": [
        "# 이해하지 않으셔도 됩니다.\n",
        "# 여기서 catch해야할 포인트는 모든 요소를 필터링하고 싶을 때에는\n",
        "# romove가 아니라 filter라는 것을 사용한다!\n",
        "\n",
        "# filter 샘플 코드\n",
        "def f(x):\n",
        "    return x != 1\n",
        "\n",
        "l = [1, 1, 1, 1, 2, 2, 3, 3, 3]\n",
        "list(filter(f, l))"
      ],
      "metadata": {
        "colab": {
          "base_uri": "https://localhost:8080/"
        },
        "id": "M09zwqi1p2sO",
        "outputId": "4f539cee-ed34-48ff-adac-40aa123e1cd8"
      },
      "execution_count": 87,
      "outputs": [
        {
          "output_type": "execute_result",
          "data": {
            "text/plain": [
              "[2, 2, 3, 3, 3]"
            ]
          },
          "metadata": {},
          "execution_count": 87
        }
      ]
    },
    {
      "cell_type": "code",
      "source": [
        "l = [1, 2, 3, 4, 9, 5, 6, 7]\n",
        "l.reverse()\n",
        "l # 역 정렬은 아닙니다.\n",
        "# 원본이 변합니다.(입력된 원본은 대부분 보존하려 노력합니다.)\n",
        "\n",
        "# 역순은 단순히 순서를 뒤집는 것이고,\n",
        "# 역 정렬은 정렬의 역순."
      ],
      "metadata": {
        "colab": {
          "base_uri": "https://localhost:8080/"
        },
        "id": "Oye-n8YVqvex",
        "outputId": "982bed04-608d-44c5-ee86-ce1edf23093b"
      },
      "execution_count": 89,
      "outputs": [
        {
          "output_type": "execute_result",
          "data": {
            "text/plain": [
              "[7, 6, 5, 9, 4, 3, 2, 1]"
            ]
          },
          "metadata": {},
          "execution_count": 89
        }
      ]
    },
    {
      "cell_type": "code",
      "source": [
        "# 원본을 건들고 싶지 않다면?\n",
        "# reversed는 잊으셔도 됩니다. l.reverse만 기억하세요.\n",
        "l = [1, 2, 3, 4, 9, 5, 6, 7]\n",
        "print(list(reversed(l))) # reversed는 원본을 변경하지 않는다!\n",
        "l"
      ],
      "metadata": {
        "colab": {
          "base_uri": "https://localhost:8080/"
        },
        "id": "fCMEJNR8rKD4",
        "outputId": "b10f0841-5046-43a8-a962-f1f9b7f50b98"
      },
      "execution_count": 94,
      "outputs": [
        {
          "output_type": "stream",
          "name": "stdout",
          "text": [
            "[7, 6, 5, 9, 4, 3, 2, 1]\n"
          ]
        },
        {
          "output_type": "execute_result",
          "data": {
            "text/plain": [
              "[1, 2, 3, 4, 9, 5, 6, 7]"
            ]
          },
          "metadata": {},
          "execution_count": 94
        }
      ]
    },
    {
      "cell_type": "code",
      "source": [
        "l = [1, 2, 3, 4, 9, 5, 6, 7]\n",
        "l.sort()\n",
        "l  # 원본을 바꾸는 정렬"
      ],
      "metadata": {
        "colab": {
          "base_uri": "https://localhost:8080/"
        },
        "id": "JQ8f6ku1ru3Y",
        "outputId": "3f23206e-ee3e-47e9-bb99-6dbed084daea"
      },
      "execution_count": 95,
      "outputs": [
        {
          "output_type": "execute_result",
          "data": {
            "text/plain": [
              "[1, 2, 3, 4, 5, 6, 7, 9]"
            ]
          },
          "metadata": {},
          "execution_count": 95
        }
      ]
    },
    {
      "cell_type": "code",
      "source": [
        "l = [1, 2, 3, 4, 9, 5, 6, 7]\n",
        "l.sort()\n",
        "l.reverse()\n",
        "l  # 원본을 바꾸는 역 정렬"
      ],
      "metadata": {
        "colab": {
          "base_uri": "https://localhost:8080/"
        },
        "id": "YbFWfNY-s8nb",
        "outputId": "9f8575a3-591a-434c-d5c6-d84c3d57aac6"
      },
      "execution_count": 97,
      "outputs": [
        {
          "output_type": "execute_result",
          "data": {
            "text/plain": [
              "[9, 7, 6, 5, 4, 3, 2, 1]"
            ]
          },
          "metadata": {},
          "execution_count": 97
        }
      ]
    },
    {
      "cell_type": "code",
      "source": [
        "# 원본을 건들고 싶지 않다면?\n",
        "# sorted는 잊으셔도 됩니다. l.sort만 기억하세요.\n",
        "l = [1, 2, 3, 4, 9, 5, 6, 7]\n",
        "print(list(sorted(l))) # sorted는 원본을 변경하지 않는다!\n",
        "l"
      ],
      "metadata": {
        "colab": {
          "base_uri": "https://localhost:8080/"
        },
        "id": "o9c1XPzwtAvR",
        "outputId": "fb6733e6-e31f-4fb0-cd0f-29960081d251"
      },
      "execution_count": 99,
      "outputs": [
        {
          "output_type": "stream",
          "name": "stdout",
          "text": [
            "[1, 2, 3, 4, 5, 6, 7, 9]\n"
          ]
        },
        {
          "output_type": "execute_result",
          "data": {
            "text/plain": [
              "[1, 2, 3, 4, 9, 5, 6, 7]"
            ]
          },
          "metadata": {},
          "execution_count": 99
        }
      ]
    },
    {
      "cell_type": "code",
      "source": [
        "# sort, sorted, reverse, reversed\n",
        "# 알고리즘 문제에서도 문제 1개는 거의 나온다고 보시면 됩니다.\n",
        "\n",
        "# 옵션 값은 하지 않았습니다.\n",
        "# 옵션 값을 하지 않은 이유: 함수까지는 배워야 좀 더 고급 문법이 가능합니다."
      ],
      "metadata": {
        "id": "XvpNV43VtPpv"
      },
      "execution_count": 100,
      "outputs": []
    },
    {
      "cell_type": "code",
      "source": [
        "# 어떻게 사용되는지만 체크! (뒤에서 다시 할거임)\n",
        "# 국, 영, 수, 이름\n",
        "\n",
        "# 국어 잘하는 순\n",
        "s = [[100, 87, 91, '이호준'],\n",
        " [56, 38, 89, '이준호'],\n",
        "  [33, 88, 100, '홍길동']]\n",
        "\n",
        "def f(x):\n",
        "    return x[0]\n",
        "\n",
        "sorted(s, key=f)\n",
        "sorted(s, key=f, reverse=True)\n"
      ],
      "metadata": {
        "colab": {
          "base_uri": "https://localhost:8080/"
        },
        "id": "Bamu3-J6uSto",
        "outputId": "3d3e4e41-ea23-43bd-96fd-e4fc011e3e27"
      },
      "execution_count": 102,
      "outputs": [
        {
          "output_type": "execute_result",
          "data": {
            "text/plain": [
              "[[100, 87, 91, '이호준'], [56, 38, 89, '이준호'], [33, 88, 100, '홍길동']]"
            ]
          },
          "metadata": {},
          "execution_count": 102
        }
      ]
    },
    {
      "cell_type": "code",
      "source": [
        "# 이름 순으로 정렬\n",
        "s = [[100, 87, 91, '이호준'],\n",
        " [56, 38, 89, '이준호'],\n",
        "  [33, 88, 100, '홍길동']]\n",
        "\n",
        "def f(x):\n",
        "    return x[3]\n",
        "\n",
        "sorted(s, key=f)\n",
        "# sorted(s, key=f, reverse=True)"
      ],
      "metadata": {
        "colab": {
          "base_uri": "https://localhost:8080/"
        },
        "id": "C8jsbi1vu_i8",
        "outputId": "3e052e5d-cf04-4934-ab49-42b3cc565ab8"
      },
      "execution_count": 104,
      "outputs": [
        {
          "output_type": "execute_result",
          "data": {
            "text/plain": [
              "[[56, 38, 89, '이준호'], [100, 87, 91, '이호준'], [33, 88, 100, '홍길동']]"
            ]
          },
          "metadata": {},
          "execution_count": 104
        }
      ]
    },
    {
      "cell_type": "code",
      "source": [
        "# 평균 점수가 가장 높은 순으로 정렬\n",
        "s = [[100, 87, 91, '이호준'],\n",
        " [56, 38, 89, '이준호'],\n",
        "  [33, 88, 100, '홍길동']]\n",
        "\n",
        "def f(x):\n",
        "    return x[0] + x[1] + x[2]\n",
        "\n",
        "sorted(s, key=f)\n",
        "sorted(s, key=f, reverse=True)"
      ],
      "metadata": {
        "colab": {
          "base_uri": "https://localhost:8080/"
        },
        "id": "D_YDLoV1vPcG",
        "outputId": "2a7182d5-883e-4948-cb22-7a663129e526"
      },
      "execution_count": 106,
      "outputs": [
        {
          "output_type": "execute_result",
          "data": {
            "text/plain": [
              "[[100, 87, 91, '이호준'], [33, 88, 100, '홍길동'], [56, 38, 89, '이준호']]"
            ]
          },
          "metadata": {},
          "execution_count": 106
        }
      ]
    },
    {
      "cell_type": "markdown",
      "source": [
        "# 2. 튜플\n",
        "- 순서가 있는 자료형입니다.(인덱싱, 슬라이싱)\n",
        "- 참조 변경 불가 (값 변경 불가 X)"
      ],
      "metadata": {
        "id": "lChtEY5TAP4u"
      }
    },
    {
      "cell_type": "code",
      "source": [
        "t = (10, 20, 30) # 소괄호"
      ],
      "metadata": {
        "id": "Zk8PIIzZATER"
      },
      "execution_count": 107,
      "outputs": []
    },
    {
      "cell_type": "code",
      "source": [
        "# 인덱싱, 슬라이싱은 가능\n",
        "print(t[0])\n",
        "print(t[1:])"
      ],
      "metadata": {
        "colab": {
          "base_uri": "https://localhost:8080/"
        },
        "id": "uGXjKmJbCu76",
        "outputId": "068f183b-55ff-4b52-eba3-46bd582b18e2"
      },
      "execution_count": 110,
      "outputs": [
        {
          "output_type": "stream",
          "name": "stdout",
          "text": [
            "10\n",
            "(20, 30)\n"
          ]
        }
      ]
    },
    {
      "cell_type": "code",
      "source": [
        "t[1:]"
      ],
      "metadata": {
        "colab": {
          "base_uri": "https://localhost:8080/"
        },
        "id": "38JhcYu2DAF4",
        "outputId": "f41bfc40-0a50-44ce-eed7-de66a475c60c"
      },
      "execution_count": 109,
      "outputs": [
        {
          "output_type": "execute_result",
          "data": {
            "text/plain": [
              "(20, 30)"
            ]
          },
          "metadata": {},
          "execution_count": 109
        }
      ]
    },
    {
      "cell_type": "markdown",
      "source": [
        "1. **왜 이런 자료형이 필요할까?**\n",
        "- 권한과 변경 불가(시큐어 코딩), 형태 고정인 자료형(딕셔너리와 같은 것)\n",
        "- 내부자 소행인 경우가 가장 많습니다.(사회공학적 해킹)\n",
        "2. **변경이 불가능한데 왜 '값 변경이 불가하다고 얘기하면, 이것은 틀린 얘기다.'라고 얘기했을까?**"
      ],
      "metadata": {
        "id": "lcXzzkMhDBMa"
      }
    },
    {
      "cell_type": "code",
      "source": [
        "a = [10, 20, 30]\n",
        "b = (a, 100, 200)\n",
        "b"
      ],
      "metadata": {
        "colab": {
          "base_uri": "https://localhost:8080/"
        },
        "id": "P4G0AFrbDkx3",
        "outputId": "6c82e59e-c622-48fe-efeb-5af2cb93be24"
      },
      "execution_count": 111,
      "outputs": [
        {
          "output_type": "execute_result",
          "data": {
            "text/plain": [
              "([10, 20, 30], 100, 200)"
            ]
          },
          "metadata": {},
          "execution_count": 111
        }
      ]
    },
    {
      "cell_type": "code",
      "source": [
        "# 참조값을 사용한 변경은 가능\n",
        "a[0] = 1000\n",
        "b"
      ],
      "metadata": {
        "colab": {
          "base_uri": "https://localhost:8080/"
        },
        "id": "XUwKuQUJFXKV",
        "outputId": "ec881acd-d397-4686-8c16-5cbd170e0a75"
      },
      "execution_count": 114,
      "outputs": [
        {
          "output_type": "execute_result",
          "data": {
            "text/plain": [
              "([1000, 20, 30], 100, 200)"
            ]
          },
          "metadata": {},
          "execution_count": 114
        }
      ]
    },
    {
      "cell_type": "code",
      "source": [
        "t = (10, 20, 30)\n",
        "dir(t)"
      ],
      "metadata": {
        "id": "wL2Na9aTFZye"
      },
      "execution_count": null,
      "outputs": []
    },
    {
      "cell_type": "code",
      "source": [
        "t.count(10) # 10의 개수를 반환\n",
        "t.index(10) # 10의 위치를 반환"
      ],
      "metadata": {
        "colab": {
          "base_uri": "https://localhost:8080/"
        },
        "id": "FS3PLwdkF5rW",
        "outputId": "85873c47-6fb1-4cad-9e6e-332f14c13bdf"
      },
      "execution_count": 117,
      "outputs": [
        {
          "output_type": "execute_result",
          "data": {
            "text/plain": [
              "0"
            ]
          },
          "metadata": {},
          "execution_count": 117
        }
      ]
    },
    {
      "cell_type": "code",
      "source": [
        "# 형변환\n",
        "# tuple(순회 가능한 객체)\n",
        "# list(순회 가능한 객체)\n",
        "\n",
        "tuple('hello world')"
      ],
      "metadata": {
        "colab": {
          "base_uri": "https://localhost:8080/"
        },
        "id": "enozjkVxGMw5",
        "outputId": "78ae6be5-5f70-499e-f3df-d22b045dca8d"
      },
      "execution_count": 119,
      "outputs": [
        {
          "output_type": "execute_result",
          "data": {
            "text/plain": [
              "('h', 'e', 'l', 'l', 'o', ' ', 'w', 'o', 'r', 'l', 'd')"
            ]
          },
          "metadata": {},
          "execution_count": 119
        }
      ]
    },
    {
      "cell_type": "markdown",
      "source": [
        "# 3. 딕셔너리\n",
        "- Python 3.6 버전 이상은 순서가 보장된다.\n",
        "- 실무에서의 Python 버전은 생각보다 낮다. 이 점을 주의해야합니다.  \n",
        "(ex: 요기요 -> Django 1.x 사용중)\n",
        "- `key: value`쌍으로 이뤄져 있다.\n",
        "- 딕셔너리 데이터 검색은 매우 빠르다.\n",
        "- 딕셔너리 사용은 주의를 요함. 딕셔너리는 key가 없는 것을 호출하면 error가 난다."
      ],
      "metadata": {
        "id": "KicO7NnzGBbZ"
      }
    },
    {
      "cell_type": "code",
      "source": [
        "d = {'one': '하나', 'two': '둘'}\n",
        "d['one']"
      ],
      "metadata": {
        "colab": {
          "base_uri": "https://localhost:8080/",
          "height": 36
        },
        "id": "NiOj4eW4GDhK",
        "outputId": "321913a2-e801-4f49-f913-607ef9319cdb"
      },
      "execution_count": 121,
      "outputs": [
        {
          "output_type": "execute_result",
          "data": {
            "text/plain": [
              "'하나'"
            ],
            "application/vnd.google.colaboratory.intrinsic+json": {
              "type": "string"
            }
          },
          "metadata": {},
          "execution_count": 121
        }
      ]
    },
    {
      "cell_type": "code",
      "source": [
        "# d['three']  # 에러"
      ],
      "metadata": {
        "id": "zl_CgpWbIICH"
      },
      "execution_count": 122,
      "outputs": []
    },
    {
      "cell_type": "code",
      "source": [
        "d.get('three')  # get 메서드를 사용하는것은 권장!"
      ],
      "metadata": {
        "id": "VgBrnmSWIfLi"
      },
      "execution_count": 123,
      "outputs": []
    },
    {
      "cell_type": "code",
      "source": [
        "d.get('three', '없는 값입니다!')"
      ],
      "metadata": {
        "colab": {
          "base_uri": "https://localhost:8080/",
          "height": 36
        },
        "id": "vJRfOtXzIkfN",
        "outputId": "325d0a39-cc93-4e26-e5a0-6c0c7986e7f9"
      },
      "execution_count": 124,
      "outputs": [
        {
          "output_type": "execute_result",
          "data": {
            "text/plain": [
              "'없는 값입니다!'"
            ],
            "application/vnd.google.colaboratory.intrinsic+json": {
              "type": "string"
            }
          },
          "metadata": {},
          "execution_count": 124
        }
      ]
    },
    {
      "cell_type": "code",
      "source": [
        "# 실무용 코드\n",
        "def f(x):\n",
        "    return {\n",
        "            0: '일요일',\n",
        "            1: '월요일',\n",
        "            2: '화요일',\n",
        "            3: '수요일',\n",
        "            4: '목요일',\n",
        "            5: '금요일',\n",
        "            6: '토요일',\n",
        "        }.get(x, '요일없음')\n",
        "\n",
        "f(3)"
      ],
      "metadata": {
        "colab": {
          "base_uri": "https://localhost:8080/",
          "height": 36
        },
        "id": "8XMHgWwPIo79",
        "outputId": "e33ba1d9-9f56-402d-9635-6f838e66691f"
      },
      "execution_count": 129,
      "outputs": [
        {
          "output_type": "execute_result",
          "data": {
            "text/plain": [
              "'수요일'"
            ],
            "application/vnd.google.colaboratory.intrinsic+json": {
              "type": "string"
            }
          },
          "metadata": {},
          "execution_count": 129
        }
      ]
    },
    {
      "cell_type": "code",
      "source": [
        "# match 문법이 나오기 전까지 많이 사용했었음.\n",
        "# 지금도 많이 사용하는 문법\n",
        "# match 문법은 이런 문법이 있는지 모르는 시니어 분들도 많음.\n",
        "x = 3\n",
        "\n",
        "y = {\n",
        "    0: '일요일',\n",
        "    1: '월요일',\n",
        "    2: '화요일',\n",
        "    3: '수요일',\n",
        "    4: '목요일',\n",
        "    5: '금요일',\n",
        "    6: '토요일',\n",
        "}\n",
        "\n",
        "y.get(x, '요일없음')"
      ],
      "metadata": {
        "colab": {
          "base_uri": "https://localhost:8080/",
          "height": 36
        },
        "id": "UQXffiXvJPY6",
        "outputId": "05f1b5fc-b087-44aa-b486-b9bafca2a709"
      },
      "execution_count": 130,
      "outputs": [
        {
          "output_type": "execute_result",
          "data": {
            "text/plain": [
              "'수요일'"
            ],
            "application/vnd.google.colaboratory.intrinsic+json": {
              "type": "string"
            }
          },
          "metadata": {},
          "execution_count": 130
        }
      ]
    },
    {
      "cell_type": "code",
      "source": [
        "!python --version"
      ],
      "metadata": {
        "colab": {
          "base_uri": "https://localhost:8080/"
        },
        "id": "bpy0pmX7J4v3",
        "outputId": "9c90759c-6595-4554-fc60-d919ba07264d"
      },
      "execution_count": 131,
      "outputs": [
        {
          "output_type": "stream",
          "name": "stdout",
          "text": [
            "Python 3.10.12\n"
          ]
        }
      ]
    },
    {
      "cell_type": "code",
      "source": [
        "dir(d)"
      ],
      "metadata": {
        "id": "2PIGVjUrJ68o"
      },
      "execution_count": null,
      "outputs": []
    },
    {
      "cell_type": "code",
      "source": [
        "'clear',\n",
        "'copy',\n",
        "'fromkeys',\n",
        "'get',\n",
        "'items',\n",
        "'keys',\n",
        "'pop',\n",
        "'popitem',\n",
        "'setdefault',\n",
        "'update',\n",
        "'values'"
      ],
      "metadata": {
        "id": "QBHeTKBDJ8ep"
      },
      "execution_count": null,
      "outputs": []
    },
    {
      "cell_type": "code",
      "source": [
        "# 실제로 이와 같은 key: value의 쌍을 게시물 저장하는 형태 등으로 사용한다.\n",
        "\n",
        "게시물1 = {\n",
        "    'title': '파이썬이 이렇게 어려울 줄이야!?',\n",
        "    'contents': '파이썬을 깊게 알아갈 수록 넘 신기방기!',\n",
        "    'author': '지민경',\n",
        "    'image': '',\n",
        "}\n",
        "게시물1['contents']"
      ],
      "metadata": {
        "colab": {
          "base_uri": "https://localhost:8080/",
          "height": 36
        },
        "id": "rhX_TDQ8KHFo",
        "outputId": "95fb180d-3e6a-47cd-e10f-61979e3e3dd5"
      },
      "execution_count": 135,
      "outputs": [
        {
          "output_type": "execute_result",
          "data": {
            "text/plain": [
              "'파이썬을 깊게 알아갈 수록 넘 신기방기!'"
            ],
            "application/vnd.google.colaboratory.intrinsic+json": {
              "type": "string"
            }
          },
          "metadata": {},
          "execution_count": 135
        }
      ]
    },
    {
      "cell_type": "code",
      "source": [
        "d = {'one': '하나', 'two': '둘'}\n",
        "dd = d\n",
        "\n",
        "id(dd), id(d)\n",
        "dd is d\n",
        "\n",
        "d['one'] = 'python'\n",
        "d['two'] = 'html'\n",
        "\n",
        "d, dd"
      ],
      "metadata": {
        "colab": {
          "base_uri": "https://localhost:8080/"
        },
        "id": "mBq89gPOKOew",
        "outputId": "7781b669-c94c-4ee2-ffd7-b7c99cdf0c63"
      },
      "execution_count": 137,
      "outputs": [
        {
          "output_type": "execute_result",
          "data": {
            "text/plain": [
              "({'one': 'python', 'two': 'html'}, {'one': 'python', 'two': 'html'})"
            ]
          },
          "metadata": {},
          "execution_count": 137
        }
      ]
    },
    {
      "cell_type": "code",
      "source": [
        "d = {'one': '하나', 'two': '둘'}\n",
        "dd = d.copy()\n",
        "\n",
        "id(dd), id(d)\n",
        "dd is d\n",
        "\n",
        "d['one'] = 'python'\n",
        "d['two'] = 'html'\n",
        "\n",
        "d, dd"
      ],
      "metadata": {
        "colab": {
          "base_uri": "https://localhost:8080/"
        },
        "id": "CCRQWwwnNxwz",
        "outputId": "13f4377d-f893-4c37-ed5a-f40f5b7b20ec"
      },
      "execution_count": 138,
      "outputs": [
        {
          "output_type": "execute_result",
          "data": {
            "text/plain": [
              "({'one': 'python', 'two': 'html'}, {'one': '하나', 'two': '둘'})"
            ]
          },
          "metadata": {},
          "execution_count": 138
        }
      ]
    },
    {
      "cell_type": "markdown",
      "source": [
        "copy를 하게 되면 id값이 바뀐다!"
      ],
      "metadata": {
        "id": "87vA_LP5N5tB"
      }
    },
    {
      "cell_type": "code",
      "source": [
        "# 자주 사용하지 않습니다.\n",
        "\n",
        "d = ('one', 'two', 'three')\n",
        "print(dict.fromkeys(d))\n",
        "print(dict.fromkeys(d, 'hello world'))"
      ],
      "metadata": {
        "colab": {
          "base_uri": "https://localhost:8080/"
        },
        "id": "uGjaG47AOBWf",
        "outputId": "9334b4d6-fa19-4264-eead-dea9b58175cb"
      },
      "execution_count": 140,
      "outputs": [
        {
          "output_type": "stream",
          "name": "stdout",
          "text": [
            "{'one': None, 'two': None, 'three': None}\n",
            "{'one': 'hello world', 'two': 'hello world', 'three': 'hello world'}\n"
          ]
        }
      ]
    },
    {
      "cell_type": "code",
      "source": [
        "# 매우 자주 사용하고 권고합니다.\n",
        "\n",
        "d = {'one': '하나', 'two': '둘'}\n",
        "d.get('one')\n",
        "d.get('three', '값 없음!')"
      ],
      "metadata": {
        "colab": {
          "base_uri": "https://localhost:8080/",
          "height": 36
        },
        "id": "9O6SrpUbOOtd",
        "outputId": "e9619225-1b58-498c-8685-0e659dae588b"
      },
      "execution_count": 141,
      "outputs": [
        {
          "output_type": "execute_result",
          "data": {
            "text/plain": [
              "'값 없음!'"
            ],
            "application/vnd.google.colaboratory.intrinsic+json": {
              "type": "string"
            }
          },
          "metadata": {},
          "execution_count": 141
        }
      ]
    },
    {
      "cell_type": "code",
      "source": [
        "d = {'one': '하나', 'two': '둘'}\n",
        "d.items()"
      ],
      "metadata": {
        "colab": {
          "base_uri": "https://localhost:8080/"
        },
        "id": "Z2FxyI7QOqG1",
        "outputId": "3c0397f0-5af0-4f38-e167-94c7c06e108f"
      },
      "execution_count": 142,
      "outputs": [
        {
          "output_type": "execute_result",
          "data": {
            "text/plain": [
              "dict_items([('one', '하나'), ('two', '둘')])"
            ]
          },
          "metadata": {},
          "execution_count": 142
        }
      ]
    },
    {
      "cell_type": "code",
      "source": [
        "d = {'one': '하나', 'two': '둘'}\n",
        "d.items()[0] # 에러\n",
        "d.items()[1:] # 에러"
      ],
      "metadata": {
        "id": "m--T00zXOtUY"
      },
      "execution_count": null,
      "outputs": []
    },
    {
      "cell_type": "code",
      "source": [
        "a , b = d.items() # 언패킹\n",
        "print(a)\n",
        "print(b)"
      ],
      "metadata": {
        "colab": {
          "base_uri": "https://localhost:8080/"
        },
        "id": "JYu2xNCrPh0Y",
        "outputId": "ea3b6707-c4a9-48c3-fa52-006284c48719"
      },
      "execution_count": 143,
      "outputs": [
        {
          "output_type": "stream",
          "name": "stdout",
          "text": [
            "('one', '하나')\n",
            "('two', '둘')\n"
          ]
        }
      ]
    },
    {
      "cell_type": "code",
      "source": [
        "# keep만 해두세요. 반복문을 안배웠어요.\n",
        "for i, j in d.items():\n",
        "    print(i, j)"
      ],
      "metadata": {
        "colab": {
          "base_uri": "https://localhost:8080/"
        },
        "id": "0pRzRXUzPmOM",
        "outputId": "cf8282ce-32ff-4df3-e7d4-a008cfcc49d0"
      },
      "execution_count": 144,
      "outputs": [
        {
          "output_type": "stream",
          "name": "stdout",
          "text": [
            "one 하나\n",
            "two 둘\n"
          ]
        }
      ]
    },
    {
      "cell_type": "code",
      "source": [
        "print(d.keys())\n",
        "print(d.values())"
      ],
      "metadata": {
        "colab": {
          "base_uri": "https://localhost:8080/"
        },
        "id": "2D8bcgvZPyrT",
        "outputId": "3c9dda04-dcdd-4708-8db8-44712ac5e38d"
      },
      "execution_count": 145,
      "outputs": [
        {
          "output_type": "stream",
          "name": "stdout",
          "text": [
            "dict_keys(['one', 'two'])\n",
            "dict_values(['하나', '둘'])\n"
          ]
        }
      ]
    },
    {
      "cell_type": "code",
      "source": [
        "d = {'one': '하나', 'two': '둘'}\n",
        "d.setdefault('one')\n",
        "# 없는 값을 써주면 생성된다.\n",
        "d.setdefault('three')\n",
        "# 있으면 그 값을 출력하고, 없으면 그 값을 삽입하고 4를 출력해줘!\n",
        "d.setdefault('four', 4)\n",
        "d"
      ],
      "metadata": {
        "colab": {
          "base_uri": "https://localhost:8080/"
        },
        "id": "CxTgET0dP-dV",
        "outputId": "53650628-72fd-4200-8fd7-287719ed486d"
      },
      "execution_count": 148,
      "outputs": [
        {
          "output_type": "execute_result",
          "data": {
            "text/plain": [
              "{'one': '하나', 'two': '둘', 'three': None, 'four': 4}"
            ]
          },
          "metadata": {},
          "execution_count": 148
        }
      ]
    },
    {
      "cell_type": "code",
      "source": [
        "d = {'one': '하나', 'two': '둘'}\n",
        "d.pop('one')\n",
        "d"
      ],
      "metadata": {
        "colab": {
          "base_uri": "https://localhost:8080/"
        },
        "id": "ZSM2EMjTQSaR",
        "outputId": "87274e55-95ff-4482-90d1-fe2f62d583b3"
      },
      "execution_count": 149,
      "outputs": [
        {
          "output_type": "execute_result",
          "data": {
            "text/plain": [
              "{'two': '둘'}"
            ]
          },
          "metadata": {},
          "execution_count": 149
        }
      ]
    },
    {
      "cell_type": "code",
      "source": [
        "d = {'one': '하나', 'two': '둘'}\n",
        "d.pop()  # 에러\n",
        "d.pop('three')  # 에러\n",
        "d"
      ],
      "metadata": {
        "id": "sbXgzzFpQ5XH"
      },
      "execution_count": null,
      "outputs": []
    },
    {
      "cell_type": "code",
      "source": [
        "d = {'one': '하나', 'two': '둘'}\n",
        "# 나온지 얼마 되지 않음. # 없는 코드를 많이 보게 될겁니다.\n",
        "d.popitem()"
      ],
      "metadata": {
        "colab": {
          "base_uri": "https://localhost:8080/"
        },
        "id": "mtXNVFM8RJ5P",
        "outputId": "c5b2a3f7-3b85-4056-ff2f-030f099b0bcd"
      },
      "execution_count": 151,
      "outputs": [
        {
          "output_type": "execute_result",
          "data": {
            "text/plain": [
              "('two', '둘')"
            ]
          },
          "metadata": {},
          "execution_count": 151
        }
      ]
    },
    {
      "cell_type": "code",
      "source": [
        "d = {'one': '하나', 'two': '둘'}\n",
        "# one은 수정, three는 생성이 된다.\n",
        "d.update({'one': 'python', 'three': 'hello'})\n",
        "d"
      ],
      "metadata": {
        "colab": {
          "base_uri": "https://localhost:8080/"
        },
        "id": "i7OQcjQiRMmj",
        "outputId": "a9d0adf6-103d-4813-932b-fa25de56e5da"
      },
      "execution_count": 153,
      "outputs": [
        {
          "output_type": "execute_result",
          "data": {
            "text/plain": [
              "{'one': 'python', 'two': '둘', 'three': 'hello'}"
            ]
          },
          "metadata": {},
          "execution_count": 153
        }
      ]
    },
    {
      "cell_type": "code",
      "source": [
        "# 신규문법! (3.9)\n",
        "d = {'one': '하나', 'two': '둘'}\n",
        "dd = {'three': '셋'}\n",
        "\n",
        "# d + dd => 에러\n",
        "d | dd # 책 사서 봐도 잘 안나오는 문법임!"
      ],
      "metadata": {
        "colab": {
          "base_uri": "https://localhost:8080/"
        },
        "id": "q67i3U37RrVT",
        "outputId": "e926492a-b8e6-4419-b191-9ce5b43be348"
      },
      "execution_count": 154,
      "outputs": [
        {
          "output_type": "execute_result",
          "data": {
            "text/plain": [
              "{'one': '하나', 'two': '둘', 'three': '셋'}"
            ]
          },
          "metadata": {},
          "execution_count": 154
        }
      ]
    },
    {
      "cell_type": "code",
      "source": [
        "d = {'one': '하나', 'two': '둘'}\n",
        "dd = {'one': 'python', 'three': '셋'}\n",
        "d | dd"
      ],
      "metadata": {
        "colab": {
          "base_uri": "https://localhost:8080/"
        },
        "id": "LuJ3a3CLSME8",
        "outputId": "538fa982-f9f2-48f0-a953-a1946a4462e5"
      },
      "execution_count": 155,
      "outputs": [
        {
          "output_type": "execute_result",
          "data": {
            "text/plain": [
              "{'one': 'python', 'two': '둘', 'three': '셋'}"
            ]
          },
          "metadata": {},
          "execution_count": 155
        }
      ]
    },
    {
      "cell_type": "markdown",
      "source": [
        "# 4. 셋\n",
        "- 중복을 허락하지 않는 자료형\n",
        "- 순서가 없는 자료형이다.\n",
        "- 집합(합집합, 차집합, 교집합)\n",
        "- 잘 안쓴다.  \n",
        "알고리즘 풀 때나 사용하고, 실무에서도 잘 안쓴다고 함."
      ],
      "metadata": {
        "id": "-tyCLmgySUKT"
      }
    },
    {
      "cell_type": "code",
      "source": [
        "s = {1, 2, 3, 4, 5}\n",
        "ss = {3, 4, 5, 6, 7}\n",
        "\n",
        "# s + ss  # 에러\n",
        "s | ss # 합집합\n",
        "s - ss # 차집합\n",
        "s & ss # 교집합"
      ],
      "metadata": {
        "colab": {
          "base_uri": "https://localhost:8080/"
        },
        "id": "9tB_u649S6kc",
        "outputId": "08c11f5f-91cd-4b75-8fd7-c155bde79b64"
      },
      "execution_count": 156,
      "outputs": [
        {
          "output_type": "execute_result",
          "data": {
            "text/plain": [
              "{3, 4, 5}"
            ]
          },
          "metadata": {},
          "execution_count": 156
        }
      ]
    },
    {
      "cell_type": "markdown",
      "source": [
        "`dir()`해봤을때 `'__iter__'`가 있어야 순회가능한 객체라는 소리임."
      ],
      "metadata": {
        "id": "pkmHNVPITieP"
      }
    },
    {
      "cell_type": "code",
      "source": [
        "s.add(10)\n",
        "s"
      ],
      "metadata": {
        "colab": {
          "base_uri": "https://localhost:8080/"
        },
        "id": "Ud2ajAVZTst2",
        "outputId": "0e6f8e28-d7d4-437f-cbcb-2f99bac81635"
      },
      "execution_count": 157,
      "outputs": [
        {
          "output_type": "execute_result",
          "data": {
            "text/plain": [
              "{1, 2, 3, 4, 5, 10}"
            ]
          },
          "metadata": {},
          "execution_count": 157
        }
      ]
    },
    {
      "cell_type": "code",
      "source": [
        "s.difference(ss) # 차집합"
      ],
      "metadata": {
        "colab": {
          "base_uri": "https://localhost:8080/"
        },
        "id": "rm6poWCMT9_z",
        "outputId": "4810cade-9de8-4212-c626-98aaf21e5ba4"
      },
      "execution_count": 158,
      "outputs": [
        {
          "output_type": "execute_result",
          "data": {
            "text/plain": [
              "{1, 2, 10}"
            ]
          },
          "metadata": {},
          "execution_count": 158
        }
      ]
    },
    {
      "cell_type": "code",
      "source": [
        "s.intersection(ss) # 교집합"
      ],
      "metadata": {
        "colab": {
          "base_uri": "https://localhost:8080/"
        },
        "id": "Ceo-f7uxUT6A",
        "outputId": "7bd69645-d3a3-47fc-f9b3-dc084abb59d0"
      },
      "execution_count": 159,
      "outputs": [
        {
          "output_type": "execute_result",
          "data": {
            "text/plain": [
              "{3, 4, 5}"
            ]
          },
          "metadata": {},
          "execution_count": 159
        }
      ]
    },
    {
      "cell_type": "code",
      "source": [
        "s.union(ss) # 합집합"
      ],
      "metadata": {
        "colab": {
          "base_uri": "https://localhost:8080/"
        },
        "id": "YTEDRFG6UWqR",
        "outputId": "f6562be4-d71f-4dec-b1d8-0917fd342ee6"
      },
      "execution_count": 160,
      "outputs": [
        {
          "output_type": "execute_result",
          "data": {
            "text/plain": [
              "{1, 2, 3, 4, 5, 6, 7, 10}"
            ]
          },
          "metadata": {},
          "execution_count": 160
        }
      ]
    },
    {
      "cell_type": "code",
      "source": [
        "# 중복을 제거하고 싶다?\n",
        "set('123123123')\n",
        "\n",
        "# 중복을 제거하고 더하고싶다.\n",
        "# map은 너무나 중요해서 앞으로 반복해서 할거임.\n",
        "sum(map(int, set('123123123')))"
      ],
      "metadata": {
        "colab": {
          "base_uri": "https://localhost:8080/"
        },
        "id": "1p1mf591UYuV",
        "outputId": "6a174ed0-34ff-44e3-dbe3-f33bdce9de7e"
      },
      "execution_count": 161,
      "outputs": [
        {
          "output_type": "execute_result",
          "data": {
            "text/plain": [
              "6"
            ]
          },
          "metadata": {},
          "execution_count": 161
        }
      ]
    },
    {
      "cell_type": "code",
      "source": [
        "map(int, set('123123123'))\n",
        "# {'1,' '2,' '3'} => {1, 2, 3}\n",
        "# 근데 map으로만 출력하면 값이 이상하게 나옴."
      ],
      "metadata": {
        "colab": {
          "base_uri": "https://localhost:8080/"
        },
        "id": "O9_oyyriVIRP",
        "outputId": "45c7b788-d612-4ad0-e783-5730682905fa"
      },
      "execution_count": 166,
      "outputs": [
        {
          "output_type": "execute_result",
          "data": {
            "text/plain": [
              "<map at 0x79b7e57a4820>"
            ]
          },
          "metadata": {},
          "execution_count": 166
        }
      ]
    },
    {
      "cell_type": "markdown",
      "source": [
        "## 4.1 sum"
      ],
      "metadata": {
        "id": "foP-XBs7XNqZ"
      }
    },
    {
      "cell_type": "markdown",
      "source": [
        "`sum(순회가능한객체, 초기값)`"
      ],
      "metadata": {
        "id": "ZOa52nq7VugJ"
      }
    },
    {
      "cell_type": "code",
      "source": [
        "print(sum({10, 20, 30}))\n",
        "# print(sum(10, 20, 30)) # 에러\n",
        "print(sum([10, 20, 30], 100))"
      ],
      "metadata": {
        "colab": {
          "base_uri": "https://localhost:8080/"
        },
        "id": "Xglwiq6xWSUS",
        "outputId": "95c3c0a8-4b54-471f-957c-b90f54c9d0f6"
      },
      "execution_count": 168,
      "outputs": [
        {
          "output_type": "stream",
          "name": "stdout",
          "text": [
            "60\n",
            "160\n"
          ]
        }
      ]
    },
    {
      "cell_type": "code",
      "source": [
        "sum([[10, 20], [30, 40], [50, 60]], []) # 평탄화 작업\n",
        "# [] + [10, 20] == [10, 20]\n",
        "# [10, 20] + [30, 40] == []"
      ],
      "metadata": {
        "colab": {
          "base_uri": "https://localhost:8080/"
        },
        "id": "W2DXJM8VWX8T",
        "outputId": "7012e7ef-9f77-4117-a681-53842305ed3c"
      },
      "execution_count": 169,
      "outputs": [
        {
          "output_type": "execute_result",
          "data": {
            "text/plain": [
              "[10, 20, 30, 40, 50, 60]"
            ]
          },
          "metadata": {},
          "execution_count": 169
        }
      ]
    },
    {
      "cell_type": "markdown",
      "source": [
        "## 4.2 in"
      ],
      "metadata": {
        "id": "eBDyYaxqXDB7"
      }
    },
    {
      "cell_type": "code",
      "source": [
        "'h' in 'hello'"
      ],
      "metadata": {
        "colab": {
          "base_uri": "https://localhost:8080/"
        },
        "id": "VQahRn5lXRaX",
        "outputId": "8f99fce7-62a8-4f72-e05d-14944dc1059e"
      },
      "execution_count": 170,
      "outputs": [
        {
          "output_type": "execute_result",
          "data": {
            "text/plain": [
              "True"
            ]
          },
          "metadata": {},
          "execution_count": 170
        }
      ]
    },
    {
      "cell_type": "code",
      "source": [
        "x = 10\n",
        "x in [10, 20, 30, 40 ,50]"
      ],
      "metadata": {
        "colab": {
          "base_uri": "https://localhost:8080/"
        },
        "id": "qvscInn9XZdL",
        "outputId": "dd0c0d7c-3549-4e0f-d239-0195ddd8afb4"
      },
      "execution_count": 171,
      "outputs": [
        {
          "output_type": "execute_result",
          "data": {
            "text/plain": [
              "True"
            ]
          },
          "metadata": {},
          "execution_count": 171
        }
      ]
    },
    {
      "cell_type": "code",
      "source": [
        "x = [10, 20, 30]\n",
        "x in [[10, 20, 40], [10, 20, 30], [50, 40, 20]]"
      ],
      "metadata": {
        "colab": {
          "base_uri": "https://localhost:8080/"
        },
        "id": "GXOgKNSkXbq3",
        "outputId": "25a0b0c2-9fb2-4ff4-dc78-e389ff1c7b8e"
      },
      "execution_count": 172,
      "outputs": [
        {
          "output_type": "execute_result",
          "data": {
            "text/plain": [
              "True"
            ]
          },
          "metadata": {},
          "execution_count": 172
        }
      ]
    },
    {
      "cell_type": "code",
      "source": [
        "s = {1, 2, 3}\n",
        "1 in s"
      ],
      "metadata": {
        "colab": {
          "base_uri": "https://localhost:8080/"
        },
        "id": "M_6B0r69X0IX",
        "outputId": "68c487a9-a37b-440c-ee56-992704293df2"
      },
      "execution_count": 173,
      "outputs": [
        {
          "output_type": "execute_result",
          "data": {
            "text/plain": [
              "True"
            ]
          },
          "metadata": {},
          "execution_count": 173
        }
      ]
    },
    {
      "cell_type": "markdown",
      "source": [
        "# and, or, not 단락평가"
      ],
      "metadata": {
        "id": "W9rdiFo8YLYv"
      }
    },
    {
      "cell_type": "code",
      "source": [
        "1 and 100"
      ],
      "metadata": {
        "colab": {
          "base_uri": "https://localhost:8080/"
        },
        "id": "KSWWlAlsYOsX",
        "outputId": "32ae4668-496e-449c-e5c9-8c3741ad341c"
      },
      "execution_count": 174,
      "outputs": [
        {
          "output_type": "execute_result",
          "data": {
            "text/plain": [
              "100"
            ]
          },
          "metadata": {},
          "execution_count": 174
        }
      ]
    },
    {
      "cell_type": "code",
      "source": [
        "user_id = ''\n",
        "user_id = user_id or '아이디 없음'\n",
        "user_id"
      ],
      "metadata": {
        "colab": {
          "base_uri": "https://localhost:8080/",
          "height": 36
        },
        "id": "JykDhADMYTAB",
        "outputId": "9fc53008-f37a-404d-c5d1-7c8026704225"
      },
      "execution_count": 175,
      "outputs": [
        {
          "output_type": "execute_result",
          "data": {
            "text/plain": [
              "'아이디 없음'"
            ],
            "application/vnd.google.colaboratory.intrinsic+json": {
              "type": "string"
            }
          },
          "metadata": {},
          "execution_count": 175
        }
      ]
    },
    {
      "cell_type": "code",
      "source": [
        "user_id = 'frogy'\n",
        "user_id = user_id or '아이디 없음'\n",
        "user_id"
      ],
      "metadata": {
        "colab": {
          "base_uri": "https://localhost:8080/",
          "height": 36
        },
        "id": "6T_u095cYamQ",
        "outputId": "c09e0405-9f46-48e3-8505-7a1e6168a592"
      },
      "execution_count": 176,
      "outputs": [
        {
          "output_type": "execute_result",
          "data": {
            "text/plain": [
              "'frogy'"
            ],
            "application/vnd.google.colaboratory.intrinsic+json": {
              "type": "string"
            }
          },
          "metadata": {},
          "execution_count": 176
        }
      ]
    }
  ]
}