{
  "nbformat": 4,
  "nbformat_minor": 0,
  "metadata": {
    "colab": {
      "provenance": []
    },
    "kernelspec": {
      "name": "python3",
      "display_name": "Python 3"
    },
    "language_info": {
      "name": "python"
    }
  },
  "cells": [
    {
      "cell_type": "markdown",
      "source": [
        "```\n",
        "오늘 진행한 책 크롤링 코드를 이용하여 다음 요구사항을 만족하는 코드를 작성해주세요.\n",
        "\n",
        "1. 모든 텍스트는 앞, 뒤 공백이 제거된 텍스트여야 합니다.\n",
        "2. 가격은 int 형이어야 합니다.\n",
        "3. 저자는 앞에 '저자: '가 없어야 합니다.\n",
        "4. 가격을 달러로 바꿔주는 메서드를 작성해주세요.\n",
        "5. 할인 메서드를 작성해주세요. 할인율이 들어가면 변경되어야 합니다.\n",
        "5.1 object.discount(10) => 10프로 할인된 가격을 반환합니다.\n",
        "5.2 object.discount(0) => 0프로 할인된 가격을 반환합니다.\n",
        "```"
      ],
      "metadata": {
        "id": "yNUlyt_ve54G"
      }
    },
    {
      "cell_type": "code",
      "source": [
        "import requests\n",
        "from bs4 import BeautifulSoup\n",
        "\n",
        "response = requests.get('https://paullab.co.kr/bookservice/')\n",
        "soup = BeautifulSoup(response.text, 'html.parser')"
      ],
      "metadata": {
        "id": "ujd6791vfAkw"
      },
      "execution_count": 1,
      "outputs": []
    },
    {
      "cell_type": "code",
      "source": [
        "book_name = soup.select('.book_name')\n",
        "book_info = soup.select('.book_info')"
      ],
      "metadata": {
        "id": "we-eHCrIf9qh"
      },
      "execution_count": 2,
      "outputs": []
    },
    {
      "cell_type": "code",
      "source": [
        "books = []\n",
        "class Book:\n",
        "    def __init__(self, name='', price=0, author='', info=''):\n",
        "        self.name = name.strip()\n",
        "\n",
        "        price = price.replace('가격: ', '').replace('원', '').replace(',', '').strip()\n",
        "\n",
        "        if price == '무료':\n",
        "            self.price = 0\n",
        "        else:\n",
        "            self.price = int(price)\n",
        "        self.author = author.replace('저자: ','').strip()\n",
        "        self.info = info.strip()\n",
        "\n",
        "    def __str__(self):\n",
        "        return self.name\n",
        "\n",
        "    def __repr__(self):\n",
        "        return self.name\n",
        "\n",
        "    def discount(self, per):\n",
        "        discount = self.price - int(self.price * per * 0.01)\n",
        "        return discount\n",
        "\n",
        "    def exchange(self):\n",
        "        dollar = int(self.price * 0.00076)\n",
        "        return dollar\n",
        "\n",
        "for i, _ in enumerate(book_name):\n",
        "    books.append(Book(\n",
        "        book_name[i].text,\n",
        "        book_info[(i*3)].text,\n",
        "        book_info[(i*3)+1].text,\n",
        "        book_info[(i*3)+2].text,\n",
        "    ))\n",
        "\n",
        "print(books[0].name)\n",
        "print(books[0].price)\n",
        "print(books[0].author)\n",
        "print(books[0].info)"
      ],
      "metadata": {
        "colab": {
          "base_uri": "https://localhost:8080/"
        },
        "id": "EXNgsQaefGp2",
        "outputId": "ddca15f5-6a52-4dc5-d306-0eeccb9969e8"
      },
      "execution_count": 50,
      "outputs": [
        {
          "output_type": "stream",
          "name": "stdout",
          "text": [
            "메모혁신 Notion(노션) 활용 가이드\n",
            "7000\n",
            "이호준, 이준호, 김혜원, 김유진, 차경림, 김진, 현지연, 정승한\n",
            "Notion의 기본 사용 방법부터 Notion을 활용한 홈페이지 제작 방법까지 다양하게 다루고 있으며 특히 개발자가 원하는 Notion의 활용 방법을 다루고 있습니다.\n"
          ]
        }
      ]
    }
  ]
}