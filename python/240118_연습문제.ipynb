{
  "nbformat": 4,
  "nbformat_minor": 0,
  "metadata": {
    "colab": {
      "provenance": [],
      "authorship_tag": "ABX9TyO4eb12ZxOdAaYN6dNaKfvI",
      "include_colab_link": true
    },
    "kernelspec": {
      "name": "python3",
      "display_name": "Python 3"
    },
    "language_info": {
      "name": "python"
    }
  },
  "cells": [
    {
      "cell_type": "markdown",
      "metadata": {
        "id": "view-in-github",
        "colab_type": "text"
      },
      "source": [
        "<a href=\"https://colab.research.google.com/github/jiminkyung/orm/blob/main/python/240118_%EC%97%B0%EC%8A%B5%EB%AC%B8%EC%A0%9C.ipynb\" target=\"_parent\"><img src=\"https://colab.research.google.com/assets/colab-badge.svg\" alt=\"Open In Colab\"/></a>"
      ]
    },
    {
      "cell_type": "markdown",
      "source": [
        "# 문제 1: 이메일 주소 변경하기 (sub 사용)\n",
        "문제: 주어진 문자열에서 모든 이메일 주소를 user@weniv.co.kr으로 변경하시오.\n",
        "```\n",
        "예시 입력: \"저의 이메일 주소는 kim123@gmail.com입니다. 친구의 이메일 주소는 lee456@gmail.com입니다.\"\n",
        "예시 출력: \"저의 이메일 주소는 user@weniv.co.kr입니다. 친구의 이메일 주소는 user@weniv.co.kr입니다.\"\n",
        "\n",
        "힌트: 이메일 주소를 찾기 위한 정규표현식은 \\b[A-Za-z0-9._%+-]+@[A-Za-z0-9.-]+\\.[A-Z|a-z]{2,}\\b를 사용할 수 있습니다.\n",
        "```"
      ],
      "metadata": {
        "id": "2jtgIZwLc3z_"
      }
    },
    {
      "cell_type": "code",
      "source": [
        "import re\n",
        "\n",
        "emails = input(\"이메일 주소가 포함된 멘트를 작성해주세요: \")\n",
        "changed = re.sub(r'\\b[A-Za-z0-9._%+-]+@[A-Za-z0-9.-]+\\.[A-Z|a-z]{2,}\\b', 'user@weniv.co.kr', emails)\n",
        "\n",
        "print(\">>\", changed)"
      ],
      "metadata": {
        "colab": {
          "base_uri": "https://localhost:8080/"
        },
        "id": "ZWyLjV6SdBWA",
        "outputId": "3bf0f82b-76cb-4e95-c862-7eeff745fa01"
      },
      "execution_count": 7,
      "outputs": [
        {
          "output_type": "stream",
          "name": "stdout",
          "text": [
            "이메일 주소가 포함된 멘트를 작성해주세요: 하이루 내 이메일은 jimiiwhatttttttttt@gmail.com 이고 친구는 r.r%%+_@yahoo.com 이야.\n",
            ">> 하이루 내 이메일은 user@weniv.co.kr 이고 친구는 user@weniv.co.kr 이야.\n"
          ]
        }
      ]
    },
    {
      "cell_type": "markdown",
      "source": [
        "# 문제 2: HTML 태그 제거하기 (sub 사용)\n",
        "문제: 주어진 HTML 문자열에서 모든 HTML 태그를 제거하고 텍스트만 남기시오.\n",
        "```\n",
        "예시 입력: \"<p>이것은 <b>예시</b> 문장입니다.</p>\"\n",
        "예시 출력: \"이것은 예시 문장입니다.\"\n",
        "\n",
        "힌트: HTML 태그를 찾기 위한 정규표현식은 <[^>]+>를 사용할 수 있습니다.\n",
        "```"
      ],
      "metadata": {
        "id": "F7_TPwrWdRd3"
      }
    },
    {
      "cell_type": "code",
      "source": [
        "sentence = input(\"html태그가 포함된 문장을 입력해주세요: \")\n",
        "changed_s = re.sub('<[^>]+>', '', sentence)\n",
        "\n",
        "print(\">>\", changed_s)"
      ],
      "metadata": {
        "colab": {
          "base_uri": "https://localhost:8080/"
        },
        "id": "3_C4RcgQdVdK",
        "outputId": "10b9038c-6705-4013-c30c-25c54c9c21b9"
      },
      "execution_count": 8,
      "outputs": [
        {
          "output_type": "stream",
          "name": "stdout",
          "text": [
            "html태그가 포함된 문장을 입력해주세요: \"<p>이것은 <b>예시</b> 문장입니다.</p>\"\n",
            ">> \"이것은 예시 문장입니다.\"\n"
          ]
        }
      ]
    }
  ]
}